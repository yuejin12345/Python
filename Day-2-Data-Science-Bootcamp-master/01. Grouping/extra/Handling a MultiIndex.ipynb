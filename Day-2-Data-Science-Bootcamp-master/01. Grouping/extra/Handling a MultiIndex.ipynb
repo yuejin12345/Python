{
 "cells": [
  {
   "cell_type": "markdown",
   "metadata": {},
   "source": [
    "# Handling a MultiIndex\n",
    "\n",
    "### Objectives\n",
    "After this lesson you should be able to...\n",
    "+ Identify a MultiIndex DataFrame\n",
    "+ Identify all the components of a MultiIndex - the number of **levels**, the **name** of each and the **values** (or **labels**) of each level.\n",
    "+ Know that all index levels have names. If it isn't displayed it is **None**\n",
    "+ Know that index levels have integer locations beginning at 0 from the left/top\n",
    "+ Know that repeated level values in the outer levels do not repeat when not necessary\n",
    "+ Use the **`reset_index`** method to move all or a specific levels from the index to columns\n",
    "+ Use the **`rename_axis`** method to change all level names\n",
    "+ Rename columns with a hand-created list\n",
    "+ Remove a level from a MultiIndex with the **droplevel** method\n",
    "+ Retrieve level values with the **`get_level_values`** method and use it to concatenate levels together\n",
    "### Prepare for this lesson by\n",
    "\n",
    "+ Read the pandas [split apply combine documentation](http://pandas.pydata.org/pandas-docs/stable/groupby.html) stopping at 'transformation'.\n",
    "\n",
    "### Introduction\n",
    "\n",
    "We looked at many different ways of aggregating in the last notebook. pandas puts the grouping columns into the index which creates an index with multiple levels called a MultiIndex. pandas will also put the aggregating columns into a MultiIndex if different columns get applied different aggregating functions. This section will teach you a few basic things about MultiIndex DataFrames and how to turn them back into normal indexes to make your life easier."
   ]
  },
  {
   "cell_type": "code",
   "execution_count": null,
   "metadata": {},
   "outputs": [],
   "source": [
    "import pandas as pd\n",
    "import numpy as np"
   ]
  },
  {
   "cell_type": "markdown",
   "metadata": {},
   "source": [
    "### MultiIndex DataFrames\n",
    "Many of the groupby statements in the last notebook created DataFrames with multiple **levels**. These are called MultiIndexes and they are a bit annoying to deal with. A **`MultiIndex`** can be part of the index or the columns. The below DataFrame has an index with 3 levels and columns with a single level.\n",
    "\n",
    "All index levels have a **name**. The name is important and is one way to access the level. Row index levels have their names directly above them. They look like column names but they are not. Column levels are placed directly to the left of them.\n",
    "\n",
    "The name of the column level below is None and so nothing is displayed for it. Index levels also have integers that represent them from 0 to n-1 where n is number of levels. The numbering begins from the 'outside' - that is from the left for the rows and from the top for the columns.\n",
    "\n",
    "The level **values** (or **labels**) only repeat when necessary. Each row of data still has a value for each of the levels but it isn't displayed for the outer MultiIndex levels."
   ]
  },
  {
   "cell_type": "markdown",
   "metadata": {},
   "source": [
    "![](images/DataFrame Explained.png)"
   ]
  },
  {
   "cell_type": "code",
   "execution_count": null,
   "metadata": {},
   "outputs": [],
   "source": [
    "import pandas as pd\n",
    "import numpy as np"
   ]
  },
  {
   "cell_type": "markdown",
   "metadata": {},
   "source": [
    "# Alleviating the MultiIndex\n",
    "For beginners multiindexes are a pain to deal with and make selection difficult. This next section covers how to turn them back into normal indexes without losing information."
   ]
  },
  {
   "cell_type": "code",
   "execution_count": null,
   "metadata": {},
   "outputs": [],
   "source": [
    "college = pd.read_csv('../../data/college.csv')"
   ]
  },
  {
   "cell_type": "code",
   "execution_count": null,
   "metadata": {},
   "outputs": [],
   "source": [
    "college_summary = college.groupby(['STABBR', 'RELAFFIL'])['UGDS', 'SATMTMID'].agg(['size', 'min', 'max']).head(12)\n",
    "college_summary"
   ]
  },
  {
   "cell_type": "markdown",
   "metadata": {},
   "source": [
    "Verify that both index and columns are MultiIndex"
   ]
  },
  {
   "cell_type": "markdown",
   "metadata": {},
   "source": [
    "## Reset the index\n",
    "The easiest way to return back to a normal index is to use **`reset_index`**. This puts all index levels back as DataFrame columns"
   ]
  },
  {
   "cell_type": "code",
   "execution_count": null,
   "metadata": {},
   "outputs": [],
   "source": [
    "college_summary.reset_index()"
   ]
  },
  {
   "cell_type": "markdown",
   "metadata": {},
   "source": [
    "You can reset specific levels by using their name or their level integer."
   ]
  },
  {
   "cell_type": "code",
   "execution_count": null,
   "metadata": {},
   "outputs": [],
   "source": [
    "college_summary.reset_index(level='RELAFFIL')"
   ]
  },
  {
   "cell_type": "code",
   "execution_count": null,
   "metadata": {},
   "outputs": [],
   "source": [
    "college_summary.reset_index(level=1)"
   ]
  },
  {
   "cell_type": "markdown",
   "metadata": {},
   "source": [
    "## Changing index level names\n",
    "The row indexes have names for the levels. The columns do not. We can change either one with the **`rename_axis`** method. Pass in a list of the new index level names (or a scalar if only one level)"
   ]
  },
  {
   "cell_type": "code",
   "execution_count": null,
   "metadata": {},
   "outputs": [],
   "source": [
    "cs2 = college_summary.rename_axis(['STATE ABBREVIATION', 'RELIGIOUS AFFILIATION'])\n",
    "cs2"
   ]
  },
  {
   "cell_type": "code",
   "execution_count": null,
   "metadata": {},
   "outputs": [],
   "source": [
    "# give the column levels a name\n",
    "cs2.rename_axis(['Aggregating Columns', 'Aggregating Functions'], axis='columns')"
   ]
  },
  {
   "cell_type": "markdown",
   "metadata": {},
   "source": [
    "## Remove the MultiIndex from the columns\n",
    "There are a few ways to make the columns only one level again. Here are three strategies:\n",
    "+ Reassign the columns a list of names by hand\n",
    "+ Drop one of the levels with the **`droplevel`** index method\n",
    "+ Concatenate all the top and bottom level with the **`get_level_values`** index method."
   ]
  },
  {
   "cell_type": "code",
   "execution_count": null,
   "metadata": {},
   "outputs": [],
   "source": [
    "college_summary.head()"
   ]
  },
  {
   "cell_type": "markdown",
   "metadata": {},
   "source": [
    "### Reassign columns by hand\n",
    "Create a list and assign it to the columns attribute."
   ]
  },
  {
   "cell_type": "code",
   "execution_count": null,
   "metadata": {},
   "outputs": [],
   "source": [
    "columns = ['ugds_size', 'ugds_min', 'ugds_max', 'satmath_size', 'satmath_min', 'satmath_max']\n",
    "college_summary.columns = columns\n",
    "college_summary"
   ]
  },
  {
   "cell_type": "markdown",
   "metadata": {},
   "source": [
    "### Drop a level with `droplevel`\n",
    "Pass the level name or the level integer location to the **`droplevel`** index method and reassign it to the index."
   ]
  },
  {
   "cell_type": "code",
   "execution_count": null,
   "metadata": {},
   "outputs": [],
   "source": [
    "# must recreated original\n",
    "college_summary = college.groupby(['STABBR', 'RELAFFIL'])['UGDS', 'SATMTMID'].agg(['size', 'min', 'max']).head(12)\n",
    "\n",
    "# Drop the top level\n",
    "college_summary.columns = college_summary.columns.droplevel(level=0)\n",
    "\n",
    "# in this case it doesn't really make sense to drop the levels\n",
    "college_summary"
   ]
  },
  {
   "cell_type": "markdown",
   "metadata": {},
   "source": [
    "### Concatenate levels with `get_level_values`\n",
    "Its possible to extract just the values of each level of a MultiIndex with the **`get_level_values`** method."
   ]
  },
  {
   "cell_type": "code",
   "execution_count": null,
   "metadata": {},
   "outputs": [],
   "source": [
    "# recreate\n",
    "college_summary = college.groupby(['STABBR', 'RELAFFIL'])['UGDS', 'SATMTMID'].agg(['size', 'min', 'max']).head(12)\n",
    "\n",
    "college_summary.columns.get_level_values(0)"
   ]
  },
  {
   "cell_type": "code",
   "execution_count": null,
   "metadata": {},
   "outputs": [],
   "source": [
    "college_summary.columns.get_level_values(1)"
   ]
  },
  {
   "cell_type": "code",
   "execution_count": null,
   "metadata": {},
   "outputs": [],
   "source": [
    "# concatenate\n",
    "columns = college_summary.columns.get_level_values(0) + '_' + college_summary.columns.get_level_values(1)\n",
    "college_summary.columns = columns\n",
    "college_summary"
   ]
  },
  {
   "cell_type": "markdown",
   "metadata": {},
   "source": [
    "# Exercises\n",
    "Solutions are below:\n",
    "\n",
    "Use the flights dataset. It has a random selection of 3% of the flights from 2015 from the 10 busiest airports in the US."
   ]
  },
  {
   "cell_type": "code",
   "execution_count": null,
   "metadata": {},
   "outputs": [],
   "source": [
    "flights = pd.read_csv('../../data/flights.csv')\n",
    "pd.options.display.max_columns = 40\n",
    "flights.head()"
   ]
  },
  {
   "cell_type": "markdown",
   "metadata": {},
   "source": [
    "## Problem 1\n",
    "<span  style=\"color:green; font-size:16px\">Count the number of flights from each origin airport and then turn the result into a DataFrame in one line.</span>"
   ]
  },
  {
   "cell_type": "code",
   "execution_count": null,
   "metadata": {},
   "outputs": [],
   "source": [
    "# your code here"
   ]
  },
  {
   "cell_type": "markdown",
   "metadata": {},
   "source": [
    "## Problem 2\n",
    "<span  style=\"color:green; font-size:16px\">Find the average departure delay and the total number of flights from each origin airport. What is the name of the row index and column index?</span>"
   ]
  },
  {
   "cell_type": "code",
   "execution_count": null,
   "metadata": {},
   "outputs": [],
   "source": [
    "# your code here"
   ]
  },
  {
   "cell_type": "markdown",
   "metadata": {},
   "source": [
    "## Problem 3\n",
    "<span  style=\"color:green; font-size:16px\">Produce the same result as with problem 2 but rename the column index level to **Departure Delay Stats** </span>"
   ]
  },
  {
   "cell_type": "code",
   "execution_count": null,
   "metadata": {},
   "outputs": [],
   "source": [
    "# your code here"
   ]
  },
  {
   "cell_type": "markdown",
   "metadata": {},
   "source": [
    "## Problem 4\n",
    "<span  style=\"color:green; font-size:16px\">Find the average scheduled and elapsed time for each origin airport for each month of the year. Save the first 10 rows to a variable. Then change the month index level name to **MONTH_NUM** and then turn that level into a column.</span>"
   ]
  },
  {
   "cell_type": "code",
   "execution_count": null,
   "metadata": {},
   "outputs": [],
   "source": [
    "# your code here"
   ]
  },
  {
   "cell_type": "markdown",
   "metadata": {},
   "source": [
    "## Problem 5\n",
    "<span  style=\"color:green; font-size:16px\">For every origin airport, airline and day of week, calculate the median and maximum departure delay, and the percentage diverted and canceled. Save this to a variable</span>"
   ]
  },
  {
   "cell_type": "code",
   "execution_count": null,
   "metadata": {},
   "outputs": [],
   "source": [
    "# your code here"
   ]
  },
  {
   "cell_type": "markdown",
   "metadata": {},
   "source": [
    "## Problem 6\n",
    "<span  style=\"color:green; font-size:16px\">Take your answer from problem 5. Reassign the columns to be a single dimensional index by concatenating the inner level to the outer level. Then reset the airline and day of week row index levels. After rearranging the index, it is much easier to handle. Find the row of data that has the highest percentage of cancellations.</span>"
   ]
  },
  {
   "cell_type": "code",
   "execution_count": null,
   "metadata": {},
   "outputs": [],
   "source": [
    "# your code here"
   ]
  },
  {
   "cell_type": "markdown",
   "metadata": {},
   "source": [
    "# Solutions"
   ]
  },
  {
   "cell_type": "code",
   "execution_count": null,
   "metadata": {},
   "outputs": [],
   "source": [
    "flights = pd.read_csv('../../data/flights.csv')\n",
    "pd.options.display.max_columns = 40\n",
    "flights.head()"
   ]
  },
  {
   "cell_type": "markdown",
   "metadata": {},
   "source": [
    "## Problem 1\n",
    "<span  style=\"color:green; font-size:16px\">Count the number of flights from each origin airport and then turn the result into a DataFrame in one line.</span>"
   ]
  },
  {
   "cell_type": "code",
   "execution_count": null,
   "metadata": {},
   "outputs": [],
   "source": [
    "flights.ORIGIN_AIRPORT.value_counts().reset_index()"
   ]
  },
  {
   "cell_type": "markdown",
   "metadata": {},
   "source": [
    "## Problem 2\n",
    "<span  style=\"color:green; font-size:16px\">Find the average departure delay and the total number of flights from each origin airport. What is the name of the row index and column index?</span>"
   ]
  },
  {
   "cell_type": "code",
   "execution_count": null,
   "metadata": {},
   "outputs": [],
   "source": [
    "# row index name is ORIGIN_AIRPORT. Column index name is None\n",
    "a = flights.groupby('ORIGIN_AIRPORT')['DEPARTURE_DELAY'].agg(['mean', 'size'])\n",
    "a"
   ]
  },
  {
   "cell_type": "code",
   "execution_count": null,
   "metadata": {},
   "outputs": [],
   "source": [
    "a.index.name"
   ]
  },
  {
   "cell_type": "code",
   "execution_count": null,
   "metadata": {},
   "outputs": [],
   "source": [
    "a.columns.name is None"
   ]
  },
  {
   "cell_type": "markdown",
   "metadata": {},
   "source": [
    "## Problem 3\n",
    "<span  style=\"color:green; font-size:16px\">Produce the same result as with problem 2 but rename the column index level to **Departure Delay Stats** </span>"
   ]
  },
  {
   "cell_type": "code",
   "execution_count": null,
   "metadata": {},
   "outputs": [],
   "source": [
    "a = flights.groupby('ORIGIN_AIRPORT')['DEPARTURE_DELAY'].agg(['mean', 'size'])\n",
    "a.rename_axis('Departure Delay Stats', axis='columns')"
   ]
  },
  {
   "cell_type": "markdown",
   "metadata": {},
   "source": [
    "## Problem 4\n",
    "<span  style=\"color:green; font-size:16px\">Find the average scheduled and elapsed time for each origin airport for each month of the year. Save the first 10 rows to a variable. Then change the month index level name to **MONTH_NUM** and then turn that level into a column.</span>"
   ]
  },
  {
   "cell_type": "code",
   "execution_count": null,
   "metadata": {},
   "outputs": [],
   "source": [
    "a = flights.groupby(['ORIGIN_AIRPORT', 'MONTH'])['SCHEDULED_TIME', 'ELAPSED_TIME'].mean().head(10)\n",
    "a"
   ]
  },
  {
   "cell_type": "code",
   "execution_count": null,
   "metadata": {},
   "outputs": [],
   "source": [
    "b = a.rename_axis(['ORIGIN_AIRPORT', 'MONTH_NUM'])\n",
    "b"
   ]
  },
  {
   "cell_type": "code",
   "execution_count": null,
   "metadata": {},
   "outputs": [],
   "source": [
    "b.reset_index('MONTH_NUM')"
   ]
  },
  {
   "cell_type": "markdown",
   "metadata": {},
   "source": [
    "## Problem 5\n",
    "<span  style=\"color:green; font-size:16px\">For every origin airport, airline and day of week, calculate the median and maximum departure delay, and the percentage diverted and canceled. Save this to a variable</span>"
   ]
  },
  {
   "cell_type": "code",
   "execution_count": null,
   "metadata": {},
   "outputs": [],
   "source": [
    "a = flights.groupby(['ORIGIN_AIRPORT', 'AIRLINE', 'DAY_OF_WEEK']).agg({'DEPARTURE_DELAY':['median', 'max'],\n",
    "                                                                       'DIVERTED':'mean',\n",
    "                                                                       'CANCELLED':'mean'})\n",
    "a.head(10)"
   ]
  },
  {
   "cell_type": "markdown",
   "metadata": {},
   "source": [
    "## Problem 6\n",
    "<span  style=\"color:green; font-size:16px\">Take your answer from problem 5. Reassign the columns to be a single dimensional index by concatenating the inner level to the outer level. Then reset the airline and day of week row index levels. After rearranging the index, it is much easier to handle. Find the row of data that has the highest percentage of cancellations.</span>"
   ]
  },
  {
   "cell_type": "code",
   "execution_count": null,
   "metadata": {},
   "outputs": [],
   "source": [
    "a = flights.groupby(['ORIGIN_AIRPORT', 'AIRLINE', 'DAY_OF_WEEK']).agg({'DEPARTURE_DELAY':['median', 'max'],\n",
    "                                                                       'DIVERTED':'mean',\n",
    "                                                                       'CANCELLED':'mean'})\n",
    "\n",
    "columns = a.columns.get_level_values(1) + '_' + a.columns.get_level_values(0)\n",
    "a.columns = columns\n",
    "b = a.reset_index(['AIRLINE', 'DAY_OF_WEEK'])\n",
    "b.head()"
   ]
  },
  {
   "cell_type": "code",
   "execution_count": null,
   "metadata": {},
   "outputs": [],
   "source": [
    "b.sort_values('mean_CANCELLED', ascending=False).head()"
   ]
  }
 ],
 "metadata": {
  "anaconda-cloud": {},
  "kernelspec": {
   "display_name": "Python 3",
   "language": "python",
   "name": "python3"
  },
  "language_info": {
   "codemirror_mode": {
    "name": "ipython",
    "version": 3
   },
   "file_extension": ".py",
   "mimetype": "text/x-python",
   "name": "python",
   "nbconvert_exporter": "python",
   "pygments_lexer": "ipython3",
   "version": "3.6.4"
  }
 },
 "nbformat": 4,
 "nbformat_minor": 1
}
