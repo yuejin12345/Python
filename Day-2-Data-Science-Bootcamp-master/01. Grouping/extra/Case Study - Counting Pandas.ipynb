{
 "cells": [
  {
   "cell_type": "markdown",
   "metadata": {},
   "source": [
    "# Case Study - Counting pandas"
   ]
  },
  {
   "cell_type": "markdown",
   "metadata": {},
   "source": [
    "## How to count all the functions, methods and attributes that pandas has to offer?\n",
    "There are probably multiple intelligent ways to do this but for this exercise we will start off by assuming the [API reference](http://pandas.pydata.org/pandas-docs/stable/api.html) in the pandas docs contain all the functionality of pandas. Full URL: http://pandas.pydata.org/pandas-docs/stable/api.html\n",
    "\n",
    "Wow, thats an absurd amount of functionality for one library. Manually counting this might take some time. Lets use pandas to help us out."
   ]
  },
  {
   "cell_type": "code",
   "execution_count": 1,
   "metadata": {},
   "outputs": [],
   "source": [
    "import pandas as pd"
   ]
  },
  {
   "cell_type": "markdown",
   "metadata": {},
   "source": [
    "### Finding pages with html tables\n",
    "\n",
    "Many times it will not be obvious that a web page consists of html tables. For example, the Pandas api reference web page does not appear to have what you would normally define as a 'table'. However, all modern browsers have functionality to nicely display the contents of the current html page. In chrome you can right click **inspect** or **view page source**. If you click inspec, then the html for that object will be directly navigated to.\n",
    "\n",
    "Once inspecting the html you can use search functions to find html tables which are always written with **`<table>`** elements.\n",
    "\n",
    "Go ahead and inspect the api page and see if the underlying elements are indeed html tables."
   ]
  },
  {
   "cell_type": "markdown",
   "metadata": {},
   "source": [
    "### `read_html` to scrape tables\n",
    "\n",
    "Pandas has a handy-dandy function **`read_html`** which reads all the html tables off of the given url. It returns a list of pandas dataframe objects - one for each table found. Let's use this now to grab every single table on that page."
   ]
  },
  {
   "cell_type": "code",
   "execution_count": 2,
   "metadata": {},
   "outputs": [],
   "source": [
    "# grab all html tables from api reference page\n",
    "api_tables = pd.read_html('http://pandas.pydata.org/pandas-docs/stable/api.html')"
   ]
  },
  {
   "cell_type": "code",
   "execution_count": 3,
   "metadata": {},
   "outputs": [
    {
     "data": {
      "text/plain": [
       "157"
      ]
     },
     "execution_count": 3,
     "metadata": {},
     "output_type": "execute_result"
    }
   ],
   "source": [
    "# how many tables are there\n",
    "len(api_tables)"
   ]
  },
  {
   "cell_type": "code",
   "execution_count": 4,
   "metadata": {},
   "outputs": [
    {
     "data": {
      "text/html": [
       "<div>\n",
       "<style scoped>\n",
       "    .dataframe tbody tr th:only-of-type {\n",
       "        vertical-align: middle;\n",
       "    }\n",
       "\n",
       "    .dataframe tbody tr th {\n",
       "        vertical-align: top;\n",
       "    }\n",
       "\n",
       "    .dataframe thead th {\n",
       "        text-align: right;\n",
       "    }\n",
       "</style>\n",
       "<table border=\"1\" class=\"dataframe\">\n",
       "  <thead>\n",
       "    <tr style=\"text-align: right;\">\n",
       "      <th></th>\n",
       "      <th>0</th>\n",
       "      <th>1</th>\n",
       "    </tr>\n",
       "  </thead>\n",
       "  <tbody>\n",
       "    <tr>\n",
       "      <th>0</th>\n",
       "      <td>read_pickle(path[, compression])</td>\n",
       "      <td>Load pickled pandas object (or any object) fro...</td>\n",
       "    </tr>\n",
       "  </tbody>\n",
       "</table>\n",
       "</div>"
      ],
      "text/plain": [
       "                                  0  \\\n",
       "0  read_pickle(path[, compression])   \n",
       "\n",
       "                                                   1  \n",
       "0  Load pickled pandas object (or any object) fro...  "
      ]
     },
     "execution_count": 4,
     "metadata": {},
     "output_type": "execute_result"
    }
   ],
   "source": [
    "#lets look at a few tables\n",
    "api_tables[0]"
   ]
  },
  {
   "cell_type": "code",
   "execution_count": 5,
   "metadata": {},
   "outputs": [
    {
     "data": {
      "text/html": [
       "<div>\n",
       "<style scoped>\n",
       "    .dataframe tbody tr th:only-of-type {\n",
       "        vertical-align: middle;\n",
       "    }\n",
       "\n",
       "    .dataframe tbody tr th {\n",
       "        vertical-align: top;\n",
       "    }\n",
       "\n",
       "    .dataframe thead th {\n",
       "        text-align: right;\n",
       "    }\n",
       "</style>\n",
       "<table border=\"1\" class=\"dataframe\">\n",
       "  <thead>\n",
       "    <tr style=\"text-align: right;\">\n",
       "      <th></th>\n",
       "      <th>0</th>\n",
       "      <th>1</th>\n",
       "    </tr>\n",
       "  </thead>\n",
       "  <tbody>\n",
       "    <tr>\n",
       "      <th>0</th>\n",
       "      <td>Categorical.dtype</td>\n",
       "      <td>The CategoricalDtype for this instance</td>\n",
       "    </tr>\n",
       "    <tr>\n",
       "      <th>1</th>\n",
       "      <td>Categorical.categories</td>\n",
       "      <td>The categories of this categorical.</td>\n",
       "    </tr>\n",
       "    <tr>\n",
       "      <th>2</th>\n",
       "      <td>Categorical.ordered</td>\n",
       "      <td>Whether the categories have an ordered relatio...</td>\n",
       "    </tr>\n",
       "    <tr>\n",
       "      <th>3</th>\n",
       "      <td>Categorical.codes</td>\n",
       "      <td>The category codes of this categorical.</td>\n",
       "    </tr>\n",
       "  </tbody>\n",
       "</table>\n",
       "</div>"
      ],
      "text/plain": [
       "                        0                                                  1\n",
       "0       Categorical.dtype             The CategoricalDtype for this instance\n",
       "1  Categorical.categories                The categories of this categorical.\n",
       "2     Categorical.ordered  Whether the categories have an ordered relatio...\n",
       "3       Categorical.codes            The category codes of this categorical."
      ]
     },
     "execution_count": 5,
     "metadata": {},
     "output_type": "execute_result"
    }
   ],
   "source": [
    "# take a look at another table\n",
    "api_tables[44]"
   ]
  },
  {
   "cell_type": "markdown",
   "metadata": {},
   "source": [
    "Looks like they are all two column tables with the attribute in the first column and the description in the right column. Every thing looks good. Lets try counting"
   ]
  },
  {
   "cell_type": "code",
   "execution_count": 6,
   "metadata": {},
   "outputs": [
    {
     "name": "stdout",
     "output_type": "stream",
     "text": [
      "There are 1331 things pandas can do!\n"
     ]
    }
   ],
   "source": [
    "count = 0\n",
    "for table in api_tables:\n",
    "    count += table.shape[0]\n",
    "print(\"There are {} things pandas can do!\".format(count))"
   ]
  },
  {
   "cell_type": "markdown",
   "metadata": {},
   "source": [
    "## How much functionality does the pandas Series have?\n",
    "As seen above, the pandas object is followed up by its method/attribute in object-oriented notation. If we want to count just the Series functionality we need to search each table's first column for the word `Series`. pandas again provides us with some nicely equipped with plenty of [string processing methods](http://pandas.pydata.org/pandas-docs/stable/text.html).\n",
    "\n",
    "To use these string processing methods, define a pandas Series and use .str. and press tab to see all the available methods."
   ]
  },
  {
   "cell_type": "code",
   "execution_count": 7,
   "metadata": {},
   "outputs": [
    {
     "data": {
      "text/plain": [
       "0         Categorical.dtype\n",
       "1    Categorical.categories\n",
       "2       Categorical.ordered\n",
       "3         Categorical.codes\n",
       "Name: 0, dtype: object"
      ]
     },
     "execution_count": 7,
     "metadata": {},
     "output_type": "execute_result"
    }
   ],
   "source": [
    "# Lets use the first column from the above table\n",
    "s = api_tables[44][0]\n",
    "s.head()"
   ]
  },
  {
   "cell_type": "code",
   "execution_count": 8,
   "metadata": {},
   "outputs": [
    {
     "data": {
      "text/plain": [
       "0    False\n",
       "1    False\n",
       "2    False\n",
       "3    False\n",
       "Name: 0, dtype: bool"
      ]
     },
     "execution_count": 8,
     "metadata": {},
     "output_type": "execute_result"
    }
   ],
   "source": [
    "# use the str.contains method to see if each item does in fact contain the word 'Series' in it\n",
    "s.str.contains('Series')"
   ]
  },
  {
   "cell_type": "code",
   "execution_count": 9,
   "metadata": {},
   "outputs": [
    {
     "name": "stdout",
     "output_type": "stream",
     "text": [
      "There are 332 things pandas Series can do!\n"
     ]
    }
   ],
   "source": [
    "# OK lets count the appearance of \n",
    "count_series = 0\n",
    "for table in api_tables:\n",
    "    count_series += table[0].str.contains('Series').sum()\n",
    "print(\"There are {} things pandas Series can do!\".format(count_series))"
   ]
  },
  {
   "cell_type": "markdown",
   "metadata": {},
   "source": [
    "# Exercises"
   ]
  },
  {
   "cell_type": "markdown",
   "metadata": {},
   "source": [
    "## Problem 1\n",
    "<span  style=\"color:green; font-size:16px\"> Writing a new for loop every time we want to count a new word in our dataset is cumbersome. Can you write a function that accepts the parameter **word** and returns the count of this word if it appears as in the pandas API as a functions/methods/attributes. Count a few words with it like DataFrame or MultiIndex</span>"
   ]
  },
  {
   "cell_type": "code",
   "execution_count": null,
   "metadata": {},
   "outputs": [],
   "source": [
    "# your code here\n",
    "def count_functionality(word):"
   ]
  },
  {
   "cell_type": "markdown",
   "metadata": {},
   "source": [
    "## Problem 2\n",
    "<span  style=\"color:green; font-size:16px\">Define a new function by modifying the above function slightly to have it return a list of all the methods</span>"
   ]
  },
  {
   "cell_type": "code",
   "execution_count": null,
   "metadata": {},
   "outputs": [],
   "source": [
    "# your code here"
   ]
  },
  {
   "cell_type": "markdown",
   "metadata": {},
   "source": [
    "## Problem 3\n",
    "<span  style=\"color:green; font-size:16px\">Select the first table from `api_tables` with more than 20 rows. Then assign the second column as a Series to variable `col`. Explore some **`str`** methods with this column.</span>"
   ]
  },
  {
   "cell_type": "code",
   "execution_count": null,
   "metadata": {},
   "outputs": [],
   "source": [
    "# your code here"
   ]
  },
  {
   "cell_type": "markdown",
   "metadata": {},
   "source": [
    "## Problem 4\n",
    "<span  style=\"color:green; font-size:16px\">Lets get some 'live' data.</span>\n",
    "1. Naviate to [real clear politics Trump vs Clinton](http://www.realclearpolitics.com/epolls/2016/president/us/general_election_trump_vs_clinton-5491.html) \n",
    "1. use pandas **`read_html`** to read in that full table at the bottom of the page and display it here in the notebook\n",
    "1. use the header parameter to find the correct header instead of the default numbers\n",
    "1. Inspect the info to make sure the clinton and trump data types are float64\n",
    "1. add a column that calculates the difference of trump vs clinton\n",
    "1. sort the dataframe by this newly created column\n",
    "1. What conclusions (if any) can you make"
   ]
  },
  {
   "cell_type": "markdown",
   "metadata": {},
   "source": [
    "# Solutions"
   ]
  },
  {
   "cell_type": "code",
   "execution_count": 11,
   "metadata": {},
   "outputs": [],
   "source": [
    "import pandas as pd\n",
    "api_tables = pd.read_html('http://pandas.pydata.org/pandas-docs/stable/api.html')"
   ]
  },
  {
   "cell_type": "markdown",
   "metadata": {},
   "source": [
    "## Problem 1\n",
    "<span  style=\"color:green; font-size:16px\"> Writing a new for loop every time we want to count a new word in our dataset is cumbersome. Can you write a function that accepts the parameter **word** and returns the count of this word if it appears as in the pandas API as a functions/methods/attributes. Count a few words with it like DataFrame or MultiIndex</span>"
   ]
  },
  {
   "cell_type": "code",
   "execution_count": 12,
   "metadata": {},
   "outputs": [],
   "source": [
    "def count_functionality(word):\n",
    "    return sum([table[0].str.contains(word).sum() for table in api_tables])"
   ]
  },
  {
   "cell_type": "code",
   "execution_count": 13,
   "metadata": {},
   "outputs": [
    {
     "data": {
      "text/plain": [
       "(332, 257, 23)"
      ]
     },
     "execution_count": 13,
     "metadata": {},
     "output_type": "execute_result"
    }
   ],
   "source": [
    "count_functionality('Series'), count_functionality('DataFrame'), count_functionality('MultiIndex')"
   ]
  },
  {
   "cell_type": "markdown",
   "metadata": {},
   "source": [
    "## Problem 2\n",
    "<span  style=\"color:green; font-size:16px\">Define a new function by modifying the above function slightly to have it return a list of all the methods</span>"
   ]
  },
  {
   "cell_type": "code",
   "execution_count": 14,
   "metadata": {},
   "outputs": [],
   "source": [
    "def list_functionality(word):\n",
    "    return_list = []\n",
    "    for table in api_tables:\n",
    "        s = table[0] # get first column\n",
    "        cur_list = s[s.str.contains(word)].tolist() # get only items with word in it and convert to list\n",
    "        return_list.extend(cur_list)\n",
    "    return return_list"
   ]
  },
  {
   "cell_type": "code",
   "execution_count": 15,
   "metadata": {},
   "outputs": [
    {
     "data": {
      "text/plain": [
       "['Series.strides',\n",
       " 'Series.str.capitalize()',\n",
       " 'Series.str.cat([others,\\xa0sep,\\xa0na_rep,\\xa0join])',\n",
       " 'Series.str.center(width[,\\xa0fillchar])',\n",
       " 'Series.str.contains(pat[,\\xa0case,\\xa0flags,\\xa0na,\\xa0…])',\n",
       " 'Series.str.count(pat[,\\xa0flags])',\n",
       " 'Series.str.decode(encoding[,\\xa0errors])',\n",
       " 'Series.str.encode(encoding[,\\xa0errors])',\n",
       " 'Series.str.endswith(pat[,\\xa0na])',\n",
       " 'Series.str.extract(pat[,\\xa0flags,\\xa0expand])',\n",
       " 'Series.str.extractall(pat[,\\xa0flags])',\n",
       " 'Series.str.find(sub[,\\xa0start,\\xa0end])',\n",
       " 'Series.str.findall(pat[,\\xa0flags])',\n",
       " 'Series.str.get(i)',\n",
       " 'Series.str.index(sub[,\\xa0start,\\xa0end])',\n",
       " 'Series.str.join(sep)',\n",
       " 'Series.str.len()',\n",
       " 'Series.str.ljust(width[,\\xa0fillchar])',\n",
       " 'Series.str.lower()',\n",
       " 'Series.str.lstrip([to_strip])',\n",
       " 'Series.str.match(pat[,\\xa0case,\\xa0flags,\\xa0na,\\xa0…])',\n",
       " 'Series.str.normalize(form)',\n",
       " 'Series.str.pad(width[,\\xa0side,\\xa0fillchar])',\n",
       " 'Series.str.partition([pat,\\xa0expand])',\n",
       " 'Series.str.repeat(repeats)',\n",
       " 'Series.str.replace(pat,\\xa0repl[,\\xa0n,\\xa0case,\\xa0…])',\n",
       " 'Series.str.rfind(sub[,\\xa0start,\\xa0end])',\n",
       " 'Series.str.rindex(sub[,\\xa0start,\\xa0end])',\n",
       " 'Series.str.rjust(width[,\\xa0fillchar])',\n",
       " 'Series.str.rpartition([pat,\\xa0expand])',\n",
       " 'Series.str.rstrip([to_strip])',\n",
       " 'Series.str.slice([start,\\xa0stop,\\xa0step])',\n",
       " 'Series.str.slice_replace([start,\\xa0stop,\\xa0repl])',\n",
       " 'Series.str.split([pat,\\xa0n,\\xa0expand])',\n",
       " 'Series.str.rsplit([pat,\\xa0n,\\xa0expand])',\n",
       " 'Series.str.startswith(pat[,\\xa0na])',\n",
       " 'Series.str.strip([to_strip])',\n",
       " 'Series.str.swapcase()',\n",
       " 'Series.str.title()',\n",
       " 'Series.str.translate(table[,\\xa0deletechars])',\n",
       " 'Series.str.upper()',\n",
       " 'Series.str.wrap(width,\\xa0**kwargs)',\n",
       " 'Series.str.zfill(width)',\n",
       " 'Series.str.isalnum()',\n",
       " 'Series.str.isalpha()',\n",
       " 'Series.str.isdigit()',\n",
       " 'Series.str.isspace()',\n",
       " 'Series.str.islower()',\n",
       " 'Series.str.isupper()',\n",
       " 'Series.str.istitle()',\n",
       " 'Series.str.isnumeric()',\n",
       " 'Series.str.isdecimal()',\n",
       " 'Series.str.get_dummies([sep])']"
      ]
     },
     "execution_count": 15,
     "metadata": {},
     "output_type": "execute_result"
    }
   ],
   "source": [
    "# these methods should look very familiar from the builtin python str methods\n",
    "str_series = list_functionality('Series.str')\n",
    "str_series"
   ]
  },
  {
   "cell_type": "markdown",
   "metadata": {},
   "source": [
    "## Problem 3\n",
    "<span  style=\"color:green; font-size:16px\">Select the first table from `api_tables` with more than 20 rows. Then assign the second column as a Series to variable `col`. Explore some **`str`** methods with this column.</span>"
   ]
  },
  {
   "cell_type": "code",
   "execution_count": 52,
   "metadata": {},
   "outputs": [
    {
     "data": {
      "text/html": [
       "<div>\n",
       "<style scoped>\n",
       "    .dataframe tbody tr th:only-of-type {\n",
       "        vertical-align: middle;\n",
       "    }\n",
       "\n",
       "    .dataframe tbody tr th {\n",
       "        vertical-align: top;\n",
       "    }\n",
       "\n",
       "    .dataframe thead th {\n",
       "        text-align: right;\n",
       "    }\n",
       "</style>\n",
       "<table border=\"1\" class=\"dataframe\">\n",
       "  <thead>\n",
       "    <tr style=\"text-align: right;\">\n",
       "      <th></th>\n",
       "      <th>0</th>\n",
       "      <th>1</th>\n",
       "    </tr>\n",
       "  </thead>\n",
       "  <tbody>\n",
       "    <tr>\n",
       "      <th>0</th>\n",
       "      <td>Series.values</td>\n",
       "      <td>Return Series as ndarray or ndarray-like depen...</td>\n",
       "    </tr>\n",
       "    <tr>\n",
       "      <th>1</th>\n",
       "      <td>Series.dtype</td>\n",
       "      <td>return the dtype object of the underlying data</td>\n",
       "    </tr>\n",
       "    <tr>\n",
       "      <th>2</th>\n",
       "      <td>Series.ftype</td>\n",
       "      <td>return if the data is sparse|dense</td>\n",
       "    </tr>\n",
       "    <tr>\n",
       "      <th>3</th>\n",
       "      <td>Series.shape</td>\n",
       "      <td>return a tuple of the shape of the underlying ...</td>\n",
       "    </tr>\n",
       "    <tr>\n",
       "      <th>4</th>\n",
       "      <td>Series.nbytes</td>\n",
       "      <td>return the number of bytes in the underlying data</td>\n",
       "    </tr>\n",
       "    <tr>\n",
       "      <th>5</th>\n",
       "      <td>Series.ndim</td>\n",
       "      <td>return the number of dimensions of the underly...</td>\n",
       "    </tr>\n",
       "    <tr>\n",
       "      <th>6</th>\n",
       "      <td>Series.size</td>\n",
       "      <td>return the number of elements in the underlyin...</td>\n",
       "    </tr>\n",
       "    <tr>\n",
       "      <th>7</th>\n",
       "      <td>Series.strides</td>\n",
       "      <td>return the strides of the underlying data</td>\n",
       "    </tr>\n",
       "    <tr>\n",
       "      <th>8</th>\n",
       "      <td>Series.itemsize</td>\n",
       "      <td>return the size of the dtype of the item of th...</td>\n",
       "    </tr>\n",
       "    <tr>\n",
       "      <th>9</th>\n",
       "      <td>Series.base</td>\n",
       "      <td>return the base object if the memory of the un...</td>\n",
       "    </tr>\n",
       "    <tr>\n",
       "      <th>10</th>\n",
       "      <td>Series.T</td>\n",
       "      <td>return the transpose, which is by definition self</td>\n",
       "    </tr>\n",
       "    <tr>\n",
       "      <th>11</th>\n",
       "      <td>Series.memory_usage([index, deep])</td>\n",
       "      <td>Return the memory usage of the Series.</td>\n",
       "    </tr>\n",
       "    <tr>\n",
       "      <th>12</th>\n",
       "      <td>Series.hasnans</td>\n",
       "      <td>return if I have any nans; enables various per...</td>\n",
       "    </tr>\n",
       "    <tr>\n",
       "      <th>13</th>\n",
       "      <td>Series.flags</td>\n",
       "      <td>NaN</td>\n",
       "    </tr>\n",
       "    <tr>\n",
       "      <th>14</th>\n",
       "      <td>Series.empty</td>\n",
       "      <td>NaN</td>\n",
       "    </tr>\n",
       "    <tr>\n",
       "      <th>15</th>\n",
       "      <td>Series.dtypes</td>\n",
       "      <td>return the dtype object of the underlying data</td>\n",
       "    </tr>\n",
       "    <tr>\n",
       "      <th>16</th>\n",
       "      <td>Series.ftypes</td>\n",
       "      <td>return if the data is sparse|dense</td>\n",
       "    </tr>\n",
       "    <tr>\n",
       "      <th>17</th>\n",
       "      <td>Series.data</td>\n",
       "      <td>return the data pointer of the underlying data</td>\n",
       "    </tr>\n",
       "    <tr>\n",
       "      <th>18</th>\n",
       "      <td>Series.is_copy</td>\n",
       "      <td>NaN</td>\n",
       "    </tr>\n",
       "    <tr>\n",
       "      <th>19</th>\n",
       "      <td>Series.name</td>\n",
       "      <td>NaN</td>\n",
       "    </tr>\n",
       "    <tr>\n",
       "      <th>20</th>\n",
       "      <td>Series.put(*args, **kwargs)</td>\n",
       "      <td>Applies the put method to its values attribute...</td>\n",
       "    </tr>\n",
       "  </tbody>\n",
       "</table>\n",
       "</div>"
      ],
      "text/plain": [
       "                                     0  \\\n",
       "0                        Series.values   \n",
       "1                         Series.dtype   \n",
       "2                         Series.ftype   \n",
       "3                         Series.shape   \n",
       "4                        Series.nbytes   \n",
       "5                          Series.ndim   \n",
       "6                          Series.size   \n",
       "7                       Series.strides   \n",
       "8                      Series.itemsize   \n",
       "9                          Series.base   \n",
       "10                            Series.T   \n",
       "11  Series.memory_usage([index, deep])   \n",
       "12                      Series.hasnans   \n",
       "13                        Series.flags   \n",
       "14                        Series.empty   \n",
       "15                       Series.dtypes   \n",
       "16                       Series.ftypes   \n",
       "17                         Series.data   \n",
       "18                      Series.is_copy   \n",
       "19                         Series.name   \n",
       "20         Series.put(*args, **kwargs)   \n",
       "\n",
       "                                                    1  \n",
       "0   Return Series as ndarray or ndarray-like depen...  \n",
       "1      return the dtype object of the underlying data  \n",
       "2                  return if the data is sparse|dense  \n",
       "3   return a tuple of the shape of the underlying ...  \n",
       "4   return the number of bytes in the underlying data  \n",
       "5   return the number of dimensions of the underly...  \n",
       "6   return the number of elements in the underlyin...  \n",
       "7           return the strides of the underlying data  \n",
       "8   return the size of the dtype of the item of th...  \n",
       "9   return the base object if the memory of the un...  \n",
       "10  return the transpose, which is by definition self  \n",
       "11             Return the memory usage of the Series.  \n",
       "12  return if I have any nans; enables various per...  \n",
       "13                                                NaN  \n",
       "14                                                NaN  \n",
       "15     return the dtype object of the underlying data  \n",
       "16                 return if the data is sparse|dense  \n",
       "17     return the data pointer of the underlying data  \n",
       "18                                                NaN  \n",
       "19                                                NaN  \n",
       "20  Applies the put method to its values attribute...  "
      ]
     },
     "execution_count": 52,
     "metadata": {},
     "output_type": "execute_result"
    }
   ],
   "source": [
    "for table in api_tables:\n",
    "    if len(table) > 20:\n",
    "        break\n",
    "table"
   ]
  },
  {
   "cell_type": "code",
   "execution_count": 53,
   "metadata": {},
   "outputs": [
    {
     "data": {
      "text/plain": [
       "0    Return Series as ndarray or ndarray-like depen...\n",
       "1       return the dtype object of the underlying data\n",
       "2                   return if the data is sparse|dense\n",
       "3    return a tuple of the shape of the underlying ...\n",
       "4    return the number of bytes in the underlying data\n",
       "Name: 1, dtype: object"
      ]
     },
     "execution_count": 53,
     "metadata": {},
     "output_type": "execute_result"
    }
   ],
   "source": [
    "col = table[1]\n",
    "col.head()"
   ]
  },
  {
   "cell_type": "code",
   "execution_count": 56,
   "metadata": {},
   "outputs": [
    {
     "data": {
      "text/plain": [
       "0    rETURN sERIES AS NDARRAY OR NDARRAY-LIKE DEPEN...\n",
       "1       RETURN THE DTYPE OBJECT OF THE UNDERLYING DATA\n",
       "2                   RETURN IF THE DATA IS SPARSE|DENSE\n",
       "3    RETURN A TUPLE OF THE SHAPE OF THE UNDERLYING ...\n",
       "4    RETURN THE NUMBER OF BYTES IN THE UNDERLYING DATA\n",
       "Name: 1, dtype: object"
      ]
     },
     "execution_count": 56,
     "metadata": {},
     "output_type": "execute_result"
    }
   ],
   "source": [
    "col.str.swapcase().head()"
   ]
  },
  {
   "cell_type": "code",
   "execution_count": 58,
   "metadata": {},
   "outputs": [
    {
     "data": {
      "text/plain": [
       "0    [Return, Series, as, ndarray, or, ndarray-like...\n",
       "1    [return, the, dtype, object, of, the, underlyi...\n",
       "2            [return, if, the, data, is, sparse|dense]\n",
       "3    [return, a, tuple, of, the, shape, of, the, un...\n",
       "4    [return, the, number, of, bytes, in, the, unde...\n",
       "Name: 1, dtype: object"
      ]
     },
     "execution_count": 58,
     "metadata": {},
     "output_type": "execute_result"
    }
   ],
   "source": [
    "col.str.split().head() # split each element by blank space"
   ]
  },
  {
   "cell_type": "markdown",
   "metadata": {},
   "source": [
    "## Problem 4\n",
    "<span  style=\"color:green; font-size:16px\">Lets get some 'live' data.</span>\n",
    "1. Naviate to [real clear politics](http://www.realclearpolitics.com) \n",
    "1. In the top left corner of the page, hover over the polls section and click on Clinton vs Trump\n",
    "1. use pandas read_html to read in that full table at the bottom of the page and display it here in the notebook\n",
    "1. use the header parameter to find the correct header instead of the default numbers\n",
    "1. Inspect the info to make sure the clinton and trump data types are float64\n",
    "1. add a column that calculates the difference of trump vs clinton\n",
    "1. sort the dataframe by this newly created column\n",
    "1. Do you see anything suspicious about the polls where Trump is leading?"
   ]
  },
  {
   "cell_type": "code",
   "execution_count": 20,
   "metadata": {},
   "outputs": [],
   "source": [
    "rcp_tables = pd.read_html('http://www.realclearpolitics.com/epolls/2016/president/us/general_election_trump_vs_clinton-5491.html', header=0)"
   ]
  },
  {
   "cell_type": "code",
   "execution_count": 21,
   "metadata": {},
   "outputs": [
    {
     "data": {
      "text/plain": [
       "3"
      ]
     },
     "execution_count": 21,
     "metadata": {},
     "output_type": "execute_result"
    }
   ],
   "source": [
    "len(rcp_tables)"
   ]
  },
  {
   "cell_type": "code",
   "execution_count": 22,
   "metadata": {},
   "outputs": [],
   "source": [
    "rcp_final = rcp_tables[2]"
   ]
  },
  {
   "cell_type": "code",
   "execution_count": 23,
   "metadata": {},
   "outputs": [
    {
     "name": "stdout",
     "output_type": "stream",
     "text": [
      "<class 'pandas.core.frame.DataFrame'>\n",
      "RangeIndex: 261 entries, 0 to 260\n",
      "Data columns (total 7 columns):\n",
      "Poll           261 non-null object\n",
      "Date           261 non-null object\n",
      "Sample         261 non-null object\n",
      "MoE            261 non-null object\n",
      "Clinton (D)    261 non-null float64\n",
      "Trump (R)      261 non-null float64\n",
      "Spread         261 non-null object\n",
      "dtypes: float64(2), object(5)\n",
      "memory usage: 14.4+ KB\n"
     ]
    }
   ],
   "source": [
    "rcp_final.info()"
   ]
  },
  {
   "cell_type": "code",
   "execution_count": 24,
   "metadata": {},
   "outputs": [],
   "source": [
    "rcp_final['diff'] = rcp_final['Clinton (D)'] - rcp_final['Trump (R)']"
   ]
  },
  {
   "cell_type": "code",
   "execution_count": 25,
   "metadata": {},
   "outputs": [
    {
     "data": {
      "text/html": [
       "<div>\n",
       "<style scoped>\n",
       "    .dataframe tbody tr th:only-of-type {\n",
       "        vertical-align: middle;\n",
       "    }\n",
       "\n",
       "    .dataframe tbody tr th {\n",
       "        vertical-align: top;\n",
       "    }\n",
       "\n",
       "    .dataframe thead th {\n",
       "        text-align: right;\n",
       "    }\n",
       "</style>\n",
       "<table border=\"1\" class=\"dataframe\">\n",
       "  <thead>\n",
       "    <tr style=\"text-align: right;\">\n",
       "      <th></th>\n",
       "      <th>Poll</th>\n",
       "      <th>Date</th>\n",
       "      <th>Sample</th>\n",
       "      <th>MoE</th>\n",
       "      <th>Clinton (D)</th>\n",
       "      <th>Trump (R)</th>\n",
       "      <th>Spread</th>\n",
       "      <th>diff</th>\n",
       "    </tr>\n",
       "  </thead>\n",
       "  <tbody>\n",
       "    <tr>\n",
       "      <th>0</th>\n",
       "      <td>Final Results</td>\n",
       "      <td>--</td>\n",
       "      <td>--</td>\n",
       "      <td>--</td>\n",
       "      <td>48.2</td>\n",
       "      <td>46.1</td>\n",
       "      <td>Clinton +2.1</td>\n",
       "      <td>2.1</td>\n",
       "    </tr>\n",
       "    <tr>\n",
       "      <th>1</th>\n",
       "      <td>RCP Average</td>\n",
       "      <td>11/1 - 11/7</td>\n",
       "      <td>--</td>\n",
       "      <td>--</td>\n",
       "      <td>46.8</td>\n",
       "      <td>43.6</td>\n",
       "      <td>Clinton +3.2</td>\n",
       "      <td>3.2</td>\n",
       "    </tr>\n",
       "    <tr>\n",
       "      <th>2</th>\n",
       "      <td>BloombergBloomberg</td>\n",
       "      <td>11/4 - 11/6</td>\n",
       "      <td>799 LV</td>\n",
       "      <td>3.5</td>\n",
       "      <td>46.0</td>\n",
       "      <td>43.0</td>\n",
       "      <td>Clinton +3</td>\n",
       "      <td>3.0</td>\n",
       "    </tr>\n",
       "    <tr>\n",
       "      <th>3</th>\n",
       "      <td>IBD/TIPP TrackingIBD/TIPP Tracking</td>\n",
       "      <td>11/4 - 11/7</td>\n",
       "      <td>1107 LV</td>\n",
       "      <td>3.1</td>\n",
       "      <td>43.0</td>\n",
       "      <td>42.0</td>\n",
       "      <td>Clinton +1</td>\n",
       "      <td>1.0</td>\n",
       "    </tr>\n",
       "    <tr>\n",
       "      <th>4</th>\n",
       "      <td>Economist/YouGovEconomist</td>\n",
       "      <td>11/4 - 11/7</td>\n",
       "      <td>3669 LV</td>\n",
       "      <td>--</td>\n",
       "      <td>49.0</td>\n",
       "      <td>45.0</td>\n",
       "      <td>Clinton +4</td>\n",
       "      <td>4.0</td>\n",
       "    </tr>\n",
       "    <tr>\n",
       "      <th>5</th>\n",
       "      <td>LA Times/USC TrackingLA Times</td>\n",
       "      <td>11/1 - 11/7</td>\n",
       "      <td>2935 LV</td>\n",
       "      <td>4.5</td>\n",
       "      <td>44.0</td>\n",
       "      <td>47.0</td>\n",
       "      <td>Trump +3</td>\n",
       "      <td>-3.0</td>\n",
       "    </tr>\n",
       "    <tr>\n",
       "      <th>6</th>\n",
       "      <td>ABC/Wash Post TrackingABC/WP Tracking</td>\n",
       "      <td>11/3 - 11/6</td>\n",
       "      <td>2220 LV</td>\n",
       "      <td>2.5</td>\n",
       "      <td>49.0</td>\n",
       "      <td>46.0</td>\n",
       "      <td>Clinton +3</td>\n",
       "      <td>3.0</td>\n",
       "    </tr>\n",
       "    <tr>\n",
       "      <th>7</th>\n",
       "      <td>FOX NewsFOX News</td>\n",
       "      <td>11/3 - 11/6</td>\n",
       "      <td>1295 LV</td>\n",
       "      <td>2.5</td>\n",
       "      <td>48.0</td>\n",
       "      <td>44.0</td>\n",
       "      <td>Clinton +4</td>\n",
       "      <td>4.0</td>\n",
       "    </tr>\n",
       "    <tr>\n",
       "      <th>8</th>\n",
       "      <td>MonmouthMonmouth</td>\n",
       "      <td>11/3 - 11/6</td>\n",
       "      <td>748 LV</td>\n",
       "      <td>3.6</td>\n",
       "      <td>50.0</td>\n",
       "      <td>44.0</td>\n",
       "      <td>Clinton +6</td>\n",
       "      <td>6.0</td>\n",
       "    </tr>\n",
       "    <tr>\n",
       "      <th>9</th>\n",
       "      <td>NBC News/Wall St. JrnlNBC/WSJ</td>\n",
       "      <td>11/3 - 11/5</td>\n",
       "      <td>1282 LV</td>\n",
       "      <td>2.7</td>\n",
       "      <td>48.0</td>\n",
       "      <td>43.0</td>\n",
       "      <td>Clinton +5</td>\n",
       "      <td>5.0</td>\n",
       "    </tr>\n",
       "    <tr>\n",
       "      <th>10</th>\n",
       "      <td>CBS NewsCBS News</td>\n",
       "      <td>11/2 - 11/6</td>\n",
       "      <td>1426 LV</td>\n",
       "      <td>3.0</td>\n",
       "      <td>47.0</td>\n",
       "      <td>43.0</td>\n",
       "      <td>Clinton +4</td>\n",
       "      <td>4.0</td>\n",
       "    </tr>\n",
       "    <tr>\n",
       "      <th>11</th>\n",
       "      <td>Reuters/IpsosReuters</td>\n",
       "      <td>11/2 - 11/6</td>\n",
       "      <td>2196 LV</td>\n",
       "      <td>2.3</td>\n",
       "      <td>44.0</td>\n",
       "      <td>39.0</td>\n",
       "      <td>Clinton +5</td>\n",
       "      <td>5.0</td>\n",
       "    </tr>\n",
       "    <tr>\n",
       "      <th>12</th>\n",
       "      <td>McClatchy/MaristMcClatchy</td>\n",
       "      <td>11/1 - 11/3</td>\n",
       "      <td>940 LV</td>\n",
       "      <td>3.2</td>\n",
       "      <td>46.0</td>\n",
       "      <td>44.0</td>\n",
       "      <td>Clinton +2</td>\n",
       "      <td>2.0</td>\n",
       "    </tr>\n",
       "    <tr>\n",
       "      <th>13</th>\n",
       "      <td>FOX NewsFOX News</td>\n",
       "      <td>11/1 - 11/3</td>\n",
       "      <td>1107 LV</td>\n",
       "      <td>3.0</td>\n",
       "      <td>46.0</td>\n",
       "      <td>45.0</td>\n",
       "      <td>Clinton +1</td>\n",
       "      <td>1.0</td>\n",
       "    </tr>\n",
       "    <tr>\n",
       "      <th>14</th>\n",
       "      <td>NBC News/SMNBC News</td>\n",
       "      <td>10/31 - 11/6</td>\n",
       "      <td>30145 LV</td>\n",
       "      <td>1.0</td>\n",
       "      <td>51.0</td>\n",
       "      <td>44.0</td>\n",
       "      <td>Clinton +7</td>\n",
       "      <td>7.0</td>\n",
       "    </tr>\n",
       "    <tr>\n",
       "      <th>15</th>\n",
       "      <td>Reuters/IpsosReuters</td>\n",
       "      <td>10/31 - 11/4</td>\n",
       "      <td>2244 LV</td>\n",
       "      <td>2.2</td>\n",
       "      <td>44.0</td>\n",
       "      <td>40.0</td>\n",
       "      <td>Clinton +4</td>\n",
       "      <td>4.0</td>\n",
       "    </tr>\n",
       "    <tr>\n",
       "      <th>16</th>\n",
       "      <td>GravisGravis</td>\n",
       "      <td>10/31 - 10/31</td>\n",
       "      <td>5360 RV</td>\n",
       "      <td>1.3</td>\n",
       "      <td>50.0</td>\n",
       "      <td>50.0</td>\n",
       "      <td>Tie</td>\n",
       "      <td>0.0</td>\n",
       "    </tr>\n",
       "    <tr>\n",
       "      <th>17</th>\n",
       "      <td>Reuters/IpsosReuters</td>\n",
       "      <td>10/30 - 11/3</td>\n",
       "      <td>2021 LV</td>\n",
       "      <td>2.5</td>\n",
       "      <td>44.0</td>\n",
       "      <td>39.0</td>\n",
       "      <td>Clinton +5</td>\n",
       "      <td>5.0</td>\n",
       "    </tr>\n",
       "    <tr>\n",
       "      <th>18</th>\n",
       "      <td>Economist/YouGovEconomist</td>\n",
       "      <td>10/30 - 11/1</td>\n",
       "      <td>1233 LV</td>\n",
       "      <td>3.2</td>\n",
       "      <td>48.0</td>\n",
       "      <td>45.0</td>\n",
       "      <td>Clinton +3</td>\n",
       "      <td>3.0</td>\n",
       "    </tr>\n",
       "    <tr>\n",
       "      <th>19</th>\n",
       "      <td>Reuters/IpsosReuters</td>\n",
       "      <td>10/29 - 11/2</td>\n",
       "      <td>1858 LV</td>\n",
       "      <td>2.6</td>\n",
       "      <td>45.0</td>\n",
       "      <td>39.0</td>\n",
       "      <td>Clinton +6</td>\n",
       "      <td>6.0</td>\n",
       "    </tr>\n",
       "  </tbody>\n",
       "</table>\n",
       "</div>"
      ],
      "text/plain": [
       "                                     Poll           Date    Sample  MoE  \\\n",
       "0                           Final Results             --        --   --   \n",
       "1                             RCP Average    11/1 - 11/7        --   --   \n",
       "2                      BloombergBloomberg    11/4 - 11/6    799 LV  3.5   \n",
       "3      IBD/TIPP TrackingIBD/TIPP Tracking    11/4 - 11/7   1107 LV  3.1   \n",
       "4               Economist/YouGovEconomist    11/4 - 11/7   3669 LV   --   \n",
       "5           LA Times/USC TrackingLA Times    11/1 - 11/7   2935 LV  4.5   \n",
       "6   ABC/Wash Post TrackingABC/WP Tracking    11/3 - 11/6   2220 LV  2.5   \n",
       "7                        FOX NewsFOX News    11/3 - 11/6   1295 LV  2.5   \n",
       "8                        MonmouthMonmouth    11/3 - 11/6    748 LV  3.6   \n",
       "9           NBC News/Wall St. JrnlNBC/WSJ    11/3 - 11/5   1282 LV  2.7   \n",
       "10                       CBS NewsCBS News    11/2 - 11/6   1426 LV  3.0   \n",
       "11                   Reuters/IpsosReuters    11/2 - 11/6   2196 LV  2.3   \n",
       "12              McClatchy/MaristMcClatchy    11/1 - 11/3    940 LV  3.2   \n",
       "13                       FOX NewsFOX News    11/1 - 11/3   1107 LV  3.0   \n",
       "14                    NBC News/SMNBC News   10/31 - 11/6  30145 LV  1.0   \n",
       "15                   Reuters/IpsosReuters   10/31 - 11/4   2244 LV  2.2   \n",
       "16                           GravisGravis  10/31 - 10/31   5360 RV  1.3   \n",
       "17                   Reuters/IpsosReuters   10/30 - 11/3   2021 LV  2.5   \n",
       "18              Economist/YouGovEconomist   10/30 - 11/1   1233 LV  3.2   \n",
       "19                   Reuters/IpsosReuters   10/29 - 11/2   1858 LV  2.6   \n",
       "\n",
       "    Clinton (D)  Trump (R)        Spread  diff  \n",
       "0          48.2       46.1  Clinton +2.1   2.1  \n",
       "1          46.8       43.6  Clinton +3.2   3.2  \n",
       "2          46.0       43.0    Clinton +3   3.0  \n",
       "3          43.0       42.0    Clinton +1   1.0  \n",
       "4          49.0       45.0    Clinton +4   4.0  \n",
       "5          44.0       47.0      Trump +3  -3.0  \n",
       "6          49.0       46.0    Clinton +3   3.0  \n",
       "7          48.0       44.0    Clinton +4   4.0  \n",
       "8          50.0       44.0    Clinton +6   6.0  \n",
       "9          48.0       43.0    Clinton +5   5.0  \n",
       "10         47.0       43.0    Clinton +4   4.0  \n",
       "11         44.0       39.0    Clinton +5   5.0  \n",
       "12         46.0       44.0    Clinton +2   2.0  \n",
       "13         46.0       45.0    Clinton +1   1.0  \n",
       "14         51.0       44.0    Clinton +7   7.0  \n",
       "15         44.0       40.0    Clinton +4   4.0  \n",
       "16         50.0       50.0           Tie   0.0  \n",
       "17         44.0       39.0    Clinton +5   5.0  \n",
       "18         48.0       45.0    Clinton +3   3.0  \n",
       "19         45.0       39.0    Clinton +6   6.0  "
      ]
     },
     "execution_count": 25,
     "metadata": {},
     "output_type": "execute_result"
    }
   ],
   "source": [
    "rcp_final.head(20)"
   ]
  }
 ],
 "metadata": {
  "anaconda-cloud": {},
  "kernelspec": {
   "display_name": "Python 3",
   "language": "python",
   "name": "python3"
  },
  "language_info": {
   "codemirror_mode": {
    "name": "ipython",
    "version": 3
   },
   "file_extension": ".py",
   "mimetype": "text/x-python",
   "name": "python",
   "nbconvert_exporter": "python",
   "pygments_lexer": "ipython3",
   "version": "3.6.4"
  }
 },
 "nbformat": 4,
 "nbformat_minor": 1
}
