{
 "cells": [
  {
   "cell_type": "markdown",
   "metadata": {},
   "source": [
    "# Python datetime module"
   ]
  },
  {
   "cell_type": "markdown",
   "metadata": {},
   "source": [
    "### Objectives\n",
    "#### For datetime module\n",
    "+ Know the 4 main objects in the standard datetime module - **`date, time, datetime, timedelta`**\n",
    "+ A **`date`** refers to only month, day, year\n",
    "+ A **`time`** refer to only hours, minutes, seconds and parts of a second\n",
    "+ A **`datetime`** refers to a combination of date and time\n",
    "+ A **`timedelta`** is in units of days, hours\n",
    "+ Know how to create an instance of each of these 4 classes\n",
    "+ Milliseconds are $10^{-3}$, microseconds are $10^{-6}$ and nanoseconds are $10^{-9}$\n",
    "+ The datetime module only has microsecond precision\n",
    "+ NumPy has nanosecond precision\n",
    "+ Python epoch is Jan 1, 1970 where time equals 0\n",
    "+ strftime - (string format time) takes a datetime object and converts it to a string\n",
    "+ strptime - (string parse time) takes a string and converts it to a datetime object\n",
    "\n",
    "### Prepare for this lesson by\n",
    "+ Reading the [datetime documentation](https://docs.python.org/3/library/datetime.html)"
   ]
  },
  {
   "cell_type": "markdown",
   "metadata": {},
   "source": [
    "# Date vs Time vs Datetime\n",
    "In Python, there is a distinction that needs to be made between date, time and datetime. They all three mean different things and though many functions can use these types of times interchangeably its important to know the difference.\n",
    "* **date** - Just the Month, Day and Year. So 2016-01-01 would represent January 1, 2016 and be considered a 'date'\n",
    "* **time** - Just the Hours, minutes, seconds and parts of a second (milli/micro/nano). 5 hours, 45 minutes and 6.74234 seconds for example\n",
    "* **datetime** - A combination of the above two. Has both date (Year, Month, Day) and time (Hour, Minute, Second) components"
   ]
  },
  {
   "cell_type": "markdown",
   "metadata": {},
   "source": [
    "# Python's date and time functionality\n",
    "Before jumping into pandas datetime functionality we will look at an important standard library, the [datetime library](https://docs.python.org/3.5/library/datetime.html) which contains many powerful (but not powerful enough) functions to support date, time and datetime manipulation."
   ]
  },
  {
   "cell_type": "code",
   "execution_count": 1,
   "metadata": {
    "collapsed": true
   },
   "outputs": [],
   "source": [
    "# this is a standard library so it comes shipped with your python installation. no need to conda install\n",
    "# bring into our namespace\n",
    "import datetime"
   ]
  },
  {
   "cell_type": "markdown",
   "metadata": {},
   "source": [
    "## Create a date, a time and a datetime"
   ]
  },
  {
   "cell_type": "code",
   "execution_count": 2,
   "metadata": {},
   "outputs": [
    {
     "name": "stdout",
     "output_type": "stream",
     "text": [
      "date is  2016-04-11\n",
      "time is 10:54:32.034512\n",
      "datetime is 2016-04-11 10:54:32.034512\n"
     ]
    }
   ],
   "source": [
    "# date takes three parameters for the year, month and day\n",
    "my_date = datetime.date(2016, 4, 11)\n",
    "print(\"date is \", my_date)\n",
    "\n",
    "# time takes four parameters: hour, minute, second, microsecond\n",
    "my_time = datetime.time(10, 54, 32, 34512)\n",
    "print(\"time is\", my_time)\n",
    "\n",
    "# datetime takes parameters for all of the above\n",
    "my_datetime = datetime.datetime(2016, 4, 11, 10, 54, 32, 34512)\n",
    "print(\"datetime is\", my_datetime)"
   ]
  },
  {
   "cell_type": "code",
   "execution_count": 3,
   "metadata": {},
   "outputs": [
    {
     "data": {
      "text/plain": [
       "(datetime.date(2016, 4, 11),\n",
       " datetime.time(10, 54, 32, 34512),\n",
       " datetime.datetime(2016, 4, 11, 10, 54, 32, 34512))"
      ]
     },
     "execution_count": 3,
     "metadata": {},
     "output_type": "execute_result"
    }
   ],
   "source": [
    "# The print function makes the above ouput look pretty. \n",
    "# Below we just display the objects in the raw form\n",
    "my_date, my_time, my_datetime"
   ]
  },
  {
   "cell_type": "code",
   "execution_count": 4,
   "metadata": {},
   "outputs": [
    {
     "data": {
      "text/plain": [
       "(datetime.date, datetime.time, datetime.datetime)"
      ]
     },
     "execution_count": 4,
     "metadata": {},
     "output_type": "execute_result"
    }
   ],
   "source": [
    "# What type are these objects?\n",
    "type(my_date), type(my_time), type(my_datetime)"
   ]
  },
  {
   "cell_type": "code",
   "execution_count": 5,
   "metadata": {},
   "outputs": [
    {
     "name": "stdout",
     "output_type": "stream",
     "text": [
      "Today's date is 2017-07-30\n",
      "Today's time is 11:25:22.976591\n",
      "Today's datetime is 2017-07-30 11:25:22.976674\n"
     ]
    }
   ],
   "source": [
    "# get today's date and datetime\n",
    "print(\"Today's date is\", datetime.date.today())\n",
    "print(\"Today's time is\", datetime.datetime.today().time())\n",
    "print(\"Today's datetime is\", datetime.datetime.today())"
   ]
  },
  {
   "cell_type": "code",
   "execution_count": 6,
   "metadata": {},
   "outputs": [
    {
     "data": {
      "text/plain": [
       "(11, 4, 2016)"
      ]
     },
     "execution_count": 6,
     "metadata": {},
     "output_type": "execute_result"
    }
   ],
   "source": [
    "# Get certain properties of date, time, and datetime\n",
    "my_date.day, my_date.month, my_date.year"
   ]
  },
  {
   "cell_type": "code",
   "execution_count": 7,
   "metadata": {},
   "outputs": [
    {
     "data": {
      "text/plain": [
       "0"
      ]
     },
     "execution_count": 7,
     "metadata": {},
     "output_type": "execute_result"
    }
   ],
   "source": [
    "# What day of the weekday is it? April 11, 2016 was a monday. \n",
    "# Monday = 0 Sunday = 6\n",
    "my_date.weekday()"
   ]
  },
  {
   "cell_type": "code",
   "execution_count": 8,
   "metadata": {},
   "outputs": [
    {
     "data": {
      "text/plain": [
       "(2016, 10, 34512)"
      ]
     },
     "execution_count": 8,
     "metadata": {},
     "output_type": "execute_result"
    }
   ],
   "source": [
    "# properties of datetime\n",
    "my_datetime.year, my_datetime.hour, my_datetime.microsecond"
   ]
  },
  {
   "cell_type": "markdown",
   "metadata": {},
   "source": [
    "## Converting strings to datetime and datetime to string\n",
    "There are two functions, **strftime** and **strptime** which are excellent tools for converting strings to datetime and vice-versa\n",
    "* **strftime** - stands for **string format time** and is really a method acting on a date, datetime or time object and converts that object into a string. It's one argument is the format you want the string to be\n",
    "* **strptime** - stands for **string parse time** and takes two arguments. The time as a string and the format also a string that tells the function what format the time is in.\n",
    "\n",
    "[The documentation is going to be very helpful](https://docs.python.org/3.5/library/datetime.html#strftime-and-strptime-behavior) here as the formats used in strftime and strptime use something called **directives** to determine the string that matches up with the date and time. "
   ]
  },
  {
   "cell_type": "markdown",
   "metadata": {},
   "source": [
    "### `strfttime`\n",
    "Lets start with strftime and convert date, datetime and time into strings. A directive is preceded immediately by a %. You may insert other characters between each directive"
   ]
  },
  {
   "cell_type": "code",
   "execution_count": 9,
   "metadata": {},
   "outputs": [
    {
     "data": {
      "text/plain": [
       "'2016-04-11'"
      ]
     },
     "execution_count": 9,
     "metadata": {},
     "output_type": "execute_result"
    }
   ],
   "source": [
    "# Convert directly into a string of your choice. Lookup directives online\n",
    "my_date.strftime(\"%Y-%m-%d\")"
   ]
  },
  {
   "cell_type": "code",
   "execution_count": 10,
   "metadata": {},
   "outputs": [
    {
     "data": {
      "text/plain": [
       "'Remembering back to Monday, April 11, 2016.... What a fantastic day that was.'"
      ]
     },
     "execution_count": 10,
     "metadata": {},
     "output_type": "execute_result"
    }
   ],
   "source": [
    "# Another more involved directive\n",
    "my_date.strftime(\"Remembering back to %A, %B %d, %Y.... What a fantastic day that was.\")"
   ]
  },
  {
   "cell_type": "markdown",
   "metadata": {},
   "source": [
    "### `strptime`\n",
    "This takes a string and a directives and converts it to a python datetime object."
   ]
  },
  {
   "cell_type": "code",
   "execution_count": 11,
   "metadata": {},
   "outputs": [
    {
     "data": {
      "text/plain": [
       "datetime.datetime(2016, 1, 5, 0, 0)"
      ]
     },
     "execution_count": 11,
     "metadata": {},
     "output_type": "execute_result"
    }
   ],
   "source": [
    "datetime.datetime.strptime(\"2016-01-05\", \"%Y-%m-%d\")"
   ]
  },
  {
   "cell_type": "code",
   "execution_count": 12,
   "metadata": {},
   "outputs": [
    {
     "data": {
      "text/plain": [
       "datetime.datetime(2016, 1, 10, 5, 42)"
      ]
     },
     "execution_count": 12,
     "metadata": {},
     "output_type": "execute_result"
    }
   ],
   "source": [
    "# an example where month, day, year, minute and hour are smashed together\n",
    "datestring = \"011020160542\"\n",
    "datetime.datetime.strptime(datestring, \"%m%d%Y%H%M\")"
   ]
  },
  {
   "cell_type": "markdown",
   "metadata": {},
   "source": [
    "# Date and Datetime addition\n",
    "It's possible to add an amount of time to a date or datetime object using the timedelta function. timedelta simply produces some amount of time measured in days, seconds and microseconds. You can then use this object to add to date or datetime objects.\n",
    "\n",
    "**`timedelta`** objects are constructed with the following definition: \n",
    "\n",
    "**`timedelta(days=0, seconds=0, microseconds=0, milliseconds=0, minutes=0, hours=0, weeks=0)`**"
   ]
  },
  {
   "cell_type": "code",
   "execution_count": 13,
   "metadata": {
    "collapsed": true
   },
   "outputs": [],
   "source": [
    "# timedelta can take many arguments\n",
    "# days, seconds, microseconds, milliseconds, minutes, hours, weeks=\n",
    "my_timedelta = datetime.timedelta(seconds = 5000) "
   ]
  },
  {
   "cell_type": "code",
   "execution_count": 14,
   "metadata": {},
   "outputs": [
    {
     "data": {
      "text/plain": [
       "datetime.datetime(2016, 4, 11, 12, 17, 52, 34512)"
      ]
     },
     "execution_count": 14,
     "metadata": {},
     "output_type": "execute_result"
    }
   ],
   "source": [
    "# add to datetime\n",
    "my_datetime + my_timedelta"
   ]
  },
  {
   "cell_type": "code",
   "execution_count": 15,
   "metadata": {},
   "outputs": [
    {
     "data": {
      "text/plain": [
       "datetime.datetime(2016, 4, 11, 10, 54, 32, 34512)"
      ]
     },
     "execution_count": 15,
     "metadata": {},
     "output_type": "execute_result"
    }
   ],
   "source": [
    "# original\n",
    "my_datetime"
   ]
  },
  {
   "cell_type": "code",
   "execution_count": 16,
   "metadata": {},
   "outputs": [
    {
     "data": {
      "text/plain": [
       "datetime.date(2016, 4, 11)"
      ]
     },
     "execution_count": 16,
     "metadata": {},
     "output_type": "execute_result"
    }
   ],
   "source": [
    "# add to date\n",
    "my_date + my_timedelta"
   ]
  },
  {
   "cell_type": "code",
   "execution_count": 17,
   "metadata": {},
   "outputs": [
    {
     "data": {
      "text/plain": [
       "datetime.date(2016, 4, 11)"
      ]
     },
     "execution_count": 17,
     "metadata": {},
     "output_type": "execute_result"
    }
   ],
   "source": [
    "# original date. Nothing changed since 5000 seconds wasn't long enough to make an extra day\n",
    "my_date"
   ]
  },
  {
   "cell_type": "code",
   "execution_count": 18,
   "metadata": {},
   "outputs": [
    {
     "data": {
      "text/plain": [
       "datetime.date(2016, 4, 16)"
      ]
     },
     "execution_count": 18,
     "metadata": {},
     "output_type": "execute_result"
    }
   ],
   "source": [
    "# now there is a change\n",
    "my_date + datetime.timedelta(days = 5)"
   ]
  },
  {
   "cell_type": "code",
   "execution_count": 19,
   "metadata": {
    "collapsed": true
   },
   "outputs": [],
   "source": [
    "# add weeks\n",
    "a = my_datetime + datetime.timedelta(weeks = 72, days = 4, hours = 44)"
   ]
  },
  {
   "cell_type": "code",
   "execution_count": 20,
   "metadata": {},
   "outputs": [
    {
     "name": "stdout",
     "output_type": "stream",
     "text": [
      "datetime.datetime(2017, 9, 3, 6, 54, 32, 34512)\n",
      "2017-09-03 06:54:32.034512\n"
     ]
    }
   ],
   "source": [
    "# the difference between the underlying string representation and the print function\n",
    "print(a.__repr__())\n",
    "print(a)"
   ]
  },
  {
   "cell_type": "code",
   "execution_count": 21,
   "metadata": {},
   "outputs": [
    {
     "data": {
      "text/plain": [
       "datetime.timedelta(509, 72000)"
      ]
     },
     "execution_count": 21,
     "metadata": {},
     "output_type": "execute_result"
    }
   ],
   "source": [
    "datetime.timedelta(weeks = 72, days = 4, hours = 44)"
   ]
  },
  {
   "cell_type": "markdown",
   "metadata": {},
   "source": [
    "### dateutil.relativedelta\n",
    "An upgrade to the **`timedelta`** class exists with the **`relativedelta`** class from the extension package **`dateutil`**. Check [this stackoverflow](http://stackoverflow.com/questions/12433233/what-is-the-difference-between-datetime-timedelta-and-dateutil-relativedelta) post for more detail."
   ]
  }
 ],
 "metadata": {
  "kernelspec": {
   "display_name": "Python 3",
   "language": "python",
   "name": "python3"
  },
  "language_info": {
   "codemirror_mode": {
    "name": "ipython",
    "version": 3
   },
   "file_extension": ".py",
   "mimetype": "text/x-python",
   "name": "python",
   "nbconvert_exporter": "python",
   "pygments_lexer": "ipython3",
   "version": "3.6.4"
  }
 },
 "nbformat": 4,
 "nbformat_minor": 2
}
