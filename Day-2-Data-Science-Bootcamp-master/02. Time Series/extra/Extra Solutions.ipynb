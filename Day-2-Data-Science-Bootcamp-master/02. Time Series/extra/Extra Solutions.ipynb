{
 "cells": [
  {
   "cell_type": "markdown",
   "metadata": {},
   "source": [
    "# Solutions"
   ]
  },
  {
   "cell_type": "code",
   "execution_count": 1,
   "metadata": {
    "collapsed": true
   },
   "outputs": [],
   "source": [
    "import pandas as pd\n",
    "import matplotlib.pyplot as plt\n",
    "import numpy as np\n",
    "import datetime\n",
    "\n",
    "%matplotlib inline\n",
    "plt.style.use(\"ggplot\")"
   ]
  },
  {
   "cell_type": "markdown",
   "metadata": {},
   "source": [
    "## Problem 1\n",
    "<span  style=\"color:green; font-size:16px\">Create a datetime object with values for both the date and time part and extract the date and time into separate variables. Can you add the date and time objects together to get the same datetime object?</span>"
   ]
  },
  {
   "cell_type": "code",
   "execution_count": 2,
   "metadata": {},
   "outputs": [
    {
     "data": {
      "text/plain": [
       "(datetime.time(5, 42), datetime.date(2016, 5, 6))"
      ]
     },
     "execution_count": 2,
     "metadata": {},
     "output_type": "execute_result"
    }
   ],
   "source": [
    "# your code here\n",
    "dt = datetime.datetime(2016, 5, 6, 5, 42)\n",
    "t = dt.time()\n",
    "d = dt.date()\n",
    "t, d"
   ]
  },
  {
   "cell_type": "code",
   "execution_count": 3,
   "metadata": {},
   "outputs": [
    {
     "ename": "TypeError",
     "evalue": "unsupported operand type(s) for +: 'datetime.time' and 'datetime.date'",
     "output_type": "error",
     "traceback": [
      "\u001b[0;31m---------------------------------------------------------------------------\u001b[0m",
      "\u001b[0;31mTypeError\u001b[0m                                 Traceback (most recent call last)",
      "\u001b[0;32m<ipython-input-3-06cc2ebdc692>\u001b[0m in \u001b[0;36m<module>\u001b[0;34m()\u001b[0m\n\u001b[1;32m      1\u001b[0m \u001b[0;31m# different types wont add\u001b[0m\u001b[0;34m\u001b[0m\u001b[0;34m\u001b[0m\u001b[0m\n\u001b[0;32m----> 2\u001b[0;31m \u001b[0mt\u001b[0m \u001b[0;34m+\u001b[0m \u001b[0md\u001b[0m\u001b[0;34m\u001b[0m\u001b[0m\n\u001b[0m",
      "\u001b[0;31mTypeError\u001b[0m: unsupported operand type(s) for +: 'datetime.time' and 'datetime.date'"
     ]
    }
   ],
   "source": [
    "# different types wont add\n",
    "t + d"
   ]
  },
  {
   "cell_type": "markdown",
   "metadata": {},
   "source": [
    "## Problem 2\n",
    "<span  style=\"color:green; font-size:16px\">Create a datetime object and add to it 6 hours 42 minutes and 123456 microseconds</span>"
   ]
  },
  {
   "cell_type": "code",
   "execution_count": 4,
   "metadata": {},
   "outputs": [
    {
     "data": {
      "text/plain": [
       "datetime.datetime(2017, 7, 30, 18, 8, 12, 640786)"
      ]
     },
     "execution_count": 4,
     "metadata": {},
     "output_type": "execute_result"
    }
   ],
   "source": [
    "dt = datetime.datetime.today()\n",
    "td = datetime.timedelta(hours=6, minutes=42, microseconds=123456)\n",
    "dt + td"
   ]
  },
  {
   "cell_type": "code",
   "execution_count": 5,
   "metadata": {},
   "outputs": [
    {
     "name": "stdout",
     "output_type": "stream",
     "text": [
      "2017-07-30 18:08:12.640786\n"
     ]
    }
   ],
   "source": [
    "print(dt + td)"
   ]
  },
  {
   "cell_type": "markdown",
   "metadata": {},
   "source": [
    "## Problem 3\n",
    "<span  style=\"color:green; font-size:16px\">Write a list comprehension that contains 100 elements with each element being the current datetime (of the execution of that list comprehension iteration)</span>"
   ]
  },
  {
   "cell_type": "code",
   "execution_count": 6,
   "metadata": {},
   "outputs": [],
   "source": [
    "# your code here\n",
    "todays_datetimes = [datetime.datetime.today() for i in range(100)]"
   ]
  },
  {
   "cell_type": "markdown",
   "metadata": {},
   "source": [
    "## Problem 4\n",
    "<span  style=\"color:green; font-size:16px\">Put the list from problem 3 into a Series and then find the average difference between iterations. You may have to google how to find the difference between values in a Series.</span>"
   ]
  },
  {
   "cell_type": "code",
   "execution_count": 7,
   "metadata": {},
   "outputs": [
    {
     "data": {
      "text/plain": [
       "Timedelta('0 days 00:00:00.000001')"
      ]
     },
     "execution_count": 7,
     "metadata": {},
     "output_type": "execute_result"
    }
   ],
   "source": [
    "# your code here\n",
    "s = pd.Series(todays_datetimes)\n",
    "s.diff().mean()"
   ]
  },
  {
   "cell_type": "markdown",
   "metadata": {},
   "source": [
    "## Problem 5\n",
    "<span  style=\"color:green; font-size:16px\">Use the datetime library to convert \"2016bbb12---15\" into a date</span>"
   ]
  },
  {
   "cell_type": "code",
   "execution_count": 8,
   "metadata": {},
   "outputs": [
    {
     "data": {
      "text/plain": [
       "datetime.datetime(2016, 12, 15, 0, 0)"
      ]
     },
     "execution_count": 8,
     "metadata": {},
     "output_type": "execute_result"
    }
   ],
   "source": [
    "# your code here\n",
    "convert_me = \"2016bbb12---15\"\n",
    "datetime.datetime.strptime(convert_me, \"%Ybbb%m---%d\")"
   ]
  },
  {
   "cell_type": "markdown",
   "metadata": {},
   "source": [
    "## Problem 6\n",
    "<span  style=\"color:green; font-size:16px\">Convert the date below to \"On Friday July the 8th, 2016 it was very hot.\" Don't forget the [directives](https://docs.python.org/3.5/library/datetime.html#strftime-and-strptime-behavior)  </span>"
   ]
  },
  {
   "cell_type": "code",
   "execution_count": 9,
   "metadata": {},
   "outputs": [
    {
     "data": {
      "text/plain": [
       "'On Friday July the 8th, 2016 it was very hot.'"
      ]
     },
     "execution_count": 9,
     "metadata": {},
     "output_type": "execute_result"
    }
   ],
   "source": [
    "# your code here\n",
    "d = datetime.date(2016, 7, 8)\n",
    "\n",
    "# use a hyphen to remove zero-padding\n",
    "d.strftime(\"On %A %B the %-dth, %Y it was very hot.\")"
   ]
  },
  {
   "cell_type": "markdown",
   "metadata": {},
   "source": [
    "## Problem 7\n",
    "<span  style=\"color:green; font-size:16px\"> Create a pandas Timestamp out of a datetime object</span>"
   ]
  },
  {
   "cell_type": "code",
   "execution_count": 10,
   "metadata": {},
   "outputs": [
    {
     "data": {
      "text/plain": [
       "Timestamp('2016-05-12 03:42:56')"
      ]
     },
     "execution_count": 10,
     "metadata": {},
     "output_type": "execute_result"
    }
   ],
   "source": [
    "# your code here\n",
    "ts = pd.Timestamp(datetime.datetime(2016,5, 12, 3, 42, 56))\n",
    "ts"
   ]
  },
  {
   "cell_type": "markdown",
   "metadata": {},
   "source": [
    "## Problem 8\n",
    "<span  style=\"color:green; font-size:16px\"> Using the datetime library, find out how many days you have been alive. Save this to the variable `days_alive`</span>"
   ]
  },
  {
   "cell_type": "code",
   "execution_count": 11,
   "metadata": {},
   "outputs": [
    {
     "data": {
      "text/plain": [
       "13198"
      ]
     },
     "execution_count": 11,
     "metadata": {},
     "output_type": "execute_result"
    }
   ],
   "source": [
    "# your code here\n",
    "days_alive = (datetime.datetime.today() - datetime.datetime(1981, 6, 11))\n",
    "days_alive.days"
   ]
  },
  {
   "cell_type": "markdown",
   "metadata": {
    "collapsed": true
   },
   "source": [
    "## Problem 9\n",
    "<span  style=\"color:green; font-size:16px\">It's possible to divide two timedelta objects together. With that information,  use pd.Timedelta to find out how many nanoseconds you have been alive for.</span>"
   ]
  },
  {
   "cell_type": "code",
   "execution_count": 12,
   "metadata": {},
   "outputs": [
    {
     "data": {
      "text/plain": [
       "1.14034837255957e+18"
      ]
     },
     "execution_count": 12,
     "metadata": {},
     "output_type": "execute_result"
    }
   ],
   "source": [
    "# your code here\n",
    "days_alive / pd.Timedelta(nanoseconds=1)"
   ]
  },
  {
   "cell_type": "markdown",
   "metadata": {},
   "source": [
    "## Problem 10\n",
    "<span  style=\"color:green; font-size:16px\">What day of the week was October 12, 1492?</span>"
   ]
  },
  {
   "cell_type": "code",
   "execution_count": 13,
   "metadata": {},
   "outputs": [
    {
     "data": {
      "text/plain": [
       "'Wednesday'"
      ]
     },
     "execution_count": 13,
     "metadata": {},
     "output_type": "execute_result"
    }
   ],
   "source": [
    "# your code here\n",
    "d = datetime.date(1492, 10, 12)\n",
    "d.strftime('%A')"
   ]
  },
  {
   "cell_type": "code",
   "execution_count": 14,
   "metadata": {},
   "outputs": [
    {
     "data": {
      "text/plain": [
       "2"
      ]
     },
     "execution_count": 14,
     "metadata": {},
     "output_type": "execute_result"
    }
   ],
   "source": [
    "# or\n",
    "# 0 is Monday so 2 is wednesday\n",
    "d.weekday()"
   ]
  },
  {
   "cell_type": "markdown",
   "metadata": {},
   "source": [
    "## Problem 11\n",
    "<span  style=\"color:green; font-size:16px\">Create a range of dates using pandas that span at least a couple years without using the `start` argument and using a different frequency than `days`</span>"
   ]
  },
  {
   "cell_type": "code",
   "execution_count": 15,
   "metadata": {},
   "outputs": [
    {
     "data": {
      "text/plain": [
       "pandas.core.indexes.datetimes.DatetimeIndex"
      ]
     },
     "execution_count": 15,
     "metadata": {},
     "output_type": "execute_result"
    }
   ],
   "source": [
    "# your code here\n",
    "rng = pd.date_range(end='2018-01-19', periods=200, freq='BM')\n",
    "\n",
    "# a DatetimeIndex was created\n",
    "type(rng)"
   ]
  },
  {
   "cell_type": "markdown",
   "metadata": {},
   "source": [
    "## Problem 12\n",
    "<span  style=\"color:green; font-size:16px\">Investigate the DatetimeIndex object you created in problem 11. Use the dot notation along with pressing tab to view many of the methods. Explore several methods including the ones that begin with `is_...`</span>"
   ]
  },
  {
   "cell_type": "code",
   "execution_count": 16,
   "metadata": {},
   "outputs": [
    {
     "data": {
      "text/plain": [
       "Int64Index([31, 29, 31, 31, 28, 31, 30, 31, 31, 28,\n",
       "            ...\n",
       "            31, 28, 31, 30, 31, 31, 29, 31, 30, 29],\n",
       "           dtype='int64', length=200)"
      ]
     },
     "execution_count": 16,
     "metadata": {},
     "output_type": "execute_result"
    }
   ],
   "source": [
    "# your code here\n",
    "rng.day"
   ]
  },
  {
   "cell_type": "code",
   "execution_count": 17,
   "metadata": {},
   "outputs": [
    {
     "data": {
      "text/plain": [
       "array([ True,  True,  True,  True,  True,  True,  True,  True,  True,\n",
       "        True,  True,  True,  True,  True,  True,  True,  True,  True,\n",
       "        True,  True,  True,  True,  True,  True,  True,  True,  True,\n",
       "        True,  True,  True,  True,  True,  True,  True,  True,  True,\n",
       "        True,  True,  True,  True,  True,  True,  True,  True,  True,\n",
       "        True,  True,  True,  True,  True,  True,  True,  True,  True,\n",
       "        True,  True,  True,  True,  True,  True,  True,  True,  True,\n",
       "        True,  True,  True,  True,  True,  True,  True,  True,  True,\n",
       "        True,  True,  True,  True,  True,  True,  True,  True,  True,\n",
       "        True,  True,  True,  True,  True,  True,  True,  True,  True,\n",
       "        True,  True,  True,  True,  True,  True,  True,  True,  True,\n",
       "        True,  True,  True,  True,  True,  True,  True,  True,  True,\n",
       "        True,  True,  True,  True,  True,  True,  True,  True,  True,\n",
       "        True,  True,  True,  True,  True,  True,  True,  True,  True,\n",
       "        True,  True,  True,  True,  True,  True,  True,  True,  True,\n",
       "        True,  True,  True,  True,  True,  True,  True,  True,  True,\n",
       "        True,  True,  True,  True,  True,  True,  True,  True,  True,\n",
       "        True,  True,  True,  True,  True,  True,  True,  True,  True,\n",
       "        True,  True,  True,  True,  True,  True,  True,  True,  True,\n",
       "        True,  True,  True,  True,  True,  True,  True,  True,  True,\n",
       "        True,  True,  True,  True,  True,  True,  True,  True,  True,\n",
       "        True,  True,  True,  True,  True,  True,  True,  True,  True,\n",
       "        True,  True], dtype=bool)"
      ]
     },
     "execution_count": 17,
     "metadata": {},
     "output_type": "execute_result"
    }
   ],
   "source": [
    "rng.is_month_end"
   ]
  },
  {
   "cell_type": "markdown",
   "metadata": {},
   "source": [
    "## Problem 13\n",
    "<span  style=\"color:green; font-size:16px\">Create a series with the above DatetimeIndex as the index. Fill the index with the cumulative sum of an array of random normal numpy variables</span>"
   ]
  },
  {
   "cell_type": "code",
   "execution_count": 18,
   "metadata": {},
   "outputs": [
    {
     "data": {
      "text/plain": [
       "2001-05-31    0.359610\n",
       "2001-06-29   -1.420548\n",
       "2001-07-31   -1.846312\n",
       "2001-08-31   -0.805114\n",
       "2001-09-28   -2.187929\n",
       "Freq: BM, dtype: float64"
      ]
     },
     "execution_count": 18,
     "metadata": {},
     "output_type": "execute_result"
    }
   ],
   "source": [
    "# your code here\n",
    "s = pd.Series(np.random.randn(len(rng)).cumsum(), index=rng)\n",
    "s.head()"
   ]
  },
  {
   "cell_type": "markdown",
   "metadata": {},
   "source": [
    "## Problem 14\n",
    "<span  style=\"color:green; font-size:16px\">Slice the series from problem 13 from one date to another by 4</span>"
   ]
  },
  {
   "cell_type": "code",
   "execution_count": 19,
   "metadata": {},
   "outputs": [
    {
     "data": {
      "text/plain": [
       "2013-03-29   -16.206702\n",
       "2013-07-31   -16.185505\n",
       "2013-11-29   -12.201472\n",
       "2014-03-31   -14.814014\n",
       "2014-07-31   -15.451352\n",
       "2014-11-28   -17.113315\n",
       "2015-03-31   -15.298476\n",
       "2015-07-31   -15.347387\n",
       "2015-11-30   -15.959287\n",
       "Freq: 4BM, dtype: float64"
      ]
     },
     "execution_count": 19,
     "metadata": {},
     "output_type": "execute_result"
    }
   ],
   "source": [
    "# your code here\n",
    "s['2013-03-01':'2015-12-12':4]"
   ]
  },
  {
   "cell_type": "markdown",
   "metadata": {},
   "source": [
    "## Problem 15\n",
    "<span  style=\"color:green; font-size:16px\">Use the `asfreq` method on the series above to sample using a less frequent date offset. If your offset is currently weeks, take a sample of months or two weeks.</span>"
   ]
  },
  {
   "cell_type": "code",
   "execution_count": 20,
   "metadata": {},
   "outputs": [
    {
     "data": {
      "text/plain": [
       "2001-05-31     0.359610\n",
       "2002-01-31    -4.581577\n",
       "2002-09-30    -1.586022\n",
       "2003-05-30    -2.108902\n",
       "2004-01-30    -1.202091\n",
       "2004-09-30    -1.911009\n",
       "2005-05-31    -1.895517\n",
       "2006-01-31    -2.343519\n",
       "2006-09-29    -2.130844\n",
       "2007-05-31    -4.327405\n",
       "2008-01-31    -5.520691\n",
       "2008-09-30    -9.151607\n",
       "2009-05-29    -7.697795\n",
       "2010-01-29   -11.114072\n",
       "2010-09-30   -13.119955\n",
       "2011-05-31   -12.021433\n",
       "2012-01-31   -15.929188\n",
       "2012-09-28   -18.304283\n",
       "2013-05-31   -16.628353\n",
       "2014-01-31   -12.030982\n",
       "2014-09-30   -17.171104\n",
       "2015-05-29   -13.416803\n",
       "2016-01-29   -16.757285\n",
       "2016-09-30   -12.481127\n",
       "2017-05-31   -13.597696\n",
       "Freq: 8BM, dtype: float64"
      ]
     },
     "execution_count": 20,
     "metadata": {},
     "output_type": "execute_result"
    }
   ],
   "source": [
    "# your code here\n",
    "# every 8th business end of month\n",
    "s.asfreq('8BM')"
   ]
  },
  {
   "cell_type": "markdown",
   "metadata": {},
   "source": [
    "## Problem 16\n",
    "<span  style=\"color:green; font-size:16px\">Do the opposite of 16. Use the method `asfreq` to sample a more frequent date offset. Remove the missing values with by utilizing the `pad` argument.</span>"
   ]
  },
  {
   "cell_type": "code",
   "execution_count": 21,
   "metadata": {},
   "outputs": [
    {
     "data": {
      "text/plain": [
       "2001-05-31    0.359610\n",
       "2001-06-05   -1.420548\n",
       "2001-06-08   -1.420548\n",
       "2001-06-13   -1.420548\n",
       "2001-06-18   -1.420548\n",
       "2001-06-21   -1.420548\n",
       "2001-06-26   -1.420548\n",
       "2001-06-29   -1.420548\n",
       "2001-07-04   -1.846312\n",
       "2001-07-09   -1.846312\n",
       "2001-07-12   -1.846312\n",
       "2001-07-17   -1.846312\n",
       "2001-07-20   -1.846312\n",
       "2001-07-25   -1.846312\n",
       "2001-07-30   -1.846312\n",
       "Freq: 3B, dtype: float64"
      ]
     },
     "execution_count": 21,
     "metadata": {},
     "output_type": "execute_result"
    }
   ],
   "source": [
    "# your code here\n",
    "s.asfreq('3B', method='bfill').head(15)"
   ]
  },
  {
   "cell_type": "markdown",
   "metadata": {},
   "source": [
    "## Problem 17\n",
    "<span  style=\"color:green; font-size:16px\">Aggregate your data by using the resample method. Use 5 of your date offsets as the size of your group. Find the median for each group.</span>"
   ]
  },
  {
   "cell_type": "code",
   "execution_count": 22,
   "metadata": {},
   "outputs": [
    {
     "data": {
      "text/plain": [
       "2001-05-31     0.359610\n",
       "2001-10-31    -1.846312\n",
       "2002-03-29    -3.180446\n",
       "2002-08-30    -1.867068\n",
       "2003-01-31    -2.317378\n",
       "2003-06-30    -1.764211\n",
       "2003-11-28    -0.585810\n",
       "2004-04-30    -0.810706\n",
       "2004-09-30    -1.594263\n",
       "2005-02-28    -2.163035\n",
       "2005-07-29    -2.133568\n",
       "2005-12-30    -2.968068\n",
       "2006-05-31    -3.517873\n",
       "2006-10-31    -2.431004\n",
       "2007-03-30    -2.476187\n",
       "2007-08-31    -4.343515\n",
       "2008-01-31    -4.941720\n",
       "2008-06-30    -7.648606\n",
       "2008-11-28    -9.151607\n",
       "2009-04-30    -7.647009\n",
       "2009-09-30    -6.576633\n",
       "2010-02-26    -8.668459\n",
       "2010-07-30   -11.874861\n",
       "2010-12-31   -12.454280\n",
       "2011-05-31   -11.958191\n",
       "2011-10-31   -11.465446\n",
       "2012-03-30   -15.929188\n",
       "2012-08-31   -19.174799\n",
       "2013-01-31   -18.526084\n",
       "2013-06-28   -16.628353\n",
       "2013-11-29   -12.779013\n",
       "2014-04-30   -13.075839\n",
       "2014-09-30   -15.451352\n",
       "2015-02-27   -15.821607\n",
       "2015-07-31   -14.131758\n",
       "2015-12-31   -15.786745\n",
       "2016-05-31   -16.081797\n",
       "2016-10-31   -11.857621\n",
       "2017-03-31   -12.536217\n",
       "2017-08-31   -12.912908\n",
       "2018-01-31   -15.913156\n",
       "Freq: 5BM, dtype: float64"
      ]
     },
     "execution_count": 22,
     "metadata": {},
     "output_type": "execute_result"
    }
   ],
   "source": [
    "# your code here\n",
    "s_median = s.resample('5BM').median()\n",
    "s_median"
   ]
  },
  {
   "cell_type": "markdown",
   "metadata": {},
   "source": [
    "## Problem 18\n",
    "<span  style=\"color:green; font-size:16px\">Plot the aggregated data along with the original data on the same plot.</span>"
   ]
  },
  {
   "cell_type": "code",
   "execution_count": 23,
   "metadata": {},
   "outputs": [
    {
     "data": {
      "image/png": "[encoded data removed]",
      "text/plain": [
       "<matplotlib.figure.Figure at 0x10e8bca20>"
      ]
     },
     "metadata": {},
     "output_type": "display_data"
    }
   ],
   "source": [
    "# your code here\n",
    "s.plot(figsize=(12,10), label=\"Actual\")\n",
    "s_median.plot(label=\"Median\")\n",
    "plt.legend();"
   ]
  }
 ],
 "metadata": {
  "anaconda-cloud": {},
  "kernelspec": {
   "display_name": "Python 3",
   "language": "python",
   "name": "python3"
  },
  "language_info": {
   "codemirror_mode": {
    "name": "ipython",
    "version": 3
   },
   "file_extension": ".py",
   "mimetype": "text/x-python",
   "name": "python",
   "nbconvert_exporter": "python",
   "pygments_lexer": "ipython3",
   "version": "3.6.4"
  }
 },
 "nbformat": 4,
 "nbformat_minor": 1
}
