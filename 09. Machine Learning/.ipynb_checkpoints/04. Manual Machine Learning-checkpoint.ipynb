{
 "cells": [
  {
   "cell_type": "markdown",
   "metadata": {},
   "source": [
    "# 4. Manual Machine Learning\n",
    "\n",
    "### Objectives\n",
    "\n",
    "* Subdivide the dataset manually to make predictions without using Scikit-Learn"
   ]
  },
  {
   "cell_type": "code",
   "execution_count": 1,
   "metadata": {},
   "outputs": [
    {
     "data": {
      "text/html": [
       "<div>\n",
       "<style scoped>\n",
       "    .dataframe tbody tr th:only-of-type {\n",
       "        vertical-align: middle;\n",
       "    }\n",
       "\n",
       "    .dataframe tbody tr th {\n",
       "        vertical-align: top;\n",
       "    }\n",
       "\n",
       "    .dataframe thead th {\n",
       "        text-align: right;\n",
       "    }\n",
       "</style>\n",
       "<table border=\"1\" class=\"dataframe\">\n",
       "  <thead>\n",
       "    <tr style=\"text-align: right;\">\n",
       "      <th></th>\n",
       "      <th>age</th>\n",
       "      <th>sex</th>\n",
       "      <th>chest_pain</th>\n",
       "      <th>rest_bp</th>\n",
       "      <th>chol</th>\n",
       "      <th>fbs</th>\n",
       "      <th>rest_ecg</th>\n",
       "      <th>max_hr</th>\n",
       "      <th>exang</th>\n",
       "      <th>old_peak</th>\n",
       "      <th>slope</th>\n",
       "      <th>ca</th>\n",
       "      <th>thal</th>\n",
       "      <th>disease</th>\n",
       "    </tr>\n",
       "  </thead>\n",
       "  <tbody>\n",
       "    <tr>\n",
       "      <th>0</th>\n",
       "      <td>63</td>\n",
       "      <td>Male</td>\n",
       "      <td>typical</td>\n",
       "      <td>145</td>\n",
       "      <td>233</td>\n",
       "      <td>1</td>\n",
       "      <td>left ventricular hypertrophy</td>\n",
       "      <td>150</td>\n",
       "      <td>0</td>\n",
       "      <td>2.3</td>\n",
       "      <td>3</td>\n",
       "      <td>0.0</td>\n",
       "      <td>fixed</td>\n",
       "      <td>0</td>\n",
       "    </tr>\n",
       "    <tr>\n",
       "      <th>1</th>\n",
       "      <td>67</td>\n",
       "      <td>Male</td>\n",
       "      <td>asymptomatic</td>\n",
       "      <td>160</td>\n",
       "      <td>286</td>\n",
       "      <td>0</td>\n",
       "      <td>left ventricular hypertrophy</td>\n",
       "      <td>108</td>\n",
       "      <td>1</td>\n",
       "      <td>1.5</td>\n",
       "      <td>2</td>\n",
       "      <td>3.0</td>\n",
       "      <td>normal</td>\n",
       "      <td>1</td>\n",
       "    </tr>\n",
       "    <tr>\n",
       "      <th>2</th>\n",
       "      <td>67</td>\n",
       "      <td>Male</td>\n",
       "      <td>asymptomatic</td>\n",
       "      <td>120</td>\n",
       "      <td>229</td>\n",
       "      <td>0</td>\n",
       "      <td>left ventricular hypertrophy</td>\n",
       "      <td>129</td>\n",
       "      <td>1</td>\n",
       "      <td>2.6</td>\n",
       "      <td>2</td>\n",
       "      <td>2.0</td>\n",
       "      <td>reversable</td>\n",
       "      <td>1</td>\n",
       "    </tr>\n",
       "    <tr>\n",
       "      <th>3</th>\n",
       "      <td>37</td>\n",
       "      <td>Male</td>\n",
       "      <td>nonanginal</td>\n",
       "      <td>130</td>\n",
       "      <td>250</td>\n",
       "      <td>0</td>\n",
       "      <td>normal</td>\n",
       "      <td>187</td>\n",
       "      <td>0</td>\n",
       "      <td>3.5</td>\n",
       "      <td>3</td>\n",
       "      <td>0.0</td>\n",
       "      <td>normal</td>\n",
       "      <td>0</td>\n",
       "    </tr>\n",
       "    <tr>\n",
       "      <th>4</th>\n",
       "      <td>41</td>\n",
       "      <td>Female</td>\n",
       "      <td>nontypical</td>\n",
       "      <td>130</td>\n",
       "      <td>204</td>\n",
       "      <td>0</td>\n",
       "      <td>left ventricular hypertrophy</td>\n",
       "      <td>172</td>\n",
       "      <td>0</td>\n",
       "      <td>1.4</td>\n",
       "      <td>1</td>\n",
       "      <td>0.0</td>\n",
       "      <td>normal</td>\n",
       "      <td>0</td>\n",
       "    </tr>\n",
       "  </tbody>\n",
       "</table>\n",
       "</div>"
      ],
      "text/plain": [
       "   age     sex    chest_pain  rest_bp  chol  fbs  \\\n",
       "0   63    Male       typical      145   233    1   \n",
       "1   67    Male  asymptomatic      160   286    0   \n",
       "2   67    Male  asymptomatic      120   229    0   \n",
       "3   37    Male    nonanginal      130   250    0   \n",
       "4   41  Female    nontypical      130   204    0   \n",
       "\n",
       "                        rest_ecg  max_hr  exang  old_peak  slope   ca  \\\n",
       "0  left ventricular hypertrophy      150      0       2.3      3  0.0   \n",
       "1  left ventricular hypertrophy      108      1       1.5      2  3.0   \n",
       "2  left ventricular hypertrophy      129      1       2.6      2  2.0   \n",
       "3                         normal     187      0       3.5      3  0.0   \n",
       "4  left ventricular hypertrophy      172      0       1.4      1  0.0   \n",
       "\n",
       "         thal  disease  \n",
       "0       fixed        0  \n",
       "1      normal        1  \n",
       "2  reversable        1  \n",
       "3      normal        0  \n",
       "4      normal        0  "
      ]
     },
     "execution_count": 1,
     "metadata": {},
     "output_type": "execute_result"
    }
   ],
   "source": [
    "import warnings\n",
    "warnings.filterwarnings('ignore')\n",
    "\n",
    "import pandas as pd\n",
    "import numpy as np\n",
    "import matplotlib.pyplot as plt\n",
    "import seaborn as sns\n",
    "\n",
    "\n",
    "heart = pd.read_csv('../data/heart.csv')\n",
    "heart = heart.fillna({'ca': 0, 'thal': 'normal'})\n",
    "heart.head()"
   ]
  },
  {
   "cell_type": "markdown",
   "metadata": {},
   "source": [
    "## The simplest manual model \n",
    "The baseline model of predicting the most common class yields an accuracy of 54% for the heart disease dataset. We made this prediction with help of the `value_counts` method."
   ]
  },
  {
   "cell_type": "code",
   "execution_count": 2,
   "metadata": {},
   "outputs": [
    {
     "data": {
      "text/plain": [
       "0    0.54\n",
       "1    0.46\n",
       "Name: disease, dtype: float64"
      ]
     },
     "execution_count": 2,
     "metadata": {},
     "output_type": "execute_result"
    }
   ],
   "source": [
    "heart['disease'].value_counts(normalize=True).round(2)"
   ]
  },
  {
   "cell_type": "markdown",
   "metadata": {},
   "source": [
    "## Subdivide data into groups\n",
    "Perhaps we can get better accuracy if we subdivide our data into groups and look at the distribution of diseases within those groups.\n",
    "\n",
    "For example, we can find the percentage of heart disease broken out by sex."
   ]
  },
  {
   "cell_type": "code",
   "execution_count": 3,
   "metadata": {},
   "outputs": [
    {
     "data": {
      "text/html": [
       "<div>\n",
       "<style scoped>\n",
       "    .dataframe tbody tr th:only-of-type {\n",
       "        vertical-align: middle;\n",
       "    }\n",
       "\n",
       "    .dataframe tbody tr th {\n",
       "        vertical-align: top;\n",
       "    }\n",
       "\n",
       "    .dataframe thead th {\n",
       "        text-align: right;\n",
       "    }\n",
       "</style>\n",
       "<table border=\"1\" class=\"dataframe\">\n",
       "  <thead>\n",
       "    <tr style=\"text-align: right;\">\n",
       "      <th></th>\n",
       "      <th>disease</th>\n",
       "    </tr>\n",
       "    <tr>\n",
       "      <th>sex</th>\n",
       "      <th></th>\n",
       "    </tr>\n",
       "  </thead>\n",
       "  <tbody>\n",
       "    <tr>\n",
       "      <th>Female</th>\n",
       "      <td>0.26</td>\n",
       "    </tr>\n",
       "    <tr>\n",
       "      <th>Male</th>\n",
       "      <td>0.55</td>\n",
       "    </tr>\n",
       "  </tbody>\n",
       "</table>\n",
       "</div>"
      ],
      "text/plain": [
       "        disease\n",
       "sex            \n",
       "Female     0.26\n",
       "Male       0.55"
      ]
     },
     "execution_count": 3,
     "metadata": {},
     "output_type": "execute_result"
    }
   ],
   "source": [
    "heart.groupby('sex').agg({'disease':'mean'}).round(2)"
   ]
  },
  {
   "cell_type": "markdown",
   "metadata": {},
   "source": [
    "### Make plot with Seaborn"
   ]
  },
  {
   "cell_type": "code",
   "execution_count": 4,
   "metadata": {},
   "outputs": [
    {
     "data": {
      "text/plain": [
       "<matplotlib.axes._subplots.AxesSubplot at 0x1a16a84d68>"
      ]
     },
     "execution_count": 4,
     "metadata": {},
     "output_type": "execute_result"
    },
    {
     "data": {
      "image/png": "[encoded data removed]",
      "text/plain": [
       "<Figure size 432x288 with 1 Axes>"
      ]
     },
     "metadata": {
      "needs_background": "light"
     },
     "output_type": "display_data"
    }
   ],
   "source": [
    "sns.barplot(x='sex', y='disease', data=heart, ci=None)"
   ]
  },
  {
   "cell_type": "markdown",
   "metadata": {},
   "source": [
    "### Changing a prediction based on the group\n",
    "Above, we see that females and males have drastically different rates of heart disease. If we are looking to maximize our accuracy, we should then predict 0 for females and 1 for males.\n",
    "\n",
    "### A trick to make a prediction column\n",
    "We need a single prediction for each row. Let's achieve this with the `transform` groupby method. This method works similarly to `agg` but instead returns the group's aggregated value to each row of the original data. For instance, for every female row, it will yield .26 and for every male row it will yield .55.\n",
    "\n",
    "### `transform` syntax\n",
    "To make `transform` work, you will need to place the aggregating column in brackets directly after the call to groupby and pass the aggregating function as a string directly to the `transform` method."
   ]
  },
  {
   "cell_type": "code",
   "execution_count": 5,
   "metadata": {},
   "outputs": [
    {
     "data": {
      "text/plain": [
       "0    0.553398\n",
       "1    0.553398\n",
       "2    0.553398\n",
       "3    0.553398\n",
       "4    0.257732\n",
       "5    0.553398\n",
       "6    0.257732\n",
       "7    0.257732\n",
       "8    0.553398\n",
       "9    0.553398\n",
       "Name: disease, dtype: float64"
      ]
     },
     "execution_count": 5,
     "metadata": {},
     "output_type": "execute_result"
    }
   ],
   "source": [
    "dis_prob = heart.groupby('sex')['disease'].transform('mean')\n",
    "dis_prob.head(10)"
   ]
  },
  {
   "cell_type": "markdown",
   "metadata": {},
   "source": [
    "### `transform` returns a Series the same length as the calling DataFrame\n",
    "`transform` is performing an aggregation, but it returns that value for each row in the DataFrame. Let's verify the length is the same."
   ]
  },
  {
   "cell_type": "code",
   "execution_count": 6,
   "metadata": {},
   "outputs": [
    {
     "data": {
      "text/plain": [
       "(303, 303)"
      ]
     },
     "execution_count": 6,
     "metadata": {},
     "output_type": "execute_result"
    }
   ],
   "source": [
    "len(heart), len(dis_prob)"
   ]
  },
  {
   "cell_type": "markdown",
   "metadata": {},
   "source": [
    "#### Making an prediction\n",
    "To get a prediction, we will need to convert the probability to either 0 or 1. We can do this by rounding the probability to the nearest whole number."
   ]
  },
  {
   "cell_type": "code",
   "execution_count": 7,
   "metadata": {},
   "outputs": [
    {
     "data": {
      "text/plain": [
       "0    1\n",
       "1    1\n",
       "2    1\n",
       "3    1\n",
       "4    0\n",
       "5    1\n",
       "6    0\n",
       "7    0\n",
       "8    1\n",
       "9    1\n",
       "Name: disease, dtype: int64"
      ]
     },
     "execution_count": 7,
     "metadata": {},
     "output_type": "execute_result"
    }
   ],
   "source": [
    "y_pred = heart.groupby('sex')['disease'].transform('mean').round().astype('int')\n",
    "y_pred[:10]"
   ]
  },
  {
   "cell_type": "markdown",
   "metadata": {},
   "source": [
    "## Calculating accuracy\n",
    "Let's use our new predicted column based on sex to calculate the accuracy."
   ]
  },
  {
   "cell_type": "code",
   "execution_count": 8,
   "metadata": {},
   "outputs": [
    {
     "data": {
      "text/plain": [
       "0    False\n",
       "1     True\n",
       "2     True\n",
       "3    False\n",
       "4     True\n",
       "5    False\n",
       "6    False\n",
       "7     True\n",
       "8     True\n",
       "9     True\n",
       "Name: disease, dtype: bool"
      ]
     },
     "execution_count": 8,
     "metadata": {},
     "output_type": "execute_result"
    }
   ],
   "source": [
    "acc = heart['disease'] == y_pred\n",
    "acc.head(10)"
   ]
  },
  {
   "cell_type": "code",
   "execution_count": 9,
   "metadata": {},
   "outputs": [
    {
     "data": {
      "text/plain": [
       "0.6138613861386139"
      ]
     },
     "execution_count": 9,
     "metadata": {},
     "output_type": "execute_result"
    }
   ],
   "source": [
    "acc.mean()"
   ]
  },
  {
   "cell_type": "markdown",
   "metadata": {},
   "source": [
    "### 61% accuracy\n",
    "By doing this manual split, our accuracy has improved from 54% to 61%."
   ]
  },
  {
   "cell_type": "markdown",
   "metadata": {},
   "source": [
    "## Continue splitting data into other groups\n",
    "We can group by another variable, `thal` for instance, along with sex and find the percentage with heart disease."
   ]
  },
  {
   "cell_type": "code",
   "execution_count": 10,
   "metadata": {},
   "outputs": [
    {
     "data": {
      "text/html": [
       "<div>\n",
       "<style scoped>\n",
       "    .dataframe tbody tr th:only-of-type {\n",
       "        vertical-align: middle;\n",
       "    }\n",
       "\n",
       "    .dataframe tbody tr th {\n",
       "        vertical-align: top;\n",
       "    }\n",
       "\n",
       "    .dataframe thead tr th {\n",
       "        text-align: left;\n",
       "    }\n",
       "\n",
       "    .dataframe thead tr:last-of-type th {\n",
       "        text-align: right;\n",
       "    }\n",
       "</style>\n",
       "<table border=\"1\" class=\"dataframe\">\n",
       "  <thead>\n",
       "    <tr>\n",
       "      <th></th>\n",
       "      <th></th>\n",
       "      <th colspan=\"2\" halign=\"left\">disease</th>\n",
       "    </tr>\n",
       "    <tr>\n",
       "      <th></th>\n",
       "      <th></th>\n",
       "      <th>mean</th>\n",
       "      <th>size</th>\n",
       "    </tr>\n",
       "    <tr>\n",
       "      <th>sex</th>\n",
       "      <th>thal</th>\n",
       "      <th></th>\n",
       "      <th></th>\n",
       "    </tr>\n",
       "  </thead>\n",
       "  <tbody>\n",
       "    <tr>\n",
       "      <th rowspan=\"3\" valign=\"top\">Female</th>\n",
       "      <th>fixed</th>\n",
       "      <td>1.00</td>\n",
       "      <td>1</td>\n",
       "    </tr>\n",
       "    <tr>\n",
       "      <th>normal</th>\n",
       "      <td>0.14</td>\n",
       "      <td>81</td>\n",
       "    </tr>\n",
       "    <tr>\n",
       "      <th>reversable</th>\n",
       "      <td>0.87</td>\n",
       "      <td>15</td>\n",
       "    </tr>\n",
       "    <tr>\n",
       "      <th rowspan=\"3\" valign=\"top\">Male</th>\n",
       "      <th>fixed</th>\n",
       "      <td>0.65</td>\n",
       "      <td>17</td>\n",
       "    </tr>\n",
       "    <tr>\n",
       "      <th>normal</th>\n",
       "      <td>0.31</td>\n",
       "      <td>87</td>\n",
       "    </tr>\n",
       "    <tr>\n",
       "      <th>reversable</th>\n",
       "      <td>0.75</td>\n",
       "      <td>102</td>\n",
       "    </tr>\n",
       "  </tbody>\n",
       "</table>\n",
       "</div>"
      ],
      "text/plain": [
       "                  disease     \n",
       "                     mean size\n",
       "sex    thal                   \n",
       "Female fixed         1.00    1\n",
       "       normal        0.14   81\n",
       "       reversable    0.87   15\n",
       "Male   fixed         0.65   17\n",
       "       normal        0.31   87\n",
       "       reversable    0.75  102"
      ]
     },
     "execution_count": 10,
     "metadata": {},
     "output_type": "execute_result"
    }
   ],
   "source": [
    "heart.groupby(['sex', 'thal']).agg({'disease':['mean', 'size']}).round(2)"
   ]
  },
  {
   "cell_type": "markdown",
   "metadata": {},
   "source": [
    "### Easier to read as a pivot table"
   ]
  },
  {
   "cell_type": "code",
   "execution_count": 11,
   "metadata": {},
   "outputs": [
    {
     "data": {
      "text/html": [
       "<div>\n",
       "<style scoped>\n",
       "    .dataframe tbody tr th:only-of-type {\n",
       "        vertical-align: middle;\n",
       "    }\n",
       "\n",
       "    .dataframe tbody tr th {\n",
       "        vertical-align: top;\n",
       "    }\n",
       "\n",
       "    .dataframe thead th {\n",
       "        text-align: right;\n",
       "    }\n",
       "</style>\n",
       "<table border=\"1\" class=\"dataframe\">\n",
       "  <thead>\n",
       "    <tr style=\"text-align: right;\">\n",
       "      <th>thal</th>\n",
       "      <th>fixed</th>\n",
       "      <th>normal</th>\n",
       "      <th>reversable</th>\n",
       "    </tr>\n",
       "    <tr>\n",
       "      <th>sex</th>\n",
       "      <th></th>\n",
       "      <th></th>\n",
       "      <th></th>\n",
       "    </tr>\n",
       "  </thead>\n",
       "  <tbody>\n",
       "    <tr>\n",
       "      <th>Female</th>\n",
       "      <td>1.00</td>\n",
       "      <td>0.14</td>\n",
       "      <td>0.87</td>\n",
       "    </tr>\n",
       "    <tr>\n",
       "      <th>Male</th>\n",
       "      <td>0.65</td>\n",
       "      <td>0.31</td>\n",
       "      <td>0.75</td>\n",
       "    </tr>\n",
       "  </tbody>\n",
       "</table>\n",
       "</div>"
      ],
      "text/plain": [
       "thal    fixed  normal  reversable\n",
       "sex                              \n",
       "Female   1.00    0.14        0.87\n",
       "Male     0.65    0.31        0.75"
      ]
     },
     "execution_count": 11,
     "metadata": {},
     "output_type": "execute_result"
    }
   ],
   "source": [
    "heart.pivot_table(index='sex', columns='thal', values='disease', aggfunc='mean').round(2)"
   ]
  },
  {
   "cell_type": "markdown",
   "metadata": {},
   "source": [
    "## Make prediction again with `transform`\n",
    "We can make a prediction using the `transform` method and then find the accuracy"
   ]
  },
  {
   "cell_type": "code",
   "execution_count": 12,
   "metadata": {},
   "outputs": [
    {
     "data": {
      "text/plain": [
       "0.7623762376237624"
      ]
     },
     "execution_count": 12,
     "metadata": {},
     "output_type": "execute_result"
    }
   ],
   "source": [
    "y_pred = heart.groupby(['sex', 'thal'])['disease'].transform('mean').round().astype('int')\n",
    "(heart['disease'] == y_pred).mean()"
   ]
  },
  {
   "cell_type": "markdown",
   "metadata": {},
   "source": [
    "### A function to automate the process\n",
    "We can continue grouping by additional categorical columns and automate this process with a function that optionally outputs the grouped data."
   ]
  },
  {
   "cell_type": "code",
   "execution_count": 13,
   "metadata": {},
   "outputs": [],
   "source": [
    "def predict(cols, output=False):\n",
    "    g = heart.groupby(cols)['disease']\n",
    "    if output:\n",
    "        print(g.agg(['mean', 'size']))\n",
    "    y_pred = g.transform('mean').round().astype('int')\n",
    "    return (heart['disease'] == y_pred).mean()"
   ]
  },
  {
   "cell_type": "code",
   "execution_count": 14,
   "metadata": {},
   "outputs": [
    {
     "data": {
      "text/plain": [
       "0.8085808580858086"
      ]
     },
     "execution_count": 14,
     "metadata": {},
     "output_type": "execute_result"
    }
   ],
   "source": [
    "predict(['sex', 'thal', 'chest_pain', 'fbs'])"
   ]
  },
  {
   "cell_type": "code",
   "execution_count": 15,
   "metadata": {},
   "outputs": [
    {
     "name": "stdout",
     "output_type": "stream",
     "text": [
      "                                        mean  size\n",
      "sex    thal       chest_pain   fbs                \n",
      "Female fixed      asymptomatic 1    1.000000     1\n",
      "       normal     asymptomatic 0    0.307692    26\n",
      "                               1    1.000000     1\n",
      "                  nonanginal   0    0.000000    28\n",
      "                               1    0.000000     4\n",
      "                  nontypical   0    0.062500    16\n",
      "                               1    0.500000     2\n",
      "                  typical      0    0.000000     3\n",
      "                               1    0.000000     1\n",
      "       reversable asymptomatic 0    1.000000     9\n",
      "                               1    1.000000     3\n",
      "                  nonanginal   0    0.333333     3\n",
      "Male   fixed      asymptomatic 0    0.700000    10\n",
      "                               1    1.000000     1\n",
      "                  nonanginal   1    1.000000     2\n",
      "                  nontypical   0    0.500000     2\n",
      "                  typical      0    0.000000     1\n",
      "                               1    0.000000     1\n",
      "       normal     asymptomatic 0    0.560000    25\n",
      "                               1    1.000000     2\n",
      "                  nonanginal   0    0.217391    23\n",
      "                               1    0.000000     7\n",
      "                  nontypical   0    0.105263    19\n",
      "                               1    0.000000     2\n",
      "                  typical      0    0.428571     7\n",
      "                               1    0.500000     2\n",
      "       reversable asymptomatic 0    0.892857    56\n",
      "                               1    0.900000    10\n",
      "                  nonanginal   0    0.600000    15\n",
      "                               1    0.250000     4\n",
      "                  nontypical   0    0.500000     8\n",
      "                               1    0.000000     1\n",
      "                  typical      0    0.428571     7\n",
      "                               1    0.000000     1\n"
     ]
    },
    {
     "data": {
      "text/plain": [
       "0.8085808580858086"
      ]
     },
     "execution_count": 15,
     "metadata": {},
     "output_type": "execute_result"
    }
   ],
   "source": [
    "predict(['sex', 'thal', 'chest_pain', 'fbs'], output=True)"
   ]
  },
  {
   "cell_type": "markdown",
   "metadata": {},
   "source": [
    "## Pandas Trick - Highlighting every probability greater than .5\n",
    "We can illuminate the combinations of high probability of having heart disease by highlighting the background of the DataFrame cells."
   ]
  },
  {
   "cell_type": "code",
   "execution_count": 21,
   "metadata": {},
   "outputs": [],
   "source": [
    "df = heart.pivot_table(index=['sex', 'chest_pain'], \n",
    "                       columns=['thal', 'fbs'], \n",
    "                       values='disease', aggfunc='mean').round(2)"
   ]
  },
  {
   "cell_type": "code",
   "execution_count": 22,
   "metadata": {},
   "outputs": [
    {
     "data": {
      "text/html": [
       "<style  type=\"text/css\" >\n",
       "    #T_af42ca94_e935_11e8_a48f_b8e85647e68crow0_col1 {\n",
       "            background-color:  yellow;\n",
       "        }    #T_af42ca94_e935_11e8_a48f_b8e85647e68crow0_col3 {\n",
       "            background-color:  yellow;\n",
       "        }    #T_af42ca94_e935_11e8_a48f_b8e85647e68crow0_col4 {\n",
       "            background-color:  yellow;\n",
       "        }    #T_af42ca94_e935_11e8_a48f_b8e85647e68crow0_col5 {\n",
       "            background-color:  yellow;\n",
       "        }    #T_af42ca94_e935_11e8_a48f_b8e85647e68crow4_col0 {\n",
       "            background-color:  yellow;\n",
       "        }    #T_af42ca94_e935_11e8_a48f_b8e85647e68crow4_col1 {\n",
       "            background-color:  yellow;\n",
       "        }    #T_af42ca94_e935_11e8_a48f_b8e85647e68crow4_col2 {\n",
       "            background-color:  yellow;\n",
       "        }    #T_af42ca94_e935_11e8_a48f_b8e85647e68crow4_col3 {\n",
       "            background-color:  yellow;\n",
       "        }    #T_af42ca94_e935_11e8_a48f_b8e85647e68crow4_col4 {\n",
       "            background-color:  yellow;\n",
       "        }    #T_af42ca94_e935_11e8_a48f_b8e85647e68crow4_col5 {\n",
       "            background-color:  yellow;\n",
       "        }    #T_af42ca94_e935_11e8_a48f_b8e85647e68crow5_col1 {\n",
       "            background-color:  yellow;\n",
       "        }    #T_af42ca94_e935_11e8_a48f_b8e85647e68crow5_col4 {\n",
       "            background-color:  yellow;\n",
       "        }</style>  \n",
       "<table id=\"T_af42ca94_e935_11e8_a48f_b8e85647e68c\" > \n",
       "<thead>    <tr> \n",
       "        <th class=\"blank\" ></th> \n",
       "        <th class=\"index_name level0\" >thal</th> \n",
       "        <th class=\"col_heading level0 col0\" colspan=2>fixed</th> \n",
       "        <th class=\"col_heading level0 col2\" colspan=2>normal</th> \n",
       "        <th class=\"col_heading level0 col4\" colspan=2>reversable</th> \n",
       "    </tr>    <tr> \n",
       "        <th class=\"blank\" ></th> \n",
       "        <th class=\"index_name level1\" >fbs</th> \n",
       "        <th class=\"col_heading level1 col0\" >0</th> \n",
       "        <th class=\"col_heading level1 col1\" >1</th> \n",
       "        <th class=\"col_heading level1 col2\" >0</th> \n",
       "        <th class=\"col_heading level1 col3\" >1</th> \n",
       "        <th class=\"col_heading level1 col4\" >0</th> \n",
       "        <th class=\"col_heading level1 col5\" >1</th> \n",
       "    </tr>    <tr> \n",
       "        <th class=\"index_name level0\" >sex</th> \n",
       "        <th class=\"index_name level1\" >chest_pain</th> \n",
       "        <th class=\"blank\" ></th> \n",
       "        <th class=\"blank\" ></th> \n",
       "        <th class=\"blank\" ></th> \n",
       "        <th class=\"blank\" ></th> \n",
       "        <th class=\"blank\" ></th> \n",
       "        <th class=\"blank\" ></th> \n",
       "    </tr></thead> \n",
       "<tbody>    <tr> \n",
       "        <th id=\"T_af42ca94_e935_11e8_a48f_b8e85647e68clevel0_row0\" class=\"row_heading level0 row0\" rowspan=4>Female</th> \n",
       "        <th id=\"T_af42ca94_e935_11e8_a48f_b8e85647e68clevel1_row0\" class=\"row_heading level1 row0\" >asymptomatic</th> \n",
       "        <td id=\"T_af42ca94_e935_11e8_a48f_b8e85647e68crow0_col0\" class=\"data row0 col0\" >nan</td> \n",
       "        <td id=\"T_af42ca94_e935_11e8_a48f_b8e85647e68crow0_col1\" class=\"data row0 col1\" >1</td> \n",
       "        <td id=\"T_af42ca94_e935_11e8_a48f_b8e85647e68crow0_col2\" class=\"data row0 col2\" >0.31</td> \n",
       "        <td id=\"T_af42ca94_e935_11e8_a48f_b8e85647e68crow0_col3\" class=\"data row0 col3\" >1</td> \n",
       "        <td id=\"T_af42ca94_e935_11e8_a48f_b8e85647e68crow0_col4\" class=\"data row0 col4\" >1</td> \n",
       "        <td id=\"T_af42ca94_e935_11e8_a48f_b8e85647e68crow0_col5\" class=\"data row0 col5\" >1</td> \n",
       "    </tr>    <tr> \n",
       "        <th id=\"T_af42ca94_e935_11e8_a48f_b8e85647e68clevel1_row1\" class=\"row_heading level1 row1\" >nonanginal</th> \n",
       "        <td id=\"T_af42ca94_e935_11e8_a48f_b8e85647e68crow1_col0\" class=\"data row1 col0\" >nan</td> \n",
       "        <td id=\"T_af42ca94_e935_11e8_a48f_b8e85647e68crow1_col1\" class=\"data row1 col1\" >nan</td> \n",
       "        <td id=\"T_af42ca94_e935_11e8_a48f_b8e85647e68crow1_col2\" class=\"data row1 col2\" >0</td> \n",
       "        <td id=\"T_af42ca94_e935_11e8_a48f_b8e85647e68crow1_col3\" class=\"data row1 col3\" >0</td> \n",
       "        <td id=\"T_af42ca94_e935_11e8_a48f_b8e85647e68crow1_col4\" class=\"data row1 col4\" >0.33</td> \n",
       "        <td id=\"T_af42ca94_e935_11e8_a48f_b8e85647e68crow1_col5\" class=\"data row1 col5\" >nan</td> \n",
       "    </tr>    <tr> \n",
       "        <th id=\"T_af42ca94_e935_11e8_a48f_b8e85647e68clevel1_row2\" class=\"row_heading level1 row2\" >nontypical</th> \n",
       "        <td id=\"T_af42ca94_e935_11e8_a48f_b8e85647e68crow2_col0\" class=\"data row2 col0\" >nan</td> \n",
       "        <td id=\"T_af42ca94_e935_11e8_a48f_b8e85647e68crow2_col1\" class=\"data row2 col1\" >nan</td> \n",
       "        <td id=\"T_af42ca94_e935_11e8_a48f_b8e85647e68crow2_col2\" class=\"data row2 col2\" >0.06</td> \n",
       "        <td id=\"T_af42ca94_e935_11e8_a48f_b8e85647e68crow2_col3\" class=\"data row2 col3\" >0.5</td> \n",
       "        <td id=\"T_af42ca94_e935_11e8_a48f_b8e85647e68crow2_col4\" class=\"data row2 col4\" >nan</td> \n",
       "        <td id=\"T_af42ca94_e935_11e8_a48f_b8e85647e68crow2_col5\" class=\"data row2 col5\" >nan</td> \n",
       "    </tr>    <tr> \n",
       "        <th id=\"T_af42ca94_e935_11e8_a48f_b8e85647e68clevel1_row3\" class=\"row_heading level1 row3\" >typical</th> \n",
       "        <td id=\"T_af42ca94_e935_11e8_a48f_b8e85647e68crow3_col0\" class=\"data row3 col0\" >nan</td> \n",
       "        <td id=\"T_af42ca94_e935_11e8_a48f_b8e85647e68crow3_col1\" class=\"data row3 col1\" >nan</td> \n",
       "        <td id=\"T_af42ca94_e935_11e8_a48f_b8e85647e68crow3_col2\" class=\"data row3 col2\" >0</td> \n",
       "        <td id=\"T_af42ca94_e935_11e8_a48f_b8e85647e68crow3_col3\" class=\"data row3 col3\" >0</td> \n",
       "        <td id=\"T_af42ca94_e935_11e8_a48f_b8e85647e68crow3_col4\" class=\"data row3 col4\" >nan</td> \n",
       "        <td id=\"T_af42ca94_e935_11e8_a48f_b8e85647e68crow3_col5\" class=\"data row3 col5\" >nan</td> \n",
       "    </tr>    <tr> \n",
       "        <th id=\"T_af42ca94_e935_11e8_a48f_b8e85647e68clevel0_row4\" class=\"row_heading level0 row4\" rowspan=4>Male</th> \n",
       "        <th id=\"T_af42ca94_e935_11e8_a48f_b8e85647e68clevel1_row4\" class=\"row_heading level1 row4\" >asymptomatic</th> \n",
       "        <td id=\"T_af42ca94_e935_11e8_a48f_b8e85647e68crow4_col0\" class=\"data row4 col0\" >0.7</td> \n",
       "        <td id=\"T_af42ca94_e935_11e8_a48f_b8e85647e68crow4_col1\" class=\"data row4 col1\" >1</td> \n",
       "        <td id=\"T_af42ca94_e935_11e8_a48f_b8e85647e68crow4_col2\" class=\"data row4 col2\" >0.56</td> \n",
       "        <td id=\"T_af42ca94_e935_11e8_a48f_b8e85647e68crow4_col3\" class=\"data row4 col3\" >1</td> \n",
       "        <td id=\"T_af42ca94_e935_11e8_a48f_b8e85647e68crow4_col4\" class=\"data row4 col4\" >0.89</td> \n",
       "        <td id=\"T_af42ca94_e935_11e8_a48f_b8e85647e68crow4_col5\" class=\"data row4 col5\" >0.9</td> \n",
       "    </tr>    <tr> \n",
       "        <th id=\"T_af42ca94_e935_11e8_a48f_b8e85647e68clevel1_row5\" class=\"row_heading level1 row5\" >nonanginal</th> \n",
       "        <td id=\"T_af42ca94_e935_11e8_a48f_b8e85647e68crow5_col0\" class=\"data row5 col0\" >nan</td> \n",
       "        <td id=\"T_af42ca94_e935_11e8_a48f_b8e85647e68crow5_col1\" class=\"data row5 col1\" >1</td> \n",
       "        <td id=\"T_af42ca94_e935_11e8_a48f_b8e85647e68crow5_col2\" class=\"data row5 col2\" >0.22</td> \n",
       "        <td id=\"T_af42ca94_e935_11e8_a48f_b8e85647e68crow5_col3\" class=\"data row5 col3\" >0</td> \n",
       "        <td id=\"T_af42ca94_e935_11e8_a48f_b8e85647e68crow5_col4\" class=\"data row5 col4\" >0.6</td> \n",
       "        <td id=\"T_af42ca94_e935_11e8_a48f_b8e85647e68crow5_col5\" class=\"data row5 col5\" >0.25</td> \n",
       "    </tr>    <tr> \n",
       "        <th id=\"T_af42ca94_e935_11e8_a48f_b8e85647e68clevel1_row6\" class=\"row_heading level1 row6\" >nontypical</th> \n",
       "        <td id=\"T_af42ca94_e935_11e8_a48f_b8e85647e68crow6_col0\" class=\"data row6 col0\" >0.5</td> \n",
       "        <td id=\"T_af42ca94_e935_11e8_a48f_b8e85647e68crow6_col1\" class=\"data row6 col1\" >nan</td> \n",
       "        <td id=\"T_af42ca94_e935_11e8_a48f_b8e85647e68crow6_col2\" class=\"data row6 col2\" >0.11</td> \n",
       "        <td id=\"T_af42ca94_e935_11e8_a48f_b8e85647e68crow6_col3\" class=\"data row6 col3\" >0</td> \n",
       "        <td id=\"T_af42ca94_e935_11e8_a48f_b8e85647e68crow6_col4\" class=\"data row6 col4\" >0.5</td> \n",
       "        <td id=\"T_af42ca94_e935_11e8_a48f_b8e85647e68crow6_col5\" class=\"data row6 col5\" >0</td> \n",
       "    </tr>    <tr> \n",
       "        <th id=\"T_af42ca94_e935_11e8_a48f_b8e85647e68clevel1_row7\" class=\"row_heading level1 row7\" >typical</th> \n",
       "        <td id=\"T_af42ca94_e935_11e8_a48f_b8e85647e68crow7_col0\" class=\"data row7 col0\" >0</td> \n",
       "        <td id=\"T_af42ca94_e935_11e8_a48f_b8e85647e68crow7_col1\" class=\"data row7 col1\" >0</td> \n",
       "        <td id=\"T_af42ca94_e935_11e8_a48f_b8e85647e68crow7_col2\" class=\"data row7 col2\" >0.43</td> \n",
       "        <td id=\"T_af42ca94_e935_11e8_a48f_b8e85647e68crow7_col3\" class=\"data row7 col3\" >0.5</td> \n",
       "        <td id=\"T_af42ca94_e935_11e8_a48f_b8e85647e68crow7_col4\" class=\"data row7 col4\" >0.43</td> \n",
       "        <td id=\"T_af42ca94_e935_11e8_a48f_b8e85647e68crow7_col5\" class=\"data row7 col5\" >0</td> \n",
       "    </tr></tbody> \n",
       "</table> "
      ],
      "text/plain": [
       "<pandas.io.formats.style.Styler at 0x1a196448d0>"
      ]
     },
     "execution_count": 22,
     "metadata": {},
     "output_type": "execute_result"
    }
   ],
   "source": [
    "df.style.where(lambda x: x > .5, 'background-color: yellow')"
   ]
  },
  {
   "cell_type": "markdown",
   "metadata": {},
   "source": [
    "# Exercises\n",
    "Run a few groupby or pivot tables on different variables to manually find pockets of low and high probability of disease."
   ]
  },
  {
   "cell_type": "code",
   "execution_count": null,
   "metadata": {},
   "outputs": [],
   "source": []
  }
 ],
 "metadata": {
  "kernelspec": {
   "display_name": "Python 3",
   "language": "python",
   "name": "python3"
  },
  "language_info": {
   "codemirror_mode": {
    "name": "ipython",
    "version": 3
   },
   "file_extension": ".py",
   "mimetype": "text/x-python",
   "name": "python",
   "nbconvert_exporter": "python",
   "pygments_lexer": "ipython3",
   "version": "3.6.6"
  }
 },
 "nbformat": 4,
 "nbformat_minor": 2
}
