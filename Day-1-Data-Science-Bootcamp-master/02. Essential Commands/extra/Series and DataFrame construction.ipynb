{
 "cells": [
  {
   "cell_type": "markdown",
   "metadata": {},
   "source": [
    "# NOT COMPLETE"
   ]
  },
  {
   "cell_type": "markdown",
   "metadata": {},
   "source": [
    "### Technical Note on Series Construction\n",
    "The command **`pd.Series([1, 3, 3, 7])`** appears as though the function **Series** from the pandas module is being invoked. All previous code in these notebooks that ended in parentheses was calling a function.  Technically, **`pd.Series([1, 3, 3, 7])`** is not a function. It is creating an **instance** of the **Series** class by passing a 4 element list to the Series constructor.\n",
    "\n",
    "For practical purposes of this notebook, there are no differences between a class constructor and a function that returns an object. For example, **`np.arange(100)`** is technically a function that returns a numpy ndarray and  **`pd.Series([1, 3, 3, 7])`** calls the Series constructor and creates a pandas Series object.\n",
    "\n",
    "Very typically, class names will be capitalized just like Series and function will not be like **`arange`**."
   ]
  },
  {
   "cell_type": "code",
   "execution_count": 1,
   "metadata": {
    "collapsed": true
   },
   "outputs": [],
   "source": [
    "import numpy as np\n",
    "import pandas as pd"
   ]
  },
  {
   "cell_type": "code",
   "execution_count": 2,
   "metadata": {},
   "outputs": [
    {
     "data": {
      "text/plain": [
       "(builtin_function_or_method, type)"
      ]
     },
     "execution_count": 2,
     "metadata": {},
     "output_type": "execute_result"
    }
   ],
   "source": [
    "type(np.arange), type(pd.Series)"
   ]
  },
  {
   "cell_type": "markdown",
   "metadata": {},
   "source": [
    "### Construct a series with a given index\n",
    "Series can be constructed by passing it a specific user-defined index. The arguments **data** and **index** can be used to explicity define each."
   ]
  },
  {
   "cell_type": "code",
   "execution_count": 3,
   "metadata": {},
   "outputs": [
    {
     "data": {
      "text/plain": [
       "a     1\n",
       "b     3\n",
       "c     3\n",
       "d    77\n",
       "dtype: int64"
      ]
     },
     "execution_count": 3,
     "metadata": {},
     "output_type": "execute_result"
    }
   ],
   "source": [
    "# construct series by explicitly defining the values and the index\n",
    "s = pd.Series(data=[1,3,3,77], index=['a', 'b', 'c', 'd'])\n",
    "s"
   ]
  },
  {
   "cell_type": "code",
   "execution_count": 4,
   "metadata": {},
   "outputs": [
    {
     "data": {
      "text/plain": [
       "{a, b}                             1\n",
       "(b, c)                             3\n",
       "(0, 1, 2, 3, 4, 5, 6, 7, 8, 9)     3\n",
       "d                                 77\n",
       "dtype: int64"
      ]
     },
     "execution_count": 4,
     "metadata": {},
     "output_type": "execute_result"
    }
   ],
   "source": [
    "# create a series with an index of different data types\n",
    "# almost never done in practice but shows what is possible\n",
    "s = pd.Series(data=[1,3,3,77], index=[{'a', 'b'}, ('b','c'), range(10), 'd'])\n",
    "s"
   ]
  },
  {
   "cell_type": "code",
   "execution_count": 5,
   "metadata": {},
   "outputs": [
    {
     "data": {
      "text/plain": [
       "Index([{'a', 'b'}, ('b', 'c'), (0, 1, 2, 3, 4, 5, 6, 7, 8, 9), 'd'], dtype='object')"
      ]
     },
     "execution_count": 5,
     "metadata": {},
     "output_type": "execute_result"
    }
   ],
   "source": [
    "s.index"
   ]
  },
  {
   "cell_type": "markdown",
   "metadata": {},
   "source": [
    "### Technical Note on Series Construction\n",
    "The command **`pd.Series([1, 3, 3, 7])`** appears as though the function **Series** from the pandas module is being invoked. All previous code in these notebooks that ended in parentheses was calling a function.  Technically, **`pd.Series([1, 3, 3, 7])`** is not a function. It is creating an **instance** of the **Series** class by passing a 4 element list to the Series constructor.\n",
    "\n",
    "For practical purposes of this notebook, there are no differences between a class constructor and a function that returns an object. For example, **`np.arange(100)`** is technically a function that returns a numpy ndarray and  **`pd.Series([1, 3, 3, 7])`** calls the Series constructor and creates a pandas Series object.\n",
    "\n",
    "Very typically, class names will be capitalized just like Series and function will not be like **`arange`**."
   ]
  },
  {
   "cell_type": "markdown",
   "metadata": {},
   "source": [
    "### Using NumPy to create a Series with random values\n",
    "A common way to create Series for practice is to fill them with NumPy random values. NumPy has an excellent random module that provides more functionality than the built-in Python random module for creating all sort of random numbers from different distributions.\n",
    "\n",
    "Below, a Series of length 100 will be created with random numbers between 0 and 1 using the `np.random.rand` function. The index will be started from 10."
   ]
  },
  {
   "cell_type": "markdown",
   "metadata": {},
   "source": []
  },
  {
   "cell_type": "markdown",
   "metadata": {},
   "source": [
    "### Manually construct a DataFrame\n",
    "It is quite rare that you will actually need to construct a DataFrame manually.  Most frequently you will be reading external flat files, getting data from the web or reading from relational databases. Nonetheless, it does occur.\n",
    "\n",
    "Just like the **`pd.Series`** is technically a constructor, **`pd.DataFrame`** constructs a DataFrame by accepting a dictionary with strings as the **keys** and lists as the **values**."
   ]
  },
  {
   "cell_type": "code",
   "execution_count": 6,
   "metadata": {
    "collapsed": true
   },
   "outputs": [],
   "source": [
    "# Lets import our packages.\n",
    "import pandas as pd\n",
    "import numpy as np"
   ]
  },
  {
   "cell_type": "code",
   "execution_count": 7,
   "metadata": {},
   "outputs": [
    {
     "data": {
      "text/html": [
       "<div>\n",
       "<style>\n",
       "    .dataframe thead tr:only-child th {\n",
       "        text-align: right;\n",
       "    }\n",
       "\n",
       "    .dataframe thead th {\n",
       "        text-align: left;\n",
       "    }\n",
       "\n",
       "    .dataframe tbody tr th {\n",
       "        vertical-align: top;\n",
       "    }\n",
       "</style>\n",
       "<table border=\"1\" class=\"dataframe\">\n",
       "  <thead>\n",
       "    <tr style=\"text-align: right;\">\n",
       "      <th></th>\n",
       "      <th>Favorite Number</th>\n",
       "      <th>Phone</th>\n",
       "      <th>name</th>\n",
       "    </tr>\n",
       "  </thead>\n",
       "  <tbody>\n",
       "    <tr>\n",
       "      <th>0</th>\n",
       "      <td>99</td>\n",
       "      <td>Samsung</td>\n",
       "      <td>Ted</td>\n",
       "    </tr>\n",
       "    <tr>\n",
       "      <th>1</th>\n",
       "      <td>7</td>\n",
       "      <td>Samsung</td>\n",
       "      <td>Ned</td>\n",
       "    </tr>\n",
       "    <tr>\n",
       "      <th>2</th>\n",
       "      <td>4</td>\n",
       "      <td>IOS</td>\n",
       "      <td>Jed</td>\n",
       "    </tr>\n",
       "  </tbody>\n",
       "</table>\n",
       "</div>"
      ],
      "text/plain": [
       "   Favorite Number    Phone name\n",
       "0               99  Samsung  Ted\n",
       "1                7  Samsung  Ned\n",
       "2                4      IOS  Jed"
      ]
     },
     "execution_count": 7,
     "metadata": {},
     "output_type": "execute_result"
    }
   ],
   "source": [
    "# create dataframe from a dictionary of lists. The keys are the column names NOT the indices\n",
    "df = pd.DataFrame({'name':['Ted', 'Ned', 'Jed'], 'Phone':['Samsung', 'Samsung', 'IOS'], 'Favorite Number':[99, 7, 4]})\n",
    "df"
   ]
  },
  {
   "cell_type": "markdown",
   "metadata": {},
   "source": [
    "### Closely Examine Output\n",
    "It is clear that there are three columns and three rows to the DataFrame. What's not as obvious is that there exists an index for the rows with labels 0,1,2. The column names (which are also Index objects) are Favorite Number, Phone and name."
   ]
  },
  {
   "cell_type": "markdown",
   "metadata": {},
   "source": [
    "### Why did the column order get changed?\n",
    "If you looked closely, the order of the columns did not match the order in which they were written in the dictionary. Dictionaries are inherently unordered, so it isn't likely that the order of the keys in the dictionary will be the same as the in the DataFrame produced from it.\n",
    "\n",
    "It is possible to specify the order explicitly in the constructor with the **`columns`** parameter."
   ]
  },
  {
   "cell_type": "code",
   "execution_count": 8,
   "metadata": {},
   "outputs": [
    {
     "data": {
      "text/html": [
       "<div>\n",
       "<style>\n",
       "    .dataframe thead tr:only-child th {\n",
       "        text-align: right;\n",
       "    }\n",
       "\n",
       "    .dataframe thead th {\n",
       "        text-align: left;\n",
       "    }\n",
       "\n",
       "    .dataframe tbody tr th {\n",
       "        vertical-align: top;\n",
       "    }\n",
       "</style>\n",
       "<table border=\"1\" class=\"dataframe\">\n",
       "  <thead>\n",
       "    <tr style=\"text-align: right;\">\n",
       "      <th></th>\n",
       "      <th>name</th>\n",
       "      <th>Phone</th>\n",
       "      <th>Favorite Number</th>\n",
       "    </tr>\n",
       "  </thead>\n",
       "  <tbody>\n",
       "    <tr>\n",
       "      <th>0</th>\n",
       "      <td>Ted</td>\n",
       "      <td>Samsung</td>\n",
       "      <td>99</td>\n",
       "    </tr>\n",
       "    <tr>\n",
       "      <th>1</th>\n",
       "      <td>Ned</td>\n",
       "      <td>Samsung</td>\n",
       "      <td>7</td>\n",
       "    </tr>\n",
       "    <tr>\n",
       "      <th>2</th>\n",
       "      <td>Jed</td>\n",
       "      <td>IOS</td>\n",
       "      <td>4</td>\n",
       "    </tr>\n",
       "  </tbody>\n",
       "</table>\n",
       "</div>"
      ],
      "text/plain": [
       "  name    Phone  Favorite Number\n",
       "0  Ted  Samsung               99\n",
       "1  Ned  Samsung                7\n",
       "2  Jed      IOS                4"
      ]
     },
     "execution_count": 8,
     "metadata": {},
     "output_type": "execute_result"
    }
   ],
   "source": [
    "# Let's fix the column order \n",
    "df = pd.DataFrame({'name':['Ted', 'Ned', 'Jed'], 'Phone':['Samsung', 'Samsung', 'IOS'], 'Favorite Number':[99, 7, 4]},\n",
    "                 columns=['name', 'Phone', 'Favorite Number'])\n",
    "df"
   ]
  },
  {
   "cell_type": "markdown",
   "metadata": {},
   "source": [
    "### Creating a DataFrame from NumPy\n",
    "An easy way to create a DataFrame is using a 2-d numpy array. Below, a 5x10 numpy array is used with both column and row indexes provided."
   ]
  },
  {
   "cell_type": "code",
   "execution_count": 9,
   "metadata": {},
   "outputs": [
    {
     "data": {
      "text/html": [
       "<div>\n",
       "<style>\n",
       "    .dataframe thead tr:only-child th {\n",
       "        text-align: right;\n",
       "    }\n",
       "\n",
       "    .dataframe thead th {\n",
       "        text-align: left;\n",
       "    }\n",
       "\n",
       "    .dataframe tbody tr th {\n",
       "        vertical-align: top;\n",
       "    }\n",
       "</style>\n",
       "<table border=\"1\" class=\"dataframe\">\n",
       "  <thead>\n",
       "    <tr style=\"text-align: right;\">\n",
       "      <th></th>\n",
       "      <th>one</th>\n",
       "      <th>two</th>\n",
       "      <th>three</th>\n",
       "      <th>four</th>\n",
       "      <th>five</th>\n",
       "    </tr>\n",
       "  </thead>\n",
       "  <tbody>\n",
       "    <tr>\n",
       "      <th>a</th>\n",
       "      <td>0.205787</td>\n",
       "      <td>0.000864</td>\n",
       "      <td>0.301004</td>\n",
       "      <td>0.111961</td>\n",
       "      <td>0.078666</td>\n",
       "    </tr>\n",
       "    <tr>\n",
       "      <th>b</th>\n",
       "      <td>0.840670</td>\n",
       "      <td>0.003686</td>\n",
       "      <td>0.726316</td>\n",
       "      <td>0.691093</td>\n",
       "      <td>0.511413</td>\n",
       "    </tr>\n",
       "    <tr>\n",
       "      <th>c</th>\n",
       "      <td>0.151676</td>\n",
       "      <td>0.217502</td>\n",
       "      <td>0.621104</td>\n",
       "      <td>0.002138</td>\n",
       "      <td>0.408129</td>\n",
       "    </tr>\n",
       "    <tr>\n",
       "      <th>d</th>\n",
       "      <td>0.492448</td>\n",
       "      <td>0.967101</td>\n",
       "      <td>0.600174</td>\n",
       "      <td>0.790895</td>\n",
       "      <td>0.641191</td>\n",
       "    </tr>\n",
       "    <tr>\n",
       "      <th>e</th>\n",
       "      <td>0.813088</td>\n",
       "      <td>0.869537</td>\n",
       "      <td>0.917518</td>\n",
       "      <td>0.807937</td>\n",
       "      <td>0.156791</td>\n",
       "    </tr>\n",
       "    <tr>\n",
       "      <th>f</th>\n",
       "      <td>0.656279</td>\n",
       "      <td>0.672472</td>\n",
       "      <td>0.408419</td>\n",
       "      <td>0.241512</td>\n",
       "      <td>0.677590</td>\n",
       "    </tr>\n",
       "    <tr>\n",
       "      <th>g</th>\n",
       "      <td>0.055616</td>\n",
       "      <td>0.588628</td>\n",
       "      <td>0.073936</td>\n",
       "      <td>0.122838</td>\n",
       "      <td>0.333524</td>\n",
       "    </tr>\n",
       "    <tr>\n",
       "      <th>h</th>\n",
       "      <td>0.550952</td>\n",
       "      <td>0.279748</td>\n",
       "      <td>0.612938</td>\n",
       "      <td>0.695909</td>\n",
       "      <td>0.930667</td>\n",
       "    </tr>\n",
       "    <tr>\n",
       "      <th>i</th>\n",
       "      <td>0.708171</td>\n",
       "      <td>0.352467</td>\n",
       "      <td>0.936233</td>\n",
       "      <td>0.150488</td>\n",
       "      <td>0.723554</td>\n",
       "    </tr>\n",
       "    <tr>\n",
       "      <th>j</th>\n",
       "      <td>0.719625</td>\n",
       "      <td>0.544120</td>\n",
       "      <td>0.087835</td>\n",
       "      <td>0.960436</td>\n",
       "      <td>0.286158</td>\n",
       "    </tr>\n",
       "  </tbody>\n",
       "</table>\n",
       "</div>"
      ],
      "text/plain": [
       "        one       two     three      four      five\n",
       "a  0.205787  0.000864  0.301004  0.111961  0.078666\n",
       "b  0.840670  0.003686  0.726316  0.691093  0.511413\n",
       "c  0.151676  0.217502  0.621104  0.002138  0.408129\n",
       "d  0.492448  0.967101  0.600174  0.790895  0.641191\n",
       "e  0.813088  0.869537  0.917518  0.807937  0.156791\n",
       "f  0.656279  0.672472  0.408419  0.241512  0.677590\n",
       "g  0.055616  0.588628  0.073936  0.122838  0.333524\n",
       "h  0.550952  0.279748  0.612938  0.695909  0.930667\n",
       "i  0.708171  0.352467  0.936233  0.150488  0.723554\n",
       "j  0.719625  0.544120  0.087835  0.960436  0.286158"
      ]
     },
     "execution_count": 9,
     "metadata": {},
     "output_type": "execute_result"
    }
   ],
   "source": [
    "df = pd.DataFrame(np.random.rand(10,5), columns=['one', 'two', 'three', 'four', 'five'], index=list('abcdefghij'))\n",
    "df"
   ]
  }
 ],
 "metadata": {
  "kernelspec": {
   "display_name": "Python 3",
   "language": "python",
   "name": "python3"
  },
  "language_info": {
   "codemirror_mode": {
    "name": "ipython",
    "version": 3
   },
   "file_extension": ".py",
   "mimetype": "text/x-python",
   "name": "python",
   "nbconvert_exporter": "python",
   "pygments_lexer": "ipython3",
   "version": "3.6.1"
  }
 },
 "nbformat": 4,
 "nbformat_minor": 2
}
