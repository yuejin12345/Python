{
 "cells": [
  {
   "cell_type": "markdown",
   "metadata": {},
   "source": [
    "# Case Study: Do Employees with more Experience make more Money?\n",
    "\n",
    "### Objectives\n",
    "After this lesson you should be able to...\n",
    "\n",
    "+ Add new columns to a DataFrame\n",
    "+ Change the data type of a column\n",
    "+ Create categorical data type with the **`cut`** function\n",
    "\n",
    "### Prepare for this lesson by...\n",
    "+ Read the first section on [Categorical Data](http://pandas.pydata.org/pandas-docs/stable/categorical.html)\n",
    "\n",
    "## Introduction\n",
    "In this lesson we will first learn how to add new columns to our DataFrame and use a little bit of datetime functionality to calculate years of experience. We will then determine if more experience results in a larger salary."
   ]
  },
  {
   "cell_type": "markdown",
   "metadata": {},
   "source": [
    "### Adding new columns to the DataFrame\n",
    "A very common task during analysis is to add new columns to the working DataFrame. Usually, some operation is performed using the existing columns with the outcome added as a new column. The easiest way to add a new column is put the new column name inside the indexing operator and set it equal to a scalar value like an integer."
   ]
  },
  {
   "cell_type": "code",
   "execution_count": 1,
   "metadata": {},
   "outputs": [],
   "source": [
    "import pandas as pd\n",
    "import numpy as np"
   ]
  },
  {
   "cell_type": "code",
   "execution_count": 2,
   "metadata": {},
   "outputs": [
    {
     "data": {
      "text/html": [
       "<div>\n",
       "<style scoped>\n",
       "    .dataframe tbody tr th:only-of-type {\n",
       "        vertical-align: middle;\n",
       "    }\n",
       "\n",
       "    .dataframe tbody tr th {\n",
       "        vertical-align: top;\n",
       "    }\n",
       "\n",
       "    .dataframe thead th {\n",
       "        text-align: right;\n",
       "    }\n",
       "</style>\n",
       "<table border=\"1\" class=\"dataframe\">\n",
       "  <thead>\n",
       "    <tr style=\"text-align: right;\">\n",
       "      <th></th>\n",
       "      <th>POSITION_TITLE</th>\n",
       "      <th>DEPARTMENT</th>\n",
       "      <th>BASE_SALARY</th>\n",
       "      <th>RACE</th>\n",
       "      <th>EMPLOYMENT_TYPE</th>\n",
       "      <th>GENDER</th>\n",
       "      <th>EMPLOYMENT_STATUS</th>\n",
       "      <th>HIRE_DATE</th>\n",
       "      <th>JOB_DATE</th>\n",
       "    </tr>\n",
       "  </thead>\n",
       "  <tbody>\n",
       "    <tr>\n",
       "      <th>0</th>\n",
       "      <td>ASSISTANT DIRECTOR (EX LVL)</td>\n",
       "      <td>Municipal Courts Department</td>\n",
       "      <td>121862.0</td>\n",
       "      <td>Hispanic/Latino</td>\n",
       "      <td>Full Time</td>\n",
       "      <td>Female</td>\n",
       "      <td>Active</td>\n",
       "      <td>2006-06-12</td>\n",
       "      <td>2012-10-13</td>\n",
       "    </tr>\n",
       "    <tr>\n",
       "      <th>1</th>\n",
       "      <td>LIBRARY ASSISTANT</td>\n",
       "      <td>Library</td>\n",
       "      <td>26125.0</td>\n",
       "      <td>Hispanic/Latino</td>\n",
       "      <td>Full Time</td>\n",
       "      <td>Female</td>\n",
       "      <td>Active</td>\n",
       "      <td>2000-07-19</td>\n",
       "      <td>2010-09-18</td>\n",
       "    </tr>\n",
       "    <tr>\n",
       "      <th>2</th>\n",
       "      <td>POLICE OFFICER</td>\n",
       "      <td>Houston Police Department-HPD</td>\n",
       "      <td>45279.0</td>\n",
       "      <td>White</td>\n",
       "      <td>Full Time</td>\n",
       "      <td>Male</td>\n",
       "      <td>Active</td>\n",
       "      <td>2015-02-03</td>\n",
       "      <td>2015-02-03</td>\n",
       "    </tr>\n",
       "    <tr>\n",
       "      <th>3</th>\n",
       "      <td>ENGINEER/OPERATOR</td>\n",
       "      <td>Houston Fire Department (HFD)</td>\n",
       "      <td>63166.0</td>\n",
       "      <td>White</td>\n",
       "      <td>Full Time</td>\n",
       "      <td>Male</td>\n",
       "      <td>Active</td>\n",
       "      <td>1982-02-08</td>\n",
       "      <td>1991-05-25</td>\n",
       "    </tr>\n",
       "    <tr>\n",
       "      <th>4</th>\n",
       "      <td>ELECTRICIAN</td>\n",
       "      <td>General Services Department</td>\n",
       "      <td>56347.0</td>\n",
       "      <td>White</td>\n",
       "      <td>Full Time</td>\n",
       "      <td>Male</td>\n",
       "      <td>Active</td>\n",
       "      <td>1989-06-19</td>\n",
       "      <td>1994-10-22</td>\n",
       "    </tr>\n",
       "  </tbody>\n",
       "</table>\n",
       "</div>"
      ],
      "text/plain": [
       "                POSITION_TITLE                     DEPARTMENT  BASE_SALARY  \\\n",
       "0  ASSISTANT DIRECTOR (EX LVL)    Municipal Courts Department     121862.0   \n",
       "1            LIBRARY ASSISTANT                        Library      26125.0   \n",
       "2               POLICE OFFICER  Houston Police Department-HPD      45279.0   \n",
       "3            ENGINEER/OPERATOR  Houston Fire Department (HFD)      63166.0   \n",
       "4                  ELECTRICIAN    General Services Department      56347.0   \n",
       "\n",
       "              RACE EMPLOYMENT_TYPE  GENDER EMPLOYMENT_STATUS   HIRE_DATE  \\\n",
       "0  Hispanic/Latino       Full Time  Female            Active  2006-06-12   \n",
       "1  Hispanic/Latino       Full Time  Female            Active  2000-07-19   \n",
       "2            White       Full Time    Male            Active  2015-02-03   \n",
       "3            White       Full Time    Male            Active  1982-02-08   \n",
       "4            White       Full Time    Male            Active  1989-06-19   \n",
       "\n",
       "     JOB_DATE  \n",
       "0  2012-10-13  \n",
       "1  2010-09-18  \n",
       "2  2015-02-03  \n",
       "3  1991-05-25  \n",
       "4  1994-10-22  "
      ]
     },
     "execution_count": 2,
     "metadata": {},
     "output_type": "execute_result"
    }
   ],
   "source": [
    "employee = pd.read_csv('../../data/employee.csv')\n",
    "employee.head()"
   ]
  },
  {
   "cell_type": "code",
   "execution_count": 3,
   "metadata": {},
   "outputs": [],
   "source": [
    "# add a constant value as a new column\n",
    "# the new column is always last\n",
    "\n",
    "employee['NEW_CONSTANT_COLUMN'] = 5"
   ]
  },
  {
   "cell_type": "code",
   "execution_count": 4,
   "metadata": {},
   "outputs": [
    {
     "data": {
      "text/html": [
       "<div>\n",
       "<style scoped>\n",
       "    .dataframe tbody tr th:only-of-type {\n",
       "        vertical-align: middle;\n",
       "    }\n",
       "\n",
       "    .dataframe tbody tr th {\n",
       "        vertical-align: top;\n",
       "    }\n",
       "\n",
       "    .dataframe thead th {\n",
       "        text-align: right;\n",
       "    }\n",
       "</style>\n",
       "<table border=\"1\" class=\"dataframe\">\n",
       "  <thead>\n",
       "    <tr style=\"text-align: right;\">\n",
       "      <th></th>\n",
       "      <th>GENDER</th>\n",
       "      <th>EMPLOYMENT_STATUS</th>\n",
       "      <th>HIRE_DATE</th>\n",
       "      <th>JOB_DATE</th>\n",
       "      <th>NEW_CONSTANT_COLUMN</th>\n",
       "    </tr>\n",
       "  </thead>\n",
       "  <tbody>\n",
       "    <tr>\n",
       "      <th>0</th>\n",
       "      <td>Female</td>\n",
       "      <td>Active</td>\n",
       "      <td>2006-06-12</td>\n",
       "      <td>2012-10-13</td>\n",
       "      <td>5</td>\n",
       "    </tr>\n",
       "    <tr>\n",
       "      <th>1</th>\n",
       "      <td>Female</td>\n",
       "      <td>Active</td>\n",
       "      <td>2000-07-19</td>\n",
       "      <td>2010-09-18</td>\n",
       "      <td>5</td>\n",
       "    </tr>\n",
       "    <tr>\n",
       "      <th>2</th>\n",
       "      <td>Male</td>\n",
       "      <td>Active</td>\n",
       "      <td>2015-02-03</td>\n",
       "      <td>2015-02-03</td>\n",
       "      <td>5</td>\n",
       "    </tr>\n",
       "    <tr>\n",
       "      <th>3</th>\n",
       "      <td>Male</td>\n",
       "      <td>Active</td>\n",
       "      <td>1982-02-08</td>\n",
       "      <td>1991-05-25</td>\n",
       "      <td>5</td>\n",
       "    </tr>\n",
       "    <tr>\n",
       "      <th>4</th>\n",
       "      <td>Male</td>\n",
       "      <td>Active</td>\n",
       "      <td>1989-06-19</td>\n",
       "      <td>1994-10-22</td>\n",
       "      <td>5</td>\n",
       "    </tr>\n",
       "  </tbody>\n",
       "</table>\n",
       "</div>"
      ],
      "text/plain": [
       "   GENDER EMPLOYMENT_STATUS   HIRE_DATE    JOB_DATE  NEW_CONSTANT_COLUMN\n",
       "0  Female            Active  2006-06-12  2012-10-13                    5\n",
       "1  Female            Active  2000-07-19  2010-09-18                    5\n",
       "2    Male            Active  2015-02-03  2015-02-03                    5\n",
       "3    Male            Active  1982-02-08  1991-05-25                    5\n",
       "4    Male            Active  1989-06-19  1994-10-22                    5"
      ]
     },
     "execution_count": 4,
     "metadata": {},
     "output_type": "execute_result"
    }
   ],
   "source": [
    "# Take a look at the last few columns and there you see the new column\n",
    "employee.iloc[:5, -5:]"
   ]
  },
  {
   "cell_type": "markdown",
   "metadata": {},
   "source": [
    "### Adding two columns to create a new one\n",
    "It's possible to add two numeric or string columns together and assign it as a new column. Here we add together **`RACE`** and **`GENDER`** separated by a hyphen."
   ]
  },
  {
   "cell_type": "code",
   "execution_count": 5,
   "metadata": {},
   "outputs": [],
   "source": [
    "employee['RACE_GENDER'] = employee['RACE'] + '-' + employee['GENDER']"
   ]
  },
  {
   "cell_type": "code",
   "execution_count": 6,
   "metadata": {},
   "outputs": [
    {
     "data": {
      "text/html": [
       "<div>\n",
       "<style scoped>\n",
       "    .dataframe tbody tr th:only-of-type {\n",
       "        vertical-align: middle;\n",
       "    }\n",
       "\n",
       "    .dataframe tbody tr th {\n",
       "        vertical-align: top;\n",
       "    }\n",
       "\n",
       "    .dataframe thead th {\n",
       "        text-align: right;\n",
       "    }\n",
       "</style>\n",
       "<table border=\"1\" class=\"dataframe\">\n",
       "  <thead>\n",
       "    <tr style=\"text-align: right;\">\n",
       "      <th></th>\n",
       "      <th>RACE</th>\n",
       "      <th>GENDER</th>\n",
       "      <th>RACE_GENDER</th>\n",
       "    </tr>\n",
       "  </thead>\n",
       "  <tbody>\n",
       "    <tr>\n",
       "      <th>0</th>\n",
       "      <td>Hispanic/Latino</td>\n",
       "      <td>Female</td>\n",
       "      <td>Hispanic/Latino-Female</td>\n",
       "    </tr>\n",
       "    <tr>\n",
       "      <th>1</th>\n",
       "      <td>Hispanic/Latino</td>\n",
       "      <td>Female</td>\n",
       "      <td>Hispanic/Latino-Female</td>\n",
       "    </tr>\n",
       "    <tr>\n",
       "      <th>2</th>\n",
       "      <td>White</td>\n",
       "      <td>Male</td>\n",
       "      <td>White-Male</td>\n",
       "    </tr>\n",
       "    <tr>\n",
       "      <th>3</th>\n",
       "      <td>White</td>\n",
       "      <td>Male</td>\n",
       "      <td>White-Male</td>\n",
       "    </tr>\n",
       "    <tr>\n",
       "      <th>4</th>\n",
       "      <td>White</td>\n",
       "      <td>Male</td>\n",
       "      <td>White-Male</td>\n",
       "    </tr>\n",
       "  </tbody>\n",
       "</table>\n",
       "</div>"
      ],
      "text/plain": [
       "              RACE  GENDER             RACE_GENDER\n",
       "0  Hispanic/Latino  Female  Hispanic/Latino-Female\n",
       "1  Hispanic/Latino  Female  Hispanic/Latino-Female\n",
       "2            White    Male              White-Male\n",
       "3            White    Male              White-Male\n",
       "4            White    Male              White-Male"
      ]
     },
     "execution_count": 6,
     "metadata": {},
     "output_type": "execute_result"
    }
   ],
   "source": [
    "# inspect the name columns to see if new column is as intended\n",
    "employee[['RACE', 'GENDER', 'RACE_GENDER']].head()"
   ]
  },
  {
   "cell_type": "markdown",
   "metadata": {},
   "source": [
    "### Taking the value count of this new column\n",
    "Now we can get a more precise breakdown of gender and race. It's very interesting to see why there are relatively few white females."
   ]
  },
  {
   "cell_type": "code",
   "execution_count": 7,
   "metadata": {},
   "outputs": [
    {
     "data": {
      "text/plain": [
       "White-Male                                  557\n",
       "Black or African American-Male              395\n",
       "Hispanic/Latino-Male                        341\n",
       "Black or African American-Female            305\n",
       "Hispanic/Latino-Female                      139\n",
       "White-Female                                108\n",
       "Asian/Pacific Islander-Male                  77\n",
       "Asian/Pacific Islander-Female                30\n",
       "American Indian or Alaskan Native-Female      6\n",
       "American Indian or Alaskan Native-Male        5\n",
       "Others-Male                                   1\n",
       "Others-Female                                 1\n",
       "Name: RACE_GENDER, dtype: int64"
      ]
     },
     "execution_count": 7,
     "metadata": {},
     "output_type": "execute_result"
    }
   ],
   "source": [
    "employee['RACE_GENDER'].value_counts()"
   ]
  },
  {
   "cell_type": "markdown",
   "metadata": {},
   "source": [
    "### Adding a random numeric column\n",
    "Let's say the city of Houston wants to give everyone a random bonus ranging anywhere between 0 and 10% of their current base salary. To begin, we will make a column called **RANDOM_BONUS** and assign each employee a random number between 0 and .1. We use the numpy random module function **`rand`** to create random numbers between 0 and 1 and multiply this by .1 to get the desired bonus"
   ]
  },
  {
   "cell_type": "code",
   "execution_count": 8,
   "metadata": {},
   "outputs": [],
   "source": [
    "np.random.seed(123)\n",
    "n = len(employee)\n",
    "employee['RANDOM_BONUS'] = np.random.rand(n) * .1"
   ]
  },
  {
   "cell_type": "code",
   "execution_count": 9,
   "metadata": {},
   "outputs": [
    {
     "data": {
      "text/html": [
       "<div>\n",
       "<style scoped>\n",
       "    .dataframe tbody tr th:only-of-type {\n",
       "        vertical-align: middle;\n",
       "    }\n",
       "\n",
       "    .dataframe tbody tr th {\n",
       "        vertical-align: top;\n",
       "    }\n",
       "\n",
       "    .dataframe thead th {\n",
       "        text-align: right;\n",
       "    }\n",
       "</style>\n",
       "<table border=\"1\" class=\"dataframe\">\n",
       "  <thead>\n",
       "    <tr style=\"text-align: right;\">\n",
       "      <th></th>\n",
       "      <th>HIRE_DATE</th>\n",
       "      <th>JOB_DATE</th>\n",
       "      <th>NEW_CONSTANT_COLUMN</th>\n",
       "      <th>RACE_GENDER</th>\n",
       "      <th>RANDOM_BONUS</th>\n",
       "    </tr>\n",
       "  </thead>\n",
       "  <tbody>\n",
       "    <tr>\n",
       "      <th>0</th>\n",
       "      <td>2006-06-12</td>\n",
       "      <td>2012-10-13</td>\n",
       "      <td>5</td>\n",
       "      <td>Hispanic/Latino-Female</td>\n",
       "      <td>0.069647</td>\n",
       "    </tr>\n",
       "    <tr>\n",
       "      <th>1</th>\n",
       "      <td>2000-07-19</td>\n",
       "      <td>2010-09-18</td>\n",
       "      <td>5</td>\n",
       "      <td>Hispanic/Latino-Female</td>\n",
       "      <td>0.028614</td>\n",
       "    </tr>\n",
       "    <tr>\n",
       "      <th>2</th>\n",
       "      <td>2015-02-03</td>\n",
       "      <td>2015-02-03</td>\n",
       "      <td>5</td>\n",
       "      <td>White-Male</td>\n",
       "      <td>0.022685</td>\n",
       "    </tr>\n",
       "  </tbody>\n",
       "</table>\n",
       "</div>"
      ],
      "text/plain": [
       "    HIRE_DATE    JOB_DATE  NEW_CONSTANT_COLUMN             RACE_GENDER  \\\n",
       "0  2006-06-12  2012-10-13                    5  Hispanic/Latino-Female   \n",
       "1  2000-07-19  2010-09-18                    5  Hispanic/Latino-Female   \n",
       "2  2015-02-03  2015-02-03                    5              White-Male   \n",
       "\n",
       "   RANDOM_BONUS  \n",
       "0      0.069647  \n",
       "1      0.028614  \n",
       "2      0.022685  "
      ]
     },
     "execution_count": 9,
     "metadata": {},
     "output_type": "execute_result"
    }
   ],
   "source": [
    "# inspect last columns\n",
    "employee.iloc[:3, -5:]"
   ]
  },
  {
   "cell_type": "markdown",
   "metadata": {},
   "source": [
    "### Data Types\n",
    "In a previous notebook, all the pandas data types were listed in a table. We can use either the **`info`** method or the **`dtypes`** attribute to list the data types"
   ]
  },
  {
   "cell_type": "code",
   "execution_count": 10,
   "metadata": {},
   "outputs": [
    {
     "data": {
      "text/plain": [
       "POSITION_TITLE          object\n",
       "DEPARTMENT              object\n",
       "BASE_SALARY            float64\n",
       "RACE                    object\n",
       "EMPLOYMENT_TYPE         object\n",
       "GENDER                  object\n",
       "EMPLOYMENT_STATUS       object\n",
       "HIRE_DATE               object\n",
       "JOB_DATE                object\n",
       "NEW_CONSTANT_COLUMN      int64\n",
       "RACE_GENDER             object\n",
       "RANDOM_BONUS           float64\n",
       "dtype: object"
      ]
     },
     "execution_count": 10,
     "metadata": {},
     "output_type": "execute_result"
    }
   ],
   "source": [
    "# only look at the data types - returns a Series\n",
    "employee.dtypes"
   ]
  },
  {
   "cell_type": "markdown",
   "metadata": {},
   "source": [
    "### Changing Data Types\n",
    "Occasionally, some columns will not be the desired type and need to be changed to a different type. A common situation occurs when dealing with dates that are read in as strings and defaulted to the **`object`** data type. The Series method **astype** will attempt to force a column to a different type.\n",
    "\n",
    "The argument passed to **astype** must be the name of the new data type as either a string or a NumPy object. pandas now requires that you pass the precision of the datetime. For now we will use nanosecond precision and use the string **`datetime64[ns]`**. The **HIRE_DATE** column is currently a string and gets converted to a **datetime64** below along with other date columns.\n",
    "\n",
    "The function **`pd.to_datetime`** also works and is more flexible that **`astype`**."
   ]
  },
  {
   "cell_type": "code",
   "execution_count": 11,
   "metadata": {},
   "outputs": [],
   "source": [
    "# using a string\n",
    "employee['HIRE_DATE'] = employee['HIRE_DATE'].astype('datetime64[ns]')\n",
    "\n",
    "# yet another way using a function with flexibility to do more things\n",
    "employee['JOB_DATE'] = pd.to_datetime(employee['JOB_DATE'])"
   ]
  },
  {
   "cell_type": "code",
   "execution_count": 12,
   "metadata": {},
   "outputs": [
    {
     "data": {
      "text/plain": [
       "POSITION_TITLE                 object\n",
       "DEPARTMENT                     object\n",
       "BASE_SALARY                   float64\n",
       "RACE                           object\n",
       "EMPLOYMENT_TYPE                object\n",
       "GENDER                         object\n",
       "EMPLOYMENT_STATUS              object\n",
       "HIRE_DATE              datetime64[ns]\n",
       "JOB_DATE               datetime64[ns]\n",
       "NEW_CONSTANT_COLUMN             int64\n",
       "RACE_GENDER                    object\n",
       "RANDOM_BONUS                  float64\n",
       "dtype: object"
      ]
     },
     "execution_count": 12,
     "metadata": {},
     "output_type": "execute_result"
    }
   ],
   "source": [
    "employee.dtypes"
   ]
  },
  {
   "cell_type": "markdown",
   "metadata": {},
   "source": [
    "# Case Study: Do people with more experience make more money?\n",
    "To answer this question, the number of years of experience needs to be calculated from the column **HIRE_DATE**. **datetime64** columns can be subtracted from one another. We will use the date that the data was generated which was around December, 2016."
   ]
  },
  {
   "cell_type": "code",
   "execution_count": 13,
   "metadata": {},
   "outputs": [
    {
     "data": {
      "text/plain": [
       "Timestamp('2016-12-01 00:00:00')"
      ]
     },
     "execution_count": 13,
     "metadata": {},
     "output_type": "execute_result"
    }
   ],
   "source": [
    "pull_date = pd.Timestamp('2016-12-1')\n",
    "pull_date"
   ]
  },
  {
   "cell_type": "code",
   "execution_count": 14,
   "metadata": {},
   "outputs": [
    {
     "data": {
      "text/plain": [
       "0    3825 days\n",
       "1    5979 days\n",
       "2     667 days\n",
       "3   12715 days\n",
       "4   10027 days\n",
       "Name: HIRE_DATE, dtype: timedelta64[ns]"
      ]
     },
     "execution_count": 14,
     "metadata": {},
     "output_type": "execute_result"
    }
   ],
   "source": [
    "# subtract the hire date from today to get the number of days of experience\n",
    "experience = pull_date - employee['HIRE_DATE']\n",
    "\n",
    "# print out head of series\n",
    "experience.head()"
   ]
  },
  {
   "cell_type": "markdown",
   "metadata": {},
   "source": [
    "### Converting to years\n",
    "Notice that the data type is now **timedelta64** which just reprsents an amount of time in days. To convert this to years an esoteric command must be run. [See here for more detail](http://pandas.pydata.org/pandas-docs/stable/timedeltas.html#frequency-conversion)"
   ]
  },
  {
   "cell_type": "code",
   "execution_count": 15,
   "metadata": {},
   "outputs": [
    {
     "data": {
      "text/plain": [
       "0    10.472494\n",
       "1    16.369946\n",
       "2     1.826184\n",
       "3    34.812488\n",
       "4    27.452994\n",
       "Name: HIRE_DATE, dtype: float64"
      ]
     },
     "execution_count": 15,
     "metadata": {},
     "output_type": "execute_result"
    }
   ],
   "source": [
    "# convert to years\n",
    "years_experience = experience / pd.Timedelta(1, 'Y')\n",
    "\n",
    "# inspect and check that it makes sense\n",
    "years_experience.head()"
   ]
  },
  {
   "cell_type": "code",
   "execution_count": 16,
   "metadata": {},
   "outputs": [],
   "source": [
    "# Make a new column\n",
    "employee['YEARS_EXPERIENCE'] = years_experience"
   ]
  },
  {
   "cell_type": "markdown",
   "metadata": {},
   "source": [
    "### Creating categories for years of experience\n",
    "It's possible to divide numerical columns into different categories based on their value. The pandas **cut** function accepts a Series or an array and a list of the edges of the **bins**. Each category can be given a **label** as well. A series is returned that is of **categorical** type - unique to Pandas. [More on categorical data](http://pandas.pydata.org/pandas-docs/stable/categorical.html)"
   ]
  },
  {
   "cell_type": "code",
   "execution_count": 17,
   "metadata": {},
   "outputs": [],
   "source": [
    "# create Series of categorical data\n",
    "exp_categories = pd.cut(years_experience, bins=[0, 5, 15, 100], labels=['Novice', 'Experienced', 'Senior'])"
   ]
  },
  {
   "cell_type": "code",
   "execution_count": 18,
   "metadata": {},
   "outputs": [
    {
     "data": {
      "text/plain": [
       "0    Experienced\n",
       "1         Senior\n",
       "2         Novice\n",
       "3         Senior\n",
       "4         Senior\n",
       "5         Senior\n",
       "6         Novice\n",
       "7         Novice\n",
       "8         Senior\n",
       "9         Novice\n",
       "Name: HIRE_DATE, dtype: category\n",
       "Categories (3, object): [Novice < Experienced < Senior]"
      ]
     },
     "execution_count": 18,
     "metadata": {},
     "output_type": "execute_result"
    }
   ],
   "source": [
    "# inspect Seriers\n",
    "exp_categories.head(10)"
   ]
  },
  {
   "cell_type": "code",
   "execution_count": 19,
   "metadata": {},
   "outputs": [
    {
     "data": {
      "text/plain": [
       "Senior         806\n",
       "Experienced    663\n",
       "Novice         531\n",
       "Name: HIRE_DATE, dtype: int64"
      ]
     },
     "execution_count": 19,
     "metadata": {},
     "output_type": "execute_result"
    }
   ],
   "source": [
    "# get some summary statistics\n",
    "exp_categories.value_counts()"
   ]
  },
  {
   "cell_type": "code",
   "execution_count": 20,
   "metadata": {},
   "outputs": [],
   "source": [
    "# Create new column\n",
    "employee['EXPERIENCE_LEVEL'] = exp_categories"
   ]
  },
  {
   "cell_type": "markdown",
   "metadata": {},
   "source": [
    "## Reading in Dates\n",
    "It is possible to read in dates correctly using **`read_csv`**. Use a list of the column names you would like to be dates as the argument for the **`parse_dates`** parameter."
   ]
  },
  {
   "cell_type": "code",
   "execution_count": 21,
   "metadata": {},
   "outputs": [
    {
     "data": {
      "text/plain": [
       "POSITION_TITLE               object\n",
       "DEPARTMENT                   object\n",
       "BASE_SALARY                 float64\n",
       "RACE                         object\n",
       "EMPLOYMENT_TYPE              object\n",
       "GENDER                       object\n",
       "EMPLOYMENT_STATUS            object\n",
       "HIRE_DATE            datetime64[ns]\n",
       "JOB_DATE             datetime64[ns]\n",
       "dtype: object"
      ]
     },
     "execution_count": 21,
     "metadata": {},
     "output_type": "execute_result"
    }
   ],
   "source": [
    "employee2 = pd.read_csv('../../data/employee.csv', parse_dates=['HIRE_DATE', 'JOB_DATE'])\n",
    "employee2.dtypes"
   ]
  },
  {
   "cell_type": "markdown",
   "metadata": {},
   "source": [
    "# Exercises"
   ]
  },
  {
   "cell_type": "code",
   "execution_count": 23,
   "metadata": {},
   "outputs": [],
   "source": [
    "# you can run this cell to get all the transformations from this notebook all at once\n",
    "employee = pd.read_csv('../../data/employee.csv', parse_dates=['HIRE_DATE', 'JOB_DATE'])\n",
    "employee['NEW_CONSTANT_COLUMN'] = 5\n",
    "employee['RACE_GENDER'] = employee['RACE'] + '-' + employee['GENDER']\n",
    "\n",
    "np.random.seed(123)\n",
    "n = len(employee)\n",
    "employee['RANDOM_BONUS'] = np.random.rand(n) * .1\n",
    "\n",
    "employee['YEARS_EXPERIENCE'] = (pd.Timestamp('2016-12-1') - employee['HIRE_DATE']) / pd.Timedelta(1, 'Y')\n",
    "employee['EXPERIENCE_LEVEL'] =  pd.cut(employee['YEARS_EXPERIENCE'], \n",
    "                                       bins=[0, 5, 15, 100], \n",
    "                                       labels=['Novice', 'Experienced', 'Senior'])"
   ]
  },
  {
   "cell_type": "code",
   "execution_count": 24,
   "metadata": {},
   "outputs": [
    {
     "data": {
      "text/html": [
       "<div>\n",
       "<style scoped>\n",
       "    .dataframe tbody tr th:only-of-type {\n",
       "        vertical-align: middle;\n",
       "    }\n",
       "\n",
       "    .dataframe tbody tr th {\n",
       "        vertical-align: top;\n",
       "    }\n",
       "\n",
       "    .dataframe thead th {\n",
       "        text-align: right;\n",
       "    }\n",
       "</style>\n",
       "<table border=\"1\" class=\"dataframe\">\n",
       "  <thead>\n",
       "    <tr style=\"text-align: right;\">\n",
       "      <th></th>\n",
       "      <th>POSITION_TITLE</th>\n",
       "      <th>DEPARTMENT</th>\n",
       "      <th>BASE_SALARY</th>\n",
       "      <th>RACE</th>\n",
       "      <th>EMPLOYMENT_TYPE</th>\n",
       "      <th>GENDER</th>\n",
       "      <th>EMPLOYMENT_STATUS</th>\n",
       "      <th>HIRE_DATE</th>\n",
       "      <th>JOB_DATE</th>\n",
       "      <th>NEW_CONSTANT_COLUMN</th>\n",
       "      <th>RACE_GENDER</th>\n",
       "      <th>RANDOM_BONUS</th>\n",
       "      <th>YEARS_EXPERIENCE</th>\n",
       "      <th>EXPERIENCE_LEVEL</th>\n",
       "    </tr>\n",
       "  </thead>\n",
       "  <tbody>\n",
       "    <tr>\n",
       "      <th>0</th>\n",
       "      <td>ASSISTANT DIRECTOR (EX LVL)</td>\n",
       "      <td>Municipal Courts Department</td>\n",
       "      <td>121862.0</td>\n",
       "      <td>Hispanic/Latino</td>\n",
       "      <td>Full Time</td>\n",
       "      <td>Female</td>\n",
       "      <td>Active</td>\n",
       "      <td>2006-06-12</td>\n",
       "      <td>2012-10-13</td>\n",
       "      <td>5</td>\n",
       "      <td>Hispanic/Latino-Female</td>\n",
       "      <td>0.069647</td>\n",
       "      <td>10.472494</td>\n",
       "      <td>Experienced</td>\n",
       "    </tr>\n",
       "    <tr>\n",
       "      <th>1</th>\n",
       "      <td>LIBRARY ASSISTANT</td>\n",
       "      <td>Library</td>\n",
       "      <td>26125.0</td>\n",
       "      <td>Hispanic/Latino</td>\n",
       "      <td>Full Time</td>\n",
       "      <td>Female</td>\n",
       "      <td>Active</td>\n",
       "      <td>2000-07-19</td>\n",
       "      <td>2010-09-18</td>\n",
       "      <td>5</td>\n",
       "      <td>Hispanic/Latino-Female</td>\n",
       "      <td>0.028614</td>\n",
       "      <td>16.369946</td>\n",
       "      <td>Senior</td>\n",
       "    </tr>\n",
       "    <tr>\n",
       "      <th>2</th>\n",
       "      <td>POLICE OFFICER</td>\n",
       "      <td>Houston Police Department-HPD</td>\n",
       "      <td>45279.0</td>\n",
       "      <td>White</td>\n",
       "      <td>Full Time</td>\n",
       "      <td>Male</td>\n",
       "      <td>Active</td>\n",
       "      <td>2015-02-03</td>\n",
       "      <td>2015-02-03</td>\n",
       "      <td>5</td>\n",
       "      <td>White-Male</td>\n",
       "      <td>0.022685</td>\n",
       "      <td>1.826184</td>\n",
       "      <td>Novice</td>\n",
       "    </tr>\n",
       "    <tr>\n",
       "      <th>3</th>\n",
       "      <td>ENGINEER/OPERATOR</td>\n",
       "      <td>Houston Fire Department (HFD)</td>\n",
       "      <td>63166.0</td>\n",
       "      <td>White</td>\n",
       "      <td>Full Time</td>\n",
       "      <td>Male</td>\n",
       "      <td>Active</td>\n",
       "      <td>1982-02-08</td>\n",
       "      <td>1991-05-25</td>\n",
       "      <td>5</td>\n",
       "      <td>White-Male</td>\n",
       "      <td>0.055131</td>\n",
       "      <td>34.812488</td>\n",
       "      <td>Senior</td>\n",
       "    </tr>\n",
       "    <tr>\n",
       "      <th>4</th>\n",
       "      <td>ELECTRICIAN</td>\n",
       "      <td>General Services Department</td>\n",
       "      <td>56347.0</td>\n",
       "      <td>White</td>\n",
       "      <td>Full Time</td>\n",
       "      <td>Male</td>\n",
       "      <td>Active</td>\n",
       "      <td>1989-06-19</td>\n",
       "      <td>1994-10-22</td>\n",
       "      <td>5</td>\n",
       "      <td>White-Male</td>\n",
       "      <td>0.071947</td>\n",
       "      <td>27.452994</td>\n",
       "      <td>Senior</td>\n",
       "    </tr>\n",
       "  </tbody>\n",
       "</table>\n",
       "</div>"
      ],
      "text/plain": [
       "                POSITION_TITLE                     DEPARTMENT  BASE_SALARY  \\\n",
       "0  ASSISTANT DIRECTOR (EX LVL)    Municipal Courts Department     121862.0   \n",
       "1            LIBRARY ASSISTANT                        Library      26125.0   \n",
       "2               POLICE OFFICER  Houston Police Department-HPD      45279.0   \n",
       "3            ENGINEER/OPERATOR  Houston Fire Department (HFD)      63166.0   \n",
       "4                  ELECTRICIAN    General Services Department      56347.0   \n",
       "\n",
       "              RACE EMPLOYMENT_TYPE  GENDER EMPLOYMENT_STATUS  HIRE_DATE  \\\n",
       "0  Hispanic/Latino       Full Time  Female            Active 2006-06-12   \n",
       "1  Hispanic/Latino       Full Time  Female            Active 2000-07-19   \n",
       "2            White       Full Time    Male            Active 2015-02-03   \n",
       "3            White       Full Time    Male            Active 1982-02-08   \n",
       "4            White       Full Time    Male            Active 1989-06-19   \n",
       "\n",
       "    JOB_DATE  NEW_CONSTANT_COLUMN             RACE_GENDER  RANDOM_BONUS  \\\n",
       "0 2012-10-13                    5  Hispanic/Latino-Female      0.069647   \n",
       "1 2010-09-18                    5  Hispanic/Latino-Female      0.028614   \n",
       "2 2015-02-03                    5              White-Male      0.022685   \n",
       "3 1991-05-25                    5              White-Male      0.055131   \n",
       "4 1994-10-22                    5              White-Male      0.071947   \n",
       "\n",
       "   YEARS_EXPERIENCE EXPERIENCE_LEVEL  \n",
       "0         10.472494      Experienced  \n",
       "1         16.369946           Senior  \n",
       "2          1.826184           Novice  \n",
       "3         34.812488           Senior  \n",
       "4         27.452994           Senior  "
      ]
     },
     "execution_count": 24,
     "metadata": {},
     "output_type": "execute_result"
    }
   ],
   "source": [
    "employee.head()"
   ]
  },
  {
   "cell_type": "markdown",
   "metadata": {},
   "source": [
    "### Problem 1\n",
    "<span  style=\"color:green; font-size:16px\">Create new columns **`BONUS`** and **`TOTAL_COMP`**. Use column **`RANDOM_BONUS`** to calculate the bonus.</span>"
   ]
  },
  {
   "cell_type": "code",
   "execution_count": 25,
   "metadata": {},
   "outputs": [],
   "source": [
    "# your code here"
   ]
  },
  {
   "cell_type": "markdown",
   "metadata": {},
   "source": [
    "### Problem 2\n",
    "<span  style=\"color:green; font-size:16px\">Use the **`EXPERIENCE_LEVEL`** column to determine if more experienced employees make more money.</span>"
   ]
  },
  {
   "cell_type": "code",
   "execution_count": 26,
   "metadata": {},
   "outputs": [],
   "source": [
    "# your code here"
   ]
  },
  {
   "cell_type": "markdown",
   "metadata": {},
   "source": [
    "# Solutions"
   ]
  },
  {
   "cell_type": "markdown",
   "metadata": {},
   "source": [
    "### Problem 1\n",
    "<span  style=\"color:green; font-size:16px\">Create new columns **`BONUS`** and **`TOTAL_COMP`**. Use column **`RANDOM_BONUS`** to calculate the bonus.</span>"
   ]
  },
  {
   "cell_type": "code",
   "execution_count": 27,
   "metadata": {},
   "outputs": [
    {
     "data": {
      "text/html": [
       "<div>\n",
       "<style scoped>\n",
       "    .dataframe tbody tr th:only-of-type {\n",
       "        vertical-align: middle;\n",
       "    }\n",
       "\n",
       "    .dataframe tbody tr th {\n",
       "        vertical-align: top;\n",
       "    }\n",
       "\n",
       "    .dataframe thead th {\n",
       "        text-align: right;\n",
       "    }\n",
       "</style>\n",
       "<table border=\"1\" class=\"dataframe\">\n",
       "  <thead>\n",
       "    <tr style=\"text-align: right;\">\n",
       "      <th></th>\n",
       "      <th>RANDOM_BONUS</th>\n",
       "      <th>YEARS_EXPERIENCE</th>\n",
       "      <th>EXPERIENCE_LEVEL</th>\n",
       "      <th>BONUS</th>\n",
       "      <th>TOTAL_COMP</th>\n",
       "    </tr>\n",
       "  </thead>\n",
       "  <tbody>\n",
       "    <tr>\n",
       "      <th>0</th>\n",
       "      <td>0.069647</td>\n",
       "      <td>10.472494</td>\n",
       "      <td>Experienced</td>\n",
       "      <td>8487.312790</td>\n",
       "      <td>130349.312790</td>\n",
       "    </tr>\n",
       "    <tr>\n",
       "      <th>1</th>\n",
       "      <td>0.028614</td>\n",
       "      <td>16.369946</td>\n",
       "      <td>Senior</td>\n",
       "      <td>747.539013</td>\n",
       "      <td>26872.539013</td>\n",
       "    </tr>\n",
       "    <tr>\n",
       "      <th>2</th>\n",
       "      <td>0.022685</td>\n",
       "      <td>1.826184</td>\n",
       "      <td>Novice</td>\n",
       "      <td>1027.160697</td>\n",
       "      <td>46306.160697</td>\n",
       "    </tr>\n",
       "  </tbody>\n",
       "</table>\n",
       "</div>"
      ],
      "text/plain": [
       "   RANDOM_BONUS  YEARS_EXPERIENCE EXPERIENCE_LEVEL        BONUS     TOTAL_COMP\n",
       "0      0.069647         10.472494      Experienced  8487.312790  130349.312790\n",
       "1      0.028614         16.369946           Senior   747.539013   26872.539013\n",
       "2      0.022685          1.826184           Novice  1027.160697   46306.160697"
      ]
     },
     "execution_count": 27,
     "metadata": {},
     "output_type": "execute_result"
    }
   ],
   "source": [
    "employee['BONUS'] = employee['RANDOM_BONUS'] * employee['BASE_SALARY']\n",
    "employee['TOTAL_COMP'] = employee['BASE_SALARY'] + employee['BONUS']\n",
    "\n",
    "employee.iloc[:3, -5:]"
   ]
  },
  {
   "cell_type": "markdown",
   "metadata": {},
   "source": [
    "### Problem 2\n",
    "<span  style=\"color:green; font-size:16px\">Use the **`EXPERIENCE_LEVEL`** column to determine if more experienced employees make more money.</span>"
   ]
  },
  {
   "cell_type": "code",
   "execution_count": 28,
   "metadata": {},
   "outputs": [
    {
     "data": {
      "text/plain": [
       "(44987.484, 55264.92867981791, 63638.224209078406)"
      ]
     },
     "execution_count": 28,
     "metadata": {},
     "output_type": "execute_result"
    }
   ],
   "source": [
    "novice = employee.loc[employee['EXPERIENCE_LEVEL'] == 'Novice', 'BASE_SALARY']\n",
    "exper = employee.loc[employee['EXPERIENCE_LEVEL'] == 'Experienced', 'BASE_SALARY']\n",
    "senior = employee.loc[employee['EXPERIENCE_LEVEL'] == 'Senior', 'BASE_SALARY']\n",
    "\n",
    "novice.mean(), exper.mean(), senior.mean()"
   ]
  }
 ],
 "metadata": {
  "kernelspec": {
   "display_name": "Python 3",
   "language": "python",
   "name": "python3"
  },
  "language_info": {
   "codemirror_mode": {
    "name": "ipython",
    "version": 3
   },
   "file_extension": ".py",
   "mimetype": "text/x-python",
   "name": "python",
   "nbconvert_exporter": "python",
   "pygments_lexer": "ipython3",
   "version": "3.6.4"
  }
 },
 "nbformat": 4,
 "nbformat_minor": 2
}
