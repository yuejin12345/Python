{
 "cells": [
  {
   "cell_type": "markdown",
   "metadata": {},
   "source": [
    "# Case Study: Calculating Normality of Stock Market Returns\n",
    "We will examine the returns of different stocks to determine if their daily returns follow a normal distribution. Before we begin you will have to install the **requests** library which simplifies the process of making a web request. We will be making a request to get data from the [IEX developer platform][1]. They have an excellent an easy-to-use API to retrieve market data for free (up to 100 requests per second).\n",
    "\n",
    "### Using the requests library\n",
    "The simplest use of the requests library is to retrieve data from another website. You simply pass the URL as a string to the **`get`** function. The returned object stores the data as a string in the **`text`** attribute. The requests library comes standard with the Anaconda distribution, so you should already have it. It is a third-party library, but a very popular one.\n",
    "\n",
    "### Using the IEX API\n",
    "The IEX API is fairly straightforward to use and there are several examples that you can view to understand how it works. The base URL of the API is `https://api.iextrading.com/1.0` which can be [seen here in the docs][2]. If you scroll down from the last link, you will see how the API is used. Each **endpont** is documented. Let's use the [chart endpoint][3].\n",
    "\n",
    "We simply append **`/stock/{symbol}/chart/{range}`** to the base URL and put the stock symbol and range of data we want (without the curly braces) to retrieve historical stock price data. Go to the docs to view the available ranges.\n",
    "\n",
    "Let's retrieve the last 5 years of Amazon data (symbol AMZN) by passing our endpoint to the **`get`** function. A requests **`Response`** object is returned.\n",
    "\n",
    "[1]: https://iextrading.com/developer/\n",
    "[2]: https://iextrading.com/developer/docs/#endpoints\n",
    "[3]: https://iextrading.com/developer/docs/#chart"
   ]
  },
  {
   "cell_type": "code",
   "execution_count": 1,
   "metadata": {},
   "outputs": [],
   "source": [
    "import requests\n",
    "import pandas as pd"
   ]
  },
  {
   "cell_type": "code",
   "execution_count": 2,
   "metadata": {},
   "outputs": [
    {
     "data": {
      "text/plain": [
       "requests.models.Response"
      ]
     },
     "execution_count": 2,
     "metadata": {},
     "output_type": "execute_result"
    }
   ],
   "source": [
    "req = requests.get('https://api.iextrading.com/1.0/stock/AMZN/chart/5y')\n",
    "type(req)"
   ]
  },
  {
   "cell_type": "markdown",
   "metadata": {},
   "source": [
    "### Output the `text`\n",
    "The response is captured as a Python string assigned to the **`text`** attribute. Let's print out the first 1,000 characters."
   ]
  },
  {
   "cell_type": "code",
   "execution_count": 3,
   "metadata": {},
   "outputs": [
    {
     "data": {
      "text/plain": [
       "'[{\"date\":\"2013-07-22\",\"open\":309.25,\"high\":309.25,\"low\":302,\"close\":303.48,\"volume\":2520663,\"unadjustedVolume\":2520663,\"change\":-1.75,\"changePercent\":-0.573,\"vwap\":304.3156,\"label\":\"Jul 22, 13\",\"changeOverTime\":0},{\"date\":\"2013-07-23\",\"open\":303.16,\"high\":305.06,\"low\":300.56,\"close\":301.06,\"volume\":1999344,\"unadjustedVolume\":1999344,\"change\":-2.42,\"changePercent\":-0.797,\"vwap\":302.2476,\"label\":\"Jul 23, 13\",\"changeOverTime\":-0.007974166337155713},{\"date\":\"2013-07-24\",\"open\":303.02,\"high\":303.84,\"low\":298.04,\"close\":298.94,\"volume\":1999684,\"unadjustedVolume\":1999684,\"change\":-2.12,\"changePercent\":-0.704,\"vwap\":300.0688,\"label\":\"Jul 24, 13\",\"changeOverTime\":-0.01495979965730862},{\"date\":\"2013-07-25\",\"open\":299,\"high\":304.5,\"low\":296.75,\"close\":303.4,\"volume\":5394295,\"unadjustedVolume\":5394295,\"change\":4.46,\"changePercent\":1.492,\"vwap\":299.8534,\"label\":\"Jul 25, 13\",\"changeOverTime\":-0.00026360880453420627},{\"date\":\"2013-07-26\",\"open\":299.55,\"high\":313.62,\"low\":295.55,\"close\":312.01,\"volume'"
      ]
     },
     "execution_count": 3,
     "metadata": {},
     "output_type": "execute_result"
    }
   ],
   "source": [
    "req.text[:1000]"
   ]
  },
  {
   "cell_type": "markdown",
   "metadata": {},
   "source": [
    "### Reading JSON objects\n",
    "Most APIs will respond with JSON data, a standardized format of data that is very similar to a Python dictionary with key-value pairs. This particular JSON data is returned as a list of dictionaries. We can usually read in an API response with the **`read_json`** pandas function. A DataFrame is created and usually pandas identifies the correct data types for us."
   ]
  },
  {
   "cell_type": "code",
   "execution_count": 4,
   "metadata": {},
   "outputs": [
    {
     "data": {
      "text/html": [
       "<div>\n",
       "<style scoped>\n",
       "    .dataframe tbody tr th:only-of-type {\n",
       "        vertical-align: middle;\n",
       "    }\n",
       "\n",
       "    .dataframe tbody tr th {\n",
       "        vertical-align: top;\n",
       "    }\n",
       "\n",
       "    .dataframe thead th {\n",
       "        text-align: right;\n",
       "    }\n",
       "</style>\n",
       "<table border=\"1\" class=\"dataframe\">\n",
       "  <thead>\n",
       "    <tr style=\"text-align: right;\">\n",
       "      <th></th>\n",
       "      <th>change</th>\n",
       "      <th>changeOverTime</th>\n",
       "      <th>changePercent</th>\n",
       "      <th>close</th>\n",
       "      <th>date</th>\n",
       "      <th>high</th>\n",
       "      <th>label</th>\n",
       "      <th>low</th>\n",
       "      <th>open</th>\n",
       "      <th>unadjustedVolume</th>\n",
       "      <th>volume</th>\n",
       "      <th>vwap</th>\n",
       "    </tr>\n",
       "  </thead>\n",
       "  <tbody>\n",
       "    <tr>\n",
       "      <th>0</th>\n",
       "      <td>-1.75</td>\n",
       "      <td>0.000000</td>\n",
       "      <td>-0.573</td>\n",
       "      <td>303.48</td>\n",
       "      <td>2013-07-22</td>\n",
       "      <td>309.25</td>\n",
       "      <td>Jul 22, 13</td>\n",
       "      <td>302.00</td>\n",
       "      <td>309.25</td>\n",
       "      <td>2520663</td>\n",
       "      <td>2520663</td>\n",
       "      <td>304.3156</td>\n",
       "    </tr>\n",
       "    <tr>\n",
       "      <th>1</th>\n",
       "      <td>-2.42</td>\n",
       "      <td>-0.007974</td>\n",
       "      <td>-0.797</td>\n",
       "      <td>301.06</td>\n",
       "      <td>2013-07-23</td>\n",
       "      <td>305.06</td>\n",
       "      <td>Jul 23, 13</td>\n",
       "      <td>300.56</td>\n",
       "      <td>303.16</td>\n",
       "      <td>1999344</td>\n",
       "      <td>1999344</td>\n",
       "      <td>302.2476</td>\n",
       "    </tr>\n",
       "    <tr>\n",
       "      <th>2</th>\n",
       "      <td>-2.12</td>\n",
       "      <td>-0.014960</td>\n",
       "      <td>-0.704</td>\n",
       "      <td>298.94</td>\n",
       "      <td>2013-07-24</td>\n",
       "      <td>303.84</td>\n",
       "      <td>Jul 24, 13</td>\n",
       "      <td>298.04</td>\n",
       "      <td>303.02</td>\n",
       "      <td>1999684</td>\n",
       "      <td>1999684</td>\n",
       "      <td>300.0688</td>\n",
       "    </tr>\n",
       "    <tr>\n",
       "      <th>3</th>\n",
       "      <td>4.46</td>\n",
       "      <td>-0.000264</td>\n",
       "      <td>1.492</td>\n",
       "      <td>303.40</td>\n",
       "      <td>2013-07-25</td>\n",
       "      <td>304.50</td>\n",
       "      <td>Jul 25, 13</td>\n",
       "      <td>296.75</td>\n",
       "      <td>299.00</td>\n",
       "      <td>5394295</td>\n",
       "      <td>5394295</td>\n",
       "      <td>299.8534</td>\n",
       "    </tr>\n",
       "    <tr>\n",
       "      <th>4</th>\n",
       "      <td>8.61</td>\n",
       "      <td>0.028107</td>\n",
       "      <td>2.838</td>\n",
       "      <td>312.01</td>\n",
       "      <td>2013-07-26</td>\n",
       "      <td>313.62</td>\n",
       "      <td>Jul 26, 13</td>\n",
       "      <td>295.55</td>\n",
       "      <td>299.55</td>\n",
       "      <td>8817434</td>\n",
       "      <td>8817434</td>\n",
       "      <td>306.7581</td>\n",
       "    </tr>\n",
       "  </tbody>\n",
       "</table>\n",
       "</div>"
      ],
      "text/plain": [
       "   change  changeOverTime  changePercent   close       date    high  \\\n",
       "0   -1.75        0.000000         -0.573  303.48 2013-07-22  309.25   \n",
       "1   -2.42       -0.007974         -0.797  301.06 2013-07-23  305.06   \n",
       "2   -2.12       -0.014960         -0.704  298.94 2013-07-24  303.84   \n",
       "3    4.46       -0.000264          1.492  303.40 2013-07-25  304.50   \n",
       "4    8.61        0.028107          2.838  312.01 2013-07-26  313.62   \n",
       "\n",
       "        label     low    open  unadjustedVolume   volume      vwap  \n",
       "0  Jul 22, 13  302.00  309.25           2520663  2520663  304.3156  \n",
       "1  Jul 23, 13  300.56  303.16           1999344  1999344  302.2476  \n",
       "2  Jul 24, 13  298.04  303.02           1999684  1999684  300.0688  \n",
       "3  Jul 25, 13  296.75  299.00           5394295  5394295  299.8534  \n",
       "4  Jul 26, 13  295.55  299.55           8817434  8817434  306.7581  "
      ]
     },
     "execution_count": 4,
     "metadata": {},
     "output_type": "execute_result"
    }
   ],
   "source": [
    "amzn = pd.read_json(req.text)\n",
    "amzn.head()"
   ]
  },
  {
   "cell_type": "markdown",
   "metadata": {},
   "source": [
    "### Verify data types\n",
    "It's very important to verify that Pandas chose the correct data types. A common occurrence is for a column that looks like it contains numeric data to be actually kept as a string.\n",
    "\n",
    "Looking below, the data types seem to all be correct, save for **`label`**, which appears to be just a duplicate of the date column. We are good to continue."
   ]
  },
  {
   "cell_type": "code",
   "execution_count": 5,
   "metadata": {},
   "outputs": [
    {
     "data": {
      "text/plain": [
       "change                     float64\n",
       "changeOverTime             float64\n",
       "changePercent              float64\n",
       "close                      float64\n",
       "date                datetime64[ns]\n",
       "high                       float64\n",
       "label                       object\n",
       "low                        float64\n",
       "open                       float64\n",
       "unadjustedVolume             int64\n",
       "volume                       int64\n",
       "vwap                       float64\n",
       "dtype: object"
      ]
     },
     "execution_count": 5,
     "metadata": {},
     "output_type": "execute_result"
    }
   ],
   "source": [
    "amzn.dtypes"
   ]
  },
  {
   "cell_type": "markdown",
   "metadata": {},
   "source": [
    "### Put date in index\n",
    "The date is a good choice as an index since it uniquely labels each row:"
   ]
  },
  {
   "cell_type": "code",
   "execution_count": 6,
   "metadata": {},
   "outputs": [
    {
     "data": {
      "text/html": [
       "<div>\n",
       "<style scoped>\n",
       "    .dataframe tbody tr th:only-of-type {\n",
       "        vertical-align: middle;\n",
       "    }\n",
       "\n",
       "    .dataframe tbody tr th {\n",
       "        vertical-align: top;\n",
       "    }\n",
       "\n",
       "    .dataframe thead th {\n",
       "        text-align: right;\n",
       "    }\n",
       "</style>\n",
       "<table border=\"1\" class=\"dataframe\">\n",
       "  <thead>\n",
       "    <tr style=\"text-align: right;\">\n",
       "      <th></th>\n",
       "      <th>change</th>\n",
       "      <th>changeOverTime</th>\n",
       "      <th>changePercent</th>\n",
       "      <th>close</th>\n",
       "      <th>high</th>\n",
       "      <th>label</th>\n",
       "      <th>low</th>\n",
       "      <th>open</th>\n",
       "      <th>unadjustedVolume</th>\n",
       "      <th>volume</th>\n",
       "      <th>vwap</th>\n",
       "    </tr>\n",
       "    <tr>\n",
       "      <th>date</th>\n",
       "      <th></th>\n",
       "      <th></th>\n",
       "      <th></th>\n",
       "      <th></th>\n",
       "      <th></th>\n",
       "      <th></th>\n",
       "      <th></th>\n",
       "      <th></th>\n",
       "      <th></th>\n",
       "      <th></th>\n",
       "      <th></th>\n",
       "    </tr>\n",
       "  </thead>\n",
       "  <tbody>\n",
       "    <tr>\n",
       "      <th>2013-07-22</th>\n",
       "      <td>-1.75</td>\n",
       "      <td>0.000000</td>\n",
       "      <td>-0.573</td>\n",
       "      <td>303.48</td>\n",
       "      <td>309.25</td>\n",
       "      <td>Jul 22, 13</td>\n",
       "      <td>302.00</td>\n",
       "      <td>309.25</td>\n",
       "      <td>2520663</td>\n",
       "      <td>2520663</td>\n",
       "      <td>304.3156</td>\n",
       "    </tr>\n",
       "    <tr>\n",
       "      <th>2013-07-23</th>\n",
       "      <td>-2.42</td>\n",
       "      <td>-0.007974</td>\n",
       "      <td>-0.797</td>\n",
       "      <td>301.06</td>\n",
       "      <td>305.06</td>\n",
       "      <td>Jul 23, 13</td>\n",
       "      <td>300.56</td>\n",
       "      <td>303.16</td>\n",
       "      <td>1999344</td>\n",
       "      <td>1999344</td>\n",
       "      <td>302.2476</td>\n",
       "    </tr>\n",
       "    <tr>\n",
       "      <th>2013-07-24</th>\n",
       "      <td>-2.12</td>\n",
       "      <td>-0.014960</td>\n",
       "      <td>-0.704</td>\n",
       "      <td>298.94</td>\n",
       "      <td>303.84</td>\n",
       "      <td>Jul 24, 13</td>\n",
       "      <td>298.04</td>\n",
       "      <td>303.02</td>\n",
       "      <td>1999684</td>\n",
       "      <td>1999684</td>\n",
       "      <td>300.0688</td>\n",
       "    </tr>\n",
       "    <tr>\n",
       "      <th>2013-07-25</th>\n",
       "      <td>4.46</td>\n",
       "      <td>-0.000264</td>\n",
       "      <td>1.492</td>\n",
       "      <td>303.40</td>\n",
       "      <td>304.50</td>\n",
       "      <td>Jul 25, 13</td>\n",
       "      <td>296.75</td>\n",
       "      <td>299.00</td>\n",
       "      <td>5394295</td>\n",
       "      <td>5394295</td>\n",
       "      <td>299.8534</td>\n",
       "    </tr>\n",
       "    <tr>\n",
       "      <th>2013-07-26</th>\n",
       "      <td>8.61</td>\n",
       "      <td>0.028107</td>\n",
       "      <td>2.838</td>\n",
       "      <td>312.01</td>\n",
       "      <td>313.62</td>\n",
       "      <td>Jul 26, 13</td>\n",
       "      <td>295.55</td>\n",
       "      <td>299.55</td>\n",
       "      <td>8817434</td>\n",
       "      <td>8817434</td>\n",
       "      <td>306.7581</td>\n",
       "    </tr>\n",
       "  </tbody>\n",
       "</table>\n",
       "</div>"
      ],
      "text/plain": [
       "            change  changeOverTime  changePercent   close    high       label  \\\n",
       "date                                                                            \n",
       "2013-07-22   -1.75        0.000000         -0.573  303.48  309.25  Jul 22, 13   \n",
       "2013-07-23   -2.42       -0.007974         -0.797  301.06  305.06  Jul 23, 13   \n",
       "2013-07-24   -2.12       -0.014960         -0.704  298.94  303.84  Jul 24, 13   \n",
       "2013-07-25    4.46       -0.000264          1.492  303.40  304.50  Jul 25, 13   \n",
       "2013-07-26    8.61        0.028107          2.838  312.01  313.62  Jul 26, 13   \n",
       "\n",
       "               low    open  unadjustedVolume   volume      vwap  \n",
       "date                                                             \n",
       "2013-07-22  302.00  309.25           2520663  2520663  304.3156  \n",
       "2013-07-23  300.56  303.16           1999344  1999344  302.2476  \n",
       "2013-07-24  298.04  303.02           1999684  1999684  300.0688  \n",
       "2013-07-25  296.75  299.00           5394295  5394295  299.8534  \n",
       "2013-07-26  295.55  299.55           8817434  8817434  306.7581  "
      ]
     },
     "execution_count": 6,
     "metadata": {},
     "output_type": "execute_result"
    }
   ],
   "source": [
    "amzn = amzn.set_index('date')\n",
    "amzn.head()"
   ]
  },
  {
   "cell_type": "markdown",
   "metadata": {},
   "source": [
    "### Grabbing a single column of data\n",
    "For this problem, we are only interested in the closing price. To get the **close** column, we pass the column name to the indexing operator."
   ]
  },
  {
   "cell_type": "code",
   "execution_count": 7,
   "metadata": {},
   "outputs": [
    {
     "data": {
      "text/plain": [
       "date\n",
       "2013-07-22    303.48\n",
       "2013-07-23    301.06\n",
       "2013-07-24    298.94\n",
       "2013-07-25    303.40\n",
       "2013-07-26    312.01\n",
       "2013-07-29    306.10\n",
       "2013-07-30    302.41\n",
       "2013-07-31    301.22\n",
       "2013-08-01    305.57\n",
       "2013-08-02    304.21\n",
       "Name: close, dtype: float64"
      ]
     },
     "execution_count": 7,
     "metadata": {},
     "output_type": "execute_result"
    }
   ],
   "source": [
    "# Get closing price\n",
    "close = amzn['close']\n",
    "close.head(10)"
   ]
  },
  {
   "cell_type": "code",
   "execution_count": 8,
   "metadata": {},
   "outputs": [
    {
     "data": {
      "text/plain": [
       "pandas.core.series.Series"
      ]
     },
     "execution_count": 8,
     "metadata": {},
     "output_type": "execute_result"
    }
   ],
   "source": [
    "# we are back to a Series\n",
    "type(close)"
   ]
  },
  {
   "cell_type": "markdown",
   "metadata": {},
   "source": [
    "### Daily percent change\n",
    "Pandas Series has a nifty method called **`pct_change`** which returns the percentage difference between the current and previous elements."
   ]
  },
  {
   "cell_type": "code",
   "execution_count": 9,
   "metadata": {},
   "outputs": [
    {
     "data": {
      "text/plain": [
       "date\n",
       "2013-07-22         NaN\n",
       "2013-07-23   -0.007974\n",
       "2013-07-24   -0.007042\n",
       "2013-07-25    0.014919\n",
       "2013-07-26    0.028378\n",
       "2013-07-29   -0.018942\n",
       "2013-07-30   -0.012055\n",
       "2013-07-31   -0.003935\n",
       "2013-08-01    0.014441\n",
       "2013-08-02   -0.004451\n",
       "Name: close, dtype: float64"
      ]
     },
     "execution_count": 9,
     "metadata": {},
     "output_type": "execute_result"
    }
   ],
   "source": [
    "# calculate percent change\n",
    "close_change = close.pct_change()\n",
    "close_change.head(10)"
   ]
  },
  {
   "cell_type": "markdown",
   "metadata": {},
   "source": [
    "### Dataset already has a percent change column\n",
    "The dataset already contains a percent column. We can manually verify that they are equivalent (after taking the percentage into consideration)."
   ]
  },
  {
   "cell_type": "code",
   "execution_count": 10,
   "metadata": {},
   "outputs": [
    {
     "data": {
      "text/plain": [
       "date\n",
       "2013-07-22   -0.573\n",
       "2013-07-23   -0.797\n",
       "2013-07-24   -0.704\n",
       "2013-07-25    1.492\n",
       "2013-07-26    2.838\n",
       "2013-07-29   -1.894\n",
       "2013-07-30   -1.205\n",
       "2013-07-31   -0.394\n",
       "2013-08-01    1.444\n",
       "2013-08-02   -0.445\n",
       "Name: changePercent, dtype: float64"
      ]
     },
     "execution_count": 10,
     "metadata": {},
     "output_type": "execute_result"
    }
   ],
   "source": [
    "amzn['changePercent'].head(10)"
   ]
  },
  {
   "cell_type": "markdown",
   "metadata": {},
   "source": [
    "### Handling Missing Value\n",
    "The first date has a missing value since there was no previous date. The **`dropna`** method can be used to remove any NaN elements."
   ]
  },
  {
   "cell_type": "code",
   "execution_count": 11,
   "metadata": {},
   "outputs": [
    {
     "data": {
      "text/plain": [
       "date\n",
       "2013-07-23   -0.007974\n",
       "2013-07-24   -0.007042\n",
       "2013-07-25    0.014919\n",
       "2013-07-26    0.028378\n",
       "2013-07-29   -0.018942\n",
       "2013-07-30   -0.012055\n",
       "2013-07-31   -0.003935\n",
       "2013-08-01    0.014441\n",
       "2013-08-02   -0.004451\n",
       "2013-08-05   -0.010585\n",
       "Name: close, dtype: float64"
      ]
     },
     "execution_count": 11,
     "metadata": {},
     "output_type": "execute_result"
    }
   ],
   "source": [
    "close_change = close_change.dropna()\n",
    "close_change.head(10)"
   ]
  },
  {
   "cell_type": "markdown",
   "metadata": {},
   "source": [
    "### Checking for Normality\n",
    "There are formal statistical tests for normality that can be used. Instead we will focus on simple data exploration to give us insight."
   ]
  },
  {
   "cell_type": "markdown",
   "metadata": {},
   "source": [
    "### Plotting the returns\n",
    "The main plotting library in pandas is matplotlib which will be covered in greater detail in a later notebook. To output plots directly into the notebook the magic command **`%matplotlib inline`** must be executed first. "
   ]
  },
  {
   "cell_type": "code",
   "execution_count": 12,
   "metadata": {},
   "outputs": [],
   "source": [
    "%matplotlib inline"
   ]
  },
  {
   "cell_type": "markdown",
   "metadata": {},
   "source": [
    "Pandas objects have hooks directly into matplotlib so it's not necessary to directly import matplotlib. The **`plot`** method can be used to create a number of different kinds of plots by using the **`kind`** parameter. We pass it the string **`hist`** to create a histogram, along with a histogram-specific argument **`bins`** to control the number of bars. We also change the size of the figure by passing a tuple to the **`figsize`** parameter."
   ]
  },
  {
   "cell_type": "code",
   "execution_count": 13,
   "metadata": {},
   "outputs": [
    {
     "data": {
      "text/plain": [
       "<matplotlib.axes._subplots.AxesSubplot at 0x10fd66f60>"
      ]
     },
     "execution_count": 13,
     "metadata": {},
     "output_type": "execute_result"
    },
    {
     "data": {
      "image/png": "[encoded data removed]",
      "text/plain": [
       "<Figure size 864x288 with 1 Axes>"
      ]
     },
     "metadata": {},
     "output_type": "display_data"
    }
   ],
   "source": [
    "close_change.plot(kind='hist', bins=50, figsize=(12, 4))"
   ]
  },
  {
   "cell_type": "markdown",
   "metadata": {},
   "source": [
    "### Use boolean selection to check for normality\n",
    "The plot above is symmetrical and somewhat bell-shaped. It could possibly represent a normal distribution. To more formally check for normality we can count the number of observations that are within 1, 2, and 3 standard deviations. The [68-95-99.7 rule](https://en.wikipedia.org/wiki/68%E2%80%9395%E2%80%9399.7_rule) can be used to know if the data is approximately normal.\n",
    "\n",
    "We first need to calculate the mean, standard deviation."
   ]
  },
  {
   "cell_type": "code",
   "execution_count": 14,
   "metadata": {},
   "outputs": [],
   "source": [
    "mean = close_change.mean()\n",
    "std = close_change.std()"
   ]
  },
  {
   "cell_type": "markdown",
   "metadata": {},
   "source": [
    "### Get absolute number of standard deviations from mean\n",
    "To standardize our results we can find how many absolute standard deviations away from the mean each one is. To do this we subtract the mean from the entire Series, which returns a Series and then take the absolute value of this. We then divide by the standard deviation. This quantity is referred to a **z-score**."
   ]
  },
  {
   "cell_type": "code",
   "execution_count": 15,
   "metadata": {},
   "outputs": [],
   "source": [
    "z_score = (close_change - mean).abs() / std"
   ]
  },
  {
   "cell_type": "markdown",
   "metadata": {},
   "source": [
    "### Find the percentage by taking the mean\n",
    "We have seen in other notebooks, that taking the mean of a boolean Series gives us the percentage that are **`True`**. Let's do that here to find the percentage less than 1, 2, and 3 standard deviations:"
   ]
  },
  {
   "cell_type": "code",
   "execution_count": 16,
   "metadata": {},
   "outputs": [
    {
     "data": {
      "text/plain": [
       "(0.813, 0.959, 0.985)"
      ]
     },
     "execution_count": 16,
     "metadata": {},
     "output_type": "execute_result"
    }
   ],
   "source": [
    "# Get final results and round to 3 decimals\n",
    "pct_within1 = round((z_score < 1).mean(), 3)\n",
    "pct_within2 = round((z_score < 2).mean(), 3)\n",
    "pct_within3 = round((z_score < 3).mean(), 3)\n",
    "\n",
    "pct_within1, pct_within2, pct_within3"
   ]
  },
  {
   "cell_type": "markdown",
   "metadata": {},
   "source": [
    "### Results Discussion\n",
    "The percentages of returns within 1, 2 and 3 standard deviations are fairly far off the 68-95-99.7 rule. Much more of the data was concentrated around 1 standard deviation and several times as many returns than expected were greater than 3 standard deviations from the mean. This strongly suggests that a normal distribution would not be a good fit for this type of data."
   ]
  },
  {
   "cell_type": "markdown",
   "metadata": {},
   "source": [
    "### How to check the entire series for truth\n",
    "Lets say we wanted to check if all the stock price returns were within 4 standard deviations from the mean. The **`all`** and **`any`** methods can be used to check Series of all boolean values."
   ]
  },
  {
   "cell_type": "code",
   "execution_count": 17,
   "metadata": {},
   "outputs": [
    {
     "data": {
      "text/plain": [
       "date\n",
       "2013-07-23    True\n",
       "2013-07-24    True\n",
       "2013-07-25    True\n",
       "2013-07-26    True\n",
       "2013-07-29    True\n",
       "2013-07-30    True\n",
       "2013-07-31    True\n",
       "2013-08-01    True\n",
       "2013-08-02    True\n",
       "2013-08-05    True\n",
       "Name: close, dtype: bool"
      ]
     },
     "execution_count": 17,
     "metadata": {},
     "output_type": "execute_result"
    }
   ],
   "source": [
    "# create a boolean Series checking values to be within 4 standard deviations\n",
    "criteria = z_score < 4\n",
    "\n",
    "# inspect criteria - the first 10 are true\n",
    "criteria.head(10)"
   ]
  },
  {
   "cell_type": "code",
   "execution_count": 18,
   "metadata": {},
   "outputs": [
    {
     "data": {
      "text/plain": [
       "False"
      ]
     },
     "execution_count": 18,
     "metadata": {},
     "output_type": "execute_result"
    }
   ],
   "source": [
    "# now use all to check if they are all true. Looks like is at least one False\n",
    "criteria.all()"
   ]
  },
  {
   "cell_type": "code",
   "execution_count": 19,
   "metadata": {},
   "outputs": [
    {
     "data": {
      "text/plain": [
       "True"
      ]
     },
     "execution_count": 19,
     "metadata": {},
     "output_type": "execute_result"
    }
   ],
   "source": [
    "# could do the same thing with 'any' method\n",
    "# change criteria to be more than 4 std\n",
    "criteria = z_score >= 4\n",
    "\n",
    "criteria.any()"
   ]
  },
  {
   "cell_type": "markdown",
   "metadata": {},
   "source": [
    "# Exercises\n",
    "Solutions are in this notebook below the exercises."
   ]
  },
  {
   "cell_type": "markdown",
   "metadata": {},
   "source": [
    "### Problem 1\n",
    "<span  style=\"color:green; font-size:16px\">Use the requests library with the IEX API to return historical stock data for the automaker Tesla (TSLA) for the last year.</span>"
   ]
  },
  {
   "cell_type": "code",
   "execution_count": 20,
   "metadata": {},
   "outputs": [],
   "source": [
    "# your code here"
   ]
  },
  {
   "cell_type": "markdown",
   "metadata": {},
   "source": [
    "### Problem 2\n",
    "<span  style=\"color:green; font-size:16px\">Use one line of code (with method chaining) to find the daily percentage returns of TSLA and drop any missing values. Save the result to **`tsla_change`**.</span>"
   ]
  },
  {
   "cell_type": "code",
   "execution_count": 21,
   "metadata": {},
   "outputs": [],
   "source": [
    "# your code here"
   ]
  },
  {
   "cell_type": "markdown",
   "metadata": {},
   "source": [
    "### Problem 3\n",
    "<span  style=\"color:green; font-size:16px\">Find the mean daily return for Tesla. Then select the first and last closing prices. Also get the number of trading days. Store all four of these values into variables.</span>"
   ]
  },
  {
   "cell_type": "code",
   "execution_count": 22,
   "metadata": {},
   "outputs": [],
   "source": [
    "# your code here"
   ]
  },
  {
   "cell_type": "markdown",
   "metadata": {},
   "source": [
    "### Problem 4\n",
    "<span  style=\"color:green; font-size:16px\">If Tesla returned its mean percentage return every single day since the first day you have data, what would its last closing price be? Is it the same as the actual last closing price? You need to use all the variables calculated from problem 3.</span>"
   ]
  },
  {
   "cell_type": "code",
   "execution_count": 23,
   "metadata": {},
   "outputs": [],
   "source": [
    "# your code here"
   ]
  },
  {
   "cell_type": "markdown",
   "metadata": {},
   "source": [
    "### Problem 5\n",
    "<span  style=\"color:green; font-size:16px\">Find the raw number of standard deviations away from the mean for the Tesla daily returns. Save this to a variable **`z_score_raw`**. What is the max and minimum score?</span>"
   ]
  },
  {
   "cell_type": "code",
   "execution_count": 24,
   "metadata": {},
   "outputs": [],
   "source": [
    "# your code here"
   ]
  },
  {
   "cell_type": "markdown",
   "metadata": {},
   "source": [
    "### Problem 6\n",
    "<span  style=\"color:green; font-size:16px\">What percentage did Tesla stock increase when it had its highest maximum raw z-score?</span>"
   ]
  },
  {
   "cell_type": "code",
   "execution_count": 25,
   "metadata": {},
   "outputs": [],
   "source": [
    "# your code here"
   ]
  },
  {
   "cell_type": "markdown",
   "metadata": {},
   "source": [
    "### Problem 7\n",
    "<span  style=\"color:green; font-size:16px\">Create a function that accepts a stock ticker symbol (amzn for example) and returns the percentage of prices within 1, 2, and 3 standard deviations from the mean. Use your function to return results for different stocks (tsla, fb, slb, gm, etc...)</span>"
   ]
  },
  {
   "cell_type": "code",
   "execution_count": 26,
   "metadata": {},
   "outputs": [],
   "source": [
    "# your code here"
   ]
  },
  {
   "cell_type": "markdown",
   "metadata": {},
   "source": [
    "### Problem 8\n",
    "<span  style=\"color:green; font-size:16px\"> How many days did Tesla close above 100 and below 150?</span>"
   ]
  },
  {
   "cell_type": "code",
   "execution_count": 27,
   "metadata": {},
   "outputs": [],
   "source": [
    "# your code here"
   ]
  },
  {
   "cell_type": "markdown",
   "metadata": {},
   "source": [
    "### Problem 9\n",
    "<span  style=\"color:green; font-size:16px\"> How many days did Tesla close below 50 or above 200?</span>"
   ]
  },
  {
   "cell_type": "code",
   "execution_count": 28,
   "metadata": {},
   "outputs": [],
   "source": [
    "# your code here"
   ]
  },
  {
   "cell_type": "markdown",
   "metadata": {},
   "source": [
    "### Problem 10\n",
    "<span  style=\"color:green; font-size:16px\"> Lookup the definition for interquartile range and slice Tesla closing prices so it contains just the interquartile range. There are multiple ways to do this. Check the **`quantile`** method.</span>"
   ]
  },
  {
   "cell_type": "code",
   "execution_count": 29,
   "metadata": {},
   "outputs": [],
   "source": [
    "# your code here"
   ]
  },
  {
   "cell_type": "markdown",
   "metadata": {},
   "source": [
    "### Problem 11\n",
    "<span  style=\"color:green; font-size:16px\">Use the **`idxmax`** method to find the index label of the highest closing price. Find out how many trading days it has been since Tesla recorded it highest closing price.</span>"
   ]
  },
  {
   "cell_type": "code",
   "execution_count": 30,
   "metadata": {},
   "outputs": [],
   "source": [
    "# your code here"
   ]
  },
  {
   "cell_type": "markdown",
   "metadata": {},
   "source": [
    "# Solutions"
   ]
  },
  {
   "cell_type": "markdown",
   "metadata": {},
   "source": [
    "### Problem 1\n",
    "<span  style=\"color:green; font-size:16px\">Use the requests library with the IEX API to return historical stock data for the automaker Tesla (TSLA) for the last year. Assign the closing price a a Series to `tsla_close`.</span>"
   ]
  },
  {
   "cell_type": "code",
   "execution_count": 31,
   "metadata": {},
   "outputs": [
    {
     "data": {
      "text/html": [
       "<div>\n",
       "<style scoped>\n",
       "    .dataframe tbody tr th:only-of-type {\n",
       "        vertical-align: middle;\n",
       "    }\n",
       "\n",
       "    .dataframe tbody tr th {\n",
       "        vertical-align: top;\n",
       "    }\n",
       "\n",
       "    .dataframe thead th {\n",
       "        text-align: right;\n",
       "    }\n",
       "</style>\n",
       "<table border=\"1\" class=\"dataframe\">\n",
       "  <thead>\n",
       "    <tr style=\"text-align: right;\">\n",
       "      <th></th>\n",
       "      <th>change</th>\n",
       "      <th>changeOverTime</th>\n",
       "      <th>changePercent</th>\n",
       "      <th>close</th>\n",
       "      <th>high</th>\n",
       "      <th>label</th>\n",
       "      <th>low</th>\n",
       "      <th>open</th>\n",
       "      <th>unadjustedVolume</th>\n",
       "      <th>volume</th>\n",
       "      <th>vwap</th>\n",
       "    </tr>\n",
       "    <tr>\n",
       "      <th>date</th>\n",
       "      <th></th>\n",
       "      <th></th>\n",
       "      <th></th>\n",
       "      <th></th>\n",
       "      <th></th>\n",
       "      <th></th>\n",
       "      <th></th>\n",
       "      <th></th>\n",
       "      <th></th>\n",
       "      <th></th>\n",
       "      <th></th>\n",
       "    </tr>\n",
       "  </thead>\n",
       "  <tbody>\n",
       "    <tr>\n",
       "      <th>2017-07-21</th>\n",
       "      <td>-1.52</td>\n",
       "      <td>0.000000</td>\n",
       "      <td>-0.461</td>\n",
       "      <td>328.40</td>\n",
       "      <td>331.2575</td>\n",
       "      <td>Jul 21, 17</td>\n",
       "      <td>325.80</td>\n",
       "      <td>329.46</td>\n",
       "      <td>4901606</td>\n",
       "      <td>4901606</td>\n",
       "      <td>328.7799</td>\n",
       "    </tr>\n",
       "    <tr>\n",
       "      <th>2017-07-24</th>\n",
       "      <td>14.12</td>\n",
       "      <td>0.042996</td>\n",
       "      <td>4.300</td>\n",
       "      <td>342.52</td>\n",
       "      <td>343.3990</td>\n",
       "      <td>Jul 24, 17</td>\n",
       "      <td>330.01</td>\n",
       "      <td>330.24</td>\n",
       "      <td>8637082</td>\n",
       "      <td>8637082</td>\n",
       "      <td>339.4554</td>\n",
       "    </tr>\n",
       "    <tr>\n",
       "      <th>2017-07-25</th>\n",
       "      <td>-2.92</td>\n",
       "      <td>0.034105</td>\n",
       "      <td>-0.853</td>\n",
       "      <td>339.60</td>\n",
       "      <td>345.6000</td>\n",
       "      <td>Jul 25, 17</td>\n",
       "      <td>334.15</td>\n",
       "      <td>345.00</td>\n",
       "      <td>6989197</td>\n",
       "      <td>6989197</td>\n",
       "      <td>338.7328</td>\n",
       "    </tr>\n",
       "    <tr>\n",
       "      <th>2017-07-26</th>\n",
       "      <td>4.25</td>\n",
       "      <td>0.047046</td>\n",
       "      <td>1.251</td>\n",
       "      <td>343.85</td>\n",
       "      <td>345.5000</td>\n",
       "      <td>Jul 26, 17</td>\n",
       "      <td>338.12</td>\n",
       "      <td>340.36</td>\n",
       "      <td>4820790</td>\n",
       "      <td>4820790</td>\n",
       "      <td>342.9836</td>\n",
       "    </tr>\n",
       "    <tr>\n",
       "      <th>2017-07-27</th>\n",
       "      <td>-9.39</td>\n",
       "      <td>0.018453</td>\n",
       "      <td>-2.731</td>\n",
       "      <td>334.46</td>\n",
       "      <td>347.5000</td>\n",
       "      <td>Jul 27, 17</td>\n",
       "      <td>326.29</td>\n",
       "      <td>346.00</td>\n",
       "      <td>8302405</td>\n",
       "      <td>8302405</td>\n",
       "      <td>338.0454</td>\n",
       "    </tr>\n",
       "  </tbody>\n",
       "</table>\n",
       "</div>"
      ],
      "text/plain": [
       "            change  changeOverTime  changePercent   close      high  \\\n",
       "date                                                                  \n",
       "2017-07-21   -1.52        0.000000         -0.461  328.40  331.2575   \n",
       "2017-07-24   14.12        0.042996          4.300  342.52  343.3990   \n",
       "2017-07-25   -2.92        0.034105         -0.853  339.60  345.6000   \n",
       "2017-07-26    4.25        0.047046          1.251  343.85  345.5000   \n",
       "2017-07-27   -9.39        0.018453         -2.731  334.46  347.5000   \n",
       "\n",
       "                 label     low    open  unadjustedVolume   volume      vwap  \n",
       "date                                                                         \n",
       "2017-07-21  Jul 21, 17  325.80  329.46           4901606  4901606  328.7799  \n",
       "2017-07-24  Jul 24, 17  330.01  330.24           8637082  8637082  339.4554  \n",
       "2017-07-25  Jul 25, 17  334.15  345.00           6989197  6989197  338.7328  \n",
       "2017-07-26  Jul 26, 17  338.12  340.36           4820790  4820790  342.9836  \n",
       "2017-07-27  Jul 27, 17  326.29  346.00           8302405  8302405  338.0454  "
      ]
     },
     "execution_count": 31,
     "metadata": {},
     "output_type": "execute_result"
    }
   ],
   "source": [
    "req = requests.get('https://api.iextrading.com/1.0/stock/TSLA/chart/1y')\n",
    "tsla = pd.read_json(req.text)\n",
    "tsla = tsla.set_index('date')\n",
    "tsla.head()"
   ]
  },
  {
   "cell_type": "code",
   "execution_count": 32,
   "metadata": {},
   "outputs": [],
   "source": [
    "tsla_close = tsla['close']"
   ]
  },
  {
   "cell_type": "markdown",
   "metadata": {},
   "source": [
    "### Problem 2\n",
    "<span  style=\"color:green; font-size:16px\">Use one line of code (with method chaining) to find the daily percentage returns of TSLA and drop any missing values. Save the result to **`tsla_change`**.</span>"
   ]
  },
  {
   "cell_type": "code",
   "execution_count": 33,
   "metadata": {},
   "outputs": [
    {
     "data": {
      "text/plain": [
       "date\n",
       "2017-07-24    0.042996\n",
       "2017-07-25   -0.008525\n",
       "2017-07-26    0.012515\n",
       "2017-07-27   -0.027308\n",
       "2017-07-28    0.001824\n",
       "Name: close, dtype: float64"
      ]
     },
     "execution_count": 33,
     "metadata": {},
     "output_type": "execute_result"
    }
   ],
   "source": [
    "tsla_change = tsla_close.pct_change().dropna()\n",
    "tsla_change.head()"
   ]
  },
  {
   "cell_type": "markdown",
   "metadata": {},
   "source": [
    "### Problem 3\n",
    "<span  style=\"color:green; font-size:16px\">Find the mean daily return for Tesla. Then select the first and last closing prices. Also get the number of trading days. Store all four of these values into variables.</span>"
   ]
  },
  {
   "cell_type": "code",
   "execution_count": 34,
   "metadata": {},
   "outputs": [
    {
     "data": {
      "text/plain": [
       "(0.0001569883856368465, 328.4, 313.58, 251)"
      ]
     },
     "execution_count": 34,
     "metadata": {},
     "output_type": "execute_result"
    }
   ],
   "source": [
    "mean = tsla_change.mean()\n",
    "first = tsla_close.iloc[0]\n",
    "last = tsla_close.iloc[-1]\n",
    "n = tsla_change.size\n",
    "mean, first, last, n"
   ]
  },
  {
   "cell_type": "markdown",
   "metadata": {},
   "source": [
    "### Problem 4\n",
    "<span  style=\"color:green; font-size:16px\">If Tesla returned its mean percentage return every single day since the first day you have data, what would its last closing price be? Is it the same as the actual last closing price? You need to use all the variables calculated from problem 3.</span>"
   ]
  },
  {
   "cell_type": "code",
   "execution_count": 35,
   "metadata": {},
   "outputs": [
    {
     "data": {
      "text/plain": [
       "341.59757730985"
      ]
     },
     "execution_count": 35,
     "metadata": {},
     "output_type": "execute_result"
    }
   ],
   "source": [
    "first * (mean + 1) ** n"
   ]
  },
  {
   "cell_type": "code",
   "execution_count": 36,
   "metadata": {},
   "outputs": [
    {
     "data": {
      "text/plain": [
       "313.58"
      ]
     },
     "execution_count": 36,
     "metadata": {},
     "output_type": "execute_result"
    }
   ],
   "source": [
    "last"
   ]
  },
  {
   "cell_type": "markdown",
   "metadata": {},
   "source": [
    "### Problem 5\n",
    "<span  style=\"color:green; font-size:16px\">Find the raw number of standard deviations away from the mean for the Tesla daily returns. Save this to a variable **`z_score_raw`**. What is the max and minimum score?</span>"
   ]
  },
  {
   "cell_type": "code",
   "execution_count": 37,
   "metadata": {},
   "outputs": [
    {
     "data": {
      "text/plain": [
       "date\n",
       "2017-07-24    1.637404\n",
       "2017-07-25   -0.331844\n",
       "2017-07-26    0.472337\n",
       "2017-07-27   -1.049781\n",
       "2017-07-28    0.063710\n",
       "Name: close, dtype: float64"
      ]
     },
     "execution_count": 37,
     "metadata": {},
     "output_type": "execute_result"
    }
   ],
   "source": [
    "std = tsla_change.std()\n",
    "z_score_raw = (tsla_change - mean) / std\n",
    "z_score_raw.head()"
   ]
  },
  {
   "cell_type": "code",
   "execution_count": 38,
   "metadata": {},
   "outputs": [
    {
     "data": {
      "text/plain": [
       "(3.7186469534675974, -3.304166510682128)"
      ]
     },
     "execution_count": 38,
     "metadata": {},
     "output_type": "execute_result"
    }
   ],
   "source": [
    "z_score_raw.max(), z_score_raw.min()"
   ]
  },
  {
   "cell_type": "markdown",
   "metadata": {},
   "source": [
    "### Problem 6\n",
    "<span  style=\"color:green; font-size:16px\">What percentage did Tesla stock increase when it had its highest maximum raw z-score?</span>"
   ]
  },
  {
   "cell_type": "code",
   "execution_count": 39,
   "metadata": {},
   "outputs": [
    {
     "data": {
      "text/plain": [
       "date\n",
       "2018-06-06    0.097448\n",
       "Name: close, dtype: float64"
      ]
     },
     "execution_count": 39,
     "metadata": {},
     "output_type": "execute_result"
    }
   ],
   "source": [
    "tsla_change[z_score_raw == z_score_raw.max()]"
   ]
  },
  {
   "cell_type": "markdown",
   "metadata": {},
   "source": [
    "### Problem 7\n",
    "<span  style=\"color:green; font-size:16px\">Create a function that accepts a stock ticker symbol (amzn for example) and a range and returns the percentage of prices within 1, 2, and 3 standard deviations from the mean. Use your function to return results for different stocks (tsla, fb, slb, gm, etc...)</span>"
   ]
  },
  {
   "cell_type": "code",
   "execution_count": 40,
   "metadata": {},
   "outputs": [],
   "source": [
    "def stock_pct_finder(symbol, range):\n",
    "    req = requests.get(f'https://api.iextrading.com/1.0/stock/{symbol}/chart/{range}')\n",
    "    stock = pd.read_json(req.text)\n",
    "    close = stock['close']\n",
    "    close_change = close.pct_change().dropna()\n",
    "    \n",
    "    mean = close_change.mean()\n",
    "    std = close_change.std()\n",
    "    z_score = ((close_change - mean).abs() / std)\n",
    "    \n",
    "    pct_within1 = (z_score < 1).mean()\n",
    "    pct_within2 = (z_score < 2).mean()\n",
    "    pct_within3 = (z_score < 3).mean()\n",
    "\n",
    "    return pct_within1, pct_within2, pct_within3"
   ]
  },
  {
   "cell_type": "code",
   "execution_count": 41,
   "metadata": {},
   "outputs": [
    {
     "data": {
      "text/plain": [
       "(0.812549642573471, 0.9594916600476568, 0.9849086576648134)"
      ]
     },
     "execution_count": 41,
     "metadata": {},
     "output_type": "execute_result"
    }
   ],
   "source": [
    "stock_pct_finder('AMZN', '5y')"
   ]
  },
  {
   "cell_type": "code",
   "execution_count": 42,
   "metadata": {},
   "outputs": [
    {
     "data": {
      "text/plain": [
       "(0.7768924302788844, 0.9442231075697212, 0.9880478087649402)"
      ]
     },
     "execution_count": 42,
     "metadata": {},
     "output_type": "execute_result"
    }
   ],
   "source": [
    "stock_pct_finder('fb', '1y')"
   ]
  },
  {
   "cell_type": "code",
   "execution_count": 43,
   "metadata": {},
   "outputs": [
    {
     "data": {
      "text/plain": [
       "(0.7928286852589641, 0.9721115537848606, 0.9880478087649402)"
      ]
     },
     "execution_count": 43,
     "metadata": {},
     "output_type": "execute_result"
    }
   ],
   "source": [
    "stock_pct_finder('slb', '1y')"
   ]
  },
  {
   "cell_type": "code",
   "execution_count": 44,
   "metadata": {},
   "outputs": [
    {
     "data": {
      "text/plain": [
       "(0.7250996015936255, 0.9442231075697212, 0.9880478087649402)"
      ]
     },
     "execution_count": 44,
     "metadata": {},
     "output_type": "execute_result"
    }
   ],
   "source": [
    "stock_pct_finder('tsla', '1y')"
   ]
  },
  {
   "cell_type": "markdown",
   "metadata": {},
   "source": [
    "### Problem 8\n",
    "<span  style=\"color:green; font-size:16px\"> How many days did Tesla close above 300 and below 350?</span>"
   ]
  },
  {
   "cell_type": "code",
   "execution_count": 45,
   "metadata": {},
   "outputs": [
    {
     "data": {
      "text/plain": [
       "date\n",
       "2017-07-21    328.40\n",
       "2017-07-24    342.52\n",
       "2017-07-25    339.60\n",
       "2017-07-26    343.85\n",
       "2017-07-27    334.46\n",
       "Name: close, dtype: float64"
      ]
     },
     "execution_count": 45,
     "metadata": {},
     "output_type": "execute_result"
    }
   ],
   "source": [
    "criteria = (tsla_close > 300) & (tsla_close < 350)\n",
    "\n",
    "#inspect data\n",
    "tsla_close[criteria].head()"
   ]
  },
  {
   "cell_type": "code",
   "execution_count": 46,
   "metadata": {},
   "outputs": [
    {
     "data": {
      "text/plain": [
       "164"
      ]
     },
     "execution_count": 46,
     "metadata": {},
     "output_type": "execute_result"
    }
   ],
   "source": [
    "tsla_close[criteria].size"
   ]
  },
  {
   "cell_type": "code",
   "execution_count": 47,
   "metadata": {},
   "outputs": [
    {
     "data": {
      "text/plain": [
       "164"
      ]
     },
     "execution_count": 47,
     "metadata": {},
     "output_type": "execute_result"
    }
   ],
   "source": [
    "# or using sum method\n",
    "criteria.sum()"
   ]
  },
  {
   "cell_type": "code",
   "execution_count": 48,
   "metadata": {},
   "outputs": [
    {
     "data": {
      "text/plain": [
       "164"
      ]
     },
     "execution_count": 48,
     "metadata": {},
     "output_type": "execute_result"
    }
   ],
   "source": [
    "# one line\n",
    "((tsla_close > 300) & (tsla_close < 350)).sum()"
   ]
  },
  {
   "cell_type": "markdown",
   "metadata": {},
   "source": [
    "### Problem 9\n",
    "<span  style=\"color:green; font-size:16px\"> How many days did Tesla close below 200 or above 350?</span>"
   ]
  },
  {
   "cell_type": "code",
   "execution_count": 49,
   "metadata": {},
   "outputs": [
    {
     "data": {
      "text/plain": [
       "49"
      ]
     },
     "execution_count": 49,
     "metadata": {},
     "output_type": "execute_result"
    }
   ],
   "source": [
    "((tsla_close < 200) | (tsla_close > 350)).sum()"
   ]
  },
  {
   "cell_type": "markdown",
   "metadata": {},
   "source": [
    "### Problem 10\n",
    "<span  style=\"color:green; font-size:16px\"> Lookup the definition for interquartile range and slice Tesla closing prices so it contains just the interquartile range. There are multiple ways to do this. Check the **`quantile`** method.</span>"
   ]
  },
  {
   "cell_type": "code",
   "execution_count": 50,
   "metadata": {},
   "outputs": [
    {
     "data": {
      "text/plain": [
       "date\n",
       "2017-11-20    308.74\n",
       "2017-11-30    308.85\n",
       "2018-07-06    308.90\n",
       "2018-03-22    309.10\n",
       "2018-07-05    309.16\n",
       "Name: close, dtype: float64"
      ]
     },
     "execution_count": 50,
     "metadata": {},
     "output_type": "execute_result"
    }
   ],
   "source": [
    "# a few ways to do this\n",
    "n = tsla_close.size\n",
    "first_q = n // 4\n",
    "third_q = n // 4 * 3\n",
    "\n",
    "tsla_close.sort_values().iloc[first_q:third_q].head()"
   ]
  },
  {
   "cell_type": "code",
   "execution_count": 51,
   "metadata": {},
   "outputs": [
    {
     "data": {
      "text/plain": [
       "date\n",
       "2017-11-20    308.74\n",
       "2017-11-30    308.85\n",
       "2018-07-06    308.90\n",
       "2018-03-22    309.10\n",
       "2018-07-05    309.16\n",
       "Name: close, dtype: float64"
      ]
     },
     "execution_count": 51,
     "metadata": {},
     "output_type": "execute_result"
    }
   ],
   "source": [
    "# can use the quantile method\n",
    "q1 = tsla_close.quantile(.25)\n",
    "q3 = tsla_close.quantile(.75)\n",
    "\n",
    "criteria = (tsla_close >= q1) & (tsla_close <= q3)\n",
    "\n",
    "tsla_close[criteria].sort_values().head()"
   ]
  },
  {
   "cell_type": "markdown",
   "metadata": {},
   "source": [
    "### Problem 11\n",
    "<span  style=\"color:green; font-size:16px\">Use the **`idxmax`** method to find the index label of the highest closing price. Find out how many trading days it has been since Tesla recorded it highest closing price.</span>"
   ]
  },
  {
   "cell_type": "code",
   "execution_count": 52,
   "metadata": {},
   "outputs": [
    {
     "data": {
      "text/plain": [
       "Timestamp('2017-09-18 00:00:00')"
      ]
     },
     "execution_count": 52,
     "metadata": {},
     "output_type": "execute_result"
    }
   ],
   "source": [
    "max_close_date = tsla_close.idxmax()\n",
    "max_close_date"
   ]
  },
  {
   "cell_type": "markdown",
   "metadata": {},
   "source": [
    "Number of trading days"
   ]
  },
  {
   "cell_type": "code",
   "execution_count": 53,
   "metadata": {},
   "outputs": [
    {
     "data": {
      "text/plain": [
       "212"
      ]
     },
     "execution_count": 53,
     "metadata": {},
     "output_type": "execute_result"
    }
   ],
   "source": [
    "tsla_close.loc[max_close_date:].size"
   ]
  },
  {
   "cell_type": "markdown",
   "metadata": {},
   "source": [
    "Number of actual days"
   ]
  },
  {
   "cell_type": "code",
   "execution_count": 54,
   "metadata": {},
   "outputs": [
    {
     "data": {
      "text/plain": [
       "Timedelta('305 days 00:00:00')"
      ]
     },
     "execution_count": 54,
     "metadata": {},
     "output_type": "execute_result"
    }
   ],
   "source": [
    "tsla_close.index[-1] - max_close_date"
   ]
  }
 ],
 "metadata": {
  "kernelspec": {
   "display_name": "Python 3",
   "language": "python",
   "name": "python3"
  },
  "language_info": {
   "codemirror_mode": {
    "name": "ipython",
    "version": 3
   },
   "file_extension": ".py",
   "mimetype": "text/x-python",
   "name": "python",
   "nbconvert_exporter": "python",
   "pygments_lexer": "ipython3",
   "version": "3.6.4"
  }
 },
 "nbformat": 4,
 "nbformat_minor": 2
}
