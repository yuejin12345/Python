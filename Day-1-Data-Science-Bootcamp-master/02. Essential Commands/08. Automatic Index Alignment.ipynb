{
 "cells": [
  {
   "cell_type": "markdown",
   "metadata": {},
   "source": [
    "# 8. Automatic Index Alignment\n",
    "\n",
    "## Introduction\n",
    "This notebook discusses **automatic index alignment** a surprising, useful, and frustrating feature built into to Pandas. Automatic alignment of the index happens when you are operating on two Pandas objects at the same time. Whether you are operating with two Series, two DataFrames, or one of each, automatic alignment of index takes place first and then the operation completes."
   ]
  },
  {
   "cell_type": "markdown",
   "metadata": {},
   "source": [
    "# Adding two Series - Not as simple as it sounds\n",
    "Adding two Series together should be a simple, and most of the time it is, but you can be in for quite a surprise if the indexes do not align. Let's create two identical Series. The **`copy`** method allows us to do this."
   ]
  },
  {
   "cell_type": "code",
   "execution_count": 3,
   "metadata": {},
   "outputs": [],
   "source": [
    "import numpy as np\n",
    "import pandas as pd"
   ]
  },
  {
   "cell_type": "code",
   "execution_count": 4,
   "metadata": {},
   "outputs": [],
   "source": [
    "s1 = pd.Series(index=['a', 'b', 'c', 'd'], data=[0, 1, 2, 3])\n",
    "s2 = s1.copy()"
   ]
  },
  {
   "cell_type": "code",
   "execution_count": 5,
   "metadata": {},
   "outputs": [
    {
     "data": {
      "text/plain": [
       "a    0\n",
       "b    1\n",
       "c    2\n",
       "d    3\n",
       "dtype: int64"
      ]
     },
     "execution_count": 5,
     "metadata": {},
     "output_type": "execute_result"
    }
   ],
   "source": [
    "s1"
   ]
  },
  {
   "cell_type": "code",
   "execution_count": 6,
   "metadata": {},
   "outputs": [
    {
     "data": {
      "text/plain": [
       "a    0\n",
       "b    1\n",
       "c    2\n",
       "d    3\n",
       "dtype: int64"
      ]
     },
     "execution_count": 6,
     "metadata": {},
     "output_type": "execute_result"
    }
   ],
   "source": [
    "s2"
   ]
  },
  {
   "cell_type": "markdown",
   "metadata": {},
   "source": [
    "Note, that these are two distinct objects. If we wrote **`s2 = s1`**, we would not have created a new object, just two variable names that refer to the same object."
   ]
  },
  {
   "cell_type": "code",
   "execution_count": 8,
   "metadata": {},
   "outputs": [
    {
     "data": {
      "text/plain": [
       "False"
      ]
     },
     "execution_count": 8,
     "metadata": {},
     "output_type": "execute_result"
    }
   ],
   "source": [
    "s1 is s2"
   ]
  },
  {
   "cell_type": "markdown",
   "metadata": {},
   "source": [
    "### Add the Series together\n",
    "The Series have the same index and the same values."
   ]
  },
  {
   "cell_type": "code",
   "execution_count": 9,
   "metadata": {},
   "outputs": [
    {
     "data": {
      "text/plain": [
       "a    0\n",
       "b    2\n",
       "c    4\n",
       "d    6\n",
       "dtype: int64"
      ]
     },
     "execution_count": 9,
     "metadata": {},
     "output_type": "execute_result"
    }
   ],
   "source": [
    "s1 + s2"
   ]
  },
  {
   "cell_type": "markdown",
   "metadata": {},
   "source": [
    "## Create new Series with index values in a different order\n",
    "We create new Series **`s3`** below with the same index values but in a different position than **`s1`**"
   ]
  },
  {
   "cell_type": "code",
   "execution_count": 12,
   "metadata": {},
   "outputs": [
    {
     "data": {
      "text/plain": [
       "d    0\n",
       "c    1\n",
       "b    2\n",
       "a    3\n",
       "dtype: int64"
      ]
     },
     "execution_count": 12,
     "metadata": {},
     "output_type": "execute_result"
    }
   ],
   "source": [
    "s3 = pd.Series(index=['d', 'c', 'b', 'a'], data=[0, 1, 2, 3])\n",
    "s3"
   ]
  },
  {
   "cell_type": "markdown",
   "metadata": {},
   "source": [
    "### Add `s1` to `s3`"
   ]
  },
  {
   "cell_type": "code",
   "execution_count": 13,
   "metadata": {},
   "outputs": [
    {
     "data": {
      "text/plain": [
       "a    3\n",
       "b    3\n",
       "c    3\n",
       "d    3\n",
       "dtype: int64"
      ]
     },
     "execution_count": 13,
     "metadata": {},
     "output_type": "execute_result"
    }
   ],
   "source": [
    "s1 + s3"
   ]
  },
  {
   "cell_type": "markdown",
   "metadata": {},
   "source": [
    "### What happened?\n",
    "Pandas aligns the data first by the index and then completes the operation. Index 'a' aligns for both Series. In **`s1`** index 'a' labels value 3 and in **`s3`** it labels value 0. Added together they sum to 3. All the indexes align in this manner and all sum to 3."
   ]
  },
  {
   "cell_type": "markdown",
   "metadata": {},
   "source": [
    "## Adding a NumPy array to a Series\n",
    "NumPy arrays have no index, just values and integer locations that refer to those values. NumPy arrays align by their integer position (which is what you would expect).\n",
    "\n",
    "Let's create a simple array with integers 0 to 3 and add it to our Series from above. The index of the Series plays no role in the following operations."
   ]
  },
  {
   "cell_type": "code",
   "execution_count": 17,
   "metadata": {},
   "outputs": [
    {
     "data": {
      "text/plain": [
       "array([0, 1, 2, 3])"
      ]
     },
     "execution_count": 17,
     "metadata": {},
     "output_type": "execute_result"
    }
   ],
   "source": [
    "a = np.arange(4)\n",
    "a"
   ]
  },
  {
   "cell_type": "code",
   "execution_count": 18,
   "metadata": {},
   "outputs": [
    {
     "data": {
      "text/plain": [
       "a    0\n",
       "b    2\n",
       "c    4\n",
       "d    6\n",
       "dtype: int64"
      ]
     },
     "execution_count": 18,
     "metadata": {},
     "output_type": "execute_result"
    }
   ],
   "source": [
    "s1 + a"
   ]
  },
  {
   "cell_type": "code",
   "execution_count": 19,
   "metadata": {},
   "outputs": [
    {
     "data": {
      "text/plain": [
       "d    0\n",
       "c    2\n",
       "b    4\n",
       "a    6\n",
       "dtype: int64"
      ]
     },
     "execution_count": 19,
     "metadata": {},
     "output_type": "execute_result"
    }
   ],
   "source": [
    "s3 + a"
   ]
  },
  {
   "cell_type": "markdown",
   "metadata": {},
   "source": [
    "Adding the array to itself also aligns by integer location."
   ]
  },
  {
   "cell_type": "code",
   "execution_count": 21,
   "metadata": {},
   "outputs": [
    {
     "data": {
      "text/plain": [
       "array([0, 2, 4, 6])"
      ]
     },
     "execution_count": 21,
     "metadata": {},
     "output_type": "execute_result"
    }
   ],
   "source": [
    "a + a"
   ]
  },
  {
   "cell_type": "markdown",
   "metadata": {},
   "source": [
    "## Adding arrays to Series - Must have same number of elements\n",
    "For a successful array to Series addition to occur, they both need to have the same number of elements or else an error will occur."
   ]
  },
  {
   "cell_type": "code",
   "execution_count": 22,
   "metadata": {},
   "outputs": [
    {
     "data": {
      "text/plain": [
       "array([0, 1, 2, 3, 4])"
      ]
     },
     "execution_count": 22,
     "metadata": {},
     "output_type": "execute_result"
    }
   ],
   "source": [
    "a = np.arange(5)\n",
    "a"
   ]
  },
  {
   "cell_type": "code",
   "execution_count": 25,
   "metadata": {},
   "outputs": [
    {
     "name": "stdout",
     "output_type": "stream",
     "text": [
      "<class 'ValueError'> operands could not be broadcast together with shapes (4,) (5,) \n"
     ]
    }
   ],
   "source": [
    "try:\n",
    "    s1 + a\n",
    "except Exception as e:\n",
    "    print(type(e), e)"
   ]
  },
  {
   "cell_type": "markdown",
   "metadata": {},
   "source": [
    "## Adding Series that don't have the same index labels\n",
    "Adding Series that do not have the same index labels is possible. In fact, adding two Series together will always complete (unless their values are incompatible - such as adding a number to a string).\n",
    "\n",
    "In the following example, we have two Series of different lengths. **`s1`** has one more index label, **`d`**, that **`s2`** does not have. When we add them together, again the indexes align, except for the **`d`**. It has no matching index in **`s2`**. Pandas keeps this label in the returned Series but with a missing value.\n",
    "\n",
    "Any label that does not match in the other Series is always kept and its associated value will always be missing."
   ]
  },
  {
   "cell_type": "code",
   "execution_count": 30,
   "metadata": {},
   "outputs": [],
   "source": [
    "s1 = pd.Series(index=['a', 'b', 'c', 'd'], data=[0, 1, 2, 3])\n",
    "s2 = pd.Series(index=['a', 'b', 'c'], data=[0, 1, 2])"
   ]
  },
  {
   "cell_type": "code",
   "execution_count": 31,
   "metadata": {},
   "outputs": [
    {
     "data": {
      "text/plain": [
       "a    0.0\n",
       "b    2.0\n",
       "c    4.0\n",
       "d    NaN\n",
       "dtype: float64"
      ]
     },
     "execution_count": 31,
     "metadata": {},
     "output_type": "execute_result"
    }
   ],
   "source": [
    "s1 + s2"
   ]
  },
  {
   "cell_type": "markdown",
   "metadata": {},
   "source": [
    "### Missing index labels in each Series\n",
    "If each of the Series have index labels that do not appear in the other, then they will both be kept in the result with missing values."
   ]
  },
  {
   "cell_type": "code",
   "execution_count": 35,
   "metadata": {},
   "outputs": [],
   "source": [
    "s1 = pd.Series(index=['a', 'b', 'c', 'd'], data=[0, 1, 2, 3])\n",
    "s2 = pd.Series(index=['a', 'b', 'c', 'e'], data=[0, 1, 2, 3])"
   ]
  },
  {
   "cell_type": "code",
   "execution_count": 36,
   "metadata": {},
   "outputs": [
    {
     "data": {
      "text/plain": [
       "a    0.0\n",
       "b    2.0\n",
       "c    4.0\n",
       "d    NaN\n",
       "e    NaN\n",
       "dtype: float64"
      ]
     },
     "execution_count": 36,
     "metadata": {},
     "output_type": "execute_result"
    }
   ],
   "source": [
    "s1 + s2"
   ]
  },
  {
   "cell_type": "markdown",
   "metadata": {},
   "source": [
    "## Adding Series with duplicate values in the index\n",
    "A big surprise awaits when you add two Series that each share duplicated index labels. Take a look at both Series below. **`s1`** and **`s2`** each have 3 'a', index labels. **`s1`** has 3 'b', 4 'c' and 1 'd' index label while **`s2`** has 2 'b', 1 'c', 1 'e' labels.\n",
    "\n",
    "Let's add them together to see what happens."
   ]
  },
  {
   "cell_type": "code",
   "execution_count": 47,
   "metadata": {},
   "outputs": [],
   "source": [
    "s1 = pd.Series(index=['a', 'a', 'a', 'b', 'b', 'b', 'c', 'c', 'c', 'c', 'd'], data=np.arange(11))\n",
    "s2 = pd.Series(index=['a', 'a', 'a', 'b', 'b', 'c', 'e'], data=np.arange(7))"
   ]
  },
  {
   "cell_type": "code",
   "execution_count": 48,
   "metadata": {},
   "outputs": [
    {
     "data": {
      "text/plain": [
       "a     0\n",
       "a     1\n",
       "a     2\n",
       "b     3\n",
       "b     4\n",
       "b     5\n",
       "c     6\n",
       "c     7\n",
       "c     8\n",
       "c     9\n",
       "d    10\n",
       "dtype: int64"
      ]
     },
     "execution_count": 48,
     "metadata": {},
     "output_type": "execute_result"
    }
   ],
   "source": [
    "s1"
   ]
  },
  {
   "cell_type": "code",
   "execution_count": 49,
   "metadata": {},
   "outputs": [
    {
     "data": {
      "text/plain": [
       "a    0\n",
       "a    1\n",
       "a    2\n",
       "b    3\n",
       "b    4\n",
       "c    5\n",
       "e    6\n",
       "dtype: int64"
      ]
     },
     "execution_count": 49,
     "metadata": {},
     "output_type": "execute_result"
    }
   ],
   "source": [
    "s2"
   ]
  },
  {
   "cell_type": "code",
   "execution_count": 50,
   "metadata": {},
   "outputs": [
    {
     "data": {
      "text/plain": [
       "a     0.0\n",
       "a     1.0\n",
       "a     2.0\n",
       "a     1.0\n",
       "a     2.0\n",
       "a     3.0\n",
       "a     2.0\n",
       "a     3.0\n",
       "a     4.0\n",
       "b     6.0\n",
       "b     7.0\n",
       "b     7.0\n",
       "b     8.0\n",
       "b     8.0\n",
       "b     9.0\n",
       "c    11.0\n",
       "c    12.0\n",
       "c    13.0\n",
       "c    14.0\n",
       "d     NaN\n",
       "e     NaN\n",
       "dtype: float64"
      ]
     },
     "execution_count": 50,
     "metadata": {},
     "output_type": "execute_result"
    }
   ],
   "source": [
    "s1 + s2"
   ]
  },
  {
   "cell_type": "code",
   "execution_count": 51,
   "metadata": {},
   "outputs": [
    {
     "data": {
      "text/plain": [
       "21"
      ]
     },
     "execution_count": 51,
     "metadata": {},
     "output_type": "execute_result"
    }
   ],
   "source": [
    "len(s1 + s2)"
   ]
  },
  {
   "cell_type": "markdown",
   "metadata": {},
   "source": [
    "### 21 elements in resulting Series?\n",
    "\n",
    "### A Cartesian product has taken place\n",
    "Each index label 'a' from Series **`s1`** aligns with each index label 'a' from **`s2`**. There are 3 'a' labels in each which creates a total of 9 in the result. This is what is meant by a **Cartesian product**. All possible combinations of same index labels in each Series will have a result.\n",
    "\n",
    "Similarly, Series **`s1`** has 3 'b' labels and **`s2`** has 2 'b' for a total of 6 in the result. Simply multiply the count of the labels in each Series together to get the total labels in the result. \n",
    "\n",
    "Label 'c' is found 4 times in **`s1`** and 1 time in **`s2`** for a total of 4 in the result. Labels 'd' and 'e' are unique to each Series so only occur once in the result with a missing value."
   ]
  },
  {
   "cell_type": "markdown",
   "metadata": {},
   "source": [
    "## An exception to Cartesian Product rule\n",
    "If both Series share the exact same index labels then no Cartesian product will occur."
   ]
  },
  {
   "cell_type": "code",
   "execution_count": 60,
   "metadata": {},
   "outputs": [],
   "source": [
    "s1 = pd.Series(index=['a', 'a', 'a', 'b', 'b'], data=np.arange(5))\n",
    "s2 = pd.Series(index=['a', 'a', 'a', 'b', 'b'], data=np.arange(5))"
   ]
  },
  {
   "cell_type": "code",
   "execution_count": 61,
   "metadata": {},
   "outputs": [
    {
     "data": {
      "text/plain": [
       "a    0\n",
       "a    2\n",
       "a    4\n",
       "b    6\n",
       "b    8\n",
       "dtype: int64"
      ]
     },
     "execution_count": 61,
     "metadata": {},
     "output_type": "execute_result"
    }
   ],
   "source": [
    "s1 + s2"
   ]
  },
  {
   "cell_type": "markdown",
   "metadata": {},
   "source": [
    "But even if one index label is different than a Cartesian product will happen:"
   ]
  },
  {
   "cell_type": "code",
   "execution_count": 63,
   "metadata": {},
   "outputs": [
    {
     "data": {
      "text/plain": [
       "a    0.0\n",
       "a    1.0\n",
       "a    2.0\n",
       "a    1.0\n",
       "a    2.0\n",
       "a    3.0\n",
       "a    2.0\n",
       "a    3.0\n",
       "a    4.0\n",
       "b    6.0\n",
       "b    7.0\n",
       "b    7.0\n",
       "b    8.0\n",
       "c    NaN\n",
       "dtype: float64"
      ]
     },
     "execution_count": 63,
     "metadata": {},
     "output_type": "execute_result"
    }
   ],
   "source": [
    "s1 = pd.Series(index=['a', 'a', 'a', 'b', 'b'], data=np.arange(5))\n",
    "s2 = pd.Series(index=['a', 'a', 'a', 'b', 'b', 'c'], data=np.arange(6))\n",
    "s1 + s2"
   ]
  },
  {
   "cell_type": "markdown",
   "metadata": {},
   "source": [
    "## Cartesian product still happens if order is not the same\n",
    "Even if the index labels share the same number of occurrences in the Series, a Cartesian Product will still happen if the order is different. Below, **`s1`** and **`s2`** have the same number of 'a' and 'b' labels but have a different order for the 3rd and 4th labels."
   ]
  },
  {
   "cell_type": "code",
   "execution_count": 65,
   "metadata": {},
   "outputs": [
    {
     "data": {
      "text/plain": [
       "a    0\n",
       "a    1\n",
       "a    2\n",
       "a    1\n",
       "a    2\n",
       "a    3\n",
       "a    3\n",
       "a    4\n",
       "a    5\n",
       "b    5\n",
       "b    6\n",
       "b    7\n",
       "b    8\n",
       "dtype: int64"
      ]
     },
     "execution_count": 65,
     "metadata": {},
     "output_type": "execute_result"
    }
   ],
   "source": [
    "s1 = pd.Series(index=['a', 'a', 'b', 'a', 'b'], data=np.arange(5))\n",
    "s2 = pd.Series(index=['a', 'a', 'a', 'b', 'b'], data=np.arange(5))\n",
    "s1 + s2"
   ]
  },
  {
   "cell_type": "markdown",
   "metadata": {},
   "source": [
    "# DataFrames align on both their index and columns"
   ]
  },
  {
   "cell_type": "code",
   "execution_count": 74,
   "metadata": {},
   "outputs": [],
   "source": [
    "df1 = pd.DataFrame(data={'first': np.arange(4), 'second': np.arange(4)}, index=['a', 'b', 'c', 'd'])\n",
    "df2 = df1.copy()"
   ]
  },
  {
   "cell_type": "markdown",
   "metadata": {},
   "source": [
    "Operations happen as expected whenever index and columns match exactly."
   ]
  },
  {
   "cell_type": "code",
   "execution_count": 82,
   "metadata": {},
   "outputs": [
    {
     "data": {
      "text/html": [
       "<div>\n",
       "<style scoped>\n",
       "    .dataframe tbody tr th:only-of-type {\n",
       "        vertical-align: middle;\n",
       "    }\n",
       "\n",
       "    .dataframe tbody tr th {\n",
       "        vertical-align: top;\n",
       "    }\n",
       "\n",
       "    .dataframe thead th {\n",
       "        text-align: right;\n",
       "    }\n",
       "</style>\n",
       "<table border=\"1\" class=\"dataframe\">\n",
       "  <thead>\n",
       "    <tr style=\"text-align: right;\">\n",
       "      <th></th>\n",
       "      <th>first</th>\n",
       "      <th>second</th>\n",
       "      <th>third</th>\n",
       "    </tr>\n",
       "  </thead>\n",
       "  <tbody>\n",
       "    <tr>\n",
       "      <th>a</th>\n",
       "      <td>0.0</td>\n",
       "      <td>NaN</td>\n",
       "      <td>NaN</td>\n",
       "    </tr>\n",
       "    <tr>\n",
       "      <th>b</th>\n",
       "      <td>2.0</td>\n",
       "      <td>NaN</td>\n",
       "      <td>NaN</td>\n",
       "    </tr>\n",
       "    <tr>\n",
       "      <th>c</th>\n",
       "      <td>4.0</td>\n",
       "      <td>NaN</td>\n",
       "      <td>NaN</td>\n",
       "    </tr>\n",
       "    <tr>\n",
       "      <th>d</th>\n",
       "      <td>NaN</td>\n",
       "      <td>NaN</td>\n",
       "      <td>NaN</td>\n",
       "    </tr>\n",
       "    <tr>\n",
       "      <th>e</th>\n",
       "      <td>NaN</td>\n",
       "      <td>NaN</td>\n",
       "      <td>NaN</td>\n",
       "    </tr>\n",
       "  </tbody>\n",
       "</table>\n",
       "</div>"
      ],
      "text/plain": [
       "   first  second  third\n",
       "a    0.0     NaN    NaN\n",
       "b    2.0     NaN    NaN\n",
       "c    4.0     NaN    NaN\n",
       "d    NaN     NaN    NaN\n",
       "e    NaN     NaN    NaN"
      ]
     },
     "execution_count": 82,
     "metadata": {},
     "output_type": "execute_result"
    }
   ],
   "source": [
    "df1 + df2"
   ]
  },
  {
   "cell_type": "markdown",
   "metadata": {},
   "source": [
    "### DataFrame Index alignment\n",
    "The label needs to be present in both DataFrames for a value to be computed or else it will be missing."
   ]
  },
  {
   "cell_type": "code",
   "execution_count": 76,
   "metadata": {},
   "outputs": [
    {
     "data": {
      "text/html": [
       "<div>\n",
       "<style scoped>\n",
       "    .dataframe tbody tr th:only-of-type {\n",
       "        vertical-align: middle;\n",
       "    }\n",
       "\n",
       "    .dataframe tbody tr th {\n",
       "        vertical-align: top;\n",
       "    }\n",
       "\n",
       "    .dataframe thead th {\n",
       "        text-align: right;\n",
       "    }\n",
       "</style>\n",
       "<table border=\"1\" class=\"dataframe\">\n",
       "  <thead>\n",
       "    <tr style=\"text-align: right;\">\n",
       "      <th></th>\n",
       "      <th>first</th>\n",
       "      <th>second</th>\n",
       "    </tr>\n",
       "  </thead>\n",
       "  <tbody>\n",
       "    <tr>\n",
       "      <th>a</th>\n",
       "      <td>0</td>\n",
       "      <td>0</td>\n",
       "    </tr>\n",
       "    <tr>\n",
       "      <th>b</th>\n",
       "      <td>1</td>\n",
       "      <td>1</td>\n",
       "    </tr>\n",
       "    <tr>\n",
       "      <th>c</th>\n",
       "      <td>2</td>\n",
       "      <td>2</td>\n",
       "    </tr>\n",
       "    <tr>\n",
       "      <th>d</th>\n",
       "      <td>3</td>\n",
       "      <td>3</td>\n",
       "    </tr>\n",
       "  </tbody>\n",
       "</table>\n",
       "</div>"
      ],
      "text/plain": [
       "   first  second\n",
       "a      0       0\n",
       "b      1       1\n",
       "c      2       2\n",
       "d      3       3"
      ]
     },
     "execution_count": 76,
     "metadata": {},
     "output_type": "execute_result"
    }
   ],
   "source": [
    "df1 = pd.DataFrame(data={'first': np.arange(4), 'second': np.arange(4)}, index=['a', 'b', 'c', 'd'])\n",
    "df2 = pd.DataFrame(data={'first': np.arange(4), 'second': np.arange(4)}, index=['a', 'b', 'c', 'e'])\n",
    "df1"
   ]
  },
  {
   "cell_type": "code",
   "execution_count": 77,
   "metadata": {},
   "outputs": [
    {
     "data": {
      "text/html": [
       "<div>\n",
       "<style scoped>\n",
       "    .dataframe tbody tr th:only-of-type {\n",
       "        vertical-align: middle;\n",
       "    }\n",
       "\n",
       "    .dataframe tbody tr th {\n",
       "        vertical-align: top;\n",
       "    }\n",
       "\n",
       "    .dataframe thead th {\n",
       "        text-align: right;\n",
       "    }\n",
       "</style>\n",
       "<table border=\"1\" class=\"dataframe\">\n",
       "  <thead>\n",
       "    <tr style=\"text-align: right;\">\n",
       "      <th></th>\n",
       "      <th>first</th>\n",
       "      <th>second</th>\n",
       "    </tr>\n",
       "  </thead>\n",
       "  <tbody>\n",
       "    <tr>\n",
       "      <th>a</th>\n",
       "      <td>0</td>\n",
       "      <td>0</td>\n",
       "    </tr>\n",
       "    <tr>\n",
       "      <th>b</th>\n",
       "      <td>1</td>\n",
       "      <td>1</td>\n",
       "    </tr>\n",
       "    <tr>\n",
       "      <th>c</th>\n",
       "      <td>2</td>\n",
       "      <td>2</td>\n",
       "    </tr>\n",
       "    <tr>\n",
       "      <th>e</th>\n",
       "      <td>3</td>\n",
       "      <td>3</td>\n",
       "    </tr>\n",
       "  </tbody>\n",
       "</table>\n",
       "</div>"
      ],
      "text/plain": [
       "   first  second\n",
       "a      0       0\n",
       "b      1       1\n",
       "c      2       2\n",
       "e      3       3"
      ]
     },
     "execution_count": 77,
     "metadata": {},
     "output_type": "execute_result"
    }
   ],
   "source": [
    "df2"
   ]
  },
  {
   "cell_type": "code",
   "execution_count": 78,
   "metadata": {},
   "outputs": [
    {
     "data": {
      "text/html": [
       "<div>\n",
       "<style scoped>\n",
       "    .dataframe tbody tr th:only-of-type {\n",
       "        vertical-align: middle;\n",
       "    }\n",
       "\n",
       "    .dataframe tbody tr th {\n",
       "        vertical-align: top;\n",
       "    }\n",
       "\n",
       "    .dataframe thead th {\n",
       "        text-align: right;\n",
       "    }\n",
       "</style>\n",
       "<table border=\"1\" class=\"dataframe\">\n",
       "  <thead>\n",
       "    <tr style=\"text-align: right;\">\n",
       "      <th></th>\n",
       "      <th>first</th>\n",
       "      <th>second</th>\n",
       "    </tr>\n",
       "  </thead>\n",
       "  <tbody>\n",
       "    <tr>\n",
       "      <th>a</th>\n",
       "      <td>0.0</td>\n",
       "      <td>0.0</td>\n",
       "    </tr>\n",
       "    <tr>\n",
       "      <th>b</th>\n",
       "      <td>2.0</td>\n",
       "      <td>2.0</td>\n",
       "    </tr>\n",
       "    <tr>\n",
       "      <th>c</th>\n",
       "      <td>4.0</td>\n",
       "      <td>4.0</td>\n",
       "    </tr>\n",
       "    <tr>\n",
       "      <th>d</th>\n",
       "      <td>NaN</td>\n",
       "      <td>NaN</td>\n",
       "    </tr>\n",
       "    <tr>\n",
       "      <th>e</th>\n",
       "      <td>NaN</td>\n",
       "      <td>NaN</td>\n",
       "    </tr>\n",
       "  </tbody>\n",
       "</table>\n",
       "</div>"
      ],
      "text/plain": [
       "   first  second\n",
       "a    0.0     0.0\n",
       "b    2.0     2.0\n",
       "c    4.0     4.0\n",
       "d    NaN     NaN\n",
       "e    NaN     NaN"
      ]
     },
     "execution_count": 78,
     "metadata": {},
     "output_type": "execute_result"
    }
   ],
   "source": [
    "df1 + df2"
   ]
  },
  {
   "cell_type": "markdown",
   "metadata": {},
   "source": [
    "## When Columns do not align"
   ]
  },
  {
   "cell_type": "code",
   "execution_count": 83,
   "metadata": {},
   "outputs": [
    {
     "data": {
      "text/html": [
       "<div>\n",
       "<style scoped>\n",
       "    .dataframe tbody tr th:only-of-type {\n",
       "        vertical-align: middle;\n",
       "    }\n",
       "\n",
       "    .dataframe tbody tr th {\n",
       "        vertical-align: top;\n",
       "    }\n",
       "\n",
       "    .dataframe thead th {\n",
       "        text-align: right;\n",
       "    }\n",
       "</style>\n",
       "<table border=\"1\" class=\"dataframe\">\n",
       "  <thead>\n",
       "    <tr style=\"text-align: right;\">\n",
       "      <th></th>\n",
       "      <th>first</th>\n",
       "      <th>second</th>\n",
       "    </tr>\n",
       "  </thead>\n",
       "  <tbody>\n",
       "    <tr>\n",
       "      <th>a</th>\n",
       "      <td>0</td>\n",
       "      <td>0</td>\n",
       "    </tr>\n",
       "    <tr>\n",
       "      <th>b</th>\n",
       "      <td>1</td>\n",
       "      <td>1</td>\n",
       "    </tr>\n",
       "    <tr>\n",
       "      <th>c</th>\n",
       "      <td>2</td>\n",
       "      <td>2</td>\n",
       "    </tr>\n",
       "    <tr>\n",
       "      <th>d</th>\n",
       "      <td>3</td>\n",
       "      <td>3</td>\n",
       "    </tr>\n",
       "  </tbody>\n",
       "</table>\n",
       "</div>"
      ],
      "text/plain": [
       "   first  second\n",
       "a      0       0\n",
       "b      1       1\n",
       "c      2       2\n",
       "d      3       3"
      ]
     },
     "execution_count": 83,
     "metadata": {},
     "output_type": "execute_result"
    }
   ],
   "source": [
    "df1 = pd.DataFrame(data={'first': np.arange(4), 'second': np.arange(4)}, index=['a', 'b', 'c', 'd'])\n",
    "df2 = pd.DataFrame(data={'first': np.arange(4), 'third': np.arange(4)}, index=['a', 'b', 'c', 'e'])\n",
    "df1"
   ]
  },
  {
   "cell_type": "code",
   "execution_count": 84,
   "metadata": {},
   "outputs": [
    {
     "data": {
      "text/html": [
       "<div>\n",
       "<style scoped>\n",
       "    .dataframe tbody tr th:only-of-type {\n",
       "        vertical-align: middle;\n",
       "    }\n",
       "\n",
       "    .dataframe tbody tr th {\n",
       "        vertical-align: top;\n",
       "    }\n",
       "\n",
       "    .dataframe thead th {\n",
       "        text-align: right;\n",
       "    }\n",
       "</style>\n",
       "<table border=\"1\" class=\"dataframe\">\n",
       "  <thead>\n",
       "    <tr style=\"text-align: right;\">\n",
       "      <th></th>\n",
       "      <th>first</th>\n",
       "      <th>third</th>\n",
       "    </tr>\n",
       "  </thead>\n",
       "  <tbody>\n",
       "    <tr>\n",
       "      <th>a</th>\n",
       "      <td>0</td>\n",
       "      <td>0</td>\n",
       "    </tr>\n",
       "    <tr>\n",
       "      <th>b</th>\n",
       "      <td>1</td>\n",
       "      <td>1</td>\n",
       "    </tr>\n",
       "    <tr>\n",
       "      <th>c</th>\n",
       "      <td>2</td>\n",
       "      <td>2</td>\n",
       "    </tr>\n",
       "    <tr>\n",
       "      <th>e</th>\n",
       "      <td>3</td>\n",
       "      <td>3</td>\n",
       "    </tr>\n",
       "  </tbody>\n",
       "</table>\n",
       "</div>"
      ],
      "text/plain": [
       "   first  third\n",
       "a      0      0\n",
       "b      1      1\n",
       "c      2      2\n",
       "e      3      3"
      ]
     },
     "execution_count": 84,
     "metadata": {},
     "output_type": "execute_result"
    }
   ],
   "source": [
    "df2"
   ]
  },
  {
   "cell_type": "code",
   "execution_count": 85,
   "metadata": {},
   "outputs": [
    {
     "data": {
      "text/html": [
       "<div>\n",
       "<style scoped>\n",
       "    .dataframe tbody tr th:only-of-type {\n",
       "        vertical-align: middle;\n",
       "    }\n",
       "\n",
       "    .dataframe tbody tr th {\n",
       "        vertical-align: top;\n",
       "    }\n",
       "\n",
       "    .dataframe thead th {\n",
       "        text-align: right;\n",
       "    }\n",
       "</style>\n",
       "<table border=\"1\" class=\"dataframe\">\n",
       "  <thead>\n",
       "    <tr style=\"text-align: right;\">\n",
       "      <th></th>\n",
       "      <th>first</th>\n",
       "      <th>second</th>\n",
       "      <th>third</th>\n",
       "    </tr>\n",
       "  </thead>\n",
       "  <tbody>\n",
       "    <tr>\n",
       "      <th>a</th>\n",
       "      <td>0.0</td>\n",
       "      <td>NaN</td>\n",
       "      <td>NaN</td>\n",
       "    </tr>\n",
       "    <tr>\n",
       "      <th>b</th>\n",
       "      <td>2.0</td>\n",
       "      <td>NaN</td>\n",
       "      <td>NaN</td>\n",
       "    </tr>\n",
       "    <tr>\n",
       "      <th>c</th>\n",
       "      <td>4.0</td>\n",
       "      <td>NaN</td>\n",
       "      <td>NaN</td>\n",
       "    </tr>\n",
       "    <tr>\n",
       "      <th>d</th>\n",
       "      <td>NaN</td>\n",
       "      <td>NaN</td>\n",
       "      <td>NaN</td>\n",
       "    </tr>\n",
       "    <tr>\n",
       "      <th>e</th>\n",
       "      <td>NaN</td>\n",
       "      <td>NaN</td>\n",
       "      <td>NaN</td>\n",
       "    </tr>\n",
       "  </tbody>\n",
       "</table>\n",
       "</div>"
      ],
      "text/plain": [
       "   first  second  third\n",
       "a    0.0     NaN    NaN\n",
       "b    2.0     NaN    NaN\n",
       "c    4.0     NaN    NaN\n",
       "d    NaN     NaN    NaN\n",
       "e    NaN     NaN    NaN"
      ]
     },
     "execution_count": 85,
     "metadata": {},
     "output_type": "execute_result"
    }
   ],
   "source": [
    "df1 + df2"
   ]
  },
  {
   "cell_type": "markdown",
   "metadata": {},
   "source": [
    "# Cartesian Product over index and columns"
   ]
  },
  {
   "cell_type": "code",
   "execution_count": 99,
   "metadata": {},
   "outputs": [
    {
     "data": {
      "text/plain": [
       "(15, 11)"
      ]
     },
     "execution_count": 99,
     "metadata": {},
     "output_type": "execute_result"
    }
   ],
   "source": [
    "df1 = pd.DataFrame(data=np.random.rand(7, 5), \n",
    "                   index=['a', 'a', 'a', 'b', 'b', 'c', 'f'], \n",
    "                   columns=['first', 'first', 'second', 'second', 'third'])\n",
    "df2 = pd.DataFrame(data=np.random.rand(8, 5), \n",
    "                   index=['a', 'a', 'b', 'b', 'c', 'c', 'd', 'd'],\n",
    "                   columns=['first', 'first', 'first', 'second', 'second'])\n",
    "(df1 + df2).shape"
   ]
  },
  {
   "cell_type": "code",
   "execution_count": 96,
   "metadata": {},
   "outputs": [
    {
     "data": {
      "text/html": [
       "<div>\n",
       "<style scoped>\n",
       "    .dataframe tbody tr th:only-of-type {\n",
       "        vertical-align: middle;\n",
       "    }\n",
       "\n",
       "    .dataframe tbody tr th {\n",
       "        vertical-align: top;\n",
       "    }\n",
       "\n",
       "    .dataframe thead th {\n",
       "        text-align: right;\n",
       "    }\n",
       "</style>\n",
       "<table border=\"1\" class=\"dataframe\">\n",
       "  <thead>\n",
       "    <tr style=\"text-align: right;\">\n",
       "      <th></th>\n",
       "      <th>first</th>\n",
       "      <th>first</th>\n",
       "      <th>first</th>\n",
       "      <th>second</th>\n",
       "      <th>second</th>\n",
       "    </tr>\n",
       "  </thead>\n",
       "  <tbody>\n",
       "    <tr>\n",
       "      <th>a</th>\n",
       "      <td>0.073697</td>\n",
       "      <td>0.142855</td>\n",
       "      <td>0.266156</td>\n",
       "      <td>0.812797</td>\n",
       "      <td>0.619567</td>\n",
       "    </tr>\n",
       "    <tr>\n",
       "      <th>a</th>\n",
       "      <td>0.005055</td>\n",
       "      <td>0.553022</td>\n",
       "      <td>0.819766</td>\n",
       "      <td>0.223139</td>\n",
       "      <td>0.264186</td>\n",
       "    </tr>\n",
       "    <tr>\n",
       "      <th>b</th>\n",
       "      <td>0.374170</td>\n",
       "      <td>0.423487</td>\n",
       "      <td>0.048706</td>\n",
       "      <td>0.695765</td>\n",
       "      <td>0.794687</td>\n",
       "    </tr>\n",
       "    <tr>\n",
       "      <th>b</th>\n",
       "      <td>0.704631</td>\n",
       "      <td>0.601275</td>\n",
       "      <td>0.396332</td>\n",
       "      <td>0.876774</td>\n",
       "      <td>0.352477</td>\n",
       "    </tr>\n",
       "    <tr>\n",
       "      <th>c</th>\n",
       "      <td>0.730383</td>\n",
       "      <td>0.371497</td>\n",
       "      <td>0.186939</td>\n",
       "      <td>0.123131</td>\n",
       "      <td>0.769738</td>\n",
       "    </tr>\n",
       "    <tr>\n",
       "      <th>c</th>\n",
       "      <td>0.546997</td>\n",
       "      <td>0.129504</td>\n",
       "      <td>0.260247</td>\n",
       "      <td>0.108910</td>\n",
       "      <td>0.924331</td>\n",
       "    </tr>\n",
       "    <tr>\n",
       "      <th>d</th>\n",
       "      <td>0.031439</td>\n",
       "      <td>0.929202</td>\n",
       "      <td>0.501951</td>\n",
       "      <td>0.234963</td>\n",
       "      <td>0.740949</td>\n",
       "    </tr>\n",
       "    <tr>\n",
       "      <th>d</th>\n",
       "      <td>0.015015</td>\n",
       "      <td>0.789543</td>\n",
       "      <td>0.910344</td>\n",
       "      <td>0.397670</td>\n",
       "      <td>0.435275</td>\n",
       "    </tr>\n",
       "  </tbody>\n",
       "</table>\n",
       "</div>"
      ],
      "text/plain": [
       "      first     first     first    second    second\n",
       "a  0.073697  0.142855  0.266156  0.812797  0.619567\n",
       "a  0.005055  0.553022  0.819766  0.223139  0.264186\n",
       "b  0.374170  0.423487  0.048706  0.695765  0.794687\n",
       "b  0.704631  0.601275  0.396332  0.876774  0.352477\n",
       "c  0.730383  0.371497  0.186939  0.123131  0.769738\n",
       "c  0.546997  0.129504  0.260247  0.108910  0.924331\n",
       "d  0.031439  0.929202  0.501951  0.234963  0.740949\n",
       "d  0.015015  0.789543  0.910344  0.397670  0.435275"
      ]
     },
     "execution_count": 96,
     "metadata": {},
     "output_type": "execute_result"
    }
   ],
   "source": [
    "df2"
   ]
  },
  {
   "cell_type": "code",
   "execution_count": 97,
   "metadata": {},
   "outputs": [
    {
     "data": {
      "text/html": [
       "<div>\n",
       "<style scoped>\n",
       "    .dataframe tbody tr th:only-of-type {\n",
       "        vertical-align: middle;\n",
       "    }\n",
       "\n",
       "    .dataframe tbody tr th {\n",
       "        vertical-align: top;\n",
       "    }\n",
       "\n",
       "    .dataframe thead th {\n",
       "        text-align: right;\n",
       "    }\n",
       "</style>\n",
       "<table border=\"1\" class=\"dataframe\">\n",
       "  <thead>\n",
       "    <tr style=\"text-align: right;\">\n",
       "      <th></th>\n",
       "      <th>first</th>\n",
       "      <th>first</th>\n",
       "      <th>first</th>\n",
       "      <th>first</th>\n",
       "      <th>first</th>\n",
       "      <th>first</th>\n",
       "      <th>second</th>\n",
       "      <th>second</th>\n",
       "      <th>second</th>\n",
       "      <th>second</th>\n",
       "      <th>third</th>\n",
       "    </tr>\n",
       "  </thead>\n",
       "  <tbody>\n",
       "    <tr>\n",
       "      <th>a</th>\n",
       "      <td>0.264907</td>\n",
       "      <td>0.334065</td>\n",
       "      <td>0.457365</td>\n",
       "      <td>0.161372</td>\n",
       "      <td>0.230530</td>\n",
       "      <td>0.353830</td>\n",
       "      <td>1.292675</td>\n",
       "      <td>1.099446</td>\n",
       "      <td>0.909314</td>\n",
       "      <td>0.716085</td>\n",
       "      <td>NaN</td>\n",
       "    </tr>\n",
       "    <tr>\n",
       "      <th>a</th>\n",
       "      <td>0.196265</td>\n",
       "      <td>0.744232</td>\n",
       "      <td>1.010975</td>\n",
       "      <td>0.092730</td>\n",
       "      <td>0.640697</td>\n",
       "      <td>0.907441</td>\n",
       "      <td>0.703018</td>\n",
       "      <td>0.744065</td>\n",
       "      <td>0.319656</td>\n",
       "      <td>0.360703</td>\n",
       "      <td>NaN</td>\n",
       "    </tr>\n",
       "    <tr>\n",
       "      <th>a</th>\n",
       "      <td>0.224361</td>\n",
       "      <td>0.293518</td>\n",
       "      <td>0.416819</td>\n",
       "      <td>1.060915</td>\n",
       "      <td>1.130072</td>\n",
       "      <td>1.253373</td>\n",
       "      <td>1.523190</td>\n",
       "      <td>1.329961</td>\n",
       "      <td>1.303956</td>\n",
       "      <td>1.110727</td>\n",
       "      <td>NaN</td>\n",
       "    </tr>\n",
       "    <tr>\n",
       "      <th>a</th>\n",
       "      <td>0.155719</td>\n",
       "      <td>0.703685</td>\n",
       "      <td>0.970429</td>\n",
       "      <td>0.992273</td>\n",
       "      <td>1.540239</td>\n",
       "      <td>1.806983</td>\n",
       "      <td>0.933533</td>\n",
       "      <td>0.974580</td>\n",
       "      <td>0.714299</td>\n",
       "      <td>0.755346</td>\n",
       "      <td>NaN</td>\n",
       "    </tr>\n",
       "    <tr>\n",
       "      <th>a</th>\n",
       "      <td>1.009048</td>\n",
       "      <td>1.078206</td>\n",
       "      <td>1.201507</td>\n",
       "      <td>0.708086</td>\n",
       "      <td>0.777243</td>\n",
       "      <td>0.900544</td>\n",
       "      <td>0.913501</td>\n",
       "      <td>0.720272</td>\n",
       "      <td>1.729732</td>\n",
       "      <td>1.536503</td>\n",
       "      <td>NaN</td>\n",
       "    </tr>\n",
       "    <tr>\n",
       "      <th>a</th>\n",
       "      <td>0.940406</td>\n",
       "      <td>1.488373</td>\n",
       "      <td>1.755117</td>\n",
       "      <td>0.639444</td>\n",
       "      <td>1.187410</td>\n",
       "      <td>1.454154</td>\n",
       "      <td>0.323843</td>\n",
       "      <td>0.364890</td>\n",
       "      <td>1.140075</td>\n",
       "      <td>1.181121</td>\n",
       "      <td>NaN</td>\n",
       "    </tr>\n",
       "    <tr>\n",
       "      <th>b</th>\n",
       "      <td>0.849271</td>\n",
       "      <td>0.898588</td>\n",
       "      <td>0.523807</td>\n",
       "      <td>0.569953</td>\n",
       "      <td>0.619269</td>\n",
       "      <td>0.244488</td>\n",
       "      <td>1.094890</td>\n",
       "      <td>1.193811</td>\n",
       "      <td>1.386439</td>\n",
       "      <td>1.485361</td>\n",
       "      <td>NaN</td>\n",
       "    </tr>\n",
       "    <tr>\n",
       "      <th>b</th>\n",
       "      <td>1.179731</td>\n",
       "      <td>1.076375</td>\n",
       "      <td>0.871432</td>\n",
       "      <td>0.900413</td>\n",
       "      <td>0.797057</td>\n",
       "      <td>0.592114</td>\n",
       "      <td>1.275899</td>\n",
       "      <td>0.751602</td>\n",
       "      <td>1.567448</td>\n",
       "      <td>1.043151</td>\n",
       "      <td>NaN</td>\n",
       "    </tr>\n",
       "    <tr>\n",
       "      <th>b</th>\n",
       "      <td>0.390061</td>\n",
       "      <td>0.439377</td>\n",
       "      <td>0.064596</td>\n",
       "      <td>0.467622</td>\n",
       "      <td>0.516939</td>\n",
       "      <td>0.142158</td>\n",
       "      <td>1.219307</td>\n",
       "      <td>1.318229</td>\n",
       "      <td>1.401733</td>\n",
       "      <td>1.500655</td>\n",
       "      <td>NaN</td>\n",
       "    </tr>\n",
       "    <tr>\n",
       "      <th>b</th>\n",
       "      <td>0.720521</td>\n",
       "      <td>0.617165</td>\n",
       "      <td>0.412222</td>\n",
       "      <td>0.798082</td>\n",
       "      <td>0.694727</td>\n",
       "      <td>0.489783</td>\n",
       "      <td>1.400316</td>\n",
       "      <td>0.876019</td>\n",
       "      <td>1.582742</td>\n",
       "      <td>1.058445</td>\n",
       "      <td>NaN</td>\n",
       "    </tr>\n",
       "    <tr>\n",
       "      <th>c</th>\n",
       "      <td>1.108322</td>\n",
       "      <td>0.749436</td>\n",
       "      <td>0.564878</td>\n",
       "      <td>1.116708</td>\n",
       "      <td>0.757821</td>\n",
       "      <td>0.573263</td>\n",
       "      <td>0.743504</td>\n",
       "      <td>1.390110</td>\n",
       "      <td>0.747695</td>\n",
       "      <td>1.394302</td>\n",
       "      <td>NaN</td>\n",
       "    </tr>\n",
       "    <tr>\n",
       "      <th>c</th>\n",
       "      <td>0.924936</td>\n",
       "      <td>0.507443</td>\n",
       "      <td>0.638185</td>\n",
       "      <td>0.933321</td>\n",
       "      <td>0.515829</td>\n",
       "      <td>0.646571</td>\n",
       "      <td>0.729282</td>\n",
       "      <td>1.544703</td>\n",
       "      <td>0.733474</td>\n",
       "      <td>1.548895</td>\n",
       "      <td>NaN</td>\n",
       "    </tr>\n",
       "    <tr>\n",
       "      <th>d</th>\n",
       "      <td>NaN</td>\n",
       "      <td>NaN</td>\n",
       "      <td>NaN</td>\n",
       "      <td>NaN</td>\n",
       "      <td>NaN</td>\n",
       "      <td>NaN</td>\n",
       "      <td>NaN</td>\n",
       "      <td>NaN</td>\n",
       "      <td>NaN</td>\n",
       "      <td>NaN</td>\n",
       "      <td>NaN</td>\n",
       "    </tr>\n",
       "    <tr>\n",
       "      <th>d</th>\n",
       "      <td>NaN</td>\n",
       "      <td>NaN</td>\n",
       "      <td>NaN</td>\n",
       "      <td>NaN</td>\n",
       "      <td>NaN</td>\n",
       "      <td>NaN</td>\n",
       "      <td>NaN</td>\n",
       "      <td>NaN</td>\n",
       "      <td>NaN</td>\n",
       "      <td>NaN</td>\n",
       "      <td>NaN</td>\n",
       "    </tr>\n",
       "    <tr>\n",
       "      <th>f</th>\n",
       "      <td>NaN</td>\n",
       "      <td>NaN</td>\n",
       "      <td>NaN</td>\n",
       "      <td>NaN</td>\n",
       "      <td>NaN</td>\n",
       "      <td>NaN</td>\n",
       "      <td>NaN</td>\n",
       "      <td>NaN</td>\n",
       "      <td>NaN</td>\n",
       "      <td>NaN</td>\n",
       "      <td>NaN</td>\n",
       "    </tr>\n",
       "  </tbody>\n",
       "</table>\n",
       "</div>"
      ],
      "text/plain": [
       "      first     first     first     first     first     first    second  \\\n",
       "a  0.264907  0.334065  0.457365  0.161372  0.230530  0.353830  1.292675   \n",
       "a  0.196265  0.744232  1.010975  0.092730  0.640697  0.907441  0.703018   \n",
       "a  0.224361  0.293518  0.416819  1.060915  1.130072  1.253373  1.523190   \n",
       "a  0.155719  0.703685  0.970429  0.992273  1.540239  1.806983  0.933533   \n",
       "a  1.009048  1.078206  1.201507  0.708086  0.777243  0.900544  0.913501   \n",
       "a  0.940406  1.488373  1.755117  0.639444  1.187410  1.454154  0.323843   \n",
       "b  0.849271  0.898588  0.523807  0.569953  0.619269  0.244488  1.094890   \n",
       "b  1.179731  1.076375  0.871432  0.900413  0.797057  0.592114  1.275899   \n",
       "b  0.390061  0.439377  0.064596  0.467622  0.516939  0.142158  1.219307   \n",
       "b  0.720521  0.617165  0.412222  0.798082  0.694727  0.489783  1.400316   \n",
       "c  1.108322  0.749436  0.564878  1.116708  0.757821  0.573263  0.743504   \n",
       "c  0.924936  0.507443  0.638185  0.933321  0.515829  0.646571  0.729282   \n",
       "d       NaN       NaN       NaN       NaN       NaN       NaN       NaN   \n",
       "d       NaN       NaN       NaN       NaN       NaN       NaN       NaN   \n",
       "f       NaN       NaN       NaN       NaN       NaN       NaN       NaN   \n",
       "\n",
       "     second    second    second  third  \n",
       "a  1.099446  0.909314  0.716085    NaN  \n",
       "a  0.744065  0.319656  0.360703    NaN  \n",
       "a  1.329961  1.303956  1.110727    NaN  \n",
       "a  0.974580  0.714299  0.755346    NaN  \n",
       "a  0.720272  1.729732  1.536503    NaN  \n",
       "a  0.364890  1.140075  1.181121    NaN  \n",
       "b  1.193811  1.386439  1.485361    NaN  \n",
       "b  0.751602  1.567448  1.043151    NaN  \n",
       "b  1.318229  1.401733  1.500655    NaN  \n",
       "b  0.876019  1.582742  1.058445    NaN  \n",
       "c  1.390110  0.747695  1.394302    NaN  \n",
       "c  1.544703  0.733474  1.548895    NaN  \n",
       "d       NaN       NaN       NaN    NaN  \n",
       "d       NaN       NaN       NaN    NaN  \n",
       "f       NaN       NaN       NaN    NaN  "
      ]
     },
     "execution_count": 97,
     "metadata": {},
     "output_type": "execute_result"
    }
   ],
   "source": [
    "df1 + df2"
   ]
  },
  {
   "cell_type": "code",
   "execution_count": null,
   "metadata": {},
   "outputs": [],
   "source": []
  }
 ],
 "metadata": {
  "kernelspec": {
   "display_name": "Python 3",
   "language": "python",
   "name": "python3"
  },
  "language_info": {
   "codemirror_mode": {
    "name": "ipython",
    "version": 3
   },
   "file_extension": ".py",
   "mimetype": "text/x-python",
   "name": "python",
   "nbconvert_exporter": "python",
   "pygments_lexer": "ipython3",
   "version": "3.6.4"
  },
  "varInspector": {
   "cols": {
    "lenName": 16,
    "lenType": 16,
    "lenVar": 40
   },
   "kernels_config": {
    "python": {
     "delete_cmd_postfix": "",
     "delete_cmd_prefix": "del ",
     "library": "var_list.py",
     "varRefreshCmd": "print(var_dic_list())"
    },
    "r": {
     "delete_cmd_postfix": ") ",
     "delete_cmd_prefix": "rm(",
     "library": "var_list.r",
     "varRefreshCmd": "cat(var_dic_list()) "
    }
   },
   "types_to_exclude": [
    "module",
    "function",
    "builtin_function_or_method",
    "instance",
    "_Feature"
   ],
   "window_display": false
  }
 },
 "nbformat": 4,
 "nbformat_minor": 2
}
