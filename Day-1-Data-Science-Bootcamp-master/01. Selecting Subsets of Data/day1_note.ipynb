{
 "cells": [
  {
   "cell_type": "markdown",
   "metadata": {},
   "source": [
    "9/7/2018\n",
    "\n",
    "Day 1 "
   ]
  },
  {
   "cell_type": "markdown",
   "metadata": {},
   "source": [
    "Overview of Today:\n",
    "\n",
    "- keep hands on keyboard\n",
    "- one line of code, verify it's correct from the feedback, head, new cell (keep one code in a cell, keep the code min)\n",
    "- selecting subsets of data\n",
    "- get to know series/dataframe attributes and methods "
   ]
  },
  {
   "cell_type": "markdown",
   "metadata": {},
   "source": [
    "Open with Anaconda Navigator \n",
    "df: provides labels of rows and columns, labeled data. 3 independent components: columns, index, actual data.\n",
    "pandas will make assumptions on the datatype of each column.\n",
    "\n",
    "NaN - float\n",
    "None - object\n",
    "when missing in int/boolean, then it will be float. \n"
   ]
  },
  {
   "cell_type": "markdown",
   "metadata": {},
   "source": [
    "Recommended extensions: \n",
    "\n",
    "\n",
    "- hinterland\n",
    "- variable inspector\n",
    "- skip-traceback \n",
    "- nbextensions edit menu item\n",
    "- jupyter-js-widegts/extension \n",
    "\n",
    "first 3 is the most important"
   ]
  },
  {
   "cell_type": "markdown",
   "metadata": {},
   "source": [
    "Day 2\n",
    "\n",
    "9/9/2018 Note, Amy Jin"
   ]
  },
  {
   "cell_type": "markdown",
   "metadata": {},
   "source": [
    "### Vectorization"
   ]
  },
  {
   "cell_type": "code",
   "execution_count": 1,
   "metadata": {},
   "outputs": [
    {
     "data": {
      "text/html": [
       "<div>\n",
       "<style scoped>\n",
       "    .dataframe tbody tr th:only-of-type {\n",
       "        vertical-align: middle;\n",
       "    }\n",
       "\n",
       "    .dataframe tbody tr th {\n",
       "        vertical-align: top;\n",
       "    }\n",
       "\n",
       "    .dataframe thead th {\n",
       "        text-align: right;\n",
       "    }\n",
       "</style>\n",
       "<table border=\"1\" class=\"dataframe\">\n",
       "  <thead>\n",
       "    <tr style=\"text-align: right;\">\n",
       "      <th></th>\n",
       "      <th>title</th>\n",
       "      <th>dept</th>\n",
       "      <th>salary</th>\n",
       "      <th>race</th>\n",
       "      <th>gender</th>\n",
       "      <th>hire_date</th>\n",
       "      <th>job_date</th>\n",
       "    </tr>\n",
       "  </thead>\n",
       "  <tbody>\n",
       "    <tr>\n",
       "      <th>0</th>\n",
       "      <td>ASSISTANT DIRECTOR (EX LVL)</td>\n",
       "      <td>Municipal Courts Department</td>\n",
       "      <td>121862.0</td>\n",
       "      <td>Hispanic</td>\n",
       "      <td>Female</td>\n",
       "      <td>2006-06-12</td>\n",
       "      <td>2012-10-13</td>\n",
       "    </tr>\n",
       "    <tr>\n",
       "      <th>1</th>\n",
       "      <td>LIBRARY ASSISTANT</td>\n",
       "      <td>Library</td>\n",
       "      <td>26125.0</td>\n",
       "      <td>Hispanic</td>\n",
       "      <td>Female</td>\n",
       "      <td>2000-07-19</td>\n",
       "      <td>2010-09-18</td>\n",
       "    </tr>\n",
       "    <tr>\n",
       "      <th>2</th>\n",
       "      <td>POLICE OFFICER</td>\n",
       "      <td>Houston Police Department-HPD</td>\n",
       "      <td>45279.0</td>\n",
       "      <td>White</td>\n",
       "      <td>Male</td>\n",
       "      <td>2015-02-03</td>\n",
       "      <td>2015-02-03</td>\n",
       "    </tr>\n",
       "  </tbody>\n",
       "</table>\n",
       "</div>"
      ],
      "text/plain": [
       "                         title                           dept    salary  \\\n",
       "0  ASSISTANT DIRECTOR (EX LVL)    Municipal Courts Department  121862.0   \n",
       "1            LIBRARY ASSISTANT                        Library   26125.0   \n",
       "2               POLICE OFFICER  Houston Police Department-HPD   45279.0   \n",
       "\n",
       "       race  gender   hire_date    job_date  \n",
       "0  Hispanic  Female  2006-06-12  2012-10-13  \n",
       "1  Hispanic  Female  2000-07-19  2010-09-18  \n",
       "2     White    Male  2015-02-03  2015-02-03  "
      ]
     },
     "execution_count": 1,
     "metadata": {},
     "output_type": "execute_result"
    }
   ],
   "source": [
    "import pandas as pd\n",
    "emp = pd.read_csv('../data/employee.csv')\n",
    "emp.head(3)"
   ]
  },
  {
   "cell_type": "code",
   "execution_count": 5,
   "metadata": {},
   "outputs": [
    {
     "data": {
      "text/plain": [
       "0    121862.0\n",
       "1     26125.0\n",
       "2     45279.0\n",
       "3     63166.0\n",
       "4     56347.0\n",
       "Name: salary, dtype: float64"
      ]
     },
     "execution_count": 5,
     "metadata": {},
     "output_type": "execute_result"
    }
   ],
   "source": [
    "salary = emp['salary']\n",
    "salary.head()"
   ]
  },
  {
   "cell_type": "code",
   "execution_count": 7,
   "metadata": {},
   "outputs": [
    {
     "data": {
      "text/plain": [
       "0    121962.0\n",
       "1     26225.0\n",
       "2     45379.0\n",
       "3     63266.0\n",
       "4     56447.0\n",
       "Name: salary, dtype: float64"
      ]
     },
     "execution_count": 7,
     "metadata": {},
     "output_type": "execute_result"
    }
   ],
   "source": [
    "(salary + 100).head() # give 100 to everybody  \n",
    "# vectorization = apply something to every value without loop\n",
    "# underneath there is a for loop, we don't see it"
   ]
  },
  {
   "cell_type": "code",
   "execution_count": null,
   "metadata": {},
   "outputs": [],
   "source": []
  },
  {
   "cell_type": "markdown",
   "metadata": {},
   "source": [
    "### Descriptive"
   ]
  },
  {
   "cell_type": "code",
   "execution_count": 8,
   "metadata": {},
   "outputs": [
    {
     "data": {
      "text/plain": [
       "55767.93160127253"
      ]
     },
     "execution_count": 8,
     "metadata": {},
     "output_type": "execute_result"
    }
   ],
   "source": [
    "salary.mean()  # access to lots of power of the object salary"
   ]
  },
  {
   "cell_type": "code",
   "execution_count": 9,
   "metadata": {},
   "outputs": [
    {
     "data": {
      "text/plain": [
       "24960.0"
      ]
     },
     "execution_count": 9,
     "metadata": {},
     "output_type": "execute_result"
    }
   ],
   "source": [
    "salary.min()  \n",
    "# aggrations: taking whole bunch of data and get a single number from the summarizing the data\n",
    "# eg: min, max, mean, stdev, size"
   ]
  },
  {
   "cell_type": "code",
   "execution_count": 10,
   "metadata": {},
   "outputs": [
    {
     "data": {
      "text/plain": [
       "1886"
      ]
     },
     "execution_count": 10,
     "metadata": {},
     "output_type": "execute_result"
    }
   ],
   "source": [
    "salary.count() # Return number of non-NA/null observations in the Series\n",
    "# same as SQL "
   ]
  },
  {
   "cell_type": "code",
   "execution_count": 11,
   "metadata": {},
   "outputs": [
    {
     "data": {
      "text/plain": [
       "2000"
      ]
     },
     "execution_count": 11,
     "metadata": {},
     "output_type": "execute_result"
    }
   ],
   "source": [
    "len(salary)    # Return the number of items in a container.\n",
    "# there is 2000 emplyees and there is only 1886 have salaries"
   ]
  },
  {
   "cell_type": "code",
   "execution_count": null,
   "metadata": {},
   "outputs": [],
   "source": []
  },
  {
   "cell_type": "markdown",
   "metadata": {},
   "source": [
    "### Agg vs non-aggregation"
   ]
  },
  {
   "cell_type": "code",
   "execution_count": 13,
   "metadata": {},
   "outputs": [
    {
     "data": {
      "text/plain": [
       "0    121862.0\n",
       "1     26125.0\n",
       "2     45279.0\n",
       "3     63166.0\n",
       "4     56347.0\n",
       "Name: salary, dtype: float64"
      ]
     },
     "execution_count": 13,
     "metadata": {},
     "output_type": "execute_result"
    }
   ],
   "source": [
    "salary.abs().head() # non-agg function"
   ]
  },
  {
   "cell_type": "code",
   "execution_count": null,
   "metadata": {},
   "outputs": [],
   "source": []
  },
  {
   "cell_type": "markdown",
   "metadata": {},
   "source": [
    "### Boolean"
   ]
  },
  {
   "cell_type": "code",
   "execution_count": 15,
   "metadata": {},
   "outputs": [
    {
     "data": {
      "text/plain": [
       "0     True\n",
       "1    False\n",
       "2    False\n",
       "3    False\n",
       "4    False\n",
       "Name: salary, dtype: bool"
      ]
     },
     "execution_count": 15,
     "metadata": {},
     "output_type": "execute_result"
    }
   ],
   "source": [
    "s = salary > 10 ** 5 # how many people make 10000 more \n",
    "s.head()"
   ]
  },
  {
   "cell_type": "code",
   "execution_count": 17,
   "metadata": {},
   "outputs": [
    {
     "data": {
      "text/html": [
       "<div>\n",
       "<style scoped>\n",
       "    .dataframe tbody tr th:only-of-type {\n",
       "        vertical-align: middle;\n",
       "    }\n",
       "\n",
       "    .dataframe tbody tr th {\n",
       "        vertical-align: top;\n",
       "    }\n",
       "\n",
       "    .dataframe thead th {\n",
       "        text-align: right;\n",
       "    }\n",
       "</style>\n",
       "<table border=\"1\" class=\"dataframe\">\n",
       "  <thead>\n",
       "    <tr style=\"text-align: right;\">\n",
       "      <th></th>\n",
       "      <th>title</th>\n",
       "      <th>dept</th>\n",
       "      <th>salary</th>\n",
       "      <th>race</th>\n",
       "      <th>gender</th>\n",
       "      <th>hire_date</th>\n",
       "      <th>job_date</th>\n",
       "    </tr>\n",
       "  </thead>\n",
       "  <tbody>\n",
       "    <tr>\n",
       "      <th>0</th>\n",
       "      <td>ASSISTANT DIRECTOR (EX LVL)</td>\n",
       "      <td>Municipal Courts Department</td>\n",
       "      <td>121862.0</td>\n",
       "      <td>Hispanic</td>\n",
       "      <td>Female</td>\n",
       "      <td>2006-06-12</td>\n",
       "      <td>2012-10-13</td>\n",
       "    </tr>\n",
       "    <tr>\n",
       "      <th>8</th>\n",
       "      <td>DEPUTY ASSISTANT DIRECTOR (EXECUTIVE LEV</td>\n",
       "      <td>Public Works &amp; Engineering-PWE</td>\n",
       "      <td>107962.0</td>\n",
       "      <td>White</td>\n",
       "      <td>Male</td>\n",
       "      <td>1993-11-15</td>\n",
       "      <td>2013-01-05</td>\n",
       "    </tr>\n",
       "    <tr>\n",
       "      <th>11</th>\n",
       "      <td>CHIEF PHYSICIAN,MD</td>\n",
       "      <td>Health &amp; Human Services</td>\n",
       "      <td>180416.0</td>\n",
       "      <td>Black</td>\n",
       "      <td>Male</td>\n",
       "      <td>1987-05-22</td>\n",
       "      <td>1999-08-28</td>\n",
       "    </tr>\n",
       "    <tr>\n",
       "      <th>43</th>\n",
       "      <td>ASSOCIATE EMS PHYSICIAN DIRECTOR</td>\n",
       "      <td>Houston Fire Department (HFD)</td>\n",
       "      <td>165216.0</td>\n",
       "      <td>Hispanic</td>\n",
       "      <td>Male</td>\n",
       "      <td>2013-08-31</td>\n",
       "      <td>2013-08-31</td>\n",
       "    </tr>\n",
       "    <tr>\n",
       "      <th>66</th>\n",
       "      <td>PUBLIC HEALTH DENTIST,DDS</td>\n",
       "      <td>Health &amp; Human Services</td>\n",
       "      <td>100791.0</td>\n",
       "      <td>White</td>\n",
       "      <td>Female</td>\n",
       "      <td>2015-12-28</td>\n",
       "      <td>2015-12-28</td>\n",
       "    </tr>\n",
       "  </tbody>\n",
       "</table>\n",
       "</div>"
      ],
      "text/plain": [
       "                                       title                            dept  \\\n",
       "0                ASSISTANT DIRECTOR (EX LVL)     Municipal Courts Department   \n",
       "8   DEPUTY ASSISTANT DIRECTOR (EXECUTIVE LEV  Public Works & Engineering-PWE   \n",
       "11                        CHIEF PHYSICIAN,MD         Health & Human Services   \n",
       "43          ASSOCIATE EMS PHYSICIAN DIRECTOR   Houston Fire Department (HFD)   \n",
       "66                 PUBLIC HEALTH DENTIST,DDS         Health & Human Services   \n",
       "\n",
       "      salary      race  gender   hire_date    job_date  \n",
       "0   121862.0  Hispanic  Female  2006-06-12  2012-10-13  \n",
       "8   107962.0     White    Male  1993-11-15  2013-01-05  \n",
       "11  180416.0     Black    Male  1987-05-22  1999-08-28  \n",
       "43  165216.0  Hispanic    Male  2013-08-31  2013-08-31  \n",
       "66  100791.0     White  Female  2015-12-28  2015-12-28  "
      ]
     },
     "execution_count": 17,
     "metadata": {},
     "output_type": "execute_result"
    }
   ],
   "source": [
    "emp[s].head()  # filter"
   ]
  },
  {
   "cell_type": "code",
   "execution_count": 18,
   "metadata": {},
   "outputs": [
    {
     "data": {
      "text/plain": [
       "57"
      ]
     },
     "execution_count": 18,
     "metadata": {},
     "output_type": "execute_result"
    }
   ],
   "source": [
    "s.sum() # 57 people earn > 10000"
   ]
  },
  {
   "cell_type": "code",
   "execution_count": 19,
   "metadata": {},
   "outputs": [
    {
     "data": {
      "text/plain": [
       "0.0285"
      ]
     },
     "execution_count": 19,
     "metadata": {},
     "output_type": "execute_result"
    }
   ],
   "source": [
    "s.mean() # percentage that true = s.sum() / len(s)"
   ]
  },
  {
   "cell_type": "code",
   "execution_count": 20,
   "metadata": {},
   "outputs": [
    {
     "data": {
      "text/plain": [
       "2000"
      ]
     },
     "execution_count": 20,
     "metadata": {},
     "output_type": "execute_result"
    }
   ],
   "source": [
    "len(s)"
   ]
  },
  {
   "cell_type": "code",
   "execution_count": 21,
   "metadata": {},
   "outputs": [
    {
     "data": {
      "text/plain": [
       "0.0285"
      ]
     },
     "execution_count": 21,
     "metadata": {},
     "output_type": "execute_result"
    }
   ],
   "source": [
    "57/2000"
   ]
  },
  {
   "cell_type": "code",
   "execution_count": 31,
   "metadata": {},
   "outputs": [
    {
     "name": "stdout",
     "output_type": "stream",
     "text": [
      "700\n",
      "2000\n"
     ]
    },
    {
     "data": {
      "text/plain": [
       "0.35"
      ]
     },
     "execution_count": 31,
     "metadata": {},
     "output_type": "execute_result"
    }
   ],
   "source": [
    "filt = emp['race'] == 'Black'\n",
    "len_black = len(emp.loc[filt, 'salary'])\n",
    "print(len_black)\n",
    "print(len(salary))\n",
    "len_black / len(salary) # percentage of black employee"
   ]
  },
  {
   "cell_type": "code",
   "execution_count": 29,
   "metadata": {},
   "outputs": [
    {
     "data": {
      "text/plain": [
       "0    False\n",
       "1    False\n",
       "2    False\n",
       "3    False\n",
       "4    False\n",
       "5     True\n",
       "Name: race, dtype: bool"
      ]
     },
     "execution_count": 29,
     "metadata": {},
     "output_type": "execute_result"
    }
   ],
   "source": [
    "filt.head(6)"
   ]
  },
  {
   "cell_type": "code",
   "execution_count": 32,
   "metadata": {},
   "outputs": [
    {
     "data": {
      "text/plain": [
       "0.35"
      ]
     },
     "execution_count": 32,
     "metadata": {},
     "output_type": "execute_result"
    }
   ],
   "source": [
    "filt.sum() / len(filt)"
   ]
  },
  {
   "cell_type": "code",
   "execution_count": 33,
   "metadata": {},
   "outputs": [
    {
     "data": {
      "text/plain": [
       "7.235294117647059"
      ]
     },
     "execution_count": 33,
     "metadata": {},
     "output_type": "execute_result"
    }
   ],
   "source": [
    "123 / 17"
   ]
  },
  {
   "cell_type": "code",
   "execution_count": 35,
   "metadata": {},
   "outputs": [
    {
     "data": {
      "text/plain": [
       "7"
      ]
     },
     "execution_count": 35,
     "metadata": {},
     "output_type": "execute_result"
    }
   ],
   "source": [
    "123 // 17 # chop off decimals, always get int"
   ]
  },
  {
   "cell_type": "code",
   "execution_count": 36,
   "metadata": {},
   "outputs": [
    {
     "data": {
      "text/plain": [
       "0.35"
      ]
     },
     "execution_count": 36,
     "metadata": {},
     "output_type": "execute_result"
    }
   ],
   "source": [
    "filt = emp['race'] == 'Black'\n",
    "filt.mean()"
   ]
  },
  {
   "cell_type": "code",
   "execution_count": 37,
   "metadata": {},
   "outputs": [
    {
     "data": {
      "text/plain": [
       "0.35"
      ]
     },
     "execution_count": 37,
     "metadata": {},
     "output_type": "execute_result"
    }
   ],
   "source": [
    "(emp['race'] == 'Black').mean()"
   ]
  },
  {
   "cell_type": "markdown",
   "metadata": {},
   "source": [
    "### Sorting"
   ]
  },
  {
   "cell_type": "code",
   "execution_count": 39,
   "metadata": {},
   "outputs": [
    {
     "data": {
      "text/plain": [
       "454     24960.0\n",
       "488     26104.0\n",
       "1844    26125.0\n",
       "92      26125.0\n",
       "1124    26125.0\n",
       "Name: salary, dtype: float64"
      ]
     },
     "execution_count": 39,
     "metadata": {},
     "output_type": "execute_result"
    }
   ],
   "source": [
    "salary.sort_values().head() # put the missing value in the end na_position='last' by default\n",
    "# could change to first to make na first"
   ]
  },
  {
   "cell_type": "code",
   "execution_count": 48,
   "metadata": {},
   "outputs": [
    {
     "data": {
      "text/plain": [
       "454    24960.0\n",
       "488    26104.0\n",
       "1      26125.0\n",
       "63     26125.0\n",
       "92     26125.0\n",
       "Name: salary, dtype: float64"
      ]
     },
     "execution_count": 48,
     "metadata": {},
     "output_type": "execute_result"
    }
   ],
   "source": [
    "salary.sort_values(kind = 'mergesort').head()"
   ]
  },
  {
   "cell_type": "code",
   "execution_count": 49,
   "metadata": {},
   "outputs": [
    {
     "data": {
      "text/plain": [
       "454     24960.0\n",
       "488     26104.0\n",
       "1844    26125.0\n",
       "92      26125.0\n",
       "1124    26125.0\n",
       "Name: salary, dtype: float64"
      ]
     },
     "execution_count": 49,
     "metadata": {},
     "output_type": "execute_result"
    }
   ],
   "source": [
    "salary.sort_values(ascending= True).head()"
   ]
  },
  {
   "cell_type": "code",
   "execution_count": 47,
   "metadata": {},
   "outputs": [
    {
     "data": {
      "text/plain": [
       "False"
      ]
     },
     "execution_count": 47,
     "metadata": {},
     "output_type": "execute_result"
    }
   ],
   "source": [
    "salary.is_monotonic_decreasing"
   ]
  },
  {
   "cell_type": "code",
   "execution_count": 50,
   "metadata": {},
   "outputs": [
    {
     "data": {
      "text/plain": [
       "454     24960.0\n",
       "488     26104.0\n",
       "1844    26125.0\n",
       "92      26125.0\n",
       "1124    26125.0\n",
       "Name: salary, dtype: float64"
      ]
     },
     "execution_count": 50,
     "metadata": {},
     "output_type": "execute_result"
    }
   ],
   "source": [
    "salary_sorted = salary.sort_values()\n",
    "salary_sorted.head()"
   ]
  },
  {
   "cell_type": "code",
   "execution_count": null,
   "metadata": {},
   "outputs": [],
   "source": [
    "salary = emp['salary'] # this is referecing the df, it's not a copy of salary column"
   ]
  },
  {
   "cell_type": "code",
   "execution_count": null,
   "metadata": {},
   "outputs": [],
   "source": [
    "salary.sort_values(inplace = True) # error"
   ]
  },
  {
   "cell_type": "code",
   "execution_count": 51,
   "metadata": {},
   "outputs": [],
   "source": [
    "salary = emp['salary'].copy() # force to create a copy"
   ]
  },
  {
   "cell_type": "code",
   "execution_count": 54,
   "metadata": {},
   "outputs": [
    {
     "data": {
      "text/plain": [
       "454     24960.0\n",
       "488     26104.0\n",
       "1844    26125.0\n",
       "1215    26125.0\n",
       "1124    26125.0\n",
       "Name: salary, dtype: float64"
      ]
     },
     "execution_count": 54,
     "metadata": {},
     "output_type": "execute_result"
    }
   ],
   "source": [
    "salary.sort_values(inplace = True) \n",
    "# work for copy of column with inplace = True, not commonly uesed. So don't use it.\n",
    "salary.head()"
   ]
  },
  {
   "cell_type": "markdown",
   "metadata": {},
   "source": [
    "### Experimenting some methods\n",
    "\n",
    "http://pandas.pydata.org/pandas-docs/stable/api.html#series"
   ]
  },
  {
   "cell_type": "code",
   "execution_count": 58,
   "metadata": {},
   "outputs": [
    {
     "data": {
      "text/plain": [
       "dtype('float64')"
      ]
     },
     "execution_count": 58,
     "metadata": {},
     "output_type": "execute_result"
    }
   ],
   "source": [
    "salary.dtype"
   ]
  },
  {
   "cell_type": "code",
   "execution_count": 59,
   "metadata": {},
   "outputs": [
    {
     "data": {
      "text/plain": [
       "'float64:dense'"
      ]
     },
     "execution_count": 59,
     "metadata": {},
     "output_type": "execute_result"
    }
   ],
   "source": [
    "salary.ftype"
   ]
  },
  {
   "cell_type": "code",
   "execution_count": 60,
   "metadata": {},
   "outputs": [
    {
     "data": {
      "text/plain": [
       "(2000,)"
      ]
     },
     "execution_count": 60,
     "metadata": {},
     "output_type": "execute_result"
    }
   ],
   "source": [
    "salary.shape"
   ]
  },
  {
   "cell_type": "code",
   "execution_count": 61,
   "metadata": {},
   "outputs": [
    {
     "data": {
      "text/plain": [
       "16000"
      ]
     },
     "execution_count": 61,
     "metadata": {},
     "output_type": "execute_result"
    }
   ],
   "source": [
    "salary.nbytes"
   ]
  },
  {
   "cell_type": "code",
   "execution_count": 62,
   "metadata": {},
   "outputs": [
    {
     "data": {
      "text/plain": [
       "1"
      ]
     },
     "execution_count": 62,
     "metadata": {},
     "output_type": "execute_result"
    }
   ],
   "source": [
    "salary.ndim"
   ]
  },
  {
   "cell_type": "code",
   "execution_count": 63,
   "metadata": {},
   "outputs": [
    {
     "data": {
      "text/plain": [
       "2000"
      ]
     },
     "execution_count": 63,
     "metadata": {},
     "output_type": "execute_result"
    }
   ],
   "source": [
    "salary.size"
   ]
  },
  {
   "cell_type": "code",
   "execution_count": 65,
   "metadata": {},
   "outputs": [
    {
     "data": {
      "text/plain": [
       "(8,)"
      ]
     },
     "execution_count": 65,
     "metadata": {},
     "output_type": "execute_result"
    }
   ],
   "source": [
    "salary.strides"
   ]
  },
  {
   "cell_type": "code",
   "execution_count": 67,
   "metadata": {},
   "outputs": [
    {
     "data": {
      "text/plain": [
       "False"
      ]
     },
     "execution_count": 67,
     "metadata": {},
     "output_type": "execute_result"
    }
   ],
   "source": [
    "salary.is_unique"
   ]
  },
  {
   "cell_type": "code",
   "execution_count": 69,
   "metadata": {},
   "outputs": [
    {
     "data": {
      "text/plain": [
       "<bound method Series.unique of 454     24960.0\n",
       "488     26104.0\n",
       "1844    26125.0\n",
       "1215    26125.0\n",
       "1124    26125.0\n",
       "1433    26125.0\n",
       "546     26125.0\n",
       "1669    26125.0\n",
       "1058    26125.0\n",
       "1639    26125.0\n",
       "92      26125.0\n",
       "1445    26125.0\n",
       "1446    26125.0\n",
       "619     26125.0\n",
       "622     26125.0\n",
       "63      26125.0\n",
       "1846    26125.0\n",
       "773     26125.0\n",
       "461     26125.0\n",
       "764     26125.0\n",
       "1347    26125.0\n",
       "99      26125.0\n",
       "1570    26125.0\n",
       "1558    26125.0\n",
       "1219    26125.0\n",
       "174     26125.0\n",
       "907     26125.0\n",
       "1930    26125.0\n",
       "1553    26125.0\n",
       "1925    26125.0\n",
       "         ...   \n",
       "1526        NaN\n",
       "1561        NaN\n",
       "1629        NaN\n",
       "1653        NaN\n",
       "1664        NaN\n",
       "1676        NaN\n",
       "1692        NaN\n",
       "1707        NaN\n",
       "1734        NaN\n",
       "1747        NaN\n",
       "1748        NaN\n",
       "1760        NaN\n",
       "1779        NaN\n",
       "1792        NaN\n",
       "1793        NaN\n",
       "1807        NaN\n",
       "1815        NaN\n",
       "1821        NaN\n",
       "1825        NaN\n",
       "1837        NaN\n",
       "1860        NaN\n",
       "1866        NaN\n",
       "1880        NaN\n",
       "1895        NaN\n",
       "1942        NaN\n",
       "1962        NaN\n",
       "1968        NaN\n",
       "1969        NaN\n",
       "1980        NaN\n",
       "1987        NaN\n",
       "Name: salary, Length: 2000, dtype: float64>"
      ]
     },
     "execution_count": 69,
     "metadata": {},
     "output_type": "execute_result"
    }
   ],
   "source": [
    "salary.unique"
   ]
  },
  {
   "cell_type": "code",
   "execution_count": 70,
   "metadata": {},
   "outputs": [
    {
     "data": {
      "text/plain": [
       "<bound method Series.nonzero of 454     24960.0\n",
       "488     26104.0\n",
       "1844    26125.0\n",
       "1215    26125.0\n",
       "1124    26125.0\n",
       "1433    26125.0\n",
       "546     26125.0\n",
       "1669    26125.0\n",
       "1058    26125.0\n",
       "1639    26125.0\n",
       "92      26125.0\n",
       "1445    26125.0\n",
       "1446    26125.0\n",
       "619     26125.0\n",
       "622     26125.0\n",
       "63      26125.0\n",
       "1846    26125.0\n",
       "773     26125.0\n",
       "461     26125.0\n",
       "764     26125.0\n",
       "1347    26125.0\n",
       "99      26125.0\n",
       "1570    26125.0\n",
       "1558    26125.0\n",
       "1219    26125.0\n",
       "174     26125.0\n",
       "907     26125.0\n",
       "1930    26125.0\n",
       "1553    26125.0\n",
       "1925    26125.0\n",
       "         ...   \n",
       "1526        NaN\n",
       "1561        NaN\n",
       "1629        NaN\n",
       "1653        NaN\n",
       "1664        NaN\n",
       "1676        NaN\n",
       "1692        NaN\n",
       "1707        NaN\n",
       "1734        NaN\n",
       "1747        NaN\n",
       "1748        NaN\n",
       "1760        NaN\n",
       "1779        NaN\n",
       "1792        NaN\n",
       "1793        NaN\n",
       "1807        NaN\n",
       "1815        NaN\n",
       "1821        NaN\n",
       "1825        NaN\n",
       "1837        NaN\n",
       "1860        NaN\n",
       "1866        NaN\n",
       "1880        NaN\n",
       "1895        NaN\n",
       "1942        NaN\n",
       "1962        NaN\n",
       "1968        NaN\n",
       "1969        NaN\n",
       "1980        NaN\n",
       "1987        NaN\n",
       "Name: salary, Length: 2000, dtype: float64>"
      ]
     },
     "execution_count": 70,
     "metadata": {},
     "output_type": "execute_result"
    }
   ],
   "source": [
    "salary.nonzero"
   ]
  },
  {
   "cell_type": "code",
   "execution_count": 74,
   "metadata": {},
   "outputs": [],
   "source": [
    "movie = pd.read_csv('../data/movie.csv', index_col = 'title')\n",
    "actor1 = movie['actor1']"
   ]
  },
  {
   "cell_type": "code",
   "execution_count": 75,
   "metadata": {},
   "outputs": [
    {
     "name": "stdout",
     "output_type": "stream",
     "text": [
      "index is Avatar, value is CCH Pounder\n",
      "index is Pirates of the Caribbean: At World's End, value is Johnny Depp\n",
      "index is Spectre, value is Christoph Waltz\n",
      "index is The Dark Knight Rises, value is Tom Hardy\n",
      "index is Star Wars: Episode VII - The Force Awakens, value is Doug Walker\n"
     ]
    }
   ],
   "source": [
    "for idx, val in actor1.head().items():\n",
    "    print(f'index is {idx}, value is {val}')"
   ]
  },
  {
   "cell_type": "code",
   "execution_count": null,
   "metadata": {},
   "outputs": [],
   "source": []
  },
  {
   "cell_type": "markdown",
   "metadata": {},
   "source": [
    "### Methods vs Selection"
   ]
  },
  {
   "cell_type": "code",
   "execution_count": null,
   "metadata": {},
   "outputs": [],
   "source": [
    "salary[] # selection with []"
   ]
  },
  {
   "cell_type": "code",
   "execution_count": null,
   "metadata": {},
   "outputs": [],
   "source": [
    "salary.median()  #it's a method, which ends with ()"
   ]
  },
  {
   "cell_type": "code",
   "execution_count": null,
   "metadata": {},
   "outputs": [],
   "source": []
  },
  {
   "cell_type": "markdown",
   "metadata": {},
   "source": [
    "### string columns"
   ]
  },
  {
   "cell_type": "code",
   "execution_count": 77,
   "metadata": {},
   "outputs": [
    {
     "data": {
      "text/plain": [
       "0    Hispanic\n",
       "1    Hispanic\n",
       "2       White\n",
       "3       White\n",
       "4       White\n",
       "Name: race, dtype: object"
      ]
     },
     "execution_count": 77,
     "metadata": {},
     "output_type": "execute_result"
    }
   ],
   "source": [
    "race = emp['race']\n",
    "race.head() # columns are string. col can be string col and numeric col."
   ]
  },
  {
   "cell_type": "code",
   "execution_count": 78,
   "metadata": {},
   "outputs": [
    {
     "data": {
      "text/plain": [
       "Black              700\n",
       "White              665\n",
       "Hispanic           480\n",
       "Asian              107\n",
       "Native American     11\n",
       "Other                2\n",
       "Name: race, dtype: int64"
      ]
     },
     "execution_count": 78,
     "metadata": {},
     "output_type": "execute_result"
    }
   ],
   "source": [
    "race.value_counts()  # count the values, only works on series"
   ]
  },
  {
   "cell_type": "code",
   "execution_count": 79,
   "metadata": {},
   "outputs": [
    {
     "data": {
      "text/plain": [
       "Black              700\n",
       "White              665\n",
       "Hispanic           480\n",
       "Asian              107\n",
       "NaN                 35\n",
       "Native American     11\n",
       "Other                2\n",
       "Name: race, dtype: int64"
      ]
     },
     "execution_count": 79,
     "metadata": {},
     "output_type": "execute_result"
    }
   ],
   "source": [
    "race.value_counts(dropna = False)"
   ]
  },
  {
   "cell_type": "code",
   "execution_count": 82,
   "metadata": {},
   "outputs": [
    {
     "data": {
      "text/plain": [
       "Other                2\n",
       "Native American     11\n",
       "NaN                 35\n",
       "Asian              107\n",
       "Hispanic           480\n",
       "White              665\n",
       "Black              700\n",
       "Name: race, dtype: int64"
      ]
     },
     "execution_count": 82,
     "metadata": {},
     "output_type": "execute_result"
    }
   ],
   "source": [
    "race.value_counts(dropna = False, ascending = True)"
   ]
  },
  {
   "cell_type": "code",
   "execution_count": 85,
   "metadata": {},
   "outputs": [
    {
     "data": {
      "text/plain": [
       "Male      1397\n",
       "Female     603\n",
       "Name: gender, dtype: int64"
      ]
     },
     "execution_count": 85,
     "metadata": {},
     "output_type": "execute_result"
    }
   ],
   "source": [
    "gender = emp['gender']\n",
    "gender.value_counts(dropna = False, ascending = True, sort = False)"
   ]
  },
  {
   "cell_type": "code",
   "execution_count": 86,
   "metadata": {},
   "outputs": [
    {
     "data": {
      "text/plain": [
       "Female     603\n",
       "Male      1397\n",
       "Name: gender, dtype: int64"
      ]
     },
     "execution_count": 86,
     "metadata": {},
     "output_type": "execute_result"
    }
   ],
   "source": [
    "gender = emp['gender']\n",
    "gender.value_counts(dropna = False, ascending = True, sort = True)"
   ]
  },
  {
   "cell_type": "code",
   "execution_count": 7,
   "metadata": {},
   "outputs": [
    {
     "data": {
      "text/plain": [
       "NaN                0.0175\n",
       "Black              0.3500\n",
       "White              0.3325\n",
       "Asian              0.0535\n",
       "Native American    0.0055\n",
       "Other              0.0010\n",
       "Hispanic           0.2400\n",
       "Name: race, dtype: float64"
      ]
     },
     "execution_count": 7,
     "metadata": {},
     "output_type": "execute_result"
    }
   ],
   "source": [
    "race = emp['race']\n",
    "race.value_counts(dropna = False, ascending = True, sort = False, normalize = True)"
   ]
  },
  {
   "cell_type": "code",
   "execution_count": 9,
   "metadata": {},
   "outputs": [
    {
     "data": {
      "text/plain": [
       "NaN                0.0175\n",
       "Black              0.3500\n",
       "White              0.3325\n",
       "Asian              0.0535\n",
       "Native American    0.0055\n",
       "Other              0.0010\n",
       "Hispanic           0.2400\n",
       "Name: race, dtype: float64"
      ]
     },
     "execution_count": 9,
     "metadata": {},
     "output_type": "execute_result"
    }
   ],
   "source": [
    "race = emp['race']\n",
    "race.value_counts(dropna = False, ascending = False, sort = False, normalize = True)"
   ]
  },
  {
   "cell_type": "code",
   "execution_count": 8,
   "metadata": {},
   "outputs": [
    {
     "data": {
      "text/plain": [
       "Black              0.3500\n",
       "White              0.3325\n",
       "Hispanic           0.2400\n",
       "Asian              0.0535\n",
       "NaN                0.0175\n",
       "Native American    0.0055\n",
       "Other              0.0010\n",
       "Name: race, dtype: float64"
      ]
     },
     "execution_count": 8,
     "metadata": {},
     "output_type": "execute_result"
    }
   ],
   "source": [
    "race = emp['race']\n",
    "race.value_counts(dropna = False, ascending = False, sort = True, normalize = True)"
   ]
  },
  {
   "cell_type": "code",
   "execution_count": 4,
   "metadata": {},
   "outputs": [
    {
     "data": {
      "text/plain": [
       "Other              0.0010\n",
       "Native American    0.0055\n",
       "NaN                0.0175\n",
       "Asian              0.0535\n",
       "Hispanic           0.2400\n",
       "White              0.3325\n",
       "Black              0.3500\n",
       "Name: race, dtype: float64"
      ]
     },
     "execution_count": 4,
     "metadata": {},
     "output_type": "execute_result"
    }
   ],
   "source": [
    "race = emp['race']\n",
    "race.value_counts(dropna = False, ascending = True, sort = True, normalize = True) \n",
    "# keep the missing values. "
   ]
  },
  {
   "cell_type": "code",
   "execution_count": 12,
   "metadata": {},
   "outputs": [
    {
     "data": {
      "text/plain": [
       "(24709.959, 74968.0]    1621\n",
       "(74968.0, 124976.0]      245\n",
       "(124976.0, 174984.0]      14\n",
       "(174984.0, 224992.0]       5\n",
       "(224992.0, 275000.0]       1\n",
       "Name: salary, dtype: int64"
      ]
     },
     "execution_count": 12,
     "metadata": {},
     "output_type": "execute_result"
    }
   ],
   "source": [
    "salary = emp['salary']\n",
    "salary.value_counts(bins = 5) # make them 5 equal length bins and get the count of each interval"
   ]
  },
  {
   "cell_type": "code",
   "execution_count": 13,
   "metadata": {},
   "outputs": [
    {
     "data": {
      "text/plain": [
       "(24709.959, 74968.0]    0.8105\n",
       "(74968.0, 124976.0]     0.1225\n",
       "(124976.0, 174984.0]    0.0070\n",
       "(174984.0, 224992.0]    0.0025\n",
       "(224992.0, 275000.0]    0.0005\n",
       "Name: salary, dtype: float64"
      ]
     },
     "execution_count": 13,
     "metadata": {},
     "output_type": "execute_result"
    }
   ],
   "source": [
    "salary = emp['salary']\n",
    "salary.value_counts(bins = 5, normalize = True)"
   ]
  },
  {
   "cell_type": "code",
   "execution_count": 14,
   "metadata": {},
   "outputs": [
    {
     "data": {
      "text/plain": [
       "(24709.959, 74968.0]    0.8105\n",
       "(74968.0, 124976.0]     0.1225\n",
       "(124976.0, 174984.0]    0.0070\n",
       "(174984.0, 224992.0]    0.0025\n",
       "(224992.0, 275000.0]    0.0005\n",
       "Name: salary, dtype: float64"
      ]
     },
     "execution_count": 14,
     "metadata": {},
     "output_type": "execute_result"
    }
   ],
   "source": [
    "sal_bin = salary.value_counts(bins = 5, normalize = True)\n",
    "sal_bin.sort_index() # A serise with intrval index"
   ]
  },
  {
   "cell_type": "code",
   "execution_count": null,
   "metadata": {},
   "outputs": [],
   "source": [
    "actor1.sort_index(ascending = False)"
   ]
  },
  {
   "cell_type": "code",
   "execution_count": 16,
   "metadata": {},
   "outputs": [
    {
     "data": {
      "text/plain": [
       "91"
      ]
     },
     "execution_count": 16,
     "metadata": {},
     "output_type": "execute_result"
    }
   ],
   "source": [
    "ord('[')"
   ]
  },
  {
   "cell_type": "code",
   "execution_count": 17,
   "metadata": {},
   "outputs": [
    {
     "data": {
      "text/plain": [
       "122"
      ]
     },
     "execution_count": 17,
     "metadata": {},
     "output_type": "execute_result"
    }
   ],
   "source": [
    "ord('z')"
   ]
  },
  {
   "cell_type": "markdown",
   "metadata": {},
   "source": [
    "### value_counts"
   ]
  },
  {
   "cell_type": "code",
   "execution_count": null,
   "metadata": {},
   "outputs": [],
   "source": []
  },
  {
   "cell_type": "code",
   "execution_count": null,
   "metadata": {},
   "outputs": [],
   "source": []
  },
  {
   "cell_type": "markdown",
   "metadata": {},
   "source": [
    "### str accessor"
   ]
  },
  {
   "cell_type": "code",
   "execution_count": 19,
   "metadata": {},
   "outputs": [
    {
     "data": {
      "text/plain": [
       "0    Hispanic\n",
       "1    Hispanic\n",
       "2       White\n",
       "3       White\n",
       "4       White\n",
       "Name: race, dtype: object"
      ]
     },
     "execution_count": 19,
     "metadata": {},
     "output_type": "execute_result"
    }
   ],
   "source": [
    "race = emp['race']\n",
    "race.head()"
   ]
  },
  {
   "cell_type": "code",
   "execution_count": 24,
   "metadata": {},
   "outputs": [
    {
     "data": {
      "text/plain": [
       "0    HISPANIC\n",
       "1    HISPANIC\n",
       "2       WHITE\n",
       "3       WHITE\n",
       "4       WHITE\n",
       "Name: race, dtype: object"
      ]
     },
     "execution_count": 24,
     "metadata": {},
     "output_type": "execute_result"
    }
   ],
   "source": [
    "race.str.upper().head()\n",
    "# .str. only work for string series\n",
    "# upper: turn everything upper case"
   ]
  },
  {
   "cell_type": "code",
   "execution_count": 25,
   "metadata": {},
   "outputs": [
    {
     "data": {
      "text/plain": [
       "0    False\n",
       "1    False\n",
       "2     True\n",
       "3     True\n",
       "4     True\n",
       "Name: race, dtype: object"
      ]
     },
     "execution_count": 25,
     "metadata": {},
     "output_type": "execute_result"
    }
   ],
   "source": [
    "race.str.endswith('ite').head() # wheather ends with ite or not."
   ]
  },
  {
   "cell_type": "code",
   "execution_count": 27,
   "metadata": {},
   "outputs": [
    {
     "data": {
      "text/plain": [
       "0    8.0\n",
       "1    8.0\n",
       "2    5.0\n",
       "3    5.0\n",
       "4    5.0\n",
       "Name: race, dtype: float64"
      ]
     },
     "execution_count": 27,
     "metadata": {},
     "output_type": "execute_result"
    }
   ],
   "source": [
    "race.str.len().head() # length of every string"
   ]
  },
  {
   "cell_type": "code",
   "execution_count": 29,
   "metadata": {},
   "outputs": [
    {
     "data": {
      "text/plain": [
       "0    Hispanic\n",
       "1    Hispanic\n",
       "2       White\n",
       "3       White\n",
       "4       White\n",
       "Name: race, dtype: object"
      ]
     },
     "execution_count": 29,
     "metadata": {},
     "output_type": "execute_result"
    }
   ],
   "source": [
    "race.str.capitalize().head()"
   ]
  },
  {
   "cell_type": "code",
   "execution_count": 30,
   "metadata": {},
   "outputs": [],
   "source": [
    "emp_title = emp['title']"
   ]
  },
  {
   "cell_type": "code",
   "execution_count": 35,
   "metadata": {},
   "outputs": [
    {
     "data": {
      "text/plain": [
       "0    False\n",
       "1    False\n",
       "2    False\n",
       "3    False\n",
       "4     True\n",
       "Name: title, dtype: bool"
      ]
     },
     "execution_count": 35,
     "metadata": {},
     "output_type": "execute_result"
    }
   ],
   "source": [
    "emp_title.str.isalpha().head()"
   ]
  },
  {
   "cell_type": "code",
   "execution_count": 36,
   "metadata": {},
   "outputs": [
    {
     "data": {
      "text/plain": [
       "0    False\n",
       "1    False\n",
       "2    False\n",
       "3    False\n",
       "4    False\n",
       "Name: title, dtype: bool"
      ]
     },
     "execution_count": 36,
     "metadata": {},
     "output_type": "execute_result"
    }
   ],
   "source": [
    "emp_title.str.islower().head()"
   ]
  },
  {
   "cell_type": "code",
   "execution_count": 37,
   "metadata": {},
   "outputs": [
    {
     "ename": "TypeError",
     "evalue": "wrap() missing 1 required positional argument: 'width'",
     "output_type": "error",
     "traceback": [
      "\u001b[0;31m---------------------------------------------------------------------------\u001b[0m",
      "\u001b[0;31mTypeError\u001b[0m                                 Traceback (most recent call last)",
      "\u001b[0;32m<ipython-input-37-46e11346d239>\u001b[0m in \u001b[0;36m<module>\u001b[0;34m()\u001b[0m\n\u001b[0;32m----> 1\u001b[0;31m \u001b[0memp_title\u001b[0m\u001b[0;34m.\u001b[0m\u001b[0mstr\u001b[0m\u001b[0;34m.\u001b[0m\u001b[0mwrap\u001b[0m\u001b[0;34m(\u001b[0m\u001b[0;34m)\u001b[0m\u001b[0;34m\u001b[0m\u001b[0m\n\u001b[0m",
      "\u001b[0;31mTypeError\u001b[0m: wrap() missing 1 required positional argument: 'width'"
     ]
    }
   ],
   "source": [
    "emp_title.str.wrap()"
   ]
  },
  {
   "cell_type": "code",
   "execution_count": null,
   "metadata": {},
   "outputs": [],
   "source": []
  },
  {
   "cell_type": "markdown",
   "metadata": {},
   "source": [
    "### Datetime columns"
   ]
  },
  {
   "cell_type": "markdown",
   "metadata": {},
   "source": [
    "Notebook 4 DateTime Series"
   ]
  },
  {
   "cell_type": "code",
   "execution_count": null,
   "metadata": {},
   "outputs": [],
   "source": []
  },
  {
   "cell_type": "code",
   "execution_count": null,
   "metadata": {},
   "outputs": [],
   "source": []
  },
  {
   "cell_type": "code",
   "execution_count": null,
   "metadata": {},
   "outputs": [],
   "source": []
  },
  {
   "cell_type": "code",
   "execution_count": null,
   "metadata": {},
   "outputs": [],
   "source": []
  },
  {
   "cell_type": "code",
   "execution_count": null,
   "metadata": {},
   "outputs": [],
   "source": []
  },
  {
   "cell_type": "code",
   "execution_count": null,
   "metadata": {},
   "outputs": [],
   "source": []
  },
  {
   "cell_type": "code",
   "execution_count": null,
   "metadata": {},
   "outputs": [],
   "source": []
  },
  {
   "cell_type": "code",
   "execution_count": null,
   "metadata": {},
   "outputs": [],
   "source": []
  },
  {
   "cell_type": "code",
   "execution_count": null,
   "metadata": {},
   "outputs": [],
   "source": []
  },
  {
   "cell_type": "code",
   "execution_count": null,
   "metadata": {},
   "outputs": [],
   "source": []
  },
  {
   "cell_type": "code",
   "execution_count": null,
   "metadata": {},
   "outputs": [],
   "source": []
  }
 ],
 "metadata": {
  "kernelspec": {
   "display_name": "Python 3",
   "language": "python",
   "name": "python3"
  },
  "language_info": {
   "codemirror_mode": {
    "name": "ipython",
    "version": 3
   },
   "file_extension": ".py",
   "mimetype": "text/x-python",
   "name": "python",
   "nbconvert_exporter": "python",
   "pygments_lexer": "ipython3",
   "version": "3.6.4"
  }
 },
 "nbformat": 4,
 "nbformat_minor": 2
}
