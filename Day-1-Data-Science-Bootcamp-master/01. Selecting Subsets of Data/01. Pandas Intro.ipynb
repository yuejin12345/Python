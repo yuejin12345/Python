{
 "cells": [
  {
   "cell_type": "markdown",
   "metadata": {},
   "source": [
    "# 1. Pandas Intro\n",
    "\n",
    "### Objectives\n",
    "After this lesson you should be able to...\n",
    "\n",
    "+ Get help by knowing your object, reading documentation and using inline commands\n",
    "+ Know why Pandas is more suitable for data analysis than Python lists\n",
    "+ Know the anatomy of a DataFrame and a Series\n",
    "+ Identify a Series as a single dimensional data structure with an **index** and **values**\n",
    "+ Identify a DataFrame as a two dimensional data structure with an **index**, **columns**, and **values**\n",
    "+ Know the difference between an **index** and **values**\n",
    "+ Know all the possible column data types\n",
    "+ Know that each value in a column must be of the same data type\n",
    "+ Know the representations of missing values and which ones are used for each data type\n",
    "+ Know how to get metadata with **`info`**, **`shape`**, and **`size`**\n",
    "\n",
    "### Prepare for this lesson by...\n",
    "\n",
    "+ Read the [Package Overview](http://pandas.pydata.org/pandas-docs/stable/overview.html)\n",
    "+ Read [Intro to Data Structures](http://pandas.pydata.org/pandas-docs/stable/dsintro.html) - **just the Series and DataFrame sections**"
   ]
  },
  {
   "cell_type": "markdown",
   "metadata": {},
   "source": [
    "# Welcome to ....\n",
    "![][1]\n",
    "\n",
    "\n",
    "### What is Pandas?\n",
    "Pandas is one of the better open source data exploration libraries currently available. It gives the user power to explore, manipulate, query, aggregate, and visualize **tabular** data. Tabular meaning data that is two dimensional with rows and columns, i.e. a table.\n",
    "\n",
    "### Why Pandas and not xyz?\n",
    "In this current age of data explosion, there are now many dozens of other tools that can do many, if not more, than what the Pandas library can do. However, there are many aspects of Pandas that set it apart and it continues to have one of the fastest growing user bases.\n",
    "\n",
    "* It's a Python library, which makes it easy to read, easy to develop, and easily integrates with other popular data science libraries like numpy, scikit-learn, statsmodels, matplotlib and seaborn.\n",
    "* It is nearly self-contained in that lots of functionality is built into one package. This contrasts with R, where many packages are needed to obtain the same functionality.\n",
    "* The community is amazing. Looking at Stack Overflow, for example, there are [many ten's of thousands of][2] Pandas questions. SAS, a multi-billion dollar revenue analytics software maker has only a fraction of the questions. This is one huge benefit of open source in general. If you need help, you are nearly guaranteed to find it very quickly. After a while most of your questions will be answered in the top few search engine results.\n",
    "\n",
    "### Why is it named after an east Asian bear?\n",
    "\n",
    "Pandas was built by Wes McKinney beginning in 2008 at a hedge fund named AQR. Finance speak is to call tabular data 'panel data' which smashed together becomes Pandas. If you are really interested in the history, you can hear it from the creator [himself][3].\n",
    "\n",
    "### Python already has data structures to handle data, why do we need another one?\n",
    "Even though Python itself is a high level language, its primary built-in data structures - lists and dicts - do not easily lend themselves to tabular data in ways that humans can operate on them. Just summing items in a list can be quite slow.\n",
    "\n",
    "### NumPy\n",
    "NumPy ('numerical Python') is the most popular third-party Python library for scientific computing and forms the foundation for dozens of others, including Pandas. NumPy's primary data structure is an n-dimensional array which is much more powerful than a Python list and with much better performance.\n",
    "\n",
    "### Pandas is built directly on NumPy\n",
    "All of the data in Pandas is stored in NumPy arrays. That said, it isn't necessary to know much about NumPy when learning Pandas. You can think of Pandas as a higher-level, easier to use interface to doing data analysis than NumPy. It is a good idea to eventually learn NumPy, but for most tasks, Pandas will be the right tool.\n",
    "\n",
    "### NumPy vs built-in list performance difference\n",
    "Let's see the performance difference between summing a NumPy array with one million elements vs a built-in list with the same number of elements.\n",
    "\n",
    "[1]: images/pandas.png\n",
    "[2]: http://stackoverflow.com/questions/tagged/pandas\n",
    "[3]: https://www.youtube.com/watch?v=kHdkFyGCxiY"
   ]
  },
  {
   "cell_type": "code",
   "execution_count": null,
   "metadata": {},
   "outputs": [],
   "source": [
    "# create a list of 1 million integers\n",
    "n = 1000000\n",
    "my_list = list(range(n))"
   ]
  },
  {
   "cell_type": "markdown",
   "metadata": {},
   "source": [
    "### Timing Code Execution with %timeit\n",
    "**`%timeit`** is a magic command that times the execution of a the first statement in a particular cell. The option **`-r`** controls the number of runs and **`-n`** controls the number of iterations with each run."
   ]
  },
  {
   "cell_type": "code",
   "execution_count": null,
   "metadata": {},
   "outputs": [],
   "source": [
    "%timeit -r 3 -n 5 sum(my_list)"
   ]
  },
  {
   "cell_type": "markdown",
   "metadata": {},
   "source": [
    "#### Compare to NumPy array\n",
    "We will import NumPy, create an array with the same elements with the **`arange`** function, and time its summation."
   ]
  },
  {
   "cell_type": "code",
   "execution_count": null,
   "metadata": {},
   "outputs": [],
   "source": [
    "import numpy as np"
   ]
  },
  {
   "cell_type": "code",
   "execution_count": null,
   "metadata": {},
   "outputs": [],
   "source": [
    "# create array with arange function.\n",
    "array = np.arange(n)\n",
    "array"
   ]
  },
  {
   "cell_type": "code",
   "execution_count": null,
   "metadata": {},
   "outputs": [],
   "source": [
    "%timeit -r 3 -n 5 array.sum()"
   ]
  },
  {
   "cell_type": "markdown",
   "metadata": {},
   "source": [
    "### Performance difference\n",
    "Using the built-in **`sum`** function with a list took approximately 10 times longer than using NumPy's array and this was just a simple sum of a list of numbers. This difference increases with the complexity of the operation performed on the data.\n",
    "\n",
    "### Why is NumPy so fast?\n",
    "NumPy array operations are executed in pre-compiled C code which makes for much faster execution times. A Python list, in contrast, must be iterated through at run-time, can take any number of different types so is not optimized for large numerical computations. \n",
    "\n",
    "### Why not NumPy?\n",
    "Though NumPy is fast and can handle most of our data needs, it is still relatively low-level. Pandas allows easier access to rows and columns, powerful statistical functionality, heterogeneous data, enhanced merging and grouping, and many more data manipulation abilities. \n",
    "\n",
    "More info on NumPy can be found [in the official documentation][2]. We will be using some NumPy directly in this course.\n",
    "\n",
    "### More on magic commands\n",
    "iPython comes with handy dandy magic commands that give you some great extra functionality. The one I use the most is **`timeit`** which times the length of the operation. Magic commands are not Python syntax and only within iPython or Jupyter notebooks. \n",
    "\n",
    "Precede the command by `%` for a single line magic and `%%` for entire cell magic. See the [documentation][1] for a huge list of more magic commands.\n",
    "\n",
    "There is even a magic command to list all the magic commands - see below:\n",
    "\n",
    "[1]: http://ipython.readthedocs.io/en/stable/interactive/magics.html\n",
    "[2]: https://docs.scipy.org/doc/numpy/user/index.html"
   ]
  },
  {
   "cell_type": "code",
   "execution_count": null,
   "metadata": {},
   "outputs": [],
   "source": [
    "# view all the iPython magic commands\n",
    "%lsmagic"
   ]
  },
  {
   "cell_type": "markdown",
   "metadata": {},
   "source": [
    "# Pandas uses tabular (table) data\n",
    "\n",
    "There are numerous formats for data such as XML, JSON, raw bytes, and many others. But, for our purposes, we will only be examining what everyone thinks of when the they think of data - a table. Pandas is built just for analyzing this tabular, rectangular, very deceptively normal concept of data. \n",
    "\n",
    "There are two primary Pandas objects that account for nearly everything we will be covering. \n",
    "\n",
    "### Series and the DataFrame\n",
    "\n",
    "The **Series** is a single dimension of data. Think of a one dimensional array.\n",
    "\n",
    "The **DataFrame** is our two-dimensional data structure that looks like any other table of data you have seen with rows and columns.\n",
    "\n",
    "# Import Pandas and read in data\n",
    "By convention pandas is imported and aliased as **`pd`**. We will read in the **`bikes`** dataset with the **`read_csv`** function. Its first parameter is the location of the file relative to the current directory. All the data for this class is stored in the **`data`** directory one level above where this notebook is located. \n",
    "\n",
    "The two dots in the path passed to **`read_csv`** are interpreted as the directory immediately above the current one."
   ]
  },
  {
   "cell_type": "code",
   "execution_count": 34,
   "metadata": {},
   "outputs": [],
   "source": [
    "import pandas as pd # one lib (eg: Pandas) may consisit of a lot of libraries. PANDAS is a 3rd party libr + many tools. \n",
    "#bikes = pd.read_csv('../data/bikes.csv', parse_dates = ['startime', 'stoptime']) \n",
    "bikes = pd.read_csv('../data/bikes.csv') \n",
    "#referencing pandas here pd. , which means read_csv is in the pandas library"
   ]
  },
  {
   "cell_type": "markdown",
   "metadata": {},
   "source": [
    "## Display DataFrame in Jupyter Notebook\n",
    "We assigned the output from the **`read_csv`** function to the **`bikes`** variable which is now our DataFrame. Display it by putting the variable name as the last line in a code cell."
   ]
  },
  {
   "cell_type": "code",
   "execution_count": 8,
   "metadata": {},
   "outputs": [
    {
     "data": {
      "text/html": [
       "<div>\n",
       "<style scoped>\n",
       "    .dataframe tbody tr th:only-of-type {\n",
       "        vertical-align: middle;\n",
       "    }\n",
       "\n",
       "    .dataframe tbody tr th {\n",
       "        vertical-align: top;\n",
       "    }\n",
       "\n",
       "    .dataframe thead th {\n",
       "        text-align: right;\n",
       "    }\n",
       "</style>\n",
       "<table border=\"1\" class=\"dataframe\">\n",
       "  <thead>\n",
       "    <tr style=\"text-align: right;\">\n",
       "      <th></th>\n",
       "      <th>trip_id</th>\n",
       "      <th>usertype</th>\n",
       "      <th>gender</th>\n",
       "      <th>starttime</th>\n",
       "      <th>stoptime</th>\n",
       "      <th>tripduration</th>\n",
       "      <th>from_station_name</th>\n",
       "      <th>latitude_start</th>\n",
       "      <th>longitude_start</th>\n",
       "      <th>dpcapacity_start</th>\n",
       "      <th>to_station_name</th>\n",
       "      <th>latitude_end</th>\n",
       "      <th>longitude_end</th>\n",
       "      <th>dpcapacity_end</th>\n",
       "      <th>temperature</th>\n",
       "      <th>visibility</th>\n",
       "      <th>wind_speed</th>\n",
       "      <th>precipitation</th>\n",
       "      <th>events</th>\n",
       "    </tr>\n",
       "  </thead>\n",
       "  <tbody>\n",
       "    <tr>\n",
       "      <th>0</th>\n",
       "      <td>7147</td>\n",
       "      <td>Subscriber</td>\n",
       "      <td>Male</td>\n",
       "      <td>2013-06-28 19:01:00</td>\n",
       "      <td>2013-06-28 19:17:00</td>\n",
       "      <td>993</td>\n",
       "      <td>Lake Shore Dr &amp; Monroe St</td>\n",
       "      <td>41.881050</td>\n",
       "      <td>-87.616970</td>\n",
       "      <td>11.0</td>\n",
       "      <td>Michigan Ave &amp; Oak St</td>\n",
       "      <td>41.900960</td>\n",
       "      <td>-87.623777</td>\n",
       "      <td>15.0</td>\n",
       "      <td>73.9</td>\n",
       "      <td>10.0</td>\n",
       "      <td>12.7</td>\n",
       "      <td>-9999.0</td>\n",
       "      <td>mostlycloudy</td>\n",
       "    </tr>\n",
       "    <tr>\n",
       "      <th>1</th>\n",
       "      <td>7524</td>\n",
       "      <td>Subscriber</td>\n",
       "      <td>Male</td>\n",
       "      <td>2013-06-28 22:53:00</td>\n",
       "      <td>2013-06-28 23:03:00</td>\n",
       "      <td>623</td>\n",
       "      <td>Clinton St &amp; Washington Blvd</td>\n",
       "      <td>41.883380</td>\n",
       "      <td>-87.641170</td>\n",
       "      <td>31.0</td>\n",
       "      <td>Wells St &amp; Walton St</td>\n",
       "      <td>41.899930</td>\n",
       "      <td>-87.634430</td>\n",
       "      <td>19.0</td>\n",
       "      <td>69.1</td>\n",
       "      <td>10.0</td>\n",
       "      <td>6.9</td>\n",
       "      <td>-9999.0</td>\n",
       "      <td>partlycloudy</td>\n",
       "    </tr>\n",
       "    <tr>\n",
       "      <th>2</th>\n",
       "      <td>10927</td>\n",
       "      <td>Subscriber</td>\n",
       "      <td>Male</td>\n",
       "      <td>2013-06-30 14:43:00</td>\n",
       "      <td>2013-06-30 15:01:00</td>\n",
       "      <td>1040</td>\n",
       "      <td>Sheffield Ave &amp; Kingsbury St</td>\n",
       "      <td>41.909592</td>\n",
       "      <td>-87.653497</td>\n",
       "      <td>15.0</td>\n",
       "      <td>Dearborn St &amp; Monroe St</td>\n",
       "      <td>41.881320</td>\n",
       "      <td>-87.629521</td>\n",
       "      <td>23.0</td>\n",
       "      <td>73.0</td>\n",
       "      <td>10.0</td>\n",
       "      <td>16.1</td>\n",
       "      <td>-9999.0</td>\n",
       "      <td>mostlycloudy</td>\n",
       "    </tr>\n",
       "    <tr>\n",
       "      <th>3</th>\n",
       "      <td>12907</td>\n",
       "      <td>Subscriber</td>\n",
       "      <td>Male</td>\n",
       "      <td>2013-07-01 10:05:00</td>\n",
       "      <td>2013-07-01 10:16:00</td>\n",
       "      <td>667</td>\n",
       "      <td>Carpenter St &amp; Huron St</td>\n",
       "      <td>41.894556</td>\n",
       "      <td>-87.653449</td>\n",
       "      <td>19.0</td>\n",
       "      <td>Clark St &amp; Randolph St</td>\n",
       "      <td>41.884576</td>\n",
       "      <td>-87.631890</td>\n",
       "      <td>31.0</td>\n",
       "      <td>72.0</td>\n",
       "      <td>10.0</td>\n",
       "      <td>16.1</td>\n",
       "      <td>-9999.0</td>\n",
       "      <td>mostlycloudy</td>\n",
       "    </tr>\n",
       "    <tr>\n",
       "      <th>4</th>\n",
       "      <td>13168</td>\n",
       "      <td>Subscriber</td>\n",
       "      <td>Male</td>\n",
       "      <td>2013-07-01 11:16:00</td>\n",
       "      <td>2013-07-01 11:18:00</td>\n",
       "      <td>130</td>\n",
       "      <td>Damen Ave &amp; Pierce Ave</td>\n",
       "      <td>41.909396</td>\n",
       "      <td>-87.677692</td>\n",
       "      <td>19.0</td>\n",
       "      <td>Damen Ave &amp; Pierce Ave</td>\n",
       "      <td>41.909396</td>\n",
       "      <td>-87.677692</td>\n",
       "      <td>19.0</td>\n",
       "      <td>73.0</td>\n",
       "      <td>10.0</td>\n",
       "      <td>17.3</td>\n",
       "      <td>-9999.0</td>\n",
       "      <td>partlycloudy</td>\n",
       "    </tr>\n",
       "  </tbody>\n",
       "</table>\n",
       "</div>"
      ],
      "text/plain": [
       "   trip_id    usertype gender            starttime             stoptime  \\\n",
       "0     7147  Subscriber   Male  2013-06-28 19:01:00  2013-06-28 19:17:00   \n",
       "1     7524  Subscriber   Male  2013-06-28 22:53:00  2013-06-28 23:03:00   \n",
       "2    10927  Subscriber   Male  2013-06-30 14:43:00  2013-06-30 15:01:00   \n",
       "3    12907  Subscriber   Male  2013-07-01 10:05:00  2013-07-01 10:16:00   \n",
       "4    13168  Subscriber   Male  2013-07-01 11:16:00  2013-07-01 11:18:00   \n",
       "\n",
       "   tripduration             from_station_name  latitude_start  \\\n",
       "0           993     Lake Shore Dr & Monroe St       41.881050   \n",
       "1           623  Clinton St & Washington Blvd       41.883380   \n",
       "2          1040  Sheffield Ave & Kingsbury St       41.909592   \n",
       "3           667       Carpenter St & Huron St       41.894556   \n",
       "4           130        Damen Ave & Pierce Ave       41.909396   \n",
       "\n",
       "   longitude_start  dpcapacity_start          to_station_name  latitude_end  \\\n",
       "0       -87.616970              11.0    Michigan Ave & Oak St     41.900960   \n",
       "1       -87.641170              31.0     Wells St & Walton St     41.899930   \n",
       "2       -87.653497              15.0  Dearborn St & Monroe St     41.881320   \n",
       "3       -87.653449              19.0   Clark St & Randolph St     41.884576   \n",
       "4       -87.677692              19.0   Damen Ave & Pierce Ave     41.909396   \n",
       "\n",
       "   longitude_end  dpcapacity_end  temperature  visibility  wind_speed  \\\n",
       "0     -87.623777            15.0         73.9        10.0        12.7   \n",
       "1     -87.634430            19.0         69.1        10.0         6.9   \n",
       "2     -87.629521            23.0         73.0        10.0        16.1   \n",
       "3     -87.631890            31.0         72.0        10.0        16.1   \n",
       "4     -87.677692            19.0         73.0        10.0        17.3   \n",
       "\n",
       "   precipitation        events  \n",
       "0        -9999.0  mostlycloudy  \n",
       "1        -9999.0  partlycloudy  \n",
       "2        -9999.0  mostlycloudy  \n",
       "3        -9999.0  mostlycloudy  \n",
       "4        -9999.0  partlycloudy  "
      ]
     },
     "execution_count": 8,
     "metadata": {},
     "output_type": "execute_result"
    }
   ],
   "source": [
    "bikes.head()"
   ]
  },
  {
   "cell_type": "markdown",
   "metadata": {},
   "source": [
    "## Default output\n",
    "Pandas defaults to outputting 60 rows and 20 columns. These display options (and many others) can be changed and will be shown later.\n",
    "\n",
    "## Our first methods, `head`, and `tail`\n",
    "A very useful and simple method is **`head`**, which by default will return the first 5 rows of the DataFrame. This avoids the long default output and something I highly recommend. The **`tail`** method returns the last 5 rows by default."
   ]
  },
  {
   "cell_type": "code",
   "execution_count": null,
   "metadata": {},
   "outputs": [],
   "source": [
    "bikes.head()"
   ]
  },
  {
   "cell_type": "code",
   "execution_count": null,
   "metadata": {},
   "outputs": [],
   "source": [
    "bikes.tail()"
   ]
  },
  {
   "cell_type": "markdown",
   "metadata": {},
   "source": [
    "## First and Last `n` rows\n",
    "Both the **`head`** and **`tail`** methods take a single parameter **`n`** which control the number of rows to return:"
   ]
  },
  {
   "cell_type": "code",
   "execution_count": null,
   "metadata": {},
   "outputs": [],
   "source": [
    "bikes.head(8)"
   ]
  },
  {
   "cell_type": "code",
   "execution_count": 35,
   "metadata": {},
   "outputs": [
    {
     "data": {
      "text/plain": [
       "trip_id                int64\n",
       "usertype              object\n",
       "gender                object\n",
       "starttime             object\n",
       "stoptime              object\n",
       "tripduration           int64\n",
       "from_station_name     object\n",
       "latitude_start       float64\n",
       "longitude_start      float64\n",
       "dpcapacity_start     float64\n",
       "to_station_name       object\n",
       "latitude_end         float64\n",
       "longitude_end        float64\n",
       "dpcapacity_end       float64\n",
       "temperature          float64\n",
       "visibility           float64\n",
       "wind_speed           float64\n",
       "precipitation        float64\n",
       "events                object\n",
       "dtype: object"
      ]
     },
     "execution_count": 35,
     "metadata": {},
     "output_type": "execute_result"
    }
   ],
   "source": [
    "bikes.dtypes"
   ]
  },
  {
   "cell_type": "markdown",
   "metadata": {},
   "source": [
    "# Components of a DataFrame - Columns, Index, and Data\n",
    "The DataFrame is composed of three separate components that you must know. The **Columns**, the **Index**, and the **Data**. These terms will be used throughout the course and understanding them is vital to your ability to use Pandas.\n",
    "\n",
    "Take a look at the following graphic of our bikes DataFrame stylized to put emphasis on each component.\n",
    "\n",
    "![][1]\n",
    "\n",
    "* The **index** labels the rows\n",
    "* The **columns** label the columns\n",
    "* The **index** is also referred to as the **row names/labels**\n",
    "* The **columns** are also referred to as the **column names/lables** or the **column index**\n",
    "* An individual element of the index is referred to as an **index label/name** or **row label/name**\n",
    "* An individual element of the columns is a **column name/label**\n",
    "* The index and the columns are always in **bold font**\n",
    "* Collectively the index and the columns are known as the **axes** (or individually as an **axis**)\n",
    "* Pandas uses integers to refer to each axis. **0** for the index and **1** for the columns. This is borrowed directly from NumPy\n",
    "* The actual **data** is always in normal font\n",
    "* Data is also referred to as the **values**\n",
    "\n",
    "\n",
    "[1]: images/df_components.png"
   ]
  },
  {
   "cell_type": "markdown",
   "metadata": {},
   "source": [
    "# What type of object is `bikes`\n",
    "As we said previously **`bikes`** is a DataFrame. Let's verify this:"
   ]
  },
  {
   "cell_type": "code",
   "execution_count": null,
   "metadata": {},
   "outputs": [],
   "source": [
    "type(bikes)"
   ]
  },
  {
   "cell_type": "markdown",
   "metadata": {},
   "source": [
    "### Fully-qualified name\n",
    "Remember that only the word after the last dot is the class name. The **`bikes`** variable has type **`DataFrame`**. Python always returns the location and module name of where the class was defined. \n",
    "\n",
    "### Location and module name?\n",
    "The fully-qualified name holds the location in your computer where the class is defined. In this example, **`pandas`** is a directory that contains another directory **`core`** which contains a file **`frame.py`** which defines the **`DataFrame`** class.\n",
    "\n",
    "### Package, sub-package, and module\n",
    "The top level directory of other files and directories containing Python files is technically called a **package**. In this example **`pandas`** is the package. All directories within the package are called **sub-packages** such as **`core`**. All Python files (those ending in .py) are called **modules**.\n",
    "\n",
    "### Where are the packages located?\n",
    "Third-party packages are installed in the **`site-packages`** directory which itself is set up during Python installation. We can get the actual location with the help of the built-in **`site`** module's **`getsitepackages`** function."
   ]
  },
  {
   "cell_type": "code",
   "execution_count": null,
   "metadata": {},
   "outputs": [],
   "source": [
    "import site"
   ]
  },
  {
   "cell_type": "code",
   "execution_count": null,
   "metadata": {},
   "outputs": [],
   "source": [
    "site.getsitepackages()"
   ]
  },
  {
   "cell_type": "markdown",
   "metadata": {},
   "source": [
    "# Select a single column from a DataFrame - a Series\n",
    "To select a single column from a DataFrame, pass the name of one of the columns to the indexing operator, **`[]`**. The returned object will be a Pandas Series. Let's choose the column name **`tripduration`**, assign it to a variable, and output it to the screen."
   ]
  },
  {
   "cell_type": "code",
   "execution_count": null,
   "metadata": {},
   "outputs": [],
   "source": [
    "trip_duration = bikes['tripduration']\n",
    "trip_duration"
   ]
  },
  {
   "cell_type": "markdown",
   "metadata": {},
   "source": [
    "# `head` and `tail` methods work the same with a Series\n",
    "Use the **`head`** and **`tail`** methods to condense the output."
   ]
  },
  {
   "cell_type": "code",
   "execution_count": null,
   "metadata": {},
   "outputs": [],
   "source": [
    "trip_duration.tail(3)"
   ]
  },
  {
   "cell_type": "markdown",
   "metadata": {},
   "source": [
    "# Components of a Series - Index and Data\n",
    "A Series is simpler than a DataFrame with just a single dimension of data. It has two components - the **index** and the **data**. It is essentially a one-column DataFrame. Let's take a look at a stylized Series graphic.\n",
    "\n",
    "![](images/series_components.png)\n",
    "\n",
    "The definition for the index and data components are the same as they are for a DataFrame.\n",
    "\n",
    "### Output of Series vs DataFrame\n",
    "Notice that there is no nice HTML styling for the Series. It's just plain text. Also, below each Series will be some metadata on it - the **name**, **length**, and **dtype**. \n",
    "\n",
    "* The **name** is not important right now, but if the Series is formed from a column of a DataFrame it will be set to that column name.\n",
    "* The **length** is simply the number of values in the Series\n",
    "* The **dtype** is the data type of the Series. Each column of data must be of only one particular data type. These will be covered in depth later.\n",
    "\n",
    "It's important to note that this metadata is NOT part of the Series itself and just some extra info Pandas outputs for your information."
   ]
  },
  {
   "cell_type": "markdown",
   "metadata": {},
   "source": [
    "# Data  Types \n",
    "Each column of data in Pandas DataFrame has a **data type**. This is a very similar concept to types in Python. Just like every object has a type, every column has a data type. Every value in each column must be of the same data type.\n",
    "\n",
    "## Most Common Data Types\n",
    "The following are the most common data types that appear frequently in DataFrames. \n",
    "\n",
    "* **Boolean**\n",
    "* **Integer**\n",
    "* **Float**\n",
    "* **Object** (mainly strings)\n",
    "* **DateTime** (a specific moment in time)\n",
    "\n",
    "### Other Data Types\n",
    "There are three other data types that are less common. We will cover them when necessary.\n",
    "\n",
    "* **Category**\n",
    "* **TimeDelta** (a specific amount of time)\n",
    "* **Period** (a specific time period)\n",
    "\n",
    "### More on the primary data types\n",
    "\n",
    "#### Boolean\n",
    "Boolean columns contain only two values: **`True`** and **`False`**\n",
    "\n",
    "#### Integer\n",
    "Whole numbers without a decimal\n",
    "\n",
    "#### Float\n",
    "Numbers with decimals\n",
    "\n",
    "#### Object\n",
    "\n",
    "When Pandas deal with text data, usually it's a string column.\n",
    "\n",
    "This object data type is a bit confusing. It means that each value in the column can be any valid Python object. But, nearly all of the time, object data type columns contain **strings**. They can contain any other Python object such as integers, floats, or even complex types such as lists or dictionaries.\n",
    "\n",
    "When you see **object** as a data type you should think of **string**.\n",
    "\n",
    "#### DateTime\n",
    "A DateTime is a specific moment in time with both a **date** (month, year, day) and a **time** (hour, minute, second, fraction of a second). All DateTimes in Pandas have nanosecond precision - 1 billionth of a second.\n",
    "\n",
    "# Missing Values\n",
    "Missing value representation is actually a fairly complex issue. If you are curious you can read a [small manifesto][1] on it from the NumPy developers.\n",
    "\n",
    "## Missing Value Representation, `NaN`,  `None`, and `NaT`\n",
    "Pandas represents missing values differently based on the data type of the column.\n",
    "\n",
    "### Where do these missing values come from?\n",
    "* **`NaN`** stands for **not a number** and is technically a floating point value\n",
    "* **`None`** is the literal Python object **`None`**. This will only be found in **object** columns\n",
    "* **`NaT`** stands for not a time and is used for missing values in DateTime, TimeDelta, and Period columns\n",
    "\n",
    "### Missing values for each data type\n",
    "**Booleans and integers** do not have any representation for missing values. This is unfortunate, but a current limitation. If you have booleans or integers in your data that have missing values they will be coerced to floats.\n",
    "\n",
    "**Floats** use only **`NaN`** as the missing value.  \n",
    "\n",
    "**Object** can be any valid Python object so technically you may see **`NaN`**, **`None`**, or **`NaT`** but primarily you will see **`None`** used in object columns.\n",
    "\n",
    "**Datetime**, **TimeDelta**, **Period** will only use **`NaT`** as the missing value.\n",
    "\n",
    "# Finding the data types of each column\n",
    "The **`dtypes`** DataFrame method returns the data type of each column. Let's get the data types of our **`bikes`** DataFrame.\n",
    "\n",
    "[1]: https://docs.scipy.org/doc/numpy/neps/missing-data.html"
   ]
  },
  {
   "cell_type": "code",
   "execution_count": null,
   "metadata": {},
   "outputs": [],
   "source": [
    "bikes.dtypes"
   ]
  },
  {
   "cell_type": "markdown",
   "metadata": {},
   "source": [
    "# Think string whenever you see object\n",
    "Pandas does not have a string data type like most databases but when you see **object** you should assume that the column consists entirely of strings.\n",
    "\n",
    "# Why are `starttime` and `stoptime` object data types?\n",
    "If you look at the output of the **`bikes`** DataFrame, it's apparent that both the **`starttime`** and **`stoptime`** columns are DateTimes but our last output from above is stating that they are objects.\n",
    "\n",
    "When reading in a text file like we did with **`bikes.csv`** it's impossible for Pandas to know the data type of each column so it makes assumptions as it's reading it in. We can force Pandas to read these columns as DateTimes with the **`parse_dates`** parameter of the **`read_csv`** function. We must pass it a list of the columns we would like to make datetimes.\n",
    "\n",
    "Let's re-read the data:"
   ]
  },
  {
   "cell_type": "code",
   "execution_count": 31,
   "metadata": {},
   "outputs": [],
   "source": [
    "bikes = pd.read_csv('../data/bikes.csv', parse_dates=['starttime', 'stoptime'])"
   ]
  },
  {
   "cell_type": "code",
   "execution_count": 32,
   "metadata": {},
   "outputs": [
    {
     "data": {
      "text/plain": [
       "trip_id                       int64\n",
       "usertype                     object\n",
       "gender                       object\n",
       "starttime            datetime64[ns]\n",
       "stoptime             datetime64[ns]\n",
       "tripduration                  int64\n",
       "from_station_name            object\n",
       "latitude_start              float64\n",
       "longitude_start             float64\n",
       "dpcapacity_start            float64\n",
       "to_station_name              object\n",
       "latitude_end                float64\n",
       "longitude_end               float64\n",
       "dpcapacity_end              float64\n",
       "temperature                 float64\n",
       "visibility                  float64\n",
       "wind_speed                  float64\n",
       "precipitation               float64\n",
       "events                       object\n",
       "dtype: object"
      ]
     },
     "execution_count": 32,
     "metadata": {},
     "output_type": "execute_result"
    }
   ],
   "source": [
    "bikes.dtypes"
   ]
  },
  {
   "cell_type": "markdown",
   "metadata": {},
   "source": [
    "# What are all those 64's at the end of the data types?\n",
    "Integers, floats, DateTimes and TimeDeltas all use a particular amount of memory for each of their values. The memory is measured in **`bits`**. By default Pandas uses 64 bits to represent integers, floats, DateTimes, and TimeDeltas. It is possible to use a different number of bits for integers and floats. \n",
    "\n",
    "Integers can be either 8, 16, 32, or 64 bits while floats can be 16, 32, 64, or 128. For instance, a 128-bit float column will show up as **`float128`**. \n",
    "\n",
    "Technically a **`float128`** is a different data type than a **`float64`** but generally you will never have to worry about such a distinction as the operations between different float columns will be the same. It's also very rare to see anything other than 64 bit integer or floats since that is the default and you would need to manually change their size to get a different type.\n",
    "\n",
    "**Booleans** are stored as a 8-bits, also known as a single **byte**. DateTimes and TimeDeltas are always stored as 64-bits. **Objects** can store any Python object, so there is no set amount of memory for each of their values."
   ]
  },
  {
   "cell_type": "markdown",
   "metadata": {},
   "source": [
    "# Getting more Metadata\n",
    "Metadata is data on the data. The data type of each column is an example of **metadata**. The number of rows and columns is another piece of metadata. We find this with the **`shape`** attribute:"
   ]
  },
  {
   "cell_type": "code",
   "execution_count": null,
   "metadata": {},
   "outputs": [],
   "source": [
    "bikes.shape"
   ]
  },
  {
   "cell_type": "markdown",
   "metadata": {},
   "source": [
    "### Total number of elements with `size` attribute\n",
    "The **`size`** attribute returns the total number of elements (the number of columns multiplied by the number of rows):"
   ]
  },
  {
   "cell_type": "code",
   "execution_count": null,
   "metadata": {},
   "outputs": [],
   "source": [
    "bikes.size"
   ]
  },
  {
   "cell_type": "markdown",
   "metadata": {},
   "source": [
    "### Get Data Types plus more with the `info` method\n",
    "The **`info`** DataFrame method retuns output similar to **`dtypes`** but also returns the number of non-missing values in each column along with more info such as the \n",
    "* Type of object (always a DataFrame)\n",
    "* The type of index and number of rows\n",
    "* The number of columns\n",
    "* The data types of each column and the number of non-missing (a.k.a non-null)\n",
    "* The frequency count of all data types\n",
    "* The total memory usage"
   ]
  },
  {
   "cell_type": "code",
   "execution_count": null,
   "metadata": {},
   "outputs": [],
   "source": [
    "bikes.info()"
   ]
  },
  {
   "cell_type": "markdown",
   "metadata": {},
   "source": [
    "# Exercises\n",
    "Use the **`bikes`** DataFrame for the following:"
   ]
  },
  {
   "cell_type": "markdown",
   "metadata": {},
   "source": [
    "### Problem 1\n",
    "<span  style=\"color:green; font-size:16px\">Select the column **`events`**, the type of weather that was recorded and assign it to a variable with the same name. Output the first 10 values of it.</span>"
   ]
  },
  {
   "cell_type": "code",
   "execution_count": 20,
   "metadata": {},
   "outputs": [
    {
     "name": "stdout",
     "output_type": "stream",
     "text": [
      "0    mostlycloudy\n",
      "1    partlycloudy\n",
      "2    mostlycloudy\n",
      "3    mostlycloudy\n",
      "4    partlycloudy\n",
      "5    mostlycloudy\n",
      "6          cloudy\n",
      "7          cloudy\n",
      "8          cloudy\n",
      "9    mostlycloudy\n",
      "Name: events, dtype: object\n"
     ]
    }
   ],
   "source": [
    "# your code here\n",
    "event = bikes['events']\n",
    "print(event.head(10))"
   ]
  },
  {
   "cell_type": "markdown",
   "metadata": {},
   "source": [
    "### Problem 2\n",
    "<span  style=\"color:green; font-size:16px\">What type of object is **`events`**?</span>"
   ]
  },
  {
   "cell_type": "code",
   "execution_count": 14,
   "metadata": {},
   "outputs": [
    {
     "data": {
      "text/plain": [
       "pandas.core.series.Series"
      ]
     },
     "execution_count": 14,
     "metadata": {},
     "output_type": "execute_result"
    }
   ],
   "source": [
    "# your code here\n",
    "#bikes['events'].dtype\n",
    "type(bikes['events'])"
   ]
  },
  {
   "cell_type": "markdown",
   "metadata": {},
   "source": [
    "### Problem 3\n",
    "<span  style=\"color:green; font-size:16px\">Select the last 2 rows of the **`bikes`** DataFrame and assign it to the variable **`bikes_last_2`**. What type of object is **`bikes_last_2`**?</span>"
   ]
  },
  {
   "cell_type": "code",
   "execution_count": 18,
   "metadata": {},
   "outputs": [],
   "source": [
    "# your code here\n",
    "bikes_last_2 = bikes.tail(2)"
   ]
  },
  {
   "cell_type": "markdown",
   "metadata": {},
   "source": [
    "### Problem 4\n",
    "<span  style=\"color:green; font-size:16px\">What type of object is returned from the **`dtypes`** attribute?</span>"
   ]
  },
  {
   "cell_type": "code",
   "execution_count": 26,
   "metadata": {},
   "outputs": [
    {
     "name": "stdout",
     "output_type": "stream",
     "text": [
      "<class 'pandas.core.series.Series'>\n",
      "trip_id                int64\n",
      "usertype              object\n",
      "gender                object\n",
      "starttime             object\n",
      "stoptime              object\n",
      "tripduration           int64\n",
      "from_station_name     object\n",
      "latitude_start       float64\n",
      "longitude_start      float64\n",
      "dpcapacity_start     float64\n",
      "to_station_name       object\n",
      "latitude_end         float64\n",
      "longitude_end        float64\n",
      "dpcapacity_end       float64\n",
      "temperature          float64\n",
      "visibility           float64\n",
      "wind_speed           float64\n",
      "precipitation        float64\n",
      "events                object\n",
      "dtype: object\n"
     ]
    }
   ],
   "source": [
    "# your code here\n",
    "print(type(bikes.dtypes))\n",
    "print(bikes.dtypes)"
   ]
  },
  {
   "cell_type": "markdown",
   "metadata": {},
   "source": [
    "### Problem 5\n",
    "<span  style=\"color:green; font-size:16px\">What type of object is returned from the **`shape`** attribute?</span>"
   ]
  },
  {
   "cell_type": "code",
   "execution_count": 27,
   "metadata": {},
   "outputs": [
    {
     "name": "stdout",
     "output_type": "stream",
     "text": [
      "(50089, 19)\n",
      "<class 'tuple'>\n"
     ]
    }
   ],
   "source": [
    "# your code here\n",
    "print(bikes.shape)\n",
    "print(type(bikes.shape))"
   ]
  },
  {
   "cell_type": "markdown",
   "metadata": {},
   "source": [
    "### Problem 6\n",
    "<span  style=\"color:green; font-size:16px\">What type of object is returned from the **`info`** method?</span>"
   ]
  },
  {
   "cell_type": "code",
   "execution_count": 28,
   "metadata": {},
   "outputs": [
    {
     "data": {
      "text/plain": [
       "method"
      ]
     },
     "execution_count": 28,
     "metadata": {},
     "output_type": "execute_result"
    }
   ],
   "source": [
    "# your code here\n",
    "type(bikes.info)"
   ]
  },
  {
   "cell_type": "code",
   "execution_count": 29,
   "metadata": {},
   "outputs": [
    {
     "name": "stdout",
     "output_type": "stream",
     "text": [
      "<class 'pandas.core.frame.DataFrame'>\n",
      "RangeIndex: 50089 entries, 0 to 50088\n",
      "Data columns (total 19 columns):\n",
      "trip_id              50089 non-null int64\n",
      "usertype             50089 non-null object\n",
      "gender               50089 non-null object\n",
      "starttime            50089 non-null object\n",
      "stoptime             50089 non-null object\n",
      "tripduration         50089 non-null int64\n",
      "from_station_name    50089 non-null object\n",
      "latitude_start       50083 non-null float64\n",
      "longitude_start      50083 non-null float64\n",
      "dpcapacity_start     50083 non-null float64\n",
      "to_station_name      50089 non-null object\n",
      "latitude_end         50077 non-null float64\n",
      "longitude_end        50077 non-null float64\n",
      "dpcapacity_end       50077 non-null float64\n",
      "temperature          50089 non-null float64\n",
      "visibility           50089 non-null float64\n",
      "wind_speed           50089 non-null float64\n",
      "precipitation        50089 non-null float64\n",
      "events               50089 non-null object\n",
      "dtypes: float64(10), int64(2), object(7)\n",
      "memory usage: 7.3+ MB\n"
     ]
    },
    {
     "data": {
      "text/plain": [
       "NoneType"
      ]
     },
     "execution_count": 29,
     "metadata": {},
     "output_type": "execute_result"
    }
   ],
   "source": [
    "type(bikes.info())"
   ]
  },
  {
   "cell_type": "code",
   "execution_count": 33,
   "metadata": {},
   "outputs": [
    {
     "data": {
      "text/plain": [
       "<bound method DataFrame.info of         trip_id    usertype  gender           starttime            stoptime  \\\n",
       "0          7147  Subscriber    Male 2013-06-28 19:01:00 2013-06-28 19:17:00   \n",
       "1          7524  Subscriber    Male 2013-06-28 22:53:00 2013-06-28 23:03:00   \n",
       "2         10927  Subscriber    Male 2013-06-30 14:43:00 2013-06-30 15:01:00   \n",
       "3         12907  Subscriber    Male 2013-07-01 10:05:00 2013-07-01 10:16:00   \n",
       "4         13168  Subscriber    Male 2013-07-01 11:16:00 2013-07-01 11:18:00   \n",
       "5         13595  Subscriber    Male 2013-07-01 12:37:00 2013-07-01 12:48:00   \n",
       "6         18880  Subscriber    Male 2013-07-02 17:47:00 2013-07-02 17:56:00   \n",
       "7         19689  Subscriber    Male 2013-07-03 09:07:00 2013-07-03 09:16:00   \n",
       "8         21028  Subscriber    Male 2013-07-03 15:21:00 2013-07-03 15:42:00   \n",
       "9         23558  Subscriber  Female 2013-07-04 15:00:00 2013-07-04 15:16:00   \n",
       "10        24383  Subscriber    Male 2013-07-04 17:17:00 2013-07-04 17:42:00   \n",
       "11        24673  Subscriber    Male 2013-07-04 18:13:00 2013-07-04 18:42:00   \n",
       "12        26214  Subscriber    Male 2013-07-05 10:02:00 2013-07-05 10:40:00   \n",
       "13        30404  Subscriber    Male 2013-07-06 09:43:00 2013-07-06 10:06:00   \n",
       "14        31121  Subscriber  Female 2013-07-06 12:39:00 2013-07-06 12:49:00   \n",
       "15        33998  Subscriber    Male 2013-07-07 00:06:00 2013-07-07 00:13:00   \n",
       "16        38628  Subscriber    Male 2013-07-08 17:06:00 2013-07-08 17:14:00   \n",
       "17        38729  Subscriber    Male 2013-07-08 17:33:00 2013-07-08 17:44:00   \n",
       "18        40924  Subscriber    Male 2013-07-09 13:12:00 2013-07-09 14:42:00   \n",
       "19        40879  Subscriber    Male 2013-07-09 13:14:00 2013-07-09 13:20:00   \n",
       "20        42488  Subscriber  Female 2013-07-09 17:39:00 2013-07-09 17:55:00   \n",
       "21        42818  Subscriber  Female 2013-07-09 19:26:00 2013-07-09 19:38:00   \n",
       "22        43804  Subscriber  Female 2013-07-10 09:18:00 2013-07-10 09:33:00   \n",
       "23        45077  Subscriber  Female 2013-07-10 12:34:00 2013-07-10 12:46:00   \n",
       "24        46108  Subscriber  Female 2013-07-10 16:35:00 2013-07-10 16:44:00   \n",
       "25        47798  Subscriber  Female 2013-07-11 08:17:00 2013-07-11 08:31:00   \n",
       "26        51130  Subscriber    Male 2013-07-12 01:07:00 2013-07-12 01:24:00   \n",
       "27        51210  Subscriber    Male 2013-07-12 06:53:00 2013-07-12 07:00:00   \n",
       "28        51823  Subscriber    Male 2013-07-12 10:01:00 2013-07-12 10:02:00   \n",
       "29        52547  Subscriber    Male 2013-07-12 12:23:00 2013-07-12 12:28:00   \n",
       "...         ...         ...     ...                 ...                 ...   \n",
       "50059  17525739  Subscriber    Male 2017-12-23 15:28:00 2017-12-23 15:34:00   \n",
       "50060  17525743  Subscriber    Male 2017-12-23 15:31:00 2017-12-23 15:38:00   \n",
       "50061  17526542  Subscriber  Female 2017-12-24 07:56:00 2017-12-24 07:59:00   \n",
       "50062  17527722  Subscriber    Male 2017-12-25 18:31:00 2017-12-25 18:38:00   \n",
       "50063  17528311  Subscriber    Male 2017-12-26 13:27:00 2017-12-26 13:35:00   \n",
       "50064  17528461  Subscriber    Male 2017-12-26 15:09:00 2017-12-26 15:19:00   \n",
       "50065  17528527  Subscriber    Male 2017-12-26 15:49:00 2017-12-26 15:56:00   \n",
       "50066  17528614  Subscriber    Male 2017-12-26 16:34:00 2017-12-26 16:46:00   \n",
       "50067  17529175  Subscriber    Male 2017-12-27 06:05:00 2017-12-27 06:07:00   \n",
       "50068  17529292  Subscriber    Male 2017-12-27 07:46:00 2017-12-27 08:00:00   \n",
       "50069  17529402  Subscriber    Male 2017-12-27 08:34:00 2017-12-27 08:38:00   \n",
       "50070  17530881  Subscriber    Male 2017-12-27 20:02:00 2017-12-27 20:06:00   \n",
       "50071  17530946  Subscriber  Female 2017-12-27 21:08:00 2017-12-27 21:22:00   \n",
       "50072  17531067  Subscriber    Male 2017-12-28 06:16:00 2017-12-28 06:22:00   \n",
       "50073  17531700  Subscriber    Male 2017-12-28 10:27:00 2017-12-28 10:34:00   \n",
       "50074  17532063  Subscriber    Male 2017-12-28 13:08:00 2017-12-28 13:13:00   \n",
       "50075  17532624  Subscriber    Male 2017-12-28 17:03:00 2017-12-28 17:07:00   \n",
       "50076  17533419  Subscriber    Male 2017-12-29 08:42:00 2017-12-29 08:48:00   \n",
       "50077  17533484  Subscriber    Male 2017-12-29 09:13:00 2017-12-29 09:53:00   \n",
       "50078  17533656  Subscriber  Female 2017-12-29 11:14:00 2017-12-29 11:28:00   \n",
       "50079  17533757  Subscriber    Male 2017-12-29 12:08:00 2017-12-29 12:12:00   \n",
       "50080  17534057  Subscriber    Male 2017-12-29 15:28:00 2017-12-29 15:51:00   \n",
       "50081  17534131  Subscriber    Male 2017-12-29 16:09:00 2017-12-29 16:19:00   \n",
       "50082  17534773  Subscriber    Male 2017-12-30 10:47:00 2017-12-30 10:53:00   \n",
       "50083  17534831  Subscriber    Male 2017-12-30 11:36:00 2017-12-30 11:55:00   \n",
       "50084  17534938  Subscriber    Male 2017-12-30 13:07:00 2017-12-30 13:34:00   \n",
       "50085  17534969  Subscriber    Male 2017-12-30 13:34:00 2017-12-30 13:44:00   \n",
       "50086  17534972  Subscriber    Male 2017-12-30 13:34:00 2017-12-30 13:48:00   \n",
       "50087  17535645  Subscriber  Female 2017-12-31 09:30:00 2017-12-31 09:33:00   \n",
       "50088  17536246  Subscriber    Male 2017-12-31 15:22:00 2017-12-31 15:26:00   \n",
       "\n",
       "       tripduration                from_station_name  latitude_start  \\\n",
       "0               993        Lake Shore Dr & Monroe St       41.881050   \n",
       "1               623     Clinton St & Washington Blvd       41.883380   \n",
       "2              1040     Sheffield Ave & Kingsbury St       41.909592   \n",
       "3               667          Carpenter St & Huron St       41.894556   \n",
       "4               130           Damen Ave & Pierce Ave       41.909396   \n",
       "5               660         California Ave & 21st St       41.854016   \n",
       "6               565           Clark St & Randolph St       41.884576   \n",
       "7               505          State St & Van Buren St       41.877181   \n",
       "8              1300     Clinton St & Washington Blvd       41.883380   \n",
       "9               922    Lakeview Ave & Fullerton Pkwy       41.925858   \n",
       "10             1523              Morgan St & 18th St       41.858086   \n",
       "11             1697       Ashland Ave & Armitage Ave       41.917859   \n",
       "12             2263         Jefferson St & Monroe St       41.880422   \n",
       "13             1365             May St & Randolph St       41.883970   \n",
       "14              610              Morgan St & Lake St       41.885483   \n",
       "15              415         Aberdeen St & Madison St       41.881487   \n",
       "16              487           Clinton St & Tilden St       41.875885   \n",
       "17              622       Larrabee St & Kingsbury St       41.897764   \n",
       "18             5396          Canal St & Jackson Blvd       41.878114   \n",
       "19              384         Aberdeen St & Madison St       41.881487   \n",
       "20              943          State St & Van Buren St       41.877181   \n",
       "21              726           Clark St & Randolph St       41.884576   \n",
       "22              895             Wells St & Walton St       41.899930   \n",
       "23              700       Lincoln Ave & Armitage Ave       41.918273   \n",
       "24              511           Michigan Ave & Lake St       41.886058   \n",
       "25              830        Wabash Ave & Roosevelt Rd       41.867173   \n",
       "26             1043           State St & Harrison St       41.873958   \n",
       "27              439        Wabash Ave & Roosevelt Rd       41.867173   \n",
       "28               88               Daley Center Plaza       41.884337   \n",
       "29              294           Michigan Ave & Lake St       41.886058   \n",
       "...             ...                              ...             ...   \n",
       "50059           389     Marshfield Ave & Cortland St       41.916017   \n",
       "50060           412      Western Ave & Winnebago Ave       41.915520   \n",
       "50061           183       Hampden Ct & Diversey Pkwy       41.932620   \n",
       "50062           389            Dayton St & North Ave       41.910578   \n",
       "50063           493     Washtenaw Ave & Lawrence Ave       41.968987   \n",
       "50064           583  Racine Ave (May St) & Fulton St       41.886926   \n",
       "50065           369      Lincoln Ave & Diversey Pkwy       41.932225   \n",
       "50066           705             Clinton St & Lake St       41.885637   \n",
       "50067           138        Wabash Ave & Roosevelt Rd       41.867227   \n",
       "50068           856              Canal St & Adams St       41.879255   \n",
       "50069           227         LaSalle St & Illinois St       41.890762   \n",
       "50070           275           Halsted St & Roscoe St       41.943670   \n",
       "50071           867          Western Ave & Walton St       41.898418   \n",
       "50072           392           State St & Randolph St       41.884730   \n",
       "50073           401        Sheffield Ave & Willow St       41.913688   \n",
       "50074           258        Ashland Ave & Chicago Ave       41.895966   \n",
       "50075           226           Wabash Ave & Wacker Pl       41.886875   \n",
       "50076           356  Blackstone Ave & Hyde Park Blvd       41.802562   \n",
       "50077          2378             Clinton St & 18th St       41.857950   \n",
       "50078           877     Southport Ave & Waveland Ave       41.948150   \n",
       "50079           270      Southport Ave & Belmont Ave       41.939490   \n",
       "50080          1378  Cityfront Plaza Dr & Pioneer Ct       41.890573   \n",
       "50081           617           Kingsbury St & Erie St       41.893882   \n",
       "50082           363             Larrabee St & Oak St       41.900219   \n",
       "50083          1175          Western Ave & Walton St       41.898418   \n",
       "50084          1625            State St & Pearson St       41.897448   \n",
       "50085           585         Halsted St & 35th St (*)       41.830661   \n",
       "50086           824         Kingsbury St & Kinzie St       41.889177   \n",
       "50087           178             Clinton St & Lake St       41.885637   \n",
       "50088           214       Clarendon Ave & Leland Ave       41.967968   \n",
       "\n",
       "       longitude_start  dpcapacity_start                      to_station_name  \\\n",
       "0           -87.616970              11.0                Michigan Ave & Oak St   \n",
       "1           -87.641170              31.0                 Wells St & Walton St   \n",
       "2           -87.653497              15.0              Dearborn St & Monroe St   \n",
       "3           -87.653449              19.0               Clark St & Randolph St   \n",
       "4           -87.677692              19.0               Damen Ave & Pierce Ave   \n",
       "5           -87.695445              15.0            Clark St & Wrightwood Ave   \n",
       "6           -87.631890              31.0      Ravenswood Ave & Irving Park Rd   \n",
       "7           -87.627844              27.0           Franklin St & Jackson Blvd   \n",
       "8           -87.641170              31.0                Wood St & Division St   \n",
       "9           -87.638973              19.0           Racine Ave & Congress Pkwy   \n",
       "10          -87.651073              15.0               Damen Ave & Pierce Ave   \n",
       "11          -87.668919              15.0           Lincoln Ave & Armitage Ave   \n",
       "12          -87.642746              19.0             Jefferson St & Monroe St   \n",
       "13          -87.655688              15.0                      Millennium Park   \n",
       "14          -87.652305              15.0           Aberdeen St & Jackson Blvd   \n",
       "15          -87.654752              19.0                   May St & Taylor St   \n",
       "16          -87.640795              23.0               State St & Harrison St   \n",
       "17          -87.642884              27.0                 State St & Kinzie St   \n",
       "18          -87.639971              35.0                      Millennium Park   \n",
       "19          -87.654752              19.0              Canal St & Jackson Blvd   \n",
       "20          -87.627844              27.0                   State St & 16th St   \n",
       "21          -87.631890              31.0               State St & Harrison St   \n",
       "22          -87.634430              19.0           Ashland Ave & Augusta Blvd   \n",
       "23          -87.638116              19.0           Wilton Ave & Diversey Pkwy   \n",
       "24          -87.624289              23.0              Clinton St & Madison St   \n",
       "25          -87.625955              19.0                   Daley Center Plaza   \n",
       "26          -87.627739              19.0                 Racine Ave & 18th St   \n",
       "27          -87.625955              19.0               Dearborn St & Adams St   \n",
       "28          -87.630183              47.0                   Daley Center Plaza   \n",
       "29          -87.624289              23.0                   Daley Center Plaza   \n",
       "...                ...               ...                                  ...   \n",
       "50059       -87.668879              23.0            Leavitt St & Armitage Ave   \n",
       "50060       -87.687022              15.0         Spaulding Ave & Armitage Ave   \n",
       "50061       -87.642385              23.0           Wilton Ave & Diversey Pkwy   \n",
       "50062       -87.649422              19.0                 Larrabee St & Oak St   \n",
       "50063       -87.696027              15.0        Ravenswood Ave & Lawrence Ave   \n",
       "50064       -87.656919              15.0                  Canal St & Adams St   \n",
       "50065       -87.658617              15.0            Clark St & Wrightwood Ave   \n",
       "50066       -87.641823              23.0              Ogden Ave & Chicago Ave   \n",
       "50067       -87.625961              23.0               Michigan Ave & 14th St   \n",
       "50068       -87.639904              47.0          Dearborn Pkwy & Delaware Pl   \n",
       "50069       -87.631697              31.0             Fairbanks Ct & Grand Ave   \n",
       "50070       -87.648950              15.0            Clark St & Wellington Ave   \n",
       "50071       -87.686596              19.0             Damen Ave & Augusta Blvd   \n",
       "50072       -87.627734              27.0             McClurg Ct & Illinois St   \n",
       "50073       -87.652855              15.0           Clybourn Ave & Division St   \n",
       "50074       -87.667747              15.0            Ashland Ave & Division St   \n",
       "50075       -87.626030              19.0               State St & Randolph St   \n",
       "50076       -87.590368              19.0              Lake Park Ave & 56th St   \n",
       "50077       -87.640826              15.0                 Canal St & Taylor St   \n",
       "50078       -87.663940              23.0           Clarendon Ave & Gordon Ter   \n",
       "50079       -87.663780              15.0             Wilton Ave & Belmont Ave   \n",
       "50080       -87.622072              23.0  Mies van der Rohe Way & Chestnut St   \n",
       "50081       -87.641711              23.0                  Canal St & Adams St   \n",
       "50082       -87.642985              19.0        Halsted St & Blackhawk St (*)   \n",
       "50083       -87.686596              19.0             Damen Ave & Clybourn Ave   \n",
       "50084       -87.628722              27.0                    Clark St & Elm St   \n",
       "50085       -87.647172              16.0                  Union Ave & Root St   \n",
       "50086       -87.638506              31.0        Halsted St & Blackhawk St (*)   \n",
       "50087       -87.641823              23.0             Kingsbury St & Kinzie St   \n",
       "50088       -87.650001              15.0           Clifton Ave & Lawrence Ave   \n",
       "\n",
       "       latitude_end  longitude_end  dpcapacity_end  temperature  visibility  \\\n",
       "0         41.900960     -87.623777            15.0         73.9        10.0   \n",
       "1         41.899930     -87.634430            19.0         69.1        10.0   \n",
       "2         41.881320     -87.629521            23.0         73.0        10.0   \n",
       "3         41.884576     -87.631890            31.0         72.0        10.0   \n",
       "4         41.909396     -87.677692            19.0         73.0        10.0   \n",
       "5         41.929546     -87.643118            15.0         73.0        10.0   \n",
       "6         41.954690     -87.673930            19.0         66.0        10.0   \n",
       "7         41.877708     -87.635321            27.0         64.0         7.0   \n",
       "8         41.903320     -87.672730            15.0         71.1         8.0   \n",
       "9         41.874640     -87.657030            19.0         81.0        10.0   \n",
       "10        41.909396     -87.677692            19.0         79.0        10.0   \n",
       "11        41.918273     -87.638116            19.0         79.0        10.0   \n",
       "12        41.880422     -87.642746            19.0         79.0        10.0   \n",
       "13        41.881032     -87.624084            35.0         78.1        10.0   \n",
       "14        41.877726     -87.654787            15.0         82.0        10.0   \n",
       "15        41.869482     -87.655486            15.0         72.0        10.0   \n",
       "16        41.873958     -87.627739            19.0         84.0        10.0   \n",
       "17        41.889180     -87.627700            15.0         84.0        10.0   \n",
       "18        41.881032     -87.624084            35.0         79.0        10.0   \n",
       "19        41.878114     -87.639971            35.0         79.0        10.0   \n",
       "20        41.860121     -87.627729            15.0         82.9        10.0   \n",
       "21        41.873958     -87.627739            19.0         82.9        10.0   \n",
       "22        41.899643     -87.667700            15.0         82.0        10.0   \n",
       "23        41.932500     -87.652681            19.0         84.9        10.0   \n",
       "24        41.881582     -87.641277            23.0         82.9        10.0   \n",
       "25        41.884337     -87.630183            47.0         73.9        10.0   \n",
       "26        41.858181     -87.656487            15.0         64.9        10.0   \n",
       "27        41.879356     -87.629791            19.0         64.9        10.0   \n",
       "28        41.884337     -87.630183            47.0         77.0        10.0   \n",
       "29        41.884337     -87.630183            47.0         81.0        10.0   \n",
       "...             ...            ...             ...          ...         ...   \n",
       "50059     41.917805     -87.682437            11.0         26.1        10.0   \n",
       "50060     41.917184     -87.710357            15.0         26.1        10.0   \n",
       "50061     41.932418     -87.652705            27.0         21.0        10.0   \n",
       "50062     41.900219     -87.642985            19.0         10.0        10.0   \n",
       "50063     41.969090     -87.674237            39.0          3.9        10.0   \n",
       "50064     41.879255     -87.639904            47.0          3.9        10.0   \n",
       "50065     41.929546     -87.643118            15.0          3.9        10.0   \n",
       "50066     41.896362     -87.654061            19.0          3.0        10.0   \n",
       "50067     41.864059     -87.623727            19.0         -2.9        10.0   \n",
       "50068     41.898969     -87.629912            19.0         -2.9        10.0   \n",
       "50069     41.891860     -87.620620            15.0         -0.9        10.0   \n",
       "50070     41.936497     -87.647539            15.0          1.0        10.0   \n",
       "50071     41.899113     -87.677212            23.0          1.0        10.0   \n",
       "50072     41.890359     -87.617532            31.0          5.0        10.0   \n",
       "50073     41.904613     -87.640552            15.0         12.9        10.0   \n",
       "50074     41.903450     -87.667747            19.0         12.9         6.0   \n",
       "50075     41.884730     -87.627734            27.0         12.0         2.0   \n",
       "50076     41.793242     -87.587782            19.0         10.9         8.0   \n",
       "50077     41.870257     -87.639474            15.0         12.9         9.0   \n",
       "50078     41.957879     -87.649519            15.0         14.0        10.0   \n",
       "50079     41.940180     -87.653040            23.0         14.0         2.5   \n",
       "50080     41.898587     -87.621915            19.0         14.0         1.5   \n",
       "50081     41.879255     -87.639904            47.0         14.0         1.5   \n",
       "50082     41.908537     -87.648627            20.0          3.9        10.0   \n",
       "50083     41.931931     -87.677856            15.0          3.9        10.0   \n",
       "50084     41.902973     -87.631280            27.0          5.0        10.0   \n",
       "50085     41.819102     -87.643278            11.0          5.0        10.0   \n",
       "50086     41.908537     -87.648627            20.0          5.0        10.0   \n",
       "50087     41.889177     -87.638506            31.0          7.0        10.0   \n",
       "50088     41.968812     -87.657659            15.0         10.9        10.0   \n",
       "\n",
       "       wind_speed  precipitation        events  \n",
       "0            12.7       -9999.00  mostlycloudy  \n",
       "1             6.9       -9999.00  partlycloudy  \n",
       "2            16.1       -9999.00  mostlycloudy  \n",
       "3            16.1       -9999.00  mostlycloudy  \n",
       "4            17.3       -9999.00  partlycloudy  \n",
       "5            17.3       -9999.00  mostlycloudy  \n",
       "6            15.0       -9999.00        cloudy  \n",
       "7             5.8       -9999.00        cloudy  \n",
       "8             0.0       -9999.00        cloudy  \n",
       "9            12.7       -9999.00  mostlycloudy  \n",
       "10            9.2       -9999.00  mostlycloudy  \n",
       "11           10.4       -9999.00  mostlycloudy  \n",
       "12            0.0       -9999.00  partlycloudy  \n",
       "13            5.8       -9999.00  partlycloudy  \n",
       "14            5.8       -9999.00  mostlycloudy  \n",
       "15            5.8       -9999.00  mostlycloudy  \n",
       "16            8.1           0.00  mostlycloudy  \n",
       "17            8.1           0.00  mostlycloudy  \n",
       "18           13.8           0.00        cloudy  \n",
       "19           13.8           0.00        cloudy  \n",
       "20            9.2       -9999.00  mostlycloudy  \n",
       "21            9.2       -9999.00  partlycloudy  \n",
       "22           11.5       -9999.00  partlycloudy  \n",
       "23           16.1       -9999.00  mostlycloudy  \n",
       "24           12.7       -9999.00  partlycloudy  \n",
       "25            8.1       -9999.00         clear  \n",
       "26            0.0       -9999.00         clear  \n",
       "27            0.0       -9999.00  partlycloudy  \n",
       "28            4.6       -9999.00  partlycloudy  \n",
       "29            4.6       -9999.00  partlycloudy  \n",
       "...           ...            ...           ...  \n",
       "50059        11.5       -9999.00  partlycloudy  \n",
       "50060        11.5       -9999.00  partlycloudy  \n",
       "50061         6.9       -9999.00        cloudy  \n",
       "50062         6.9       -9999.00  partlycloudy  \n",
       "50063        12.7       -9999.00  mostlycloudy  \n",
       "50064        11.5       -9999.00  partlycloudy  \n",
       "50065        11.5       -9999.00  partlycloudy  \n",
       "50066         9.2       -9999.00  partlycloudy  \n",
       "50067        11.5       -9999.00  partlycloudy  \n",
       "50068         8.1       -9999.00  partlycloudy  \n",
       "50069         8.1       -9999.00  partlycloudy  \n",
       "50070         0.0       -9999.00  partlycloudy  \n",
       "50071         4.6       -9999.00  partlycloudy  \n",
       "50072         0.0       -9999.00        cloudy  \n",
       "50073        10.4       -9999.00        cloudy  \n",
       "50074         9.2           0.00          snow  \n",
       "50075         8.1           0.01          snow  \n",
       "50076         4.6       -9999.00        cloudy  \n",
       "50077         4.6       -9999.00        cloudy  \n",
       "50078         5.8       -9999.00        cloudy  \n",
       "50079         6.9           0.00          snow  \n",
       "50080         6.9           0.01          snow  \n",
       "50081         6.9           0.00          snow  \n",
       "50082        13.8       -9999.00  mostlycloudy  \n",
       "50083        13.8       -9999.00  partlycloudy  \n",
       "50084        16.1       -9999.00  partlycloudy  \n",
       "50085        16.1       -9999.00  partlycloudy  \n",
       "50086        16.1       -9999.00  partlycloudy  \n",
       "50087        11.5       -9999.00  partlycloudy  \n",
       "50088        15.0       -9999.00  partlycloudy  \n",
       "\n",
       "[50089 rows x 19 columns]>"
      ]
     },
     "execution_count": 33,
     "metadata": {},
     "output_type": "execute_result"
    }
   ],
   "source": [
    "bikes.info"
   ]
  },
  {
   "cell_type": "markdown",
   "metadata": {},
   "source": [
    "### Problem 7\n",
    "<span  style=\"color:green; font-size:16px\">The memory usage from the **`info`** method isn't correct when you have objects in your DataFrame. Read the docstrings from it and get the true memory usage.</span>"
   ]
  },
  {
   "cell_type": "code",
   "execution_count": 30,
   "metadata": {},
   "outputs": [
    {
     "name": "stdout",
     "output_type": "stream",
     "text": [
      "<class 'pandas.core.frame.DataFrame'>\n",
      "RangeIndex: 50089 entries, 0 to 50088\n",
      "Data columns (total 19 columns):\n",
      "trip_id              50089 non-null int64\n",
      "usertype             50089 non-null object\n",
      "gender               50089 non-null object\n",
      "starttime            50089 non-null object\n",
      "stoptime             50089 non-null object\n",
      "tripduration         50089 non-null int64\n",
      "from_station_name    50089 non-null object\n",
      "latitude_start       50083 non-null float64\n",
      "longitude_start      50083 non-null float64\n",
      "dpcapacity_start     50083 non-null float64\n",
      "to_station_name      50089 non-null object\n",
      "latitude_end         50077 non-null float64\n",
      "longitude_end        50077 non-null float64\n",
      "dpcapacity_end       50077 non-null float64\n",
      "temperature          50089 non-null float64\n",
      "visibility           50089 non-null float64\n",
      "wind_speed           50089 non-null float64\n",
      "precipitation        50089 non-null float64\n",
      "events               50089 non-null object\n",
      "dtypes: float64(10), int64(2), object(7)\n",
      "memory usage: 28.9 MB\n"
     ]
    }
   ],
   "source": [
    "# your code here\n",
    "bikes.info(memory_usage='deep')"
   ]
  },
  {
   "cell_type": "markdown",
   "metadata": {},
   "source": [
    "# Explore more on your own below\n",
    "Think of your own questions, then ask and answer them"
   ]
  },
  {
   "cell_type": "code",
   "execution_count": 36,
   "metadata": {},
   "outputs": [
    {
     "data": {
      "text/plain": [
       "pandas.core.frame.DataFrame"
      ]
     },
     "execution_count": 36,
     "metadata": {},
     "output_type": "execute_result"
    }
   ],
   "source": [
    "# explore here\n",
    "type(bikes) # gives the type of the object: DataFrame, ignore 'pandas.core.frame.'"
   ]
  },
  {
   "cell_type": "code",
   "execution_count": 38,
   "metadata": {},
   "outputs": [
    {
     "data": {
      "text/plain": [
       "trip_id                int64\n",
       "usertype              object\n",
       "gender                object\n",
       "starttime             object\n",
       "stoptime              object\n",
       "tripduration           int64\n",
       "from_station_name     object\n",
       "latitude_start       float64\n",
       "longitude_start      float64\n",
       "dpcapacity_start     float64\n",
       "to_station_name       object\n",
       "latitude_end         float64\n",
       "longitude_end        float64\n",
       "dpcapacity_end       float64\n",
       "temperature          float64\n",
       "visibility           float64\n",
       "wind_speed           float64\n",
       "precipitation        float64\n",
       "events                object\n",
       "dtype: object"
      ]
     },
     "execution_count": 38,
     "metadata": {},
     "output_type": "execute_result"
    }
   ],
   "source": [
    "bikes.dtypes #data types of each column in the dataframe (only for Pandas). Returns Pandas series"
   ]
  },
  {
   "cell_type": "code",
   "execution_count": 40,
   "metadata": {},
   "outputs": [
    {
     "data": {
      "text/plain": [
       "pandas.core.series.Series"
      ]
     },
     "execution_count": 40,
     "metadata": {},
     "output_type": "execute_result"
    }
   ],
   "source": [
    "dt = bikes.dtypes\n",
    "type(dt) # type of dtypes is pandas series"
   ]
  },
  {
   "cell_type": "code",
   "execution_count": 43,
   "metadata": {},
   "outputs": [],
   "source": [
    "a = [1, 2 ,3]"
   ]
  },
  {
   "cell_type": "code",
   "execution_count": 44,
   "metadata": {},
   "outputs": [
    {
     "data": {
      "text/plain": [
       "3"
      ]
     },
     "execution_count": 44,
     "metadata": {},
     "output_type": "execute_result"
    }
   ],
   "source": [
    "len(a) # built in function, length of the list"
   ]
  },
  {
   "cell_type": "code",
   "execution_count": 45,
   "metadata": {},
   "outputs": [
    {
     "data": {
      "text/plain": [
       "<function len>"
      ]
     },
     "execution_count": 45,
     "metadata": {},
     "output_type": "execute_result"
    }
   ],
   "source": [
    "len # it should give an error, but python does not. "
   ]
  },
  {
   "cell_type": "code",
   "execution_count": 46,
   "metadata": {},
   "outputs": [],
   "source": [
    "length_function = len # we could assign an fucntion with an variable name"
   ]
  },
  {
   "cell_type": "code",
   "execution_count": 47,
   "metadata": {},
   "outputs": [
    {
     "data": {
      "text/plain": [
       "3"
      ]
     },
     "execution_count": 47,
     "metadata": {},
     "output_type": "execute_result"
    }
   ],
   "source": [
    "length_function(a)"
   ]
  },
  {
   "cell_type": "code",
   "execution_count": 41,
   "metadata": {},
   "outputs": [
    {
     "name": "stdout",
     "output_type": "stream",
     "text": [
      "<class 'pandas.core.frame.DataFrame'>\n",
      "RangeIndex: 50089 entries, 0 to 50088\n",
      "Data columns (total 19 columns):\n",
      "trip_id              50089 non-null int64\n",
      "usertype             50089 non-null object\n",
      "gender               50089 non-null object\n",
      "starttime            50089 non-null object\n",
      "stoptime             50089 non-null object\n",
      "tripduration         50089 non-null int64\n",
      "from_station_name    50089 non-null object\n",
      "latitude_start       50083 non-null float64\n",
      "longitude_start      50083 non-null float64\n",
      "dpcapacity_start     50083 non-null float64\n",
      "to_station_name      50089 non-null object\n",
      "latitude_end         50077 non-null float64\n",
      "longitude_end        50077 non-null float64\n",
      "dpcapacity_end       50077 non-null float64\n",
      "temperature          50089 non-null float64\n",
      "visibility           50089 non-null float64\n",
      "wind_speed           50089 non-null float64\n",
      "precipitation        50089 non-null float64\n",
      "events               50089 non-null object\n",
      "dtypes: float64(10), int64(2), object(7)\n",
      "memory usage: 7.3+ MB\n"
     ]
    }
   ],
   "source": [
    "bikes.info() # it's not an dataframe, just a print to the screen, it prints the report, not a type of object"
   ]
  },
  {
   "cell_type": "code",
   "execution_count": 52,
   "metadata": {},
   "outputs": [
    {
     "name": "stdout",
     "output_type": "stream",
     "text": [
      "<class 'pandas.core.frame.DataFrame'>\n",
      "RangeIndex: 50089 entries, 0 to 50088\n",
      "Data columns (total 19 columns):\n",
      "trip_id              50089 non-null int64\n",
      "usertype             50089 non-null object\n",
      "gender               50089 non-null object\n",
      "starttime            50089 non-null object\n",
      "stoptime             50089 non-null object\n",
      "tripduration         50089 non-null int64\n",
      "from_station_name    50089 non-null object\n",
      "latitude_start       50083 non-null float64\n",
      "longitude_start      50083 non-null float64\n",
      "dpcapacity_start     50083 non-null float64\n",
      "to_station_name      50089 non-null object\n",
      "latitude_end         50077 non-null float64\n",
      "longitude_end        50077 non-null float64\n",
      "dpcapacity_end       50077 non-null float64\n",
      "temperature          50089 non-null float64\n",
      "visibility           50089 non-null float64\n",
      "wind_speed           50089 non-null float64\n",
      "precipitation        50089 non-null float64\n",
      "events               50089 non-null object\n",
      "dtypes: float64(10), int64(2), object(7)\n",
      "memory usage: 7.3+ MB\n"
     ]
    },
    {
     "data": {
      "text/plain": [
       "NoneType"
      ]
     },
     "execution_count": 52,
     "metadata": {},
     "output_type": "execute_result"
    }
   ],
   "source": [
    "info = bikes.info()\n",
    "type(info)"
   ]
  },
  {
   "cell_type": "code",
   "execution_count": 42,
   "metadata": {},
   "outputs": [
    {
     "data": {
      "text/plain": [
       "<bound method DataFrame.info of         trip_id    usertype  gender            starttime             stoptime  \\\n",
       "0          7147  Subscriber    Male  2013-06-28 19:01:00  2013-06-28 19:17:00   \n",
       "1          7524  Subscriber    Male  2013-06-28 22:53:00  2013-06-28 23:03:00   \n",
       "2         10927  Subscriber    Male  2013-06-30 14:43:00  2013-06-30 15:01:00   \n",
       "3         12907  Subscriber    Male  2013-07-01 10:05:00  2013-07-01 10:16:00   \n",
       "4         13168  Subscriber    Male  2013-07-01 11:16:00  2013-07-01 11:18:00   \n",
       "5         13595  Subscriber    Male  2013-07-01 12:37:00  2013-07-01 12:48:00   \n",
       "6         18880  Subscriber    Male  2013-07-02 17:47:00  2013-07-02 17:56:00   \n",
       "7         19689  Subscriber    Male  2013-07-03 09:07:00  2013-07-03 09:16:00   \n",
       "8         21028  Subscriber    Male  2013-07-03 15:21:00  2013-07-03 15:42:00   \n",
       "9         23558  Subscriber  Female  2013-07-04 15:00:00  2013-07-04 15:16:00   \n",
       "10        24383  Subscriber    Male  2013-07-04 17:17:00  2013-07-04 17:42:00   \n",
       "11        24673  Subscriber    Male  2013-07-04 18:13:00  2013-07-04 18:42:00   \n",
       "12        26214  Subscriber    Male  2013-07-05 10:02:00  2013-07-05 10:40:00   \n",
       "13        30404  Subscriber    Male  2013-07-06 09:43:00  2013-07-06 10:06:00   \n",
       "14        31121  Subscriber  Female  2013-07-06 12:39:00  2013-07-06 12:49:00   \n",
       "15        33998  Subscriber    Male  2013-07-07 00:06:00  2013-07-07 00:13:00   \n",
       "16        38628  Subscriber    Male  2013-07-08 17:06:00  2013-07-08 17:14:00   \n",
       "17        38729  Subscriber    Male  2013-07-08 17:33:00  2013-07-08 17:44:00   \n",
       "18        40924  Subscriber    Male  2013-07-09 13:12:00  2013-07-09 14:42:00   \n",
       "19        40879  Subscriber    Male  2013-07-09 13:14:00  2013-07-09 13:20:00   \n",
       "20        42488  Subscriber  Female  2013-07-09 17:39:00  2013-07-09 17:55:00   \n",
       "21        42818  Subscriber  Female  2013-07-09 19:26:00  2013-07-09 19:38:00   \n",
       "22        43804  Subscriber  Female  2013-07-10 09:18:00  2013-07-10 09:33:00   \n",
       "23        45077  Subscriber  Female  2013-07-10 12:34:00  2013-07-10 12:46:00   \n",
       "24        46108  Subscriber  Female  2013-07-10 16:35:00  2013-07-10 16:44:00   \n",
       "25        47798  Subscriber  Female  2013-07-11 08:17:00  2013-07-11 08:31:00   \n",
       "26        51130  Subscriber    Male  2013-07-12 01:07:00  2013-07-12 01:24:00   \n",
       "27        51210  Subscriber    Male  2013-07-12 06:53:00  2013-07-12 07:00:00   \n",
       "28        51823  Subscriber    Male  2013-07-12 10:01:00  2013-07-12 10:02:00   \n",
       "29        52547  Subscriber    Male  2013-07-12 12:23:00  2013-07-12 12:28:00   \n",
       "...         ...         ...     ...                  ...                  ...   \n",
       "50059  17525739  Subscriber    Male  2017-12-23 15:28:00  2017-12-23 15:34:00   \n",
       "50060  17525743  Subscriber    Male  2017-12-23 15:31:00  2017-12-23 15:38:00   \n",
       "50061  17526542  Subscriber  Female  2017-12-24 07:56:00  2017-12-24 07:59:00   \n",
       "50062  17527722  Subscriber    Male  2017-12-25 18:31:00  2017-12-25 18:38:00   \n",
       "50063  17528311  Subscriber    Male  2017-12-26 13:27:00  2017-12-26 13:35:00   \n",
       "50064  17528461  Subscriber    Male  2017-12-26 15:09:00  2017-12-26 15:19:00   \n",
       "50065  17528527  Subscriber    Male  2017-12-26 15:49:00  2017-12-26 15:56:00   \n",
       "50066  17528614  Subscriber    Male  2017-12-26 16:34:00  2017-12-26 16:46:00   \n",
       "50067  17529175  Subscriber    Male  2017-12-27 06:05:00  2017-12-27 06:07:00   \n",
       "50068  17529292  Subscriber    Male  2017-12-27 07:46:00  2017-12-27 08:00:00   \n",
       "50069  17529402  Subscriber    Male  2017-12-27 08:34:00  2017-12-27 08:38:00   \n",
       "50070  17530881  Subscriber    Male  2017-12-27 20:02:00  2017-12-27 20:06:00   \n",
       "50071  17530946  Subscriber  Female  2017-12-27 21:08:00  2017-12-27 21:22:00   \n",
       "50072  17531067  Subscriber    Male  2017-12-28 06:16:00  2017-12-28 06:22:00   \n",
       "50073  17531700  Subscriber    Male  2017-12-28 10:27:00  2017-12-28 10:34:00   \n",
       "50074  17532063  Subscriber    Male  2017-12-28 13:08:00  2017-12-28 13:13:00   \n",
       "50075  17532624  Subscriber    Male  2017-12-28 17:03:00  2017-12-28 17:07:00   \n",
       "50076  17533419  Subscriber    Male  2017-12-29 08:42:00  2017-12-29 08:48:00   \n",
       "50077  17533484  Subscriber    Male  2017-12-29 09:13:00  2017-12-29 09:53:00   \n",
       "50078  17533656  Subscriber  Female  2017-12-29 11:14:00  2017-12-29 11:28:00   \n",
       "50079  17533757  Subscriber    Male  2017-12-29 12:08:00  2017-12-29 12:12:00   \n",
       "50080  17534057  Subscriber    Male  2017-12-29 15:28:00  2017-12-29 15:51:00   \n",
       "50081  17534131  Subscriber    Male  2017-12-29 16:09:00  2017-12-29 16:19:00   \n",
       "50082  17534773  Subscriber    Male  2017-12-30 10:47:00  2017-12-30 10:53:00   \n",
       "50083  17534831  Subscriber    Male  2017-12-30 11:36:00  2017-12-30 11:55:00   \n",
       "50084  17534938  Subscriber    Male  2017-12-30 13:07:00  2017-12-30 13:34:00   \n",
       "50085  17534969  Subscriber    Male  2017-12-30 13:34:00  2017-12-30 13:44:00   \n",
       "50086  17534972  Subscriber    Male  2017-12-30 13:34:00  2017-12-30 13:48:00   \n",
       "50087  17535645  Subscriber  Female  2017-12-31 09:30:00  2017-12-31 09:33:00   \n",
       "50088  17536246  Subscriber    Male  2017-12-31 15:22:00  2017-12-31 15:26:00   \n",
       "\n",
       "       tripduration                from_station_name  latitude_start  \\\n",
       "0               993        Lake Shore Dr & Monroe St       41.881050   \n",
       "1               623     Clinton St & Washington Blvd       41.883380   \n",
       "2              1040     Sheffield Ave & Kingsbury St       41.909592   \n",
       "3               667          Carpenter St & Huron St       41.894556   \n",
       "4               130           Damen Ave & Pierce Ave       41.909396   \n",
       "5               660         California Ave & 21st St       41.854016   \n",
       "6               565           Clark St & Randolph St       41.884576   \n",
       "7               505          State St & Van Buren St       41.877181   \n",
       "8              1300     Clinton St & Washington Blvd       41.883380   \n",
       "9               922    Lakeview Ave & Fullerton Pkwy       41.925858   \n",
       "10             1523              Morgan St & 18th St       41.858086   \n",
       "11             1697       Ashland Ave & Armitage Ave       41.917859   \n",
       "12             2263         Jefferson St & Monroe St       41.880422   \n",
       "13             1365             May St & Randolph St       41.883970   \n",
       "14              610              Morgan St & Lake St       41.885483   \n",
       "15              415         Aberdeen St & Madison St       41.881487   \n",
       "16              487           Clinton St & Tilden St       41.875885   \n",
       "17              622       Larrabee St & Kingsbury St       41.897764   \n",
       "18             5396          Canal St & Jackson Blvd       41.878114   \n",
       "19              384         Aberdeen St & Madison St       41.881487   \n",
       "20              943          State St & Van Buren St       41.877181   \n",
       "21              726           Clark St & Randolph St       41.884576   \n",
       "22              895             Wells St & Walton St       41.899930   \n",
       "23              700       Lincoln Ave & Armitage Ave       41.918273   \n",
       "24              511           Michigan Ave & Lake St       41.886058   \n",
       "25              830        Wabash Ave & Roosevelt Rd       41.867173   \n",
       "26             1043           State St & Harrison St       41.873958   \n",
       "27              439        Wabash Ave & Roosevelt Rd       41.867173   \n",
       "28               88               Daley Center Plaza       41.884337   \n",
       "29              294           Michigan Ave & Lake St       41.886058   \n",
       "...             ...                              ...             ...   \n",
       "50059           389     Marshfield Ave & Cortland St       41.916017   \n",
       "50060           412      Western Ave & Winnebago Ave       41.915520   \n",
       "50061           183       Hampden Ct & Diversey Pkwy       41.932620   \n",
       "50062           389            Dayton St & North Ave       41.910578   \n",
       "50063           493     Washtenaw Ave & Lawrence Ave       41.968987   \n",
       "50064           583  Racine Ave (May St) & Fulton St       41.886926   \n",
       "50065           369      Lincoln Ave & Diversey Pkwy       41.932225   \n",
       "50066           705             Clinton St & Lake St       41.885637   \n",
       "50067           138        Wabash Ave & Roosevelt Rd       41.867227   \n",
       "50068           856              Canal St & Adams St       41.879255   \n",
       "50069           227         LaSalle St & Illinois St       41.890762   \n",
       "50070           275           Halsted St & Roscoe St       41.943670   \n",
       "50071           867          Western Ave & Walton St       41.898418   \n",
       "50072           392           State St & Randolph St       41.884730   \n",
       "50073           401        Sheffield Ave & Willow St       41.913688   \n",
       "50074           258        Ashland Ave & Chicago Ave       41.895966   \n",
       "50075           226           Wabash Ave & Wacker Pl       41.886875   \n",
       "50076           356  Blackstone Ave & Hyde Park Blvd       41.802562   \n",
       "50077          2378             Clinton St & 18th St       41.857950   \n",
       "50078           877     Southport Ave & Waveland Ave       41.948150   \n",
       "50079           270      Southport Ave & Belmont Ave       41.939490   \n",
       "50080          1378  Cityfront Plaza Dr & Pioneer Ct       41.890573   \n",
       "50081           617           Kingsbury St & Erie St       41.893882   \n",
       "50082           363             Larrabee St & Oak St       41.900219   \n",
       "50083          1175          Western Ave & Walton St       41.898418   \n",
       "50084          1625            State St & Pearson St       41.897448   \n",
       "50085           585         Halsted St & 35th St (*)       41.830661   \n",
       "50086           824         Kingsbury St & Kinzie St       41.889177   \n",
       "50087           178             Clinton St & Lake St       41.885637   \n",
       "50088           214       Clarendon Ave & Leland Ave       41.967968   \n",
       "\n",
       "       longitude_start  dpcapacity_start                      to_station_name  \\\n",
       "0           -87.616970              11.0                Michigan Ave & Oak St   \n",
       "1           -87.641170              31.0                 Wells St & Walton St   \n",
       "2           -87.653497              15.0              Dearborn St & Monroe St   \n",
       "3           -87.653449              19.0               Clark St & Randolph St   \n",
       "4           -87.677692              19.0               Damen Ave & Pierce Ave   \n",
       "5           -87.695445              15.0            Clark St & Wrightwood Ave   \n",
       "6           -87.631890              31.0      Ravenswood Ave & Irving Park Rd   \n",
       "7           -87.627844              27.0           Franklin St & Jackson Blvd   \n",
       "8           -87.641170              31.0                Wood St & Division St   \n",
       "9           -87.638973              19.0           Racine Ave & Congress Pkwy   \n",
       "10          -87.651073              15.0               Damen Ave & Pierce Ave   \n",
       "11          -87.668919              15.0           Lincoln Ave & Armitage Ave   \n",
       "12          -87.642746              19.0             Jefferson St & Monroe St   \n",
       "13          -87.655688              15.0                      Millennium Park   \n",
       "14          -87.652305              15.0           Aberdeen St & Jackson Blvd   \n",
       "15          -87.654752              19.0                   May St & Taylor St   \n",
       "16          -87.640795              23.0               State St & Harrison St   \n",
       "17          -87.642884              27.0                 State St & Kinzie St   \n",
       "18          -87.639971              35.0                      Millennium Park   \n",
       "19          -87.654752              19.0              Canal St & Jackson Blvd   \n",
       "20          -87.627844              27.0                   State St & 16th St   \n",
       "21          -87.631890              31.0               State St & Harrison St   \n",
       "22          -87.634430              19.0           Ashland Ave & Augusta Blvd   \n",
       "23          -87.638116              19.0           Wilton Ave & Diversey Pkwy   \n",
       "24          -87.624289              23.0              Clinton St & Madison St   \n",
       "25          -87.625955              19.0                   Daley Center Plaza   \n",
       "26          -87.627739              19.0                 Racine Ave & 18th St   \n",
       "27          -87.625955              19.0               Dearborn St & Adams St   \n",
       "28          -87.630183              47.0                   Daley Center Plaza   \n",
       "29          -87.624289              23.0                   Daley Center Plaza   \n",
       "...                ...               ...                                  ...   \n",
       "50059       -87.668879              23.0            Leavitt St & Armitage Ave   \n",
       "50060       -87.687022              15.0         Spaulding Ave & Armitage Ave   \n",
       "50061       -87.642385              23.0           Wilton Ave & Diversey Pkwy   \n",
       "50062       -87.649422              19.0                 Larrabee St & Oak St   \n",
       "50063       -87.696027              15.0        Ravenswood Ave & Lawrence Ave   \n",
       "50064       -87.656919              15.0                  Canal St & Adams St   \n",
       "50065       -87.658617              15.0            Clark St & Wrightwood Ave   \n",
       "50066       -87.641823              23.0              Ogden Ave & Chicago Ave   \n",
       "50067       -87.625961              23.0               Michigan Ave & 14th St   \n",
       "50068       -87.639904              47.0          Dearborn Pkwy & Delaware Pl   \n",
       "50069       -87.631697              31.0             Fairbanks Ct & Grand Ave   \n",
       "50070       -87.648950              15.0            Clark St & Wellington Ave   \n",
       "50071       -87.686596              19.0             Damen Ave & Augusta Blvd   \n",
       "50072       -87.627734              27.0             McClurg Ct & Illinois St   \n",
       "50073       -87.652855              15.0           Clybourn Ave & Division St   \n",
       "50074       -87.667747              15.0            Ashland Ave & Division St   \n",
       "50075       -87.626030              19.0               State St & Randolph St   \n",
       "50076       -87.590368              19.0              Lake Park Ave & 56th St   \n",
       "50077       -87.640826              15.0                 Canal St & Taylor St   \n",
       "50078       -87.663940              23.0           Clarendon Ave & Gordon Ter   \n",
       "50079       -87.663780              15.0             Wilton Ave & Belmont Ave   \n",
       "50080       -87.622072              23.0  Mies van der Rohe Way & Chestnut St   \n",
       "50081       -87.641711              23.0                  Canal St & Adams St   \n",
       "50082       -87.642985              19.0        Halsted St & Blackhawk St (*)   \n",
       "50083       -87.686596              19.0             Damen Ave & Clybourn Ave   \n",
       "50084       -87.628722              27.0                    Clark St & Elm St   \n",
       "50085       -87.647172              16.0                  Union Ave & Root St   \n",
       "50086       -87.638506              31.0        Halsted St & Blackhawk St (*)   \n",
       "50087       -87.641823              23.0             Kingsbury St & Kinzie St   \n",
       "50088       -87.650001              15.0           Clifton Ave & Lawrence Ave   \n",
       "\n",
       "       latitude_end  longitude_end  dpcapacity_end  temperature  visibility  \\\n",
       "0         41.900960     -87.623777            15.0         73.9        10.0   \n",
       "1         41.899930     -87.634430            19.0         69.1        10.0   \n",
       "2         41.881320     -87.629521            23.0         73.0        10.0   \n",
       "3         41.884576     -87.631890            31.0         72.0        10.0   \n",
       "4         41.909396     -87.677692            19.0         73.0        10.0   \n",
       "5         41.929546     -87.643118            15.0         73.0        10.0   \n",
       "6         41.954690     -87.673930            19.0         66.0        10.0   \n",
       "7         41.877708     -87.635321            27.0         64.0         7.0   \n",
       "8         41.903320     -87.672730            15.0         71.1         8.0   \n",
       "9         41.874640     -87.657030            19.0         81.0        10.0   \n",
       "10        41.909396     -87.677692            19.0         79.0        10.0   \n",
       "11        41.918273     -87.638116            19.0         79.0        10.0   \n",
       "12        41.880422     -87.642746            19.0         79.0        10.0   \n",
       "13        41.881032     -87.624084            35.0         78.1        10.0   \n",
       "14        41.877726     -87.654787            15.0         82.0        10.0   \n",
       "15        41.869482     -87.655486            15.0         72.0        10.0   \n",
       "16        41.873958     -87.627739            19.0         84.0        10.0   \n",
       "17        41.889180     -87.627700            15.0         84.0        10.0   \n",
       "18        41.881032     -87.624084            35.0         79.0        10.0   \n",
       "19        41.878114     -87.639971            35.0         79.0        10.0   \n",
       "20        41.860121     -87.627729            15.0         82.9        10.0   \n",
       "21        41.873958     -87.627739            19.0         82.9        10.0   \n",
       "22        41.899643     -87.667700            15.0         82.0        10.0   \n",
       "23        41.932500     -87.652681            19.0         84.9        10.0   \n",
       "24        41.881582     -87.641277            23.0         82.9        10.0   \n",
       "25        41.884337     -87.630183            47.0         73.9        10.0   \n",
       "26        41.858181     -87.656487            15.0         64.9        10.0   \n",
       "27        41.879356     -87.629791            19.0         64.9        10.0   \n",
       "28        41.884337     -87.630183            47.0         77.0        10.0   \n",
       "29        41.884337     -87.630183            47.0         81.0        10.0   \n",
       "...             ...            ...             ...          ...         ...   \n",
       "50059     41.917805     -87.682437            11.0         26.1        10.0   \n",
       "50060     41.917184     -87.710357            15.0         26.1        10.0   \n",
       "50061     41.932418     -87.652705            27.0         21.0        10.0   \n",
       "50062     41.900219     -87.642985            19.0         10.0        10.0   \n",
       "50063     41.969090     -87.674237            39.0          3.9        10.0   \n",
       "50064     41.879255     -87.639904            47.0          3.9        10.0   \n",
       "50065     41.929546     -87.643118            15.0          3.9        10.0   \n",
       "50066     41.896362     -87.654061            19.0          3.0        10.0   \n",
       "50067     41.864059     -87.623727            19.0         -2.9        10.0   \n",
       "50068     41.898969     -87.629912            19.0         -2.9        10.0   \n",
       "50069     41.891860     -87.620620            15.0         -0.9        10.0   \n",
       "50070     41.936497     -87.647539            15.0          1.0        10.0   \n",
       "50071     41.899113     -87.677212            23.0          1.0        10.0   \n",
       "50072     41.890359     -87.617532            31.0          5.0        10.0   \n",
       "50073     41.904613     -87.640552            15.0         12.9        10.0   \n",
       "50074     41.903450     -87.667747            19.0         12.9         6.0   \n",
       "50075     41.884730     -87.627734            27.0         12.0         2.0   \n",
       "50076     41.793242     -87.587782            19.0         10.9         8.0   \n",
       "50077     41.870257     -87.639474            15.0         12.9         9.0   \n",
       "50078     41.957879     -87.649519            15.0         14.0        10.0   \n",
       "50079     41.940180     -87.653040            23.0         14.0         2.5   \n",
       "50080     41.898587     -87.621915            19.0         14.0         1.5   \n",
       "50081     41.879255     -87.639904            47.0         14.0         1.5   \n",
       "50082     41.908537     -87.648627            20.0          3.9        10.0   \n",
       "50083     41.931931     -87.677856            15.0          3.9        10.0   \n",
       "50084     41.902973     -87.631280            27.0          5.0        10.0   \n",
       "50085     41.819102     -87.643278            11.0          5.0        10.0   \n",
       "50086     41.908537     -87.648627            20.0          5.0        10.0   \n",
       "50087     41.889177     -87.638506            31.0          7.0        10.0   \n",
       "50088     41.968812     -87.657659            15.0         10.9        10.0   \n",
       "\n",
       "       wind_speed  precipitation        events  \n",
       "0            12.7       -9999.00  mostlycloudy  \n",
       "1             6.9       -9999.00  partlycloudy  \n",
       "2            16.1       -9999.00  mostlycloudy  \n",
       "3            16.1       -9999.00  mostlycloudy  \n",
       "4            17.3       -9999.00  partlycloudy  \n",
       "5            17.3       -9999.00  mostlycloudy  \n",
       "6            15.0       -9999.00        cloudy  \n",
       "7             5.8       -9999.00        cloudy  \n",
       "8             0.0       -9999.00        cloudy  \n",
       "9            12.7       -9999.00  mostlycloudy  \n",
       "10            9.2       -9999.00  mostlycloudy  \n",
       "11           10.4       -9999.00  mostlycloudy  \n",
       "12            0.0       -9999.00  partlycloudy  \n",
       "13            5.8       -9999.00  partlycloudy  \n",
       "14            5.8       -9999.00  mostlycloudy  \n",
       "15            5.8       -9999.00  mostlycloudy  \n",
       "16            8.1           0.00  mostlycloudy  \n",
       "17            8.1           0.00  mostlycloudy  \n",
       "18           13.8           0.00        cloudy  \n",
       "19           13.8           0.00        cloudy  \n",
       "20            9.2       -9999.00  mostlycloudy  \n",
       "21            9.2       -9999.00  partlycloudy  \n",
       "22           11.5       -9999.00  partlycloudy  \n",
       "23           16.1       -9999.00  mostlycloudy  \n",
       "24           12.7       -9999.00  partlycloudy  \n",
       "25            8.1       -9999.00         clear  \n",
       "26            0.0       -9999.00         clear  \n",
       "27            0.0       -9999.00  partlycloudy  \n",
       "28            4.6       -9999.00  partlycloudy  \n",
       "29            4.6       -9999.00  partlycloudy  \n",
       "...           ...            ...           ...  \n",
       "50059        11.5       -9999.00  partlycloudy  \n",
       "50060        11.5       -9999.00  partlycloudy  \n",
       "50061         6.9       -9999.00        cloudy  \n",
       "50062         6.9       -9999.00  partlycloudy  \n",
       "50063        12.7       -9999.00  mostlycloudy  \n",
       "50064        11.5       -9999.00  partlycloudy  \n",
       "50065        11.5       -9999.00  partlycloudy  \n",
       "50066         9.2       -9999.00  partlycloudy  \n",
       "50067        11.5       -9999.00  partlycloudy  \n",
       "50068         8.1       -9999.00  partlycloudy  \n",
       "50069         8.1       -9999.00  partlycloudy  \n",
       "50070         0.0       -9999.00  partlycloudy  \n",
       "50071         4.6       -9999.00  partlycloudy  \n",
       "50072         0.0       -9999.00        cloudy  \n",
       "50073        10.4       -9999.00        cloudy  \n",
       "50074         9.2           0.00          snow  \n",
       "50075         8.1           0.01          snow  \n",
       "50076         4.6       -9999.00        cloudy  \n",
       "50077         4.6       -9999.00        cloudy  \n",
       "50078         5.8       -9999.00        cloudy  \n",
       "50079         6.9           0.00          snow  \n",
       "50080         6.9           0.01          snow  \n",
       "50081         6.9           0.00          snow  \n",
       "50082        13.8       -9999.00  mostlycloudy  \n",
       "50083        13.8       -9999.00  partlycloudy  \n",
       "50084        16.1       -9999.00  partlycloudy  \n",
       "50085        16.1       -9999.00  partlycloudy  \n",
       "50086        16.1       -9999.00  partlycloudy  \n",
       "50087        11.5       -9999.00  partlycloudy  \n",
       "50088        15.0       -9999.00  partlycloudy  \n",
       "\n",
       "[50089 rows x 19 columns]>"
      ]
     },
     "execution_count": 42,
     "metadata": {},
     "output_type": "execute_result"
    }
   ],
   "source": [
    "bikes.info # it's a mistake, python allows to reference function as a variable.\n",
    "# Outputs the object itself.\n",
    "# It referes the method and nothing will be done here. \n",
    "# it tells that it is an info function, but it would returns the raw data if wrongly used.\n",
    "# It means we forget prantisis "
   ]
  },
  {
   "cell_type": "code",
   "execution_count": 49,
   "metadata": {},
   "outputs": [
    {
     "data": {
      "text/plain": [
       "method"
      ]
     },
     "execution_count": 49,
     "metadata": {},
     "output_type": "execute_result"
    }
   ],
   "source": [
    "type(bikes.info)"
   ]
  },
  {
   "cell_type": "code",
   "execution_count": 50,
   "metadata": {},
   "outputs": [
    {
     "data": {
      "text/plain": [
       "tuple"
      ]
     },
     "execution_count": 50,
     "metadata": {},
     "output_type": "execute_result"
    }
   ],
   "source": [
    "shape = bikes.shape\n",
    "type(shape)"
   ]
  },
  {
   "cell_type": "code",
   "execution_count": 51,
   "metadata": {},
   "outputs": [
    {
     "data": {
      "text/plain": [
       "(50089, 19)"
      ]
     },
     "execution_count": 51,
     "metadata": {},
     "output_type": "execute_result"
    }
   ],
   "source": [
    "shape"
   ]
  },
  {
   "cell_type": "markdown",
   "metadata": {},
   "source": [
    "method has to put (), or it's not an error\n"
   ]
  },
  {
   "cell_type": "code",
   "execution_count": 53,
   "metadata": {},
   "outputs": [
    {
     "data": {
      "text/plain": [
       "True"
      ]
     },
     "execution_count": 53,
     "metadata": {},
     "output_type": "execute_result"
    }
   ],
   "source": [
    "info is None"
   ]
  },
  {
   "cell_type": "code",
   "execution_count": 54,
   "metadata": {},
   "outputs": [
    {
     "data": {
      "text/plain": [
       "NoneType"
      ]
     },
     "execution_count": 54,
     "metadata": {},
     "output_type": "execute_result"
    }
   ],
   "source": [
    "type(info)"
   ]
  },
  {
   "cell_type": "code",
   "execution_count": 55,
   "metadata": {},
   "outputs": [
    {
     "data": {
      "text/plain": [
       "True"
      ]
     },
     "execution_count": 55,
     "metadata": {},
     "output_type": "execute_result"
    }
   ],
   "source": [
    "a = None\n",
    "b = None\n",
    "a is b"
   ]
  },
  {
   "cell_type": "code",
   "execution_count": null,
   "metadata": {},
   "outputs": [],
   "source": []
  }
 ],
 "metadata": {
  "anaconda-cloud": {},
  "kernelspec": {
   "display_name": "Python 3",
   "language": "python",
   "name": "python3"
  },
  "language_info": {
   "codemirror_mode": {
    "name": "ipython",
    "version": 3
   },
   "file_extension": ".py",
   "mimetype": "text/x-python",
   "name": "python",
   "nbconvert_exporter": "python",
   "pygments_lexer": "ipython3",
   "version": "3.6.6"
  },
  "varInspector": {
   "cols": {
    "lenName": 16,
    "lenType": 16,
    "lenVar": 40
   },
   "kernels_config": {
    "python": {
     "delete_cmd_postfix": "",
     "delete_cmd_prefix": "del ",
     "library": "var_list.py",
     "varRefreshCmd": "print(var_dic_list())"
    },
    "r": {
     "delete_cmd_postfix": ") ",
     "delete_cmd_prefix": "rm(",
     "library": "var_list.r",
     "varRefreshCmd": "cat(var_dic_list()) "
    }
   },
   "types_to_exclude": [
    "module",
    "function",
    "builtin_function_or_method",
    "instance",
    "_Feature"
   ],
   "window_display": false
  }
 },
 "nbformat": 4,
 "nbformat_minor": 2
}
