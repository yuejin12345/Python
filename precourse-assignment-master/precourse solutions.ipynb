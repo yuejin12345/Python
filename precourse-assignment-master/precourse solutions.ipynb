{
 "cells": [
  {
   "cell_type": "markdown",
   "metadata": {},
   "source": [
    "# Solutions to precourse assignment\n",
    "1. [Intro Jupyter Notebook](#1.-Intro-Jupyter-Notebook)\n",
    "1. [Strings](#2.-Strings)\n",
    "1. [Objects](#3.-Objects)\n",
    "1. [Lists](#4.-Lists)\n",
    "1. [Control Flow](#5.-Control-Flow)\n",
    "1. [Functions](#6.-Functions)\n",
    "1. [Tuples, Sets and Dictionaries](#7.-Tuples,-Sets-and-Dictionaries)\n",
    "1. [Imports and Modules](#8.-Imports-and-Modules)\n",
    "1. [Classes](#9.-Classes)"
   ]
  },
  {
   "cell_type": "markdown",
   "metadata": {},
   "source": [
    "# 1. Intro Jupyter Notebook"
   ]
  },
  {
   "cell_type": "markdown",
   "metadata": {},
   "source": [
    "### Problem 1\n",
    "<span style=\"color:green\">How many seconds are there in a century?</span>"
   ]
  },
  {
   "cell_type": "code",
   "execution_count": 1,
   "metadata": {},
   "outputs": [
    {
     "data": {
      "text/plain": [
       "3155760000.0"
      ]
     },
     "execution_count": 1,
     "metadata": {},
     "output_type": "execute_result"
    }
   ],
   "source": [
    "# your code here\n",
    "60 * 60 * 24 * 365.25 * 100"
   ]
  },
  {
   "cell_type": "markdown",
   "metadata": {},
   "source": [
    "### Problem 2\n",
    "<span style=\"color:green\">Use three different variables to store a 15% sales tax on a $70 meal to get the total and return them all as output at the same time</span>"
   ]
  },
  {
   "cell_type": "code",
   "execution_count": 6,
   "metadata": {},
   "outputs": [
    {
     "data": {
      "text/plain": [
       "(0.15, 70, 80.5)"
      ]
     },
     "execution_count": 6,
     "metadata": {},
     "output_type": "execute_result"
    }
   ],
   "source": [
    "# your code here\n",
    "tax_rate = .15\n",
    "meal = 70\n",
    "total = (tax_rate + 1) * meal\n",
    "tax_rate, meal, total"
   ]
  },
  {
   "cell_type": "markdown",
   "metadata": {},
   "source": [
    "# 2. Strings"
   ]
  },
  {
   "cell_type": "markdown",
   "metadata": {},
   "source": [
    "### Problem 1\n",
    "<span style=\"color:green\">Replace each occurrence of 'in' with 'out' in the following string. </span>"
   ]
  },
  {
   "cell_type": "code",
   "execution_count": 2,
   "metadata": {},
   "outputs": [
    {
     "data": {
      "text/plain": [
       "'it is startoutg to raout on the outside'"
      ]
     },
     "execution_count": 2,
     "metadata": {},
     "output_type": "execute_result"
    }
   ],
   "source": [
    "replace_string = 'it is starting to rain on the inside'\n",
    "# your code here\n",
    "replace_string.replace('in', 'out')"
   ]
  },
  {
   "cell_type": "markdown",
   "metadata": {},
   "source": [
    "### Problem 2\n",
    "<span style=\"color:green\">Find and use a method that will strip away all the exclamation points from either end of the following string </span>"
   ]
  },
  {
   "cell_type": "code",
   "execution_count": 3,
   "metadata": {},
   "outputs": [
    {
     "data": {
      "text/plain": [
       "'a string with a dull message'"
      ]
     },
     "execution_count": 3,
     "metadata": {},
     "output_type": "execute_result"
    }
   ],
   "source": [
    "s = '!!!!a string with a dull message!!!!'\n",
    "# your code here\n",
    "s.strip('!')"
   ]
  },
  {
   "cell_type": "markdown",
   "metadata": {},
   "source": [
    "### Problem 3\n",
    "<span style=\"color:green\">Find and use a method that will find the position of the first occurrence of the letter `t` in the following string. </span>"
   ]
  },
  {
   "cell_type": "code",
   "execution_count": 1,
   "metadata": {},
   "outputs": [
    {
     "data": {
      "text/plain": [
       "4"
      ]
     },
     "execution_count": 1,
     "metadata": {},
     "output_type": "execute_result"
    }
   ],
   "source": [
    "s = 'a data scientist'\n",
    "# your code here\n",
    "s.find('t')"
   ]
  },
  {
   "cell_type": "markdown",
   "metadata": {},
   "source": [
    "### Problem 4\n",
    "<span style=\"color:green\">Strip each letter 'a' from the left side, switch the case of each letter (from lower to upper and from upper to lower), and find the position(aka index) of the first letter 'o'. </span>"
   ]
  },
  {
   "cell_type": "code",
   "execution_count": 3,
   "metadata": {},
   "outputs": [
    {
     "data": {
      "text/plain": [
       "2"
      ]
     },
     "execution_count": 3,
     "metadata": {},
     "output_type": "execute_result"
    }
   ],
   "source": [
    "test_string = 'aaaa TOO many aaaaaaaaa'\n",
    "# your code here\n",
    "\n",
    "test_string.lstrip('a').swapcase().index('o')"
   ]
  },
  {
   "cell_type": "markdown",
   "metadata": {},
   "source": [
    "### Problem 5\n",
    "<span style=\"color:green\">Select the last three letters of the following string.</span>"
   ]
  },
  {
   "cell_type": "code",
   "execution_count": 4,
   "metadata": {},
   "outputs": [
    {
     "data": {
      "text/plain": [
       "'rse'"
      ]
     },
     "execution_count": 4,
     "metadata": {},
     "output_type": "execute_result"
    }
   ],
   "source": [
    "test_string = 'make sure you complete the entire precourse'\n",
    "# your code here\n",
    "test_string[-3:]"
   ]
  },
  {
   "cell_type": "markdown",
   "metadata": {},
   "source": [
    "### Problem 6\n",
    "<span style=\"color:green\">Slice this string from index 5 to the end by every 4th element</span>"
   ]
  },
  {
   "cell_type": "code",
   "execution_count": 6,
   "metadata": {},
   "outputs": [
    {
     "data": {
      "text/plain": [
       "'ssliho ian 8'"
      ]
     },
     "execution_count": 6,
     "metadata": {},
     "output_type": "execute_result"
    }
   ],
   "source": [
    "s = 'the astros will win the world series again in 2018'\n",
    "# your code here\n",
    "s[5::4]"
   ]
  },
  {
   "cell_type": "markdown",
   "metadata": {},
   "source": [
    "### Problem 7\n",
    "<span style=\"color:green\">Select every third element starting from the last character and ending with the first. </span>"
   ]
  },
  {
   "cell_type": "code",
   "execution_count": 7,
   "metadata": {},
   "outputs": [
    {
     "data": {
      "text/plain": [
       "'82iiaeedoe wl rah'"
      ]
     },
     "execution_count": 7,
     "metadata": {},
     "output_type": "execute_result"
    }
   ],
   "source": [
    "s = 'the astros will win the world series again in 2018'\n",
    "# your code here\n",
    "s[::-3]"
   ]
  },
  {
   "cell_type": "markdown",
   "metadata": {},
   "source": [
    "### Problem 8\n",
    "<span style=\"color:green\">Use four chained methods on a string of your choice.</span>"
   ]
  },
  {
   "cell_type": "code",
   "execution_count": 17,
   "metadata": {},
   "outputs": [
    {
     "data": {
      "text/plain": [
       "['Blah', 'Blah', 'And', 'More', 'Blah']"
      ]
     },
     "execution_count": 17,
     "metadata": {},
     "output_type": "execute_result"
    }
   ],
   "source": [
    "# Enter in a string inside the quotes\n",
    "your_string = '        blah blah and more blah'\n",
    "# your code here\n",
    "your_string.title().ljust(0).strip().split() # returns list"
   ]
  },
  {
   "cell_type": "markdown",
   "metadata": {},
   "source": [
    "# 4. Lists"
   ]
  },
  {
   "cell_type": "markdown",
   "metadata": {},
   "source": [
    "### Problem 1\n",
    "<span style=\"color:green\">Mutate `list_2` and print out both lists. Does mutating list_2 still change list_1? </span> "
   ]
  },
  {
   "cell_type": "code",
   "execution_count": 2,
   "metadata": {},
   "outputs": [
    {
     "name": "stdout",
     "output_type": "stream",
     "text": [
      "['changed', 5, 10]\n",
      "['changed', 5, 10]\n"
     ]
    }
   ],
   "source": [
    "list_1 = [1, 5, 10]\n",
    "list_2 = list_1\n",
    "\n",
    "# your code here\n",
    "list_2[0] = 'changed'\n",
    "\n",
    "print(list_1) # yes, list_1 mutated\n",
    "print(list_2) "
   ]
  },
  {
   "cell_type": "markdown",
   "metadata": {},
   "source": [
    "### Problem 2\n",
    "<span style=\"color:green\">In the following code, both `list_1` and `list_2` are defined to have the same elements. Mutate `list_1`. Does `list_2` also get mutated?</span> "
   ]
  },
  {
   "cell_type": "code",
   "execution_count": 8,
   "metadata": {},
   "outputs": [
    {
     "name": "stdout",
     "output_type": "stream",
     "text": [
      "[-99, 3, 5]\n",
      "[1, 3, 5]\n"
     ]
    }
   ],
   "source": [
    "list_1 = [1, 3, 5]\n",
    "list_2 = [1, 3, 5]\n",
    "\n",
    "# your code here\n",
    "list_1[0] = -99\n",
    "print(list_1)\n",
    "print(list_2)"
   ]
  },
  {
   "cell_type": "markdown",
   "metadata": {},
   "source": [
    "Two new list objects are created here separately and are completely different objects. They have no relation to one another, they just happen to have all their elements equal to each other."
   ]
  },
  {
   "cell_type": "markdown",
   "metadata": {},
   "source": [
    "### Problem 3\n",
    "<span style=\"color:green\">Does the `id` of a list change after it is ordered? Use an example to determine the outcome.</span> "
   ]
  },
  {
   "cell_type": "code",
   "execution_count": 9,
   "metadata": {},
   "outputs": [
    {
     "name": "stdout",
     "output_type": "stream",
     "text": [
      "4531950792\n",
      "4531950792\n"
     ]
    }
   ],
   "source": [
    "# your code here\n",
    "a = [5, 4, 3]\n",
    "print(id(a))\n",
    "\n",
    "a.sort()\n",
    "print(id(a))"
   ]
  },
  {
   "cell_type": "markdown",
   "metadata": {},
   "source": [
    "No, the id stays the same. It is still the same object, its just been mutated."
   ]
  },
  {
   "cell_type": "markdown",
   "metadata": {},
   "source": [
    "### Problem 4\n",
    "<span style=\"color:green\">Create a list of 10 elements starting from 0 using the range function. Slice the list from the 2nd element to the 6th element with a step size of 2 and attempt to assign a single element list to it. What happens?</span> "
   ]
  },
  {
   "cell_type": "code",
   "execution_count": 7,
   "metadata": {},
   "outputs": [
    {
     "ename": "ValueError",
     "evalue": "attempt to assign sequence of size 1 to extended slice of size 2",
     "output_type": "error",
     "traceback": [
      "\u001b[0;31m---------------------------------------------------------------------------\u001b[0m",
      "\u001b[0;31mValueError\u001b[0m                                Traceback (most recent call last)",
      "\u001b[0;32m<ipython-input-7-6a12848463d8>\u001b[0m in \u001b[0;36m<module>\u001b[0;34m()\u001b[0m\n\u001b[1;32m      1\u001b[0m \u001b[0;31m# your code here\u001b[0m\u001b[0;34m\u001b[0m\u001b[0;34m\u001b[0m\u001b[0m\n\u001b[1;32m      2\u001b[0m \u001b[0mmy_list\u001b[0m \u001b[0;34m=\u001b[0m \u001b[0mlist\u001b[0m\u001b[0;34m(\u001b[0m\u001b[0mrange\u001b[0m\u001b[0;34m(\u001b[0m\u001b[0;36m10\u001b[0m\u001b[0;34m)\u001b[0m\u001b[0;34m)\u001b[0m\u001b[0;34m\u001b[0m\u001b[0m\n\u001b[0;32m----> 3\u001b[0;31m \u001b[0mmy_list\u001b[0m\u001b[0;34m[\u001b[0m\u001b[0;36m2\u001b[0m\u001b[0;34m:\u001b[0m\u001b[0;36m6\u001b[0m\u001b[0;34m:\u001b[0m\u001b[0;36m2\u001b[0m\u001b[0;34m]\u001b[0m \u001b[0;34m=\u001b[0m \u001b[0;34m[\u001b[0m\u001b[0;36m5\u001b[0m\u001b[0;34m]\u001b[0m \u001b[0;31m# error tells us that slice is size of 2 and we tried to assign 1 element list\u001b[0m\u001b[0;34m\u001b[0m\u001b[0m\n\u001b[0m",
      "\u001b[0;31mValueError\u001b[0m: attempt to assign sequence of size 1 to extended slice of size 2"
     ]
    }
   ],
   "source": [
    "# your code here\n",
    "my_list = list(range(10))\n",
    "my_list[2:6:2] = [5] # error tells us that slice is size of 2 and we tried to assign 1 element list"
   ]
  },
  {
   "cell_type": "markdown",
   "metadata": {},
   "source": [
    "### Problem 5\n",
    "<span style=\"color:green\">After the error above in problem 4, try and assign a different list to that slice that does not raise an error. What is the rule for assigning new elements to slices of lists?</span> "
   ]
  },
  {
   "cell_type": "code",
   "execution_count": 10,
   "metadata": {},
   "outputs": [
    {
     "data": {
      "text/plain": [
       "[0, 1, 99, 3, 100, 5, 6, 7, 8, 9]"
      ]
     },
     "execution_count": 10,
     "metadata": {},
     "output_type": "execute_result"
    }
   ],
   "source": [
    "# your code here\n",
    "my_list[2:6:2] = [99, 100]\n",
    "my_list # you must use a list the same length as the slice"
   ]
  },
  {
   "cell_type": "markdown",
   "metadata": {},
   "source": [
    "### Problem 6\n",
    "<span style=\"color:green\">Create a list using the range function from 100 to 500. Then create a slice object that starts from the 20th element from the end and slices to the end (use keyword `None` for this) by 5. Use this slice object in the list you created.</span> "
   ]
  },
  {
   "cell_type": "code",
   "execution_count": 28,
   "metadata": {},
   "outputs": [
    {
     "data": {
      "text/plain": [
       "[480, 485, 490, 495]"
      ]
     },
     "execution_count": 28,
     "metadata": {},
     "output_type": "execute_result"
    }
   ],
   "source": [
    "# your code here\n",
    "my_list = list(range(100, 500))\n",
    "my_slice = slice(-20, None, 5)\n",
    "my_list[my_slice]"
   ]
  },
  {
   "cell_type": "markdown",
   "metadata": {},
   "source": [
    "### Problem 7\n",
    "<span style=\"color:green\">Create a list of characters using the list function on a string. Delete elements starting from index 2 up to index 6. Output the new list.\n",
    "</span> "
   ]
  },
  {
   "cell_type": "code",
   "execution_count": 29,
   "metadata": {},
   "outputs": [
    {
     "data": {
      "text/plain": [
       "['c', 'h', 't', 'e', 'r', 's', ' ', 'd', 'e', 'l', 'e', 't', 'e', 'd']"
      ]
     },
     "execution_count": 29,
     "metadata": {},
     "output_type": "execute_result"
    }
   ],
   "source": [
    "# your code here\n",
    "my_list = list('characters deleted')\n",
    "del my_list[2:6]\n",
    "my_list"
   ]
  },
  {
   "cell_type": "markdown",
   "metadata": {},
   "source": [
    "### Advanced: Problem 8\n",
    "<span style=\"color:green\">Create a list using the range function from 352 to 5218 by 7. Delete elements starting from the index that is 100th from the end up to the 8th element from the end by 6. Without printing out the entire list, what is the last number that was deleted from your original list? \n",
    "</span> "
   ]
  },
  {
   "cell_type": "code",
   "execution_count": 31,
   "metadata": {},
   "outputs": [
    {
     "data": {
      "text/plain": [
       "[5063,\n",
       " 5077,\n",
       " 5084,\n",
       " 5091,\n",
       " 5098,\n",
       " 5105,\n",
       " 5119,\n",
       " 5126,\n",
       " 5133,\n",
       " 5140,\n",
       " 5147,\n",
       " 5161,\n",
       " 5168,\n",
       " 5175,\n",
       " 5182,\n",
       " 5189,\n",
       " 5196,\n",
       " 5203,\n",
       " 5210,\n",
       " 5217]"
      ]
     },
     "execution_count": 31,
     "metadata": {},
     "output_type": "execute_result"
    }
   ],
   "source": [
    "# your code here\n",
    "a = list(range(352,5218, 7))\n",
    "del a[-100:-8:6]\n",
    "a[-20:]"
   ]
  },
  {
   "cell_type": "markdown",
   "metadata": {},
   "source": [
    "Looking at the last 20 elements we can see where there was an increment of 14 (and not 7) from one element to the next. We can see that the increment of 14 took place from 5147 to 5161 meaning that the element 5154 was the last element deleted."
   ]
  },
  {
   "cell_type": "markdown",
   "metadata": {},
   "source": [
    "### Problem 9\n",
    "<span style=\"color:green\">Use the character 'a' to separate and join the following list to reveal the magic word </span>"
   ]
  },
  {
   "cell_type": "code",
   "execution_count": 35,
   "metadata": {},
   "outputs": [
    {
     "data": {
      "text/plain": [
       "'abaracadabara!'"
      ]
     },
     "execution_count": 35,
     "metadata": {},
     "output_type": "execute_result"
    }
   ],
   "source": [
    "# concatenate all elements of this list together separated by 'a'\n",
    "magic_word = ['', 'b', 'r', 'c', 'd', 'b', 'r', '!']\n",
    "\n",
    "# your code here\n",
    "'a'.join(magic_word)"
   ]
  },
  {
   "cell_type": "markdown",
   "metadata": {},
   "source": [
    "### Problem 10\n",
    "<span style=\"color:green\">use the + operator to concatenate two lists. Make the first list the even elements indices of test_list and the second list the odd elements of test_list</span>"
   ]
  },
  {
   "cell_type": "code",
   "execution_count": 36,
   "metadata": {},
   "outputs": [
    {
     "data": {
      "text/plain": [
       "[0, 2, 4, 6, 8, 10, 12, 14, 16, 18, 1, 3, 5, 7, 9, 11, 13, 15, 17, 19]"
      ]
     },
     "execution_count": 36,
     "metadata": {},
     "output_type": "execute_result"
    }
   ],
   "source": [
    "test_list = list(range(20))\n",
    "\n",
    "# your code here\n",
    "test_list[::2] + test_list[1::2]"
   ]
  },
  {
   "cell_type": "markdown",
   "metadata": {},
   "source": [
    "### Problem 11\n",
    "<span style=\"color:green\">Create a list then use the `extend` method to add elements to it</span>"
   ]
  },
  {
   "cell_type": "code",
   "execution_count": 10,
   "metadata": {},
   "outputs": [
    {
     "data": {
      "text/plain": [
       "['a',\n",
       " 'b',\n",
       " 'c',\n",
       " 'd',\n",
       " 'e',\n",
       " 'f',\n",
       " 'g',\n",
       " 'h',\n",
       " 'i',\n",
       " 'j',\n",
       " 'k',\n",
       " 'l',\n",
       " 'more',\n",
       " 'elements',\n",
       " 'to',\n",
       " 'add']"
      ]
     },
     "execution_count": 10,
     "metadata": {},
     "output_type": "execute_result"
    }
   ],
   "source": [
    "test_list = list('abcdefghijkl')\n",
    "# your code here\n",
    "test_list.extend(['more', 'elements', 'to', 'add'])\n",
    "test_list"
   ]
  },
  {
   "cell_type": "markdown",
   "metadata": {},
   "source": [
    "### Problem 12\n",
    "<span style=\"color:green\">In words, without actually programming, what will <strong>my_list * 5</strong> do?</span>"
   ]
  },
  {
   "cell_type": "markdown",
   "metadata": {},
   "source": [
    "Enter you answer (double click here to edit cell):  \n",
    "`my_list * 5` will concatenate itself to itself 5 times."
   ]
  },
  {
   "cell_type": "code",
   "execution_count": 34,
   "metadata": {},
   "outputs": [
    {
     "name": "stdout",
     "output_type": "stream",
     "text": [
      "['a', 'b', 'c', 'd', 'e', 'f', 'g', 'h', 'i', 'j', 'k', 'l', 'more', 'elements', 'a', 'b', 'c', 'd', 'e', 'f', 'g', 'h', 'i', 'j', 'k', 'l', 'more', 'elements', 'a', 'b', 'c', 'd', 'e', 'f', 'g', 'h', 'i', 'j', 'k', 'l', 'more', 'elements', 'a', 'b', 'c', 'd', 'e', 'f', 'g', 'h', 'i', 'j', 'k', 'l', 'more', 'elements', 'a', 'b', 'c', 'd', 'e', 'f', 'g', 'h', 'i', 'j', 'k', 'l', 'more', 'elements']\n"
     ]
    }
   ],
   "source": [
    "print(test_list * 5)"
   ]
  },
  {
   "cell_type": "markdown",
   "metadata": {},
   "source": [
    "### Problem 13\n",
    "<span style=\"color:green\">First create a list containing at least three inner lists. Then replace the second list with a reverse of the third list.</span>"
   ]
  },
  {
   "cell_type": "code",
   "execution_count": 35,
   "metadata": {},
   "outputs": [
    {
     "data": {
      "text/plain": [
       "[[1, 2, 3], [9, 8, 7], [7, 8, 9]]"
      ]
     },
     "execution_count": 35,
     "metadata": {},
     "output_type": "execute_result"
    }
   ],
   "source": [
    "# your code here\n",
    "list_of_lists = [[1,2,3], [4,5,6], [7,8,9]]\n",
    "list_of_lists[1] = list_of_lists[2][::-1]\n",
    "list_of_lists"
   ]
  },
  {
   "cell_type": "markdown",
   "metadata": {},
   "source": [
    "### Problem 14\n",
    "<span style=\"color:green\">Create a list using the range function from 0 to 100,000 by 113 and determine if the value 87,649 is in the list or not.</span>"
   ]
  },
  {
   "cell_type": "code",
   "execution_count": 48,
   "metadata": {},
   "outputs": [
    {
     "data": {
      "text/plain": [
       "False"
      ]
     },
     "execution_count": 48,
     "metadata": {},
     "output_type": "execute_result"
    }
   ],
   "source": [
    "# your code here\n",
    "my_list = list(range(0, 100000, 113))\n",
    "87649 in my_list"
   ]
  },
  {
   "cell_type": "markdown",
   "metadata": {},
   "source": [
    "# 5. Control Flow"
   ]
  },
  {
   "cell_type": "markdown",
   "metadata": {},
   "source": [
    "### Problem 1\n",
    "<span style=\"color:green\">Create a different string that will trigger the second print statement from above. </span> "
   ]
  },
  {
   "cell_type": "code",
   "execution_count": 43,
   "metadata": {},
   "outputs": [
    {
     "name": "stdout",
     "output_type": "stream",
     "text": [
      "The first k occurs after the 11th element\n"
     ]
    }
   ],
   "source": [
    "# your code here\n",
    "test_string = 'asdfjhweroiuk' # change this string so the second print statement below is triggered\n",
    "\n",
    "# trigger the second print statement\n",
    "if test_string.count('a') > 4:\n",
    "    print(\"There are more than 4 a's in your string\")\n",
    "elif test_string.find('k') > 10:\n",
    "    print(\"The first k occurs after the 11th element\")\n",
    "else:\n",
    "    print(\"My super intelligent responses did not find any info on your string. Please change it\")"
   ]
  },
  {
   "cell_type": "markdown",
   "metadata": {},
   "source": [
    "### Problem 2\n",
    "<span style=\"color:green\">Create a different string that will trigger the third print statement from above. </span> "
   ]
  },
  {
   "cell_type": "code",
   "execution_count": 42,
   "metadata": {},
   "outputs": [
    {
     "name": "stdout",
     "output_type": "stream",
     "text": [
      "My super intelligent responses did not find any info on your string. Please change it\n"
     ]
    }
   ],
   "source": [
    "# your code here\n",
    "test_string = 'asdfjhweroiu' # change this string so the third print statement below is triggered\n",
    "\n",
    "# trigger the third print statement\n",
    "if test_string.count('a') > 4:\n",
    "    print(\"There are more than 4 a's in your string\")\n",
    "elif test_string.find('k') > 10:\n",
    "    print(\"The first k occurs after the 11th element\")\n",
    "else:\n",
    "    print(\"My super intelligent responses did not find any info on your string. Please change it\")"
   ]
  },
  {
   "cell_type": "markdown",
   "metadata": {},
   "source": [
    "### Problem 3\n",
    "<span style=\"color:green\">Write an expression that returns true if an integer is either greater than 10 or divisible by 7.</span> "
   ]
  },
  {
   "cell_type": "code",
   "execution_count": 45,
   "metadata": {},
   "outputs": [
    {
     "data": {
      "text/plain": [
       "True"
      ]
     },
     "execution_count": 45,
     "metadata": {},
     "output_type": "execute_result"
    }
   ],
   "source": [
    "# your code here\n",
    "x = 40\n",
    "(x > 10) or (x % 7 == 0)"
   ]
  },
  {
   "cell_type": "markdown",
   "metadata": {},
   "source": [
    "### Problem 4\n",
    "<span style=\"color:green\">Write an expression that returns true if the last character of a string is not 's'</span> "
   ]
  },
  {
   "cell_type": "code",
   "execution_count": 47,
   "metadata": {},
   "outputs": [
    {
     "data": {
      "text/plain": [
       "True"
      ]
     },
     "execution_count": 47,
     "metadata": {},
     "output_type": "execute_result"
    }
   ],
   "source": [
    "test_string = 'asfdaskfjsafl'\n",
    "# your code here\n",
    "test_string[-1] != 's'"
   ]
  },
  {
   "cell_type": "markdown",
   "metadata": {},
   "source": [
    "### Problem 5\n",
    "<span style=\"color:green\">To get higher decimal precision you will need to use more points. Write a loop (without drawing any figures) that calculates the value of $\\pi$ to 2 decimal places using the same simulation technique as above.</span> "
   ]
  },
  {
   "cell_type": "code",
   "execution_count": 8,
   "metadata": {
    "collapsed": true
   },
   "outputs": [],
   "source": [
    "import random"
   ]
  },
  {
   "cell_type": "code",
   "execution_count": 4,
   "metadata": {},
   "outputs": [
    {
     "name": "stdout",
     "output_type": "stream",
     "text": [
      "3.14264\n"
     ]
    }
   ],
   "source": [
    "# your code here\n",
    "count = 0\n",
    "n = 100000\n",
    "for i in range(n):\n",
    "    x = random.random()\n",
    "    y = random.random()\n",
    "    if x ** 2 + y ** 2 <= 1:\n",
    "        count += 1\n",
    "pi = 4 * count / n\n",
    "print(pi)"
   ]
  },
  {
   "cell_type": "markdown",
   "metadata": {},
   "source": [
    "### Problem 6\n",
    "<span style=\"color:green\">Calculate the total of the squared value of each of the first 100 positive integers.</span>"
   ]
  },
  {
   "cell_type": "code",
   "execution_count": 13,
   "metadata": {},
   "outputs": [
    {
     "data": {
      "text/plain": [
       "338350"
      ]
     },
     "execution_count": 13,
     "metadata": {},
     "output_type": "execute_result"
    }
   ],
   "source": [
    "#your code here\n",
    "total = 0\n",
    "for i in range(101):\n",
    "    total = total + i ** 2\n",
    "\n",
    "total"
   ]
  },
  {
   "cell_type": "markdown",
   "metadata": {},
   "source": [
    "### Problem 7\n",
    "<span style=\"color:green\">Use a for loop to iterate over the first 10 positive integers, printing out their squared value only if the value is greater than 50</span>"
   ]
  },
  {
   "cell_type": "code",
   "execution_count": 5,
   "metadata": {},
   "outputs": [
    {
     "name": "stdout",
     "output_type": "stream",
     "text": [
      "64\n",
      "81\n",
      "100\n"
     ]
    }
   ],
   "source": [
    "#your code here\n",
    "for i in range(1, 11):\n",
    "    squared_value = i ** 2\n",
    "    if squared_value > 50:\n",
    "        print(squared_value)"
   ]
  },
  {
   "cell_type": "markdown",
   "metadata": {},
   "source": [
    "### Problem 8\n",
    "<span style=\"color:green\">Use a for loop to iterate over every eighth integer of the first 200, appending their squared value to a list.</span>"
   ]
  },
  {
   "cell_type": "code",
   "execution_count": 19,
   "metadata": {},
   "outputs": [
    {
     "data": {
      "text/plain": [
       "[0,\n",
       " 64,\n",
       " 256,\n",
       " 576,\n",
       " 1024,\n",
       " 1600,\n",
       " 2304,\n",
       " 3136,\n",
       " 4096,\n",
       " 5184,\n",
       " 6400,\n",
       " 7744,\n",
       " 9216,\n",
       " 10816,\n",
       " 12544,\n",
       " 14400,\n",
       " 16384,\n",
       " 18496,\n",
       " 20736,\n",
       " 23104,\n",
       " 25600,\n",
       " 28224,\n",
       " 30976,\n",
       " 33856,\n",
       " 36864]"
      ]
     },
     "execution_count": 19,
     "metadata": {},
     "output_type": "execute_result"
    }
   ],
   "source": [
    "squared_list = []\n",
    "# your code here\n",
    "for i in range(0, 200, 8):\n",
    "    squared_list.append(i ** 2)\n",
    "    \n",
    "squared_list"
   ]
  },
  {
   "cell_type": "markdown",
   "metadata": {},
   "source": [
    "### Problem 9\n",
    "<span style=\"color:green\">Multiply the variable `x` by `y` and store the result in `x` with an augmented assignment statement</span>"
   ]
  },
  {
   "cell_type": "code",
   "execution_count": 21,
   "metadata": {},
   "outputs": [
    {
     "data": {
      "text/plain": [
       "35"
      ]
     },
     "execution_count": 21,
     "metadata": {},
     "output_type": "execute_result"
    }
   ],
   "source": [
    "x = 5\n",
    "y = 7\n",
    "\n",
    "x *= y\n",
    "\n",
    "x"
   ]
  },
  {
   "cell_type": "markdown",
   "metadata": {},
   "source": [
    "### Problem 10\n",
    "<span style=\"color:green\">Use a while loop to find the sum of all integers between a given postive integer and 0. Print out result.</span>"
   ]
  },
  {
   "cell_type": "code",
   "execution_count": 3,
   "metadata": {},
   "outputs": [
    {
     "name": "stdout",
     "output_type": "stream",
     "text": [
      "Total is 210\n"
     ]
    }
   ],
   "source": [
    "x = 20\n",
    "total = 0\n",
    "# your code here\n",
    "while x > 0:\n",
    "    total += x\n",
    "    x -= 1\n",
    "print('Total is {}'.format(total))"
   ]
  },
  {
   "cell_type": "markdown",
   "metadata": {},
   "source": [
    "### Problem 11\n",
    "<span style=\"color:green\">Use a while loop to find the sum of all integers between a given integer and its square root. Use math.sqrt to find the square root. </span>"
   ]
  },
  {
   "cell_type": "code",
   "execution_count": 5,
   "metadata": {},
   "outputs": [
    {
     "name": "stdout",
     "output_type": "stream",
     "text": [
      "Total is 200\n"
     ]
    }
   ],
   "source": [
    "import math\n",
    "x = 20\n",
    "total = 0\n",
    "# your code here\n",
    "sqrt = math.sqrt(x)\n",
    "while x >= sqrt:\n",
    "    total += x\n",
    "    x -= 1\n",
    "print('Total is {}'.format(total))"
   ]
  },
  {
   "cell_type": "markdown",
   "metadata": {},
   "source": [
    "### Problem 12: Advanced\n",
    "<span style=\"color:green\">In this problem you will use a while loop to try and guess a randomly generated integer between 1 and 1000. The only information you will be given is whether your guess is higher or lower than the unknown integer. Your new guess will be updated in an optimal way. The optimal way to update your guess is to choose the next integer exactly half way between your current guess and the lower/upper boundary.\n",
    "\n",
    "Steps:\n",
    "1. Generate random integer\n",
    "2. Generate first guess\n",
    "3. Begin while loop\n",
    "4. Check if guess is correct\n",
    "5. Change lower and upper boundaries of guessing region based on if guess if higher/lower than unknown number\n",
    "6. Keep track of number of guesses\n",
    "7. Print out upper and lower boundary, the current guess and the unknown number at each iteration to track progress\n",
    "8. Print out one last statement outside of the while loop that shows the guess is actually correct and the number of guesses that it took to get there.\n",
    "\n",
    "Tips:\n",
    "1. Make sure to guess is an integer. Use `int` function.\n",
    "</span>"
   ]
  },
  {
   "cell_type": "code",
   "execution_count": 48,
   "metadata": {},
   "outputs": [
    {
     "name": "stdout",
     "output_type": "stream",
     "text": [
      "Guess: 500, lower boundary: 1, upper boundary: 1000, unknown: 382\n",
      "Guess: 250, lower boundary: 1, upper boundary: 499, unknown: 382\n",
      "Guess: 375, lower boundary: 251, upper boundary: 499, unknown: 382\n",
      "Guess: 437, lower boundary: 376, upper boundary: 499, unknown: 382\n",
      "Guess: 406, lower boundary: 376, upper boundary: 436, unknown: 382\n",
      "Guess: 390, lower boundary: 376, upper boundary: 405, unknown: 382\n",
      "\n",
      "Got it in 7 guesses! Guess was 382. Unknown was 382. Final region was (376, 389)\n"
     ]
    }
   ],
   "source": [
    "import random\n",
    "\n",
    "upper = 1000\n",
    "lower = 1\n",
    "unknown = random.randint(1, 1000) #generate unknown random integer\n",
    "guess = int((upper + lower) / 2)\n",
    "num_guesses = 1\n",
    "#  your code here\n",
    "while guess != unknown:\n",
    "    print(f'Guess: {guess}, lower boundary: {lower}, upper boundary: {upper}, unknown: {unknown}')\n",
    "    if guess > unknown:\n",
    "        upper = guess - 1\n",
    "    else:\n",
    "        lower = guess + 1\n",
    "    guess = int((upper + lower) / 2)\n",
    "    num_guesses += 1\n",
    "\n",
    "print(f'\\nGot it in {num_guesses} guesses! Guess was {guess}. Unknown was {unknown}. Final region was ({lower}, {upper})')\n"
   ]
  },
  {
   "cell_type": "markdown",
   "metadata": {},
   "source": [
    "### Problem 13\n",
    "<span style=\"color:green\">Use the `while true` logic to continually generate the roll of two 6-sided dice. Stop the loop with a break statement when the total of the current roll is 7 or 11. Use `random.randint(1, 6)` to roll a single die. Print out the number of rolls it took to get a 7 or 11. </span>"
   ]
  },
  {
   "cell_type": "code",
   "execution_count": 51,
   "metadata": {},
   "outputs": [
    {
     "name": "stdout",
     "output_type": "stream",
     "text": [
      "Your final roll was 4, 3. It took 12 rolls to get 7 or 11\n"
     ]
    }
   ],
   "source": [
    "# your code here\n",
    "n = 0\n",
    "while True:\n",
    "    n += 1\n",
    "    die_1 = random.randint(1, 6)\n",
    "    die_2 = random.randint(1, 6)\n",
    "    if die_1 + die_2 in [7, 11]:\n",
    "        break\n",
    "print(f'Your final roll was {die_1}, {die_2}. It took {n} rolls to get 7 or 11')"
   ]
  },
  {
   "cell_type": "markdown",
   "metadata": {},
   "source": [
    "### Problem 14\n",
    "<span style=\"color:green\">Create 100 trials, where each trial is the number of times it takes to roll two dice that sum to 7 or 11. Keep track of the result of each trial in a list. You will need nested loops for this. Then find the average number of rolls it takes using the `sum` and `len` functions on your list</span>"
   ]
  },
  {
   "cell_type": "code",
   "execution_count": 53,
   "metadata": {},
   "outputs": [
    {
     "name": "stdout",
     "output_type": "stream",
     "text": [
      "The average number of rolls to get a 7 or 11 is 3.95\n"
     ]
    }
   ],
   "source": [
    "# your code here\n",
    "trials = []\n",
    "\n",
    "for i in range(100): # outer loop\n",
    "    n = 0\n",
    "    while True: # inner loop\n",
    "        n += 1\n",
    "        die_1 = random.randint(1, 6)\n",
    "        die_2 = random.randint(1, 6)\n",
    "        if die_1 + die_2 in [7, 11]:\n",
    "            break\n",
    "    trials.append(n)\n",
    "    \n",
    "average = sum(trials) / len(trials)\n",
    "print(f'The average number of rolls to get a 7 or 11 is {average}')"
   ]
  },
  {
   "cell_type": "markdown",
   "metadata": {},
   "source": [
    "### Problem 14: Simulating Craps - Doubling up or going broke?\n",
    "<span style=\"color:green\">Its possible to simulate someone playing craps until a certain criteria is met. Continually play the game of craps until the balance has doubled or until the player is out of money. Use the code from above but modify it in such a way that the print statements are removed and that the balance is updated each game. Keep track of the number of games played and print this number out with the ending balance.</span>"
   ]
  },
  {
   "cell_type": "code",
   "execution_count": 66,
   "metadata": {},
   "outputs": [
    {
     "name": "stdout",
     "output_type": "stream",
     "text": [
      "After 2046 games the balance is 1000\n"
     ]
    }
   ],
   "source": [
    "balance = 500\n",
    "wager = 10\n",
    "games = 0\n",
    "# your code here\n",
    "\n",
    "while 0 < balance < 1000:\n",
    "    games += 1\n",
    "    # Add in second stage of game\n",
    "    die_1 = random.randint(1, 6)\n",
    "    die_2 = random.randint(1, 6)\n",
    "    total = die_1 + die_2\n",
    "\n",
    "    if total in [2, 3, 12]:\n",
    "        balance -= wager\n",
    "    elif total in [7, 11]:\n",
    "        balance += wager\n",
    "    else:\n",
    "        while True:\n",
    "            die_1 = random.randint(1, 6)\n",
    "            die_2 = random.randint(1, 6)\n",
    "            new_total = die_1 + die_2\n",
    "            if new_total == total:\n",
    "                balance += wager\n",
    "                break\n",
    "            if new_total == 7:\n",
    "                balance -= wager\n",
    "                break\n",
    "            \n",
    "print(f'After {games} games the balance is {balance}')"
   ]
  },
  {
   "cell_type": "markdown",
   "metadata": {},
   "source": [
    "### Problem 16:\n",
    "<span style=\"color:green\">Simulate the scenario in problem 15, 1000 times and determine what percentage of the time you would end up doubling your money. Use a print statement to write out results. Is craps a good investment? (this takes a while to simulate)</span>"
   ]
  },
  {
   "cell_type": "code",
   "execution_count": 67,
   "metadata": {},
   "outputs": [
    {
     "name": "stdout",
     "output_type": "stream",
     "text": [
      "After 1000 trials, money was doubled 20.7 percent of the time\n"
     ]
    }
   ],
   "source": [
    "n = 1000\n",
    "doubling = 0\n",
    "for i in range(1000):\n",
    "    balance = 500\n",
    "    wager = 10\n",
    "    games = 0\n",
    "    # your code here\n",
    "\n",
    "    while 0 < balance < 1000:\n",
    "        games += 1\n",
    "        # Add in second stage of game\n",
    "        die_1 = random.randint(1, 6)\n",
    "        die_2 = random.randint(1, 6)\n",
    "        total = die_1 + die_2\n",
    "\n",
    "        if total in [2, 3, 12]:\n",
    "            balance -= wager\n",
    "        elif total in [7, 11]:\n",
    "            balance += wager\n",
    "        else:\n",
    "            while True:\n",
    "                die_1 = random.randint(1, 6)\n",
    "                die_2 = random.randint(1, 6)\n",
    "                new_total = die_1 + die_2\n",
    "                if new_total == total:\n",
    "                    balance += wager\n",
    "                    break\n",
    "                if new_total == 7:\n",
    "                    balance -= wager\n",
    "                    break\n",
    "                    \n",
    "    if balance == 1000:\n",
    "        doubling += 1\n",
    "\n",
    "pct_doubling = doubling / n * 100\n",
    "        \n",
    "print(f'After {n} trials, money was doubled {pct_doubling} percent of the time')"
   ]
  },
  {
   "cell_type": "markdown",
   "metadata": {},
   "source": [
    "### Problem 17\n",
    "<span style=\"color:green\">Use a list comprehension to create a list that divides each of the first 10 positive integers by 4.</span>"
   ]
  },
  {
   "cell_type": "code",
   "execution_count": 68,
   "metadata": {},
   "outputs": [
    {
     "data": {
      "text/plain": [
       "[0.25, 0.5, 0.75, 1.0, 1.25, 1.5, 1.75, 2.0, 2.25, 2.5]"
      ]
     },
     "execution_count": 68,
     "metadata": {},
     "output_type": "execute_result"
    }
   ],
   "source": [
    "# your code here\n",
    "[x / 4 for x in range(1, 11)]"
   ]
  },
  {
   "cell_type": "markdown",
   "metadata": {},
   "source": [
    "### Problem 18\n",
    "<span style=\"color:green\">Use a list comprehension to create a list of the area of a circle for circles with a radius equal to the first 10 postive integers.</span>"
   ]
  },
  {
   "cell_type": "code",
   "execution_count": 69,
   "metadata": {},
   "outputs": [
    {
     "data": {
      "text/plain": [
       "[3.141592653589793,\n",
       " 12.566370614359172,\n",
       " 28.274333882308138,\n",
       " 50.26548245743669,\n",
       " 78.53981633974483,\n",
       " 113.09733552923255,\n",
       " 153.93804002589985,\n",
       " 201.06192982974676,\n",
       " 254.46900494077323,\n",
       " 314.1592653589793]"
      ]
     },
     "execution_count": 69,
     "metadata": {},
     "output_type": "execute_result"
    }
   ],
   "source": [
    "import math\n",
    "# your code here\n",
    "[math.pi * r ** 2 for r in range(1, 11)]"
   ]
  },
  {
   "cell_type": "markdown",
   "metadata": {},
   "source": [
    "### Problem 19\n",
    "<span style=\"color:green\">Create a list of strings. Then use a list comprehension to create a list that contains the length of each of these strings.</span>"
   ]
  },
  {
   "cell_type": "code",
   "execution_count": 122,
   "metadata": {},
   "outputs": [
    {
     "data": {
      "text/plain": [
       "[4, 14, 4]"
      ]
     },
     "execution_count": 122,
     "metadata": {},
     "output_type": "execute_result"
    }
   ],
   "source": [
    "# your code here\n",
    "string_list = ['list', 'comprehensions', 'rock']\n",
    "[len(word) for word in string_list]"
   ]
  },
  {
   "cell_type": "markdown",
   "metadata": {},
   "source": [
    "### Problem 20\n",
    "<span style=\"color:green\">Create a list of strings. Then use a list comprehension to create a list that contains only the strings that have length greater than 5.</span>"
   ]
  },
  {
   "cell_type": "code",
   "execution_count": 123,
   "metadata": {},
   "outputs": [
    {
     "data": {
      "text/plain": [
       "['comprehensions', 'fantastic']"
      ]
     },
     "execution_count": 123,
     "metadata": {},
     "output_type": "execute_result"
    }
   ],
   "source": [
    "# your code here\n",
    "string_list = ['list', 'comprehensions', 'are', 'fantastic']\n",
    "[word for word in string_list if len(word) > 5]"
   ]
  },
  {
   "cell_type": "markdown",
   "metadata": {},
   "source": [
    "### Problem 21\n",
    "<span style=\"color:green\">Create a long string. Use a list comprehension to create a list of only the vowels in that string.</span>"
   ]
  },
  {
   "cell_type": "code",
   "execution_count": 124,
   "metadata": {},
   "outputs": [
    {
     "data": {
      "text/plain": [
       "['a', 'i', 'u', 'e', 'a', 'a', 'o', 'i', 'u', 'e']"
      ]
     },
     "execution_count": 124,
     "metadata": {},
     "output_type": "execute_result"
    }
   ],
   "source": [
    "# your code here\n",
    "long_string = 'apiunkwqenasvasdoiureh'\n",
    "[letter for letter in long_string if letter in ['a', 'e', 'i', 'o', 'u']]"
   ]
  },
  {
   "cell_type": "markdown",
   "metadata": {},
   "source": [
    "### Problem 22\n",
    "\n",
    "<span style=\"color:green\">Write a list comprehension that loops through all numbers between 1 and 100 and squares all those that end in 3 or 7 (hint: use modulus operator)</span>"
   ]
  },
  {
   "cell_type": "code",
   "execution_count": 70,
   "metadata": {},
   "outputs": [
    {
     "data": {
      "text/plain": [
       "[9,\n",
       " 49,\n",
       " 169,\n",
       " 289,\n",
       " 529,\n",
       " 729,\n",
       " 1089,\n",
       " 1369,\n",
       " 1849,\n",
       " 2209,\n",
       " 2809,\n",
       " 3249,\n",
       " 3969,\n",
       " 4489,\n",
       " 5329,\n",
       " 5929,\n",
       " 6889,\n",
       " 7569,\n",
       " 8649,\n",
       " 9409]"
      ]
     },
     "execution_count": 70,
     "metadata": {},
     "output_type": "execute_result"
    }
   ],
   "source": [
    "# your code here\n",
    "[i ** 2 for i in range(100) if i % 10 in [3, 7]]"
   ]
  },
  {
   "cell_type": "markdown",
   "metadata": {},
   "source": [
    "### Problem 23\n",
    "\n",
    "<span style=\"color:green\">Rewrite the following code using the ternary syntax </span>\n",
    "\n",
    "`>>> x = 100\n",
    "    if x > 99:\n",
    "         label = 'perfect'\n",
    "    else:\n",
    "         label = 'still need work to do'`"
   ]
  },
  {
   "cell_type": "code",
   "execution_count": 127,
   "metadata": {},
   "outputs": [
    {
     "data": {
      "text/plain": [
       "'perfect'"
      ]
     },
     "execution_count": 127,
     "metadata": {},
     "output_type": "execute_result"
    }
   ],
   "source": [
    "# your code here\n",
    "x = 100\n",
    "label = 'perfect' if x > 99 else 'still need work to do'\n",
    "\n",
    "label"
   ]
  },
  {
   "cell_type": "markdown",
   "metadata": {},
   "source": [
    "### Problem 24\n",
    "\n",
    "<span style=\"color:green\">Use the ternary syntax to square a number if its even and raise it to the third power if its odd </span>"
   ]
  },
  {
   "cell_type": "code",
   "execution_count": 128,
   "metadata": {},
   "outputs": [
    {
     "data": {
      "text/plain": [
       "6859"
      ]
     },
     "execution_count": 128,
     "metadata": {},
     "output_type": "execute_result"
    }
   ],
   "source": [
    "# your code here\n",
    "x = 19\n",
    "result = x ** 2 if x % 2 == 0 else x ** 3\n",
    "\n",
    "result"
   ]
  },
  {
   "cell_type": "markdown",
   "metadata": {},
   "source": [
    "### Problem 24\n",
    "\n",
    "<span style=\"color:green\">Write a list comprehension that uses nested for loops to get the total price of carpeting for all possible house size combinations where there is at least 800 square feet of house. Store values in total_price list</span>"
   ]
  },
  {
   "cell_type": "code",
   "execution_count": 10,
   "metadata": {},
   "outputs": [
    {
     "data": {
      "text/plain": [
       "[850,\n",
       " 1487.5,\n",
       " 2125.0,\n",
       " 4148.0,\n",
       " 900,\n",
       " 1575.0,\n",
       " 2250.0,\n",
       " 4392.0,\n",
       " 950,\n",
       " 1662.5,\n",
       " 2375.0,\n",
       " 4636.0]"
      ]
     },
     "execution_count": 10,
     "metadata": {},
     "output_type": "execute_result"
    }
   ],
   "source": [
    "height = range(10, 30, 5)\n",
    "width = range(2,40,2)\n",
    "price_per_square_foot = [1, 1.75, 2.5, 4.88]\n",
    "total_price = []\n",
    "# your code here\n",
    "total_price = [h * w * p for h in height for w in width for p in price_per_square_foot if h * w > 800]\n",
    "\n",
    "total_price"
   ]
  },
  {
   "cell_type": "markdown",
   "metadata": {},
   "source": [
    "### Problem 25\n",
    "\n",
    "<span style=\"color:green\">In words, what did the above list comprehension do?</span>"
   ]
  },
  {
   "cell_type": "markdown",
   "metadata": {},
   "source": [
    "We iterate through integers 0 to 99 and for those integers greater than 30 and less than 40 we append the square of the number if it is even and the cube if it is odd."
   ]
  },
  {
   "cell_type": "markdown",
   "metadata": {},
   "source": [
    "### Problem 26\n",
    "\n",
    "<span style=\"color:green\">Rewrite the above list comprehension using nested for loops and normal if/then statements.</span>"
   ]
  },
  {
   "cell_type": "code",
   "execution_count": 73,
   "metadata": {},
   "outputs": [
    {
     "data": {
      "text/plain": [
       "[29791, 1024, 35937, 1156, 42875, 1296, 50653, 1444, 59319]"
      ]
     },
     "execution_count": 73,
     "metadata": {},
     "output_type": "execute_result"
    }
   ],
   "source": [
    "squared_nums = []\n",
    "for x in range(100):\n",
    "    if x > 30 and x < 40:\n",
    "        if x % 2 == 0:\n",
    "            squared_nums.append(x ** 2)\n",
    "        else:\n",
    "            squared_nums.append(x ** 3)\n",
    "            \n",
    "squared_nums"
   ]
  },
  {
   "cell_type": "markdown",
   "metadata": {},
   "source": [
    "### Problem 27\n",
    "\n",
    "<span style=\"color:green\">Write a list comprehension that uses nested for loops to get the total price of carpeting for all possible house size combinations where there is at least 800 square feet of house. Store values in total_price list</span>"
   ]
  },
  {
   "cell_type": "code",
   "execution_count": 74,
   "metadata": {},
   "outputs": [
    {
     "data": {
      "text/plain": [
       "[800,\n",
       " 1400.0,\n",
       " 2000.0,\n",
       " 3904.0,\n",
       " 850,\n",
       " 1487.5,\n",
       " 2125.0,\n",
       " 4148.0,\n",
       " 900,\n",
       " 1575.0,\n",
       " 2250.0,\n",
       " 4392.0,\n",
       " 950,\n",
       " 1662.5,\n",
       " 2375.0,\n",
       " 4636.0]"
      ]
     },
     "execution_count": 74,
     "metadata": {},
     "output_type": "execute_result"
    }
   ],
   "source": [
    "height = range(10, 30, 5)\n",
    "width = range(2,40,2)\n",
    "price_per_square_foot = [1, 1.75, 2.5, 4.88]\n",
    "\n",
    "[h * w * p for h in height for w in width for p in price_per_square_foot if h * w >= 800]"
   ]
  },
  {
   "cell_type": "markdown",
   "metadata": {},
   "source": [
    "### Problem 28\n",
    "\n",
    "<span style=\"color:green\">Write a for list that uses enumerate to iterate over the total_price list in problem 22 and prints out the message, \"House number i costs x amount of dollars\". Use the format method of str object to interpolate the variables in your message </span>"
   ]
  },
  {
   "cell_type": "code",
   "execution_count": 13,
   "metadata": {},
   "outputs": [
    {
     "name": "stdout",
     "output_type": "stream",
     "text": [
      "House number 0 costs 850 amount of dollars\n",
      "House number 1 costs 1487.5 amount of dollars\n",
      "House number 2 costs 2125.0 amount of dollars\n",
      "House number 3 costs 4148.0 amount of dollars\n",
      "House number 4 costs 900 amount of dollars\n",
      "House number 5 costs 1575.0 amount of dollars\n",
      "House number 6 costs 2250.0 amount of dollars\n",
      "House number 7 costs 4392.0 amount of dollars\n",
      "House number 8 costs 950 amount of dollars\n",
      "House number 9 costs 1662.5 amount of dollars\n",
      "House number 10 costs 2375.0 amount of dollars\n",
      "House number 11 costs 4636.0 amount of dollars\n"
     ]
    }
   ],
   "source": [
    "# your code here\n",
    "for i, price in enumerate(total_price):\n",
    "    print(\"House number {} costs {} amount of dollars\".format(i, price))"
   ]
  },
  {
   "cell_type": "markdown",
   "metadata": {},
   "source": [
    "# 6. Functions"
   ]
  },
  {
   "cell_type": "markdown",
   "metadata": {},
   "source": [
    "### Problem 1\n",
    "\n",
    "<span style=\"color:green\">Create three different variables with three different data types then use the `type` function to verify that the types are indeed different</span>"
   ]
  },
  {
   "cell_type": "code",
   "execution_count": 28,
   "metadata": {},
   "outputs": [
    {
     "data": {
      "text/plain": [
       "(bool, int, float)"
      ]
     },
     "execution_count": 28,
     "metadata": {},
     "output_type": "execute_result"
    }
   ],
   "source": [
    "# your code here\n",
    "a = True\n",
    "b = 5\n",
    "c = 7.4\n",
    "type(a), type(b), type(c)"
   ]
  },
  {
   "cell_type": "markdown",
   "metadata": {},
   "source": [
    "### Problem 2\n",
    "\n",
    "<span style=\"color:green\">The `eval` builtin function, takes a string as an argument and executes that string if it were Python code. Create a variable that stores a string that looks like Python code. Then use the `eval` function to execute this code string.</span>"
   ]
  },
  {
   "cell_type": "code",
   "execution_count": 34,
   "metadata": {},
   "outputs": [
    {
     "data": {
      "text/plain": [
       "10"
      ]
     },
     "execution_count": 34,
     "metadata": {},
     "output_type": "execute_result"
    }
   ],
   "source": [
    "# your code here\n",
    "code_string = '5 + 5'\n",
    "\n",
    "eval(code_string)"
   ]
  },
  {
   "cell_type": "markdown",
   "metadata": {},
   "source": [
    "### Problem 3\n",
    "\n",
    "<span style=\"color:green\">Use the help or [read the official documentation](https://docs.python.org/3/library/functions.html) about how to use the `all` and `any` functions and use them correctly below.</span>"
   ]
  },
  {
   "cell_type": "code",
   "execution_count": 38,
   "metadata": {},
   "outputs": [
    {
     "name": "stdout",
     "output_type": "stream",
     "text": [
      "False True\n"
     ]
    }
   ],
   "source": [
    "# your code here\n",
    "bool_list = [True, False, 5 > 0]\n",
    "\n",
    "print(all(bool_list), any(bool_list))"
   ]
  },
  {
   "cell_type": "markdown",
   "metadata": {},
   "source": [
    "### Problem 4\n",
    "\n",
    "<span style=\"color:green\">Define a function that finds the area of a circle. The function takes a single parameter, the radius, and defaults its value to 0 if it's not given. Add docstrings to the function.</span>"
   ]
  },
  {
   "cell_type": "code",
   "execution_count": 83,
   "metadata": {},
   "outputs": [
    {
     "data": {
      "text/plain": [
       "28.274333882308138"
      ]
     },
     "execution_count": 83,
     "metadata": {},
     "output_type": "execute_result"
    }
   ],
   "source": [
    "import math\n",
    "def area_circle(radius=0):\n",
    "    '''\n",
    "    Computes the area of a circle\n",
    "    \n",
    "    Parameters\n",
    "    ----------\n",
    "    radius : int or float\n",
    "        The radius of the circle\n",
    "        \n",
    "    Returns\n",
    "    -------\n",
    "    The area of the circle\n",
    "    '''\n",
    "    return math.pi * radius ** 2\n",
    "\n",
    "area_circle(3)"
   ]
  },
  {
   "cell_type": "markdown",
   "metadata": {},
   "source": [
    "### Problem 5\n",
    "\n",
    "<span style=\"color:green\">Create a function that takes a string argument and returns True or False whether the string is a palindrome (spelled the same forward and backwards)</span>"
   ]
  },
  {
   "cell_type": "code",
   "execution_count": 44,
   "metadata": {},
   "outputs": [
    {
     "data": {
      "text/plain": [
       "True"
      ]
     },
     "execution_count": 44,
     "metadata": {},
     "output_type": "execute_result"
    }
   ],
   "source": [
    "# your code here\n",
    "def is_palindrome(word):\n",
    "    return word == word[::-1]\n",
    "\n",
    "is_palindrome('racecar')"
   ]
  },
  {
   "cell_type": "markdown",
   "metadata": {},
   "source": [
    "### Problem 6\n",
    "\n",
    "<span style=\"color:green\">Create a function `concat_sort_list` that takes two lists and concatenates them together, sorts the list and then returns the sorted list.</span>"
   ]
  },
  {
   "cell_type": "code",
   "execution_count": 48,
   "metadata": {
    "collapsed": true
   },
   "outputs": [],
   "source": [
    "# your code here\n",
    "def concat_sort_list(list_1, list_2):\n",
    "    final_list = list_1 + list_2\n",
    "    final_list.sort()\n",
    "    return final_list"
   ]
  },
  {
   "cell_type": "code",
   "execution_count": 49,
   "metadata": {},
   "outputs": [
    {
     "data": {
      "text/plain": [
       "True"
      ]
     },
     "execution_count": 49,
     "metadata": {},
     "output_type": "execute_result"
    }
   ],
   "source": [
    "# test code with\n",
    "concat_sort_list([4, 5, 2], [9, 0, -8]) == [-8, 0, 2, 4, 5, 9]"
   ]
  },
  {
   "cell_type": "code",
   "execution_count": 75,
   "metadata": {},
   "outputs": [],
   "source": [
    "# theres actually a built in function to do this as well\n",
    "\n",
    "def concat_sort_list2(list_1, list_2):\n",
    "    return sorted(list_1 + list_2)"
   ]
  },
  {
   "cell_type": "code",
   "execution_count": 76,
   "metadata": {},
   "outputs": [
    {
     "data": {
      "text/plain": [
       "[1, 2, 3, 4, 5, 6]"
      ]
     },
     "execution_count": 76,
     "metadata": {},
     "output_type": "execute_result"
    }
   ],
   "source": [
    "concat_sort_list2([1, 5, 6], [2,3,4])"
   ]
  },
  {
   "cell_type": "markdown",
   "metadata": {},
   "source": [
    "### Problem 7\n",
    "\n",
    "<span style=\"color:green\">Create an anonymous function that calculates the area of a circle. Store it to a variable and check that it works.</span>"
   ]
  },
  {
   "cell_type": "code",
   "execution_count": 84,
   "metadata": {},
   "outputs": [
    {
     "data": {
      "text/plain": [
       "78.53981633974483"
      ]
     },
     "execution_count": 84,
     "metadata": {},
     "output_type": "execute_result"
    }
   ],
   "source": [
    "import math\n",
    "area_circle = lambda radius: math.pi * radius ** 2\n",
    "\n",
    "area_circle(5)"
   ]
  },
  {
   "cell_type": "markdown",
   "metadata": {},
   "source": [
    "### Problem 8\n",
    "\n",
    "<span style=\"color:green\">Use the sorted function to sort a list of strings using the last letter. Use an anonymous function passed to the key argument.</span>"
   ]
  },
  {
   "cell_type": "code",
   "execution_count": 54,
   "metadata": {},
   "outputs": [
    {
     "data": {
      "text/plain": [
       "['banana', 'orange', 'apple', 'strawberry']"
      ]
     },
     "execution_count": 54,
     "metadata": {},
     "output_type": "execute_result"
    }
   ],
   "source": [
    "# your code here\n",
    "string_list = ['banana', 'strawberry', 'orange', 'apple']\n",
    "sorted(string_list, key = lambda word: word[-1])"
   ]
  },
  {
   "cell_type": "markdown",
   "metadata": {},
   "source": [
    "### Problem 9\n",
    "\n",
    "<span style=\"color:green\">Create a list of integers and sort them by their last digit. Use an anonymous function passed to the key argument.</span>"
   ]
  },
  {
   "cell_type": "code",
   "execution_count": 55,
   "metadata": {},
   "outputs": [
    {
     "data": {
      "text/plain": [
       "[50, 123131, 434, 109]"
      ]
     },
     "execution_count": 55,
     "metadata": {},
     "output_type": "execute_result"
    }
   ],
   "source": [
    "# your code here\n",
    "int_list = [109, 50, 434, 123131]\n",
    "sorted(int_list, key = lambda x: x % 10)"
   ]
  },
  {
   "cell_type": "markdown",
   "metadata": {},
   "source": [
    "### Advanced Problem 10\n",
    "\n",
    "<span style=\"color:green\">Use the sorted function (with the **`key`** parameter) to sort a list of strings by the third highest alphabetical letter. Use a lambda expression to find this third highest letter. Take the word **python** for example. If you sort it by letter it becomes **hnopty**. The third highest letter is therefore 'o'.</span>"
   ]
  },
  {
   "cell_type": "code",
   "execution_count": 2,
   "metadata": {},
   "outputs": [
    {
     "data": {
      "text/plain": [
       "['different', 'string', 'many', 'some', 'words', 'list', 'with']"
      ]
     },
     "execution_count": 2,
     "metadata": {},
     "output_type": "execute_result"
    }
   ],
   "source": [
    "# make a string list with each string having three or more characters\n",
    "string_list = 'some string list with many different words'.split()\n",
    "# your code here\n",
    "sorted(string_list, key=lambda x: sorted(x)[2])"
   ]
  },
  {
   "cell_type": "markdown",
   "metadata": {},
   "source": [
    "### Problem 11\n",
    "\n",
    "<span style=\"color:green\">Use the map function to square each number in a list. Do the same with a list comprehension</span>"
   ]
  },
  {
   "cell_type": "code",
   "execution_count": 58,
   "metadata": {},
   "outputs": [
    {
     "data": {
      "text/plain": [
       "[81, 25, 1, 9801]"
      ]
     },
     "execution_count": 58,
     "metadata": {},
     "output_type": "execute_result"
    }
   ],
   "source": [
    "# your code here\n",
    "my_list = [9, 5, 1, 99]\n",
    "list(map(lambda x: x ** 2, my_list))"
   ]
  },
  {
   "cell_type": "code",
   "execution_count": 59,
   "metadata": {},
   "outputs": [
    {
     "data": {
      "text/plain": [
       "[81, 25, 1, 9801]"
      ]
     },
     "execution_count": 59,
     "metadata": {},
     "output_type": "execute_result"
    }
   ],
   "source": [
    "[x ** 2 for x in my_list]"
   ]
  },
  {
   "cell_type": "markdown",
   "metadata": {},
   "source": [
    "### Problem 12\n",
    "\n",
    "<span style=\"color:green\">Read the documentation on the **`filter`** builtin function. Use an anonymous function to filter out the even values from a range object of values 0 to 9</span>"
   ]
  },
  {
   "cell_type": "code",
   "execution_count": 60,
   "metadata": {},
   "outputs": [
    {
     "data": {
      "text/plain": [
       "[1, 3, 5, 7, 9]"
      ]
     },
     "execution_count": 60,
     "metadata": {},
     "output_type": "execute_result"
    }
   ],
   "source": [
    "# your code here\n",
    "list(filter(lambda x: x % 2 == 1, range(10)))"
   ]
  },
  {
   "cell_type": "markdown",
   "metadata": {},
   "source": [
    "### Problem 13\n",
    "\n",
    "<span style=\"color:green\">Read the documentation on the **`reduce`** function which is part of the functools standard library. Use an anonymous function to sum up all the values from 0 to 9</span>"
   ]
  },
  {
   "cell_type": "code",
   "execution_count": 87,
   "metadata": {},
   "outputs": [
    {
     "data": {
      "text/plain": [
       "45"
      ]
     },
     "execution_count": 87,
     "metadata": {},
     "output_type": "execute_result"
    }
   ],
   "source": [
    "from functools import reduce\n",
    "# your code here\n",
    "reduce(lambda x, y: x + y, range(10))"
   ]
  },
  {
   "cell_type": "markdown",
   "metadata": {},
   "source": [
    "### Problem 14: Advanced\n",
    "\n",
    "<span style=\"color:green\">Use **`map, reduce and filter`** to take the numbers 0 to 9, square them, filter out the even numbers and multiply the remaining together. This can be done in one line</span>"
   ]
  },
  {
   "cell_type": "code",
   "execution_count": 88,
   "metadata": {},
   "outputs": [
    {
     "data": {
      "text/plain": [
       "893025"
      ]
     },
     "execution_count": 88,
     "metadata": {},
     "output_type": "execute_result"
    }
   ],
   "source": [
    "# your code here\n",
    "reduce(lambda x, y: x * y, filter(lambda x: x % 2 == 1, map(lambda x: x ** 2, range(10))))"
   ]
  },
  {
   "cell_type": "markdown",
   "metadata": {},
   "source": [
    "### Problem 15\n",
    "\n",
    "<span style=\"color:green\">Write a normal function that replicates the one defined in problem 14.</span>"
   ]
  },
  {
   "cell_type": "code",
   "execution_count": 91,
   "metadata": {},
   "outputs": [
    {
     "data": {
      "text/plain": [
       "893025"
      ]
     },
     "execution_count": 91,
     "metadata": {},
     "output_type": "execute_result"
    }
   ],
   "source": [
    "def mrf():\n",
    "    a_list = []\n",
    "    for x in range(10):\n",
    "        y = x ** 2\n",
    "        if y % 2 == 1:\n",
    "            a_list.append(y)\n",
    "            \n",
    "    total = 1\n",
    "    for x in a_list:\n",
    "        total *= x\n",
    "    return total\n",
    "\n",
    "mrf()"
   ]
  },
  {
   "cell_type": "markdown",
   "metadata": {},
   "source": [
    "### Problem 16: Advanced\n",
    "\n",
    "<span style=\"color:green\">Use list comprehensions and the **`sum`** function to take the numbers 0 to 9, square the even numbers, and sum them all up</span>"
   ]
  },
  {
   "cell_type": "code",
   "execution_count": 146,
   "metadata": {},
   "outputs": [
    {
     "data": {
      "text/plain": [
       "165"
      ]
     },
     "execution_count": 146,
     "metadata": {},
     "output_type": "execute_result"
    }
   ],
   "source": [
    "# your code here\n",
    "sum([x ** 2 for x in range(10) if x % 2])"
   ]
  },
  {
   "cell_type": "markdown",
   "metadata": {},
   "source": [
    "### Problem 17: Advanced\n",
    "<span style=\"color:green\">In this problem you will write a function to transpose a two dimensional matrix. Transposing a matrix means to make the rows become the columns and vice versa. Create your matrix by creating a list of lists. In this case just choose a simple matrix like a 2 by 3.</span>"
   ]
  },
  {
   "cell_type": "code",
   "execution_count": 63,
   "metadata": {},
   "outputs": [
    {
     "name": "stdout",
     "output_type": "stream",
     "text": [
      "[1, 2, 3]\n",
      "[4, 5, 6]\n"
     ]
    }
   ],
   "source": [
    "# First lets pretty print our 3x2 matrix\n",
    "matrix = [[1,2,3], [4,5,6]]\n",
    "for row in matrix:\n",
    "    print(row)"
   ]
  },
  {
   "cell_type": "code",
   "execution_count": 64,
   "metadata": {
    "collapsed": true
   },
   "outputs": [],
   "source": [
    "# need to convert this matrix to a 2 x 3 with rows and columns swapped\n",
    "# assume each inner list is a row, the number of columns is the length of one inner list\n",
    "def transpose(matrix):\n",
    "    new_num_rows = len(matrix[0])\n",
    "    new_num_cols = len(matrix)\n",
    "    new_matrix = []\n",
    "    for i in range(new_num_rows):\n",
    "        new_matrix.append([])\n",
    "        for j in range(new_num_cols):\n",
    "            new_matrix[-1].append(matrix[j][i])\n",
    "    return new_matrix  "
   ]
  },
  {
   "cell_type": "code",
   "execution_count": 65,
   "metadata": {},
   "outputs": [
    {
     "name": "stdout",
     "output_type": "stream",
     "text": [
      "[1, 4]\n",
      "[2, 5]\n",
      "[3, 6]\n"
     ]
    }
   ],
   "source": [
    "for row in transpose(matrix):\n",
    "    print(row)"
   ]
  },
  {
   "cell_type": "markdown",
   "metadata": {},
   "source": [
    "### Problem 18: Advanced\n",
    "Create a tic-tac-toe function that takes four parameters  \n",
    "\n",
    "1. **board**: a list of lists representing the game board  \n",
    "1. **mark**: 'x' or 'o'  \n",
    "1. **row**: Row that the mark will be played\n",
    "1. **col**: Column that the mark will be played\n",
    "\n",
    "Returns the updated board or the winner.  \n",
    "**`tic_tac_toe(board, 'x', 2, 0)`** should place an 'x' on the last row in the first position"
   ]
  },
  {
   "cell_type": "code",
   "execution_count": 173,
   "metadata": {},
   "outputs": [],
   "source": [
    "def tic_tac_toe(board, mark, row, col):\n",
    "    '''\n",
    "    This function accepts a 3x3 tic tac toe board and places a mark\n",
    "    at its row and col\n",
    "    It does some value checking of the parameters and makes sure no spot is already taken\n",
    "    It returns the board plus a message if there is a winner or a tie (cats game)\n",
    "    \n",
    "    Parameters\n",
    "    -----\n",
    "    board : 3x3 list of lists\n",
    "    mark : 'x' or 'o'\n",
    "    row, col : integer between 0 and 2 \n",
    "    '''\n",
    "    if mark not in ['x', 'o']:\n",
    "        raise ValueError('Mark must be \"x\" or \"o\"')\n",
    "    if row not in range(3) or col not in range(3):\n",
    "        raise ValueError('row and col must be between 0 and 2')\n",
    "    if board[row][col] != ' ':\n",
    "        raise ValueError('That position is already taken')\n",
    "        \n",
    "    board[row][col] = mark\n",
    "    winner = False\n",
    "    \n",
    "    for row in board:\n",
    "        print(row)\n",
    "        \n",
    "    winners = ['xxx', 'ooo']\n",
    "    \n",
    "    # check for a diagonal winner\n",
    "    diag1 = board[0][0] + board[1][1] + board[2][2] in winners\n",
    "    diag2 = board[0][2] + board[1][1] + board[2][0] in winners\n",
    "    \n",
    "    if diag1 or diag2:\n",
    "        winner = True\n",
    "    \n",
    "    # check for row or column winner\n",
    "    for i in range(3):\n",
    "        row_check = board[i][0] + board[i][1] + board[i][2] in winners\n",
    "        col_check = board[0][i] + board[1][i] + board[2][i] in winners\n",
    "        if row_check or col_check:\n",
    "            winner = True\n",
    "    \n",
    "    if winner:\n",
    "        print(\"Winner is \" + mark)\n",
    "    elif sum([value == ' ' for row in board for value in row]) == 0:\n",
    "        print(\"Cats Game\")\n",
    "    \n",
    "    return board"
   ]
  },
  {
   "cell_type": "code",
   "execution_count": 186,
   "metadata": {},
   "outputs": [],
   "source": [
    "board = [[' ', ' ', ' '], [' ', ' ', ' '], [' ', ' ', ' ']]"
   ]
  },
  {
   "cell_type": "code",
   "execution_count": 187,
   "metadata": {},
   "outputs": [
    {
     "name": "stdout",
     "output_type": "stream",
     "text": [
      "[' ', ' ', 'x']\n",
      "[' ', ' ', ' ']\n",
      "[' ', ' ', ' ']\n"
     ]
    }
   ],
   "source": [
    "# start playing!\n",
    "board = tic_tac_toe(board, 'x', 0, 2)"
   ]
  },
  {
   "cell_type": "code",
   "execution_count": 188,
   "metadata": {},
   "outputs": [
    {
     "ename": "ValueError",
     "evalue": "That position is already taken",
     "output_type": "error",
     "traceback": [
      "\u001b[0;31m---------------------------------------------------------------------------\u001b[0m",
      "\u001b[0;31mValueError\u001b[0m                                Traceback (most recent call last)",
      "\u001b[0;32m<ipython-input-188-690bb23ba22e>\u001b[0m in \u001b[0;36m<module>\u001b[0;34m()\u001b[0m\n\u001b[1;32m      1\u001b[0m \u001b[0;31m# can't play on someone else's spot\u001b[0m\u001b[0;34m\u001b[0m\u001b[0;34m\u001b[0m\u001b[0m\n\u001b[0;32m----> 2\u001b[0;31m \u001b[0mboard\u001b[0m \u001b[0;34m=\u001b[0m \u001b[0mtic_tac_toe\u001b[0m\u001b[0;34m(\u001b[0m\u001b[0mboard\u001b[0m\u001b[0;34m,\u001b[0m \u001b[0;34m'o'\u001b[0m\u001b[0;34m,\u001b[0m \u001b[0;36m0\u001b[0m\u001b[0;34m,\u001b[0m \u001b[0;36m2\u001b[0m\u001b[0;34m)\u001b[0m\u001b[0;34m\u001b[0m\u001b[0m\n\u001b[0m",
      "\u001b[0;32m<ipython-input-173-e8627ed9a6b1>\u001b[0m in \u001b[0;36mtic_tac_toe\u001b[0;34m(board, mark, row, col)\u001b[0m\n\u001b[1;32m     17\u001b[0m         \u001b[0;32mraise\u001b[0m \u001b[0mValueError\u001b[0m\u001b[0;34m(\u001b[0m\u001b[0;34m'row and col must be between 0 and 2'\u001b[0m\u001b[0;34m)\u001b[0m\u001b[0;34m\u001b[0m\u001b[0m\n\u001b[1;32m     18\u001b[0m     \u001b[0;32mif\u001b[0m \u001b[0mboard\u001b[0m\u001b[0;34m[\u001b[0m\u001b[0mrow\u001b[0m\u001b[0;34m]\u001b[0m\u001b[0;34m[\u001b[0m\u001b[0mcol\u001b[0m\u001b[0;34m]\u001b[0m \u001b[0;34m!=\u001b[0m \u001b[0;34m' '\u001b[0m\u001b[0;34m:\u001b[0m\u001b[0;34m\u001b[0m\u001b[0m\n\u001b[0;32m---> 19\u001b[0;31m         \u001b[0;32mraise\u001b[0m \u001b[0mValueError\u001b[0m\u001b[0;34m(\u001b[0m\u001b[0;34m'That position is already taken'\u001b[0m\u001b[0;34m)\u001b[0m\u001b[0;34m\u001b[0m\u001b[0m\n\u001b[0m\u001b[1;32m     20\u001b[0m \u001b[0;34m\u001b[0m\u001b[0m\n\u001b[1;32m     21\u001b[0m     \u001b[0mboard\u001b[0m\u001b[0;34m[\u001b[0m\u001b[0mrow\u001b[0m\u001b[0;34m]\u001b[0m\u001b[0;34m[\u001b[0m\u001b[0mcol\u001b[0m\u001b[0;34m]\u001b[0m \u001b[0;34m=\u001b[0m \u001b[0mmark\u001b[0m\u001b[0;34m\u001b[0m\u001b[0m\n",
      "\u001b[0;31mValueError\u001b[0m: That position is already taken"
     ]
    }
   ],
   "source": [
    "# can't play on someone else's spot\n",
    "board = tic_tac_toe(board, 'o', 0, 2)"
   ]
  },
  {
   "cell_type": "code",
   "execution_count": 189,
   "metadata": {},
   "outputs": [
    {
     "name": "stdout",
     "output_type": "stream",
     "text": [
      "[' ', ' ', 'x']\n",
      "[' ', ' ', 'o']\n",
      "[' ', ' ', ' ']\n"
     ]
    }
   ],
   "source": [
    "board = tic_tac_toe(board, 'o', 1, 2)"
   ]
  },
  {
   "cell_type": "code",
   "execution_count": 190,
   "metadata": {},
   "outputs": [
    {
     "name": "stdout",
     "output_type": "stream",
     "text": [
      "[' ', ' ', 'x']\n",
      "[' ', 'x', 'o']\n",
      "[' ', ' ', ' ']\n"
     ]
    }
   ],
   "source": [
    "board = tic_tac_toe(board, 'x', 1, 1)"
   ]
  },
  {
   "cell_type": "code",
   "execution_count": 191,
   "metadata": {},
   "outputs": [
    {
     "name": "stdout",
     "output_type": "stream",
     "text": [
      "[' ', ' ', 'x']\n",
      "[' ', 'x', 'o']\n",
      "[' ', 'o', ' ']\n"
     ]
    }
   ],
   "source": [
    "board = tic_tac_toe(board, 'o', 2, 1)"
   ]
  },
  {
   "cell_type": "code",
   "execution_count": 192,
   "metadata": {},
   "outputs": [
    {
     "name": "stdout",
     "output_type": "stream",
     "text": [
      "[' ', ' ', 'x']\n",
      "[' ', 'x', 'o']\n",
      "['x', 'o', ' ']\n",
      "Winner is x\n"
     ]
    }
   ],
   "source": [
    "board = tic_tac_toe(board, 'x', 2, 0)"
   ]
  },
  {
   "cell_type": "markdown",
   "metadata": {},
   "source": [
    "### Problem 19\n",
    "<span style=\"color:green\">Write a function that returns the roll of two dice. Use the random.randint function</span>"
   ]
  },
  {
   "cell_type": "code",
   "execution_count": 195,
   "metadata": {},
   "outputs": [
    {
     "data": {
      "text/plain": [
       "(3, 6)"
      ]
     },
     "execution_count": 195,
     "metadata": {},
     "output_type": "execute_result"
    }
   ],
   "source": [
    "import random\n",
    "def dice_roll():\n",
    "    return random.randint(1, 6), random.randint(1, 6)\n",
    "\n",
    "dice_roll()"
   ]
  },
  {
   "cell_type": "markdown",
   "metadata": {},
   "source": [
    "### Problem 20\n",
    "<span style=\"color:green\">You will write a function that plays a simple dice game. The game works as follows: You roll two dice and record the sum. You keep rolling the two dice until you re-roll your original total. Return the number of rolls it took to re-roll the original total. Do not simulate the original roll. Instead use an argument to pass the function a number between 2 and 12. Use the function you created in problem 19 to roll the dice. </span>"
   ]
  },
  {
   "cell_type": "code",
   "execution_count": 199,
   "metadata": {},
   "outputs": [
    {
     "data": {
      "text/plain": [
       "6"
      ]
     },
     "execution_count": 199,
     "metadata": {},
     "output_type": "execute_result"
    }
   ],
   "source": [
    "def simple_dice_game(original_roll):\n",
    "    n = 0\n",
    "    while True:\n",
    "        n += 1\n",
    "        if sum(dice_roll()) == original_roll:\n",
    "            break\n",
    "    return n\n",
    "\n",
    "simple_dice_game(5)"
   ]
  },
  {
   "cell_type": "markdown",
   "metadata": {},
   "source": [
    "### Problem 21: Advanced\n",
    "<span style=\"color:green\">This is a classic interview problem. Write a function that finds the degree difference between the minute and second on a clock. The function will accept two arguments, hour (between 1 and 12) and minute (between 0 and 59). Note: this should be the absolute difference, so 180 degrees would be the absolute max possible value. Test your function with some times and make sure it makes sense. </span>"
   ]
  },
  {
   "cell_type": "code",
   "execution_count": 201,
   "metadata": {},
   "outputs": [],
   "source": [
    "def degree_diff(hour, minute):\n",
    "    hour_degree = ((hour % 12) + minute / 60) * 30 \n",
    "    minute_degree = minute * 6\n",
    "    return min(abs(hour_degree - minute_degree), 360 - abs(hour_degree - minute_degree))"
   ]
  },
  {
   "cell_type": "code",
   "execution_count": 216,
   "metadata": {},
   "outputs": [
    {
     "data": {
      "text/plain": [
       "52.5"
      ]
     },
     "execution_count": 216,
     "metadata": {},
     "output_type": "execute_result"
    }
   ],
   "source": [
    "degree_diff(1, 15)"
   ]
  },
  {
   "cell_type": "markdown",
   "metadata": {},
   "source": [
    "# 7. Tuples, Sets and Dictionaries"
   ]
  },
  {
   "cell_type": "markdown",
   "metadata": {},
   "source": [
    "### Problem 1\n",
    "\n",
    "<span style=\"color:green\">Use a list comprehension that iterates through all the tuple methods and filters out all of the private methods.</span>"
   ]
  },
  {
   "cell_type": "code",
   "execution_count": 218,
   "metadata": {},
   "outputs": [
    {
     "data": {
      "text/plain": [
       "['count', 'index']"
      ]
     },
     "execution_count": 218,
     "metadata": {},
     "output_type": "execute_result"
    }
   ],
   "source": [
    "a = (1, 2)\n",
    "[method for method in dir(a) if method[0] != '_']"
   ]
  },
  {
   "cell_type": "markdown",
   "metadata": {},
   "source": [
    "### Problem 2\n",
    "\n",
    "<span style=\"color:green\">Define a set and think of a function that will output the number of elements in that set.</span>"
   ]
  },
  {
   "cell_type": "code",
   "execution_count": 124,
   "metadata": {},
   "outputs": [
    {
     "data": {
      "text/plain": [
       "3"
      ]
     },
     "execution_count": 124,
     "metadata": {},
     "output_type": "execute_result"
    }
   ],
   "source": [
    "# your code here\n",
    "a_set = {4, 5, 10}\n",
    "len(a_set)"
   ]
  },
  {
   "cell_type": "markdown",
   "metadata": {},
   "source": [
    "### Problem 3\n",
    "\n",
    "<span style=\"color:green\">Create a set of all the even numbers from 0 to 100. Then create another set of every number divisible by 7 from 0 to 100. Find the intersection of those sets.</span>"
   ]
  },
  {
   "cell_type": "code",
   "execution_count": 128,
   "metadata": {},
   "outputs": [
    {
     "data": {
      "text/plain": [
       "{0, 14, 28, 42, 56, 70, 84, 98}"
      ]
     },
     "execution_count": 128,
     "metadata": {},
     "output_type": "execute_result"
    }
   ],
   "source": [
    "# your code here\n",
    "a = set(range(0, 101, 2))\n",
    "b = set(range(0, 101, 7))\n",
    "\n",
    "a & b"
   ]
  },
  {
   "cell_type": "markdown",
   "metadata": {},
   "source": [
    "### Problem 4\n",
    "\n",
    "<span style=\"color:green\">Find all the list and tuple methods that in common.</span>"
   ]
  },
  {
   "cell_type": "code",
   "execution_count": 220,
   "metadata": {},
   "outputs": [
    {
     "data": {
      "text/plain": [
       "{'__add__',\n",
       " '__class__',\n",
       " '__contains__',\n",
       " '__delattr__',\n",
       " '__dir__',\n",
       " '__doc__',\n",
       " '__eq__',\n",
       " '__format__',\n",
       " '__ge__',\n",
       " '__getattribute__',\n",
       " '__getitem__',\n",
       " '__gt__',\n",
       " '__hash__',\n",
       " '__init__',\n",
       " '__init_subclass__',\n",
       " '__iter__',\n",
       " '__le__',\n",
       " '__len__',\n",
       " '__lt__',\n",
       " '__mul__',\n",
       " '__ne__',\n",
       " '__new__',\n",
       " '__reduce__',\n",
       " '__reduce_ex__',\n",
       " '__repr__',\n",
       " '__rmul__',\n",
       " '__setattr__',\n",
       " '__sizeof__',\n",
       " '__str__',\n",
       " '__subclasshook__',\n",
       " 'count',\n",
       " 'index'}"
      ]
     },
     "execution_count": 220,
     "metadata": {},
     "output_type": "execute_result"
    }
   ],
   "source": [
    "tuple_methods = set(dir(tuple))\n",
    "list_methods = set(dir(list))\n",
    "tuple_methods & list_methods"
   ]
  },
  {
   "cell_type": "markdown",
   "metadata": {},
   "source": [
    "### Problem 5: Advanced\n",
    "<span style=\"color:green\">Create a function to make a list of all the Fibonacci numbers less than 1000 and another function to make a list of all the prime numbers less than a 1000. Use a set to find the numbers that are in both groups</span>"
   ]
  },
  {
   "cell_type": "code",
   "execution_count": 134,
   "metadata": {},
   "outputs": [],
   "source": [
    "# your code here\n",
    "fib_list = [1, 1]\n",
    "while  fib_list[-1] + fib_list[-2] < 1000:\n",
    "    fib_list.append(fib_list[-2] + fib_list[-1])\n",
    "    \n",
    "prime_list = [1, 2]\n",
    "from math import sqrt\n",
    "for i in range(3, 1000):\n",
    "    is_prime = True\n",
    "    for j in range(2, int(sqrt(i) + 1)):\n",
    "        if i % j == 0:\n",
    "            is_prime = False\n",
    "            break\n",
    "    if is_prime:\n",
    "        prime_list.append(i)"
   ]
  },
  {
   "cell_type": "code",
   "execution_count": 150,
   "metadata": {},
   "outputs": [
    {
     "data": {
      "text/plain": [
       "{1, 2, 3, 5, 13, 89, 233}"
      ]
     },
     "execution_count": 150,
     "metadata": {},
     "output_type": "execute_result"
    }
   ],
   "source": [
    "set(fib_list) & set(prime_list)"
   ]
  },
  {
   "cell_type": "markdown",
   "metadata": {},
   "source": [
    "### Problem 6\n",
    "\n",
    "<span style=\"color:green\">Are dictionaries mutable or immutable objects?</span>"
   ]
  },
  {
   "cell_type": "markdown",
   "metadata": {},
   "source": [
    "Mutable. We can add new key:value pairs, remove key:value pairs or change the value of one of the keys"
   ]
  },
  {
   "cell_type": "markdown",
   "metadata": {},
   "source": [
    "### Problem 7\n",
    "\n",
    "<span style=\"color:green\">Write a function that emulates the `get` dictionary method. The function will consist of three arguments: the dictionary, the key to lookup and the default value to return if the key is not in the dictionary. Test your function with the provided code</span>"
   ]
  },
  {
   "cell_type": "code",
   "execution_count": 136,
   "metadata": {
    "collapsed": true
   },
   "outputs": [],
   "source": [
    "def dict_get(dictionary, key, default):\n",
    "    if key in dictionary:\n",
    "        return dictionary[key]\n",
    "    return default"
   ]
  },
  {
   "cell_type": "code",
   "execution_count": 137,
   "metadata": {},
   "outputs": [
    {
     "name": "stdout",
     "output_type": "stream",
     "text": [
      "[0, 0, 0]\n",
      "[45, 98, 77]\n"
     ]
    }
   ],
   "source": [
    "# test code \n",
    "test_dict = {'Sally': [87, 76, 65], 'Jane' : [45, 98, 77], 'Adeline' : [65, 22, 10]}\n",
    "key = 'jane'\n",
    "default = [0, 0, 0]\n",
    "\n",
    "print(dict_get(test_dict, key, default))\n",
    "\n",
    "key = 'Jane'\n",
    "print(dict_get(test_dict, key, default))"
   ]
  },
  {
   "cell_type": "markdown",
   "metadata": {},
   "source": [
    "### Problem 8\n",
    "\n",
    "<span style=\"color:green\">Create a function that accepts two parameters, a dictionary, and a string. If that string is in the dictionary, increment the value by 1. If not, create a new record in the dictionary with the string as a key and 0 as its value. Test your function with provided code.</span>"
   ]
  },
  {
   "cell_type": "code",
   "execution_count": 138,
   "metadata": {
    "collapsed": true
   },
   "outputs": [],
   "source": [
    "def add_to_dict(dictionary, key):\n",
    "    if key in dictionary:\n",
    "        dictionary[key] += 1\n",
    "    else:\n",
    "        dictionary[key] = 0"
   ]
  },
  {
   "cell_type": "code",
   "execution_count": 142,
   "metadata": {},
   "outputs": [
    {
     "data": {
      "text/plain": [
       "{'Houston': 1, 'New Orleans': 3, 'New York': 0}"
      ]
     },
     "execution_count": 142,
     "metadata": {},
     "output_type": "execute_result"
    }
   ],
   "source": [
    "# test code\n",
    "test_dict = {'Houston': 1, 'New Orleans':2}\n",
    "\n",
    "add_to_dict(test_dict, 'New York')\n",
    "\n",
    "add_to_dict(test_dict, 'New Orleans')\n",
    "\n",
    "test_dict"
   ]
  },
  {
   "cell_type": "markdown",
   "metadata": {},
   "source": [
    "### Problem 9\n",
    "\n",
    "<span style=\"color:green\">Create a new dictionary through a dictionary comp that gets the average score for each student</span>"
   ]
  },
  {
   "cell_type": "code",
   "execution_count": 143,
   "metadata": {},
   "outputs": [
    {
     "data": {
      "text/plain": [
       "{'Adeline': 32.333333333333336, 'Jane': 73.33333333333333, 'Sally': 76.0}"
      ]
     },
     "execution_count": 143,
     "metadata": {},
     "output_type": "execute_result"
    }
   ],
   "source": [
    "students = {'Sally': [87, 76, 65], 'Jane' : [45, 98, 77], 'Adeline' : [65, 22, 10]}\n",
    "# your code here\n",
    "avg = {student : sum(scores) / len(scores) for student, scores in students.items()}\n",
    "avg"
   ]
  },
  {
   "cell_type": "markdown",
   "metadata": {},
   "source": [
    "### Problem 10\n",
    "\n",
    "<span style=\"color:green\">Create a dictionary through a dictionary comp that has the student name as the key and the minimum grade as value but for only students that have an 'e' in their name.</span>"
   ]
  },
  {
   "cell_type": "code",
   "execution_count": 144,
   "metadata": {},
   "outputs": [
    {
     "data": {
      "text/plain": [
       "{'Adeline': 10, 'Jane': 45}"
      ]
     },
     "execution_count": 144,
     "metadata": {},
     "output_type": "execute_result"
    }
   ],
   "source": [
    "# your code here\n",
    "low_e = {student : min(scores) for student, scores in students.items() if 'e' in student}\n",
    "low_e"
   ]
  },
  {
   "cell_type": "markdown",
   "metadata": {},
   "source": [
    "### Problem 11\n",
    "\n",
    "<span style=\"color:green\">Use a dictionary comp that loops through the numbers 0 to 10 and uses the integer as the key and a list with its squared and cubed value as its value.</span>"
   ]
  },
  {
   "cell_type": "code",
   "execution_count": 221,
   "metadata": {},
   "outputs": [
    {
     "data": {
      "text/plain": [
       "{0: [0, 0],\n",
       " 1: [1, 1],\n",
       " 2: [4, 8],\n",
       " 3: [9, 27],\n",
       " 4: [16, 64],\n",
       " 5: [25, 125],\n",
       " 6: [36, 216],\n",
       " 7: [49, 343],\n",
       " 8: [64, 512],\n",
       " 9: [81, 729],\n",
       " 10: [100, 1000]}"
      ]
     },
     "execution_count": 221,
     "metadata": {},
     "output_type": "execute_result"
    }
   ],
   "source": [
    "# your code here\n",
    "{n: [n ** 2, n ** 3] for n in range(11)}"
   ]
  },
  {
   "cell_type": "markdown",
   "metadata": {},
   "source": [
    "### Problem 12: Advanced\n",
    "\n",
    "<span style=\"color:green\">Iterate through each student and drop their lowest test grade. Replace it with 100.</span>"
   ]
  },
  {
   "cell_type": "code",
   "execution_count": 160,
   "metadata": {},
   "outputs": [],
   "source": [
    "# your code here\n",
    "for student, scores in students.items():\n",
    "    scores[scores.index(min(scores))] = 100"
   ]
  },
  {
   "cell_type": "code",
   "execution_count": 161,
   "metadata": {},
   "outputs": [
    {
     "data": {
      "text/plain": [
       "{'Adeline': [65, 22, 100], 'Jane': [100, 98, 77], 'Sally': [87, 76, 100]}"
      ]
     },
     "execution_count": 161,
     "metadata": {},
     "output_type": "execute_result"
    }
   ],
   "source": [
    "students"
   ]
  },
  {
   "cell_type": "markdown",
   "metadata": {},
   "source": [
    "# 8. Imports and Modules"
   ]
  },
  {
   "cell_type": "markdown",
   "metadata": {},
   "source": [
    "### Problem 1\n",
    "\n",
    "<span style=\"color:green\">Read the documentation on the **`sample`** function to choose 5 random integers between 0 and 100.</span>"
   ]
  },
  {
   "cell_type": "code",
   "execution_count": 222,
   "metadata": {},
   "outputs": [],
   "source": [
    "import random"
   ]
  },
  {
   "cell_type": "code",
   "execution_count": 230,
   "metadata": {},
   "outputs": [
    {
     "data": {
      "text/plain": [
       "[78, 7, 63, 48, 50]"
      ]
     },
     "execution_count": 230,
     "metadata": {},
     "output_type": "execute_result"
    }
   ],
   "source": [
    "random.sample(range(100), k=5)"
   ]
  },
  {
   "cell_type": "markdown",
   "metadata": {},
   "source": [
    "### Problem 2\n",
    "\n",
    "<span style=\"color:green\">Import the math module and take the log of a number.</span>"
   ]
  },
  {
   "cell_type": "code",
   "execution_count": 231,
   "metadata": {},
   "outputs": [
    {
     "data": {
      "text/plain": [
       "2.302585092994046"
      ]
     },
     "execution_count": 231,
     "metadata": {},
     "output_type": "execute_result"
    }
   ],
   "source": [
    "import math\n",
    "math.log(10)"
   ]
  },
  {
   "cell_type": "markdown",
   "metadata": {},
   "source": [
    "### Problem 3\n",
    "\n",
    "<span style=\"color:green\">Use the string module to print out all the uppercase letters.</span>"
   ]
  },
  {
   "cell_type": "code",
   "execution_count": 233,
   "metadata": {},
   "outputs": [
    {
     "data": {
      "text/plain": [
       "'ABCDEFGHIJKLMNOPQRSTUVWXYZ'"
      ]
     },
     "execution_count": 233,
     "metadata": {},
     "output_type": "execute_result"
    }
   ],
   "source": [
    "import string\n",
    "string.ascii_uppercase"
   ]
  },
  {
   "cell_type": "markdown",
   "metadata": {},
   "source": [
    "### Problem 4\n",
    "\n",
    "<span style=\"color:green\">Import the single name `getcwd` from the `os` module and execute the function. What does it do?</span>"
   ]
  },
  {
   "cell_type": "code",
   "execution_count": 235,
   "metadata": {},
   "outputs": [
    {
     "data": {
      "text/plain": [
       "'/Users/Ted/Google Drive/Github Repos/Data Science Teaching/precourse-assignment'"
      ]
     },
     "execution_count": 235,
     "metadata": {},
     "output_type": "execute_result"
    }
   ],
   "source": [
    "# It outputs the current working directory as a string\n",
    "import os\n",
    "os.getcwd()"
   ]
  },
  {
   "cell_type": "markdown",
   "metadata": {},
   "source": [
    "### Problem 5\n",
    "\n",
    "<span style=\"color:green\">Import and alias the `webbrowser` module as `wb`. Then open a new tab in your browser with the `open_new_tab` function.</span>"
   ]
  },
  {
   "cell_type": "code",
   "execution_count": 244,
   "metadata": {},
   "outputs": [],
   "source": [
    "import webbrowser as wb"
   ]
  },
  {
   "cell_type": "code",
   "execution_count": 245,
   "metadata": {},
   "outputs": [
    {
     "data": {
      "text/plain": [
       "True"
      ]
     },
     "execution_count": 245,
     "metadata": {},
     "output_type": "execute_result"
    }
   ],
   "source": [
    "wb.open_new_tab('http://docs.python.org')"
   ]
  },
  {
   "cell_type": "markdown",
   "metadata": {},
   "source": [
    "### Problem 6\n",
    "\n",
    "<span style=\"color:green\">Take a look at the fractions module (find it in the standard library link above) and add the fractions 2/3 to 1/4. It will be very helpful to read the documentation from the link.</span>"
   ]
  },
  {
   "cell_type": "code",
   "execution_count": 246,
   "metadata": {},
   "outputs": [],
   "source": [
    "from fractions import Fraction"
   ]
  },
  {
   "cell_type": "code",
   "execution_count": 249,
   "metadata": {},
   "outputs": [
    {
     "data": {
      "text/plain": [
       "Fraction(11, 12)"
      ]
     },
     "execution_count": 249,
     "metadata": {},
     "output_type": "execute_result"
    }
   ],
   "source": [
    "Fraction('2/3') + Fraction('1/4')"
   ]
  },
  {
   "cell_type": "markdown",
   "metadata": {},
   "source": [
    "# 9. Classes"
   ]
  },
  {
   "cell_type": "markdown",
   "metadata": {},
   "source": [
    "### Problem 1\n",
    "\n",
    "<span style=\"color:green\">Verify that the built-in names `int`, `float`, `str`, `list`, `range`, `tuple`, `set`, `dict` are types. </span>"
   ]
  },
  {
   "cell_type": "code",
   "execution_count": 1,
   "metadata": {},
   "outputs": [
    {
     "data": {
      "text/plain": [
       "type"
      ]
     },
     "execution_count": 1,
     "metadata": {},
     "output_type": "execute_result"
    }
   ],
   "source": [
    "type(int)"
   ]
  },
  {
   "cell_type": "code",
   "execution_count": 2,
   "metadata": {},
   "outputs": [
    {
     "data": {
      "text/plain": [
       "type"
      ]
     },
     "execution_count": 2,
     "metadata": {},
     "output_type": "execute_result"
    }
   ],
   "source": [
    "type(float)"
   ]
  },
  {
   "cell_type": "code",
   "execution_count": 3,
   "metadata": {},
   "outputs": [
    {
     "data": {
      "text/plain": [
       "type"
      ]
     },
     "execution_count": 3,
     "metadata": {},
     "output_type": "execute_result"
    }
   ],
   "source": [
    "type(str)"
   ]
  },
  {
   "cell_type": "code",
   "execution_count": 4,
   "metadata": {},
   "outputs": [
    {
     "data": {
      "text/plain": [
       "type"
      ]
     },
     "execution_count": 4,
     "metadata": {},
     "output_type": "execute_result"
    }
   ],
   "source": [
    "type(list)"
   ]
  },
  {
   "cell_type": "code",
   "execution_count": 5,
   "metadata": {},
   "outputs": [
    {
     "data": {
      "text/plain": [
       "type"
      ]
     },
     "execution_count": 5,
     "metadata": {},
     "output_type": "execute_result"
    }
   ],
   "source": [
    "type(range)"
   ]
  },
  {
   "cell_type": "code",
   "execution_count": 6,
   "metadata": {},
   "outputs": [
    {
     "data": {
      "text/plain": [
       "type"
      ]
     },
     "execution_count": 6,
     "metadata": {},
     "output_type": "execute_result"
    }
   ],
   "source": [
    "type(tuple)"
   ]
  },
  {
   "cell_type": "code",
   "execution_count": 7,
   "metadata": {},
   "outputs": [
    {
     "data": {
      "text/plain": [
       "type"
      ]
     },
     "execution_count": 7,
     "metadata": {},
     "output_type": "execute_result"
    }
   ],
   "source": [
    "type(set)"
   ]
  },
  {
   "cell_type": "code",
   "execution_count": 8,
   "metadata": {},
   "outputs": [
    {
     "data": {
      "text/plain": [
       "type"
      ]
     },
     "execution_count": 8,
     "metadata": {},
     "output_type": "execute_result"
    }
   ],
   "source": [
    "type(set)"
   ]
  },
  {
   "cell_type": "code",
   "execution_count": 9,
   "metadata": {},
   "outputs": [
    {
     "data": {
      "text/plain": [
       "type"
      ]
     },
     "execution_count": 9,
     "metadata": {},
     "output_type": "execute_result"
    }
   ],
   "source": [
    "type(dict)"
   ]
  },
  {
   "cell_type": "markdown",
   "metadata": {},
   "source": [
    "### Problem 2\n",
    "<span style=\"color:green\">Create a `Person` class with attributes for first and last name, sex, age, and height. Define a method, `greet` that returns a greeting message as a string with the person's first and last name. Then, instantiate the class and call the `greet` method.</span>"
   ]
  },
  {
   "cell_type": "code",
   "execution_count": 18,
   "metadata": {},
   "outputs": [],
   "source": [
    "class Person:\n",
    "    \n",
    "    def __init__(self, first, last, sex, age, height):\n",
    "        self.first = first\n",
    "        self.last = last\n",
    "        self.sex = sex\n",
    "        self.age = age\n",
    "        self.height = height\n",
    "        \n",
    "    def greet(self):\n",
    "        return f'Hello, my name is {self.first} {self.last}'"
   ]
  },
  {
   "cell_type": "code",
   "execution_count": 19,
   "metadata": {},
   "outputs": [],
   "source": [
    "tiger_woods = Person('Tiger', 'Woods', 'M', 42, 73)"
   ]
  },
  {
   "cell_type": "code",
   "execution_count": 20,
   "metadata": {},
   "outputs": [
    {
     "data": {
      "text/plain": [
       "'Hello, my name is Tiger Woods'"
      ]
     },
     "execution_count": 20,
     "metadata": {},
     "output_type": "execute_result"
    }
   ],
   "source": [
    "tiger_woods.greet()"
   ]
  },
  {
   "cell_type": "markdown",
   "metadata": {},
   "source": [
    "### Problem 3\n",
    "<span style=\"color:green\">Create an `Address` class with attributes for street number, street name, city, state, zip code, and apartment number. Default the apartment parameter number to `None`. Define the `is_apt` method that returns a boolean whether or not the address is an apartment. Instantiate the class and call the `is_apt` method.</span>"
   ]
  },
  {
   "cell_type": "code",
   "execution_count": 27,
   "metadata": {},
   "outputs": [],
   "source": [
    "class Address:\n",
    "    \n",
    "    def __init__(self, number, name, city, state, zip_code, apt_no=None):\n",
    "        self.number = number\n",
    "        self.name = name,\n",
    "        self.city = city\n",
    "        self.state = state\n",
    "        self.zip_code = zip_code\n",
    "        self.apt_no = apt_no\n",
    "        \n",
    "    def is_apt(self):\n",
    "        return self.apt_no is not None"
   ]
  },
  {
   "cell_type": "code",
   "execution_count": 28,
   "metadata": {},
   "outputs": [],
   "source": [
    "address = Address(15, 'Main St.', 'Houston', 'Tx', 77003, 23)"
   ]
  },
  {
   "cell_type": "code",
   "execution_count": 29,
   "metadata": {},
   "outputs": [
    {
     "data": {
      "text/plain": [
       "True"
      ]
     },
     "execution_count": 29,
     "metadata": {},
     "output_type": "execute_result"
    }
   ],
   "source": [
    "address.is_apt()"
   ]
  },
  {
   "cell_type": "markdown",
   "metadata": {},
   "source": [
    "### Problem 4\n",
    "<span style=\"color:green\">Define a new `Person` class that has one more attribute, `address`. Let this name refer to an instance of the `Address` class defined in problem 3. You may use either form of object composition explained above. Create an instance of the new `Person` class and call the `is_apt` method of its address attribute.</span>"
   ]
  },
  {
   "cell_type": "code",
   "execution_count": 30,
   "metadata": {},
   "outputs": [],
   "source": [
    "class Person:\n",
    "    \n",
    "    def __init__(self, first, last, sex, age, height, address):\n",
    "        self.first = first\n",
    "        self.last = last\n",
    "        self.sex = sex\n",
    "        self.age = age\n",
    "        self.height = height\n",
    "        self.address = address\n",
    "        \n",
    "    def greet(self):\n",
    "        return f'Hello, my name is {self.first} {self.last}'"
   ]
  },
  {
   "cell_type": "code",
   "execution_count": 33,
   "metadata": {},
   "outputs": [],
   "source": [
    "some_address = Address(15, 'Main St.', 'Houston', 'Tx', 77003, 23)\n",
    "a_person = Person('Penelope', 'Cruz', 'F', 43, 67, some_address)"
   ]
  },
  {
   "cell_type": "code",
   "execution_count": 34,
   "metadata": {},
   "outputs": [
    {
     "data": {
      "text/plain": [
       "True"
      ]
     },
     "execution_count": 34,
     "metadata": {},
     "output_type": "execute_result"
    }
   ],
   "source": [
    "a_person.address.is_apt()"
   ]
  },
  {
   "cell_type": "markdown",
   "metadata": {},
   "source": [
    "# Execute this next cell block before problem 5"
   ]
  },
  {
   "cell_type": "code",
   "execution_count": 63,
   "metadata": {},
   "outputs": [],
   "source": [
    "from collections import defaultdict\n",
    "import random\n",
    "\n",
    "class Dice:\n",
    "    \n",
    "    def __init__(self, faces):\n",
    "        self.faces = faces\n",
    "        self.num_die = 2\n",
    "        self.rolls = []\n",
    "        self.current_roll = None\n",
    "        self.current_total = None\n",
    "        self.num_combs = len(faces) ** 2\n",
    "        self.theoretical_probs = self._compute_probs()\n",
    "        \n",
    "    def _compute_probs(self):\n",
    "        probs = defaultdict(int)\n",
    "        for face1 in self.faces:\n",
    "            for face2 in self.faces:\n",
    "                total = face1 + face2\n",
    "                probs[total] += 1 / self.num_combs\n",
    "        return probs\n",
    "    \n",
    "    def roll(self, to_print=False):\n",
    "        r = random.choices(self.faces, k=2) # returns a list of 2 rolls\n",
    "        total = sum(r)\n",
    "        self.current_roll = tuple(r)\n",
    "        self.current_total = total\n",
    "        self.rolls.append(total)\n",
    "        if to_print:\n",
    "            print(f'The current roll is {self.current_roll}')\n",
    "            \n",
    "    def find_max(self):\n",
    "        return max(self.theoretical_probs)\n",
    "    \n",
    "    def find_min(self):\n",
    "        return min(self.theoretical_probs)\n",
    "    \n",
    "    def actual_count(self):\n",
    "        d = defaultdict(int)\n",
    "        for roll in self.rolls:\n",
    "            d[roll] += 1\n",
    "        return d\n",
    "        \n",
    "    def actual_probs(self):\n",
    "        d = defaultdict(int)\n",
    "        for roll in self.rolls:\n",
    "            d[roll] += 1 / len(self.rolls)\n",
    "        return d"
   ]
  },
  {
   "cell_type": "markdown",
   "metadata": {},
   "source": [
    "### Problem 5\n",
    "<span style=\"color:green\">Write a function, **`compute_prob_diff`**, that accepts a single parameter **`n`**, the number of rolls and returns a  dictionary that contains the absolute difference between the theoretical and actual probabilities. Output the function for 100, 10,000 and 1,000,000 rolls</span>"
   ]
  },
  {
   "cell_type": "code",
   "execution_count": 64,
   "metadata": {},
   "outputs": [],
   "source": [
    "def compute_prob_diff(n):\n",
    "    dice = Dice([1, 2, 3, 4, 5, 6])\n",
    "    for i in range(n):\n",
    "        dice.roll()\n",
    "    actual = dice.actual_probs()\n",
    "    diff = {}\n",
    "    for total, prob in dice.theoretical_probs.items():\n",
    "        diff[total] = abs(prob - actual[total])\n",
    "    return diff"
   ]
  },
  {
   "cell_type": "code",
   "execution_count": 65,
   "metadata": {},
   "outputs": [
    {
     "data": {
      "text/plain": [
       "{2: 0.017777777777777774,\n",
       " 3: 0.025555555555555554,\n",
       " 4: 0.03666666666666665,\n",
       " 5: 0.06888888888888892,\n",
       " 6: 0.0388888888888889,\n",
       " 7: 0.0266666666666667,\n",
       " 8: 0.018888888888888913,\n",
       " 9: 0.02888888888888888,\n",
       " 10: 0.003333333333333327,\n",
       " 11: 0.00555555555555555,\n",
       " 12: 0.0022222222222222227}"
      ]
     },
     "execution_count": 65,
     "metadata": {},
     "output_type": "execute_result"
    }
   ],
   "source": [
    "compute_prob_diff(100)"
   ]
  },
  {
   "cell_type": "code",
   "execution_count": 66,
   "metadata": {},
   "outputs": [
    {
     "data": {
      "text/plain": [
       "{2: 0.0017222222222221008,\n",
       " 3: 0.0006555555555550069,\n",
       " 4: 0.000966666666668059,\n",
       " 5: 0.001788888888891102,\n",
       " 6: 0.004288888888887399,\n",
       " 7: 0.0002666666666686912,\n",
       " 8: 0.003511111111111742,\n",
       " 9: 0.0002111111111089553,\n",
       " 10: 0.0017333333333320183,\n",
       " 11: 0.0006555555555550069,\n",
       " 12: 0.00017777777777788772}"
      ]
     },
     "execution_count": 66,
     "metadata": {},
     "output_type": "execute_result"
    }
   ],
   "source": [
    "compute_prob_diff(10000)"
   ]
  },
  {
   "cell_type": "code",
   "execution_count": 67,
   "metadata": {},
   "outputs": [
    {
     "data": {
      "text/plain": [
       "{2: 9.977777777074939e-05,\n",
       " 3: 1.655555552066562e-05,\n",
       " 4: 9.466666672944268e-05,\n",
       " 5: 8.81111110207361e-05,\n",
       " 6: 7.51111112294034e-05,\n",
       " 7: 0.00021666666652089828,\n",
       " 8: 0.0001221111112294504,\n",
       " 9: 0.0001841111110208321,\n",
       " 10: 2.6666666729374677e-05,\n",
       " 11: 0.0002934444444796444,\n",
       " 12: 6.777777770656385e-06}"
      ]
     },
     "execution_count": 67,
     "metadata": {},
     "output_type": "execute_result"
    }
   ],
   "source": [
    "compute_prob_diff(1000000)"
   ]
  },
  {
   "cell_type": "markdown",
   "metadata": {},
   "source": [
    "### Problem 6\n",
    "<span style=\"color:green\">You will create a simplified game of craps using a single Python class. The basic game of craps is as follows:</span> \n",
    "\n",
    "1. There are two stages to the game. \n",
    "1. You make a wager\n",
    "1. If you roll a 2, 3 or 12 you lose and the game ends. If you roll a 7 or 11 you win and the game ends.\n",
    "1. If you roll anything else (4,5,6,8,9,10) then the game continues to the second stage.\n",
    "1. You continue rolling until you roll your original number from the first stage or a 7.\n",
    "1. If you roll your original number you win and the game ends. If your roll a 7 you lose and the game ends.\n",
    "\n",
    "\n",
    "* Write a **`Craps`** class who's constructor has two parameters **player name**, and **starting money**. \n",
    "* Create a method **`play`** that accepts a single parameter **`wager`** and plays one complete game of craps (until the wager is won or lost). \n",
    "* Print out each roll as it happens and update the money at game completion. \n",
    "* Print out the amount of money the player has at both the start and end of each game\n",
    "* Do not put all your code in the **`play`** method. Think about using object composition with the **`Dice`** class from above.\n",
    "\n",
    "Break up logical pieces of code into their own methods. A broad general rule (not meant to be strictly followed) is to keep methods under 10 lines of code. The solution has 4 methods (other than **`__init__`**) that each run a very specific piece of logic. You have lots of flexibility to design your class however you want.\n",
    "\n",
    "Once you create your Craps class, instantiate it and play it until you double up or go broke."
   ]
  },
  {
   "cell_type": "code",
   "execution_count": 144,
   "metadata": {},
   "outputs": [],
   "source": [
    "class Craps:\n",
    "    \n",
    "    def __init__(self, name, money):\n",
    "        self.name = name\n",
    "        self.money = money\n",
    "        self._dice = Dice([1, 2, 3, 4, 5, 6])\n",
    "      \n",
    "    def play(self, wager):\n",
    "        self._game_over = False\n",
    "        self.wager = wager\n",
    "        print(f'Hi {self.name} - Current Money: {self.money}')\n",
    "        print(f'Current Wager: {self.wager}')\n",
    "        self._first_stage()\n",
    "        if not self._game_over:\n",
    "            self._second_stage()\n",
    "        \n",
    "    def _first_stage(self):\n",
    "        print('\\n****** Entering First Stage of Craps ******')\n",
    "        self._dice.roll(to_print=True)\n",
    "        self._original_total = self._dice.current_total\n",
    "        if self._original_total in [2, 3, 12]:\n",
    "            self._update_money(False)\n",
    "        elif self._original_total in [7, 11]:\n",
    "            self._update_money(True)\n",
    "            \n",
    "    def _second_stage(self):\n",
    "        print('\\n****** Entering Second Stage of Craps ******')\n",
    "        while True:\n",
    "            self._dice.roll(to_print=True)\n",
    "            if self._dice.current_total == self._original_total:\n",
    "                self._update_money(True)\n",
    "                break\n",
    "            if self._dice.current_total == 7:\n",
    "                self._update_money(False)\n",
    "                break\n",
    "            \n",
    "    def _update_money(self, win):\n",
    "        self._game_over = True\n",
    "        if win:\n",
    "            self.money += self.wager\n",
    "            print(f'You Win! - Current Money: {self.money}')\n",
    "        else:\n",
    "            self.money -= self.wager\n",
    "            print(f'You Lose ... - Current Money: {self.money}')"
   ]
  },
  {
   "cell_type": "code",
   "execution_count": 206,
   "metadata": {},
   "outputs": [],
   "source": [
    "craps = Craps('Ted', 1000)"
   ]
  },
  {
   "cell_type": "code",
   "execution_count": 207,
   "metadata": {},
   "outputs": [
    {
     "name": "stdout",
     "output_type": "stream",
     "text": [
      "Hi Ted - Current Money: 1000\n",
      "Current Wager: 100\n",
      "\n",
      "****** Entering First Stage of Craps ******\n",
      "The current roll is (3, 5)\n",
      "\n",
      "****** Entering Second Stage of Craps ******\n",
      "The current roll is (6, 5)\n",
      "The current roll is (3, 5)\n",
      "You Win! - Current Money: 1100\n"
     ]
    }
   ],
   "source": [
    "craps.play(100)"
   ]
  },
  {
   "cell_type": "code",
   "execution_count": 209,
   "metadata": {},
   "outputs": [
    {
     "name": "stdout",
     "output_type": "stream",
     "text": [
      "Hi Ted - Current Money: 1100\n",
      "Current Wager: 200\n",
      "\n",
      "****** Entering First Stage of Craps ******\n",
      "The current roll is (5, 5)\n",
      "\n",
      "****** Entering Second Stage of Craps ******\n",
      "The current roll is (1, 5)\n",
      "The current roll is (3, 3)\n",
      "The current roll is (1, 4)\n",
      "The current roll is (6, 5)\n",
      "The current roll is (2, 4)\n",
      "The current roll is (6, 1)\n",
      "You Lose ... - Current Money: 900\n"
     ]
    }
   ],
   "source": [
    "craps.play(200)"
   ]
  },
  {
   "cell_type": "code",
   "execution_count": 210,
   "metadata": {},
   "outputs": [
    {
     "name": "stdout",
     "output_type": "stream",
     "text": [
      "Hi Ted - Current Money: 900\n",
      "Current Wager: 400\n",
      "\n",
      "****** Entering First Stage of Craps ******\n",
      "The current roll is (6, 1)\n",
      "You Win! - Current Money: 1300\n"
     ]
    }
   ],
   "source": [
    "craps.play(400)"
   ]
  },
  {
   "cell_type": "code",
   "execution_count": 211,
   "metadata": {},
   "outputs": [
    {
     "name": "stdout",
     "output_type": "stream",
     "text": [
      "Hi Ted - Current Money: 1300\n",
      "Current Wager: 700\n",
      "\n",
      "****** Entering First Stage of Craps ******\n",
      "The current roll is (5, 4)\n",
      "\n",
      "****** Entering Second Stage of Craps ******\n",
      "The current roll is (6, 2)\n",
      "The current roll is (5, 6)\n",
      "The current roll is (1, 2)\n",
      "The current roll is (6, 6)\n",
      "The current roll is (3, 2)\n",
      "The current roll is (5, 4)\n",
      "You Win! - Current Money: 2000\n"
     ]
    }
   ],
   "source": [
    "craps.play(700)"
   ]
  },
  {
   "cell_type": "code",
   "execution_count": 216,
   "metadata": {},
   "outputs": [],
   "source": [
    "a = [1, 2]"
   ]
  },
  {
   "cell_type": "code",
   "execution_count": 217,
   "metadata": {},
   "outputs": [],
   "source": [
    "a.extend({'a': 1})"
   ]
  },
  {
   "cell_type": "code",
   "execution_count": 218,
   "metadata": {},
   "outputs": [
    {
     "data": {
      "text/plain": [
       "[1, 2, 'a']"
      ]
     },
     "execution_count": 218,
     "metadata": {},
     "output_type": "execute_result"
    }
   ],
   "source": [
    "a"
   ]
  },
  {
   "cell_type": "code",
   "execution_count": 220,
   "metadata": {},
   "outputs": [],
   "source": [
    "import pandas as pd\n",
    "df = pd.DataFrame({'a': [1, 2, 3]})"
   ]
  },
  {
   "cell_type": "code",
   "execution_count": 221,
   "metadata": {},
   "outputs": [
    {
     "data": {
      "text/plain": [
       "[1, 2, 'a']"
      ]
     },
     "execution_count": 221,
     "metadata": {},
     "output_type": "execute_result"
    }
   ],
   "source": [
    "a"
   ]
  },
  {
   "cell_type": "code",
   "execution_count": 222,
   "metadata": {},
   "outputs": [],
   "source": [
    "a.extend(df)"
   ]
  },
  {
   "cell_type": "code",
   "execution_count": 223,
   "metadata": {},
   "outputs": [
    {
     "data": {
      "text/plain": [
       "[1, 2, 'a', 'a']"
      ]
     },
     "execution_count": 223,
     "metadata": {},
     "output_type": "execute_result"
    }
   ],
   "source": [
    "a"
   ]
  },
  {
   "cell_type": "code",
   "execution_count": 226,
   "metadata": {},
   "outputs": [
    {
     "data": {
      "text/plain": [
       "<dict_valueiterator at 0x10bd8f8b8>"
      ]
     },
     "execution_count": 226,
     "metadata": {},
     "output_type": "execute_result"
    }
   ],
   "source": [
    "iter({'a': 5}.values())"
   ]
  },
  {
   "cell_type": "code",
   "execution_count": null,
   "metadata": {},
   "outputs": [],
   "source": []
  }
 ],
 "metadata": {
  "anaconda-cloud": {},
  "kernelspec": {
   "display_name": "Python 3",
   "language": "python",
   "name": "python3"
  },
  "language_info": {
   "codemirror_mode": {
    "name": "ipython",
    "version": 3
   },
   "file_extension": ".py",
   "mimetype": "text/x-python",
   "name": "python",
   "nbconvert_exporter": "python",
   "pygments_lexer": "ipython3",
   "version": "3.6.4"
  }
 },
 "nbformat": 4,
 "nbformat_minor": 1
}
