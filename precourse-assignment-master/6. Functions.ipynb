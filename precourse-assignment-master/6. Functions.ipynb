{
 "cells": [
  {
   "cell_type": "markdown",
   "metadata": {},
   "source": [
    "# Functions\n",
    "\n",
    "## Objectives\n",
    "By the end of this notebook, you should know:\n",
    "\n",
    "* How to call a function\n",
    "* How to create a user defined function\n",
    "* That all functions return a value\n",
    "* How to use the **`return`** statement\n",
    "* The difference between parameters and arguments\n",
    "* How to define a function with parameters\n",
    "* How to use default parameters\n",
    "* The difference between positional and keyword arguments\n",
    "* How to create docstrings within a function\n",
    "* How to create anonymous functions\n",
    "\n",
    "Functions are fundamental to all programming languages and have already been utilized quite a bit before this notebook. A function is a group of the same reusable programming statements that can be repeatedly called with a reference to the function name. Functions allow you to store code that you would like to reference over and over again without having to rewrite that same code for each execution. All functions must return a Python object (even if it is `None`).\n",
    "\n",
    "### Built-in Functions\n",
    "Python comes standard with about [70 builtin functions][1] for the most common and important tasks. These are functions that are ready to use without any need to import them from other modules. The Python standard library contains many modules with access to hundred's of other functions that do require the **`import`** statement. And thanks to Python being open source, many tens of thousands of 3rd party libraries with functions for anything you can imagine have been built.\n",
    "\n",
    "### Calling Basic Functions\n",
    "Functions are referenced by their name. To execute the code they are referencing, you must append an open and close parentheses to them. Some functions have parameters that are used to modify the functionality within them. Values for these parameters must be placed within the parentheses separated by commas.\n",
    "\n",
    "### Using built-in functions\n",
    "Below are some examples of using built-in functions. These will all be colored green (or some color) in most editors.\n",
    "\n",
    "[1]: https://docs.python.org/3/library/functions.html"
   ]
  },
  {
   "cell_type": "code",
   "execution_count": null,
   "metadata": {},
   "outputs": [],
   "source": [
    "# take the absolute value of a number\n",
    "abs(-5)"
   ]
  },
  {
   "cell_type": "code",
   "execution_count": null,
   "metadata": {},
   "outputs": [],
   "source": [
    "# get the max of two values\n",
    "max(5, 8)"
   ]
  },
  {
   "cell_type": "code",
   "execution_count": null,
   "metadata": {},
   "outputs": [],
   "source": [
    "# get the max value of a list\n",
    "max([11, 4, 6, 8])"
   ]
  },
  {
   "cell_type": "code",
   "execution_count": null,
   "metadata": {},
   "outputs": [],
   "source": [
    "# Get the length of a list\n",
    "my_list = [8, 0, 'asf', True]\n",
    "len(my_list)"
   ]
  },
  {
   "cell_type": "markdown",
   "metadata": {},
   "source": [
    "# How to find out how functions work?\n",
    "Its quite unlikely that you will remember how to use all Python functions and the parameters required for each one.  From an earlier notebook, we relied on either the **`help`** function or pressing **shift + tab + tab**."
   ]
  },
  {
   "cell_type": "code",
   "execution_count": null,
   "metadata": {},
   "outputs": [],
   "source": [
    "# get help using the help function\n",
    "help(max)"
   ]
  },
  {
   "cell_type": "markdown",
   "metadata": {},
   "source": [
    "### Shift + tab + tab for help\n",
    "Personally, my favorite way of getting help is to write the name of the function and then press tab twice while holding down the shift key. This pops up the docstring in the cell."
   ]
  },
  {
   "cell_type": "code",
   "execution_count": null,
   "metadata": {},
   "outputs": [],
   "source": [
    "# Place the cursor at the end of the function then press shift + tab + tab\n",
    "max"
   ]
  },
  {
   "cell_type": "markdown",
   "metadata": {},
   "source": [
    "### What does the help function say about the max function?\n",
    "Docstrings can be confusing for the novice and the description for `max` certainly seems pretty cryptic when first looking at it. The first two lines of the docstring show you the two ways you can invoke the `max` function. You can either pass it an iterable or any number of objects separated by commas.\n",
    "\n",
    "Let's see the `max` function used in different ways described by the documentation."
   ]
  },
  {
   "cell_type": "code",
   "execution_count": null,
   "metadata": {},
   "outputs": [],
   "source": [
    "# pass max an iterable - here a list of numbers\n",
    "max([1, 2, 5, -9])"
   ]
  },
  {
   "cell_type": "code",
   "execution_count": null,
   "metadata": {},
   "outputs": [],
   "source": [
    "# pass max a different iterable - a string\n",
    "max('lkjhweruih')"
   ]
  },
  {
   "cell_type": "code",
   "execution_count": null,
   "metadata": {},
   "outputs": [],
   "source": [
    "# pass max many comma separated values\n",
    "max(5, 8, 9)"
   ]
  },
  {
   "cell_type": "code",
   "execution_count": null,
   "metadata": {},
   "outputs": [],
   "source": [
    "# pass max more comma separated values\n",
    "max('a', 'd', 'p')"
   ]
  },
  {
   "cell_type": "code",
   "execution_count": null,
   "metadata": {},
   "outputs": [],
   "source": [
    "# advanced usage\n",
    "# pass max an empty iterable - here an empty list.\n",
    "# The docstring tells us that it will return the value in the 'default' argument when the iterable is empty\n",
    "# more on the keyword argument 'default' soon\n",
    "max([], default=10)"
   ]
  },
  {
   "cell_type": "markdown",
   "metadata": {},
   "source": [
    "### Problem 1\n",
    "\n",
    "<span style=\"color:green\">Create three different variables with three different data types then use the `type` function to verify that the types are indeed different</span>"
   ]
  },
  {
   "cell_type": "code",
   "execution_count": null,
   "metadata": {},
   "outputs": [],
   "source": [
    "# your code here"
   ]
  },
  {
   "cell_type": "markdown",
   "metadata": {},
   "source": [
    "### Problem 2\n",
    "\n",
    "<span style=\"color:green\">The `eval` builtin function, takes a string as an argument and executes that string if it were Python code. Create a variable that stores a string that looks like Python code. Then use the `eval` function to execute this code string.</span>"
   ]
  },
  {
   "cell_type": "code",
   "execution_count": null,
   "metadata": {},
   "outputs": [],
   "source": [
    "# your code here\n",
    "code_string = 'delete this and enter python code'"
   ]
  },
  {
   "cell_type": "markdown",
   "metadata": {},
   "source": [
    "### Problem 3\n",
    "\n",
    "<span style=\"color:green\">Use the help or [read the official documentation](https://docs.python.org/3/library/functions.html) about how to use the `all` and `any` functions and use them correctly below.</span>"
   ]
  },
  {
   "cell_type": "code",
   "execution_count": null,
   "metadata": {},
   "outputs": [],
   "source": [
    "# your code here"
   ]
  },
  {
   "cell_type": "markdown",
   "metadata": {},
   "source": [
    "# User defined functions\n",
    "Thus far we have only used functions built into the language. You can define your own functions as well. Functions are defined using the **`def`** keyword followed by the function name and a set of parentheses. If the function takes any parameters, their names are written separated by commas within the parentheses.\n",
    "\n",
    "The first line of a function definition always ends with a colon. The body of the function is indented. The function ends when the indentation returns to where it was before the function was defined.\n",
    "\n",
    "### Function with no parameters\n",
    "Let's begin by writing a simple user-defined function with no parameters. The **`hello`** function has a single line of code in its body. It prints a short message."
   ]
  },
  {
   "cell_type": "code",
   "execution_count": null,
   "metadata": {},
   "outputs": [],
   "source": [
    "# define function\n",
    "\n",
    "def hello():\n",
    "    print('Hello, this is a function')"
   ]
  },
  {
   "cell_type": "code",
   "execution_count": null,
   "metadata": {},
   "outputs": [],
   "source": [
    "# execute function\n",
    "hello()"
   ]
  },
  {
   "cell_type": "markdown",
   "metadata": {},
   "source": [
    "### Function that returns a value\n",
    "All functions in Python return a value. To explicitly return a value, the **`return`** statement is used. Notice how the **`hello`** function does not have a **`return`** statement. If no return statement is present, Python will return the object **`None`**.\n",
    "\n",
    "Let's assign the returned value of the **`hello`** function to a variable and verify that is indeed **`None`**."
   ]
  },
  {
   "cell_type": "code",
   "execution_count": null,
   "metadata": {},
   "outputs": [],
   "source": [
    "# capture returned value\n",
    "x = hello()"
   ]
  },
  {
   "cell_type": "code",
   "execution_count": null,
   "metadata": {},
   "outputs": [],
   "source": [
    "# verify it is None\n",
    "x is None"
   ]
  },
  {
   "cell_type": "markdown",
   "metadata": {},
   "source": [
    "### Defining a function that returns a value\n",
    "\n",
    "Below, we create a function that returns the square root of 5 using [Newton's method][1].\n",
    "\n",
    "[1]: https://en.wikipedia.org/wiki/Newton%27s_method#Square_root_of_a_number"
   ]
  },
  {
   "cell_type": "code",
   "execution_count": null,
   "metadata": {},
   "outputs": [],
   "source": [
    "def sqrt_5():\n",
    "    guess = 2\n",
    "    diff = 5 - guess ** 2\n",
    "    while abs(diff) > .0001:\n",
    "        guess = guess - (guess ** 2 - 5) / (2 * guess)\n",
    "        diff = 5 - guess ** 2\n",
    "    return guess"
   ]
  },
  {
   "cell_type": "markdown",
   "metadata": {},
   "source": [
    "### Defining a function with a parameter\n",
    "User defined functions may have any number of parameters. The following function has a single parameter **`name`**."
   ]
  },
  {
   "cell_type": "code",
   "execution_count": null,
   "metadata": {},
   "outputs": [],
   "source": [
    "def hello2(name):\n",
    "    print(f'Hello {name}, this is a function')"
   ]
  },
  {
   "cell_type": "markdown",
   "metadata": {},
   "source": [
    "### Calling a function with a parameter\n",
    "There are two separate but equal ways for calling functions with parameters. You can supply the parameter name or just the value itself. Let's take a look at both ways:"
   ]
  },
  {
   "cell_type": "code",
   "execution_count": null,
   "metadata": {},
   "outputs": [],
   "source": [
    "# Using the parameter name\n",
    "hello2(name='Penelope')"
   ]
  },
  {
   "cell_type": "code",
   "execution_count": null,
   "metadata": {},
   "outputs": [],
   "source": [
    "# Use just the value itself\n",
    "hello2('Niko')"
   ]
  },
  {
   "cell_type": "markdown",
   "metadata": {},
   "source": [
    "### Defining a function with multiple parameters\n",
    "A function may be defined with any number of parameters. The following function is an implementation of Newton's method for finding square roots. It's defined with three parameters - **`num`**, the number you want to take the square root of, **`guess`**, your initial estimate of the square root, and **`error`**, the maximum allowable error you are willing to accept before returning the estimate."
   ]
  },
  {
   "cell_type": "code",
   "execution_count": null,
   "metadata": {},
   "outputs": [],
   "source": [
    "def sqrt_newton(num, guess, error):\n",
    "    diff = num - guess ** 2\n",
    "    while abs(diff) > error:\n",
    "        guess = guess - (guess ** 2 - num) / (2 * guess)\n",
    "        diff = num - guess ** 2\n",
    "    return guess"
   ]
  },
  {
   "cell_type": "markdown",
   "metadata": {},
   "source": [
    "### Calling a function with multiple parameters\n",
    "\n",
    "As before, let's call this function by both with and without the parameters."
   ]
  },
  {
   "cell_type": "code",
   "execution_count": null,
   "metadata": {},
   "outputs": [],
   "source": [
    "# estimate the square root of 100 with initial guess of 8.\n",
    "sqrt_newton(num=100, guess=8, error=.01)"
   ]
  },
  {
   "cell_type": "code",
   "execution_count": null,
   "metadata": {},
   "outputs": [],
   "source": [
    "# without parameter names\n",
    "sqrt_newton(100, 8, .01)"
   ]
  },
  {
   "cell_type": "markdown",
   "metadata": {},
   "source": [
    "## Positional and Keyword arguments\n",
    "\n",
    "Although we weren't using the terminology, the last few examples were showing the difference between **positional** and **keyword** arguments.\n",
    "\n",
    "#### What's the difference between parameter and argument\n",
    "Let's clear up this confusion as both these words have been used many times without formally defining them. They are very closely related.\n",
    "\n",
    "* Parameters are the variable names in the function definition. For the function **`sqrt_newton`**, the parameters are **`num`**, **`guess`**, and **`error`**.\n",
    "* Arguments that the actual values that get passed to the function that the parameters refer to. In the last call to **`sqrt_newton`**, 100, 8, and .01 were the arguments.\n",
    "\n",
    "You define a function with parameters. You execute a function by passing it arguments.\n",
    "\n",
    "#### Back to positional and keyword arguments\n",
    "\n",
    "Positional arguments always come first and are not named explicitly in the function call. They are passed as the literal value or as a variable name and are in the exact order that the function definition requires. Keyword arguments are explicitly named followed by the equal sign and their value.\n",
    "\n",
    "Let's see an example of a function call using both positional and keyword arguments:"
   ]
  },
  {
   "cell_type": "code",
   "execution_count": null,
   "metadata": {},
   "outputs": [],
   "source": [
    "# num gets assigned the value 100\n",
    "sqrt_newton(100, 8, error=.1)"
   ]
  },
  {
   "cell_type": "markdown",
   "metadata": {},
   "source": [
    "### Order of arguments\n",
    "Keyword arguments must follow positional arguments or an error will be raised. The following call to the **`sqrt_newton`** function passes the literal value 8 as a positional argument after the **`error`** keyword argument. This isn't allowed and a syntax error is produced."
   ]
  },
  {
   "cell_type": "code",
   "execution_count": null,
   "metadata": {},
   "outputs": [],
   "source": [
    "sqrt_newton(100, error=.1, 8)"
   ]
  },
  {
   "cell_type": "markdown",
   "metadata": {},
   "source": [
    "### Keyword argument order does not matter\n",
    "The order of keyword arguments does not matter and does not have to follow the order of the parameters in the **function signature**. The function signature is the top line of the function definition."
   ]
  },
  {
   "cell_type": "code",
   "execution_count": null,
   "metadata": {},
   "outputs": [],
   "source": [
    "sqrt_newton(error=.01, num=100, guess=8)"
   ]
  },
  {
   "cell_type": "markdown",
   "metadata": {},
   "source": [
    "### Default values for parameters\n",
    "It is possible to assign default values to function parameters during the definition. This allows for the function to be called without explicitly assigning that parameter a value.\n",
    "\n",
    "We redefine our square root function to have a default maximum error of .1."
   ]
  },
  {
   "cell_type": "code",
   "execution_count": null,
   "metadata": {},
   "outputs": [],
   "source": [
    "def sqrt_newton2(num, guess, error=.01):\n",
    "    diff = num - guess ** 2\n",
    "    while abs(diff) > error:\n",
    "        guess = guess - (guess ** 2 - num) / (2 * guess)\n",
    "        diff = num - guess ** 2\n",
    "    return guess"
   ]
  },
  {
   "cell_type": "code",
   "execution_count": null,
   "metadata": {},
   "outputs": [],
   "source": [
    "# We no longer have to specify the error\n",
    "sqrt_newton2(100, 8)"
   ]
  },
  {
   "cell_type": "code",
   "execution_count": null,
   "metadata": {},
   "outputs": [],
   "source": [
    "# You can still specify the error\n",
    "sqrt_newton2(100, 8, .00001)"
   ]
  },
  {
   "cell_type": "markdown",
   "metadata": {},
   "source": [
    "# Documenting Functions with Docstrings\n",
    "Writing documentation is very helpful and strongly recommended. Docstrings are a standard way to document functions in Python. As the name implies, docstrings are literal strings that provide information on the function. Typically, they are several lines in length and therefore are placed in triple quotes.\n",
    "\n",
    "Let's document our square root function."
   ]
  },
  {
   "cell_type": "code",
   "execution_count": null,
   "metadata": {},
   "outputs": [],
   "source": [
    "def sqrt_newton(num, guess, error):\n",
    "    '''\n",
    "    Returns the square root of a number using Newtons method\n",
    "    \n",
    "    Parameters\n",
    "    ----------\n",
    "    num : int or float\n",
    "        a positive integer that you would like to take the square root of\n",
    "    guess : int or float\n",
    "        a rough estimate of what the square root is\n",
    "    error : int or float\n",
    "        the maximum error you are willing to accept before returning a number\n",
    "    \n",
    "    Notes\n",
    "    -----\n",
    "    \n",
    "    Returns\n",
    "    -------\n",
    "    The approximate square root of `num` as a float\n",
    "    \n",
    "    Examples\n",
    "    --------\n",
    "    \n",
    "    >>> sqrt_newton2(100, 8, .00001)\n",
    "    10.000000464611473\n",
    "    \n",
    "    '''\n",
    "    diff = num - guess ** 2\n",
    "    while abs(diff) > error:\n",
    "        guess = guess - (guess ** 2 - num) / (2 * guess)\n",
    "        diff = num - guess ** 2\n",
    "    return guess"
   ]
  },
  {
   "cell_type": "markdown",
   "metadata": {},
   "source": [
    "### NumPy docstrings\n",
    "You are allowed to write docstrings however you wish, but a popular format comes from the NumPy library. NumPy docstrings begin with an overall description of the function followed by a number of sections. All section titles are underlined with dashes on the line below it. The **Parameters** and **Returns** sections are the most important and should be created for each function. Please read a detailed description of the [NumPy docstring standard](https://numpydoc.readthedocs.io/en/latest/format.html#docstring-standard) for more.\n",
    "\n",
    "### Getting help on your own function\n",
    "You can get help on your own function in the exact same manner that you get help with any other function. Pass it to the **`help`** function or press **shift + tab + tab**."
   ]
  },
  {
   "cell_type": "code",
   "execution_count": null,
   "metadata": {},
   "outputs": [],
   "source": [
    "help(sqrt_newton)"
   ]
  },
  {
   "cell_type": "code",
   "execution_count": null,
   "metadata": {},
   "outputs": [],
   "source": [
    "# press shift + tab + tab here to pop-up the docstrings\n",
    "sqrt_newton"
   ]
  },
  {
   "cell_type": "markdown",
   "metadata": {},
   "source": [
    "### Problem 4\n",
    "\n",
    "<span style=\"color:green\">Define a function that finds the area of a circle. The function takes a single parameter, the radius, and defaults its value to 0 if it's not given. Add docstrings to the function.</span>"
   ]
  },
  {
   "cell_type": "code",
   "execution_count": null,
   "metadata": {},
   "outputs": [],
   "source": [
    "import math\n",
    "# your code here"
   ]
  },
  {
   "cell_type": "markdown",
   "metadata": {},
   "source": [
    "### Problem 5\n",
    "\n",
    "<span style=\"color:green\">Create a function that takes a string argument and returns True or False whether the string is a palindrome (spelled the same foward and backwards). Test your function on the word 'racecar'</span>"
   ]
  },
  {
   "cell_type": "code",
   "execution_count": null,
   "metadata": {},
   "outputs": [],
   "source": [
    "# your code here"
   ]
  },
  {
   "cell_type": "markdown",
   "metadata": {},
   "source": [
    "### Problem 6\n",
    "\n",
    "<span style=\"color:green\">Create a function `concat_sort_list` that takes two lists and concatenates them together, sorts the list and then returns the sorted list.</span>"
   ]
  },
  {
   "cell_type": "code",
   "execution_count": null,
   "metadata": {},
   "outputs": [],
   "source": [
    "# your code here"
   ]
  },
  {
   "cell_type": "code",
   "execution_count": null,
   "metadata": {},
   "outputs": [],
   "source": [
    "# test code with\n",
    "concat_sort_list([4, 5, 2], [9, 0, -8]) == [-8, 0, 2, 4, 5, 9]"
   ]
  },
  {
   "cell_type": "markdown",
   "metadata": {},
   "source": [
    "# Anonymous functions\n",
    "Python has the ability to create functions in one line that are not referred to by a name. All our previous functions have names given to them directly after the **`def`** keyword. **Anonymous** functions have no reference name.\n",
    "\n",
    "They are declared using the keyword **`lambda`** and not **`def`**. All anonymous functions are exactly one line each. They are useful only in situations where one line of code can be executed.\n",
    "\n",
    "Anonymous function syntax begins with the **`lambda`** keyword followed by a comma separated list of parameter names, then a colon followed by its single line of executable Python code. Their generic format is:\n",
    "\n",
    "```\n",
    ">>> lambda arg1, arg2, arg2: one line of Python code\n",
    "```\n",
    "\n",
    "To help understand anonymous functions, let's create two versions of a function that adds two numbers together. One normal function and the other anonymous.\n",
    "\n",
    "### Add two numbers - normal function"
   ]
  },
  {
   "cell_type": "code",
   "execution_count": null,
   "metadata": {},
   "outputs": [],
   "source": [
    "def add_two(x, y): \n",
    "    return x + y"
   ]
  },
  {
   "cell_type": "markdown",
   "metadata": {},
   "source": [
    "### Add two numbers - anonymous function"
   ]
  },
  {
   "cell_type": "code",
   "execution_count": null,
   "metadata": {},
   "outputs": [],
   "source": [
    "lambda x, y: x + y"
   ]
  },
  {
   "cell_type": "markdown",
   "metadata": {},
   "source": [
    "### Major differences - no name and no return statement\n",
    "Let's discuss the similarities and differences between normal and anonymous functions. They both are begun by a keyword - **`def`** or **`lambda`**. Anonymous functions are missing a name - notice the normal function has **`add_two`** following the **`def`** keyword. The parameters are the same for both except that they are not wrapped in parentheses with anonymous functions. Anonymous functions will return the value of the expression without the need for the keyword **`return`**.\n",
    "\n",
    "### Anonymous functions are not assigned to a variable name\n",
    "The anonymous function defined in the above code cell is not assigned to any variable name and thus not accessible after the cell is ran. However, you can give it a name by assigning it in a normal fashion like this:"
   ]
  },
  {
   "cell_type": "code",
   "execution_count": null,
   "metadata": {},
   "outputs": [],
   "source": [
    "add_two2 = lambda x, y: x + y"
   ]
  },
  {
   "cell_type": "markdown",
   "metadata": {},
   "source": [
    "### `add_two_2` is not anonymous\n",
    "The name `add_two_2` is now a reference to a function that adds two numbers together. There is no anonymity anymore. The anonymous function syntax was used to create a normal function and there is no difference between creating a one-line function like this vs using the **`def`** keyword.\n",
    "\n",
    "Let's call both functions to show that they produce the same result."
   ]
  },
  {
   "cell_type": "code",
   "execution_count": null,
   "metadata": {},
   "outputs": [],
   "source": [
    "# these functions work the exact same as normal functions\n",
    "add_two(5, 8,)"
   ]
  },
  {
   "cell_type": "code",
   "execution_count": null,
   "metadata": {},
   "outputs": [],
   "source": [
    "add_two2(5, 8)"
   ]
  },
  {
   "cell_type": "markdown",
   "metadata": {},
   "source": [
    "### Problem 7\n",
    "\n",
    "<span style=\"color:green\">Create an anonymous function that calculates the area of a circle. Store it to a variable and check that it works.</span>"
   ]
  },
  {
   "cell_type": "code",
   "execution_count": null,
   "metadata": {},
   "outputs": [],
   "source": [
    "# your code here"
   ]
  },
  {
   "cell_type": "markdown",
   "metadata": {},
   "source": [
    "### What's the use of anonymous functions?\n",
    "At first glance, it appears that lambda functions would have no use as at most they only shorten the amount of code written for a one-line function. They actually aren't all that useful and the creator of Python had wanted to remove them at one point. However, they can come in handy when you want to create a quick function that does one small task without defining an entire function. \n",
    "\n",
    "Below will be many examples when their moderate usefulness shines through.\n",
    "\n",
    "### The sorted function\n",
    "Before we use an anonymous functions, let's cover the builtin `sorted` function. It gets passed an iterable (a list, string, range, etc...) and returns the sorted version of that iterable in a list.\n",
    "\n",
    "Let's sort a list of strings:"
   ]
  },
  {
   "cell_type": "code",
   "execution_count": null,
   "metadata": {},
   "outputs": [],
   "source": [
    "string_list = ['banana', 'strawberry', 'orange', 'apple']\n",
    "sorted(string_list)"
   ]
  },
  {
   "cell_type": "markdown",
   "metadata": {},
   "source": [
    "### Non-natural order\n",
    "Most Python objects have built-in rules for ordering. Strings have a natural lexicographic ordering. But what if you wanted to sort by the second letter of the string above? You can do this by using the **`key`** parameter from the sorted function. The **`key`** parameter takes a function and applies itself to each of the items in the list first and then sorts the values returned from that function.\n",
    "\n",
    "Let's first create a normal function that returns the second letter from a string that is passed to it."
   ]
  },
  {
   "cell_type": "code",
   "execution_count": null,
   "metadata": {},
   "outputs": [],
   "source": [
    "# make second letter function\n",
    "def sec_letter(string):\n",
    "    return string[1]\n",
    "\n",
    "#example\n",
    "sec_letter('test')"
   ]
  },
  {
   "cell_type": "markdown",
   "metadata": {},
   "source": [
    "### Passing a function to the `key` parameter\n",
    "We can now pass the **`sec_letter`** function to the **`key`** argument in the **`sorted`** function. This will return a list sorted by the second letter and not the first."
   ]
  },
  {
   "cell_type": "code",
   "execution_count": null,
   "metadata": {},
   "outputs": [],
   "source": [
    "# example of sorting a list\n",
    "string_list = ['banana', 'strawberry', 'orange', 'apple']\n",
    "sorted(string_list, key=sec_letter)"
   ]
  },
  {
   "cell_type": "markdown",
   "metadata": {},
   "source": [
    "### A use case for anonymous functions\n",
    "Instead of declaring the function **`sec_letter`** it is possible to use an anonymous function and pass it to the **`key`** parameter of the **`sorted`** function."
   ]
  },
  {
   "cell_type": "code",
   "execution_count": null,
   "metadata": {},
   "outputs": [],
   "source": [
    "# use an anonymous function instead of sec_letter\n",
    "string_list = ['banana', 'strawberry', 'orange', 'apple']\n",
    "sorted(string_list, key = lambda word: word[1])"
   ]
  },
  {
   "cell_type": "markdown",
   "metadata": {},
   "source": [
    "### Problem 8\n",
    "\n",
    "<span style=\"color:green\">Use the sorted function to sort a list of strings using the last letter. Use an anonymous function passed to the key argument.</span>"
   ]
  },
  {
   "cell_type": "code",
   "execution_count": null,
   "metadata": {},
   "outputs": [],
   "source": [
    "# your code here"
   ]
  },
  {
   "cell_type": "markdown",
   "metadata": {},
   "source": [
    "### Problem 9\n",
    "\n",
    "<span style=\"color:green\">Create a list of integers and sort them by their last digit. Use an anonymous function passed to the key argument.</span>"
   ]
  },
  {
   "cell_type": "code",
   "execution_count": null,
   "metadata": {},
   "outputs": [],
   "source": [
    "# your code here"
   ]
  },
  {
   "cell_type": "markdown",
   "metadata": {},
   "source": [
    "### When to use lambda/def\n",
    "Many programmers do not like lambda functions as it can hide complexity if there is too much in one line. Generally lambda functions should be extremely simple functions that are easily read in the one line of code. If they become too complex, it's best to write a normal function with multiple lines. See an overly complex example below."
   ]
  },
  {
   "cell_type": "code",
   "execution_count": null,
   "metadata": {},
   "outputs": [],
   "source": [
    "# Here is a bit more complex anonymous function that takes the difference\n",
    "# between the min and max ordinal value of each word as the key\n",
    "sorted(string_list, key=lambda word: max([ord(letter) for letter in word]) - min([ord(letter) for letter in word]) )"
   ]
  },
  {
   "cell_type": "markdown",
   "metadata": {},
   "source": [
    "### Advanced Problem 10\n",
    "\n",
    "<span style=\"color:green\">Use the sorted function (with the **`key`** parameter) to sort a list of strings by the third highest alphabetical letter. Use a lambda expression to find this third highest letter. Take the word **python** for example. If you sort it by letter it becomes **hnopty**. The third highest letter is therefore 'o'.</span>"
   ]
  },
  {
   "cell_type": "code",
   "execution_count": null,
   "metadata": {},
   "outputs": [],
   "source": [
    "# make a string list with each string having three or more characters\n",
    "string_list = 'some string list with many different words'.split()\n",
    "# your code here"
   ]
  },
  {
   "cell_type": "markdown",
   "metadata": {},
   "source": [
    "### Introduction to Map and Filter Functions: actually the same as List Comprehensions\n",
    "The are two built-in functions, **`map`** and **`filter`** that are now seldom used because list comprehensions accomplish both tasks in a more efficient and readable manner.\n",
    "\n",
    "The **`map`** function applies a single function to all elements of an iterable object. It technically returns an iterator-like object which does not display its contents immediately. One way to see the results is to wrap the returned value of the **`map`** function with the **`list`** function.\n",
    "\n",
    "The **`map`** function takes two arguments, the first is the function and the second the iterable. The function is applied to each element in the iterable. You will usually see lambda expressions used for the function passed to **`map`**.\n",
    "\n",
    "Below, we create a list of integers and then double them with **`map`** applying an anonymous function."
   ]
  },
  {
   "cell_type": "code",
   "execution_count": null,
   "metadata": {},
   "outputs": [],
   "source": [
    "my_list = [5, 8, -9, 0, 3]\n",
    "list(map(lambda x: x * 2, my_list))"
   ]
  },
  {
   "cell_type": "markdown",
   "metadata": {},
   "source": [
    "### This is the exact same as a list comprehension\n",
    "The `map` function is doing the same thing that list comprehensions do:"
   ]
  },
  {
   "cell_type": "code",
   "execution_count": null,
   "metadata": {},
   "outputs": [],
   "source": [
    "my_list = [5, 8, -9, 0, 3]\n",
    "[x * 2 for x in my_list]"
   ]
  },
  {
   "cell_type": "markdown",
   "metadata": {},
   "source": [
    "### Problem 11\n",
    "\n",
    "<span style=\"color:green\">Use the map function to square each number in a list. Use an anonymous function to square each value. Do the same with a list comprehension</span>"
   ]
  },
  {
   "cell_type": "code",
   "execution_count": null,
   "metadata": {},
   "outputs": [],
   "source": [
    "# your code here"
   ]
  },
  {
   "cell_type": "markdown",
   "metadata": {},
   "source": [
    "### Problem 12\n",
    "\n",
    "<span style=\"color:green\">Read the documentation on the **`filter`** built-in function. Use an anonymous function to filter out the even values from a `range` object of values 0 to 9</span>"
   ]
  },
  {
   "cell_type": "code",
   "execution_count": null,
   "metadata": {},
   "outputs": [],
   "source": [
    "# your code here"
   ]
  },
  {
   "cell_type": "markdown",
   "metadata": {},
   "source": [
    "### Problem 13\n",
    "\n",
    "<span style=\"color:green\">Read the documentation on the **`reduce`** function which is part of the functools standard library. Use an anonymous function to sum up all the values from 0 to 9</span>"
   ]
  },
  {
   "cell_type": "code",
   "execution_count": null,
   "metadata": {},
   "outputs": [],
   "source": [
    "from functools import reduce\n",
    "# your code here"
   ]
  },
  {
   "cell_type": "markdown",
   "metadata": {},
   "source": [
    "### Problem 14 Advanced\n",
    "\n",
    "<span style=\"color:green\">Use **`map, reduce, and filter`** to take the numbers 0 to 9, square them, filter out the even numbers and multiply the remaining together. This can be done in one line</span>"
   ]
  },
  {
   "cell_type": "code",
   "execution_count": null,
   "metadata": {},
   "outputs": [],
   "source": [
    "# your code here"
   ]
  },
  {
   "cell_type": "markdown",
   "metadata": {},
   "source": [
    "### Problem 15\n",
    "\n",
    "<span style=\"color:green\">Write a normal function that replicates the one defined in problem 14. Do not use the functions `map`, `reduce`, or `filter`.</span>"
   ]
  },
  {
   "cell_type": "code",
   "execution_count": null,
   "metadata": {},
   "outputs": [],
   "source": [
    "# your code here"
   ]
  },
  {
   "cell_type": "markdown",
   "metadata": {},
   "source": [
    "### Problem 16 Advanced\n",
    "\n",
    "<span style=\"color:green\">Use list comprehensions and the **`sum`** function to take the numbers 0 to 9, square the even numbers, and sum them all up</span>"
   ]
  },
  {
   "cell_type": "code",
   "execution_count": null,
   "metadata": {},
   "outputs": [],
   "source": [
    "# your code here"
   ]
  },
  {
   "cell_type": "markdown",
   "metadata": {},
   "source": [
    "### Problem 17: Advanced\n",
    "<span style=\"color:green\">In this problem you will write a function to transpose a two dimensional matrix. Transposing a matrix means to make the rows become the columns and vice versa. Our matrix will be a list of lists of integers. A simple 2 x 3 matrix is created below. Use it to test your code.</span>"
   ]
  },
  {
   "cell_type": "code",
   "execution_count": null,
   "metadata": {},
   "outputs": [],
   "source": [
    "matrix = [[1,2,3], [4,5,6]]\n",
    "for row in matrix:\n",
    "    print(row)"
   ]
  },
  {
   "cell_type": "code",
   "execution_count": null,
   "metadata": {},
   "outputs": [],
   "source": [
    "# your code here"
   ]
  },
  {
   "cell_type": "markdown",
   "metadata": {},
   "source": [
    "### Problem 18: Advanced\n",
    "Create a tic-tac-toe function that takes four parameters  \n",
    "\n",
    "1. **board**: a list of lists representing the game board  \n",
    "1. **mark**: 'x' or 'o'  \n",
    "1. **row**: Row that the mark will be played\n",
    "1. **col**: Column that the mark will be played\n",
    "\n",
    "Return the updated board or the winner (or a tie).  \n",
    "**`tic_tac_toe(board, 'x', 2, 0)`** should place an 'x' on the last row in the first column."
   ]
  },
  {
   "cell_type": "code",
   "execution_count": null,
   "metadata": {},
   "outputs": [],
   "source": [
    "# your code here"
   ]
  },
  {
   "cell_type": "markdown",
   "metadata": {},
   "source": [
    "# General Rules of Thumb for Functions\n",
    "Generally speaking, most professional Python code is written inside of a function or a method. Functions should do one task and do it well. If you find yourself writing a function that is doing more than one task it's probably best to break it up into multiple functions. \n",
    "\n",
    "Although you can write functions with any number of lines, functions greater than about 20 lines of code can signal that they need to be broken up into multiple different functions. [Heres a good Stack Exchange answer](http://softwareengineering.stackexchange.com/questions/133404/what-is-the-ideal-length-of-a-method-for-you/133406#133406) on writing functions.\n",
    "\n",
    "### Returning more than one value\n",
    "Python allows for more than a single value to be returned from a function. Comma separated values during the return statement will allow for any number of objects to be returned. This technically returns a tuple which will be discussed in the next notebook.\n",
    "\n",
    "Let's define a function that returns both the sum and the product of two numbers."
   ]
  },
  {
   "cell_type": "code",
   "execution_count": null,
   "metadata": {},
   "outputs": [],
   "source": [
    "# return both the sum and product of two numbers\n",
    "def sum_prod(a, b):\n",
    "    return a + b, a * b\n",
    "\n",
    "sum_prod(3, 7)"
   ]
  },
  {
   "cell_type": "markdown",
   "metadata": {},
   "source": [
    "### Problem 19\n",
    "<span style=\"color:green\">Write a function that returns the roll of two dice. Use the `random.randint` function to generate the rolls.</span>"
   ]
  },
  {
   "cell_type": "code",
   "execution_count": null,
   "metadata": {},
   "outputs": [],
   "source": [
    "import random\n",
    "# your code here"
   ]
  },
  {
   "cell_type": "markdown",
   "metadata": {},
   "source": [
    "### Problem 20\n",
    "<span style=\"color:green\">You will write a function that plays a simple dice game. The game works as follows: You roll two dice and record the sum. You keep rolling the two dice until you re-roll your original total. Return the number of rolls it took to re-roll the original total. Do not simulate the original roll. Instead use an argument to pass the function a number between 2 and 12. Use the function you created in problem 19 to roll the dice. </span>"
   ]
  },
  {
   "cell_type": "code",
   "execution_count": null,
   "metadata": {},
   "outputs": [],
   "source": [
    "def simple_dice_game(original_roll):\n",
    "    # your code here"
   ]
  },
  {
   "cell_type": "markdown",
   "metadata": {},
   "source": [
    "### Problem 21: Advanced\n",
    "<span style=\"color:green\">This is a classic interview problem. Write a function that finds the degree difference between the minute and second on a clock. The function will accept two arguments, hour (between 1 and 12) and minute (between 0 and 59). Note: this should the absolute difference, so 180 degrees would be the absolute max possible value. Test your function with some times and make sure it makes sense. </span>"
   ]
  },
  {
   "cell_type": "code",
   "execution_count": null,
   "metadata": {},
   "outputs": [],
   "source": [
    "def degree_diff(hour, minute):\n",
    "    # your code here"
   ]
  },
  {
   "cell_type": "markdown",
   "metadata": {},
   "source": [
    "### More to functions\n",
    "There is quite a bit more technical discussion with functions but these basics will go a long way.\n",
    "\n",
    "# Congrats on finishing notebook 6!\n",
    "Move on to notebook 7! The pre-course is mandatory so make sure you finish it all!"
   ]
  }
 ],
 "metadata": {
  "anaconda-cloud": {},
  "kernelspec": {
   "display_name": "Python 3",
   "language": "python",
   "name": "python3"
  },
  "language_info": {
   "codemirror_mode": {
    "name": "ipython",
    "version": 3
   },
   "file_extension": ".py",
   "mimetype": "text/x-python",
   "name": "python",
   "nbconvert_exporter": "python",
   "pygments_lexer": "ipython3",
   "version": "3.6.4"
  }
 },
 "nbformat": 4,
 "nbformat_minor": 1
}
