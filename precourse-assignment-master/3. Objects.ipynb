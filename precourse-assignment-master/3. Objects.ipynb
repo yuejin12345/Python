{
 "cells": [
  {
   "cell_type": "markdown",
   "metadata": {},
   "source": [
    "# Objects\n",
    "\n",
    "This will be a short notebook to cover some very important terminology regarding objects in Python.\n",
    "\n",
    "# Everything is an Object in Python\n",
    "\n",
    "One of the most popular sayings in Python is that **everything is an object**. While not quite literally true, any value that can be assigned to a variable is an object. All integers, floats, booleans, strings, lists, sets, dictionaries, etc... are **objects**.\n",
    "\n",
    "## More formal definition of an object\n",
    "\n",
    "The Python documentation defines all objects as having a:\n",
    "* type\n",
    "* identity\n",
    "* value\n",
    "\n",
    "Let's create a new string to further understand an object's type, identity, and value. "
   ]
  },
  {
   "cell_type": "code",
   "execution_count": null,
   "metadata": {},
   "outputs": [],
   "source": [
    "s = \"world's best data scientist\""
   ]
  },
  {
   "cell_type": "markdown",
   "metadata": {},
   "source": [
    "## The type of an object\n",
    "As we discussed in the previously, the type of an object is an extremely important piece of information and let's us know what is possible with it. Let's use the **`type`** function to definitively tell us what type of object we have."
   ]
  },
  {
   "cell_type": "code",
   "execution_count": null,
   "metadata": {},
   "outputs": [],
   "source": [
    "type(s)"
   ]
  },
  {
   "cell_type": "markdown",
   "metadata": {},
   "source": [
    "### Use type on a string itself and not a variable\n",
    "The variable **`s`** simply stores a reference to the underlying object. We can use the type function on a string itself without assigning it to a variable."
   ]
  },
  {
   "cell_type": "code",
   "execution_count": null,
   "metadata": {},
   "outputs": [],
   "source": [
    "type(\"world's second best data scientist\")"
   ]
  },
  {
   "cell_type": "markdown",
   "metadata": {},
   "source": [
    "## The identity of an object\n",
    "Python stores an object in a memory address the moment it is created. This address does not change for the lifetime of the object. We can retrieve the memory address with the **`id`** function.\n",
    "\n",
    "You will rarely use the **`id`** function as a Python novice, but it is useful to illustrate some fundamental features of the language. The **`id`** function returns a unique integer as the representation of the object's address. Notice that the address of the two strings below are different."
   ]
  },
  {
   "cell_type": "code",
   "execution_count": null,
   "metadata": {},
   "outputs": [],
   "source": [
    "s = \"world's best data scientist\"\n",
    "id(s)"
   ]
  },
  {
   "cell_type": "code",
   "execution_count": null,
   "metadata": {},
   "outputs": [],
   "source": [
    "s2 = \"world's second best data scientist\"\n",
    "id(s2)"
   ]
  },
  {
   "cell_type": "markdown",
   "metadata": {},
   "source": [
    "## The value of an object\n",
    "The value of our string is its underlying sequence of characters that you see outputted to the screen."
   ]
  },
  {
   "cell_type": "code",
   "execution_count": null,
   "metadata": {},
   "outputs": [],
   "source": [
    "s"
   ]
  },
  {
   "cell_type": "markdown",
   "metadata": {},
   "source": [
    "## Mutable vs Immutable\n",
    "Some types of objects allow their values to change but others do not. For instance, the values of strings cannot be changed after creation. Objects that do not allow their values to change are **immutable**. Integers, floats, booleans, strings, and tuples are examples of other built-in types that are immutable. Objects that do allow their values to change are **mutable**. Lists, sets, and dictionaries are mutable. "
   ]
  },
  {
   "cell_type": "markdown",
   "metadata": {},
   "source": [
    "## Getting the type, id, and value of an integer\n",
    "We looked at strings above as one type of object. Let's now find the type, id, and value of an integer."
   ]
  },
  {
   "cell_type": "code",
   "execution_count": null,
   "metadata": {},
   "outputs": [],
   "source": [
    "a = 5\n",
    "type(a)"
   ]
  },
  {
   "cell_type": "code",
   "execution_count": null,
   "metadata": {},
   "outputs": [],
   "source": [
    "id(a)"
   ]
  },
  {
   "cell_type": "code",
   "execution_count": null,
   "metadata": {},
   "outputs": [],
   "source": [
    "a"
   ]
  },
  {
   "cell_type": "markdown",
   "metadata": {},
   "source": [
    "# Use your objects with attributes and methods\n",
    "The power and usefulness of objects in Python come from their **attributes** and **methods**. All objects in Python have **attributes** and **methods**.\n",
    "\n",
    "Attributes are descriptions of the objects and are sometimes referred to as **properties**. Typically, they are nouns or adjectives. They are a single piece of information about the object.\n",
    "\n",
    "**Methods** are actions that the objects can take and are typically verbs. Methods execute a block of code while attributes typically retrieve one specific value.\n",
    "\n",
    "### A practical example of an object\n",
    "Let's step outside of Python for a moment and think about objects as we do in the real world. A example to help understand attributes and methods would be a person. Examples of attributes about a person would be sex, age, hair color, height, address, and other basic facts about the person. Methods, on the other hand, would be actions a person could take such as eating, drinking, sleeping, jumping, playing, speaking, and any other human ability. \n",
    "\n",
    "I find analogizing physical objects to Python objects to be very helpful. Take a look at the following diagram. The top half shows a generic object. The bottom has three objects of different typse with methods and specific values for the attributes.\n",
    "\n",
    "![][1]\n",
    "\n",
    "[1]: images/object_diag.png"
   ]
  },
  {
   "cell_type": "markdown",
   "metadata": {},
   "source": [
    "# Use Dot Notation to access attributes and methods\n",
    "\n",
    "**Dot notation** is how you make use of your object and how you directly access the attributes and methods. Dot notation simply means placing a dot after your object followed by the attribute or method name.\n",
    "\n",
    "### No parentheses for an attribute\n",
    "Attributes are accessed directly by their name. There is no parentheses that follow them. To use a method, you must execute it by placing a pair of parentheses following its name. Methods can also take parameters that change the functionality.\n",
    "\n",
    "Let's take a look at how attributes and methods are used in practice with a fictional **`mercedes`** object that is a member of a **`Car`** class. **`year`** is an attribute and **`drive_forward`** is a method with a single parameter **`miles`**.\n",
    "\n",
    "```\n",
    ">>> type(mercedes)\n",
    "Car\n",
    "\n",
    ">>> mercedes.year  # attribute that retrieves a specific piece of information\n",
    "2011\n",
    "\n",
    ">>> mercedes.drive_forward(miles=10)  # method that drives the car forward 10 miles\n",
    "```\n",
    "\n",
    "### Are there only methods for strings?\n",
    "In the last notebook on strings, we only called methods with our strings. Strings are an example of an object that only has methods and no attributes. When we start working with Pandas, you will see that the primary object, the DataFrame, has some attributes to go along with many methods.\n",
    "\n",
    "# What isn't an object\n",
    "There are about 30 reserved words that are not objects. Some of these include **`if, return, def, except`**. A [full list][1] is available in the documentation. Take care that **`True`**, **`False`**, and **`None`** are in that list but are objects.\n",
    "\n",
    "Other symbols such as commas, parentheses, braces, and periods are not objects. Operators such as plus, minus, multiplication, and division signs, are also not objects. More formally, Python uses the terminology **`delimiters`** and **`operators`** for these two classes of symbols. A complete list is found in the [documentation][4] and printed below as well.\n",
    "\n",
    "### Delimiters\n",
    "![][2]\n",
    "\n",
    "\n",
    "### Operators\n",
    "\n",
    "![][3]\n",
    "\n",
    "\n",
    "If it can be stored as a variable then it is an object. For instance, let's try and store the keyword **`continue`** to a variable.\n",
    "\n",
    "[1]: https://docs.python.org/3/reference/lexical_analysis.html#keywords\n",
    "[2]: images/delimiters.png\n",
    "[3]: images/operators.png\n",
    "[4]: https://docs.python.org/3/reference/lexical_analysis.html#operators"
   ]
  },
  {
   "cell_type": "code",
   "execution_count": null,
   "metadata": {},
   "outputs": [],
   "source": [
    "a = continue"
   ]
  },
  {
   "cell_type": "markdown",
   "metadata": {},
   "source": [
    "## Functions are objects in Python\n",
    "There are about 70 built-in functions in Python. All of these functions are actually objects themselves. Let's take a look at the **`len`** function."
   ]
  },
  {
   "cell_type": "code",
   "execution_count": null,
   "metadata": {},
   "outputs": [],
   "source": [
    "type(len)"
   ]
  },
  {
   "cell_type": "markdown",
   "metadata": {},
   "source": [
    "# Much more on objects\n",
    "The supplemental material will cover objects and object-oriented programming in much more detail. For now, the most important idea to know is that everything is an object, each object is of a certain type, and all objects have attributes and methods accessible through dot notation."
   ]
  },
  {
   "cell_type": "markdown",
   "metadata": {},
   "source": [
    "## Congrats on finishing notebook 3!\n",
    "Move on to notebook 4! The pre-course is mandatory so make sure you finish it all!"
   ]
  }
 ],
 "metadata": {
  "kernelspec": {
   "display_name": "Python 3",
   "language": "python",
   "name": "python3"
  },
  "language_info": {
   "codemirror_mode": {
    "name": "ipython",
    "version": 3
   },
   "file_extension": ".py",
   "mimetype": "text/x-python",
   "name": "python",
   "nbconvert_exporter": "python",
   "pygments_lexer": "ipython3",
   "version": "3.6.4"
  }
 },
 "nbformat": 4,
 "nbformat_minor": 2
}
