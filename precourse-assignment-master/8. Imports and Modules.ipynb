{
 "cells": [
  {
   "cell_type": "markdown",
   "metadata": {},
   "source": [
    "# 8. Imports and Modules\n",
    "\n",
    "# Objectives\n",
    "By the end of this notebook, you should be able to...\n",
    "\n",
    "* Know the difference between the core built-in features, the standard library, and third party libraries\n",
    "* Know how to import a module\n",
    "* Know what a module is\n",
    "* Access functionality within a module\n",
    "* Create your own module\n",
    "* Know how Python searches for modules\n",
    "* Know how to alias names upon import\n",
    "\n",
    "\n",
    "# Built-In Python Features\n",
    "\n",
    "Whenever you first begin writing Python in a notebook, editor, or on the command line, you are using the **built-in** features of the language. These are the features that are always available to you. They consist of the following (numbers are approximate):\n",
    "\n",
    "* 70 [functions and types][1]\n",
    "* 30 [keywords][2]\n",
    "* 40 [Exceptions][3]\n",
    "* 50 [Operator and delimiter symbols][4]\n",
    "* Whitespace for indentation\n",
    "\n",
    "This list contains everything you can type from your keyboard that can be understood by the Python interpreter. This is what is meant by **built-in**. This core part of Python is what builds our programs.\n",
    "\n",
    "Thus far, with just a few exceptions, we have used features that come from what is built-in directly to the language.\n",
    "\n",
    "# The Standard Library\n",
    "The [Python standard library][5], as it says in its name, is distributed with each Python installation. The standard library is not immediately available for you to use when you begin writing a Python program. You must use the **`import`** statement to access its functionality. \n",
    "\n",
    "# Third-Party Libraries\n",
    "Outside of the standard library are user-created libraries, sometimes referred to as **third-party** libraries. These can be found at the [Python Packaging Index][6] or pypi. There are over 100k libraries but only about 10-15 are common for data scientists. These libraries can be installed with **pip**, Python's command line packaging manager. But, we've already installed the Anaconda distribution which comes with most of the data science libraries pre-installed. It also has its own package manager **conda**.\n",
    "\n",
    "# Importing a module\n",
    "In Python, we use the **`import`** keyword to give us access to new functionality. We specify the module we want to import by typing its name directly after **`import`**.\n",
    "\n",
    "### What is a module?\n",
    "All Python code is stored in files on your machine. Files that contain Python code are called **modules**. It is all the functions, types, and other objects within a module that we are getting access to when we run the import statement.\n",
    "\n",
    "### Importing the random module\n",
    "We have already used the **`random`** module in previous notebooks. Let's import it again and examine it a bit closer.\n",
    "\n",
    "[1]: https://docs.python.org/3/library/functions.html#built-in-functions\n",
    "[2]: https://docs.python.org/3/reference/lexical_analysis.html#keywords\n",
    "[3]: https://docs.python.org/3/library/exceptions.html#exception-hierarchy\n",
    "[4]: https://docs.python.org/3/reference/lexical_analysis.html#operators\n",
    "[5]: https://docs.python.org/3/library/index.html\n",
    "[6]: https://pypi.org/"
   ]
  },
  {
   "cell_type": "code",
   "execution_count": null,
   "metadata": {},
   "outputs": [],
   "source": [
    "import random"
   ]
  },
  {
   "cell_type": "markdown",
   "metadata": {},
   "source": [
    "### What is `random`?\n",
    "We now have a name that refers to the random module. Let's find its type:"
   ]
  },
  {
   "cell_type": "code",
   "execution_count": null,
   "metadata": {},
   "outputs": [],
   "source": [
    "type(random)"
   ]
  },
  {
   "cell_type": "markdown",
   "metadata": {},
   "source": [
    "### The module type?\n",
    "Yes, that is correct. We have a name that refers to an entire module (a file with Python code). We can use this name to reference functions, types, and other objects defined inside of that file."
   ]
  },
  {
   "cell_type": "markdown",
   "metadata": {},
   "source": [
    "### Display all the available names within `random`\n",
    "We can display all the names within random module with the **`dir`** function. Below, a list comprehension is used to create a list of all the names filtering out the private names."
   ]
  },
  {
   "cell_type": "code",
   "execution_count": null,
   "metadata": {},
   "outputs": [],
   "source": [
    "[name for name in dir(random) if not name.startswith('_')]"
   ]
  },
  {
   "cell_type": "markdown",
   "metadata": {},
   "source": [
    "### Using functionality from a module\n",
    "To use one of the names in the list above simply use dot notation with the **`random`** module. Remember to press tab after the dot to make the drop-down menu appear with a list of all the names. Also remember to press shift + tab + tab to pop out a help menu once you've chosen the name to understand how it works.\n",
    "\n",
    "Let's use the **`randint`** function to produce a random integer between 50 and 100."
   ]
  },
  {
   "cell_type": "code",
   "execution_count": null,
   "metadata": {},
   "outputs": [],
   "source": [
    "random.randint(50, 100)"
   ]
  },
  {
   "cell_type": "markdown",
   "metadata": {},
   "source": [
    "### Problem 1\n",
    "\n",
    "<span style=\"color:green\">Read the documentation on the **`sample`** function to choose 5 random integers between 0 and 100.</span>"
   ]
  },
  {
   "cell_type": "code",
   "execution_count": null,
   "metadata": {},
   "outputs": [],
   "source": [
    "# your code here"
   ]
  },
  {
   "cell_type": "markdown",
   "metadata": {},
   "source": [
    "## Importing a single name from a module\n",
    "Instead of importing the module and then using dot notation to access the name, Python has syntax that allows you to import individual names within the module. The general syntax is the following:\n",
    "\n",
    "```\n",
    "from module import name\n",
    "```\n",
    "\n",
    "Let's import **`choice`** from the random module and then use it to select a single item at random from a sequence. Notice that you no longer have to use dot notation but can use the name directly."
   ]
  },
  {
   "cell_type": "code",
   "execution_count": null,
   "metadata": {},
   "outputs": [],
   "source": [
    "from random import choice"
   ]
  },
  {
   "cell_type": "code",
   "execution_count": null,
   "metadata": {},
   "outputs": [],
   "source": [
    "states = ['TX', 'AZ', 'CA', 'FL']\n",
    "choice(states)"
   ]
  },
  {
   "cell_type": "markdown",
   "metadata": {},
   "source": [
    "## Importing multiple names from a module\n",
    "In a similar fashion, you can import multiple names from a module in one statement. Separate each name by a comma during the import statement.\n",
    "\n",
    "Below, we import three different names and use each one."
   ]
  },
  {
   "cell_type": "code",
   "execution_count": null,
   "metadata": {},
   "outputs": [],
   "source": [
    "from random import randint, uniform, paretovariate"
   ]
  },
  {
   "cell_type": "code",
   "execution_count": null,
   "metadata": {},
   "outputs": [],
   "source": [
    "randint(100, 110)"
   ]
  },
  {
   "cell_type": "code",
   "execution_count": null,
   "metadata": {},
   "outputs": [],
   "source": [
    "uniform(5, 10)"
   ]
  },
  {
   "cell_type": "code",
   "execution_count": null,
   "metadata": {},
   "outputs": [],
   "source": [
    "paretovariate(.5)"
   ]
  },
  {
   "cell_type": "markdown",
   "metadata": {},
   "source": [
    "## Using `as` to alias names when importing\n",
    "It is possible to import a name and **alias** it as something else. An alias is the new name that you use as the reference. The generic form is as follows:\n",
    "\n",
    "```\n",
    "import module as new_name\n",
    "```\n",
    "\n",
    "You can also alias single names like:\n",
    "\n",
    "```\n",
    "from module import original_name as new_name\n",
    "```\n",
    "\n",
    "Let's import the **`statistics`** module as **`st`**:"
   ]
  },
  {
   "cell_type": "code",
   "execution_count": null,
   "metadata": {},
   "outputs": [],
   "source": [
    "import statistics as st"
   ]
  },
  {
   "cell_type": "markdown",
   "metadata": {},
   "source": [
    "### `st` now refers to the statistics module\n",
    "The alias **`st`** can now be used to access all the functionality of the **`statistics`** module. Let's use it to find the mean of a list of numbers."
   ]
  },
  {
   "cell_type": "code",
   "execution_count": null,
   "metadata": {},
   "outputs": [],
   "source": [
    "a_list = [1, 5, 10, 3, 1]\n",
    "st.mean(a_list)"
   ]
  },
  {
   "cell_type": "markdown",
   "metadata": {},
   "source": [
    "### Alias a single name\n",
    "It is also possible to alias a single name within a module. I should say that I typically do not do this and reserve my aliasing for entire modules as was accomplished in the previous code cell. \n",
    "\n",
    "The below creates an alias for the **`harmonic_mean`** function from the **`statistics`** module to something shorter like **`hm`**."
   ]
  },
  {
   "cell_type": "code",
   "execution_count": null,
   "metadata": {},
   "outputs": [],
   "source": [
    "from statistics import harmonic_mean as hm"
   ]
  },
  {
   "cell_type": "code",
   "execution_count": null,
   "metadata": {},
   "outputs": [],
   "source": [
    "hm(a_list)"
   ]
  },
  {
   "cell_type": "markdown",
   "metadata": {},
   "source": [
    "### Import all names from a module\n",
    "This is not recommended at all, but you will see it crop up from time to time. You can import every single name from a module by doing **`from module import *`**. The reason this is not recommended is because this \"pollutes\" your namespace and makes it more difficult to determine which module the name originated from.\n",
    "\n",
    "### The Python Standard Library Reference\n",
    "Please visit the [official documentation][1] for a listing of all the modules in the standard library. The built-in names are in sections 1-5 with the actual standard library beginning in section 6. You may find this section useful for the following questions.\n",
    "\n",
    "[1]: https://docs.python.org/3/library/index.html"
   ]
  },
  {
   "cell_type": "markdown",
   "metadata": {},
   "source": [
    "### Problem 2\n",
    "\n",
    "<span style=\"color:green\">Import the `math` module and take the log of a number.</span>"
   ]
  },
  {
   "cell_type": "code",
   "execution_count": null,
   "metadata": {},
   "outputs": [],
   "source": [
    "# your code here"
   ]
  },
  {
   "cell_type": "markdown",
   "metadata": {},
   "source": [
    "### Problem 3\n",
    "\n",
    "<span style=\"color:green\">Use the `string` module to print out all the uppercase letters.</span>"
   ]
  },
  {
   "cell_type": "code",
   "execution_count": null,
   "metadata": {},
   "outputs": [],
   "source": [
    "# your code here"
   ]
  },
  {
   "cell_type": "markdown",
   "metadata": {},
   "source": [
    "### Problem 4\n",
    "\n",
    "<span style=\"color:green\">Import the single name `getcwd` from the `os` module and execute the function. What does it do?</span>"
   ]
  },
  {
   "cell_type": "code",
   "execution_count": null,
   "metadata": {},
   "outputs": [],
   "source": [
    "# your code here"
   ]
  },
  {
   "cell_type": "markdown",
   "metadata": {},
   "source": [
    "### Problem 5\n",
    "\n",
    "<span style=\"color:green\">Import and alias the `webbrowser` module as `wb`. Then open a new tab in your browser with the `open_new_tab` function.</span>"
   ]
  },
  {
   "cell_type": "code",
   "execution_count": null,
   "metadata": {},
   "outputs": [],
   "source": [
    "# your code here"
   ]
  },
  {
   "cell_type": "markdown",
   "metadata": {},
   "source": [
    "### Problem 6\n",
    "\n",
    "<span style=\"color:green\">Take a look at the `fractions` module (find it in the standard library link above) and add the fractions 2/3 to 1/4. It will be helpful to read the documentation from the link.</span>"
   ]
  },
  {
   "cell_type": "code",
   "execution_count": null,
   "metadata": {},
   "outputs": [],
   "source": [
    "# your code here"
   ]
  },
  {
   "cell_type": "markdown",
   "metadata": {},
   "source": [
    "# Creating your own modules\n",
    "Jupyter Notebooks are great for writing short code snippets, making visualizations, and adding text and images together. However, professional code is always stored in Python modules - files that ends in **`.py`**. In this directory, there is a file named **`simple_module.py`**. Open the file in a text editor so that you can see its contents.\n",
    "\n",
    "You should see 1 string, 1 integer, and 5 functions defined in the module. Let's import the module and alias it as **`sm`** and use some of its functionality."
   ]
  },
  {
   "cell_type": "code",
   "execution_count": null,
   "metadata": {},
   "outputs": [],
   "source": [
    "import simple_module as sm"
   ]
  },
  {
   "cell_type": "code",
   "execution_count": null,
   "metadata": {},
   "outputs": [],
   "source": [
    "# output the value of the author string\n",
    "sm.author"
   ]
  },
  {
   "cell_type": "code",
   "execution_count": null,
   "metadata": {},
   "outputs": [],
   "source": [
    "# output my favorite number\n",
    "sm.favorite_number"
   ]
  },
  {
   "cell_type": "code",
   "execution_count": null,
   "metadata": {},
   "outputs": [],
   "source": [
    "# add two numbers together\n",
    "sm.add(3, 8)"
   ]
  },
  {
   "cell_type": "code",
   "execution_count": null,
   "metadata": {},
   "outputs": [],
   "source": [
    "# count the number of vowels in a string\n",
    "sm.count_vowels('Wheat Waffles')"
   ]
  },
  {
   "cell_type": "markdown",
   "metadata": {},
   "source": [
    "## Troubleshooting\n",
    "If the import statement failed above then you are probably not working out of the correct working directly. The working directory is the path where you started the Jupyter Notebook. We need to ensure that you are working out of the **`precourse-assignment`** directory and not anywhere else.\n",
    "\n",
    "### Finding the current working directory\n",
    "You can find the current working directory with help from the **`getcwd`** function in the **`os`** module."
   ]
  },
  {
   "cell_type": "code",
   "execution_count": null,
   "metadata": {},
   "outputs": [],
   "source": [
    "import os"
   ]
  },
  {
   "cell_type": "code",
   "execution_count": null,
   "metadata": {},
   "outputs": [],
   "source": [
    "os.getcwd()"
   ]
  },
  {
   "cell_type": "markdown",
   "metadata": {},
   "source": [
    "### Changing the working directory\n",
    "If you are not in the precourse-assignment directory you need to change the working directory by using the **`chdir`** function. Replace the contents of the string with the path to this notebook. The path should end in **`precourse-assignment`**.\n",
    "\n",
    "For instance, the path on my machine is **`'/Users/Ted/Github Repos/Data Science Teaching/precourse-assignment'`**"
   ]
  },
  {
   "cell_type": "code",
   "execution_count": null,
   "metadata": {},
   "outputs": [],
   "source": [
    "os.chdir('DELETE AND PUT PATH HERE')"
   ]
  },
  {
   "cell_type": "markdown",
   "metadata": {},
   "source": [
    "### List all content of working directory\n",
    "Use the **`listdir`** function to list all the content in your current working directory. You should now see all the notebooks and other files and folders. Importantly, you should see the file **`simple_module.py`**. Rerun your import statement from above now."
   ]
  },
  {
   "cell_type": "code",
   "execution_count": null,
   "metadata": {},
   "outputs": [],
   "source": [
    "os.listdir()"
   ]
  },
  {
   "cell_type": "markdown",
   "metadata": {},
   "source": [
    "## How does Python find modules?\n",
    "When importing modules, Python looks at a few specific paths to find the name of the file that ends in **`.py`**. It does not search your entire computer for every single **`.py`** file. You can actually print the set of paths with the **`sys`** module. Let's do that now."
   ]
  },
  {
   "cell_type": "code",
   "execution_count": null,
   "metadata": {},
   "outputs": [],
   "source": [
    "import sys\n",
    "sys.path"
   ]
  },
  {
   "cell_type": "markdown",
   "metadata": {},
   "source": [
    "### Python first checks the working directory\n",
    "The **`path`** variable stores a list of all the paths that the Python interpreter checks for modules. It checks the paths in the specific order you see output above. The first entry in that list is an empty string which represents the current working directory. Python begins its search for modules there. It then continues down the list until it finds the module. If the module is not found, you will get an error.\n",
    "\n",
    "We defined **`simple_module.py`** in our current directory so Python could find it. All the modules in the standard library are defined in the directory that ends with **`anaconda3/lib/Python3.6`**. The third-party packages are found one level deeper in the **`site-packages`** directory. You can browse through your file system and view the raw source code of these files.\n",
    "\n",
    "# Project: Creating your own array\n",
    "We will now create a module that will be capable of completing many array operations. This small project will give you a taste of what its like being a software engineer. The answer will be in a file called **`my_array_answers.py`**. Only look at the contents of that file when you have completed your module (or at least made an attempt). The file will be composed of several functions.\n",
    "\n",
    "### One-dimensional array\n",
    "In many programming languages an **array** is a term used as a homogeneous container of data. Arrays are similar to Python lists, except that all elements are the of the same type. Arrays also can't change size once created. \n",
    "\n",
    "### Use a list as our array\n",
    "For this project, we will use the built-in Python list as a substitute for an array. Nearly all of our functions that we define in our module will take Python lists as parameters.\n",
    "\n",
    "### Create the file\n",
    "\n",
    "Let's get started by creating a file named **`my_array.py`** in the **`precourse-assignment`** directory.\n",
    "\n",
    "### Getting your code to work\n",
    "You might want to first write your code in the notebook and then transfer over it to the module.\n",
    "\n",
    "### Testing your code\n",
    "To test your code, import your module into the notebook and run the function. I will use functions from the answers module to show you what the expected output should be.\n",
    "\n",
    "### Restarting the notebook\n",
    "When you edit your module, your new code will not be immediately available in this notebook if you have already imported your module here. Restart the notebook by clicking **Kernel -> Restart** in the menu above and then re-importing your module.\n",
    "\n",
    "### Structure of project\n",
    "Each new section will represent a new function that you need to add to your module. The section will follow with an example of how the new function should work.\n",
    "\n",
    "# Start Creating Functions\n",
    "Let the fun begin! Read the section and create your function.\n",
    "### 1. `create_random_array`\n",
    "Open your new file and define a function **`create_random_array`** with a single parameter **`n`**. Return a list with **`n`** elements of random integers between 1 and 100. You will need to import the **`random`** library at the top of the file. Save this returned array to a variable named **`array`** and use it to test the remaining functions."
   ]
  },
  {
   "cell_type": "code",
   "execution_count": null,
   "metadata": {},
   "outputs": [],
   "source": [
    "import my_array_answers as maa"
   ]
  },
  {
   "cell_type": "code",
   "execution_count": null,
   "metadata": {},
   "outputs": [],
   "source": [
    "array = maa.create_random_array(10)\n",
    "array"
   ]
  },
  {
   "cell_type": "markdown",
   "metadata": {},
   "source": [
    "### 2. `add_constant`\n",
    "Create the function **`add_constant`** with two parameters, **`array`** and **`x`**. Return a new array with **`x`** added to each element."
   ]
  },
  {
   "cell_type": "code",
   "execution_count": null,
   "metadata": {},
   "outputs": [],
   "source": [
    "maa.add_constant(array, 8)"
   ]
  },
  {
   "cell_type": "markdown",
   "metadata": {},
   "source": [
    "### 3. `sub_constant`, `mul_constant`, `div_constant`, `pow_constant`\n",
    "Create the above functions for subtracting, multiplying, dividing and raising to a power of a single number. The signature is the same as **`add_constant`**"
   ]
  },
  {
   "cell_type": "code",
   "execution_count": null,
   "metadata": {},
   "outputs": [],
   "source": [
    "maa.sub_constant(array, 23)"
   ]
  },
  {
   "cell_type": "code",
   "execution_count": null,
   "metadata": {},
   "outputs": [],
   "source": [
    "maa.mul_constant(array, 4)"
   ]
  },
  {
   "cell_type": "code",
   "execution_count": null,
   "metadata": {},
   "outputs": [],
   "source": [
    "maa.div_constant(array, 88)"
   ]
  },
  {
   "cell_type": "code",
   "execution_count": null,
   "metadata": {},
   "outputs": [],
   "source": [
    "maa.pow_constant(array, .5)"
   ]
  },
  {
   "cell_type": "markdown",
   "metadata": {},
   "source": [
    "### 4. `add`, `sub`, `mul`, `div`, `pow_`\n",
    "Create the five functions above. Each function has two parameters **`array1`** and **`array2`**. These functions will do element by element operations. This means that the first element in **`array1`** will be added to the first element of **`array2`** and so on. Return a single new array. Make sure the arrays that you pass to the functions are the same length."
   ]
  },
  {
   "cell_type": "code",
   "execution_count": null,
   "metadata": {},
   "outputs": [],
   "source": [
    "array2 = maa.create_random_array(10)\n",
    "array2"
   ]
  },
  {
   "cell_type": "code",
   "execution_count": null,
   "metadata": {},
   "outputs": [],
   "source": [
    "maa.add(array, array2)"
   ]
  },
  {
   "cell_type": "code",
   "execution_count": null,
   "metadata": {},
   "outputs": [],
   "source": [
    "maa.sub(array, array2)"
   ]
  },
  {
   "cell_type": "code",
   "execution_count": null,
   "metadata": {},
   "outputs": [],
   "source": [
    "maa.mul(array, array2)"
   ]
  },
  {
   "cell_type": "code",
   "execution_count": null,
   "metadata": {},
   "outputs": [],
   "source": [
    "maa.div(array, array2)"
   ]
  },
  {
   "cell_type": "code",
   "execution_count": null,
   "metadata": {},
   "outputs": [],
   "source": [
    "maa.pow_(array, array2)"
   ]
  },
  {
   "cell_type": "markdown",
   "metadata": {},
   "source": [
    "### 5. `min_`, `max_`\n",
    "Define functions that find the min and max of the array. The functions will take a single parameter **`array`** and return a single number."
   ]
  },
  {
   "cell_type": "code",
   "execution_count": null,
   "metadata": {},
   "outputs": [],
   "source": [
    "maa.max_(array)"
   ]
  },
  {
   "cell_type": "markdown",
   "metadata": {},
   "source": [
    "### 6. `mean`\n",
    "Define a function to take the mean of the array. It takes a single parameter."
   ]
  },
  {
   "cell_type": "code",
   "execution_count": null,
   "metadata": {},
   "outputs": [],
   "source": [
    "maa.mean(array)"
   ]
  },
  {
   "cell_type": "markdown",
   "metadata": {},
   "source": [
    "### 7. `median`\n",
    "Define a function to find the median of an array. The median is the middle element of an array when sorted. If there are an even number of elements then it is the average of the two middle elements. It takes a single parameter."
   ]
  },
  {
   "cell_type": "code",
   "execution_count": null,
   "metadata": {},
   "outputs": [],
   "source": [
    "maa.median(array)"
   ]
  },
  {
   "cell_type": "markdown",
   "metadata": {},
   "source": [
    "### 8. `dot_product`\n",
    "The dot product between two arrays is a two step process. First, conduct element by element multiplication and then sum up each of these products. This function takes two arrays as arguments."
   ]
  },
  {
   "cell_type": "code",
   "execution_count": null,
   "metadata": {},
   "outputs": [],
   "source": [
    "a1 = maa.create_random_array(3)\n",
    "a2 = maa.create_random_array(3)\n",
    "\n",
    "maa.dot_product(a1, a2)"
   ]
  },
  {
   "cell_type": "code",
   "execution_count": null,
   "metadata": {},
   "outputs": [],
   "source": [
    "a1, a2"
   ]
  },
  {
   "cell_type": "markdown",
   "metadata": {},
   "source": [
    "### 9. `distance`\n",
    "The distance between two arrays is a four-step process. First, conduct element by element subtraction, square the results, sum these results to get a single number and take the square root."
   ]
  },
  {
   "cell_type": "code",
   "execution_count": null,
   "metadata": {},
   "outputs": [],
   "source": [
    "a1 = maa.create_random_array(2)\n",
    "a2 = maa.create_random_array(2)"
   ]
  },
  {
   "cell_type": "code",
   "execution_count": null,
   "metadata": {},
   "outputs": [],
   "source": [
    "maa.distance(a1, a2)"
   ]
  },
  {
   "cell_type": "markdown",
   "metadata": {},
   "source": [
    "# Congrats on finishing notebook 8!\n",
    "This completes the mandatory material needed before the start of the course. Important material still awaits. We will cover Python classes next and build a few games."
   ]
  }
 ],
 "metadata": {
  "kernelspec": {
   "display_name": "Python 3",
   "language": "python",
   "name": "python3"
  },
  "language_info": {
   "codemirror_mode": {
    "name": "ipython",
    "version": 3
   },
   "file_extension": ".py",
   "mimetype": "text/x-python",
   "name": "python",
   "nbconvert_exporter": "python",
   "pygments_lexer": "ipython3",
   "version": "3.6.4"
  }
 },
 "nbformat": 4,
 "nbformat_minor": 2
}
