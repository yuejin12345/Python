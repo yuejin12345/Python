{
 "cells": [
  {
   "cell_type": "markdown",
   "metadata": {},
   "source": [
    "# Tuples, Sets, and Dictionaries\n",
    "\n",
    "# Objectives\n",
    "\n",
    "By the end of this notebook, you should know:\n",
    "\n",
    "* How to create a tuple\n",
    "* How tuples are different than lists\n",
    "* The difference between mutable and immutable objects\n",
    "* How to create sets\n",
    "* Sets contain unique objects\n",
    "* Sets have very fast membership checking\n",
    "* Only hashable objects can be contained in sets\n",
    "* Dictionaries are key - value pairs where keys must be hashable\n",
    "\n",
    "As discussed earlier, a data structure is a type that contains\n",
    "more than one element of data. We thoroughly covered lists which can contain any number of other objects. In this notebook, we will cover three other useful and popular built-in data structures - **tuples**, **sets**, and **dictionaries**.\n",
    "\n",
    "# Tuples\n",
    "Tuples are very similar to lists. They contain any number of objects of any type. The major difference is that tuples are immutable and thus cannot be changed once created. No elements can be added, deleted or changed from them. \n",
    "\n",
    "\n",
    "## Syntax for declaring a tuple\n",
    "Tuples are declared with a sequence of objects separated by commas wrapped in **parentheses**.\n",
    "\n",
    "Let's declare some tuples below:"
   ]
  },
  {
   "cell_type": "code",
   "execution_count": null,
   "metadata": {},
   "outputs": [],
   "source": [
    "# tuple with three integers\n",
    "a = (1, 2, 10)\n",
    "\n",
    "a"
   ]
  },
  {
   "cell_type": "code",
   "execution_count": null,
   "metadata": {},
   "outputs": [],
   "source": [
    "# tuple with multiple different types\n",
    "b = (1, 'one', True, [9, 10])\n",
    "\n",
    "b"
   ]
  },
  {
   "cell_type": "markdown",
   "metadata": {},
   "source": [
    "### Creating an empty tuple\n",
    "Empty tuples are created with a set of parentheses with no other objects in them."
   ]
  },
  {
   "cell_type": "code",
   "execution_count": null,
   "metadata": {},
   "outputs": [],
   "source": [
    "c = ()\n",
    "\n",
    "type(c)"
   ]
  },
  {
   "cell_type": "markdown",
   "metadata": {},
   "source": [
    "### Creating a single element tuple\n",
    "Single element tuples are a created differently in a somewhat surprising manner. You must add a comma after the single element."
   ]
  },
  {
   "cell_type": "code",
   "execution_count": null,
   "metadata": {},
   "outputs": [],
   "source": [
    "# create a single element tuple\n",
    "a = (5,)"
   ]
  },
  {
   "cell_type": "code",
   "execution_count": null,
   "metadata": {},
   "outputs": [],
   "source": [
    "a"
   ]
  },
  {
   "cell_type": "code",
   "execution_count": null,
   "metadata": {},
   "outputs": [],
   "source": [
    "type(a)"
   ]
  },
  {
   "cell_type": "markdown",
   "metadata": {},
   "source": [
    "### Why do you need that comma?\n",
    "It's natural to think that a one-item tuple would be created like this:\n",
    "```\n",
    "a = (5)\n",
    "```\n",
    "\n",
    "But, parentheses have a dual purpose in Python, which is to define the order of operations for expressions. In the following expression, the addition happens before the multiplication.\n",
    "\n",
    "```\n",
    "3 * (4 + 5)\n",
    "```\n",
    "\n",
    "Because of this syntactic limitation, Python forces you to use a comma to distinguish a tuple from a parentheses in an expression."
   ]
  },
  {
   "cell_type": "markdown",
   "metadata": {},
   "source": [
    "### Tuples without parentheses\n",
    "Tuples don't actually require a set of parentheses upon creation. All that is required is comma-separated values."
   ]
  },
  {
   "cell_type": "code",
   "execution_count": null,
   "metadata": {},
   "outputs": [],
   "source": [
    "# create a tuple without enclosed parentheses\n",
    "a = 9, 'asdf', True, 0.123\n",
    "\n",
    "a"
   ]
  },
  {
   "cell_type": "code",
   "execution_count": null,
   "metadata": {},
   "outputs": [],
   "source": [
    "type(a)"
   ]
  },
  {
   "cell_type": "markdown",
   "metadata": {},
   "source": [
    "### Converting iterables to tuples\n",
    "The **`tuple`** keyword can be used to create new tuples from other iterable types such as lists, ranges, and strings."
   ]
  },
  {
   "cell_type": "code",
   "execution_count": null,
   "metadata": {},
   "outputs": [],
   "source": [
    "# convert a list to a tuple\n",
    "a_list = [1, 5, 'some string', False]\n",
    "\n",
    "tuple(a_list)"
   ]
  },
  {
   "cell_type": "code",
   "execution_count": null,
   "metadata": {},
   "outputs": [],
   "source": [
    "# convert a string to a tuple\n",
    "tuple('watermelon')"
   ]
  },
  {
   "cell_type": "code",
   "execution_count": null,
   "metadata": {},
   "outputs": [],
   "source": [
    "# convert a range to a tuple\n",
    "tuple(range(10, 30, 5))"
   ]
  },
  {
   "cell_type": "markdown",
   "metadata": {},
   "source": [
    "# Selecting items from a tuple\n",
    "Selecting one or more items from a tuple is done in the exact same manner as with a list. The integer location of the desired item is placed in the brackets, **`[]`**. You can also use slice notation to select multiple items that are returned in a new tuple.\n",
    "\n",
    "Let's create a tuple and then select one or more items from it."
   ]
  },
  {
   "cell_type": "code",
   "execution_count": null,
   "metadata": {},
   "outputs": [],
   "source": [
    "# create a tuple with a variety of types including other tuples\n",
    "t = ['phone', 12, 4.44, True, [3, 4, 5], (5, 4, 2)]\n",
    "t"
   ]
  },
  {
   "cell_type": "code",
   "execution_count": null,
   "metadata": {},
   "outputs": [],
   "source": [
    "# select the first element\n",
    "t[0]"
   ]
  },
  {
   "cell_type": "code",
   "execution_count": null,
   "metadata": {},
   "outputs": [],
   "source": [
    "# select elements from integer location 3 to 6\n",
    "t[3:6]"
   ]
  },
  {
   "cell_type": "code",
   "execution_count": null,
   "metadata": {},
   "outputs": [],
   "source": [
    "# select the first 4 elements\n",
    "t[:4]"
   ]
  },
  {
   "cell_type": "markdown",
   "metadata": {},
   "source": [
    "### Concatenating tuples\n",
    "Concatenating tuples happens with the plus operator. This creates a new tuple object."
   ]
  },
  {
   "cell_type": "code",
   "execution_count": null,
   "metadata": {},
   "outputs": [],
   "source": [
    "(1, 2) + (3, 4, 5)"
   ]
  },
  {
   "cell_type": "code",
   "execution_count": null,
   "metadata": {},
   "outputs": [],
   "source": [
    "a = (1, 2)\n",
    "b = ('some', 'other', 'tuple')\n",
    "\n",
    "a + b"
   ]
  },
  {
   "cell_type": "markdown",
   "metadata": {},
   "source": [
    "### Duplicating tuples\n",
    "You can duplicate each item in the tuple by multiplying it by an integer."
   ]
  },
  {
   "cell_type": "code",
   "execution_count": null,
   "metadata": {},
   "outputs": [],
   "source": [
    "(1, 2, 3) * 5"
   ]
  },
  {
   "cell_type": "markdown",
   "metadata": {},
   "source": [
    "### Tuple Methods\n",
    "Let's create a tuple and display all the available methods with the **`dir`** function. Notice that tuples have only two public methods, those that do not begin and end with double underscores."
   ]
  },
  {
   "cell_type": "code",
   "execution_count": null,
   "metadata": {},
   "outputs": [],
   "source": [
    "a = (1, 2)\n",
    "\n",
    "dir(a)"
   ]
  },
  {
   "cell_type": "markdown",
   "metadata": {},
   "source": [
    "### Problem 1\n",
    "\n",
    "<span style=\"color:green\">Use a list comprehension that iterates through all the tuple methods and filters out all of the private methods.</span>"
   ]
  },
  {
   "cell_type": "code",
   "execution_count": null,
   "metadata": {},
   "outputs": [],
   "source": [
    "# your code here"
   ]
  },
  {
   "cell_type": "markdown",
   "metadata": {},
   "source": [
    "# Sets\n",
    "Sets in Python are similar but slightly different than lists or tuples. Python sets are **unordered** sequences of objects that only contain **unique** elements. Sets are **mutable** and you may modify them after creation. \n",
    "\n",
    "### Syntax for creating a set\n",
    "Sets are created with curly braces followed by comma separated values. Let's see some examples of creating a set."
   ]
  },
  {
   "cell_type": "code",
   "execution_count": null,
   "metadata": {},
   "outputs": [],
   "source": [
    "a = {1, 2, 3, 4}\n",
    "a"
   ]
  },
  {
   "cell_type": "code",
   "execution_count": null,
   "metadata": {},
   "outputs": [],
   "source": [
    "b = {'sdf', 'er', 1, 3}\n",
    "\n",
    "b"
   ]
  },
  {
   "cell_type": "markdown",
   "metadata": {},
   "source": [
    "### Cannot have duplicates when creating a set\n",
    "Sets only contain unique elements, so if we try and create a set with repeated values, then only a single copy of the element will remain in the set."
   ]
  },
  {
   "cell_type": "code",
   "execution_count": null,
   "metadata": {},
   "outputs": [],
   "source": [
    "{1, 1, 1, 1, 2, 2, 2}"
   ]
  },
  {
   "cell_type": "markdown",
   "metadata": {},
   "source": [
    "### Set creation from iterables\n",
    "Just as with tuples, it is possible to create sets by passing an iterable to the **`set`** keyword."
   ]
  },
  {
   "cell_type": "code",
   "execution_count": null,
   "metadata": {},
   "outputs": [],
   "source": [
    "a_tuple = (1, 2, 3)\n",
    "set(a_tuple)"
   ]
  },
  {
   "cell_type": "code",
   "execution_count": null,
   "metadata": {},
   "outputs": [],
   "source": [
    "set('some string')"
   ]
  },
  {
   "cell_type": "code",
   "execution_count": null,
   "metadata": {},
   "outputs": [],
   "source": [
    "a_list = ['some string', 5, True]\n",
    "set(a_list)"
   ]
  },
  {
   "cell_type": "code",
   "execution_count": null,
   "metadata": {},
   "outputs": [],
   "source": [
    "set(range(4))"
   ]
  },
  {
   "cell_type": "markdown",
   "metadata": {},
   "source": [
    "### Sets can only contain immutable objects\n",
    "One major difference between sets and other data structures is that the elements must be immutable objects. For instance, if we try and add a list to our set we get the following error:"
   ]
  },
  {
   "cell_type": "code",
   "execution_count": null,
   "metadata": {},
   "outputs": [],
   "source": [
    "{1, 2, ['some', 'list']}"
   ]
  },
  {
   "cell_type": "markdown",
   "metadata": {},
   "source": [
    "### What is an unhashable type?\n",
    "Notice the message after the error above: **`unhashable type: 'list'`**. Hashing is beyond the scope of this pre-course, but it gives us a way to quickly identify an object. Hashing only works when the value of an object remains the same. Since lists are mutable and their elements can change, it is considered unhashable and can no longer be identified quickly. Therefore, Python does not allow lists and other mutable objects.\n",
    "\n",
    "Since tuples are immutable, they may be stored in sets."
   ]
  },
  {
   "cell_type": "code",
   "execution_count": null,
   "metadata": {},
   "outputs": [],
   "source": [
    "{1, 2, ('some', 'tuple')}"
   ]
  },
  {
   "cell_type": "markdown",
   "metadata": {},
   "source": [
    "### Accessing items in a set\n",
    "Since sets are unordered, there is no way to access a specific element within the set like with tuples/lists. You cannot use the brackets and place an integer index within. You will get the following error:"
   ]
  },
  {
   "cell_type": "code",
   "execution_count": null,
   "metadata": {},
   "outputs": [],
   "source": [
    "s = {1, 2, 3}\n",
    "\n",
    "s[0]"
   ]
  },
  {
   "cell_type": "markdown",
   "metadata": {},
   "source": [
    "### How are sets useful?\n",
    "One of the primary uses for sets is to keep a unique collection of items. For instance, you are rolling a pair of dice and want to keep track of all the unique rolls. \n",
    "\n",
    "Another primary use of sets is to quickly test membership of a particular item. For instance, if we want to test whether a particular integer is a member of a set we can do so very quickly as compared to a list.\n",
    "\n",
    "Multiple sets may be combined analogously to mathematical sets as unions, intersections, and differences.\n",
    "\n",
    "### Speed of sets\n",
    "Sets are implemented using hash tables which allow for extremely fast membership checking. This is different than checking membership in a list where all the elements must be checked one at a time.\n",
    "\n",
    "### Using %timeit magic function\n",
    "iPython comes with some nifty extra functionality called 'magic' functions. The %timeit magic function allows you to time a code block in your notebook. The example below shows how much faster membership checking is for sets than it is for lists. A list and a set are created with the exact same one million elements. The number 900,000 will be checked for membership in each object. To time a single line of code, proceed the line by `%timeit`.\n",
    "\n",
    "### Check for membership\n",
    "We will first create both a set and a list of one million integers and check for membership with one particular integer. We will time this operation on both the list and set."
   ]
  },
  {
   "cell_type": "code",
   "execution_count": null,
   "metadata": {},
   "outputs": [],
   "source": [
    "n = 1000000\n",
    "a_set = set(range(n))\n",
    "a_list = list(range(n))\n",
    "num = 900000"
   ]
  },
  {
   "cell_type": "code",
   "execution_count": null,
   "metadata": {},
   "outputs": [],
   "source": [
    "%timeit num in a_set"
   ]
  },
  {
   "cell_type": "code",
   "execution_count": null,
   "metadata": {},
   "outputs": [],
   "source": [
    "%timeit num in a_list"
   ]
  },
  {
   "cell_type": "markdown",
   "metadata": {},
   "source": [
    "### Unbelievable time difference!\n",
    "On my machine, the membership check took 65 nanoseconds (one nanosecond is a billionth of a second) vs the list's 11 milliseconds (one thousandth of a second). That is over 100,000 times faster for the set than the list.\n",
    "\n",
    "One astonishing fact about sets is that regardless of large the set becomes, membership checking will be very fast and remain just about the same amount of time."
   ]
  },
  {
   "cell_type": "markdown",
   "metadata": {},
   "source": [
    "# Set Operations\n",
    "See examples below on basic operations of sets. Let's first define two sets."
   ]
  },
  {
   "cell_type": "code",
   "execution_count": null,
   "metadata": {},
   "outputs": [],
   "source": [
    "# define two sets\n",
    "a = {1, 2, 3, 4}\n",
    "b = {3, 4, 5, 6}"
   ]
  },
  {
   "cell_type": "markdown",
   "metadata": {},
   "source": [
    "### Membership checking with `in`\n",
    "Determine whether or not a set contains an element. Use **`not in`** to reverse the condition."
   ]
  },
  {
   "cell_type": "code",
   "execution_count": null,
   "metadata": {},
   "outputs": [],
   "source": [
    "5 in a"
   ]
  },
  {
   "cell_type": "code",
   "execution_count": null,
   "metadata": {},
   "outputs": [],
   "source": [
    "6 not in b"
   ]
  },
  {
   "cell_type": "markdown",
   "metadata": {},
   "source": [
    "### Find the union of two sets\n",
    "There is no concatenation of sets, instead we use the term **union** to represent all the unique elements of two sets. You can either use the pipe symbol, **`|`**, or the method **`union`**. "
   ]
  },
  {
   "cell_type": "code",
   "execution_count": null,
   "metadata": {},
   "outputs": [],
   "source": [
    "a | b"
   ]
  },
  {
   "cell_type": "code",
   "execution_count": null,
   "metadata": {},
   "outputs": [],
   "source": [
    "a.union(b)"
   ]
  },
  {
   "cell_type": "markdown",
   "metadata": {},
   "source": [
    "### Intersection of two sets\n",
    "The intersection of two sets is all the elements they have in common. Use the ampersand symbol, **`&`**, or the **`intersection`** method."
   ]
  },
  {
   "cell_type": "code",
   "execution_count": null,
   "metadata": {},
   "outputs": [],
   "source": [
    "a & b"
   ]
  },
  {
   "cell_type": "code",
   "execution_count": null,
   "metadata": {},
   "outputs": [],
   "source": [
    "a.intersection(b)"
   ]
  },
  {
   "cell_type": "markdown",
   "metadata": {},
   "source": [
    "### Difference of two sets\n",
    "The difference between two sets is a non-commutative (meaning that the order matters) operation that removes all elements of the first second that are in common with the second. You can use the subtraction sign or the **`difference`** method. Notice how **`a - b != b - a`**"
   ]
  },
  {
   "cell_type": "code",
   "execution_count": null,
   "metadata": {},
   "outputs": [],
   "source": [
    "a - b"
   ]
  },
  {
   "cell_type": "code",
   "execution_count": null,
   "metadata": {},
   "outputs": [],
   "source": [
    "b - a"
   ]
  },
  {
   "cell_type": "code",
   "execution_count": null,
   "metadata": {},
   "outputs": [],
   "source": [
    "a.difference(b)"
   ]
  },
  {
   "cell_type": "markdown",
   "metadata": {},
   "source": [
    "### Symmetric difference\n",
    "The symmetric difference is a commutative operation that returns a set with all elements unique to each one. You can use the caret symbol, **`^`** or the **`symmetric_difference`** method."
   ]
  },
  {
   "cell_type": "code",
   "execution_count": null,
   "metadata": {},
   "outputs": [],
   "source": [
    "a ^ b"
   ]
  },
  {
   "cell_type": "code",
   "execution_count": null,
   "metadata": {},
   "outputs": [],
   "source": [
    "b ^ a"
   ]
  },
  {
   "cell_type": "code",
   "execution_count": null,
   "metadata": {},
   "outputs": [],
   "source": [
    "a.symmetric_difference(b)"
   ]
  },
  {
   "cell_type": "code",
   "execution_count": null,
   "metadata": {},
   "outputs": [],
   "source": [
    "a ^ b"
   ]
  },
  {
   "cell_type": "markdown",
   "metadata": {},
   "source": [
    "# Mutating sets\n",
    "All of the above examples created new sets but did not change the underlying sets. Sets are mutable and we can add or remove elements as we please.\n",
    "\n",
    "The **`add`** method will permanently add a new element to our set, granted it is not already there."
   ]
  },
  {
   "cell_type": "code",
   "execution_count": null,
   "metadata": {},
   "outputs": [],
   "source": [
    "# add an element to set \n",
    "a.add(10) # operation happens in place\n",
    "b.add(6) # 6 is already a member so no item is added\n",
    "print(a)\n",
    "print(b)"
   ]
  },
  {
   "cell_type": "markdown",
   "metadata": {},
   "source": [
    "### Problem 2\n",
    "\n",
    "<span style=\"color:green\">Define a set and use a builtin function that will output the number of elements in that set.</span>"
   ]
  },
  {
   "cell_type": "code",
   "execution_count": null,
   "metadata": {},
   "outputs": [],
   "source": [
    "# your code here"
   ]
  },
  {
   "cell_type": "markdown",
   "metadata": {},
   "source": [
    "### Problem 3\n",
    "\n",
    "<span style=\"color:green\">Create a set of all the even numbers from 0 to 100. Then create another set of every number divisible by 7 from 0 to 100. Find the intersection of those sets.</span>"
   ]
  },
  {
   "cell_type": "code",
   "execution_count": null,
   "metadata": {},
   "outputs": [],
   "source": [
    "# your code here"
   ]
  },
  {
   "cell_type": "markdown",
   "metadata": {},
   "source": [
    "## Case study with sets - The Birthday Paradox\n",
    "The [birthday paradox][1] is a common problem learned in elementary probability texts. In it, we determine the probability of at least two people sharing the same birthday in a group. The reason for the \"paradox\" is the surprisingly small number of people needed to have a high probability of two people sharing the same birthday\n",
    "\n",
    "We will attempt to simulate this by randomly generating a birthday (an integer between 1 and 365) and adding that number to a set for every person in our group. If all the people in the group have unique birthdays, then the length of the set will equal the number of people in the group. Otherwise, we have at least two birthdays in common.\n",
    "\n",
    "Below, we write a function, **`shares_bday`** which takes a single integer parameter, **`num_people`**, that returns a boolean based on whether the unique set of birthdays is less than the number of people in the group.\n",
    "\n",
    "[1]: https://en.wikipedia.org/wiki/Birthday_problem"
   ]
  },
  {
   "cell_type": "code",
   "execution_count": null,
   "metadata": {},
   "outputs": [],
   "source": [
    "import random\n",
    "\n",
    "def shares_bday(num_people):\n",
    "    s = set()\n",
    "    for j in range(num_people):\n",
    "        s.add(random.randint(1, 365))\n",
    "    return len(s) < num_people"
   ]
  },
  {
   "cell_type": "markdown",
   "metadata": {},
   "source": [
    "### Testing the function\n",
    "We know if we have only 1 person in the group, that the birthday must be unique. Similarly, if we have more than 365 people in the group, then we are guaranteed that at least two people have the same birthday."
   ]
  },
  {
   "cell_type": "code",
   "execution_count": null,
   "metadata": {},
   "outputs": [],
   "source": [
    "shares_bday(1)"
   ]
  },
  {
   "cell_type": "code",
   "execution_count": null,
   "metadata": {},
   "outputs": [],
   "source": [
    "shares_bday(400)"
   ]
  },
  {
   "cell_type": "markdown",
   "metadata": {},
   "source": [
    "### What does `set()` do?\n",
    "Did you notice the first line of the function above? That is the correct syntax for creating an empty set. You would naturally think that you could create an empty set with empty curly braces like this:\n",
    "\n",
    "```\n",
    "s = {}\n",
    "\n",
    "```\n",
    "\n",
    "But, this actually creates an empty dictionary, which we are data structures discussed below. This is a syntactic constraint as both dictionaries and sets use the curly braces.\n",
    "\n",
    "### Estimating the probability for each group\n",
    "Our above function simulates a result for exactly one group of people. We can go further and simulate a result for a group of any size. The following function returns a probability of at least two birthdays occurring on the same day in groups that range in size from 1 to 100. It does this by doing 1,000 simulations for each group."
   ]
  },
  {
   "cell_type": "code",
   "execution_count": null,
   "metadata": {},
   "outputs": [],
   "source": [
    "def estimate_bday_prob(group_size=100, sims=1000):\n",
    "    group_size += 1\n",
    "    prob_list = [0] * group_size\n",
    "    for i in range(1, group_size):\n",
    "        unique_count = 0\n",
    "        for j in range(sims):\n",
    "            unique_count += shares_bday(i)\n",
    "        prob_list[i] = unique_count / sims\n",
    "    return prob_list"
   ]
  },
  {
   "cell_type": "markdown",
   "metadata": {},
   "source": [
    "### Execute function and be prepared to wait\n",
    "The function returns a list of probabilities for each group size. Each group is being simulated 1,000 times so the code takes quite some time to run (around 10 seconds)."
   ]
  },
  {
   "cell_type": "code",
   "execution_count": null,
   "metadata": {},
   "outputs": [],
   "source": [
    "prob_list = estimate_bday_prob()"
   ]
  },
  {
   "cell_type": "markdown",
   "metadata": {},
   "source": [
    "### Explaining the function\n",
    "The function **`estimate_bday_prob`** is fairly complex. Let's go through it line-by-line to ensure understanding.\n",
    "\n",
    "```\n",
    "group_size += 1\n",
    "```\n",
    "\n",
    "We increment the size of the group by one because we want our **`for`** loop to include 100 and not stop at 99.\n",
    "\n",
    "```\n",
    "prob_list = [0] * group_size\n",
    "```\n",
    "\n",
    "This line creates a list with length equal to `group_size` (101 if the default is used) with all elements equal to 0. This list will store our probabilities by group size. The first element will be 0 and correspond to a group size of 0. The second element will be 1 and correspond to a group size of 1, etc...\n",
    "\n",
    "```\n",
    "for i in range(1, group_size):\n",
    "```\n",
    "\n",
    "We begin our simulation of birthdays by group size beginning from a size of 1.\n",
    "\n",
    "\n",
    "```\n",
    "unique_count = 0\n",
    "```\n",
    "\n",
    "By default we will simulate each group 1,000 times. Out of these 1,000 times we will count how many of them have groups where two or more people share the same birthday. The variable **`unique_count`** will hold this count. Dividing it by the number of simulations will yield an estimated probability.\n",
    "\n",
    "```\n",
    "    for j in range(sims):\n",
    "        unique_count += shares_bday(i)\n",
    "```\n",
    "\n",
    "This inner loop runs the simulations **`sims`** number of times. We all our original function **`shares_bday`** to determine if that particular simulation had a birthday duplication. This function returns **`True`** or **`False`**. In Python, **`True`** evaluates to 1 and **`False`** evaluates to 0. Thus, **`unique_count`** gets incremented by one if there is a common birthday and stays the same otherwise.\n",
    "\n",
    "```\n",
    "    prob_list[i] = unique_count / sims\n",
    "return prob_list\n",
    "```\n",
    "\n",
    "Finally after all **`sims`** simulations have been performed for that group size we can estimate our probability and save it to our list. The outer loop variable **`i`** references the group size."
   ]
  },
  {
   "cell_type": "markdown",
   "metadata": {},
   "source": [
    "### Plotting the probability\n",
    "Let's plot the probability using Matplotlib. The x-axis is the group size and the y-axis is the probability of at least two people sharing the same birthday. Don't worry about the details of the plotting code."
   ]
  },
  {
   "cell_type": "code",
   "execution_count": null,
   "metadata": {},
   "outputs": [],
   "source": [
    "import matplotlib.pyplot as plt\n",
    "import matplotlib.image as mpimg\n",
    "%matplotlib inline"
   ]
  },
  {
   "cell_type": "code",
   "execution_count": null,
   "metadata": {},
   "outputs": [],
   "source": [
    "fig, ax = plt.subplots(1, 1, figsize=(8, 4))\n",
    "ax.plot(prob_list)\n",
    "ax.set_xlabel('Group Size')\n",
    "ax.set_ylabel('Probability')\n",
    "ax.set_title('The Birthday Paradox');"
   ]
  },
  {
   "cell_type": "markdown",
   "metadata": {},
   "source": [
    "### Compare to Wikipedia Image\n",
    "To check our work we can compare our plot to the one found on the Wikipedia page for the Birthday Paradox. The two graphs appear to be very similar.\n",
    "![][1]\n",
    "\n",
    "[1]: images/Birthday_Paradox.png"
   ]
  },
  {
   "cell_type": "markdown",
   "metadata": {},
   "source": [
    "### Problem 4\n",
    "\n",
    "<span style=\"color:green\">Find all the list and tuple methods that in common.</span>"
   ]
  },
  {
   "cell_type": "code",
   "execution_count": null,
   "metadata": {},
   "outputs": [],
   "source": [
    "# your code here"
   ]
  },
  {
   "cell_type": "markdown",
   "metadata": {},
   "source": [
    "### Problem 5: Advanced\n",
    "<span style=\"color:green\">Create a list of all the Fibonacci numbers less than 1000 and another list of all the prime numbers less than a 1000. Use a set to find the numbers that are common to both groups.</span>"
   ]
  },
  {
   "cell_type": "code",
   "execution_count": null,
   "metadata": {},
   "outputs": [],
   "source": [
    "# your code here"
   ]
  },
  {
   "cell_type": "markdown",
   "metadata": {},
   "source": [
    "# Dictionaries\n",
    "Dictionaries are powerful and flexible data structures similar to lists, tuples, and sets. Dictionaries consist of a **pair** of objects. Each dictionary item is a mapping from a **`key`** to a **`value`**, often called **key value pairs**. Every key has exactly one value that is associated with it.\n",
    "\n",
    "Dictionaries are very similar to their lexical counterparts where each word is mapped to a definition. In Python terms, the word would be the **`key`** and the definition the **`value`**.\n",
    "\n",
    "### Dictionary Syntax\n",
    "\n",
    "Dictionaries are defined using the same curly braces as sets, but each item in a dictionary consists of a key value pair separated by a colon. Each item in a dictionary is separated by a comma. As with sets, the keys of a dictionary must be immutable (ints, strings, tuples, etc...). The values however, may be an object of any type.\n",
    "\n",
    "Let's see some examples of dictionaries defined using curly braces"
   ]
  },
  {
   "cell_type": "code",
   "execution_count": null,
   "metadata": {},
   "outputs": [],
   "source": [
    "# Defining dictionaries\n",
    "letter_dict = {'a': 1, 'b': 2, 'z': 26}\n",
    "\n",
    "num_to_word_dict = {1:'one', 2:'two', 234:'two-hundred thirty four'}\n",
    "\n",
    "city_coord_dict = {(29, 95):'Houston', (29, 90):'New Orleans'}"
   ]
  },
  {
   "cell_type": "markdown",
   "metadata": {},
   "source": [
    "### Unhashable type error\n",
    "As with sets, if you try and use a unhashable object as a key to a dictionary you will get an error."
   ]
  },
  {
   "cell_type": "code",
   "execution_count": null,
   "metadata": {},
   "outputs": [],
   "source": [
    "# redefine city_coord_dict with lists instead of tuples\n",
    "city_coord_dict = {[29, 95]:'Houston', [29, 90]:'New Orleans'}"
   ]
  },
  {
   "cell_type": "markdown",
   "metadata": {},
   "source": [
    "### Unhashable Type!\n",
    "Dictionaries like sets are implemented using hash tables for extremely fast lookups (but larger memory requirements) and so only objects that can be hashed can be used as keys.\n",
    "\n",
    "If you are unsure if an object can be used as a key you can use the `hash` function to see if an error is raised."
   ]
  },
  {
   "cell_type": "code",
   "execution_count": null,
   "metadata": {},
   "outputs": [],
   "source": [
    "# using the hash function\n",
    "my_tuple = (5, 6)\n",
    "hash(my_tuple)"
   ]
  },
  {
   "cell_type": "code",
   "execution_count": null,
   "metadata": {},
   "outputs": [],
   "source": [
    "my_list = [5, 6]\n",
    "hash(my_list)"
   ]
  },
  {
   "cell_type": "markdown",
   "metadata": {},
   "source": [
    "### Dictionary Values can be Anything\n",
    "Dictionaries are key value pairs where the key is a hashable object. The value can be any Python object including lists or even other dictionaries.\n",
    "\n",
    "Let's say we are teachers with students that have test score grades. A dictionary is an excellent data structure to keep track of the scores. Let's manually create some data with 3 students that each have 3 test scores"
   ]
  },
  {
   "cell_type": "code",
   "execution_count": null,
   "metadata": {},
   "outputs": [],
   "source": [
    "students = {'Sally': [87, 76, 65], 'Jane' : [45, 98, 77], 'Adeline' : [65, 22, 10]}\n",
    "students"
   ]
  },
  {
   "cell_type": "markdown",
   "metadata": {},
   "source": [
    "### Selecting values of a dictionary\n",
    "The most common dictionary operation is to select one particular value from it. To do this we place the key inside of the brackets. The associated value is returned.\n",
    "\n",
    "Let's select some values with their associated key from a few dictionaries."
   ]
  },
  {
   "cell_type": "code",
   "execution_count": null,
   "metadata": {},
   "outputs": [],
   "source": [
    "# redefine some dictionaries from above\n",
    "letter_dict = {'a': 1, 'b': 2, 'z': 26}\n",
    "\n",
    "num_to_word_dict = {1:'one', 2:'two', 234:'two-hundred thirty four'}\n",
    "\n",
    "city_coord_dict = {(29, 95):'Houston', (29, 90):'New Orleans'}"
   ]
  },
  {
   "cell_type": "code",
   "execution_count": null,
   "metadata": {},
   "outputs": [],
   "source": [
    "# retreiving items\n",
    "letter_dict['a']"
   ]
  },
  {
   "cell_type": "code",
   "execution_count": null,
   "metadata": {},
   "outputs": [],
   "source": [
    "letter_dict['z']"
   ]
  },
  {
   "cell_type": "code",
   "execution_count": null,
   "metadata": {},
   "outputs": [],
   "source": [
    "city_coord_dict[(29, 95)]"
   ]
  },
  {
   "cell_type": "code",
   "execution_count": null,
   "metadata": {},
   "outputs": [],
   "source": [
    "num_to_word_dict[234]"
   ]
  },
  {
   "cell_type": "markdown",
   "metadata": {},
   "source": [
    "### KeyError\n",
    "If you try and select a value from your dictionary with a key that does not exist, you will get a **`KeyError`**."
   ]
  },
  {
   "cell_type": "code",
   "execution_count": null,
   "metadata": {},
   "outputs": [],
   "source": [
    "# first see what happens when a key is not in the dictionary\n",
    "letter_dict['c']"
   ]
  },
  {
   "cell_type": "markdown",
   "metadata": {},
   "source": [
    "### There is no integer location in dictionaries\n",
    "Lists and tuples are ordered sequences of objects with syntax that allows you to select elements by their integer location. Technically, as of Python 3.7, dictionaries are also ordered, but you still cannot select values by integer location.\n",
    "\n",
    "Attempting to select the first value with **`0`** like with lists is going to yield a **`KeyError`** (unless the dictionary actually has **`0`** as one of its keys)."
   ]
  },
  {
   "cell_type": "code",
   "execution_count": null,
   "metadata": {},
   "outputs": [],
   "source": [
    "num_to_word_dict[0]"
   ]
  },
  {
   "cell_type": "markdown",
   "metadata": {},
   "source": [
    "### Selecting values with the `get` dictionary method\n",
    "One of the most useful dictionary methods is **`get`**, which will attempt to find the passed key and if not in the dictionary return a default value. The first argument is the key and the second is the default value."
   ]
  },
  {
   "cell_type": "code",
   "execution_count": null,
   "metadata": {},
   "outputs": [],
   "source": [
    "letter_dict.get('a', 'not in here!')"
   ]
  },
  {
   "cell_type": "code",
   "execution_count": null,
   "metadata": {},
   "outputs": [],
   "source": [
    "letter_dict.get('c', 'not in here!')"
   ]
  },
  {
   "cell_type": "markdown",
   "metadata": {},
   "source": [
    "### Dictionary Membership Checking\n",
    "Check membership (of the key) the same way as with sets with the `in` operator. Speed is just as fast as with sets."
   ]
  },
  {
   "cell_type": "code",
   "execution_count": null,
   "metadata": {},
   "outputs": [],
   "source": [
    "# Test whether 'Tom' is a student\n",
    "'Tom' in students"
   ]
  },
  {
   "cell_type": "markdown",
   "metadata": {},
   "source": [
    "### Get just the keys and values separately\n",
    "The below methods retrieve the keys and values."
   ]
  },
  {
   "cell_type": "code",
   "execution_count": null,
   "metadata": {},
   "outputs": [],
   "source": [
    "# Get just the keys\n",
    "students.keys()"
   ]
  },
  {
   "cell_type": "code",
   "execution_count": null,
   "metadata": {},
   "outputs": [],
   "source": [
    "# get just the values\n",
    "students.values()"
   ]
  },
  {
   "cell_type": "markdown",
   "metadata": {},
   "source": [
    "### Problem 6\n",
    "\n",
    "<span style=\"color:green\">Are dictionaries mutable or immutable objects?</span>"
   ]
  },
  {
   "cell_type": "code",
   "execution_count": null,
   "metadata": {},
   "outputs": [],
   "source": [
    "# your answer here\n",
    "# Change this cell to Markdown and write your answer in text"
   ]
  },
  {
   "cell_type": "markdown",
   "metadata": {},
   "source": [
    "# Mutating Dictionaries\n",
    "Dictionaries are mutable and new key:value pairs can be added, deleted, and updated at any time after creation."
   ]
  },
  {
   "cell_type": "code",
   "execution_count": null,
   "metadata": {},
   "outputs": [],
   "source": [
    "# Define a dictionary\n",
    "students = {'Sally': [87, 76, 65], 'Jane' : [45, 98, 77], 'Adeline' : [65, 22, 10]}"
   ]
  },
  {
   "cell_type": "code",
   "execution_count": null,
   "metadata": {},
   "outputs": [],
   "source": [
    "# add a new student key:value pair\n",
    "students['Penelope'] = [100, 98, 90]\n",
    "\n",
    "students"
   ]
  },
  {
   "cell_type": "code",
   "execution_count": null,
   "metadata": {},
   "outputs": [],
   "source": [
    "# delete a student\n",
    "del students['Sally']\n",
    "\n",
    "students"
   ]
  },
  {
   "cell_type": "code",
   "execution_count": null,
   "metadata": {},
   "outputs": [],
   "source": [
    "# Change all of the scores of a single student\n",
    "students['Adeline'] = [87, 56, 88]\n",
    "\n",
    "students"
   ]
  },
  {
   "cell_type": "code",
   "execution_count": null,
   "metadata": {},
   "outputs": [],
   "source": [
    "# change a single test score of a student\n",
    "students['Penelope'][2] = 99\n",
    "students"
   ]
  },
  {
   "cell_type": "code",
   "execution_count": null,
   "metadata": {},
   "outputs": [],
   "source": [
    "# add a key:value pair of completely different type\n",
    "students[0] = 'zero'\n",
    "\n",
    "students"
   ]
  },
  {
   "cell_type": "markdown",
   "metadata": {},
   "source": [
    "### Problem 7\n",
    "\n",
    "<span style=\"color:green\">Write a function that emulates the `get` dictionary method. The function will consist of three arguments: the dictionary, the key to lookup and the default value to return if the key is not in the dictionary. Test your function with the provided code.</span>"
   ]
  },
  {
   "cell_type": "code",
   "execution_count": null,
   "metadata": {},
   "outputs": [],
   "source": [
    "def dict_get(dictionary, key, default):\n",
    "    # your code here"
   ]
  },
  {
   "cell_type": "code",
   "execution_count": null,
   "metadata": {},
   "outputs": [],
   "source": [
    "# test code \n",
    "test_dict = {'Sally': [87, 76, 65], 'Jane' : [45, 98, 77], 'Adeline' : [65, 22, 10]}\n",
    "key = 'jane'\n",
    "default = [0, 0, 0]\n",
    "\n",
    "print(dict_get(test_dict, key, default))\n",
    "\n",
    "key = 'Jane'\n",
    "print(dict_get(test_dict, key, default))"
   ]
  },
  {
   "cell_type": "markdown",
   "metadata": {},
   "source": [
    "### Problem 8\n",
    "\n",
    "<span style=\"color:green\">Create a function that accepts two parameters, a dictionary, and a string. If that string is in the dictionary, increment the value by 1. If not, create a new record in the dictionary with the string as a key and 0 as its value. Test your function with provided code.</span>"
   ]
  },
  {
   "cell_type": "code",
   "execution_count": null,
   "metadata": {},
   "outputs": [],
   "source": [
    "def add_to_dict(dictionary, key):\n",
    "    # your code here"
   ]
  },
  {
   "cell_type": "code",
   "execution_count": null,
   "metadata": {},
   "outputs": [],
   "source": [
    "# test code\n",
    "test_dict = {'Houston': 1, 'New Orleans':2}\n",
    "\n",
    "add_to_dict(test_dict, 'New York')\n",
    "\n",
    "add_to_dict(test_dict, 'New Orleans')\n",
    "\n",
    "test_dict"
   ]
  },
  {
   "cell_type": "markdown",
   "metadata": {},
   "source": [
    "The above problem is a manual implementation of a Python type called a **default dictionary**. Check the [collections module](https://docs.python.org/3/library/collections.html) for more info."
   ]
  },
  {
   "cell_type": "markdown",
   "metadata": {},
   "source": [
    "# Iterate through dictionaries\n",
    "One of the most common operations on a dictionary is to loop (iterate) through each key, value pair. There are multiple ways to iterate through dictionaries. You can iterate through just the keys, just the values, and both the keys and the values simultaneously.\n",
    "\n",
    "Our first example will loop through only the keys. The **`for`** loop is written exactly how it is with a list or a tuple. The values are not accessible in this manner."
   ]
  },
  {
   "cell_type": "code",
   "execution_count": null,
   "metadata": {},
   "outputs": [],
   "source": [
    "# redefine dictionary\n",
    "test_dict = {'Sally': [87, 76, 65], 'Jane' : [45, 98, 77], 'Adeline' : [65, 22, 10]}\n",
    "\n",
    "for key in test_dict:\n",
    "    print(key)"
   ]
  },
  {
   "cell_type": "markdown",
   "metadata": {},
   "source": [
    "### Looping through key value pairs\n",
    "The above example is the default iteration that Python provides for dictionary. You are only given access to the **`key`**. To get access to both the key and the value we must use the **`items`** method like this:"
   ]
  },
  {
   "cell_type": "code",
   "execution_count": null,
   "metadata": {},
   "outputs": [],
   "source": [
    "for key, value in test_dict.items():\n",
    "    print(key)\n",
    "    print(value)"
   ]
  },
  {
   "cell_type": "markdown",
   "metadata": {},
   "source": [
    "### Looping to find the average score\n",
    "We can use the above example to find the average score for each student. \n",
    "\n",
    "In the below example, the variable **`student`** is assigned to the key and **`scores`** is assigned to the value (a list in this case). Remember that the loop variables can be any name of your choice."
   ]
  },
  {
   "cell_type": "code",
   "execution_count": null,
   "metadata": {},
   "outputs": [],
   "source": [
    "# define students again with test scores\n",
    "students = {'Sally': [87, 76, 65], 'Jane' : [45, 98, 77], 'Adeline' : [65, 22, 10]}\n",
    "\n",
    "for student, scores in students.items():\n",
    "    avg_score = sum(scores) / len(scores)\n",
    "    print(\"{}'s average score is {}\".format(student, avg_score))"
   ]
  },
  {
   "cell_type": "markdown",
   "metadata": {},
   "source": [
    "# Dictionary Comprehensions\n",
    "Just like list comprehensions it is possible to create dictionary comprehensions - and set and tuple comprehensions as well. A dictionary comprehension will loop through a sequence and create a key:value pair for each iteration.\n",
    "\n",
    "Let's see a simple example where we create a dictionary that maps integers to their squared value. Notice the similarities between it and a list comprehension. The difference being the key and value separated by a colon and the enclosing braces instead of parentheses."
   ]
  },
  {
   "cell_type": "code",
   "execution_count": null,
   "metadata": {},
   "outputs": [],
   "source": [
    "{i: i ** 2 for i in range(10)}"
   ]
  },
  {
   "cell_type": "markdown",
   "metadata": {},
   "source": [
    "#### Rewriting as a normal `for` loop\n",
    "To help understand the above, we can replicate it with a normal `for` loop:"
   ]
  },
  {
   "cell_type": "code",
   "execution_count": null,
   "metadata": {},
   "outputs": [],
   "source": [
    "squares = {} # this is an empty dictionary and NOT a set\n",
    "\n",
    "for i in range(10):\n",
    "    squares[i] = i ** 2\n",
    "    \n",
    "squares"
   ]
  },
  {
   "cell_type": "markdown",
   "metadata": {},
   "source": [
    "### Max Student Score\n",
    "Dictionary comprehensions like their list counterparts do not add any extra functionality to the language. They are merely syntactic sugar to make syntax more readable, easier, and more fun.\n",
    "\n",
    "Let's make another dictionary comprehension where we iterate through both keys and values of another dictionary. Here we will be finding the max score per student."
   ]
  },
  {
   "cell_type": "code",
   "execution_count": null,
   "metadata": {},
   "outputs": [],
   "source": [
    "# Remember to use .items\n",
    "# make a dictionary that has the student name as the key and max test score as the value\n",
    "{student: max(scores) for student, scores in students.items()}"
   ]
  },
  {
   "cell_type": "markdown",
   "metadata": {},
   "source": [
    "### Letters mapped to Unicode code point\n",
    "The **`ord`** built-in function returns the unicode code point as an integer of a single character string. The following dictionary comprehension maps letters of a string to their unicode code point."
   ]
  },
  {
   "cell_type": "code",
   "execution_count": null,
   "metadata": {},
   "outputs": [],
   "source": [
    "phrase = 'a phrase that contains vowels and consonants'\n",
    "{letter: ord(letter) for letter in phrase}"
   ]
  },
  {
   "cell_type": "markdown",
   "metadata": {},
   "source": [
    "### Problem 9\n",
    "\n",
    "<span style=\"color:green\">Create a dictionary through a dictionary comp that gets the average score for each student</span>"
   ]
  },
  {
   "cell_type": "code",
   "execution_count": null,
   "metadata": {},
   "outputs": [],
   "source": [
    "# your code here"
   ]
  },
  {
   "cell_type": "markdown",
   "metadata": {},
   "source": [
    "### Problem 10\n",
    "\n",
    "<span style=\"color:green\">Create a dictionary through a dictionary comp that has the student name as the key and the minimum grade as value but for only students that have an 'e' in their name.</span>"
   ]
  },
  {
   "cell_type": "code",
   "execution_count": null,
   "metadata": {},
   "outputs": [],
   "source": [
    "# your code here"
   ]
  },
  {
   "cell_type": "markdown",
   "metadata": {},
   "source": [
    "### Problem 11\n",
    "\n",
    "<span style=\"color:green\">Use a dictionary comp that loops through the numbers 0 to 10 and uses the integer as the key and a list with its squared and cubed value as its value.</span>"
   ]
  },
  {
   "cell_type": "code",
   "execution_count": null,
   "metadata": {},
   "outputs": [],
   "source": [
    "# your code here"
   ]
  },
  {
   "cell_type": "markdown",
   "metadata": {},
   "source": [
    "### Problem 12: Advanced\n",
    "\n",
    "<span style=\"color:green\">Iterate through each student and drop their lowest test grade. Replace it with 100.</span>"
   ]
  },
  {
   "cell_type": "code",
   "execution_count": null,
   "metadata": {},
   "outputs": [],
   "source": [
    "# your code here"
   ]
  },
  {
   "cell_type": "markdown",
   "metadata": {},
   "source": [
    "# Congrats on finishing notebook 7!\n",
    "Move on to notebook 8! The pre-course is mandatory so make sure you finish it all!"
   ]
  }
 ],
 "metadata": {
  "anaconda-cloud": {},
  "kernelspec": {
   "display_name": "Python 3",
   "language": "python",
   "name": "python3"
  },
  "language_info": {
   "codemirror_mode": {
    "name": "ipython",
    "version": 3
   },
   "file_extension": ".py",
   "mimetype": "text/x-python",
   "name": "python",
   "nbconvert_exporter": "python",
   "pygments_lexer": "ipython3",
   "version": "3.6.4"
  }
 },
 "nbformat": 4,
 "nbformat_minor": 1
}
