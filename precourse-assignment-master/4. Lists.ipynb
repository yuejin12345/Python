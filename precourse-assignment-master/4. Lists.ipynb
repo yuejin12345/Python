{
 "cells": [
  {
   "cell_type": "markdown",
   "metadata": {},
   "source": [
    "# Lists\n",
    "\n",
    "## Objectives\n",
    "By the end of this notebook, you should know:\n",
    "\n",
    "* How to declare a list\n",
    "* How to access one or more elements\n",
    "* How to use slice notation\n",
    "* That lists are mutable\n",
    "* That multiple variables can refer to the same list object\n",
    "* Variables really are references to objects\n",
    "* The difference between dynamically and statically typed languages\n",
    "* How to find list methods\n",
    "* What happens when a list is mutated in place\n",
    "* That some methods return **`None`**\n",
    "* How to check if an object is **`None`**\n",
    "* How to create lists from the **`range`** function\n",
    "* How to append, extend, and concatenate lists\n",
    "* How to delete elements from a list\n",
    "* How to check if an element is contained within a list\n",
    "\n",
    "\n",
    "One of Python's most powerful built-in types is the **`list`**. In generic programming terminology, lists are considered [data structures][1], or more simply put, a collection of data. Lists are very versatile, capable of many tasks, are very popular, and something you will use frequently when writing Python. Even crude data exploration and matrix algebra can be done using lists. \n",
    "\n",
    "Lists are mutable sequences of objects. Anything can go inside lists, even other lists. Lists are declared by the brackets **`[ ]`** operator followed by comma separated values.\n",
    "\n",
    "Let's declare a list with some integer, string, and float objects.\n",
    "\n",
    "[1]: https://en.wikipedia.org/wiki/Data_structure"
   ]
  },
  {
   "cell_type": "code",
   "execution_count": null,
   "metadata": {},
   "outputs": [],
   "source": [
    "# a list object with integers, strings and floats. Each element is separated by a comma\n",
    "my_list = [1, 2, 3, 4, 'one', 'two', 4.9]\n",
    "\n",
    "my_list"
   ]
  },
  {
   "cell_type": "markdown",
   "metadata": {},
   "source": [
    "## Lists may contain heterogeneous data\n",
    "Each **element** of the list is an object and all elements in the list need not be of the same type. Absolutely any object can be placed inside of a list.\n",
    "\n",
    "## Accessing list elements\n",
    "Each element of a list is accessed with the index operator, **`[ ]`**, in the same manner as strings. Lists are indexed beginning at 0.\n",
    "\n",
    "Let's access the element at index 2 from the **`my_list`** variable."
   ]
  },
  {
   "cell_type": "code",
   "execution_count": null,
   "metadata": {},
   "outputs": [],
   "source": [
    "my_list[2]"
   ]
  },
  {
   "cell_type": "markdown",
   "metadata": {},
   "source": [
    "## Mutating Lists\n",
    "Lists are objects that are mutable, meaning that their value may be changed after creation. Each element in the list can be changed and new elements can be added and other elements can be deleted. This is in contrast to strings where no character can be modified, added, or deleted.\n",
    "\n",
    "Let's change the element at index 3 to **`changed`**."
   ]
  },
  {
   "cell_type": "code",
   "execution_count": null,
   "metadata": {},
   "outputs": [],
   "source": [
    "# Change the 4th element of the list to 'changed'\n",
    "print(my_list)\n",
    "my_list[3] = 'changed'\n",
    "my_list"
   ]
  },
  {
   "cell_type": "markdown",
   "metadata": {},
   "source": [
    "## Unexpected behavior with mutable objects\n",
    "\n",
    "When assigning one mutable object to multiple different variables, a huge surprise awaits the novice programmer. Let's uncover this surprise by declaring a list and assigning it to variable **`list_1`** and then assigning that variable to **`list_2`**. We will then change the first element from **`list_1`** and print out both lists."
   ]
  },
  {
   "cell_type": "code",
   "execution_count": null,
   "metadata": {},
   "outputs": [],
   "source": [
    "# create a list\n",
    "list_1 = [1, 5, 10]\n",
    "\n",
    "# assign list_1 to list_2\n",
    "list_2 = list_1\n",
    "\n",
    "# mutate one of the lists\n",
    "list_1[0] = 1000\n",
    "\n",
    "# print out the lists\n",
    "print(list_1)\n",
    "print(list_2) # Unexpected behavior. list_2 was also mutated!"
   ]
  },
  {
   "cell_type": "markdown",
   "metadata": {},
   "source": [
    "### More detail on the same mutable objects assigned to a different variable\n",
    "In the above code, when **`list_1`** is assigned to **`list_2`**, Python does not create a new object and does not crate a new block of memory to hold **`list_2`**. It simply makes a reference from **`list_2`** to the same list that was created when **`list_1`** was assigned. There was only a single list created above. Both **`list_1`** and **`list_2`** refer to the same object. Any modification to **`list_1`** or **`list_2`** change the underlying reference object.\n",
    "\n",
    "### Confirm that the objects are the same with `id` function\n",
    "The **`id`** function will show the unique id as an integer so that you can see if two variables are referring to the same object or not. If two variables have the same **`id`** then they refer to the same object."
   ]
  },
  {
   "cell_type": "code",
   "execution_count": null,
   "metadata": {},
   "outputs": [],
   "source": [
    "# confirm that the identity of the list_1 and list_2 variables are the same\n",
    "id(list_1), id(list_2)"
   ]
  },
  {
   "cell_type": "markdown",
   "metadata": {},
   "source": [
    "### Problem 1\n",
    "<span style=\"color:green\">Mutate `list_2` and print out both lists. Does mutating list_2 still change list_1? </span> "
   ]
  },
  {
   "cell_type": "code",
   "execution_count": null,
   "metadata": {},
   "outputs": [],
   "source": [
    "# your code here"
   ]
  },
  {
   "cell_type": "markdown",
   "metadata": {},
   "source": [
    "### Problem 2\n",
    "<span style=\"color:green\">In the following code, both `list_1` and `list_2` are defined to have the same elements. Mutate `list_1`. Does `list_2` also get mutated?</span> "
   ]
  },
  {
   "cell_type": "code",
   "execution_count": null,
   "metadata": {},
   "outputs": [],
   "source": [
    "list_1 = [1, 3, 5]\n",
    "list_2 = [1, 3, 5]\n",
    "\n",
    "# your code here"
   ]
  },
  {
   "cell_type": "markdown",
   "metadata": {},
   "source": [
    "### Creating a unique list copy\n",
    "If you are intending to create a unique new list that has the same elements of another list, you will need to use the copy method. The copy method creates a new object in memory with it's own unique address identity."
   ]
  },
  {
   "cell_type": "code",
   "execution_count": null,
   "metadata": {},
   "outputs": [],
   "source": [
    "# create a copy of a list and confirm new identity\n",
    "list_1 = [1, 5, 10]\n",
    "list_2 = list_1\n",
    "\n",
    "list_3 = list_1.copy()\n",
    "id(list_1), id(list_2), id(list_3)"
   ]
  },
  {
   "cell_type": "code",
   "execution_count": null,
   "metadata": {},
   "outputs": [],
   "source": [
    "# mutate list_3 and list_1 to further confirm unique identities\n",
    "list_3[2] = 'foo'\n",
    "list_1[2] = 'bar'\n",
    "print(list_1)\n",
    "print(list_2)\n",
    "print(list_3)"
   ]
  },
  {
   "cell_type": "markdown",
   "metadata": {},
   "source": [
    "### Technical note: Shallow vs Deep Copying\n",
    "The copy method above does a shallow copy, meaning that any mutable object *within* the list will not be copied and still refer to the same object as before. For example, when a list contains another list, the inner list will not be copied. [See here for more info](https://docs.python.org/3/library/copy.html)."
   ]
  },
  {
   "cell_type": "markdown",
   "metadata": {},
   "source": [
    "# Variables are references to objects\n",
    "As a precautionary warning, the following concept may not be easily understood, and if you don't fully understand then don't fret as it won't impact your ability to write Python.\n",
    "\n",
    "### What is a variable?\n",
    "A variable in Python isn't quite what you might expect it to be. Variables in Python are references to objects. Take the following variable assignment:\n",
    "\n",
    "```\n",
    ">>> x = 5\n",
    "```\n",
    "\n",
    "The variable **`x`** has been assigned the value of 5. Another way of saying this is that the variable **`x`** refers to the integer object 5. Formally, the official Python documentation uses the term **name** or **identifier** to make this distinction clearer as in - The **name** **`x`** refers to the integer object 5.\n",
    "\n",
    "So, the variable name itself is not technically the object, it is simply a label that references the object.\n",
    "\n",
    "### Variables can be assigned any type of object\n",
    "Because of this convention, variables can be assigned any object of any type. For instance, the following is valid Python code. **`x`** changes from an integer to a string to a list.\n",
    "\n",
    "```\n",
    ">>> x = 5\n",
    ">>> x = 'five'\n",
    ">>> x = [1, 3, 5]\n",
    "```\n",
    "\n",
    "### The `id` changes each time the variable is assigned a new object\n",
    "Each time a variable is assigned a new object, the identity will change to that specific object's location. Let's take a look by printing out the `id` after each change."
   ]
  },
  {
   "cell_type": "code",
   "execution_count": null,
   "metadata": {},
   "outputs": [],
   "source": [
    "x = 5\n",
    "print(id(x))\n",
    "\n",
    "x = 'five'\n",
    "print(id(x))\n",
    "\n",
    "x = [1, 3, 5]\n",
    "print(id(x))"
   ]
  },
  {
   "cell_type": "markdown",
   "metadata": {},
   "source": [
    "### Python is Dynamically typed\n",
    "In the above example, the variable **`x`** referred to three different types of objects. Languages that allow variables to refer to more than one type are called **dynamically typed**. **Statically typed** languages on the other hand do not allow for variables to change types after declaration. C, Java, and Fortran are examples of statically typed languages. These languages require that you declare the variable type when first created. \n",
    "\n",
    "\n",
    "### Variables as sticky notes\n",
    "In his excellent book [Fluent Python][1], Luciano Romalho suggests to think of variables in Python as **sticky notes**. Whenever a variable is assigned, you can think of the object as a permanent location in memory with a sticky note of the variable name placed on it. If the variable gets re-assigned, the sticky note gets moved to the new object address.\n",
    "\n",
    "### Final thoughts on the mutated list example\n",
    "Above, when we assigned **`list_1`** to **`list_2`**, Python created a new reference to the list object. Both the names **`list_1`** and **`list_2`** were referencing the same list.\n",
    "\n",
    "[1]: https://www.amazon.com/Fluent-Python-Concise-Effective-Programming/dp/1491946008"
   ]
  },
  {
   "cell_type": "markdown",
   "metadata": {},
   "source": [
    "-------------\n",
    "\n",
    "# Finding List Methods\n",
    "As we did with strings in the previous notebook, its important to be aware of all the possible attributes and methods available to our object. To get a comprehensive list of all the methods we can use the [official documentation][1], **`help`** or **`dir`** functions, or tab completion. I prefer tab completion as I like getting help while I am writing code.\n",
    "\n",
    "The **`dir`** method is used below on a list to output of all the methods, both private (those beginning and ending with double underscores) and public.\n",
    "\n",
    "[1]: https://docs.python.org/3/tutorial/datastructures.html#more-on-lists"
   ]
  },
  {
   "cell_type": "code",
   "execution_count": null,
   "metadata": {},
   "outputs": [],
   "source": [
    "# like we did with strings lets see all the methods that are available to lists\n",
    "my_list = [1, 2, 3, 4, 'one', 'two', 4.9]\n",
    "print(dir(my_list))"
   ]
  },
  {
   "cell_type": "markdown",
   "metadata": {},
   "source": [
    "## Experimenting with list methods\n",
    "A series of examples will follow that show some list methods. Remember that methods use the dot notation and always end in parentheses. Let's begin by appending an item to our list."
   ]
  },
  {
   "cell_type": "code",
   "execution_count": null,
   "metadata": {},
   "outputs": [],
   "source": [
    "my_list.append(22)"
   ]
  },
  {
   "cell_type": "markdown",
   "metadata": {},
   "source": [
    "### Why was there was no output?\n",
    "When a method returns no output in Python, it does *not* mean that nothing happened. Something almost always *happens*, but you might not see it immediately. In this case, the list was **mutated in place**. 22 was appended to the list with the object **`None`** being returned. Output the list to verify that the append took place."
   ]
  },
  {
   "cell_type": "code",
   "execution_count": null,
   "metadata": {},
   "outputs": [],
   "source": [
    "# See that 22 was appended\n",
    "my_list"
   ]
  },
  {
   "cell_type": "markdown",
   "metadata": {},
   "source": [
    "### What does it mean to have `None` returned?\n",
    "In Python, the **`None`** keyword is an object that represents nothing. All functions and methods are required to return an object. For instance, the **`append`** list method appends an item to the end of the list and returns nothing.\n",
    "\n",
    "Let's verify that indeed **`None`** is returned by saving the returned value to a variable."
   ]
  },
  {
   "cell_type": "code",
   "execution_count": null,
   "metadata": {},
   "outputs": [],
   "source": [
    "# append an item to a list and show that None is returned after completion of the operation\n",
    "my_new_list = [1, 2, 3]\n",
    "returned_value = my_new_list.append(5)  # This command appends 5 to my_new_list and returns None\n",
    "print(my_new_list)\n",
    "\n",
    "returned_value is None"
   ]
  },
  {
   "cell_type": "markdown",
   "metadata": {},
   "source": [
    "### Checking for `None`\n",
    "To verify that a variable references the **`None`** object we need to use the **`is`** operator like so:\n",
    "\n",
    "```\n",
    ">>> variable is None\n",
    "```\n",
    "\n",
    "This will always return either True or False"
   ]
  },
  {
   "cell_type": "markdown",
   "metadata": {},
   "source": [
    "### Operations that happen 'in-place'\n",
    "When the list above was appended to, it was referred to as happening **in-place**. When a method acts on an object **in-place**, **`None`** is usually returned. Most methods return some value but when methods return **`None`**, that is usually an indicator that the object was mutated in place. \n",
    "\n",
    "Take a look at the example below where the string method **`count`** will return the number of a particular letter in the string. Alternatively, see the append list method that returns **`None`**."
   ]
  },
  {
   "cell_type": "code",
   "execution_count": null,
   "metadata": {},
   "outputs": [],
   "source": [
    "# example of a method that returns an integer vs one that returns None but with an in-place operation\n",
    "test_string = 'i am a test string'\n",
    "test_list = [1, 2, 3]\n",
    "print(test_string.count('a'))\n",
    "print(test_list.append(4))"
   ]
  },
  {
   "cell_type": "code",
   "execution_count": null,
   "metadata": {},
   "outputs": [],
   "source": [
    "# did test_list still get the number 4 appended to it?\n",
    "# Yes! The operation completed in-place and returned None\n",
    "test_list"
   ]
  },
  {
   "cell_type": "markdown",
   "metadata": {},
   "source": [
    "### More list methods"
   ]
  },
  {
   "cell_type": "code",
   "execution_count": null,
   "metadata": {},
   "outputs": [],
   "source": [
    "# clear empties the list\n",
    "my_list.clear()\n",
    "my_list"
   ]
  },
  {
   "cell_type": "code",
   "execution_count": null,
   "metadata": {},
   "outputs": [],
   "source": [
    "# find first occurence of an item in list\n",
    "my_list = [1, 2, 3, 4, 'one', 'fifth', 'two', 4.9]\n",
    "my_list.index('one')"
   ]
  },
  {
   "cell_type": "code",
   "execution_count": null,
   "metadata": {},
   "outputs": [],
   "source": [
    "#insert item after fifth index. operation happens in-place\n",
    "my_list.insert(5, 'fifth')\n",
    "my_list"
   ]
  },
  {
   "cell_type": "code",
   "execution_count": null,
   "metadata": {},
   "outputs": [],
   "source": [
    "# reverse a list in place\n",
    "my_list.reverse()\n",
    "my_list"
   ]
  },
  {
   "cell_type": "markdown",
   "metadata": {},
   "source": [
    "### Getting the length of a list\n",
    "The length of a list is retrieved in the exact same manner as the length of a string, with the **`len`** function. The **`len`** function will work with types of objects that contain many elements of data."
   ]
  },
  {
   "cell_type": "code",
   "execution_count": null,
   "metadata": {},
   "outputs": [],
   "source": [
    "# return the number of elements in a list with the len function\n",
    "len(my_list)"
   ]
  },
  {
   "cell_type": "markdown",
   "metadata": {},
   "source": [
    "### Sorting a list\n",
    "Lists can be sorted in-place using the sort method as long the element have types that are orderable.\n",
    "\n",
    "Since `my_list` has both numeric and string types that do not have a natural ordering with respect to one another an error will be raised."
   ]
  },
  {
   "cell_type": "code",
   "execution_count": null,
   "metadata": {},
   "outputs": [],
   "source": [
    "#sort the list\n",
    "my_list.sort()"
   ]
  },
  {
   "cell_type": "markdown",
   "metadata": {},
   "source": [
    "### Lists must have objects that know how to be ordered\n",
    "Strings and numbers don't have a natural ordering so an error is produced above. A list consisting of integers and floats is orderable. See the following example:"
   ]
  },
  {
   "cell_type": "code",
   "execution_count": null,
   "metadata": {},
   "outputs": [],
   "source": [
    "# sortable list\n",
    "sortable_list = [8, 12, 90.8, -87, 0]\n",
    "sortable_list.sort() # operation happens in place so"
   ]
  },
  {
   "cell_type": "code",
   "execution_count": null,
   "metadata": {},
   "outputs": [],
   "source": [
    "# The sort method happens in place and None is returned so there is no output\n",
    "# We must use a separate line to output the updated list\n",
    "sortable_list"
   ]
  },
  {
   "cell_type": "markdown",
   "metadata": {},
   "source": [
    "### Problem 3\n",
    "<span style=\"color:green\">Does the `id` of a list change after it is ordered? Use an example to determine the outcome.</span> "
   ]
  },
  {
   "cell_type": "code",
   "execution_count": null,
   "metadata": {},
   "outputs": [],
   "source": [
    "# your code here"
   ]
  },
  {
   "cell_type": "markdown",
   "metadata": {},
   "source": [
    "# Selecting items from lists\n",
    "Selecting individual items from a list happens in the same exact manner as it does with strings. The index of the desired element is placed within the square brackets. Notice that after selection individual elements are no longer inside of a list but just the object themselves."
   ]
  },
  {
   "cell_type": "code",
   "execution_count": null,
   "metadata": {},
   "outputs": [],
   "source": [
    "# Select the first item\n",
    "my_list = [1, 2, 3, 4, 'one', 'two', 4.9]\n",
    "my_list[0]"
   ]
  },
  {
   "cell_type": "code",
   "execution_count": null,
   "metadata": {},
   "outputs": [],
   "source": [
    "# Select the last item\n",
    "my_list[-1]"
   ]
  },
  {
   "cell_type": "markdown",
   "metadata": {},
   "source": [
    "# Selecting a subset of the list with slice notation\n",
    "Slice notation also works the same with lists as it does with strings. When slicing, even if it is a one element slice, will always return a new list."
   ]
  },
  {
   "cell_type": "code",
   "execution_count": null,
   "metadata": {},
   "outputs": [],
   "source": [
    "# from the start up to but not including index 3\n",
    "my_list[:3]"
   ]
  },
  {
   "cell_type": "code",
   "execution_count": null,
   "metadata": {},
   "outputs": [],
   "source": [
    "# from index 3 to the end\n",
    "my_list[3:]"
   ]
  },
  {
   "cell_type": "markdown",
   "metadata": {},
   "source": [
    "### Start : Stop : Step\n",
    "List slicing uses the exact same slicing form as strings. If the start index is not included, it is defaulted to the first element. If the stop index is not included, it is defaulted to stop at the last element. If the step size is not included it is defaulted to 1. \n",
    "\n",
    "If the stop index is included, the list is sliced up to but does not include the stop index element.\n",
    "\n",
    "See the many slicing examples below:"
   ]
  },
  {
   "cell_type": "code",
   "execution_count": null,
   "metadata": {},
   "outputs": [],
   "source": [
    "# lets first output my_list\n",
    "my_list"
   ]
  },
  {
   "cell_type": "code",
   "execution_count": null,
   "metadata": {},
   "outputs": [],
   "source": [
    "# slice from index 1 to index 5 with step size of 2\n",
    "my_list[1:5:2]"
   ]
  },
  {
   "cell_type": "code",
   "execution_count": null,
   "metadata": {},
   "outputs": [],
   "source": [
    "# Slice from index 2 up to but not including the second to last element\n",
    "my_list[2:-2]"
   ]
  },
  {
   "cell_type": "code",
   "execution_count": null,
   "metadata": {},
   "outputs": [],
   "source": [
    "# slice with defaul start, stop and step. Looks strange but is legal\n",
    "my_list[::]"
   ]
  },
  {
   "cell_type": "code",
   "execution_count": null,
   "metadata": {},
   "outputs": [],
   "source": [
    "# Same thing as above\n",
    "my_list[:]"
   ]
  },
  {
   "cell_type": "markdown",
   "metadata": {},
   "source": [
    "### Negative Step Size\n",
    "Occasionally, you might want to slice from a higher index down to a lower index. To do this, use a negative step size and put the higher index first."
   ]
  },
  {
   "cell_type": "code",
   "execution_count": null,
   "metadata": {},
   "outputs": [],
   "source": [
    "# This example does not work correctly and returns an empty list. Must have higher index first\n",
    "# An empty list is returned\n",
    "my_list[1:4:-1] "
   ]
  },
  {
   "cell_type": "code",
   "execution_count": null,
   "metadata": {},
   "outputs": [],
   "source": [
    "# correctly slice from high to low with negative step size\n",
    "my_list[4:1:-1]"
   ]
  },
  {
   "cell_type": "code",
   "execution_count": null,
   "metadata": {},
   "outputs": [],
   "source": [
    "# reverse a list. This is non-intuitive but a very pythonic way of reversing a list\n",
    "my_list[::-1]"
   ]
  },
  {
   "cell_type": "markdown",
   "metadata": {},
   "source": [
    "### Negative Start and Stop indexes\n",
    "All three list slice numbers can be negative. Negative numbers for start and stop are equal to the index beginning from the end of the list. So `my_list[-4]` represents the 4th element from the end.\n",
    "\n",
    "Although negative numbers work, it's best to use positive numbers when possible as they are more readable and less error prone."
   ]
  },
  {
   "cell_type": "code",
   "execution_count": null,
   "metadata": {},
   "outputs": [],
   "source": [
    "# Slice from the 4th element from the end up to but not including the last element\n",
    "my_list[-4:-1]"
   ]
  },
  {
   "cell_type": "markdown",
   "metadata": {},
   "source": [
    "# The Range Function\n",
    "**`range`** is a function that can be used to create a sequence of numbers using the same start, stop, step style of list and string slicing we have already seen. Range is different in that it doesn't actually create the sequence of numbers in your computer's memory when its first called. It 'lazily' evaluates, meaning it only generates the next number in the sequence when demanded. Get [more information on the range function](http://stackoverflow.com/questions/13092267/if-range-is-a-generator-in-python-3-3-why-can-i-not-call-next-on-a-range).\n",
    "\n",
    "This is very similar to what a generator does. Generators are a more advanced topic [that can be read about here](http://stackoverflow.com/questions/1756096/understanding-generators-in-python). \n",
    "\n",
    "Ranges can be converted to lists with the **`list`** function, otherwise they remain as **`range`** objects."
   ]
  },
  {
   "cell_type": "code",
   "execution_count": null,
   "metadata": {},
   "outputs": [],
   "source": [
    "# Some examples of creating lists with the range function\n",
    "# use start, stop, step as the arguments and wrap list around range\n",
    "list(range(5, 10)) # step size defaults to 1"
   ]
  },
  {
   "cell_type": "code",
   "execution_count": null,
   "metadata": {},
   "outputs": [],
   "source": [
    "# Start from 0 up to but not including the given argument\n",
    "list(range(10)) # start is defaulted to 0 if not given"
   ]
  },
  {
   "cell_type": "code",
   "execution_count": null,
   "metadata": {},
   "outputs": [],
   "source": [
    "# start from 300 go to 1000 by 50\n",
    "list(range(300, 1000, 50))"
   ]
  },
  {
   "cell_type": "code",
   "execution_count": null,
   "metadata": {},
   "outputs": [],
   "source": [
    "# start from 800 go to 512 by -88\n",
    "list(range(800, 512, -88))"
   ]
  },
  {
   "cell_type": "code",
   "execution_count": null,
   "metadata": {},
   "outputs": [],
   "source": [
    "# stays a range object\n",
    "# almost no evaluation happens\n",
    "a = range(3, 20, 4)\n",
    "a"
   ]
  },
  {
   "cell_type": "code",
   "execution_count": null,
   "metadata": {},
   "outputs": [],
   "source": [
    "type(a)"
   ]
  },
  {
   "cell_type": "code",
   "execution_count": null,
   "metadata": {},
   "outputs": [],
   "source": [
    "# convert variable a to a list\n",
    "list(a)"
   ]
  },
  {
   "cell_type": "markdown",
   "metadata": {},
   "source": [
    "# Re-assigning elements in a list\n",
    "Lists are mutable, which means that every element in the list can be changed.\n",
    "\n",
    "Let's re-assign the first element of the following list to 99."
   ]
  },
  {
   "cell_type": "code",
   "execution_count": null,
   "metadata": {},
   "outputs": [],
   "source": [
    "my_list = [1, 2, 3, 4, 'one', 'two', 4.9]\n",
    "my_list[0] = 99"
   ]
  },
  {
   "cell_type": "markdown",
   "metadata": {},
   "source": [
    "### No output with assignment statement\n",
    "The assignment statement above produces no output. It merely changes the first element to 99. Let's output the list to verify the change:"
   ]
  },
  {
   "cell_type": "code",
   "execution_count": null,
   "metadata": {},
   "outputs": [],
   "source": [
    "my_list"
   ]
  },
  {
   "cell_type": "markdown",
   "metadata": {},
   "source": [
    "## Mutating Slices of lists\n",
    "It's possible to reassign multiple elements of a list with a single element. To do so, you must assign the slice to another list with a single element in it.\n",
    "\n",
    "The following creates a list of 20 integers and replaces the last half with a single element."
   ]
  },
  {
   "cell_type": "code",
   "execution_count": null,
   "metadata": {},
   "outputs": [],
   "source": [
    "# Lets first create a list of numbers from 0 to 20\n",
    "my_list = list(range(20))\n",
    "my_list"
   ]
  },
  {
   "cell_type": "code",
   "execution_count": null,
   "metadata": {},
   "outputs": [],
   "source": [
    "# Replace the list from index 10 to the end with a single element\n",
    "my_list[10:] = ['new last element']\n",
    "my_list"
   ]
  },
  {
   "cell_type": "markdown",
   "metadata": {},
   "source": [
    "### Problem 4\n",
    "<span style=\"color:green\">Create a list of 10 elements starting from 0 using the range function. Slice the list from the 2nd element to the 6th element with a step size of 2 and attempt to assign a single element list to it. What happens?</span> "
   ]
  },
  {
   "cell_type": "code",
   "execution_count": null,
   "metadata": {},
   "outputs": [],
   "source": [
    "# your code here"
   ]
  },
  {
   "cell_type": "markdown",
   "metadata": {},
   "source": [
    "### Problem 5\n",
    "<span style=\"color:green\">After the error above in problem 4, try and assign a different list to that slice that does not raise an error. What is the rule for assigning new elements to slices of lists?</span> "
   ]
  },
  {
   "cell_type": "code",
   "execution_count": null,
   "metadata": {},
   "outputs": [],
   "source": [
    "# your code here"
   ]
  },
  {
   "cell_type": "markdown",
   "metadata": {},
   "source": [
    "### Problem 6\n",
    "<span style=\"color:green\">Create a list using the `range` function from 100 to 500. Use the **`slice`** function to create a slice object that starts from the 20th element from the end and slices to the end (use keyword `None` for this) by 5. Slice your list with this object.</span> "
   ]
  },
  {
   "cell_type": "code",
   "execution_count": null,
   "metadata": {},
   "outputs": [],
   "source": [
    "# your code here"
   ]
  },
  {
   "cell_type": "markdown",
   "metadata": {},
   "source": [
    "# Deleting with the `del` statement\n",
    "In Python it's possible to delete variables and completely remove them from the program."
   ]
  },
  {
   "cell_type": "code",
   "execution_count": null,
   "metadata": {},
   "outputs": [],
   "source": [
    "# create a variable and then delete it\n",
    "var = 'some variable'\n",
    "del var"
   ]
  },
  {
   "cell_type": "code",
   "execution_count": null,
   "metadata": {},
   "outputs": [],
   "source": [
    "# now try and access that variable and get an error\n",
    "var"
   ]
  },
  {
   "cell_type": "markdown",
   "metadata": {},
   "source": [
    "# Deleting elements in a list\n",
    "More useful than just deleting a variable is the ability to delete elements of a list, or different subsets of mutable objects.\n",
    "\n",
    "It is possible to delete single elements and even slices of lists so this operation is quite versatile. Let's see some examples of the **`del`** statement with lists."
   ]
  },
  {
   "cell_type": "code",
   "execution_count": null,
   "metadata": {},
   "outputs": [],
   "source": [
    "# create a list\n",
    "my_list = list(range(20))\n",
    "my_list"
   ]
  },
  {
   "cell_type": "code",
   "execution_count": null,
   "metadata": {},
   "outputs": [],
   "source": [
    "# delete the element at the 8th index\n",
    "del my_list[8]\n",
    "my_list"
   ]
  },
  {
   "cell_type": "code",
   "execution_count": null,
   "metadata": {},
   "outputs": [],
   "source": [
    "# delete a slice from the 4th to the 12th element\n",
    "del my_list[4:12]\n",
    "my_list"
   ]
  },
  {
   "cell_type": "code",
   "execution_count": null,
   "metadata": {},
   "outputs": [],
   "source": [
    "# delete from the 3rd to the last element with a step size of 3\n",
    "my_list = list(range(20))\n",
    "del my_list[3::3]\n",
    "my_list"
   ]
  },
  {
   "cell_type": "markdown",
   "metadata": {},
   "source": [
    "### Creating a list out a string\n",
    "The built-in **`list`** keyword can act like a function that forces objects of other types to become a list. One use of this is to convert a string to a list. Every character in the string is now an element in the list."
   ]
  },
  {
   "cell_type": "code",
   "execution_count": null,
   "metadata": {},
   "outputs": [],
   "source": [
    "# create a list of characters from a string\n",
    "my_string = 'string about to be a list'\n",
    "print(list(my_string))"
   ]
  },
  {
   "cell_type": "markdown",
   "metadata": {},
   "source": [
    "### Problem 7\n",
    "<span style=\"color:green\">Create a list of characters using the list function on a string. Delete elements starting from index 2 up to index 6. Output the new list.\n",
    "</span> "
   ]
  },
  {
   "cell_type": "code",
   "execution_count": null,
   "metadata": {},
   "outputs": [],
   "source": [
    "# your code here"
   ]
  },
  {
   "cell_type": "markdown",
   "metadata": {},
   "source": [
    "### Advanced: Problem 8\n",
    "<span style=\"color:green\">Create a list using the range function from 352 to 5218 by 7. Delete elements starting from the index that is 100th from the end up to the 8th element from the end by 6. Without printing out the entire list, what is the last number that was deleted from your original list? \n",
    "</span> "
   ]
  },
  {
   "cell_type": "code",
   "execution_count": null,
   "metadata": {},
   "outputs": [],
   "source": [
    "# your code here"
   ]
  },
  {
   "cell_type": "markdown",
   "metadata": {},
   "source": [
    "### Creating a string from a list\n",
    "Just like we created a list from a string, it is possible to create a string from a list. First, you must have a list of strings that you would like to concatenate together to make one long string. Then, you need to create a string that will be used as a **separator** in between each element in the list. Finally, call the **`join`** method from the separator passing the list of strings as the argument."
   ]
  },
  {
   "cell_type": "code",
   "execution_count": null,
   "metadata": {},
   "outputs": [],
   "source": [
    "# Create a list of strings\n",
    "list_of_strings = ['humpty', 'dumpty', 'sat', 'on', 'a', 'wall']\n",
    "\n",
    "# choose a string that will act as the separator between each string element\n",
    "# lets just use a blank space\n",
    "separator = ' '\n",
    "\n",
    "# use the join string method to create one string from the list of strings\n",
    "separator.join(list_of_strings)"
   ]
  },
  {
   "cell_type": "code",
   "execution_count": null,
   "metadata": {},
   "outputs": [],
   "source": [
    "# do the same thing without assigning the separator variable first\n",
    "' '.join(list_of_strings)"
   ]
  },
  {
   "cell_type": "code",
   "execution_count": null,
   "metadata": {},
   "outputs": [],
   "source": [
    "# use any other set of characters as the separator\n",
    "' 001111000 '.join(list_of_strings)"
   ]
  },
  {
   "cell_type": "markdown",
   "metadata": {},
   "source": [
    "### Problem 9\n",
    "<span style=\"color:green\">Use the character 'a' to separate and join the following list to reveal the magic word </span>"
   ]
  },
  {
   "cell_type": "code",
   "execution_count": null,
   "metadata": {},
   "outputs": [],
   "source": [
    "# concatenate all elements of this list together separated by 'a'\n",
    "magic_word = ['', 'b', 'r', 'c', 'd', 'b', 'r', '!']\n",
    "\n",
    "# your code here"
   ]
  },
  {
   "cell_type": "markdown",
   "metadata": {},
   "source": [
    "# List Concatenation\n",
    "There are two ways to concatenate two lists together.\n",
    "* Use the plus operator\n",
    "* Use the **`extend`** method\n",
    "\n",
    "The plus operator produces a new list object, while extend mutates the **calling list** in-place. The calling list is the one that is invoking the method, the one using dot notation.\n",
    "\n",
    "### Concatenation of multiple lists with the plus operator\n",
    "See the below examples of concatenation with the plus operator. Notice how the original lists are not mutated."
   ]
  },
  {
   "cell_type": "code",
   "execution_count": null,
   "metadata": {},
   "outputs": [],
   "source": [
    "list_1 = [1,2,3]\n",
    "list_2 = [4, 5, 6]\n",
    "list_1 + list_2"
   ]
  },
  {
   "cell_type": "code",
   "execution_count": null,
   "metadata": {},
   "outputs": [],
   "source": [
    "list_1"
   ]
  },
  {
   "cell_type": "code",
   "execution_count": null,
   "metadata": {},
   "outputs": [],
   "source": [
    "list_2"
   ]
  },
  {
   "cell_type": "code",
   "execution_count": null,
   "metadata": {},
   "outputs": [],
   "source": [
    "# add lists without first assigning to a variable\n",
    "[4, 5, 6] + [1, 2, 3]"
   ]
  },
  {
   "cell_type": "code",
   "execution_count": null,
   "metadata": {},
   "outputs": [],
   "source": [
    "# you can add any number of lists together\n",
    "[1, 4, 5] + [10] + ['a', 'b', 'c'] + [True, [1, 2, 3]]"
   ]
  },
  {
   "cell_type": "code",
   "execution_count": null,
   "metadata": {},
   "outputs": [],
   "source": [
    "# save the new list to a variable to reuse it later\n",
    "new_list = [1, 4, 5] + [10] + ['a', 'b', 'c'] + [True, [1, 2, 3]]\n",
    "new_list"
   ]
  },
  {
   "cell_type": "markdown",
   "metadata": {},
   "source": [
    "### Use the `extend` method to mutate the calling list in place\n",
    "Notice that you must pass a list (or a list-like object) to the **`extend`** method"
   ]
  },
  {
   "cell_type": "code",
   "execution_count": null,
   "metadata": {},
   "outputs": [],
   "source": [
    "# there is also the extend method, which concatenates lists in-place\n",
    "list_1 = ['a', 'b', 'c']\n",
    "list_2 = [99, 100]\n",
    "list_1.extend(list_2) # Returns None (no output) and the operation happens in-place"
   ]
  },
  {
   "cell_type": "code",
   "execution_count": null,
   "metadata": {},
   "outputs": [],
   "source": [
    "# output the list to see extend worked properly\n",
    "list_1"
   ]
  },
  {
   "cell_type": "code",
   "execution_count": null,
   "metadata": {},
   "outputs": [],
   "source": [
    "# the second list is unmodified\n",
    "list_2"
   ]
  },
  {
   "cell_type": "code",
   "execution_count": null,
   "metadata": {},
   "outputs": [],
   "source": [
    "# extend with a new list that is not assigned to a variable\n",
    "list_1 = [1, 2]\n",
    "list_1.extend(['end'])\n",
    "\n",
    "list_1"
   ]
  },
  {
   "cell_type": "markdown",
   "metadata": {},
   "source": [
    "### Attempting to extend with a single value\n",
    "If you attempt to extend the list with a single integer, float, string, or other "
   ]
  },
  {
   "cell_type": "code",
   "execution_count": null,
   "metadata": {},
   "outputs": [],
   "source": [
    "list_1 = [1, 2]\n",
    "\n",
    "list_1.extend(10)\n",
    "list_1"
   ]
  },
  {
   "cell_type": "markdown",
   "metadata": {},
   "source": [
    "### What is an iterable?\n",
    "This definition is beyond the scope of this notebook so you can ignore it for now but in simple terms an iterable is any object where you can move through a sequence of items. Strings, tuples, lists, sets, and dictionaries are common iterable objects."
   ]
  },
  {
   "cell_type": "markdown",
   "metadata": {},
   "source": [
    "### Extending a list with a string\n",
    "The last paragraph mentions strings as iterable. It is possible to iterate one by one through the sequence of characters. So what happens when you extend a list with a string?"
   ]
  },
  {
   "cell_type": "code",
   "execution_count": null,
   "metadata": {},
   "outputs": [],
   "source": [
    "# lets find out!\n",
    "list_1 = [1, 2]\n",
    "list_1.extend('abcdef')\n",
    "list_1"
   ]
  },
  {
   "cell_type": "markdown",
   "metadata": {},
   "source": [
    "# List Equality\n",
    "Two equal signs (**`==`**) can be used to test equality of lists. For two lists to be equal, each element must equal to its corresponding element in the other list."
   ]
  },
  {
   "cell_type": "code",
   "execution_count": null,
   "metadata": {},
   "outputs": [],
   "source": [
    "# checking equality\n",
    "list_1 = list(range(5))\n",
    "list_2 = [0, 1, 2, 3, 4]\n",
    "list_1 == list_2"
   ]
  },
  {
   "cell_type": "code",
   "execution_count": null,
   "metadata": {},
   "outputs": [],
   "source": [
    "# slicing and concatenating list and checking equality\n",
    "list_1[:3] + list_1[3:] == list_1"
   ]
  },
  {
   "cell_type": "markdown",
   "metadata": {},
   "source": [
    "### Problem 10\n",
    "<span style=\"color:green\">Use the `+` operator to concatenate two lists. Make the first list the even elements of test_list and the second list the odd elements of test_list</span>"
   ]
  },
  {
   "cell_type": "code",
   "execution_count": null,
   "metadata": {},
   "outputs": [],
   "source": [
    "test_list = list(range(20))\n",
    "# your code here"
   ]
  },
  {
   "cell_type": "markdown",
   "metadata": {},
   "source": [
    "### Problem 11\n",
    "<span style=\"color:green\">Create a list then use the `extend` method to add four elements to it</span>"
   ]
  },
  {
   "cell_type": "code",
   "execution_count": null,
   "metadata": {},
   "outputs": [],
   "source": [
    "# your code here"
   ]
  },
  {
   "cell_type": "markdown",
   "metadata": {},
   "source": [
    "### Problem 12\n",
    "<span style=\"color:green\">In words, without actually programming, what will <strong>my_list * 5</strong> do?</span>"
   ]
  },
  {
   "cell_type": "code",
   "execution_count": null,
   "metadata": {},
   "outputs": [],
   "source": [
    "#### Change this cell to markdown and answer the question here \n",
    "#### then verify the results in the following code cell\n"
   ]
  },
  {
   "cell_type": "markdown",
   "metadata": {},
   "source": [
    "## Lists of Lists\n",
    "List elements may be of any type, meaning that we can create lists of lists, which are similar to n-dimensional arrays in scientific computing."
   ]
  },
  {
   "cell_type": "code",
   "execution_count": null,
   "metadata": {},
   "outputs": [],
   "source": [
    "# create a list of lists\n",
    "list_list = [[1, 2, 3], [5,6], [90, 100, 109]]"
   ]
  },
  {
   "cell_type": "code",
   "execution_count": null,
   "metadata": {},
   "outputs": [],
   "source": [
    "# What happens when we access the first element?\n",
    "list_list[0]"
   ]
  },
  {
   "cell_type": "markdown",
   "metadata": {},
   "source": [
    "### Select a single element from a list within a list\n",
    "Use two consecutive square bracket selections when selecting an element from a list of a list. The first selection below selects the list **`[1, 2, 3]`** and the second selects the integer 3."
   ]
  },
  {
   "cell_type": "code",
   "execution_count": null,
   "metadata": {},
   "outputs": [],
   "source": [
    "# How to access nested lists\n",
    "list_list[0][2]"
   ]
  },
  {
   "cell_type": "code",
   "execution_count": null,
   "metadata": {},
   "outputs": [],
   "source": [
    "# Use different indices to get the same item\n",
    "list_list[-1][-2]"
   ]
  },
  {
   "cell_type": "code",
   "execution_count": null,
   "metadata": {},
   "outputs": [],
   "source": [
    "# get a  slice of a list of a list\n",
    "list_list[2][1:]"
   ]
  },
  {
   "cell_type": "code",
   "execution_count": null,
   "metadata": {},
   "outputs": [],
   "source": [
    "# mutate this list of list\n",
    "list_list[2][1:] = [900, 909]\n",
    "list_list"
   ]
  },
  {
   "cell_type": "markdown",
   "metadata": {},
   "source": [
    "### Problem 13\n",
    "<span style=\"color:green\">First create a list containing at least three inner lists. Then replace the second list with a reverse of the third list.</span>"
   ]
  },
  {
   "cell_type": "code",
   "execution_count": null,
   "metadata": {},
   "outputs": [],
   "source": [
    "# your code here"
   ]
  },
  {
   "cell_type": "markdown",
   "metadata": {},
   "source": [
    "# Check item is in list\n",
    "To determine if an element is contained within a list, the **`in`** or **`not in`** operator is used. This is done in the same way as checking for a substring in a string."
   ]
  },
  {
   "cell_type": "code",
   "execution_count": null,
   "metadata": {},
   "outputs": [],
   "source": [
    "# check list membership\n",
    "my_list = [6, 'word', 2]\n",
    "6 in my_list"
   ]
  },
  {
   "cell_type": "code",
   "execution_count": null,
   "metadata": {},
   "outputs": [],
   "source": [
    "12 in my_list"
   ]
  },
  {
   "cell_type": "code",
   "execution_count": null,
   "metadata": {},
   "outputs": [],
   "source": [
    "5 not in my_list"
   ]
  },
  {
   "cell_type": "markdown",
   "metadata": {},
   "source": [
    "### Problem 14\n",
    "<span style=\"color:green\">Create a list using the range function from 0 to 100,000 by 113 and determine if the value 87,649 is in the list or not.</span>"
   ]
  },
  {
   "cell_type": "code",
   "execution_count": null,
   "metadata": {},
   "outputs": [],
   "source": [
    "# your code here"
   ]
  },
  {
   "cell_type": "markdown",
   "metadata": {},
   "source": [
    "### Congrats on finishing notebook 4!\n",
    "Move on to notebook 5! The pre-course is mandatory so make sure you finish it all!"
   ]
  }
 ],
 "metadata": {
  "anaconda-cloud": {},
  "kernelspec": {
   "display_name": "Python 3",
   "language": "python",
   "name": "python3"
  },
  "language_info": {
   "codemirror_mode": {
    "name": "ipython",
    "version": 3
   },
   "file_extension": ".py",
   "mimetype": "text/x-python",
   "name": "python",
   "nbconvert_exporter": "python",
   "pygments_lexer": "ipython3",
   "version": "3.6.4"
  }
 },
 "nbformat": 4,
 "nbformat_minor": 1
}
