{
 "cells": [
  {
   "cell_type": "markdown",
   "metadata": {},
   "source": [
    "# Welcome to the Pre-Course Assignment\n",
    "\n",
    "## Objective\n",
    "By the end of this notebook, you should be able to:\n",
    "\n",
    "* Understand what a Jupyter Notebook is\n",
    "* Know the difference between Code and Markdown cells\n",
    "* Know the difference between Edit and Command mode\n",
    "* Know how to execute cells\n",
    "* Use basic keyboard shortcuts\n",
    "* Use Python as a basic calculator\n",
    "* Assign values to variable names\n",
    "\n",
    "## Where am I?\n",
    "If you have never seen this application then you might be wondering what strange place you have landed on the internet. You are now running a **Jupyter Notebook** server locally from your localhost at default port 8888. This specific notebook is connected to an iPython kernel capable of executing Python commands.\n",
    "\n",
    "\n",
    "## What are Jupyter Notebooks and why are we using them?\n",
    "Jupyter Notebooks allow you to interactively write code, visualize results, and enhance the output via markdown, html, latex ($c = \\sqrt{a^2 + b^2}$), and other rich content streams (see Python image!) ![caption][1]\n",
    "\n",
    "We are using them because they provide an excellent means to iteratively and interactively explore and visualize data in one place. They are also great for showing examples and providing space for students to complete exercises.\n",
    "\n",
    "## What's the difference between iPython notebooks and Jupyter notebooks?\n",
    "**IPython Notebook** was the original name for these notebooks. IPython, itself, is an interactive command line tool that was created by Fernando Perez in 2001. You can run IPython by simply opening a terminal and running the command **ipython**. IPython Notebooks, created around 2011, gave IPython the web interface we use today. The idea of a web-based notebook was not new. They were already a popular way to do interactive computing in other languages like Maple or Mathematica.\n",
    "\n",
    "At first, IPython Notebooks only supported the execution of Python. As IPython Notebooks started to rise in popularity, developers started creating kernels capable of executing other languages. In 2015, the project was renamed Jupyter. The language agnostic bits were split from the actual execution of the code. Read about the [big split][2] for more. See the Jupyter documentation for more technical details on how [Jupyter Notebooks work][3]. You can see a list of all the [backend execution kernels][4]. As it turns out, lots of people enjoy working in this type of an environment and hopefully you will too.\n",
    "\n",
    "## What are some drawback to Jupyter notebooks?\n",
    "Perhaps the biggest drawback is the unwieldy mess that these notebooks can become if used for beyond their purpose. These notebooks unfortunately lend themselves to out of order operation where you can find yourself utilizing an output from a cell below for a cell above. Keeping track of variables from one cell to another can have you using values for variables you never intended. These notebooks are also pretty horrible for developing production quality code. Its best to open up a normal text editor for production purposes. But for exploration and teaching these notebooks are excellent!\n",
    "\n",
    "# Getting Started with Jupyter Notebooks - the basics\n",
    "\n",
    "## All notebooks are composed of cells\n",
    "Jupyter Notebooks are composed of **cells**. Every bit of content within a Jupyter Notebook, including this text, resides within a **cell**.\n",
    "\n",
    "## Markdown and Code cells\n",
    "There are two primary types of cells - **Markdown** and **Code** cells. \n",
    "\n",
    "This current cell is a markdown cell. Markdown is a simple plain-text language that allows you to add some basic styles and links with little effort. This class will not cover markdown, but it is easy to learn and if you are interested try [this markdown tutorial][5].\n",
    "\n",
    "For nearly all of the class, you will be working inside a **Code** cell. Code cells are where you write and execute your Python code.\n",
    "\n",
    "## Identifying Markdown vs Code Cells\n",
    "It is very easy to identify whether you are in a markdown or code cell. Click anywhere on this text exactly **once**. The outside border of the cell will turn **blue**. The word **Markdown** will also appear in the dropdown box in the center of the menu at the top of this page. \n",
    "\n",
    "![][6]\n",
    "\n",
    "Code cells will have the word **Code** in that same menu. Also, all code cells will have the word **`In`** displayed directly to the left of the cell and a number inside of brackets denoting its order of execution. If there is no number inside the brackets then the code cell has yet to be executed. If the cell has been executed, the result will be displayed directly below with the word **`Out`** directly to the left. Some code cells do not output anything upon execution and will not have this.\n",
    "\n",
    "![][7]\n",
    "\n",
    "## Edit Mode vs Command Mode\n",
    "Jupyter Notebook cells are in one of two states: **edit** or **command** mode. When in edit mode:\n",
    "* Cells will be outlined in **green**\n",
    "* Cells will have a blinking cursor in it\n",
    "* Typing will result in plain text inside the cell\n",
    "* A small pencil icon will be visible in the top right hand side of the menu bar\n",
    "\n",
    "When in command mode:\n",
    "* The cell will be outlined in **blue**\n",
    "* No blinking cursor\n",
    "* The keys have special meanings - more on this below\n",
    "* The small pencil icon will be absent from the top right hand side of the menu bar\n",
    "\n",
    "## Changing between Edit and Command Mode\n",
    "For the vast majority of the time, you will be in edit mode writing Python code. For a **code** cell, simply click inside the cell and you should see a cursor, a green outline and be able to start typing. Press **esc** once to enter **command** mode. You can also press **enter** to go back to edit mode.\n",
    "\n",
    "For a **markdown** cell, you will need to double click the cell to enter **edit** mode and see the cursor and green outline. The first time going to edit mode in a markdown cell might be a bit scary as you will see the underlying text used to represent the nicely formatted display. Press **shift + enter** to execute the markdown and return the cell contents back to the formatted display.\n",
    "\n",
    "While in edit mode in a markdown cell, you can press **esc** to go to command mode and then **enter** to go back to edit mode.\n",
    "\n",
    "## More on Command Mode\n",
    "\n",
    "While in command mode, you cannot directly edit the contents of the cell. Instead you use the keyboard to manipulate the cells as a whole. To see what is possible in command mode go to the **Help** menu above and select **Keyboard Shortcuts** (alternative press **esc then h**). There you will see all the possible options available in command mode.\n",
    "\n",
    "\n",
    "# Executing Cells\n",
    "To execute the contents of a code cell with Python inside of it press **shift + enter**. If the last line of code in your cell produces any output, then this value will be displayed in the **`Out`** cell directly below it. If your last line of code produces no output, then there will be no **`Out`** cell.\n",
    "\n",
    "## Execute your first cell\n",
    "Let's practice this by executing the cell directly below. It is code cell that adds two numbers together. Place your cursor in the cell so that it is in edit mode and press **shift + enter** to execute it. The statements following the hash sign (**#**) are comments and skipped.\n",
    "\n",
    "[1]: images/monte_python.jpg\n",
    "[2]: https://blog.jupyter.org/the-big-split-9d7b88a031a7\n",
    "[3]: http://jupyter.readthedocs.io/en/latest/architecture/how_jupyter_ipython_work.html\n",
    "[4]: https://github.com/jupyter/jupyter/wiki/Jupyter-kernels\n",
    "[5]: https://www.markdowntutorial.com/\n",
    "[6]: images/markdown_menu.png\n",
    "[7]: images/code_cell.png"
   ]
  },
  {
   "cell_type": "code",
   "execution_count": null,
   "metadata": {},
   "outputs": [],
   "source": [
    "# a code cell that adds two numbers together\n",
    "# press shift + enter to execute\n",
    "5 + 7"
   ]
  },
  {
   "cell_type": "markdown",
   "metadata": {},
   "source": [
    "## Executing with ctrl + enter\n",
    "Notice that in addition to the output of the operation, the focus is moved to the next cell (this one) in command mode.\n",
    "\n",
    "It is possible to execute the contents of a cell without moving the focus to the next cell by pressing **ctrl + enter**. Place your cursor in the next cell and execute it with **ctrl + enter**. You will remain in the current cell but in command mode."
   ]
  },
  {
   "cell_type": "code",
   "execution_count": null,
   "metadata": {},
   "outputs": [],
   "source": [
    "# a code cell that subtracts two numbers\n",
    "# press ctrl + enter to execute\n",
    "3 - 10"
   ]
  },
  {
   "cell_type": "markdown",
   "metadata": {},
   "source": [
    "## Executing a cell with no output\n",
    "Not all code cells will produce an **`Out`** cell. Only those where the last line in the cell contains output. Run the following cell, which assigns the value 7 to the variable **`a`**."
   ]
  },
  {
   "cell_type": "code",
   "execution_count": null,
   "metadata": {},
   "outputs": [],
   "source": [
    "# This will not produce any output\n",
    "a = 7"
   ]
  },
  {
   "cell_type": "markdown",
   "metadata": {},
   "source": [
    "## For output, only the last line of the cell matters\n",
    "You can write any number of Python statements in a single cell, but only output for the last line in the cell will matter."
   ]
  },
  {
   "cell_type": "code",
   "execution_count": null,
   "metadata": {},
   "outputs": [],
   "source": [
    "# Execute three Python statements.\n",
    "# Only the last statement will result in an output\n",
    "5 + 7\n",
    "3 + 6\n",
    "4 - 2"
   ]
  },
  {
   "cell_type": "markdown",
   "metadata": {},
   "source": [
    "## Another example with multiple statements but no output\n",
    "It doesn't matter if statements before the last line produce output. What determines output is the last line of the cell. Execute the following cell which produces no output."
   ]
  },
  {
   "cell_type": "code",
   "execution_count": null,
   "metadata": {},
   "outputs": [],
   "source": [
    "# The last line has no output, therefore this cell has no output\n",
    "5 + 7\n",
    "3 + 6\n",
    "a = 4"
   ]
  },
  {
   "cell_type": "markdown",
   "metadata": {},
   "source": [
    "## An exception with the `print` statement\n",
    "It is possible to produce output from lines that are not the last with the print statement. Notice how the results of the first two statements are printed below the cell with the output of the last line still in its own **`Out`** cell."
   ]
  },
  {
   "cell_type": "code",
   "execution_count": null,
   "metadata": {},
   "outputs": [],
   "source": [
    "print(5 + 7)\n",
    "print(3 + 6)\n",
    "4 - 2"
   ]
  },
  {
   "cell_type": "markdown",
   "metadata": {},
   "source": [
    "## Executing a markdown cell\n",
    "All the cells that we executed above have been **code** cells. Lets practice some basic markdown below by creating a bullet point list. In the cell below, use the **`*`** key on a new line followed by a space and then a word. This creates an unordered HTML list."
   ]
  },
  {
   "cell_type": "markdown",
   "metadata": {},
   "source": [
    "This is a markdown cell. Double click in this list (or click once and then enter) to go into edit mode. Make a list below by editing this cell and using the star key on each new line followed by a space and then a word. Execute it by pressing shift + enter:"
   ]
  },
  {
   "cell_type": "markdown",
   "metadata": {},
   "source": [
    "## Changing between Code and Markdown cells\n",
    "\n",
    "By default, all cells are code cells. To change the type of cell, select the cell in either edit or command mode and choose its new type from the drop down menu at the top of the screen. You can also do this by selecting the **Cell** menu and choosing the type within the **Cell Type** option.\n",
    "\n",
    "## Using Keyboard shortcuts to change between Code and Markdown cells\n",
    "I use keyboard shortcuts when changing between cell types. Press **esc then M** to change a cell to markdown and **esc then Y** to change it to a code cell.\n",
    "\n",
    "## More Keyboard Shortcuts\n",
    "* **Alt(option) + Enter** executes the current code block and inserts a new cell after\n",
    "* **ESC then a** inserts a cell above\n",
    "* **ESC then b** inserts a cell below\n",
    "* **ESC then d + d** deletes a cell\n"
   ]
  },
  {
   "cell_type": "markdown",
   "metadata": {},
   "source": [
    "## Practice\n",
    "Use the command mode keyboard shortcut **esc + dd** to delete the cell below. Make sure you click in that cell first!"
   ]
  },
  {
   "cell_type": "code",
   "execution_count": null,
   "metadata": {},
   "outputs": [],
   "source": [
    "'''\n",
    "Delete me! Place cursor in this cell then press escape. The outline of this cell will turn blue \n",
    "and the 'pen' image next to the word python 3 at the top of the screen will vanish signaling you are in command mode.\n",
    "With this cell outlined blue press 'd' twice.\n",
    "''';"
   ]
  },
  {
   "cell_type": "markdown",
   "metadata": {},
   "source": [
    "## What other useful things are there to know about the notebook?\n",
    "Even though iPython/Jupyter Notebooks have been in development for several years now, they will occasionally crash or  you will write code when executed that is in an infinite loop or just takes too long to complete. To stop execution, press the stop button icon above or from the **Kernel** menu above select restart. All variable and function definitions will be lost when this happens. If you are still unable to stop the execution, you need to go back to the terminal where you launched the notebook from and kill it with **ctrl + c**.\n",
    "\n",
    "If you exit this browser tab, the notebook will still be running until you kill the kernel from the terminal. This means that all variables will remain alive if you reopen the notebook with the kernel it was started with still running.\n",
    "\n",
    "# Begin Learning Python\n",
    "Finally, we are ready to move onto Python. If your Python skills are weak, you will likely have a difficult time during the course, so this tutorial will be very valuable for you. On the other hand, if you already have strong Python skills, then this will be a good refresher.\n",
    "\n",
    "### What actually is Python?\n",
    "For a computer, Python code is simply characters on a screen. These characters have no idea what to do with themselves unless some other computer program translates them to a language that a machine can understand. Its important to understand that Python is a programming language and that Python the programming language has many different implementations that turn those characters to executable machine code. The original implementation of Python is called **CPython** written in C by the ['Benevolent Dictator for Life'][1] Guido van Rossum who started the project in the 80's and released it in 1991. CPython parses the Python code and compiles it to Python bytecode which is then interpreted by the CPython virtual machine.\n",
    "\n",
    "Python is an open source language that anyone can contribute to. See the [github repository][2] where [Guido][3] still commits to frequently. Python is considered an **interpreted** language because it is not compiled down to machine code but rather interpreted at run-time (with CPython). Python is also a **dynamically-typed language**, meaning that variables can change types after declaration. Because of these things, it usually executes much slower (10-1000x) than compiled languages like C or Fortran.\n",
    "\n",
    "### Why use Python?\n",
    "Python is a **high-level** language. High-level as, it is a programming language that is easy to learn, with simple and compact syntax, as well as being quite powerful to complete nearly any task.\n",
    "\n",
    "Since Python does not have to be compiled (technically it is compiled to bytecode but not down to machine code like C), it can be used interactively which makes it excellent for scientific computing where results from operations need to be seen to write further code. Your code can also actually look very similar to what it would look like on paper as a scientist.\n",
    "\n",
    "Python handles many things under the hood like memory management that a lower language like C does not so that you can concentrate on development. \n",
    "\n",
    "It is a general purpose programming languages allowing you to develop a wide range of applications from the web to full scale data science pipelines. A small sacrifice in inefficiency allows for great productivity as a developer.\n",
    "\n",
    "### Your first lines of Python in this notebook\n",
    "As previously mentioned, you can only execute Python code in code cells. Code blocks also always have **`In [ ]:`** to the left of them. If there is a number in the brackets, it means that cell was executed and you will see an **`Out[10]:`** area below. The number in brackets is the rank of that cells last execution. So, if you see a 10 in the cell, it means that it was the 10th cell to be executed the last time it was ran.\n",
    "\n",
    "# Don't use a calculator, use Python!\n",
    "To kick things off, we can start off using Python as a calculator. All the standard operators work as expected. Execute the expressions in the code cells below.\n",
    "\n",
    "[1]: https://en.wikipedia.org/wiki/Benevolent_dictator_for_life\n",
    "[2]: https://github.com/python/cpython\n",
    "[3]: https://github.com/gvanrossum"
   ]
  },
  {
   "cell_type": "code",
   "execution_count": null,
   "metadata": {},
   "outputs": [],
   "source": [
    "# add, sub, mul, divide all happen as expected\n",
    "7 * 7 - 50 + 100 / 6"
   ]
  },
  {
   "cell_type": "markdown",
   "metadata": {},
   "source": [
    "### Comments in code blocks\n",
    "To insert a comment, use the hash (#) character. Everything written after the hash will be commented out. The keyboard shortcut to comment out a line is **ctrl + /** or **cmd + /** on a mac"
   ]
  },
  {
   "cell_type": "code",
   "execution_count": null,
   "metadata": {},
   "outputs": [],
   "source": [
    "# Integer division is done with //\n",
    "12 // 7"
   ]
  },
  {
   "cell_type": "code",
   "execution_count": null,
   "metadata": {},
   "outputs": [],
   "source": [
    "# Use ** to raise to a power\n",
    "4 ** 3"
   ]
  },
  {
   "cell_type": "code",
   "execution_count": null,
   "metadata": {},
   "outputs": [],
   "source": [
    "# % is the modulus operator to get a remainder\n",
    "89 % 13"
   ]
  },
  {
   "cell_type": "markdown",
   "metadata": {},
   "source": [
    "# Reminder to execute cells\n",
    "All the code cells in this notebook are not executed upon first usage. You can tell they are not executed because they all look like this:\n",
    "> **`In [ ]:`**\n",
    "\n",
    "Absent of any number inside the bracket. Make sure you are executing the cells with code inside to follow along with the notes."
   ]
  },
  {
   "cell_type": "markdown",
   "metadata": {},
   "source": [
    "## Where do I enter my code for this assignment?\n",
    "From here on out, there will be many cells that contain a problem that requires some Python code to be entered. Any code block that requires your input will end with **`# your code here`**.\n",
    "\n",
    "### Problem 1\n",
    "<span style=\"color:green\">How many seconds are there in a century?</span>"
   ]
  },
  {
   "cell_type": "code",
   "execution_count": null,
   "metadata": {},
   "outputs": [],
   "source": [
    "# your code here"
   ]
  },
  {
   "cell_type": "markdown",
   "metadata": {},
   "source": [
    "## Assigning values to variables\n",
    "To preserve a value, we can assign it to a variable. The variable we want to assign is placed on the left-hand side of the equal sign. The value we want to assign to it is placed on the right hand side."
   ]
  },
  {
   "cell_type": "code",
   "execution_count": null,
   "metadata": {},
   "outputs": [],
   "source": [
    "# assign values to the variables a, b, and c\n",
    "a = 10\n",
    "b = 2\n",
    "c = b ** 3"
   ]
  },
  {
   "cell_type": "code",
   "execution_count": null,
   "metadata": {},
   "outputs": [],
   "source": [
    "a"
   ]
  },
  {
   "cell_type": "code",
   "execution_count": null,
   "metadata": {},
   "outputs": [],
   "source": [
    "b"
   ]
  },
  {
   "cell_type": "code",
   "execution_count": null,
   "metadata": {},
   "outputs": [],
   "source": [
    "c"
   ]
  },
  {
   "cell_type": "markdown",
   "metadata": {},
   "source": [
    "## Outputting more than one variable at a same time\n",
    "You can output more than one variable at the same time by separating them with commas. This technically creates a tuple which we will talk about later."
   ]
  },
  {
   "cell_type": "code",
   "execution_count": null,
   "metadata": {},
   "outputs": [],
   "source": [
    "# output multiple variables\n",
    "a, b, c"
   ]
  },
  {
   "cell_type": "markdown",
   "metadata": {},
   "source": [
    "### Problem 2\n",
    "<span style=\"color:green\">Use three different variables to store a 15% sales tax on a $70 meal to get the total and output all of them at the same time</span>"
   ]
  },
  {
   "cell_type": "code",
   "execution_count": null,
   "metadata": {},
   "outputs": [],
   "source": [
    "# your code here"
   ]
  },
  {
   "cell_type": "markdown",
   "metadata": {},
   "source": [
    "## Every value in Python has a type\n",
    "One of the most important and fundamental concepts to internalize when learning Python is that every value that you see has a type. Before we get into Python types, it might be helpful to think about types outside the context of programming languages.\n",
    "\n",
    "Everything that we see in the world around us is also some **type** of object. For instance, when we look in our closet, we see shirts, pants, dresses, shoes, socks, belts, etc... Each one of these objects is a type. When we walk outside we see cars, roads, birds, trees, grass, people, etc... Again, each one these objects is a type. The type of an object tells you much about what it is and what it is capable of doing. A car is able to drive and a cup is useful to hold liquid that is easily consumable.\n",
    "\n",
    "### The `type` function\n",
    "When working in Python, it is extremely important to know the type of value you are working with. In the above paragraph, I used the term **object** to refer to each thing that was inside my closet or outside. Technically, everything is an **object** in Python. We will go much further into objects later.\n",
    "\n",
    "For now, it's important to realize that every value and variable you see in Python has a specific type. The **`type`** function is used to definitively check the type. Let's see some examples below."
   ]
  },
  {
   "cell_type": "code",
   "execution_count": null,
   "metadata": {},
   "outputs": [],
   "source": [
    "type(10)"
   ]
  },
  {
   "cell_type": "markdown",
   "metadata": {},
   "source": [
    "## Numeric types\n",
    "There are two primary numeric types - **`int`** and **`float`**. **`int`** is short for integer. Integers are whole numbers and floats are numbers with decimals. Let's see an example of a float."
   ]
  },
  {
   "cell_type": "code",
   "execution_count": null,
   "metadata": {},
   "outputs": [],
   "source": [
    "type(12.4)"
   ]
  },
  {
   "cell_type": "markdown",
   "metadata": {},
   "source": [
    "## All variables have types\n",
    "When we assign a variable a value, that variable has the same type as the value. We can use the **`type`** function directly on that variable."
   ]
  },
  {
   "cell_type": "code",
   "execution_count": null,
   "metadata": {},
   "outputs": [],
   "source": [
    "a = 10\n",
    "type(a)"
   ]
  },
  {
   "cell_type": "markdown",
   "metadata": {},
   "source": [
    "## Boolean type\n",
    "Python has two reserved words, **`True`** and **`False`**, that are used for the boolean type. **`bool`** is the official word used."
   ]
  },
  {
   "cell_type": "code",
   "execution_count": null,
   "metadata": {},
   "outputs": [],
   "source": [
    "type(True)"
   ]
  },
  {
   "cell_type": "code",
   "execution_count": null,
   "metadata": {},
   "outputs": [],
   "source": [
    "type(False)"
   ]
  },
  {
   "cell_type": "markdown",
   "metadata": {},
   "source": [
    "## More on types later\n",
    "There are many more builtin types that will be discussed throughout the rest of the pre-course. There are also ways to create your own types by defining what is called a **`class`**. Classes will be covered in an optional, advanced section of the pre-course.\n",
    "\n",
    "# Checking Solutions\n",
    "Solutions for all problems can be found in the **precourse solutions** Notebook. I recommend attempting each problem on your own before checking the solutions.\n",
    "\n",
    "# Congrats on completing your first notebook!\n",
    "Please continue to number 2! You can use file > open, or navigate to localhost:8888 to find the notebook"
   ]
  }
 ],
 "metadata": {
  "anaconda-cloud": {},
  "kernelspec": {
   "display_name": "Python 3",
   "language": "python",
   "name": "python3"
  },
  "language_info": {
   "codemirror_mode": {
    "name": "ipython",
    "version": 3
   },
   "file_extension": ".py",
   "mimetype": "text/x-python",
   "name": "python",
   "nbconvert_exporter": "python",
   "pygments_lexer": "ipython3",
   "version": "3.6.4"
  }
 },
 "nbformat": 4,
 "nbformat_minor": 1
}
