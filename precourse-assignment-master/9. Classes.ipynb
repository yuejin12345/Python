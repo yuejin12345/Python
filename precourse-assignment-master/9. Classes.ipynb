{
 "cells": [
  {
   "cell_type": "markdown",
   "metadata": {},
   "source": [
    "# Classes\n",
    "\n",
    "## Objectives\n",
    "After this notebook, you should be able to...\n",
    "\n",
    "1. Understand the difference between an object, class, and type\n",
    "1. Know the difference between an attribute and a method\n",
    "1. Know the difference between a method and a function\n",
    "1. Access all class functionality with **dot notation**\n",
    "1. Define a class with attributes and methods\n",
    "1. Create an object, an instance of the class\n",
    "1. Use a constructor to initialize an object with the special **`__init__`** method\n",
    "1. Know what the first variable is passed to all class methods\n",
    "1. Build and play a Craps game with classes\n",
    "\n",
    "### Recommended Reading\n",
    "* [Good blog post](https://jeffknupp.com/blog/2014/06/18/improve-your-python-python-classes-and-object-oriented-programming/) by Jeff Knupp on object oriented programming.\n",
    "\n",
    "# Review: Everything is an object\n",
    "In notebook 3 on objects, we covered how \"everything\" is an object. The most basic piece of information of an object is its type. The type determines what kind of functionality the object has - namely by its attributes and methods. Thus far we have only created objects from built-in types such as integers, floats, booleans, strings, lists, sets, tuples, and dictionaries.\n",
    "\n",
    "# Objects vs Types\n",
    "Objects and types are closely related terms that are often confused. It might be good to use a non-programming example to distinguish between objects and types. Right now, I am using my MacBook computer. The MacBook is the object and its type is a computer. Perhaps a more direct way of saying this is \"my MacBook is a type of computer\". A few more similar examples:\n",
    "\n",
    "* You are an object that is of the person type\n",
    "* My neighbor's Honda Pilot is an object and is a type of car\n",
    "* Forrest Gump is an object and is a type of movie\n",
    "\n",
    "Let's turn our attention back to Python. We can make analogous statements such as:\n",
    "\n",
    "* **`5`** is a type of integer\n",
    "* **`4.39`** is a type of float\n",
    "* **`[4, 8, 7]`** is a type of list\n",
    "* **`{'a': 1, 'z': 26}`** is a type of dictionary\n",
    "\n",
    "### Objects are tangible - Types are intangible\n",
    "My personal MacBook is one single physical (tangible) object. Its type, a computer, is just a generic name that gives us an idea about what functionality we can expect. \n",
    "\n",
    "In Python, the objects are the things that are stored in memory in a specific location on your computer. For instance, **`[4, 8, 7]`** is the object and its type is list."
   ]
  },
  {
   "cell_type": "markdown",
   "metadata": {},
   "source": [
    "# Overview of Built-In Types\n",
    "The main built-in types, integers, floats, booleans, strings, lists, functions, ranges, sets, tuples, and dictionaries will provide the backbone for most of your Python code. These types have all been covered in the previous notebooks. There are several other built-in types that are not as common such as bytes, frozen sets, iterators, generators, and more that have not been covered but are still important and typically reserved as 'advanced' topics.\n",
    "\n",
    "# Creating New Types\n",
    "The standard library provides us with hundreds of other types that are easily accessible to import into our programs. While all these types cover the majority of needs, there will come a time in your Python career where you will need to create your own types. For instance, there is no built-in type that is available for cars.\n",
    "\n",
    "# Define a Type with `class`\n",
    "To define a new user-defined type, the **`class`** keyword is used followed by the name of the type and a colon. This is very similar to how new user-defined functions are created with the **`def`** keyword.\n",
    "\n",
    "Let's define the simplest class that we can. Notice that we do not put a set of parentheses after the class name. The body of the class is indented in the same manner as it is with functions. We can use the keyword **`pass`** to indicate that we don't want to add any functionality to our type. **`pass`** can be used in all indented code blocks, such as after function declarations, if/else blocks, and others to mean **do nothing**."
   ]
  },
  {
   "cell_type": "code",
   "execution_count": null,
   "metadata": {},
   "outputs": [],
   "source": [
    "class Car:\n",
    "    pass"
   ]
  },
  {
   "cell_type": "markdown",
   "metadata": {},
   "source": [
    "### We have a new type\n",
    "Executing the code cell above creates a new type. The name of the type is **`Car`**. It is convention in Python to use uppercase names for new types. This is actually at odds with core Python which uses lowercase for its type names (int, float, str, dict, etc...).\n",
    "\n",
    "### Verify we have a new type\n",
    "The `type` function may be used to determine the type of any object. The above code block creates an object referenced by the name **`Car`**. Let's verify that it is indeed a type."
   ]
  },
  {
   "cell_type": "code",
   "execution_count": null,
   "metadata": {},
   "outputs": [],
   "source": [
    "type(Car)"
   ]
  },
  {
   "cell_type": "markdown",
   "metadata": {},
   "source": [
    "### Problem 1\n",
    "\n",
    "<span style=\"color:green\">Verify that the built-in names `int`, `float`, `str`, `list`, `range`, `tuple`, `set`, `dict` are types. </span>"
   ]
  },
  {
   "cell_type": "code",
   "execution_count": null,
   "metadata": {},
   "outputs": [],
   "source": [
    "# your code here"
   ]
  },
  {
   "cell_type": "markdown",
   "metadata": {},
   "source": [
    "### Creating a `Car` object\n",
    "Our class does not actually create a tangible **`Car`** object. To do that, we must call it just like a function and assign to a name. Below, we create a **`Car`** object and assign it to **`my_car`**."
   ]
  },
  {
   "cell_type": "code",
   "execution_count": null,
   "metadata": {},
   "outputs": [],
   "source": [
    "my_car = Car()"
   ]
  },
  {
   "cell_type": "markdown",
   "metadata": {},
   "source": [
    "### Verify that `my_car` is of type `Car`\n",
    "Let's verify that `my_car` has the type `Car`."
   ]
  },
  {
   "cell_type": "code",
   "execution_count": null,
   "metadata": {},
   "outputs": [],
   "source": [
    "type(my_car)"
   ]
  },
  {
   "cell_type": "markdown",
   "metadata": {},
   "source": [
    "### What is that `__main__` doing there?\n",
    "For all of the non-built-in types, Python returns the name of the module prepended to the name of the type. This is very confusing for beginners. The actual name of the type is **always the name after the last dot**. So, **`Car`** is the actual name of the type.\n",
    "\n",
    "There is actually a private attribute, **`__name__`** for each type that will only show the name without the prepended module name. Let's see that now:"
   ]
  },
  {
   "cell_type": "code",
   "execution_count": null,
   "metadata": {},
   "outputs": [],
   "source": [
    "type(my_car).__name__"
   ]
  },
  {
   "cell_type": "markdown",
   "metadata": {},
   "source": [
    "### Why is the name of the module `__main__`?\n",
    "Whenever we run Python code from an interactive prompt like iPython or Jupyter Notebook, the current module name is defaulted to be **`__main__`**. It even creates a global variable **`__name__`** that stores this information."
   ]
  },
  {
   "cell_type": "code",
   "execution_count": null,
   "metadata": {},
   "outputs": [],
   "source": [
    "__name__"
   ]
  },
  {
   "cell_type": "markdown",
   "metadata": {},
   "source": [
    "### Terminology: `my_car` is an instance of the `Car` class\n",
    "When we ran the code **`my_car = Car()`**, we created a new object. It is common to say that we created an **instance** of the **`Car`** class. An instance is just a term for a single member of the class.\n",
    "\n",
    "Another way of saying it, is that we **instantiated** the **`Car`** class by creating the **`my_car`** instance. Instantiate is an action verb that refers to the actual creation of a single instance and is done by calling the class like a function - **`Car()`**.\n",
    "\n",
    "In addition to the word instantiated, you will sometimes see this referred to as an object being **constructed**. You will see the phrase **call the constructor** which refers to calling the class like a function - **`Car()`**. Later on, we will pass arguments to the \"constructor\" to customize initialization.\n",
    "\n",
    "# Classes are blueprints\n",
    "Perhaps the best way to think about classes is to analogize them to blueprints. Classes have all the instructions for making a single object (a.k.a instance) of their type. Our first **`Car`** class had no useful instructions. These \"instructions\" are a collection of attributes and methods that give instances of the class power (functionality). \n",
    "\n",
    "Let's define a new **`Car`** class with a **`drive`** method."
   ]
  },
  {
   "cell_type": "code",
   "execution_count": null,
   "metadata": {},
   "outputs": [],
   "source": [
    "class Car:\n",
    "    \n",
    "    def drive(self, miles):\n",
    "        print(f'Your car drove {miles} miles')"
   ]
  },
  {
   "cell_type": "markdown",
   "metadata": {},
   "source": [
    "### Methods are functions bound to a class\n",
    "\n",
    "Methods are defined in the exact same manner as functions except that they are **bound** to a particular class. Here, only **`Car`** objects can call the **`drive`** method. No other objects can call it. This is what is meant by bound.\n",
    "\n",
    "### What is the parameter `self` doing there?\n",
    "In the function signature, we see the **`self`** parameter. Python uses the first parameter of each method to refer to the object that is calling it. This will become clearer with more examples.\n",
    "\n",
    "Let's create a new instance of the **`Car`** class and call the **`drive`** method for 10 miles."
   ]
  },
  {
   "cell_type": "code",
   "execution_count": null,
   "metadata": {},
   "outputs": [],
   "source": [
    "my_car = Car()"
   ]
  },
  {
   "cell_type": "code",
   "execution_count": null,
   "metadata": {},
   "outputs": [],
   "source": [
    "my_car.drive(10)"
   ]
  },
  {
   "cell_type": "markdown",
   "metadata": {},
   "source": [
    "### More on `self`\n",
    "When we called the drive method above with **`my_car.drive(10)`** Python did something special for us. It passed the variable **`my_car`** as an argument to the **`self`** parameter. If **`drive`** were just a regular function the call would look like this.\n",
    "\n",
    "```\n",
    "drive(my_car, 10)\n",
    "```\n",
    "\n",
    "Make sure to note that this does not actually work here. Python is doing this for us by always passing the calling object as the first argument in the method.\n",
    "\n",
    "### Is `self` a reserved word?\n",
    "No, `self` is used by convention and Python allows you to use any valid name here. That said, you should never use any other name other than **`self`**. In other languages like Java, the calling object is referenced by the keyword **`this`**.\n",
    "\n",
    "### Object-oriented Programming\n",
    "Creating classes, instantiating them, calling methods and retrieving attributes are all part of a programming paradigm called **object-oriented programming**. The [Wikipedia article on OOP][1] is quite good if you'd like to learn more.\n",
    "\n",
    "### Initializing an Object\n",
    "For most classes, you will want to initialize them in a specific and customized way. This is akin to choosing a car's color, number of seats, horsepower, transmission, and any other features you can imagine.\n",
    "\n",
    "The current definition of our **`Car`** class does not allow for any customized initialization - meaning all our car objects will function the same. \n",
    "\n",
    "To allow for custom initialization of our **`Car`** objects we must use the special method **`__init__`**. This is a reserved method for classes that gets called directly upon class instantiation.\n",
    "\n",
    "Let's define an **`__init__`** method that allows us to choose its color, price, transmission type, year, mileage, make, and model.\n",
    "\n",
    "[1]: https://en.wikipedia.org/wiki/Object-oriented_programming"
   ]
  },
  {
   "cell_type": "code",
   "execution_count": null,
   "metadata": {},
   "outputs": [],
   "source": [
    "class Car:\n",
    "    \n",
    "    def __init__(self, color, price, transmission, mileage, make, model):\n",
    "        self.color = color\n",
    "        self.price = price\n",
    "        self.transmission = transmission\n",
    "        self.mileage = mileage\n",
    "        self.make = make\n",
    "        self.model = model\n",
    "    \n",
    "    def drive(self, miles):\n",
    "        print(f'Your car drove {miles} miles')"
   ]
  },
  {
   "cell_type": "markdown",
   "metadata": {},
   "source": [
    "### Create a new instance\n",
    "The **`__init__`** method informs us what parameters we need to supply during instantiation. Let's create a new customized **`Car`** object and then verify that our attributes were assigned correctly."
   ]
  },
  {
   "cell_type": "code",
   "execution_count": null,
   "metadata": {},
   "outputs": [],
   "source": [
    "my_car = Car(color='Silver', price=35000, transmission='Manual', \n",
    "             mileage=0, make='Tesla', model='S3')"
   ]
  },
  {
   "cell_type": "code",
   "execution_count": null,
   "metadata": {},
   "outputs": [],
   "source": [
    "my_car.color"
   ]
  },
  {
   "cell_type": "code",
   "execution_count": null,
   "metadata": {},
   "outputs": [],
   "source": [
    "my_car.price"
   ]
  },
  {
   "cell_type": "code",
   "execution_count": null,
   "metadata": {},
   "outputs": [],
   "source": [
    "my_car.transmission"
   ]
  },
  {
   "cell_type": "code",
   "execution_count": null,
   "metadata": {},
   "outputs": [],
   "source": [
    "my_car.mileage"
   ]
  },
  {
   "cell_type": "code",
   "execution_count": null,
   "metadata": {},
   "outputs": [],
   "source": [
    "my_car.make"
   ]
  },
  {
   "cell_type": "code",
   "execution_count": null,
   "metadata": {},
   "outputs": [],
   "source": [
    "my_car.model"
   ]
  },
  {
   "cell_type": "markdown",
   "metadata": {},
   "source": [
    "### What is the `__init__` method doing?\n",
    "The **`__init__`** method is assigning the values of the parameters to attributes of the objects. Along with **`self`**, the **`__init__`** method takes 6 other arguments. You must supply each of these 6 other arguments during instantiation.\n",
    "\n",
    "The first line in the method is **`self.color = color`**. This is likely very confusing when you first see it. The first thing to recognize is that **`self.color`** and **`color`** are two completely different objects that have nothing to do with each other. **`color`** is simply the name of the first parameter of the method, and in the above instantiation is assigned the value of **`'Silver'`**. \n",
    "\n",
    "**`self.color`** is an attribute of the new instance you are creating and will also be assigned to the value of the argument **`color`** which is **`Silver`**."
   ]
  },
  {
   "cell_type": "markdown",
   "metadata": {},
   "source": [
    "### The argument names don't need to match the attribute names\n",
    "In the above **`__init__`** method, the attribute and argument names were identical. This is usually done by convention, but this is not required. Let's create another **`Car`** class that uses different names for the parameters."
   ]
  },
  {
   "cell_type": "code",
   "execution_count": null,
   "metadata": {},
   "outputs": [],
   "source": [
    "class Car:\n",
    "    \n",
    "    def __init__(self, c, p, t, mi, ma, mo):\n",
    "        self.color = c\n",
    "        self.price = p\n",
    "        self.transmission = t\n",
    "        self.mileage = mi\n",
    "        self.make = ma.upper()\n",
    "        self.model = mo\n",
    "        self.wheels = 4\n",
    "    \n",
    "    def drive(self, miles):\n",
    "        print(f'Your car drove {miles} miles')"
   ]
  },
  {
   "cell_type": "markdown",
   "metadata": {},
   "source": [
    "### Instantiate again with new initialization parameter names\n",
    "\n",
    "We can name our parameters and attributes anything we want and they certainly don't have to match. The **`color`** attribute of our instances is now assigned to the value of the **`c`** parameter.\n",
    "\n",
    "### Code within `__init__`\n",
    "You can run any amount of code when initializing your objects. Notice that the string assigned to the **`make`** attribute is made uppercase.\n",
    "\n",
    "Also, notice that a new attribute **`wheels`** was created which is not set from one of the initialization arguments but rather made a constant of 4 for all new car objects."
   ]
  },
  {
   "cell_type": "code",
   "execution_count": null,
   "metadata": {},
   "outputs": [],
   "source": [
    "my_car = Car(c='Silver', p=35000, t='Manual', mi=0, ma='Tesla', mo='S3')"
   ]
  },
  {
   "cell_type": "code",
   "execution_count": null,
   "metadata": {},
   "outputs": [],
   "source": [
    "my_car.color"
   ]
  },
  {
   "cell_type": "code",
   "execution_count": null,
   "metadata": {},
   "outputs": [],
   "source": [
    "my_car.price"
   ]
  },
  {
   "cell_type": "code",
   "execution_count": null,
   "metadata": {},
   "outputs": [],
   "source": [
    "my_car.make"
   ]
  },
  {
   "cell_type": "code",
   "execution_count": null,
   "metadata": {},
   "outputs": [],
   "source": [
    "my_car.wheels"
   ]
  },
  {
   "cell_type": "markdown",
   "metadata": {},
   "source": [
    "### Changing attributes within method call\n",
    "Our current **`drive`** method only prints out how many miles we have driven. Let's change it so that the object attribute **`miles`** increase and the attribute **`price`** decreases by 50 cents per mile driven."
   ]
  },
  {
   "cell_type": "code",
   "execution_count": null,
   "metadata": {},
   "outputs": [],
   "source": [
    "class Car:\n",
    "    \n",
    "    def __init__(self, color, price, transmission, mileage, make, model):\n",
    "        self.color = color\n",
    "        self.price = price\n",
    "        self.transmission = transmission\n",
    "        self.mileage = mileage\n",
    "        self.make = make\n",
    "        self.model = model\n",
    "        self.wheels = 4\n",
    "    \n",
    "    def drive(self, miles):\n",
    "        self.mileage += miles\n",
    "        self.price -= miles * .5\n",
    "        print(f'Your {self.make} {self.model} drove {miles} miles')\n",
    "        print(f'Total miles driven: {self.mileage}')\n",
    "        print(f'Current value of car: {self.price}')"
   ]
  },
  {
   "cell_type": "code",
   "execution_count": null,
   "metadata": {},
   "outputs": [],
   "source": [
    "my_car = Car(color='Silver', price=35000, transmission='Manual', mileage=0, make='Tesla', model='S3')"
   ]
  },
  {
   "cell_type": "code",
   "execution_count": null,
   "metadata": {},
   "outputs": [],
   "source": [
    "my_car.drive(500)"
   ]
  },
  {
   "cell_type": "code",
   "execution_count": null,
   "metadata": {},
   "outputs": [],
   "source": [
    "my_car.drive(2340)"
   ]
  },
  {
   "cell_type": "markdown",
   "metadata": {},
   "source": [
    "### Changing attributes directly\n",
    "After you have instantiated your object, you can change each attribute directly by reassigning it to a new value. \n",
    "\n",
    "Let's change the value of the color:"
   ]
  },
  {
   "cell_type": "code",
   "execution_count": null,
   "metadata": {},
   "outputs": [],
   "source": [
    "my_car.color = 'Red'"
   ]
  },
  {
   "cell_type": "code",
   "execution_count": null,
   "metadata": {},
   "outputs": [],
   "source": [
    "my_car.color"
   ]
  },
  {
   "cell_type": "markdown",
   "metadata": {},
   "source": [
    "### Return a value from a method\n",
    "Our class technically has two methods so far, **`__init__`** and **`drive`**. **`__init__`** is a special method that is not allowed to return any object besides **`None`**. Currently **`drive`** just prints out some messages and does not explicitly return anything (and thus implicitly returns **`None`**).\n",
    "\n",
    "Let's add a method **`future_lifetime`** that calculates the remaining number of miles left until the car's value equals 0. Notice that we added the **`depreciation`** attribute in the **`__init__`** method."
   ]
  },
  {
   "cell_type": "code",
   "execution_count": null,
   "metadata": {},
   "outputs": [],
   "source": [
    "class Car:\n",
    "    \n",
    "    def __init__(self, color, price, transmission, mileage, make, model):\n",
    "        self.color = color\n",
    "        self.price = price\n",
    "        self.transmission = transmission\n",
    "        self.mileage = mileage\n",
    "        self.make = make\n",
    "        self.model = model\n",
    "        self.wheels = 4\n",
    "        self.depreciation = .5\n",
    "    \n",
    "    def drive(self, miles):\n",
    "        self.mileage += miles\n",
    "        self.price -= miles * self.depreciation\n",
    "        print(f'Your {self.make} {self.model} drove {miles} miles')\n",
    "        print(f'Total miles driven: {self.mileage}')\n",
    "        print(f'Current value of car: {self.price}')\n",
    "        \n",
    "    def future_lifetime(self):\n",
    "        return self.price / self.depreciation"
   ]
  },
  {
   "cell_type": "code",
   "execution_count": null,
   "metadata": {},
   "outputs": [],
   "source": [
    "my_car = Car(color='Silver', price=35000, transmission='Manual', \n",
    "             mileage=0, make='Tesla', model='S3')\n",
    "\n",
    "my_car.future_lifetime()"
   ]
  },
  {
   "cell_type": "code",
   "execution_count": null,
   "metadata": {},
   "outputs": [],
   "source": [
    "my_car.drive(43000)"
   ]
  },
  {
   "cell_type": "code",
   "execution_count": null,
   "metadata": {},
   "outputs": [],
   "source": [
    "my_car.future_lifetime()"
   ]
  },
  {
   "cell_type": "markdown",
   "metadata": {},
   "source": [
    "### Why does Python pass the object as the first parameter?\n",
    "Most if not all object-oriented programming languages give access to the object itself inside of methods. They do this to allow access to all of the object's data (its attributes and methods). Without having access to the object, the method would just turn into a normal function and their would be no purpose for methods. \n",
    "\n",
    "### Python vs Java: `self` vs `this`\n",
    "Python makes you explicitly label the object (**`self`**) in the method definition. Other languages like Java do not have this explicit parameter in the method definition and instead appropriate the keyword **`this`** to refer to the object. See [this SO post](http://stackoverflow.com/questions/21694901/difference-between-python-self-and-java-this) for more.\n",
    "\n",
    "### Listing all the attributes and methods of our custom car object\n",
    "The **`dir`** function outputs all the attributes and methods of our custom car object. You might be surprised to see several special methods that we did not define. This is because Python equips all objects with some default special methods. These are not important here."
   ]
  },
  {
   "cell_type": "code",
   "execution_count": null,
   "metadata": {},
   "outputs": [],
   "source": [
    "dir(my_car)"
   ]
  },
  {
   "cell_type": "markdown",
   "metadata": {},
   "source": [
    "# Docstrings for Classes\n",
    "Like functions, docstrings are added directly below the class definition. It is good practice to put the type and description of the initialization parameters. This docstring will appear when getting help when instantiating the class. All methods can (and ideally should) have docstrings as well."
   ]
  },
  {
   "cell_type": "code",
   "execution_count": null,
   "metadata": {},
   "outputs": [],
   "source": [
    "class Car:\n",
    "    '''\n",
    "    Creates a car that can drive and keep track of mileage.\n",
    "    \n",
    "    Parameters\n",
    "    ----------\n",
    "    color: string\n",
    "        Color of car\n",
    "        \n",
    "    price: int, float\n",
    "        Price of car\n",
    "        \n",
    "    transmission: string\n",
    "        Manual or Automatic\n",
    "    \n",
    "    mileage: int or float\n",
    "        Initial mileage of car\n",
    "        \n",
    "    make: str\n",
    "       Name of car manufacturer\n",
    "       \n",
    "    model: str\n",
    "        Name of model\n",
    "    '''\n",
    "    \n",
    "    def __init__(self, color, price, transmission, mileage, make, model):\n",
    "        self.color = color\n",
    "        self.price = price\n",
    "        self.transmission = transmission\n",
    "        self.mileage = mileage\n",
    "        self.make = make\n",
    "        self.model = model\n",
    "        self.wheels = 4\n",
    "        self.depreciation = .5\n",
    "    \n",
    "    def drive(self, miles):\n",
    "        '''\n",
    "        Drive the car and add the current miles to the total\n",
    "        \n",
    "        Parameters\n",
    "        ----------\n",
    "        miles: int or flaot\n",
    "            The number of miles driven\n",
    "        '''\n",
    "        self.mileage += miles\n",
    "        self.price -= miles * self.depreciation\n",
    "        print(f'Your {self.make} {self.model} drove {miles} miles')\n",
    "        print(f'Total miles driven: {self.mileage}')\n",
    "        print(f'Current value of car: {self.price}')\n",
    "        \n",
    "    def future_lifetime(self):\n",
    "        '''\n",
    "        Calculate the future lifetime of the car in miles\n",
    "        \n",
    "        Returns\n",
    "        -------\n",
    "        The number of miles left as a float\n",
    "        '''\n",
    "        return self.price / self.depreciation"
   ]
  },
  {
   "cell_type": "markdown",
   "metadata": {},
   "source": [
    "### Problem 2\n",
    "<span style=\"color:green\">Create a `Person` class with attributes for first and last name, sex, age, and height. Define a method, `greet` that returns a greeting message as a string with the person's first and last name. Then, instantiate the class and call the `greet` method.</span>"
   ]
  },
  {
   "cell_type": "code",
   "execution_count": null,
   "metadata": {},
   "outputs": [],
   "source": [
    "# your code here"
   ]
  },
  {
   "cell_type": "markdown",
   "metadata": {},
   "source": [
    "### Problem 3\n",
    "<span style=\"color:green\">Create an `Address` class with attributes for street number, street name, city, state, zip code, and apartment number. Default the apartment parameter number to `None`. Define the `is_apt` method that returns a boolean whether or not the address is an apartment. Instantiate the class and call the `is_apt` method.</span>"
   ]
  },
  {
   "cell_type": "code",
   "execution_count": null,
   "metadata": {},
   "outputs": [],
   "source": [
    "# your code here"
   ]
  },
  {
   "cell_type": "markdown",
   "metadata": {},
   "source": [
    "### Calling methods from attributes within your class\n",
    "Our car objects from above have several attributes. Each of these attributes is another object. For example, the **`color`** attribute is a string and the **`mileage`** attribute is an integer. Each of these objects have their own attributes and methods like everything else.\n",
    "\n",
    "Let's call the **`upper`** method of the **`color`** string attribute. Notice that this uses dot notation twice. First to access **`color`** and then to access its method **`upper`**."
   ]
  },
  {
   "cell_type": "code",
   "execution_count": null,
   "metadata": {},
   "outputs": [],
   "source": [
    "my_car = Car(color='Silver', price=35000, transmission='Manual', \n",
    "             mileage=0, make='Tesla', model='S3')"
   ]
  },
  {
   "cell_type": "code",
   "execution_count": null,
   "metadata": {},
   "outputs": [],
   "source": [
    "my_car.color.upper()"
   ]
  },
  {
   "cell_type": "markdown",
   "metadata": {},
   "source": [
    "### Setting an attribute to an object instantiated from a user-defined class\n",
    "So far, the attributes of our car class have been quite simple, and assigned to the built-in integer and string types. We can assign our attributes to user-defined types as well.\n",
    "\n",
    "Let's redefine the car class to also accept a driver during initialization. This driver will be a member of the Person class we defined in problem 2."
   ]
  },
  {
   "cell_type": "code",
   "execution_count": null,
   "metadata": {},
   "outputs": [],
   "source": [
    "class Car:\n",
    "    \n",
    "    def __init__(self, color, price, transmission, mileage, make, model, driver):\n",
    "        self.color = color\n",
    "        self.price = price\n",
    "        self.transmission = transmission\n",
    "        self.mileage = mileage\n",
    "        self.make = make\n",
    "        self.model = model\n",
    "        self.driver = driver\n",
    "        self.wheels = 4\n",
    "        self.depreciation = .5\n",
    "    \n",
    "    def drive(self, miles):\n",
    "        self.mileage += miles\n",
    "        self.price -= miles * self.depreciation\n",
    "        print(f'Your {self.make} {self.model} drove {miles} miles')\n",
    "        print(f'Total miles driven: {self.mileage}')\n",
    "        print(f'Current value of car: {self.price}')\n",
    "        \n",
    "    def future_lifetime(self):\n",
    "        return self.price / self.depreciation\n",
    "    \n",
    "class Person:\n",
    "    \n",
    "    def __init__(self, first, last, sex, age, height):\n",
    "        self.first = first\n",
    "        self.last = last\n",
    "        self.sex = sex\n",
    "        self.age = age\n",
    "        self.height = height\n",
    "        \n",
    "    def greet(self):\n",
    "        return f'Hello, my name is {self.first} {self.last}'"
   ]
  },
  {
   "cell_type": "markdown",
   "metadata": {},
   "source": [
    "### Create a person then a car\n",
    "Our **`Car`** demands a person object to be created first since its now passed as an argument to its constructor. \n",
    "\n",
    "Let's create a person and then a car with a driver!"
   ]
  },
  {
   "cell_type": "code",
   "execution_count": null,
   "metadata": {},
   "outputs": [],
   "source": [
    "some_peson = Person('LeBron', 'James', 'M', 33, 80)"
   ]
  },
  {
   "cell_type": "code",
   "execution_count": null,
   "metadata": {},
   "outputs": [],
   "source": [
    "my_car = Car(color='Silver', price=35000, transmission='Manual', \n",
    "             mileage=0, make='Tesla', model='S3', driver=some_peson)"
   ]
  },
  {
   "cell_type": "markdown",
   "metadata": {},
   "source": [
    "### Call the `greet` method of the driver of the car"
   ]
  },
  {
   "cell_type": "code",
   "execution_count": null,
   "metadata": {},
   "outputs": [],
   "source": [
    "my_car.driver.greet()"
   ]
  },
  {
   "cell_type": "markdown",
   "metadata": {},
   "source": [
    "### Call the `upper` method of the `first` attribute of the driver of the car"
   ]
  },
  {
   "cell_type": "code",
   "execution_count": null,
   "metadata": {},
   "outputs": [],
   "source": [
    "my_car.driver.first.upper()"
   ]
  },
  {
   "cell_type": "markdown",
   "metadata": {},
   "source": [
    "### Object Composition\n",
    "Objects may have attributes that refer to other objects which refer to even other objects in a continual reference that never ends. This is generally referred to as **object composition**."
   ]
  },
  {
   "cell_type": "markdown",
   "metadata": {},
   "source": [
    "### Object Composition 2\n",
    "Let's create the same car object in just a slightly different manner. Instead of first creating the person object and passing it to the car constructor, let's construct the person inside of the **`__init__`** method of the **`Car`** class.\n",
    "\n",
    "We can keep our **`Person`** class the same, but will need to change our **`Car`** class so that it takes all of the parameters of the **`Person`** class in addition to all of its original parameters. Notice how we call the **`Person`** constructor inside of the **`Car`** **`__init__`** method."
   ]
  },
  {
   "cell_type": "code",
   "execution_count": null,
   "metadata": {},
   "outputs": [],
   "source": [
    "class Car:\n",
    "    \n",
    "    def __init__(self, color, price, transmission, mileage, make, model,\n",
    "                 first, last, sex, age, height):\n",
    "        self.color = color\n",
    "        self.price = price\n",
    "        self.transmission = transmission\n",
    "        self.mileage = mileage\n",
    "        self.make = make\n",
    "        self.model = model\n",
    "        self.driver = Person(first, last, sex, age, height) # Person class instantiated here\n",
    "        self.wheels = 4\n",
    "        self.depreciation = .5\n",
    "    \n",
    "    def drive(self, miles):\n",
    "        self.mileage += miles\n",
    "        self.price -= miles * self.depreciation\n",
    "        print(f'Your {self.make} {self.model} drove {miles} miles')\n",
    "        print(f'Total miles driven: {self.mileage}')\n",
    "        print(f'Current value of car: {self.price}')\n",
    "        \n",
    "    def future_lifetime(self):\n",
    "        return self.price / self.depreciation\n",
    "    \n",
    "class Person:\n",
    "    \n",
    "    def __init__(self, first, last, sex, age, height):\n",
    "        self.first = first\n",
    "        self.last = last\n",
    "        self.sex = sex\n",
    "        self.age = age\n",
    "        self.height = height\n",
    "        \n",
    "    def greet(self):\n",
    "        return f'Hello, my name is {self.first} {self.last}'"
   ]
  },
  {
   "cell_type": "markdown",
   "metadata": {},
   "source": [
    "### All in one\n",
    "Instead of first making a person object, we simply pass all the person constructor arguments to the car constructor."
   ]
  },
  {
   "cell_type": "code",
   "execution_count": null,
   "metadata": {},
   "outputs": [],
   "source": [
    "my_car = Car(color='Silver', price=35000, transmission='Manual', \n",
    "             mileage=0, make='Tesla', model='S3',\n",
    "             first='Donald', last='Trump', sex='M', age=71, height=74)"
   ]
  },
  {
   "cell_type": "code",
   "execution_count": null,
   "metadata": {},
   "outputs": [],
   "source": [
    "my_car.driver.first"
   ]
  },
  {
   "cell_type": "markdown",
   "metadata": {},
   "source": [
    "### We still have a person object\n",
    "We still have a person object but it is only created for one specific car instance. This is slightly different that our previous example where the person object was created independently."
   ]
  },
  {
   "cell_type": "code",
   "execution_count": null,
   "metadata": {},
   "outputs": [],
   "source": [
    "type(my_car.driver)"
   ]
  },
  {
   "cell_type": "markdown",
   "metadata": {},
   "source": [
    "### Problem 4\n",
    "<span style=\"color:green\">Define a new `Person` class that has one more attribute, `address`. Let this name refer to an instance of the `Address` class defined in problem 3. You may use either form of object composition explained above. Create an instance of the new `Person` class and call the `is_apt` method of its address attribute.</span>"
   ]
  },
  {
   "cell_type": "code",
   "execution_count": null,
   "metadata": {},
   "outputs": [],
   "source": [
    "# your code here"
   ]
  },
  {
   "cell_type": "markdown",
   "metadata": {},
   "source": [
    "# The default dictionary\n",
    "We will shift attention for a moment to learn about the default dictionary data structure, which will make the following project easier. The **`collections`** module (which is part of the standard library) has a special type of dictionary called a **default dictionary**. It is the same as a normal dictionary except that when a key is queried that doesn't exist within it, a default value is returned instead of an error.\n",
    "\n",
    "A common default value is 0. Let's see how this is done."
   ]
  },
  {
   "cell_type": "code",
   "execution_count": null,
   "metadata": {},
   "outputs": [],
   "source": [
    "from collections import defaultdict\n",
    "\n",
    "d = defaultdict(int)\n",
    "\n",
    "d['m']"
   ]
  },
  {
   "cell_type": "markdown",
   "metadata": {},
   "source": [
    "### Explanation\n",
    "We import the **`defaultdict`** type and instantiate it by passing the type of object we want returned as a default. Here we are telling it that we want an integer returned. By default this integer is 0. We have no data in our dictionary, so when we select key **`m`**, a 0 is returned and we don't get a **`KeyError`**. Let's see this error with a normal Python dictionary:"
   ]
  },
  {
   "cell_type": "code",
   "execution_count": null,
   "metadata": {},
   "outputs": [],
   "source": [
    "d = {}\n",
    "d['m']"
   ]
  },
  {
   "cell_type": "markdown",
   "metadata": {},
   "source": [
    "### Simple use-case for a default dict\n",
    "This type can come in handy when we are counting things that have yet to have occurred. For instance, let's use a **`defaultdict`** to count the occurrence of each letter in a string. Here we loop through each character in the word and increment the count of each letter by 1."
   ]
  },
  {
   "cell_type": "code",
   "execution_count": null,
   "metadata": {},
   "outputs": [],
   "source": [
    "d = defaultdict(int)\n",
    "word = 'There are many other useful data structures in the collections module'\n",
    "\n",
    "for letter in word:\n",
    "    d[letter] += 1\n",
    "    \n",
    "d"
   ]
  },
  {
   "cell_type": "markdown",
   "metadata": {},
   "source": [
    "### Using a Normal Dictionary\n",
    "Let's repeat this analysis with a normal dictionary. We will need to check membership first with the **`in`** operator first to avoid raising an exception."
   ]
  },
  {
   "cell_type": "code",
   "execution_count": null,
   "metadata": {},
   "outputs": [],
   "source": [
    "d = {}\n",
    "word = 'There are many other useful data structures in the collections module'\n",
    "\n",
    "for letter in word:\n",
    "    if letter in d:\n",
    "        d[letter] += 1\n",
    "    else:\n",
    "        d[letter] = 1\n",
    "\n",
    "d"
   ]
  },
  {
   "cell_type": "markdown",
   "metadata": {},
   "source": [
    "# Project - Rolling Dice\n",
    "This project will require quite a lot of effort. We will do it together one step at a time, but feel free to attempt it all on your own without looking at the solution below.\n",
    "\n",
    "\n",
    "<span style=\"color:green\">  Create a class **`Dice`** that takes one parameter during initialization, **`faces`**, which is a list of integers of all possible die outcomes. For instance, **`faces`** can take the value `[1,2,3,4,5,6]` but you can also create a list with any number of faces and any values for each face.\n",
    "\n",
    "During initialization\n",
    "\n",
    "* Assign the parameter **`faces`** as an attribute with the same name.\n",
    "* Define an attribute named **`num_die`** and assign it to 2. There will only ever be two dice and each die will have the same face.\n",
    "* Define an attribute named **`rolls`** and assign it to an empty list.\n",
    "* Define an attribute named **`current_roll`** and assign to **`None`**\n",
    "* Define an attribute named **`current_total`** and assign to **`None`**\n",
    "* Define an attribute **`num_combs`** that is the number of possible outcomes of the dice.\n",
    "* Define an attribute named **`theoretical_probs`** and assign it to a dictionary where the keys are all possible dice sums and the values are the theoretical probability of occurrence of that sum. \n",
    "* Define a method named **`_compute_probs`** that will be called to compute the probabilities for the **`theoretical_probs`** dictionary. This method will be called during initialization and return the dictionary.\n",
    "\n",
    "Define the following methods\n",
    "\n",
    "* **`roll`**: Chooses random faces for each of the dice and appends the sum of the roll to the **`rolls`** attribute. Give it a boolean parameter **`to_print`** that is defaulted to False and if True prints out the roll. Assign the attribute **`current_roll`** a tuple of the roll.  Assign the sum of the two dice to attribute **`current_total`**.\n",
    "* **`find_max`** : Returns the maximum sum of a roll\n",
    "* **`find_min`** : Returns the minimum sum of a roll\n",
    "* **`actual_count`** : Returns a dictionary where the key is sum of the dice and the value is number of occurrences that have actually happened\n",
    "* **`actual_probs`** : Returns a dictionary where the key is the total and the value is the empirical probability of getting that total based on the current rolls\n",
    "\n",
    "Test your class by instantiating it, rolling it several times and then access all its attributes and call all its methods.\n",
    "\n",
    "</span>\n",
    "\n",
    "### 1. Getting started - Define `Dice` class\n",
    "Let's complete the first six asterisks above. Since there are two dice, **`num_combs`** is equal to the square of the number of faces."
   ]
  },
  {
   "cell_type": "code",
   "execution_count": null,
   "metadata": {},
   "outputs": [],
   "source": [
    "class Dice:\n",
    "    \n",
    "    def __init__(self, faces):\n",
    "        self.faces = faces\n",
    "        self.num_die = 2\n",
    "        self.rolls = []\n",
    "        self.current_roll = None\n",
    "        self.current_total = None\n",
    "        self.num_combs = len(faces) ** 2"
   ]
  },
  {
   "cell_type": "markdown",
   "metadata": {},
   "source": [
    "### 2. Compute the theoretical probability\n",
    "This is the most complex step. We are asked to define a method to compute the theoretical probability of a dice roll. To do so, we will iterate through each possible combination of dice by using two nested `for` loops. We then sum the faces, and accumulate the probability in a default dictionary. Each particular sum is worth 1 divided by the total number of combinations.\n",
    "\n",
    "Notice that we assign the attribute **`theoretical_probs`** to the returned value of the private method **`_compute_probs`**."
   ]
  },
  {
   "cell_type": "code",
   "execution_count": null,
   "metadata": {},
   "outputs": [],
   "source": [
    "from collections import defaultdict\n",
    "\n",
    "class Dice:\n",
    "    \n",
    "    def __init__(self, faces):\n",
    "        self.faces = faces\n",
    "        self.num_die = 2\n",
    "        self.rolls = []\n",
    "        self.current_roll = None\n",
    "        self.current_total = None\n",
    "        self.num_combs = len(faces) ** 2\n",
    "        self.theoretical_probs = self._compute_probs()\n",
    "        \n",
    "    def _compute_probs(self):\n",
    "        probs = defaultdict(int)\n",
    "        for face1 in self.faces:\n",
    "            for face2 in self.faces:\n",
    "                total = face1 + face2\n",
    "                probs[total] += 1 / self.num_combs\n",
    "        return probs"
   ]
  },
  {
   "cell_type": "markdown",
   "metadata": {},
   "source": [
    "### Output theoretical probability\n",
    "Let's create an instance of our current `Dice` class and output the theoretical probability."
   ]
  },
  {
   "cell_type": "code",
   "execution_count": null,
   "metadata": {},
   "outputs": [],
   "source": [
    "dice = Dice([1,2,3,4,5,6])"
   ]
  },
  {
   "cell_type": "code",
   "execution_count": null,
   "metadata": {},
   "outputs": [],
   "source": [
    "dice.theoretical_probs"
   ]
  },
  {
   "cell_type": "markdown",
   "metadata": {},
   "source": [
    "### Verify that the probabilities sum to 1\n",
    "The above probabilities should sum to 1. Let's select the values of the dictionary and sum them up."
   ]
  },
  {
   "cell_type": "code",
   "execution_count": null,
   "metadata": {},
   "outputs": [],
   "source": [
    "sum(dice.theoretical_probs.values())"
   ]
  },
  {
   "cell_type": "markdown",
   "metadata": {},
   "source": [
    "### 3. Define the `roll` method\n",
    "The **`choices`** function from the **`random`** module randomly selects with replacement **`k`** number of elements from the sequence its given as its first argument (in this case it is the faces list). This roll is saved as a two-element list to the variable **`r`**. \n",
    "\n",
    "We convert the list to a tuple and assign it to the attribute **`current_roll`**. We sum the roll and assign to **`current_total`** and append it to the **`rolls`** list."
   ]
  },
  {
   "cell_type": "code",
   "execution_count": null,
   "metadata": {},
   "outputs": [],
   "source": [
    "from collections import defaultdict\n",
    "import random\n",
    "\n",
    "class Dice:\n",
    "    \n",
    "    def __init__(self, faces):\n",
    "        self.faces = faces\n",
    "        self.num_die = 2\n",
    "        self.rolls = []\n",
    "        self.current_roll = None\n",
    "        self.current_total = None\n",
    "        self.num_combs = len(faces) ** 2\n",
    "        self.theoretical_probs = self._compute_probs()\n",
    "        \n",
    "    def _compute_probs(self):\n",
    "        probs = defaultdict(int)\n",
    "        for face1 in self.faces:\n",
    "            for face2 in self.faces:\n",
    "                total = face1 + face2\n",
    "                probs[total] += 1 / self.num_combs\n",
    "        return probs\n",
    "    \n",
    "    def roll(self, to_print=False):\n",
    "        r = random.choices(self.faces, k=2) # returns a list of 2 rolls\n",
    "        total = sum(r)\n",
    "        self.current_roll = tuple(r)\n",
    "        self.current_total = total\n",
    "        self.rolls.append(total)\n",
    "        if to_print:\n",
    "            print(f'The current roll is {self.current_roll}')"
   ]
  },
  {
   "cell_type": "markdown",
   "metadata": {},
   "source": [
    "### Test out `roll` method\n",
    "Let's try rolling our new shiny dice instance. Set the **`to_print`** parameter to True, so we can see each roll. Roll the dice three times and the output all the rolls."
   ]
  },
  {
   "cell_type": "code",
   "execution_count": null,
   "metadata": {},
   "outputs": [],
   "source": [
    "dice = Dice([1,2,3,4,5,6])"
   ]
  },
  {
   "cell_type": "code",
   "execution_count": null,
   "metadata": {},
   "outputs": [],
   "source": [
    "dice.roll(to_print=True)"
   ]
  },
  {
   "cell_type": "code",
   "execution_count": null,
   "metadata": {},
   "outputs": [],
   "source": [
    "dice.roll(to_print=True)"
   ]
  },
  {
   "cell_type": "code",
   "execution_count": null,
   "metadata": {},
   "outputs": [],
   "source": [
    "dice.roll(to_print=True)"
   ]
  },
  {
   "cell_type": "code",
   "execution_count": null,
   "metadata": {},
   "outputs": [],
   "source": [
    "dice.rolls"
   ]
  },
  {
   "cell_type": "markdown",
   "metadata": {},
   "source": [
    "### 4. Define the `find_max` and `find_min` methods\n",
    "All possible outcomes are stored in the dictionary referenced by the **`theoretical_probs`** attribute. We can call the built-in **`max`** and **`min`** methods to get the maximum/minimum total. Note that when passing a dictionary to the built-in **`max`** and **`min`** methods that only the keys get iterated through, which is what we desire, as the keys are the dice totals."
   ]
  },
  {
   "cell_type": "code",
   "execution_count": null,
   "metadata": {},
   "outputs": [],
   "source": [
    "from collections import defaultdict\n",
    "import random\n",
    "\n",
    "class Dice:\n",
    "    \n",
    "    def __init__(self, faces):\n",
    "        self.faces = faces\n",
    "        self.num_die = 2\n",
    "        self.rolls = []\n",
    "        self.current_roll = None\n",
    "        self.current_total = None\n",
    "        self.num_combs = len(faces) ** 2\n",
    "        self.theoretical_probs = self._compute_probs()\n",
    "        \n",
    "    def _compute_probs(self):\n",
    "        probs = defaultdict(int)\n",
    "        for face1 in self.faces:\n",
    "            for face2 in self.faces:\n",
    "                total = face1 + face2\n",
    "                probs[total] += 1 / self.num_combs\n",
    "        return probs\n",
    "    \n",
    "    def roll(self, to_print=False):\n",
    "        r = random.choices(self.faces, k=2) # returns a list of 2 rolls\n",
    "        total = sum(r)\n",
    "        self.current_roll = tuple(r)\n",
    "        self.current_total = total\n",
    "        self.rolls.append(total)\n",
    "        if to_print:\n",
    "            print(f'The current roll is {self.current_roll}')\n",
    "            \n",
    "    def find_max(self):\n",
    "        return max(self.theoretical_probs)\n",
    "    \n",
    "    def find_min(self):\n",
    "        return min(self.theoretical_probs)"
   ]
  },
  {
   "cell_type": "markdown",
   "metadata": {},
   "source": [
    "### Verify `find_max` and `find_min`\n",
    "Let's verify these methods are working properly:"
   ]
  },
  {
   "cell_type": "code",
   "execution_count": null,
   "metadata": {},
   "outputs": [],
   "source": [
    "dice = Dice([1,2,3,4,5,6])"
   ]
  },
  {
   "cell_type": "code",
   "execution_count": null,
   "metadata": {},
   "outputs": [],
   "source": [
    "dice.find_max()"
   ]
  },
  {
   "cell_type": "code",
   "execution_count": null,
   "metadata": {},
   "outputs": [],
   "source": [
    "dice.find_min()"
   ]
  },
  {
   "cell_type": "markdown",
   "metadata": {},
   "source": [
    "### 5. Define `actual_count` and `actual_probs`\n",
    "Here we need to iterate through our history of rolls and either do a raw frequency count or calculate a proportion of occurrence. Again, a default dictionary is appropriate here with a default value of 0."
   ]
  },
  {
   "cell_type": "code",
   "execution_count": null,
   "metadata": {},
   "outputs": [],
   "source": [
    "from collections import defaultdict\n",
    "import random\n",
    "\n",
    "class Dice:\n",
    "    \n",
    "    def __init__(self, faces):\n",
    "        self.faces = faces\n",
    "        self.num_die = 2\n",
    "        self.rolls = []\n",
    "        self.current_roll = None\n",
    "        self.current_total = None\n",
    "        self.num_combs = len(faces) ** 2\n",
    "        self.theoretical_probs = self._compute_probs()\n",
    "        \n",
    "    def _compute_probs(self):\n",
    "        probs = defaultdict(int)\n",
    "        for face1 in self.faces:\n",
    "            for face2 in self.faces:\n",
    "                total = face1 + face2\n",
    "                probs[total] += 1 / self.num_combs\n",
    "        return probs\n",
    "    \n",
    "    def roll(self, to_print=False):\n",
    "        r = random.choices(self.faces, k=2) # returns a list of 2 rolls\n",
    "        total = sum(r)\n",
    "        self.current_roll = tuple(r)\n",
    "        self.current_total = total\n",
    "        self.rolls.append(total)\n",
    "        if to_print:\n",
    "            print(f'The current roll is {self.current_roll}')\n",
    "            \n",
    "    def find_max(self):\n",
    "        return max(self.theoretical_probs)\n",
    "    \n",
    "    def find_min(self):\n",
    "        return min(self.theoretical_probs)\n",
    "    \n",
    "    def actual_count(self):\n",
    "        d = defaultdict(int)\n",
    "        for roll in self.rolls:\n",
    "            d[roll] += 1\n",
    "        return d\n",
    "        \n",
    "    def actual_probs(self):\n",
    "        d = defaultdict(int)\n",
    "        for roll in self.rolls:\n",
    "            d[roll] += 1 / len(self.rolls)\n",
    "        return d"
   ]
  },
  {
   "cell_type": "markdown",
   "metadata": {},
   "source": [
    "### Simulate many rolls\n",
    "Let's roll our dice 1000 times and output the frequency and proportion of the sum."
   ]
  },
  {
   "cell_type": "code",
   "execution_count": null,
   "metadata": {},
   "outputs": [],
   "source": [
    "dice = Dice([1,2,3,4,5,6])"
   ]
  },
  {
   "cell_type": "code",
   "execution_count": null,
   "metadata": {},
   "outputs": [],
   "source": [
    "for i in range(1000):\n",
    "    dice.roll()"
   ]
  },
  {
   "cell_type": "code",
   "execution_count": null,
   "metadata": {},
   "outputs": [],
   "source": [
    "dice.actual_count()"
   ]
  },
  {
   "cell_type": "code",
   "execution_count": null,
   "metadata": {},
   "outputs": [],
   "source": [
    "dice.actual_probs()"
   ]
  },
  {
   "cell_type": "markdown",
   "metadata": {},
   "source": [
    "# Public and Private methods\n",
    "Technically, all object methods in Python are **public**, meaning that anyone can access the method at any time during the program. Other languages, such as Java, have true **private** methods which are not accessible to the user of a class and only available internally within the class itself. In Python, methods that begin with one or two underscores are by convention \"private\" and should only be used within the class definition.\n",
    "\n",
    "The **`Dice`** class has a single private method **`_compute_probs`**. You should notice that when you use tab completion to list all the methods of a dice object (right after the dot), only the public methods will appear in the list. You can still call private methods whenever you want, its just that iPython hides them for you to help ease development.\n",
    "\n",
    "# Instance attributes vs local variables within a method\n",
    "\n",
    "Take a look at the **`roll`** method above. You will notice that the first two lines assign values to the variables **`r`** and **`total`**. These two variables are NOT bound to the instance, they are merely **local** variables that exist just in that one method and are garbage collected after method completion.\n",
    "\n",
    "Instance variables/attributes are bound to the object and will be accessible via the dot notation for the lifetime of the object. Within the class definition, you access instance attributes with **`self`**. Outside of the class definition, you use the object name."
   ]
  },
  {
   "cell_type": "markdown",
   "metadata": {},
   "source": [
    "### Problem 5\n",
    "<span style=\"color:green\">Write a function, **`compute_prob_diff`**, that accepts a single parameter **`n`**, the number of rolls and returns a  dictionary that contains the absolute difference between the theoretical and actual probabilities. Output the function for 100, 10,000 and 1,000,000 rolls</span>"
   ]
  },
  {
   "cell_type": "code",
   "execution_count": null,
   "metadata": {},
   "outputs": [],
   "source": [
    "# your code here"
   ]
  },
  {
   "cell_type": "markdown",
   "metadata": {},
   "source": [
    "### Problem 6\n",
    "<span style=\"color:green\">You will create a simplified game of craps using a single Python class. The basic game of craps is as follows:</span> \n",
    "\n",
    "1. There are two stages to the game. \n",
    "1. You make a wager\n",
    "1. If you roll a 2, 3 or 12 you lose and the game ends. If you roll a 7 or 11 you win and the game ends.\n",
    "1. If you roll anything else (4,5,6,8,9,10) then the game continues to the second stage.\n",
    "1. You continue rolling until you roll your original number from the first stage or a 7.\n",
    "1. If you roll your original number you win and the game ends. If your roll a 7 you lose and the game ends.\n",
    "\n",
    "\n",
    "* Write a **`Craps`** class who's constructor has two parameters **player name**, and **starting money**. \n",
    "* Create a method **`play`** that accepts a single parameter **`wager`** and plays one complete game of craps (until the wager is won or lost). \n",
    "* Print out each roll as it happens and update the money at game completion. \n",
    "* Print out the amount of money the player has at both the start and end of each game\n",
    "* Do not put all your code in the **`play`** method. Think about using object composition with the **`Dice`** class from above.\n",
    "\n",
    "Break up logical pieces of code into their own methods. A broad general rule (not meant to be strictly followed) is to keep methods under 10 lines of code. The solution has 4 methods (other than **`__init__`**) that each run a very specific piece of logic. You have lots of flexibility to design your class however you want.\n",
    "\n",
    "Once you create your Craps class, instantiate it and play it until you double up or go broke."
   ]
  },
  {
   "cell_type": "code",
   "execution_count": null,
   "metadata": {},
   "outputs": [],
   "source": [
    "# your code here"
   ]
  }
 ],
 "metadata": {
  "kernelspec": {
   "display_name": "Python 3",
   "language": "python",
   "name": "python3"
  },
  "language_info": {
   "codemirror_mode": {
    "name": "ipython",
    "version": 3
   },
   "file_extension": ".py",
   "mimetype": "text/x-python",
   "name": "python",
   "nbconvert_exporter": "python",
   "pygments_lexer": "ipython3",
   "version": "3.6.4"
  }
 },
 "nbformat": 4,
 "nbformat_minor": 2
}
