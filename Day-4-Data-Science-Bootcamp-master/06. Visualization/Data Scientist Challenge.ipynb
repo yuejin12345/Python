{
 "cells": [
  {
   "cell_type": "markdown",
   "metadata": {},
   "source": [
    "## Data Scientist Challenge"
   ]
  },
  {
   "cell_type": "markdown",
   "metadata": {},
   "source": [
    "In this challenge you are assuming the position of a data scientist for a large corporation with offices in many states. The company you work for is looking to gain insights from its data from across the many states that it does business over the course of the year 2014. The company runs many 'sales' over the course of the year in its states. The data you have is of the 10,000 different sales run in different states. Each sale lasts for a particular amount of time denoted by 'sale_start' and 'sale_end' columns. Along with each sale is the revenue for that particular sale.\n",
    "\n",
    "The company is primarily interested in determining what is happening to revenue over time and what strategy should be undertaken to maximize revenue.\n",
    "\n",
    "You don't need any advanced statistics for this assignment. Good exploration and visualizations will reveal everything you need to know about what is happening. Check out pandas time-series module documentation here - http://pandas.pydata.org/pandas-docs/stable/timeseries.html"
   ]
  },
  {
   "cell_type": "markdown",
   "metadata": {},
   "source": [
    "Please fork the repository into your github profile, clone it and then start working on it locally."
   ]
  },
  {
   "cell_type": "code",
   "execution_count": 1,
   "metadata": {
    "collapsed": true
   },
   "outputs": [],
   "source": [
    "# starter code\n",
    "import pandas as pd\n",
    "import numpy as np\n",
    "import matplotlib.pyplot as plt\n",
    "import seaborn as sns\n",
    "%matplotlib inline"
   ]
  },
  {
   "cell_type": "code",
   "execution_count": 2,
   "metadata": {},
   "outputs": [],
   "source": [
    "sales = pd.read_csv('data/sales.csv', parse_dates=['sale_start', 'sale_end'])"
   ]
  },
  {
   "cell_type": "code",
   "execution_count": 3,
   "metadata": {},
   "outputs": [
    {
     "data": {
      "text/html": [
       "<div>\n",
       "<table border=\"1\" class=\"dataframe\">\n",
       "  <thead>\n",
       "    <tr style=\"text-align: right;\">\n",
       "      <th></th>\n",
       "      <th>state</th>\n",
       "      <th>sale_start</th>\n",
       "      <th>sale_end</th>\n",
       "      <th>sale_key</th>\n",
       "      <th>revenue</th>\n",
       "    </tr>\n",
       "  </thead>\n",
       "  <tbody>\n",
       "    <tr>\n",
       "      <th>0</th>\n",
       "      <td>Arkansas</td>\n",
       "      <td>2014-12-24</td>\n",
       "      <td>2014-12-24</td>\n",
       "      <td>0</td>\n",
       "      <td>1311.0</td>\n",
       "    </tr>\n",
       "    <tr>\n",
       "      <th>1</th>\n",
       "      <td>Florida</td>\n",
       "      <td>2014-10-15</td>\n",
       "      <td>2014-10-17</td>\n",
       "      <td>1</td>\n",
       "      <td>698.0</td>\n",
       "    </tr>\n",
       "    <tr>\n",
       "      <th>2</th>\n",
       "      <td>Iowa</td>\n",
       "      <td>2014-09-07</td>\n",
       "      <td>2014-09-07</td>\n",
       "      <td>2</td>\n",
       "      <td>1193.0</td>\n",
       "    </tr>\n",
       "    <tr>\n",
       "      <th>3</th>\n",
       "      <td>Indiana</td>\n",
       "      <td>2014-05-19</td>\n",
       "      <td>2014-05-22</td>\n",
       "      <td>3</td>\n",
       "      <td>469.0</td>\n",
       "    </tr>\n",
       "    <tr>\n",
       "      <th>4</th>\n",
       "      <td>Maine</td>\n",
       "      <td>2014-04-19</td>\n",
       "      <td>2014-04-19</td>\n",
       "      <td>4</td>\n",
       "      <td>334.0</td>\n",
       "    </tr>\n",
       "  </tbody>\n",
       "</table>\n",
       "</div>"
      ],
      "text/plain": [
       "      state sale_start   sale_end  sale_key  revenue\n",
       "0  Arkansas 2014-12-24 2014-12-24         0   1311.0\n",
       "1   Florida 2014-10-15 2014-10-17         1    698.0\n",
       "2      Iowa 2014-09-07 2014-09-07         2   1193.0\n",
       "3   Indiana 2014-05-19 2014-05-22         3    469.0\n",
       "4     Maine 2014-04-19 2014-04-19         4    334.0"
      ]
     },
     "execution_count": 3,
     "metadata": {},
     "output_type": "execute_result"
    }
   ],
   "source": [
    "sales.head()"
   ]
  },
  {
   "cell_type": "code",
   "execution_count": null,
   "metadata": {
    "collapsed": true
   },
   "outputs": [],
   "source": []
  }
 ],
 "metadata": {
  "anaconda-cloud": {},
  "kernelspec": {
   "display_name": "Python 3",
   "language": "python",
   "name": "python3"
  },
  "language_info": {
   "codemirror_mode": {
    "name": "ipython",
    "version": 3
   },
   "file_extension": ".py",
   "mimetype": "text/x-python",
   "name": "python",
   "nbconvert_exporter": "python",
   "pygments_lexer": "ipython3",
   "version": "3.6.1"
  }
 },
 "nbformat": 4,
 "nbformat_minor": 1
}
