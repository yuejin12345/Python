{
 "cells": [
  {
   "cell_type": "markdown",
   "metadata": {},
   "source": [
    "# Library Usage EDA\n",
    "In this notebook you will perform EDA on a San Francisco Library dataset. Your goal is to complete EDA in a similar manner as was done on the diamonds dataset."
   ]
  },
  {
   "cell_type": "code",
   "execution_count": 49,
   "metadata": {},
   "outputs": [],
   "source": [
    "import pandas as pd\n",
    "pd.options.display.max_colwidth = 40\n",
    "import pandas as pd\n",
    "import numpy as np\n",
    "import seaborn as sns\n",
    "import matplotlib.pyplot as plt\n",
    "%matplotlib inline"
   ]
  },
  {
   "cell_type": "code",
   "execution_count": 20,
   "metadata": {},
   "outputs": [
    {
     "data": {
      "text/html": [
       "<div>\n",
       "<style scoped>\n",
       "    .dataframe tbody tr th:only-of-type {\n",
       "        vertical-align: middle;\n",
       "    }\n",
       "\n",
       "    .dataframe tbody tr th {\n",
       "        vertical-align: top;\n",
       "    }\n",
       "\n",
       "    .dataframe thead th {\n",
       "        text-align: right;\n",
       "    }\n",
       "</style>\n",
       "<table border=\"1\" class=\"dataframe\">\n",
       "  <thead>\n",
       "    <tr style=\"text-align: right;\">\n",
       "      <th></th>\n",
       "      <th>Patron Type</th>\n",
       "      <th>Age Range</th>\n",
       "      <th>Home Library</th>\n",
       "      <th>Active Date</th>\n",
       "      <th>Checkouts</th>\n",
       "      <th>Renewals</th>\n",
       "      <th>Notice Preference</th>\n",
       "      <th>Year Patron Registered</th>\n",
       "      <th>Outside of County</th>\n",
       "    </tr>\n",
       "  </thead>\n",
       "  <tbody>\n",
       "    <tr>\n",
       "      <th>0</th>\n",
       "      <td>ADULT</td>\n",
       "      <td>25 to 34 years</td>\n",
       "      <td>Parkside</td>\n",
       "      <td>2013-07-01</td>\n",
       "      <td>19</td>\n",
       "      <td>7</td>\n",
       "      <td>email</td>\n",
       "      <td>2003</td>\n",
       "      <td>False</td>\n",
       "    </tr>\n",
       "    <tr>\n",
       "      <th>1</th>\n",
       "      <td>ADULT</td>\n",
       "      <td>35 to 44 years</td>\n",
       "      <td>Main Library</td>\n",
       "      <td>2013-12-01</td>\n",
       "      <td>55</td>\n",
       "      <td>0</td>\n",
       "      <td>email</td>\n",
       "      <td>2010</td>\n",
       "      <td>False</td>\n",
       "    </tr>\n",
       "    <tr>\n",
       "      <th>2</th>\n",
       "      <td>ADULT</td>\n",
       "      <td>35 to 44 years</td>\n",
       "      <td>Parkside</td>\n",
       "      <td>2014-08-01</td>\n",
       "      <td>2</td>\n",
       "      <td>1</td>\n",
       "      <td>email</td>\n",
       "      <td>2012</td>\n",
       "      <td>False</td>\n",
       "    </tr>\n",
       "    <tr>\n",
       "      <th>3</th>\n",
       "      <td>ADULT</td>\n",
       "      <td>45 to 54 years</td>\n",
       "      <td>Richmond</td>\n",
       "      <td>2015-10-01</td>\n",
       "      <td>11</td>\n",
       "      <td>8</td>\n",
       "      <td>email</td>\n",
       "      <td>2014</td>\n",
       "      <td>False</td>\n",
       "    </tr>\n",
       "    <tr>\n",
       "      <th>4</th>\n",
       "      <td>ADULT</td>\n",
       "      <td>55 to 59 years</td>\n",
       "      <td>Merced</td>\n",
       "      <td>2016-07-01</td>\n",
       "      <td>1096</td>\n",
       "      <td>18</td>\n",
       "      <td>phone</td>\n",
       "      <td>2003</td>\n",
       "      <td>False</td>\n",
       "    </tr>\n",
       "  </tbody>\n",
       "</table>\n",
       "</div>"
      ],
      "text/plain": [
       "  Patron Type       Age Range  Home Library Active Date  Checkouts  Renewals  \\\n",
       "0       ADULT  25 to 34 years      Parkside  2013-07-01         19         7   \n",
       "1       ADULT  35 to 44 years  Main Library  2013-12-01         55         0   \n",
       "2       ADULT  35 to 44 years      Parkside  2014-08-01          2         1   \n",
       "3       ADULT  45 to 54 years      Richmond  2015-10-01         11         8   \n",
       "4       ADULT  55 to 59 years        Merced  2016-07-01       1096        18   \n",
       "\n",
       "  Notice Preference  Year Patron Registered  Outside of County  \n",
       "0             email                    2003              False  \n",
       "1             email                    2010              False  \n",
       "2             email                    2012              False  \n",
       "3             email                    2014              False  \n",
       "4             phone                    2003              False  "
      ]
     },
     "execution_count": 20,
     "metadata": {},
     "output_type": "execute_result"
    }
   ],
   "source": [
    "library = pd.read_csv('../data/library.csv')\n",
    "library.head()"
   ]
  },
  {
   "cell_type": "code",
   "execution_count": 4,
   "metadata": {},
   "outputs": [
    {
     "name": "stdout",
     "output_type": "stream",
     "text": [
      "total 51952\n",
      "drwxr-xr-x@ 16 yuejin  staff       512 Sep 13 06:05 \u001b[34mtidy\u001b[m\u001b[m\n",
      "-rwxr-xr-x@  1 yuejin  staff       256 Sep 13 06:05 \u001b[31msample_data.csv\u001b[m\u001b[m\n",
      "-rwxr-xr-x@  1 yuejin  staff    366130 Sep 13 06:05 \u001b[31msales.csv\u001b[m\u001b[m\n",
      "-rwxr-xr-x@  1 yuejin  staff     25509 Sep 13 06:05 \u001b[31mnyc_deaths.csv\u001b[m\u001b[m\n",
      "-rwxr-xr-x@  1 yuejin  staff    749344 Sep 13 06:05 \u001b[31mnewsgroups.csv\u001b[m\u001b[m\n",
      "-rwxr-xr-x@  1 yuejin  staff   1171125 Sep 13 06:05 \u001b[31mmovie.csv\u001b[m\u001b[m\n",
      "-rwxr-xr-x@  1 yuejin  staff    283141 Sep 13 06:05 \u001b[31mmember_info.csv\u001b[m\u001b[m\n",
      "-rwxr-xr-x@  1 yuejin  staff    745182 Sep 13 06:05 \u001b[31mmember_groups.csv\u001b[m\u001b[m\n",
      "drwxr-xr-x@  5 yuejin  staff       160 Sep 13 06:05 \u001b[34mmatplotlib\u001b[m\u001b[m\n",
      "-rwxr-xr-x@  1 yuejin  staff      1043 Sep 13 06:05 \u001b[31mlibrary_data_dictionary.csv\u001b[m\u001b[m\n",
      "-rwxr-xr-x@  1 yuejin  staff   1387399 Sep 13 06:05 \u001b[31mlibrary.csv\u001b[m\u001b[m\n",
      "-rwxr-xr-x@  1 yuejin  staff     55628 Sep 13 06:05 \u001b[31minsurance.csv\u001b[m\u001b[m\n",
      "-rwxr-xr-x@  1 yuejin  staff   7256291 Sep 13 06:05 \u001b[31mflights.csv\u001b[m\u001b[m\n",
      "drwxr-xr-x@  3 yuejin  staff        96 Sep 13 06:05 \u001b[34mextra\u001b[m\u001b[m\n",
      "-rwxr-xr-x@  1 yuejin  staff    180798 Sep 13 06:05 \u001b[31memployee.csv\u001b[m\u001b[m\n",
      "-rwxr-xr-x@  1 yuejin  staff       545 Sep 13 06:05 \u001b[31mdiamonds_dictionary.csv\u001b[m\u001b[m\n",
      "-rwxr-xr-x@  1 yuejin  staff   2571905 Sep 13 06:05 \u001b[31mdiamonds.csv\u001b[m\u001b[m\n",
      "-rwxr-xr-x@  1 yuejin  staff      1029 Sep 13 06:05 \u001b[31mcollege_data_dictionary.csv\u001b[m\u001b[m\n",
      "-rwxr-xr-x@  1 yuejin  staff   1239257 Sep 13 06:05 \u001b[31mcollege.csv\u001b[m\u001b[m\n",
      "-rwxr-xr-x@  1 yuejin  staff  10530387 Sep 13 06:05 \u001b[31mbikes.csv\u001b[m\u001b[m\n"
     ]
    }
   ],
   "source": [
    "!ls -ltr ../data"
   ]
  },
  {
   "cell_type": "code",
   "execution_count": 14,
   "metadata": {},
   "outputs": [
    {
     "data": {
      "text/html": [
       "<div>\n",
       "<style scoped>\n",
       "    .dataframe tbody tr th:only-of-type {\n",
       "        vertical-align: middle;\n",
       "    }\n",
       "\n",
       "    .dataframe tbody tr th {\n",
       "        vertical-align: top;\n",
       "    }\n",
       "\n",
       "    .dataframe thead th {\n",
       "        text-align: right;\n",
       "    }\n",
       "</style>\n",
       "<table border=\"1\" class=\"dataframe\">\n",
       "  <thead>\n",
       "    <tr style=\"text-align: right;\">\n",
       "      <th></th>\n",
       "      <th>description</th>\n",
       "    </tr>\n",
       "    <tr>\n",
       "      <th>column_name</th>\n",
       "      <th></th>\n",
       "    </tr>\n",
       "  </thead>\n",
       "  <tbody>\n",
       "    <tr>\n",
       "      <th>Patron Type</th>\n",
       "      <td>Description of patron (adult, teen, child, sen...</td>\n",
       "    </tr>\n",
       "    <tr>\n",
       "      <th>Age Range</th>\n",
       "      <td>Age ranges: 0 to 9 years, 10 to 19 years, 20 t...</td>\n",
       "    </tr>\n",
       "    <tr>\n",
       "      <th>Home Library</th>\n",
       "      <td>Description of the branch library where the pa...</td>\n",
       "    </tr>\n",
       "    <tr>\n",
       "      <th>Active Date</th>\n",
       "      <td>Date the patron last checked out library mater...</td>\n",
       "    </tr>\n",
       "    <tr>\n",
       "      <th>Checkouts</th>\n",
       "      <td>Total number of items the patron has checked o...</td>\n",
       "    </tr>\n",
       "    <tr>\n",
       "      <th>Renewals</th>\n",
       "      <td>Total number of times the patron has renewed c...</td>\n",
       "    </tr>\n",
       "    <tr>\n",
       "      <th>Notice Preference</th>\n",
       "      <td>Description of the patron’s preferred method o...</td>\n",
       "    </tr>\n",
       "    <tr>\n",
       "      <th>Year Patron Registered</th>\n",
       "      <td>Year patron registered with library system. No...</td>\n",
       "    </tr>\n",
       "    <tr>\n",
       "      <th>Outside of County</th>\n",
       "      <td>If a patron's home address is not in San Franc...</td>\n",
       "    </tr>\n",
       "  </tbody>\n",
       "</table>\n",
       "</div>"
      ],
      "text/plain": [
       "                                                              description\n",
       "column_name                                                              \n",
       "Patron Type             Description of patron (adult, teen, child, sen...\n",
       "Age Range               Age ranges: 0 to 9 years, 10 to 19 years, 20 t...\n",
       "Home Library            Description of the branch library where the pa...\n",
       "Active Date             Date the patron last checked out library mater...\n",
       "Checkouts               Total number of items the patron has checked o...\n",
       "Renewals                Total number of times the patron has renewed c...\n",
       "Notice Preference       Description of the patron’s preferred method o...\n",
       "Year Patron Registered  Year patron registered with library system. No...\n",
       "Outside of County       If a patron's home address is not in San Franc..."
      ]
     },
     "execution_count": 14,
     "metadata": {},
     "output_type": "execute_result"
    }
   ],
   "source": [
    "libr = pd.read_csv('../data/library_data_dictionary.csv', index_col='column_name')\n",
    "libr"
   ]
  },
  {
   "cell_type": "code",
   "execution_count": 15,
   "metadata": {},
   "outputs": [
    {
     "data": {
      "text/plain": [
       "Patron Type               object\n",
       "Age Range                 object\n",
       "Home Library              object\n",
       "Active Date               object\n",
       "Checkouts                  int64\n",
       "Renewals                   int64\n",
       "Notice Preference         object\n",
       "Year Patron Registered     int64\n",
       "Outside of County           bool\n",
       "dtype: object"
      ]
     },
     "execution_count": 15,
     "metadata": {},
     "output_type": "execute_result"
    }
   ],
   "source": [
    "library.dtypes"
   ]
  },
  {
   "cell_type": "code",
   "execution_count": 16,
   "metadata": {},
   "outputs": [],
   "source": [
    "libr['Data Type'] = library.dtypes #indexes auto-align"
   ]
  },
  {
   "cell_type": "code",
   "execution_count": 17,
   "metadata": {},
   "outputs": [
    {
     "data": {
      "text/html": [
       "<div>\n",
       "<style scoped>\n",
       "    .dataframe tbody tr th:only-of-type {\n",
       "        vertical-align: middle;\n",
       "    }\n",
       "\n",
       "    .dataframe tbody tr th {\n",
       "        vertical-align: top;\n",
       "    }\n",
       "\n",
       "    .dataframe thead th {\n",
       "        text-align: right;\n",
       "    }\n",
       "</style>\n",
       "<table border=\"1\" class=\"dataframe\">\n",
       "  <thead>\n",
       "    <tr style=\"text-align: right;\">\n",
       "      <th></th>\n",
       "      <th>description</th>\n",
       "      <th>Data Type</th>\n",
       "    </tr>\n",
       "    <tr>\n",
       "      <th>column_name</th>\n",
       "      <th></th>\n",
       "      <th></th>\n",
       "    </tr>\n",
       "  </thead>\n",
       "  <tbody>\n",
       "    <tr>\n",
       "      <th>Patron Type</th>\n",
       "      <td>Description of patron (adult, teen, child, sen...</td>\n",
       "      <td>object</td>\n",
       "    </tr>\n",
       "    <tr>\n",
       "      <th>Age Range</th>\n",
       "      <td>Age ranges: 0 to 9 years, 10 to 19 years, 20 t...</td>\n",
       "      <td>object</td>\n",
       "    </tr>\n",
       "    <tr>\n",
       "      <th>Home Library</th>\n",
       "      <td>Description of the branch library where the pa...</td>\n",
       "      <td>object</td>\n",
       "    </tr>\n",
       "    <tr>\n",
       "      <th>Active Date</th>\n",
       "      <td>Date the patron last checked out library mater...</td>\n",
       "      <td>object</td>\n",
       "    </tr>\n",
       "    <tr>\n",
       "      <th>Checkouts</th>\n",
       "      <td>Total number of items the patron has checked o...</td>\n",
       "      <td>int64</td>\n",
       "    </tr>\n",
       "    <tr>\n",
       "      <th>Renewals</th>\n",
       "      <td>Total number of times the patron has renewed c...</td>\n",
       "      <td>int64</td>\n",
       "    </tr>\n",
       "    <tr>\n",
       "      <th>Notice Preference</th>\n",
       "      <td>Description of the patron’s preferred method o...</td>\n",
       "      <td>object</td>\n",
       "    </tr>\n",
       "    <tr>\n",
       "      <th>Year Patron Registered</th>\n",
       "      <td>Year patron registered with library system. No...</td>\n",
       "      <td>int64</td>\n",
       "    </tr>\n",
       "    <tr>\n",
       "      <th>Outside of County</th>\n",
       "      <td>If a patron's home address is not in San Franc...</td>\n",
       "      <td>bool</td>\n",
       "    </tr>\n",
       "  </tbody>\n",
       "</table>\n",
       "</div>"
      ],
      "text/plain": [
       "                                                              description  \\\n",
       "column_name                                                                 \n",
       "Patron Type             Description of patron (adult, teen, child, sen...   \n",
       "Age Range               Age ranges: 0 to 9 years, 10 to 19 years, 20 t...   \n",
       "Home Library            Description of the branch library where the pa...   \n",
       "Active Date             Date the patron last checked out library mater...   \n",
       "Checkouts               Total number of items the patron has checked o...   \n",
       "Renewals                Total number of times the patron has renewed c...   \n",
       "Notice Preference       Description of the patron’s preferred method o...   \n",
       "Year Patron Registered  Year patron registered with library system. No...   \n",
       "Outside of County       If a patron's home address is not in San Franc...   \n",
       "\n",
       "                       Data Type  \n",
       "column_name                       \n",
       "Patron Type               object  \n",
       "Age Range                 object  \n",
       "Home Library              object  \n",
       "Active Date               object  \n",
       "Checkouts                  int64  \n",
       "Renewals                   int64  \n",
       "Notice Preference         object  \n",
       "Year Patron Registered     int64  \n",
       "Outside of County           bool  "
      ]
     },
     "execution_count": 17,
     "metadata": {},
     "output_type": "execute_result"
    }
   ],
   "source": [
    "libr"
   ]
  },
  {
   "cell_type": "code",
   "execution_count": 21,
   "metadata": {},
   "outputs": [
    {
     "data": {
      "text/html": [
       "<div>\n",
       "<style scoped>\n",
       "    .dataframe tbody tr th:only-of-type {\n",
       "        vertical-align: middle;\n",
       "    }\n",
       "\n",
       "    .dataframe tbody tr th {\n",
       "        vertical-align: top;\n",
       "    }\n",
       "\n",
       "    .dataframe thead th {\n",
       "        text-align: right;\n",
       "    }\n",
       "</style>\n",
       "<table border=\"1\" class=\"dataframe\">\n",
       "  <thead>\n",
       "    <tr style=\"text-align: right;\">\n",
       "      <th></th>\n",
       "      <th>Patron Type</th>\n",
       "      <th>Age Range</th>\n",
       "      <th>Home Library</th>\n",
       "      <th>Active Date</th>\n",
       "      <th>Checkouts</th>\n",
       "      <th>Renewals</th>\n",
       "      <th>Notice Preference</th>\n",
       "      <th>Year Patron Registered</th>\n",
       "      <th>Outside of County</th>\n",
       "    </tr>\n",
       "  </thead>\n",
       "  <tbody>\n",
       "    <tr>\n",
       "      <th>0</th>\n",
       "      <td>ADULT</td>\n",
       "      <td>25 to 34 years</td>\n",
       "      <td>Parkside</td>\n",
       "      <td>2013-07-01</td>\n",
       "      <td>19</td>\n",
       "      <td>7</td>\n",
       "      <td>email</td>\n",
       "      <td>2003</td>\n",
       "      <td>False</td>\n",
       "    </tr>\n",
       "    <tr>\n",
       "      <th>1</th>\n",
       "      <td>ADULT</td>\n",
       "      <td>35 to 44 years</td>\n",
       "      <td>Main Library</td>\n",
       "      <td>2013-12-01</td>\n",
       "      <td>55</td>\n",
       "      <td>0</td>\n",
       "      <td>email</td>\n",
       "      <td>2010</td>\n",
       "      <td>False</td>\n",
       "    </tr>\n",
       "    <tr>\n",
       "      <th>2</th>\n",
       "      <td>ADULT</td>\n",
       "      <td>35 to 44 years</td>\n",
       "      <td>Parkside</td>\n",
       "      <td>2014-08-01</td>\n",
       "      <td>2</td>\n",
       "      <td>1</td>\n",
       "      <td>email</td>\n",
       "      <td>2012</td>\n",
       "      <td>False</td>\n",
       "    </tr>\n",
       "  </tbody>\n",
       "</table>\n",
       "</div>"
      ],
      "text/plain": [
       "  Patron Type       Age Range  Home Library Active Date  Checkouts  Renewals  \\\n",
       "0       ADULT  25 to 34 years      Parkside  2013-07-01         19         7   \n",
       "1       ADULT  35 to 44 years  Main Library  2013-12-01         55         0   \n",
       "2       ADULT  35 to 44 years      Parkside  2014-08-01          2         1   \n",
       "\n",
       "  Notice Preference  Year Patron Registered  Outside of County  \n",
       "0             email                    2003              False  \n",
       "1             email                    2010              False  \n",
       "2             email                    2012              False  "
      ]
     },
     "execution_count": 21,
     "metadata": {},
     "output_type": "execute_result"
    }
   ],
   "source": [
    "library.head(3)"
   ]
  },
  {
   "cell_type": "code",
   "execution_count": 24,
   "metadata": {},
   "outputs": [
    {
     "data": {
      "text/html": [
       "<div>\n",
       "<style scoped>\n",
       "    .dataframe tbody tr th:only-of-type {\n",
       "        vertical-align: middle;\n",
       "    }\n",
       "\n",
       "    .dataframe tbody tr th {\n",
       "        vertical-align: top;\n",
       "    }\n",
       "\n",
       "    .dataframe thead th {\n",
       "        text-align: right;\n",
       "    }\n",
       "</style>\n",
       "<table border=\"1\" class=\"dataframe\">\n",
       "  <thead>\n",
       "    <tr style=\"text-align: right;\">\n",
       "      <th></th>\n",
       "      <th>description</th>\n",
       "      <th>Data Type</th>\n",
       "      <th>Data Type Info</th>\n",
       "    </tr>\n",
       "    <tr>\n",
       "      <th>column_name</th>\n",
       "      <th></th>\n",
       "      <th></th>\n",
       "      <th></th>\n",
       "    </tr>\n",
       "  </thead>\n",
       "  <tbody>\n",
       "    <tr>\n",
       "      <th>Patron Type</th>\n",
       "      <td>Description of patron (adult, teen, ...</td>\n",
       "      <td>object</td>\n",
       "      <td>nominal</td>\n",
       "    </tr>\n",
       "    <tr>\n",
       "      <th>Age Range</th>\n",
       "      <td>Age ranges: 0 to 9 years, 10 to 19 y...</td>\n",
       "      <td>object</td>\n",
       "      <td>ordinal</td>\n",
       "    </tr>\n",
       "    <tr>\n",
       "      <th>Home Library</th>\n",
       "      <td>Description of the branch library wh...</td>\n",
       "      <td>object</td>\n",
       "      <td>ordinal</td>\n",
       "    </tr>\n",
       "    <tr>\n",
       "      <th>Active Date</th>\n",
       "      <td>Date the patron last checked out lib...</td>\n",
       "      <td>object</td>\n",
       "      <td>continuous</td>\n",
       "    </tr>\n",
       "    <tr>\n",
       "      <th>Checkouts</th>\n",
       "      <td>Total number of items the patron has...</td>\n",
       "      <td>int64</td>\n",
       "      <td>continuous</td>\n",
       "    </tr>\n",
       "    <tr>\n",
       "      <th>Renewals</th>\n",
       "      <td>Total number of times the patron has...</td>\n",
       "      <td>int64</td>\n",
       "      <td>continuous</td>\n",
       "    </tr>\n",
       "    <tr>\n",
       "      <th>Notice Preference</th>\n",
       "      <td>Description of the patron’s preferre...</td>\n",
       "      <td>object</td>\n",
       "      <td>nominal</td>\n",
       "    </tr>\n",
       "    <tr>\n",
       "      <th>Year Patron Registered</th>\n",
       "      <td>Year patron registered with library ...</td>\n",
       "      <td>int64</td>\n",
       "      <td>continuous</td>\n",
       "    </tr>\n",
       "    <tr>\n",
       "      <th>Outside of County</th>\n",
       "      <td>If a patron's home address is not in...</td>\n",
       "      <td>bool</td>\n",
       "      <td>nominal</td>\n",
       "    </tr>\n",
       "  </tbody>\n",
       "</table>\n",
       "</div>"
      ],
      "text/plain": [
       "                                                    description Data Type  \\\n",
       "column_name                                                                 \n",
       "Patron Type             Description of patron (adult, teen, ...    object   \n",
       "Age Range               Age ranges: 0 to 9 years, 10 to 19 y...    object   \n",
       "Home Library            Description of the branch library wh...    object   \n",
       "Active Date             Date the patron last checked out lib...    object   \n",
       "Checkouts               Total number of items the patron has...     int64   \n",
       "Renewals                Total number of times the patron has...     int64   \n",
       "Notice Preference       Description of the patron’s preferre...    object   \n",
       "Year Patron Registered  Year patron registered with library ...     int64   \n",
       "Outside of County       If a patron's home address is not in...      bool   \n",
       "\n",
       "                       Data Type Info  \n",
       "column_name                            \n",
       "Patron Type                   nominal  \n",
       "Age Range                     ordinal  \n",
       "Home Library                  ordinal  \n",
       "Active Date                continuous  \n",
       "Checkouts                  continuous  \n",
       "Renewals                   continuous  \n",
       "Notice Preference             nominal  \n",
       "Year Patron Registered     continuous  \n",
       "Outside of County             nominal  "
      ]
     },
     "execution_count": 24,
     "metadata": {},
     "output_type": "execute_result"
    }
   ],
   "source": [
    "c, o, n = 'continuous', 'ordinal', 'nominal' # assign\n",
    "d = {'Patron Type':n, 'Age Range':o, 'Home Library':o, 'Active Date':c, \n",
    "     'Checkouts':c, 'Renewals':c, 'Notice Preference':n, \n",
    "    'Year Patron Registered':c, 'Outside of County': n}\n",
    "libr['Data Type Info'] = pd.Series(d)\n",
    "libr"
   ]
  },
  {
   "cell_type": "code",
   "execution_count": 26,
   "metadata": {},
   "outputs": [
    {
     "data": {
      "text/plain": [
       "(21172, 9)"
      ]
     },
     "execution_count": 26,
     "metadata": {},
     "output_type": "execute_result"
    }
   ],
   "source": [
    "library.shape"
   ]
  },
  {
   "cell_type": "code",
   "execution_count": 27,
   "metadata": {},
   "outputs": [
    {
     "data": {
      "text/plain": [
       "Patron Type                  0\n",
       "Age Range                   17\n",
       "Home Library                 0\n",
       "Active Date               3391\n",
       "Checkouts                    0\n",
       "Renewals                     0\n",
       "Notice Preference            0\n",
       "Year Patron Registered       0\n",
       "Outside of County            0\n",
       "dtype: int64"
      ]
     },
     "execution_count": 27,
     "metadata": {},
     "output_type": "execute_result"
    }
   ],
   "source": [
    "library.isna().sum()"
   ]
  },
  {
   "cell_type": "code",
   "execution_count": 28,
   "metadata": {},
   "outputs": [
    {
     "name": "stdout",
     "output_type": "stream",
     "text": [
      "<class 'pandas.core.frame.DataFrame'>\n",
      "RangeIndex: 21172 entries, 0 to 21171\n",
      "Data columns (total 9 columns):\n",
      "Patron Type               21172 non-null object\n",
      "Age Range                 21155 non-null object\n",
      "Home Library              21172 non-null object\n",
      "Active Date               17781 non-null object\n",
      "Checkouts                 21172 non-null int64\n",
      "Renewals                  21172 non-null int64\n",
      "Notice Preference         21172 non-null object\n",
      "Year Patron Registered    21172 non-null int64\n",
      "Outside of County         21172 non-null bool\n",
      "dtypes: bool(1), int64(3), object(5)\n",
      "memory usage: 1.3+ MB\n"
     ]
    }
   ],
   "source": [
    "library.info()"
   ]
  },
  {
   "cell_type": "code",
   "execution_count": 30,
   "metadata": {},
   "outputs": [
    {
     "data": {
      "text/html": [
       "<div>\n",
       "<style scoped>\n",
       "    .dataframe tbody tr th:only-of-type {\n",
       "        vertical-align: middle;\n",
       "    }\n",
       "\n",
       "    .dataframe tbody tr th {\n",
       "        vertical-align: top;\n",
       "    }\n",
       "\n",
       "    .dataframe thead th {\n",
       "        text-align: right;\n",
       "    }\n",
       "</style>\n",
       "<table border=\"1\" class=\"dataframe\">\n",
       "  <thead>\n",
       "    <tr style=\"text-align: right;\">\n",
       "      <th></th>\n",
       "      <th>description</th>\n",
       "      <th>Data Type</th>\n",
       "      <th>Data Type Info</th>\n",
       "      <th>Missing Values</th>\n",
       "    </tr>\n",
       "    <tr>\n",
       "      <th>column_name</th>\n",
       "      <th></th>\n",
       "      <th></th>\n",
       "      <th></th>\n",
       "      <th></th>\n",
       "    </tr>\n",
       "  </thead>\n",
       "  <tbody>\n",
       "    <tr>\n",
       "      <th>Patron Type</th>\n",
       "      <td>Description of patron (adult, teen, ...</td>\n",
       "      <td>object</td>\n",
       "      <td>nominal</td>\n",
       "      <td>0</td>\n",
       "    </tr>\n",
       "    <tr>\n",
       "      <th>Age Range</th>\n",
       "      <td>Age ranges: 0 to 9 years, 10 to 19 y...</td>\n",
       "      <td>object</td>\n",
       "      <td>ordinal</td>\n",
       "      <td>17</td>\n",
       "    </tr>\n",
       "    <tr>\n",
       "      <th>Home Library</th>\n",
       "      <td>Description of the branch library wh...</td>\n",
       "      <td>object</td>\n",
       "      <td>ordinal</td>\n",
       "      <td>0</td>\n",
       "    </tr>\n",
       "    <tr>\n",
       "      <th>Active Date</th>\n",
       "      <td>Date the patron last checked out lib...</td>\n",
       "      <td>object</td>\n",
       "      <td>continuous</td>\n",
       "      <td>3391</td>\n",
       "    </tr>\n",
       "    <tr>\n",
       "      <th>Checkouts</th>\n",
       "      <td>Total number of items the patron has...</td>\n",
       "      <td>int64</td>\n",
       "      <td>continuous</td>\n",
       "      <td>0</td>\n",
       "    </tr>\n",
       "    <tr>\n",
       "      <th>Renewals</th>\n",
       "      <td>Total number of times the patron has...</td>\n",
       "      <td>int64</td>\n",
       "      <td>continuous</td>\n",
       "      <td>0</td>\n",
       "    </tr>\n",
       "    <tr>\n",
       "      <th>Notice Preference</th>\n",
       "      <td>Description of the patron’s preferre...</td>\n",
       "      <td>object</td>\n",
       "      <td>nominal</td>\n",
       "      <td>0</td>\n",
       "    </tr>\n",
       "    <tr>\n",
       "      <th>Year Patron Registered</th>\n",
       "      <td>Year patron registered with library ...</td>\n",
       "      <td>int64</td>\n",
       "      <td>continuous</td>\n",
       "      <td>0</td>\n",
       "    </tr>\n",
       "    <tr>\n",
       "      <th>Outside of County</th>\n",
       "      <td>If a patron's home address is not in...</td>\n",
       "      <td>bool</td>\n",
       "      <td>nominal</td>\n",
       "      <td>0</td>\n",
       "    </tr>\n",
       "  </tbody>\n",
       "</table>\n",
       "</div>"
      ],
      "text/plain": [
       "                                                    description Data Type  \\\n",
       "column_name                                                                 \n",
       "Patron Type             Description of patron (adult, teen, ...    object   \n",
       "Age Range               Age ranges: 0 to 9 years, 10 to 19 y...    object   \n",
       "Home Library            Description of the branch library wh...    object   \n",
       "Active Date             Date the patron last checked out lib...    object   \n",
       "Checkouts               Total number of items the patron has...     int64   \n",
       "Renewals                Total number of times the patron has...     int64   \n",
       "Notice Preference       Description of the patron’s preferre...    object   \n",
       "Year Patron Registered  Year patron registered with library ...     int64   \n",
       "Outside of County       If a patron's home address is not in...      bool   \n",
       "\n",
       "                       Data Type Info  Missing Values  \n",
       "column_name                                            \n",
       "Patron Type                   nominal               0  \n",
       "Age Range                     ordinal              17  \n",
       "Home Library                  ordinal               0  \n",
       "Active Date                continuous            3391  \n",
       "Checkouts                  continuous               0  \n",
       "Renewals                   continuous               0  \n",
       "Notice Preference             nominal               0  \n",
       "Year Patron Registered     continuous               0  \n",
       "Outside of County             nominal               0  "
      ]
     },
     "execution_count": 30,
     "metadata": {},
     "output_type": "execute_result"
    }
   ],
   "source": [
    "libr['Missing Values'] = library.isna().sum()\n",
    "libr"
   ]
  },
  {
   "cell_type": "code",
   "execution_count": 31,
   "metadata": {},
   "outputs": [
    {
     "data": {
      "text/plain": [
       "Patron Type                 18\n",
       "Age Range                   10\n",
       "Home Library                34\n",
       "Active Date                144\n",
       "Checkouts                 1566\n",
       "Renewals                   886\n",
       "Notice Preference            3\n",
       "Year Patron Registered      14\n",
       "Outside of County            2\n",
       "dtype: int64"
      ]
     },
     "execution_count": 31,
     "metadata": {},
     "output_type": "execute_result"
    }
   ],
   "source": [
    "library.nunique()"
   ]
  },
  {
   "cell_type": "code",
   "execution_count": 32,
   "metadata": {},
   "outputs": [
    {
     "data": {
      "text/plain": [
       "Checkouts                 1566\n",
       "Renewals                   886\n",
       "Year Patron Registered      14\n",
       "Outside of County            2\n",
       "dtype: int64"
      ]
     },
     "execution_count": 32,
     "metadata": {},
     "output_type": "execute_result"
    }
   ],
   "source": [
    "# filter for non-object columns first\n",
    "library.select_dtypes(exclude='object').nunique() "
   ]
  },
  {
   "cell_type": "code",
   "execution_count": 33,
   "metadata": {},
   "outputs": [
    {
     "data": {
      "text/html": [
       "<div>\n",
       "<style scoped>\n",
       "    .dataframe tbody tr th:only-of-type {\n",
       "        vertical-align: middle;\n",
       "    }\n",
       "\n",
       "    .dataframe tbody tr th {\n",
       "        vertical-align: top;\n",
       "    }\n",
       "\n",
       "    .dataframe thead th {\n",
       "        text-align: right;\n",
       "    }\n",
       "</style>\n",
       "<table border=\"1\" class=\"dataframe\">\n",
       "  <thead>\n",
       "    <tr style=\"text-align: right;\">\n",
       "      <th></th>\n",
       "      <th>Checkouts</th>\n",
       "      <th>Renewals</th>\n",
       "      <th>Year Patron Registered</th>\n",
       "    </tr>\n",
       "  </thead>\n",
       "  <tbody>\n",
       "    <tr>\n",
       "      <th>count</th>\n",
       "      <td>21172.000000</td>\n",
       "      <td>21172.000000</td>\n",
       "      <td>21172.000000</td>\n",
       "    </tr>\n",
       "    <tr>\n",
       "      <th>mean</th>\n",
       "      <td>163.779992</td>\n",
       "      <td>60.182836</td>\n",
       "      <td>2010.360098</td>\n",
       "    </tr>\n",
       "    <tr>\n",
       "      <th>std</th>\n",
       "      <td>455.664288</td>\n",
       "      <td>231.496056</td>\n",
       "      <td>4.346906</td>\n",
       "    </tr>\n",
       "    <tr>\n",
       "      <th>min</th>\n",
       "      <td>0.000000</td>\n",
       "      <td>0.000000</td>\n",
       "      <td>2003.000000</td>\n",
       "    </tr>\n",
       "    <tr>\n",
       "      <th>25%</th>\n",
       "      <td>2.000000</td>\n",
       "      <td>0.000000</td>\n",
       "      <td>2007.000000</td>\n",
       "    </tr>\n",
       "    <tr>\n",
       "      <th>50%</th>\n",
       "      <td>19.000000</td>\n",
       "      <td>2.000000</td>\n",
       "      <td>2012.000000</td>\n",
       "    </tr>\n",
       "    <tr>\n",
       "      <th>75%</th>\n",
       "      <td>115.000000</td>\n",
       "      <td>26.000000</td>\n",
       "      <td>2014.000000</td>\n",
       "    </tr>\n",
       "    <tr>\n",
       "      <th>max</th>\n",
       "      <td>13784.000000</td>\n",
       "      <td>5899.000000</td>\n",
       "      <td>2016.000000</td>\n",
       "    </tr>\n",
       "  </tbody>\n",
       "</table>\n",
       "</div>"
      ],
      "text/plain": [
       "          Checkouts      Renewals  Year Patron Registered\n",
       "count  21172.000000  21172.000000            21172.000000\n",
       "mean     163.779992     60.182836             2010.360098\n",
       "std      455.664288    231.496056                4.346906\n",
       "min        0.000000      0.000000             2003.000000\n",
       "25%        2.000000      0.000000             2007.000000\n",
       "50%       19.000000      2.000000             2012.000000\n",
       "75%      115.000000     26.000000             2014.000000\n",
       "max    13784.000000   5899.000000             2016.000000"
      ]
     },
     "execution_count": 33,
     "metadata": {},
     "output_type": "execute_result"
    }
   ],
   "source": [
    "library.describe()"
   ]
  },
  {
   "cell_type": "code",
   "execution_count": 34,
   "metadata": {},
   "outputs": [
    {
     "data": {
      "text/plain": [
       "ADULT                  13573\n",
       "JUVENILE                2934\n",
       "SENIOR                  2107\n",
       "YOUNG ADULT             1439\n",
       "WELCOME                  783\n",
       "TEACHER CARD              87\n",
       "DIGITAL ACCESS CARD       74\n",
       "SPECIAL                   56\n",
       "STAFF                     51\n",
       "VISITOR                   25\n",
       "AT USER ADULT             12\n",
       "BOOKS BY MAIL              8\n",
       "AT USER JUVENILE           6\n",
       "RETIRED STAFF              5\n",
       "FRIENDS FOR LIFE           5\n",
       "AT USER SENIOR             4\n",
       "AT USER WELCOME            2\n",
       "AT USER TEEN               1\n",
       "Name: Patron Type, dtype: int64"
      ]
     },
     "execution_count": 34,
     "metadata": {},
     "output_type": "execute_result"
    }
   ],
   "source": [
    "library['Patron Type'].value_counts()"
   ]
  },
  {
   "cell_type": "code",
   "execution_count": 35,
   "metadata": {},
   "outputs": [
    {
     "data": {
      "text/plain": [
       "25 to 34 years       4615\n",
       "35 to 44 years       3426\n",
       "10 to 19 years       2951\n",
       "45 to 54 years       2603\n",
       "0 to 9 years         1892\n",
       "65 to 74 years       1529\n",
       "20 to 24 years       1448\n",
       "55 to 59 years       1034\n",
       "60 to 64 years        942\n",
       "75 years and over     715\n",
       "Name: Age Range, dtype: int64"
      ]
     },
     "execution_count": 35,
     "metadata": {},
     "output_type": "execute_result"
    }
   ],
   "source": [
    "library['Age Range'].value_counts()"
   ]
  },
  {
   "cell_type": "code",
   "execution_count": 36,
   "metadata": {},
   "outputs": [
    {
     "data": {
      "text/plain": [
       "Main Library                          6326\n",
       "Mission                               1285\n",
       "Richmond                              1159\n",
       "Chinatown                              839\n",
       "Excelsior                              792\n",
       "Sunset                                 758\n",
       "Ortega                                 704\n",
       "West Portal                            623\n",
       "Mission Bay                            573\n",
       "Ingleside                              532\n",
       "Parkside                               519\n",
       "Merced                                 518\n",
       "Marina                                 504\n",
       "North Beach                            486\n",
       "Bernal Heights                         483\n",
       "Western Addition                       479\n",
       "Glen Park                              455\n",
       "Presidio                               441\n",
       "Noe Valley/Sally Brunn                 434\n",
       "Portola                                429\n",
       "Bayview/Linda Brooks-Burton            420\n",
       "Park                                   409\n",
       "Eureka Valley/Harvey Milk Memorial     405\n",
       "Potrero                                357\n",
       "Anza                                   354\n",
       "Visitacion Valley                      338\n",
       "Golden Gate Valley                     226\n",
       "Ocean View                             147\n",
       "Unknown                                 79\n",
       "Children's Bookmobile                   56\n",
       "Library on Wheels                       34\n",
       "Branch Bookmobile (West Portal)          5\n",
       "Branch Bookmobile (Excelsior)            2\n",
       "Branch Bookmobile (Sunset)               1\n",
       "Name: Home Library, dtype: int64"
      ]
     },
     "execution_count": 36,
     "metadata": {},
     "output_type": "execute_result"
    }
   ],
   "source": [
    "library['Home Library'].value_counts()"
   ]
  },
  {
   "cell_type": "code",
   "execution_count": 38,
   "metadata": {},
   "outputs": [
    {
     "data": {
      "text/plain": [
       "2016-07-01    3547\n",
       "2016-06-01    1211\n",
       "2016-05-01     750\n",
       "2016-03-01     512\n",
       "2016-04-01     483\n",
       "2016-01-01     418\n",
       "2016-02-01     384\n",
       "2015-07-01     376\n",
       "2015-08-01     372\n",
       "2015-10-01     361\n",
       "2015-03-01     358\n",
       "2015-06-01     358\n",
       "2015-11-01     350\n",
       "2015-09-01     349\n",
       "2015-12-01     346\n",
       "2014-08-01     336\n",
       "2015-05-01     320\n",
       "2014-12-01     315\n",
       "2015-04-01     310\n",
       "2013-07-01     293\n",
       "2013-08-01     289\n",
       "2014-03-01     288\n",
       "2014-06-01     267\n",
       "2014-07-01     264\n",
       "2014-04-01     263\n",
       "2014-05-01     262\n",
       "2014-09-01     261\n",
       "2014-10-01     260\n",
       "2013-12-01     257\n",
       "2014-11-01     257\n",
       "              ... \n",
       "2006-12-01       3\n",
       "2007-07-01       3\n",
       "2006-07-01       3\n",
       "2007-02-01       3\n",
       "2004-12-01       3\n",
       "2004-07-01       3\n",
       "2007-12-01       3\n",
       "2005-05-01       3\n",
       "2006-06-01       2\n",
       "2005-03-01       2\n",
       "2005-04-01       2\n",
       "2007-09-01       2\n",
       "2008-06-01       2\n",
       "2004-11-01       2\n",
       "2004-09-01       2\n",
       "2005-09-01       2\n",
       "2007-05-01       2\n",
       "2007-10-01       2\n",
       "2005-07-01       2\n",
       "2007-08-01       2\n",
       "2006-04-01       2\n",
       "2007-01-01       1\n",
       "2007-06-01       1\n",
       "2004-06-01       1\n",
       "2006-01-01       1\n",
       "2005-01-01       1\n",
       "2005-11-01       1\n",
       "2007-04-01       1\n",
       "2004-08-01       1\n",
       "2004-04-01       1\n",
       "Name: Active Date, Length: 144, dtype: int64"
      ]
     },
     "execution_count": 38,
     "metadata": {},
     "output_type": "execute_result"
    }
   ],
   "source": [
    "library['Active Date'].value_counts()"
   ]
  },
  {
   "cell_type": "code",
   "execution_count": 39,
   "metadata": {},
   "outputs": [
    {
     "data": {
      "text/plain": [
       "email    16273\n",
       "phone     3375\n",
       "print     1524\n",
       "Name: Notice Preference, dtype: int64"
      ]
     },
     "execution_count": 39,
     "metadata": {},
     "output_type": "execute_result"
    }
   ],
   "source": [
    "library['Notice Preference'].value_counts()"
   ]
  },
  {
   "cell_type": "code",
   "execution_count": 40,
   "metadata": {},
   "outputs": [
    {
     "data": {
      "text/plain": [
       "False    17937\n",
       "True      3235\n",
       "Name: Outside of County, dtype: int64"
      ]
     },
     "execution_count": 40,
     "metadata": {},
     "output_type": "execute_result"
    }
   ],
   "source": [
    "library['Outside of County'].value_counts()"
   ]
  },
  {
   "cell_type": "code",
   "execution_count": 41,
   "metadata": {},
   "outputs": [
    {
     "data": {
      "text/plain": [
       "25 to 34 years       4615\n",
       "35 to 44 years       3426\n",
       "10 to 19 years       2951\n",
       "45 to 54 years       2603\n",
       "0 to 9 years         1892\n",
       "65 to 74 years       1529\n",
       "20 to 24 years       1448\n",
       "55 to 59 years       1034\n",
       "60 to 64 years        942\n",
       "75 years and over     715\n",
       "Name: Age Range, dtype: int64"
      ]
     },
     "execution_count": 41,
     "metadata": {},
     "output_type": "execute_result"
    }
   ],
   "source": [
    "library['Age Range'].value_counts()"
   ]
  },
  {
   "cell_type": "code",
   "execution_count": 42,
   "metadata": {},
   "outputs": [
    {
     "name": "stderr",
     "output_type": "stream",
     "text": [
      "/Users/yuejin/miniconda3/envs/py35_crawling/lib/python3.6/site-packages/ipykernel_launcher.py:12: FutureWarning: specifying 'categories' or 'ordered' in .astype() is deprecated; pass a CategoricalDtype instead\n",
      "  if sys.path[0] == '':\n"
     ]
    }
   ],
   "source": [
    "library['Age Range'] = library['Age Range'].astype('category', \n",
    "                                         categories=['0 to 9 years', \n",
    "                                                     '10 to 19 years', \n",
    "                                                     '20 to 24 years', \n",
    "                                                     '25 to 34 years', \n",
    "                                                     '35 to 44 years',\n",
    "                                                     '45 to 54 years',\n",
    "                                                     '55 to 59 years',\n",
    "                                                     '60 to 64 years',\n",
    "                                                    '65 to 74 years',\n",
    "                                                    '75 years and over'], \n",
    "                                         ordered=True)"
   ]
  },
  {
   "cell_type": "code",
   "execution_count": 43,
   "metadata": {},
   "outputs": [
    {
     "data": {
      "text/plain": [
       "25 to 34 years       4615\n",
       "35 to 44 years       3426\n",
       "10 to 19 years       2951\n",
       "45 to 54 years       2603\n",
       "0 to 9 years         1892\n",
       "65 to 74 years       1529\n",
       "20 to 24 years       1448\n",
       "55 to 59 years       1034\n",
       "60 to 64 years        942\n",
       "75 years and over     715\n",
       "Name: Age Range, dtype: int64"
      ]
     },
     "execution_count": 43,
     "metadata": {},
     "output_type": "execute_result"
    }
   ],
   "source": [
    "library['Age Range'].value_counts()"
   ]
  },
  {
   "cell_type": "code",
   "execution_count": 44,
   "metadata": {},
   "outputs": [
    {
     "data": {
      "text/plain": [
       "0 to 9 years         1892\n",
       "10 to 19 years       2951\n",
       "20 to 24 years       1448\n",
       "25 to 34 years       4615\n",
       "35 to 44 years       3426\n",
       "45 to 54 years       2603\n",
       "55 to 59 years       1034\n",
       "60 to 64 years        942\n",
       "65 to 74 years       1529\n",
       "75 years and over     715\n",
       "Name: Age Range, dtype: int64"
      ]
     },
     "execution_count": 44,
     "metadata": {},
     "output_type": "execute_result"
    }
   ],
   "source": [
    "library['Age Range'].value_counts().sort_index()"
   ]
  },
  {
   "cell_type": "code",
   "execution_count": 45,
   "metadata": {},
   "outputs": [
    {
     "data": {
      "text/plain": [
       "0 to 9 years         0.089\n",
       "10 to 19 years       0.139\n",
       "20 to 24 years       0.068\n",
       "25 to 34 years       0.218\n",
       "35 to 44 years       0.162\n",
       "45 to 54 years       0.123\n",
       "55 to 59 years       0.049\n",
       "60 to 64 years       0.045\n",
       "65 to 74 years       0.072\n",
       "75 years and over    0.034\n",
       "Name: Age Range, dtype: float64"
      ]
     },
     "execution_count": 45,
     "metadata": {},
     "output_type": "execute_result"
    }
   ],
   "source": [
    "# percentages\n",
    "library['Age Range'].value_counts(normalize=True).round(3).sort_index()"
   ]
  },
  {
   "cell_type": "code",
   "execution_count": 47,
   "metadata": {},
   "outputs": [
    {
     "data": {
      "text/plain": [
       "<matplotlib.axes._subplots.AxesSubplot at 0x11aee0d68>"
      ]
     },
     "execution_count": 47,
     "metadata": {},
     "output_type": "execute_result"
    },
    {
     "data": {
      "image/png": "[encoded data removed]",
      "text/plain": [
       "<Figure size 432x288 with 1 Axes>"
      ]
     },
     "metadata": {},
     "output_type": "display_data"
    }
   ],
   "source": [
    "library['Age Range'].value_counts().sort_index().plot(kind = 'bar')"
   ]
  },
  {
   "cell_type": "code",
   "execution_count": 50,
   "metadata": {},
   "outputs": [
    {
     "data": {
      "text/plain": [
       "<matplotlib.axes._subplots.AxesSubplot at 0x1a1cd0f908>"
      ]
     },
     "execution_count": 50,
     "metadata": {},
     "output_type": "execute_result"
    },
    {
     "data": {
      "image/png": "[encoded data removed]",
      "text/plain": [
       "<Figure size 432x288 with 1 Axes>"
      ]
     },
     "metadata": {},
     "output_type": "display_data"
    }
   ],
   "source": [
    "sns.countplot(x = 'Age Range', data = library)"
   ]
  },
  {
   "cell_type": "code",
   "execution_count": 51,
   "metadata": {},
   "outputs": [
    {
     "data": {
      "text/html": [
       "<div>\n",
       "<style scoped>\n",
       "    .dataframe tbody tr th:only-of-type {\n",
       "        vertical-align: middle;\n",
       "    }\n",
       "\n",
       "    .dataframe tbody tr th {\n",
       "        vertical-align: top;\n",
       "    }\n",
       "\n",
       "    .dataframe thead th {\n",
       "        text-align: right;\n",
       "    }\n",
       "</style>\n",
       "<table border=\"1\" class=\"dataframe\">\n",
       "  <thead>\n",
       "    <tr style=\"text-align: right;\">\n",
       "      <th></th>\n",
       "      <th>description</th>\n",
       "      <th>Data Type</th>\n",
       "      <th>Data Type Info</th>\n",
       "      <th>Missing Values</th>\n",
       "    </tr>\n",
       "    <tr>\n",
       "      <th>column_name</th>\n",
       "      <th></th>\n",
       "      <th></th>\n",
       "      <th></th>\n",
       "      <th></th>\n",
       "    </tr>\n",
       "  </thead>\n",
       "  <tbody>\n",
       "    <tr>\n",
       "      <th>Patron Type</th>\n",
       "      <td>Description of patron (adult, teen, ...</td>\n",
       "      <td>object</td>\n",
       "      <td>nominal</td>\n",
       "      <td>0</td>\n",
       "    </tr>\n",
       "    <tr>\n",
       "      <th>Age Range</th>\n",
       "      <td>Age ranges: 0 to 9 years, 10 to 19 y...</td>\n",
       "      <td>object</td>\n",
       "      <td>ordinal</td>\n",
       "      <td>17</td>\n",
       "    </tr>\n",
       "    <tr>\n",
       "      <th>Home Library</th>\n",
       "      <td>Description of the branch library wh...</td>\n",
       "      <td>object</td>\n",
       "      <td>ordinal</td>\n",
       "      <td>0</td>\n",
       "    </tr>\n",
       "    <tr>\n",
       "      <th>Active Date</th>\n",
       "      <td>Date the patron last checked out lib...</td>\n",
       "      <td>object</td>\n",
       "      <td>continuous</td>\n",
       "      <td>3391</td>\n",
       "    </tr>\n",
       "    <tr>\n",
       "      <th>Checkouts</th>\n",
       "      <td>Total number of items the patron has...</td>\n",
       "      <td>int64</td>\n",
       "      <td>continuous</td>\n",
       "      <td>0</td>\n",
       "    </tr>\n",
       "    <tr>\n",
       "      <th>Renewals</th>\n",
       "      <td>Total number of times the patron has...</td>\n",
       "      <td>int64</td>\n",
       "      <td>continuous</td>\n",
       "      <td>0</td>\n",
       "    </tr>\n",
       "    <tr>\n",
       "      <th>Notice Preference</th>\n",
       "      <td>Description of the patron’s preferre...</td>\n",
       "      <td>object</td>\n",
       "      <td>nominal</td>\n",
       "      <td>0</td>\n",
       "    </tr>\n",
       "    <tr>\n",
       "      <th>Year Patron Registered</th>\n",
       "      <td>Year patron registered with library ...</td>\n",
       "      <td>int64</td>\n",
       "      <td>continuous</td>\n",
       "      <td>0</td>\n",
       "    </tr>\n",
       "    <tr>\n",
       "      <th>Outside of County</th>\n",
       "      <td>If a patron's home address is not in...</td>\n",
       "      <td>bool</td>\n",
       "      <td>nominal</td>\n",
       "      <td>0</td>\n",
       "    </tr>\n",
       "  </tbody>\n",
       "</table>\n",
       "</div>"
      ],
      "text/plain": [
       "                                                    description Data Type  \\\n",
       "column_name                                                                 \n",
       "Patron Type             Description of patron (adult, teen, ...    object   \n",
       "Age Range               Age ranges: 0 to 9 years, 10 to 19 y...    object   \n",
       "Home Library            Description of the branch library wh...    object   \n",
       "Active Date             Date the patron last checked out lib...    object   \n",
       "Checkouts               Total number of items the patron has...     int64   \n",
       "Renewals                Total number of times the patron has...     int64   \n",
       "Notice Preference       Description of the patron’s preferre...    object   \n",
       "Year Patron Registered  Year patron registered with library ...     int64   \n",
       "Outside of County       If a patron's home address is not in...      bool   \n",
       "\n",
       "                       Data Type Info  Missing Values  \n",
       "column_name                                            \n",
       "Patron Type                   nominal               0  \n",
       "Age Range                     ordinal              17  \n",
       "Home Library                  ordinal               0  \n",
       "Active Date                continuous            3391  \n",
       "Checkouts                  continuous               0  \n",
       "Renewals                   continuous               0  \n",
       "Notice Preference             nominal               0  \n",
       "Year Patron Registered     continuous               0  \n",
       "Outside of County             nominal               0  "
      ]
     },
     "execution_count": 51,
     "metadata": {},
     "output_type": "execute_result"
    }
   ],
   "source": [
    "libr"
   ]
  },
  {
   "cell_type": "code",
   "execution_count": 52,
   "metadata": {},
   "outputs": [
    {
     "data": {
      "text/plain": [
       "<matplotlib.axes._subplots.AxesSubplot at 0x1a1ce81f28>"
      ]
     },
     "execution_count": 52,
     "metadata": {},
     "output_type": "execute_result"
    },
    {
     "data": {
      "image/png": "[encoded data removed]",
      "text/plain": [
       "<Figure size 432x288 with 1 Axes>"
      ]
     },
     "metadata": {},
     "output_type": "display_data"
    }
   ],
   "source": [
    "sns.countplot(x = 'Patron Type', data = library)"
   ]
  },
  {
   "cell_type": "code",
   "execution_count": 53,
   "metadata": {},
   "outputs": [
    {
     "data": {
      "text/plain": [
       "<matplotlib.axes._subplots.AxesSubplot at 0x1a1cf3a470>"
      ]
     },
     "execution_count": 53,
     "metadata": {},
     "output_type": "execute_result"
    },
    {
     "data": {
      "image/png": "[encoded data removed]",
      "text/plain": [
       "<Figure size 432x288 with 1 Axes>"
      ]
     },
     "metadata": {},
     "output_type": "display_data"
    }
   ],
   "source": [
    "sns.countplot(x = 'Home Library', data = library)"
   ]
  },
  {
   "cell_type": "code",
   "execution_count": 54,
   "metadata": {},
   "outputs": [
    {
     "data": {
      "text/plain": [
       "<matplotlib.axes._subplots.AxesSubplot at 0x1a1cdf2b38>"
      ]
     },
     "execution_count": 54,
     "metadata": {},
     "output_type": "execute_result"
    },
    {
     "data": {
      "image/png": "[encoded data removed]",
      "text/plain": [
       "<Figure size 432x288 with 1 Axes>"
      ]
     },
     "metadata": {},
     "output_type": "display_data"
    }
   ],
   "source": [
    "sns.countplot(x = 'Active Date', data = library)"
   ]
  },
  {
   "cell_type": "code",
   "execution_count": 55,
   "metadata": {},
   "outputs": [
    {
     "data": {
      "text/plain": [
       "<matplotlib.axes._subplots.AxesSubplot at 0x1a1d2800f0>"
      ]
     },
     "execution_count": 55,
     "metadata": {},
     "output_type": "execute_result"
    },
    {
     "data": {
      "image/png": "[encoded data removed]",
      "text/plain": [
       "<Figure size 432x288 with 1 Axes>"
      ]
     },
     "metadata": {},
     "output_type": "display_data"
    }
   ],
   "source": [
    "sns.countplot(x = 'Notice Preference', data = library)"
   ]
  },
  {
   "cell_type": "code",
   "execution_count": 57,
   "metadata": {},
   "outputs": [
    {
     "data": {
      "text/plain": [
       "<matplotlib.axes._subplots.AxesSubplot at 0x1a1d490e10>"
      ]
     },
     "execution_count": 57,
     "metadata": {},
     "output_type": "execute_result"
    },
    {
     "data": {
      "image/png": "[encoded data removed]",
      "text/plain": [
       "<Figure size 432x288 with 1 Axes>"
      ]
     },
     "metadata": {},
     "output_type": "display_data"
    }
   ],
   "source": [
    "sns.boxplot(x = 'Checkouts', data = library)"
   ]
  },
  {
   "cell_type": "code",
   "execution_count": null,
   "metadata": {},
   "outputs": [],
   "source": []
  }
 ],
 "metadata": {
  "kernelspec": {
   "display_name": "Python 3",
   "language": "python",
   "name": "python3"
  },
  "language_info": {
   "codemirror_mode": {
    "name": "ipython",
    "version": 3
   },
   "file_extension": ".py",
   "mimetype": "text/x-python",
   "name": "python",
   "nbconvert_exporter": "python",
   "pygments_lexer": "ipython3",
   "version": "3.6.6"
  },
  "varInspector": {
   "cols": {
    "lenName": 16,
    "lenType": 16,
    "lenVar": 40
   },
   "kernels_config": {
    "python": {
     "delete_cmd_postfix": "",
     "delete_cmd_prefix": "del ",
     "library": "var_list.py",
     "varRefreshCmd": "print(var_dic_list())"
    },
    "r": {
     "delete_cmd_postfix": ") ",
     "delete_cmd_prefix": "rm(",
     "library": "var_list.r",
     "varRefreshCmd": "cat(var_dic_list()) "
    }
   },
   "types_to_exclude": [
    "module",
    "function",
    "builtin_function_or_method",
    "instance",
    "_Feature"
   ],
   "window_display": false
  }
 },
 "nbformat": 4,
 "nbformat_minor": 2
}
