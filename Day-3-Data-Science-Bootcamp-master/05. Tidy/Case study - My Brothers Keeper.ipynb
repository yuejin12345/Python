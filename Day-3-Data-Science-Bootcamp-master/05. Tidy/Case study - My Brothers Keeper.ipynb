{
 "cells": [
  {
   "cell_type": "markdown",
   "metadata": {},
   "source": [
    "# Case Study: My Brothers Keeper Data\n",
    "\n",
    "### Objectives\n",
    "After this lesson you should be able to...\n",
    "+ Tidy real datasets\n",
    "\n",
    "## Introduction\n",
    "[data.gov](www.data.gov) is an excellent place to find interesting and messy (and occasionally tidy) datasets. This case study will examine the [My Brothers Keeper](https://catalog.data.gov/dataset/my-brothers-keeper-key-statistical-indicators-on-boys-and-men-of-color) dataset.\n",
    "\n",
    "**Description**: 'MBK is an interagency effort to improve measurably the expected educational and life outcomes for and address the persistent opportunity gaps faced by boys and young men of color'"
   ]
  },
  {
   "cell_type": "code",
   "execution_count": null,
   "metadata": {},
   "outputs": [],
   "source": [
    "import pandas as pd\n",
    "import numpy as np"
   ]
  },
  {
   "cell_type": "code",
   "execution_count": null,
   "metadata": {},
   "outputs": [],
   "source": [
    "df = pd.read_csv('../data/tidy/my_brothers_keeper.csv')\n",
    "\n",
    "df.head()"
   ]
  },
  {
   "cell_type": "code",
   "execution_count": null,
   "metadata": {},
   "outputs": [],
   "source": [
    "df.info()"
   ]
  },
  {
   "cell_type": "code",
   "execution_count": null,
   "metadata": {},
   "outputs": [],
   "source": [
    "df.shape"
   ]
  },
  {
   "cell_type": "markdown",
   "metadata": {},
   "source": [
    "## Variables as column names\n",
    "It appears that there are some variables in the column names, which violates one of the tidy data principles. Both age and possibly gender are stored in the column names.\n",
    "\n",
    "There are also appears to be two other variables: **`birth rate`** and **`percentage male/female`**.\n",
    "\n",
    "### Split data into two Data Frames\n",
    "Because it appears that both the 'Rate' (**`birth_rate`**) columns and the 'Distribution'(**`percentage male/female`**) columns need to be melted, we will split them up into two separate Data Frames and combine the results at the end."
   ]
  },
  {
   "cell_type": "code",
   "execution_count": null,
   "metadata": {},
   "outputs": [],
   "source": [
    "distribution_cols = \\\n",
    "    ['Race', \n",
    "     'Year', \n",
    "     'Distribution of male children born to women ages 18-19',\n",
    "     'Distribution of female children born to women ages 18-19',\n",
    "     'Distribution of male children born to women ages 20-24',\n",
    "     'Distribution of female children born to women ages 20-24']\n",
    "    \n",
    "rate_cols = \\\n",
    "    ['Race', \n",
    "     'Year',\n",
    "     'Rate of birth to women ages 18-19',\n",
    "     'Rate of birth to women ages 20-24']"
   ]
  },
  {
   "cell_type": "code",
   "execution_count": null,
   "metadata": {},
   "outputs": [],
   "source": [
    "percent = df[distribution_cols]\n",
    "rate = df[rate_cols]"
   ]
  },
  {
   "cell_type": "code",
   "execution_count": null,
   "metadata": {},
   "outputs": [],
   "source": [
    "percent.head()"
   ]
  },
  {
   "cell_type": "code",
   "execution_count": null,
   "metadata": {},
   "outputs": [],
   "source": [
    "rate.head()"
   ]
  },
  {
   "cell_type": "markdown",
   "metadata": {},
   "source": [
    "## Melt the distribution DataFrame"
   ]
  },
  {
   "cell_type": "code",
   "execution_count": null,
   "metadata": {},
   "outputs": [],
   "source": [
    "percent_melt = percent.melt(id_vars=['Race', 'Year'], value_name='Gender Percent')\n",
    "percent_melt.head()"
   ]
  },
  {
   "cell_type": "markdown",
   "metadata": {},
   "source": [
    "## Extracting age\n",
    "We can extract the variables gender and age from the new **`variable`** column above. We will use a regular expression to find two numbers followed by a dash followed by two numbers again."
   ]
  },
  {
   "cell_type": "code",
   "execution_count": null,
   "metadata": {},
   "outputs": [],
   "source": [
    "age_group = percent_melt['variable'].str.extract('(\\d{2}-\\d{2})')\n",
    "age_group.head()"
   ]
  },
  {
   "cell_type": "markdown",
   "metadata": {},
   "source": [
    "### Add new column for Age Group"
   ]
  },
  {
   "cell_type": "code",
   "execution_count": null,
   "metadata": {},
   "outputs": [],
   "source": [
    "percent_melt['Age Group'] = age_group\n",
    "percent_melt.head()"
   ]
  },
  {
   "cell_type": "markdown",
   "metadata": {},
   "source": [
    "## Extracting Gender\n",
    "Gender is with a simple regular expression that searches for either 'male' or 'female'."
   ]
  },
  {
   "cell_type": "code",
   "execution_count": null,
   "metadata": {},
   "outputs": [],
   "source": [
    "gender = percent_melt['variable'].str.extract(('(male|female)'))\n",
    "gender.head()"
   ]
  },
  {
   "cell_type": "markdown",
   "metadata": {},
   "source": [
    "### Add new columns for Gender"
   ]
  },
  {
   "cell_type": "code",
   "execution_count": null,
   "metadata": {},
   "outputs": [],
   "source": [
    "percent_melt['Gender'] = gender\n",
    "percent_melt.head()"
   ]
  },
  {
   "cell_type": "markdown",
   "metadata": {},
   "source": [
    "### Convert Gender Percent to numeric\n",
    "The percentage sign in the Gender Percentage column is preventing the column from becoming a numeric. Lets strip that percentage sign and then convert to float."
   ]
  },
  {
   "cell_type": "code",
   "execution_count": null,
   "metadata": {},
   "outputs": [],
   "source": [
    "percent_melt['Gender Percent'] = percent_melt['Gender Percent'].str.strip('%').astype(float)\n",
    "percent_melt.head()"
   ]
  },
  {
   "cell_type": "markdown",
   "metadata": {},
   "source": [
    "Verify data types"
   ]
  },
  {
   "cell_type": "code",
   "execution_count": null,
   "metadata": {},
   "outputs": [],
   "source": [
    "percent_melt.dtypes"
   ]
  },
  {
   "cell_type": "markdown",
   "metadata": {},
   "source": [
    "### Drop `variable` column"
   ]
  },
  {
   "cell_type": "code",
   "execution_count": null,
   "metadata": {},
   "outputs": [],
   "source": [
    "percent_melt = percent_melt.drop(columns='variable')\n",
    "percent_melt.head()"
   ]
  },
  {
   "cell_type": "markdown",
   "metadata": {},
   "source": [
    "## Do same procedure with with rate DataFrame\n",
    "We can take a similar approach with the **`rate`** DataFrame which is outputted again below. Only the age group and NOT gender are found in the column names."
   ]
  },
  {
   "cell_type": "code",
   "execution_count": null,
   "metadata": {},
   "outputs": [],
   "source": [
    "rate.head()"
   ]
  },
  {
   "cell_type": "code",
   "execution_count": null,
   "metadata": {},
   "outputs": [],
   "source": [
    "rate_melt = rate.melt(id_vars=['Race', 'Year'], value_name='Birth Rate')\n",
    "rate_melt.head()"
   ]
  },
  {
   "cell_type": "markdown",
   "metadata": {},
   "source": [
    "### Get age group"
   ]
  },
  {
   "cell_type": "code",
   "execution_count": null,
   "metadata": {},
   "outputs": [],
   "source": [
    "rate_melt['Age Group'] = rate_melt['variable'].str.extract('(\\d{2}-\\d{2})')\n",
    "rate_melt = rate_melt.drop(columns='variable')\n",
    "rate_melt.head()"
   ]
  },
  {
   "cell_type": "markdown",
   "metadata": {},
   "source": [
    "## Melted Distribution and Rate tables"
   ]
  },
  {
   "cell_type": "code",
   "execution_count": null,
   "metadata": {},
   "outputs": [],
   "source": [
    "percent_melt.head()"
   ]
  },
  {
   "cell_type": "code",
   "execution_count": null,
   "metadata": {},
   "outputs": [],
   "source": [
    "rate_melt.head()"
   ]
  },
  {
   "cell_type": "code",
   "execution_count": null,
   "metadata": {},
   "outputs": [],
   "source": [
    "percent_melt.shape"
   ]
  },
  {
   "cell_type": "code",
   "execution_count": null,
   "metadata": {},
   "outputs": [],
   "source": [
    "rate_melt.shape"
   ]
  },
  {
   "cell_type": "markdown",
   "metadata": {},
   "source": [
    "## Join tables back together with `merge`\n",
    "We now can put both the tables back together. Use the **`merge`** method to join the two tables together. Use the **`on`** parameter to only join rows that have the same race, year, and age group."
   ]
  },
  {
   "cell_type": "code",
   "execution_count": null,
   "metadata": {},
   "outputs": [],
   "source": [
    "mbk_tidy = percent_melt.merge(rate_melt, on=['Race', 'Year', 'Age Group'])\n",
    "mbk_tidy.head()"
   ]
  },
  {
   "cell_type": "code",
   "execution_count": null,
   "metadata": {},
   "outputs": [],
   "source": [
    "mbk_tidy.shape"
   ]
  },
  {
   "cell_type": "markdown",
   "metadata": {},
   "source": [
    "# Change column order to make more sense\n",
    "The order of the columns can make a difference in readability. Putting the descriptive static columns first is usually a good idea."
   ]
  },
  {
   "cell_type": "code",
   "execution_count": null,
   "metadata": {},
   "outputs": [],
   "source": [
    "cols = ['Year', 'Race', 'Age Group', 'Gender', 'Gender Percent', 'Birth Rate']\n",
    "mbk_tidy = mbk_tidy[cols]\n",
    "mbk_tidy.head()"
   ]
  },
  {
   "cell_type": "markdown",
   "metadata": {},
   "source": [
    "### `Birth Rate` Incorrect!\n",
    "The **`Birth Rate`** column is now showing incorrect data. The original birth rate is for the entire population - both male and female. Our new DataFrame is showing the male and female individual birth rates to be equal to that of the total population. \n",
    "\n",
    "### Fix `Birth Rate`\n",
    "To fix this we will simply change multiply the **`Birth Rate`** column by the **`Gender Percentage`** column"
   ]
  },
  {
   "cell_type": "code",
   "execution_count": null,
   "metadata": {},
   "outputs": [],
   "source": [
    "mbk_tidy['Birth Rate'] = mbk_tidy['Birth Rate'] * mbk_tidy['Gender Percent'] / 100\n",
    "mbk_tidy.head()"
   ]
  },
  {
   "cell_type": "markdown",
   "metadata": {},
   "source": [
    "## Tidy data?\n",
    "Let's check the three tidy principles to see if we have made our way to tidy data.\n",
    "* Is each variable a column? Although we don't have a common and strict definition of a variable, the column names are now labels and do not contain data like age or gender.\n",
    "* Is each row an observational unit? Each row contains data from exactly one specific observation.\n",
    "* Is there one type of observational unit? Not exactly, but close enough. Race, Year, Age Group and Gender each repeat and they can be separated into their own table. This 'normalizes' the data in a relational database sense. i.e. it minimizes the number of repetitions. The issue with this is that data typically needs to be in one table to visualize, aggregate and apply machine learning to. We will separate this data into two tables later in the notebook."
   ]
  },
  {
   "cell_type": "markdown",
   "metadata": {},
   "source": [
    "## Steps to produce tidy data\n",
    "Though, there won't be an exact set of procedures that will result in a tidy dataset, this loose guideline may help you turn messy data into tidy data.\n",
    "\n",
    "1. Identify each variable\n",
    "1. Look for variable names masquerading as column names\n",
    "1. Look for column names masquerading as variable values\n",
    "1. Examine the 5 types of common messy data sets to see which one your dataset most closely resembles\n",
    "1. You will likely need to use **`melt`**, **`pivot`** to restructure your DataFrame\n",
    "1. You might need to separate different variables into their own DataFrame to make for easier tidying\n",
    "1. Parse data with the **`str`** accessor to extract multiple variables from a single piece of data"
   ]
  }
 ],
 "metadata": {
  "kernelspec": {
   "display_name": "Python 3",
   "language": "python",
   "name": "python3"
  },
  "language_info": {
   "codemirror_mode": {
    "name": "ipython",
    "version": 3
   },
   "file_extension": ".py",
   "mimetype": "text/x-python",
   "name": "python",
   "nbconvert_exporter": "python",
   "pygments_lexer": "ipython3",
   "version": "3.6.4"
  }
 },
 "nbformat": 4,
 "nbformat_minor": 2
}
