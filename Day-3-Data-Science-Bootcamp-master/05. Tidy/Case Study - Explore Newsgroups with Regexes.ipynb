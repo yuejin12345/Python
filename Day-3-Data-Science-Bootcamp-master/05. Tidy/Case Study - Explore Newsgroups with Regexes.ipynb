{
 "cells": [
  {
   "cell_type": "markdown",
   "metadata": {},
   "source": [
    "# Explore Newsgroups with Regexes\n",
    "The machine learning library Scikit-Learn has several thousand posts from [an old internet newsgroup][1]. 400 of these posts are in the stored in the `newsgroups.csv` file in the data directory. This is a great dataset to practice your regular expressions.\n",
    "\n",
    "## Read in data\n",
    "There are just two columns, one for the category and the other for the text of the post.\n",
    "\n",
    "[1]: http://scikit-learn.org/stable/datasets/twenty_newsgroups.html#newsgroups"
   ]
  },
  {
   "cell_type": "code",
   "execution_count": 42,
   "metadata": {},
   "outputs": [
    {
     "data": {
      "text/html": [
       "<div>\n",
       "<style scoped>\n",
       "    .dataframe tbody tr th:only-of-type {\n",
       "        vertical-align: middle;\n",
       "    }\n",
       "\n",
       "    .dataframe tbody tr th {\n",
       "        vertical-align: top;\n",
       "    }\n",
       "\n",
       "    .dataframe thead th {\n",
       "        text-align: right;\n",
       "    }\n",
       "</style>\n",
       "<table border=\"1\" class=\"dataframe\">\n",
       "  <thead>\n",
       "    <tr style=\"text-align: right;\">\n",
       "      <th></th>\n",
       "      <th>category</th>\n",
       "      <th>text</th>\n",
       "    </tr>\n",
       "  </thead>\n",
       "  <tbody>\n",
       "    <tr>\n",
       "      <th>0</th>\n",
       "      <td>sci.med</td>\n",
       "      <td>From: nyeda@cnsvax.uwec.edu (David Nye)\\nSubje...</td>\n",
       "    </tr>\n",
       "    <tr>\n",
       "      <th>1</th>\n",
       "      <td>talk.politics.guns</td>\n",
       "      <td>From: ndallen@r-node.hub.org (Nigel Allen)\\nSu...</td>\n",
       "    </tr>\n",
       "    <tr>\n",
       "      <th>2</th>\n",
       "      <td>misc.forsale</td>\n",
       "      <td>From: mark@ardsley.business.uwo.ca (Mark Bramw...</td>\n",
       "    </tr>\n",
       "    <tr>\n",
       "      <th>3</th>\n",
       "      <td>misc.forsale</td>\n",
       "      <td>From: zmed16@trc.amoco.com (Michael)\\nSubject:...</td>\n",
       "    </tr>\n",
       "    <tr>\n",
       "      <th>4</th>\n",
       "      <td>talk.politics.guns</td>\n",
       "      <td>From: fcrary@ucsu.Colorado.EDU (Frank Crary)\\n...</td>\n",
       "    </tr>\n",
       "  </tbody>\n",
       "</table>\n",
       "</div>"
      ],
      "text/plain": [
       "             category                                               text\n",
       "0             sci.med  From: nyeda@cnsvax.uwec.edu (David Nye)\\nSubje...\n",
       "1  talk.politics.guns  From: ndallen@r-node.hub.org (Nigel Allen)\\nSu...\n",
       "2        misc.forsale  From: mark@ardsley.business.uwo.ca (Mark Bramw...\n",
       "3        misc.forsale  From: zmed16@trc.amoco.com (Michael)\\nSubject:...\n",
       "4  talk.politics.guns  From: fcrary@ucsu.Colorado.EDU (Frank Crary)\\n..."
      ]
     },
     "execution_count": 42,
     "metadata": {},
     "output_type": "execute_result"
    }
   ],
   "source": [
    "import pandas as pd\n",
    "news = pd.read_csv('../data/newsgroups.csv')\n",
    "news.head()"
   ]
  },
  {
   "cell_type": "markdown",
   "metadata": {},
   "source": [
    "The original dataset has 20 newsgroups, labeled categories here."
   ]
  },
  {
   "cell_type": "code",
   "execution_count": 43,
   "metadata": {},
   "outputs": [
    {
     "data": {
      "text/plain": [
       "misc.forsale          73\n",
       "rec.autos             72\n",
       "sci.space             65\n",
       "talk.politics.guns    64\n",
       "sci.med               63\n",
       "rec.sport.baseball    63\n",
       "Name: category, dtype: int64"
      ]
     },
     "execution_count": 43,
     "metadata": {},
     "output_type": "execute_result"
    }
   ],
   "source": [
    "news['category'].value_counts()"
   ]
  },
  {
   "cell_type": "code",
   "execution_count": 45,
   "metadata": {},
   "outputs": [
    {
     "data": {
      "text/plain": [
       "0    From: nyeda@cnsvax.uwec.edu (David Nye)\\nSubje...\n",
       "1    From: ndallen@r-node.hub.org (Nigel Allen)\\nSu...\n",
       "2    From: mark@ardsley.business.uwo.ca (Mark Bramw...\n",
       "3    From: zmed16@trc.amoco.com (Michael)\\nSubject:...\n",
       "4    From: fcrary@ucsu.Colorado.EDU (Frank Crary)\\n...\n",
       "Name: text, dtype: object"
      ]
     },
     "execution_count": 45,
     "metadata": {},
     "output_type": "execute_result"
    }
   ],
   "source": [
    "news['text'].head()"
   ]
  },
  {
   "cell_type": "markdown",
   "metadata": {},
   "source": [
    "Output an entire post with the `print` function."
   ]
  },
  {
   "cell_type": "code",
   "execution_count": 46,
   "metadata": {},
   "outputs": [
    {
     "name": "stdout",
     "output_type": "stream",
     "text": [
      "From: nyeda@cnsvax.uwec.edu (David Nye)\n",
      "Subject: Re: Post Polio Syndrome Information Needed Please !!!\n",
      "Organization: University of Wisconsin Eau Claire\n",
      "Lines: 21\n",
      "\n",
      "[reply to keith@actrix.gen.nz (Keith Stewart)]\n",
      " \n",
      ">My wife has become interested through an acquaintance in Post-Polio\n",
      ">Syndrome This apparently is not recognised in New Zealand and different\n",
      ">symptons ( eg chest complaints) are treated separately. Does anone have\n",
      ">any information on it\n",
      " \n",
      "It would help if you (and anyone else asking for medical information on\n",
      "some subject) could ask specific questions, as no one is likely to type\n",
      "in a textbook chapter covering all aspects of the subject.  If you are\n",
      "looking for a comprehensive review, ask your local hospital librarian.\n",
      "Most are happy to help with a request of this sort.\n",
      " \n",
      "Briefly, this is a condition in which patients who have significant\n",
      "residual weakness from childhood polio notice progression of the\n",
      "weakness as they get older.  One theory is that the remaining motor\n",
      "neurons have to work harder and so die sooner.\n",
      " \n",
      "David Nye (nyeda@cnsvax.uwec.edu).  Midelfort Clinic, Eau Claire WI\n",
      "This is patently absurd; but whoever wishes to become a philosopher\n",
      "must learn not to be frightened by absurdities. -- Bertrand Russell\n",
      "\n"
     ]
    }
   ],
   "source": [
    "print(df['text'].values[0])"
   ]
  },
  {
   "cell_type": "markdown",
   "metadata": {},
   "source": [
    "# Can you do the following?\n",
    "* Extract all email addresses\n",
    "* Distinguish the header from the text body\n",
    "* Determine if there is a quote in the message (like there is above)\n",
    "* Find the most frequent words for each category\n",
    "* Come up with your own questions and answer them"
   ]
  },
  {
   "cell_type": "code",
   "execution_count": null,
   "metadata": {},
   "outputs": [],
   "source": []
  }
 ],
 "metadata": {
  "kernelspec": {
   "display_name": "Python 3",
   "language": "python",
   "name": "python3"
  },
  "language_info": {
   "codemirror_mode": {
    "name": "ipython",
    "version": 3
   },
   "file_extension": ".py",
   "mimetype": "text/x-python",
   "name": "python",
   "nbconvert_exporter": "python",
   "pygments_lexer": "ipython3",
   "version": "3.6.4"
  }
 },
 "nbformat": 4,
 "nbformat_minor": 2
}
