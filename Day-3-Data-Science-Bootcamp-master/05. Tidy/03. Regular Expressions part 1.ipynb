{
 "cells": [
  {
   "cell_type": "markdown",
   "metadata": {},
   "source": [
    "# 3. Regular Expressions part 1\n",
    "\n",
    "### Objectives\n",
    "* Understand what regular expressions are and what kind of questions they can answer\n",
    "* Know that regular expressions consist of **literal** and **special** characters\n",
    "* Know the basic functionality of all the special characters - `. ^ $`\n",
    "* Know how to combine multiple special characters together"
   ]
  },
  {
   "cell_type": "markdown",
   "metadata": {},
   "source": [
    "# Regular Expressions for more Powerful String Manipulations\n",
    "**Regular Expressions** give us a way to do much more powerful string manipulations. A regular expression, or simply **regex**, is a special string that describes a specific pattern that you would like to match in another string.\n",
    "\n",
    "### Examples of questions that regexes can answer\n",
    "It might be helpful to see a list of questions that a regex pattern can match:\n",
    "* Match all words that begin with 'S' and end in 'y'\n",
    "* Match the word 'friend' or 'freind'\n",
    "* Match a word with at least 3 digits in it\n",
    "* Match all Gmail email addresses\n",
    "* Capture the word immediately following the word 'Author'\n",
    "* Capture the word immediately following the third occurrence of the word 'coffee'\n",
    "\n",
    "# Primarily use `contains` and `extract`\n",
    "We will be primarily concerned with finding matching patterns within string values of a Pandas Series. We will then select all values within the Series that match the pattern via boolean indexing. The **`contains`** string Series method will be used for this.\n",
    "\n",
    "Eventually, we will use the **`extract`** string Series method to extract particular substrings from the strings within the Series.\n",
    "\n",
    "### A simple example without regular expressions\n",
    "Let's match all movie titles that contain either an 'x', 'y', or 'z'. Without using a regex, we would use multiple **`contains`** string methods separating them with the logical **or** symbol:"
   ]
  },
  {
   "cell_type": "code",
   "execution_count": 1,
   "metadata": {},
   "outputs": [],
   "source": [
    "import pandas as pd\n",
    "movie = pd.read_csv('../data/movie.csv')\n",
    "title = movie['title']"
   ]
  },
  {
   "cell_type": "code",
   "execution_count": 2,
   "metadata": {},
   "outputs": [
    {
     "data": {
      "text/plain": [
       "9     Harry Potter and the Half-Blood Prince\n",
       "21                    The Amazing Spider-Man\n",
       "30                                   Skyfall\n",
       "35                       Monsters University\n",
       "37           Transformers: Age of Extinction\n",
       "Name: title, dtype: object"
      ]
     },
     "execution_count": 2,
     "metadata": {},
     "output_type": "execute_result"
    }
   ],
   "source": [
    "has_xyz = title.str.contains('x') | title.str.contains('y') | title.str.contains('z')\n",
    "title[has_xyz].head()"
   ]
  },
  {
   "cell_type": "markdown",
   "metadata": {},
   "source": [
    "We can sum up this boolean Series to determine the number of values that have either an 'x', 'y', or 'z' in them."
   ]
  },
  {
   "cell_type": "code",
   "execution_count": 3,
   "metadata": {},
   "outputs": [
    {
     "data": {
      "text/plain": [
       "1193"
      ]
     },
     "execution_count": 3,
     "metadata": {},
     "output_type": "execute_result"
    }
   ],
   "source": [
    "has_xyz.sum()"
   ]
  },
  {
   "cell_type": "markdown",
   "metadata": {},
   "source": [
    "### Use a regex instead\n",
    "Instead, we can use the regex **`'[xyz]'`**, which matches the pattern for any string that contains an 'x', 'y', or 'z'. We can verify that we get the same total. This regex plus many more will be covered in detail below."
   ]
  },
  {
   "cell_type": "code",
   "execution_count": 4,
   "metadata": {},
   "outputs": [
    {
     "data": {
      "text/plain": [
       "1193"
      ]
     },
     "execution_count": 4,
     "metadata": {},
     "output_type": "execute_result"
    }
   ],
   "source": [
    "title.str.contains('[xyz]').sum()"
   ]
  },
  {
   "cell_type": "markdown",
   "metadata": {},
   "source": [
    "## Regular Expressions are a Mini-Programming Language\n",
    "Regular expressions are a miniature programming language that have their own strict set of rules just like any other language. The syntax is written as a string mixing both **literal** and **special** characters. \n",
    "\n",
    "## Literal vs Special Characters\n",
    "There are two distinct categories of characters within a regex string - **Literal** and **Special**\n",
    "* **Literal** - these characters don't have any special meaning. They simply represent themselves. They are also referred to as **regular** characters.\n",
    "* **Special** - these characters do have a special meaning. Each special character represents something very specific. They are also referred to as **metacharacters**.\n",
    "\n",
    "## Matching with only Literal Characters\n",
    "The most simple regex patterns you can write contain only literal characters. These strings will look like any ordinary string. Let's search for movies that have the word **`'Star'`** in them.\n",
    "\n",
    "**`'Star'`** is a valid regular expression. We will use the **`contains`** Series string method which accepts a regular expression as its first argument. It returns a boolean Series."
   ]
  },
  {
   "cell_type": "code",
   "execution_count": 5,
   "metadata": {},
   "outputs": [
    {
     "data": {
      "text/plain": [
       "0    False\n",
       "1    False\n",
       "2    False\n",
       "3    False\n",
       "4     True\n",
       "Name: title, dtype: bool"
      ]
     },
     "execution_count": 5,
     "metadata": {},
     "output_type": "execute_result"
    }
   ],
   "source": [
    "pattern = 'Star'\n",
    "title.str.contains(pattern).head()"
   ]
  },
  {
   "cell_type": "markdown",
   "metadata": {},
   "source": [
    "### Filter for only movies containing `Star`\n",
    "Let's take this resulting Series and use it for boolean indexing. The result should be the movie titles that have **`Star`** in them."
   ]
  },
  {
   "cell_type": "code",
   "execution_count": 6,
   "metadata": {},
   "outputs": [
    {
     "data": {
      "text/plain": [
       "4        Star Wars: Episode VII - The Force Awakens\n",
       "48                          Star Trek Into Darkness\n",
       "57                                 Star Trek Beyond\n",
       "159                                       Star Trek\n",
       "233    Star Wars: Episode III - Revenge of the Sith\n",
       "Name: title, dtype: object"
      ]
     },
     "execution_count": 6,
     "metadata": {},
     "output_type": "execute_result"
    }
   ],
   "source": [
    "pattern = 'Star'\n",
    "filt = title.str.contains(pattern)\n",
    "title[filt].head(5)"
   ]
  },
  {
   "cell_type": "markdown",
   "metadata": {},
   "source": [
    "## Regular Expressions are case sensitive\n",
    "Regexes are case sensitive by default. **`'Star'`** only matches movie titles with an uppercase **`'S'`** followed immediately by lowercase **`'tar'`**. Let's search for lowercase **`'star'`**:"
   ]
  },
  {
   "cell_type": "code",
   "execution_count": 7,
   "metadata": {},
   "outputs": [
    {
     "data": {
      "text/plain": [
       "2641    Firestarter\n",
       "2737      Superstar\n",
       "Name: title, dtype: object"
      ]
     },
     "execution_count": 7,
     "metadata": {},
     "output_type": "execute_result"
    }
   ],
   "source": [
    "pattern = 'star'\n",
    "filt = title.str.contains(pattern)\n",
    "title[filt]"
   ]
  },
  {
   "cell_type": "markdown",
   "metadata": {},
   "source": [
    "### Find all movies containing exact string `'Star Wars'`"
   ]
  },
  {
   "cell_type": "code",
   "execution_count": 8,
   "metadata": {},
   "outputs": [
    {
     "data": {
      "text/plain": [
       "4           Star Wars: Episode VII - The Force Awakens\n",
       "233       Star Wars: Episode III - Revenge of the Sith\n",
       "234       Star Wars: Episode II - Attack of the Clones\n",
       "237          Star Wars: Episode I - The Phantom Menace\n",
       "1521        Star Wars: Episode VI - Return of the Jedi\n",
       "2031    Star Wars: Episode V - The Empire Strikes Back\n",
       "2973                Star Wars: Episode IV - A New Hope\n",
       "3271                         Star Wars: The Clone Wars\n",
       "Name: title, dtype: object"
      ]
     },
     "execution_count": 8,
     "metadata": {},
     "output_type": "execute_result"
    }
   ],
   "source": [
    "pattern = 'Star Wars'\n",
    "filt = title.str.contains(pattern)\n",
    "title[filt]"
   ]
  },
  {
   "cell_type": "markdown",
   "metadata": {},
   "source": [
    "#### Find all movies containing exact string `'hine'`:"
   ]
  },
  {
   "cell_type": "code",
   "execution_count": 9,
   "metadata": {},
   "outputs": [
    {
     "data": {
      "text/plain": [
       "94      Terminator 3: Rise of the Machines\n",
       "475                       The Time Machine\n",
       "1302                              Sunshine\n",
       "1372                  Hot Tub Time Machine\n",
       "1710                  Machine Gun Preacher\n",
       "Name: title, dtype: object"
      ]
     },
     "execution_count": 9,
     "metadata": {},
     "output_type": "execute_result"
    }
   ],
   "source": [
    "pattern = 'hine'\n",
    "filt = title.str.contains(pattern)\n",
    "title[filt].head()"
   ]
  },
  {
   "cell_type": "markdown",
   "metadata": {},
   "source": [
    "## Special Characters\n",
    "The following characters are the **special** or **metacharacters**\n",
    "\n",
    "`. ^ $ * + ? { } [ ] \\ | ( )`"
   ]
  },
  {
   "cell_type": "markdown",
   "metadata": {},
   "source": [
    "#### Details and examples with special characters\n",
    "The rest of this notebook is devoted to examples that explain each of the special characters above. This will not be an exhaustive coverage of regular expressions as they can get quite complex. There are even entire books written on the subject.\n",
    "\n",
    "## The dot metacharacter `.`\n",
    "The **dot** or **period** is a special character that matches any character. For example the regex **`'m.le'`** will match any string that has an **`m`** followed by any character followed by **`le`**. It will match 'male', 'mile', 'mole', 'thimble', 'tumble', etc...\n",
    "\n",
    "Let's see how many movie titles have this pattern:"
   ]
  },
  {
   "cell_type": "code",
   "execution_count": 10,
   "metadata": {},
   "outputs": [
    {
     "data": {
      "text/plain": [
       "661                          Mona Lisa Smile\n",
       "1465                               Wimbledon\n",
       "1733    Indiana Jones and the Temple of Doom\n",
       "1770                           A Simple Wish\n",
       "1923                             The Gambler\n",
       "2019                         Ready to Rumble\n",
       "2326              The Baader Meinhof Complex\n",
       "2476                           A Simple Plan\n",
       "3374                     Rumble in the Bronx\n",
       "4711                             Tumbleweeds\n",
       "Name: title, dtype: object"
      ]
     },
     "execution_count": 10,
     "metadata": {},
     "output_type": "execute_result"
    }
   ],
   "source": [
    "pattern = 'm.le'\n",
    "filt = title.str.contains(pattern)\n",
    "title[filt]"
   ]
  },
  {
   "cell_type": "markdown",
   "metadata": {},
   "source": [
    "## The caret metacharacter `^`\n",
    "The caret, **`^`** is a special character that forces the pattern to match from the beginning of the string. Let's take a look at the difference between the regexes **`War`** and **`^War`**. The first matches the word 'War' anywhere in the string. The second matches the word 'War' only at the beginning.\n",
    "\n",
    "Let's output the differences:"
   ]
  },
  {
   "cell_type": "code",
   "execution_count": 11,
   "metadata": {},
   "outputs": [
    {
     "data": {
      "text/plain": [
       "4             Star Wars: Episode VII - The Force Awakens\n",
       "27                            Captain America: Civil War\n",
       "46                                           World War Z\n",
       "64     The Chronicles of Narnia: The Lion, the Witch ...\n",
       "108                                             Warcraft\n",
       "Name: title, dtype: object"
      ]
     },
     "execution_count": 11,
     "metadata": {},
     "output_type": "execute_result"
    }
   ],
   "source": [
    "pattern = 'War'\n",
    "filt = title.str.contains(pattern)\n",
    "title[filt].head()"
   ]
  },
  {
   "cell_type": "code",
   "execution_count": 12,
   "metadata": {},
   "outputs": [
    {
     "data": {
      "text/plain": [
       "108                    Warcraft\n",
       "187           War of the Worlds\n",
       "597                   War Horse\n",
       "1483         Warriors of Virtue\n",
       "1598                Warm Bodies\n",
       "1934                        War\n",
       "1961                    Warrior\n",
       "2878                   WarGames\n",
       "3160                  War, Inc.\n",
       "3431                    Warlock\n",
       "3536                War & Peace\n",
       "4012    Warlock: The Armageddon\n",
       "Name: title, dtype: object"
      ]
     },
     "execution_count": 12,
     "metadata": {},
     "output_type": "execute_result"
    }
   ],
   "source": [
    "pattern = '^War'\n",
    "filt = title.str.contains(pattern)\n",
    "title[filt]"
   ]
  },
  {
   "cell_type": "markdown",
   "metadata": {},
   "source": [
    "## The dollar sign metacharacter `$`\n",
    "The dollar sign metacharacter, **`$`** works analogously to the caret but instead forces a match to the **end** of the string. Let's find all the movies that end in 'War':"
   ]
  },
  {
   "cell_type": "code",
   "execution_count": 13,
   "metadata": {
    "scrolled": true
   },
   "outputs": [
    {
     "data": {
      "text/plain": [
       "27              Captain America: Civil War\n",
       "241             The Huntsman: Winter's War\n",
       "323                     The Flowers of War\n",
       "534                   Charlie Wilson's War\n",
       "611                             Hart's War\n",
       "666                         This Means War\n",
       "1160                           Lord of War\n",
       "1261                        The Art of War\n",
       "1549                    Dragon Wars: D-War\n",
       "1934                                   War\n",
       "2867    Tae Guk Gi: The Brotherhood of War\n",
       "2962                         5 Days of War\n",
       "3577                            Men of War\n",
       "3742                           Born of War\n",
       "Name: title, dtype: object"
      ]
     },
     "execution_count": 13,
     "metadata": {},
     "output_type": "execute_result"
    }
   ],
   "source": [
    "pattern = 'War$'\n",
    "filt = title.str.contains(pattern)\n",
    "title[filt]"
   ]
  },
  {
   "cell_type": "markdown",
   "metadata": {},
   "source": [
    "## Start and End Anchor tags\n",
    "The caret and dollar metacharacters are also know as **anchor** tags since they anchor the pattern to either the beginning or end."
   ]
  },
  {
   "cell_type": "markdown",
   "metadata": {},
   "source": [
    "# Combining special characters\n",
    "A regex can have any number of literal and meta special characters. The following regex matches movies that begin with **`S`**, followed by any character followed **`n`**."
   ]
  },
  {
   "cell_type": "code",
   "execution_count": 14,
   "metadata": {},
   "outputs": [
    {
     "data": {
      "text/plain": [
       "248                          San Andreas\n",
       "315                      Son of the Mask\n",
       "683         Sin City: A Dame to Kill For\n",
       "784     Sinbad: Legend of the Seven Seas\n",
       "1203                            Sin City\n",
       "Name: title, dtype: object"
      ]
     },
     "execution_count": 14,
     "metadata": {},
     "output_type": "execute_result"
    }
   ],
   "source": [
    "pattern = r'^S.n'\n",
    "filt = title.str.contains(pattern)\n",
    "title[filt].head()"
   ]
  },
  {
   "cell_type": "markdown",
   "metadata": {},
   "source": [
    "# Exercises"
   ]
  },
  {
   "cell_type": "markdown",
   "metadata": {},
   "source": [
    "### Problem 1\n",
    "<span  style=\"color:green; font-size:16px\">Find all movies that have 2 consecutive z's in them.</span>"
   ]
  },
  {
   "cell_type": "code",
   "execution_count": null,
   "metadata": {},
   "outputs": [],
   "source": [
    "# your code here"
   ]
  },
  {
   "cell_type": "markdown",
   "metadata": {},
   "source": [
    "### Problem 2\n",
    "<span  style=\"color:green; font-size:16px\">Find all movies that begin with 9.</span>"
   ]
  },
  {
   "cell_type": "code",
   "execution_count": null,
   "metadata": {},
   "outputs": [],
   "source": [
    "# your code here"
   ]
  },
  {
   "cell_type": "markdown",
   "metadata": {},
   "source": [
    "### Problem 3\n",
    "<span  style=\"color:green; font-size:16px\">Find all movies that have a `b` as their third character.</span>"
   ]
  },
  {
   "cell_type": "code",
   "execution_count": null,
   "metadata": {},
   "outputs": [],
   "source": [
    "# your code here"
   ]
  },
  {
   "cell_type": "markdown",
   "metadata": {},
   "source": [
    "### Problem 4\n",
    "<span  style=\"color:green; font-size:16px\">Find all movies with a fourth-to-last character of `M` and a last character of `e`.</span>"
   ]
  },
  {
   "cell_type": "code",
   "execution_count": null,
   "metadata": {},
   "outputs": [],
   "source": [
    "# your code here"
   ]
  },
  {
   "cell_type": "markdown",
   "metadata": {},
   "source": [
    "### Problem 5\n",
    "<span  style=\"color:green; font-size:16px\">Could you use a regular expression to find a movie that was exactly 6 characters in length?</span>"
   ]
  },
  {
   "cell_type": "code",
   "execution_count": null,
   "metadata": {},
   "outputs": [],
   "source": [
    "# your code here"
   ]
  },
  {
   "cell_type": "markdown",
   "metadata": {},
   "source": [
    "### Problem 6\n",
    "<span  style=\"color:green; font-size:16px\">What is a more natural way to complete problem 5 without a regex?</span>"
   ]
  },
  {
   "cell_type": "code",
   "execution_count": null,
   "metadata": {},
   "outputs": [],
   "source": [
    "# your code here"
   ]
  }
 ],
 "metadata": {
  "kernelspec": {
   "display_name": "Python 3",
   "language": "python",
   "name": "python3"
  },
  "language_info": {
   "codemirror_mode": {
    "name": "ipython",
    "version": 3
   },
   "file_extension": ".py",
   "mimetype": "text/x-python",
   "name": "python",
   "nbconvert_exporter": "python",
   "pygments_lexer": "ipython3",
   "version": "3.6.6"
  },
  "varInspector": {
   "cols": {
    "lenName": 16,
    "lenType": 16,
    "lenVar": 40
   },
   "kernels_config": {
    "python": {
     "delete_cmd_postfix": "",
     "delete_cmd_prefix": "del ",
     "library": "var_list.py",
     "varRefreshCmd": "print(var_dic_list())"
    },
    "r": {
     "delete_cmd_postfix": ") ",
     "delete_cmd_prefix": "rm(",
     "library": "var_list.r",
     "varRefreshCmd": "cat(var_dic_list()) "
    }
   },
   "types_to_exclude": [
    "module",
    "function",
    "builtin_function_or_method",
    "instance",
    "_Feature"
   ],
   "window_display": false
  }
 },
 "nbformat": 4,
 "nbformat_minor": 2
}
