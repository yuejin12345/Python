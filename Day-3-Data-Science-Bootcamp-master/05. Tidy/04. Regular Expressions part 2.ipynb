{
 "cells": [
  {
   "cell_type": "markdown",
   "metadata": {},
   "source": [
    "# 4. Regular Expressions part 2\n",
    "\n",
    "### Objectives\n",
    "* Know the basic functionality of the special characters - `* + ? { } [ ] \\ |`\n",
    "* Know how to combine multiple special characters together\n",
    "* Know how to change operator precedence with parentheses\n",
    "* Use `contains` to select entire values and `extract` to select substrings\n",
    "\n",
    "This notebook continues coverage of the special characters. In the previous notebook, the dot, caret, and dollar sign metacharacters were covered.\n",
    "\n",
    "## The asterisk metacharacter `*`\n",
    "The **asterisk** or **star** metacharacter matches the previous character 0 or more times. For instance, the regex, **`'Ah* No'`** will look for strings that have an uppercase 'A' followed by 0 or more lowercase 'h' followed by ' No'. \n",
    "\n",
    "Let's see how this works on a Series of fake data:"
   ]
  },
  {
   "cell_type": "code",
   "execution_count": 1,
   "metadata": {},
   "outputs": [
    {
     "data": {
      "text/plain": [
       "0           Ouch\n",
       "1          Ah No\n",
       "2            Ahh\n",
       "3           Nooo\n",
       "4    Ahhhhhhh No\n",
       "5           A No\n",
       "6              A\n",
       "dtype: object"
      ]
     },
     "execution_count": 1,
     "metadata": {},
     "output_type": "execute_result"
    }
   ],
   "source": [
    "# Create Series of fake data\n",
    "import pandas as pd\n",
    "s = pd.Series(['Ouch', 'Ah No', 'Ahh', 'Nooo', 'Ahhhhhhh No', 'A No', 'A'])\n",
    "s"
   ]
  },
  {
   "cell_type": "code",
   "execution_count": 2,
   "metadata": {},
   "outputs": [
    {
     "data": {
      "text/plain": [
       "1          Ah No\n",
       "4    Ahhhhhhh No\n",
       "5           A No\n",
       "dtype: object"
      ]
     },
     "execution_count": 2,
     "metadata": {},
     "output_type": "execute_result"
    }
   ],
   "source": [
    "pattern = 'Ah* No'\n",
    "filt = s.str.contains(pattern)\n",
    "s[filt]"
   ]
  },
  {
   "cell_type": "markdown",
   "metadata": {},
   "source": [
    "Without the ' No' at the end, it would match two more values:"
   ]
  },
  {
   "cell_type": "code",
   "execution_count": 3,
   "metadata": {},
   "outputs": [
    {
     "data": {
      "text/plain": [
       "1          Ah No\n",
       "2            Ahh\n",
       "4    Ahhhhhhh No\n",
       "5           A No\n",
       "6              A\n",
       "dtype: object"
      ]
     },
     "execution_count": 3,
     "metadata": {},
     "output_type": "execute_result"
    }
   ],
   "source": [
    "pattern = 'Ah*'\n",
    "filt = s.str.contains(pattern)\n",
    "s[filt]"
   ]
  },
  {
   "cell_type": "markdown",
   "metadata": {},
   "source": [
    "## The plus metacharacter `+`\n",
    "The **plus** metacharacter is very similar to the asterisk, except that it matches 1 or more of the previous character. Thus for the regex **`'Ah+ No'`**, the 'h' must appear at least once."
   ]
  },
  {
   "cell_type": "code",
   "execution_count": 4,
   "metadata": {},
   "outputs": [
    {
     "data": {
      "text/plain": [
       "1          Ah No\n",
       "4    Ahhhhhhh No\n",
       "dtype: object"
      ]
     },
     "execution_count": 4,
     "metadata": {},
     "output_type": "execute_result"
    }
   ],
   "source": [
    "pattern = 'Ah+ No'\n",
    "filt = s.str.contains(pattern)\n",
    "s[filt]"
   ]
  },
  {
   "cell_type": "markdown",
   "metadata": {},
   "source": [
    "## The question mark metacharacter `?`\n",
    "The question mark is similar to both the asterisk and the star, except that it matches the previous character 0 or 1 times exactly."
   ]
  },
  {
   "cell_type": "code",
   "execution_count": 5,
   "metadata": {},
   "outputs": [
    {
     "data": {
      "text/plain": [
       "1    Ah No\n",
       "5     A No\n",
       "dtype: object"
      ]
     },
     "execution_count": 5,
     "metadata": {},
     "output_type": "execute_result"
    }
   ],
   "source": [
    "pattern = 'Ah? No'\n",
    "filt = s.str.contains(pattern)\n",
    "s[filt]"
   ]
  },
  {
   "cell_type": "markdown",
   "metadata": {},
   "source": [
    "Using another example, the regex **`'Sec?r'`** will match both 'Secret' and 'Serving'. Basically, the character before the question mark is **optional**."
   ]
  },
  {
   "cell_type": "code",
   "execution_count": 6,
   "metadata": {},
   "outputs": [],
   "source": [
    "movie = pd.read_csv('../data/movie.csv')\n",
    "title = movie['title']"
   ]
  },
  {
   "cell_type": "code",
   "execution_count": 7,
   "metadata": {},
   "outputs": [
    {
     "data": {
      "text/plain": [
       "198     Night at the Museum: Secret of the Tomb\n",
       "282     Harry Potter and the Chamber of Secrets\n",
       "355             The Secret Life of Walter Mitty\n",
       "513                     The Secret Life of Pets\n",
       "1229                              Secret Window\n",
       "1321                                   Serenity\n",
       "1410                                Secretariat\n",
       "1725                               Serving Sara\n",
       "1750                                Serendipity\n",
       "1788     Divine Secrets of the Ya-Ya Sisterhood\n",
       "Name: title, dtype: object"
      ]
     },
     "execution_count": 7,
     "metadata": {},
     "output_type": "execute_result"
    }
   ],
   "source": [
    "pattern = 'Sec?r'\n",
    "filt = title.str.contains(pattern)\n",
    "title[filt].head(10)"
   ]
  },
  {
   "cell_type": "markdown",
   "metadata": {},
   "source": [
    "## The curly braces metacharacter `{m, n}`\n",
    "The curly braces metacharacter matches the previous character a given number of times. There are three different ways to use the curly braces:\n",
    "\n",
    "* a single integer **`a{3}`**\n",
    "* a single integer followed by a comma **`a{3,}`**\n",
    "* two integers separated by a comma **`a{3,5}`**\n",
    "\n",
    "**`a{3}`** matches exactly three consecutive a's. **`a{3,}`** matchces 3 or more consecutive a's. **`a{3,5}`** matches between 3 and 5 consecutive a's.\n",
    "\n",
    "Let's create another Series by hand and match all the strings that begin with 'A', have the letter 'h' repeat between 2 and 5 times and then followed by ' No'."
   ]
  },
  {
   "cell_type": "code",
   "execution_count": 8,
   "metadata": {},
   "outputs": [
    {
     "data": {
      "text/plain": [
       "0           Ouch\n",
       "1        Ahhh No\n",
       "2         Ahh No\n",
       "3           Nooo\n",
       "4    Ahhhhhhh No\n",
       "5           A No\n",
       "6              A\n",
       "7           Ahhh\n",
       "dtype: object"
      ]
     },
     "execution_count": 8,
     "metadata": {},
     "output_type": "execute_result"
    }
   ],
   "source": [
    "s = pd.Series(['Ouch', 'Ahhh No', 'Ahh No', 'Nooo', 'Ahhhhhhh No', 'A No', 'A', 'Ahhh'])\n",
    "s"
   ]
  },
  {
   "cell_type": "code",
   "execution_count": 9,
   "metadata": {},
   "outputs": [
    {
     "data": {
      "text/plain": [
       "1    Ahhh No\n",
       "2     Ahh No\n",
       "dtype: object"
      ]
     },
     "execution_count": 9,
     "metadata": {},
     "output_type": "execute_result"
    }
   ],
   "source": [
    "pattern = 'Ah{2,5} No'\n",
    "filt = s.str.contains(pattern)\n",
    "s[filt]"
   ]
  },
  {
   "cell_type": "markdown",
   "metadata": {},
   "source": [
    "## The pipe metacharacter `|`\n",
    "The pipe metacharacter is equivalent to an **or** condition. It matches the entire word before or after the pipe. The regex **`'Friend|Enemy'`** matches any string with 'Friend' or 'Enemy' in it."
   ]
  },
  {
   "cell_type": "code",
   "execution_count": 10,
   "metadata": {},
   "outputs": [
    {
     "data": {
      "text/plain": [
       "403                            Enemy of the State\n",
       "408                            Enemy at the Gates\n",
       "1055                     My Best Friend's Wedding\n",
       "1214                           Behind Enemy Lines\n",
       "1413                        Friends with Benefits\n",
       "1775        How to Lose Friends & Alienate People\n",
       "2216                        My Best Friend's Girl\n",
       "3116    Seeking a Friend for the End of the World\n",
       "3495                           Friends with Money\n",
       "4184                          We Are Your Friends\n",
       "4279                        Dysfunctional Friends\n",
       "4670                               Mutual Friends\n",
       "Name: title, dtype: object"
      ]
     },
     "execution_count": 10,
     "metadata": {},
     "output_type": "execute_result"
    }
   ],
   "source": [
    "pattern = 'Friend|Enemy'\n",
    "filt = title.str.contains(pattern)\n",
    "title[filt]"
   ]
  },
  {
   "cell_type": "markdown",
   "metadata": {},
   "source": [
    "You can add as many pipes as you please:"
   ]
  },
  {
   "cell_type": "code",
   "execution_count": 11,
   "metadata": {},
   "outputs": [
    {
     "data": {
      "text/plain": [
       "55               The Good Dinosaur\n",
       "343         A Good Day to Die Hard\n",
       "403             Enemy of the State\n",
       "408             Enemy at the Gates\n",
       "670     Resident Evil: Retribution\n",
       "672        The Long Kiss Goodnight\n",
       "815       Resident Evil: Afterlife\n",
       "923             As Good as It Gets\n",
       "976      Resident Evil: Apocalypse\n",
       "1055      My Best Friend's Wedding\n",
       "Name: title, dtype: object"
      ]
     },
     "execution_count": 11,
     "metadata": {},
     "output_type": "execute_result"
    }
   ],
   "source": [
    "pattern = 'Friend|Enemy|Good|Evil'\n",
    "filt = title.str.contains(pattern)\n",
    "title[filt].head(10)"
   ]
  },
  {
   "cell_type": "markdown",
   "metadata": {},
   "source": [
    "## The brackets metacharacter `[ ]`\n",
    "The brackets metacharacter allows you match one of several characters at single particular position. As we saw with the very fist example, **`'[xyz]'`** matches any single 'x', 'y', or 'z'.\n",
    "\n",
    "Another example, **`'T[aeiou]d'`** matches any words that begin with 'T', followed by exactly one vowel and then 'd'. The brackets contain all the possible matches for a single character.\n",
    "\n",
    "Specifically, it matches the following: 'Tad', 'Ted', 'Tid', 'Tod', and 'Tud'."
   ]
  },
  {
   "cell_type": "code",
   "execution_count": 12,
   "metadata": {},
   "outputs": [
    {
     "data": {
      "text/plain": [
       "18      Pirates of the Caribbean: On Stranger Tides\n",
       "628                                           Ted 2\n",
       "841                                    Crimson Tide\n",
       "922                                             Ted\n",
       "1594                            The Prince of Tides\n",
       "2016                  Win a Date with Tad Hamilton!\n",
       "2171                     Bill & Ted's Bogus Journey\n",
       "2576                                     Tidal Wave\n",
       "3053               Bill & Ted's Excellent Adventure\n",
       "4283        Living Dark: The Story of Ted the Caver\n",
       "4809                                        Tadpole\n",
       "Name: title, dtype: object"
      ]
     },
     "execution_count": 12,
     "metadata": {},
     "output_type": "execute_result"
    }
   ],
   "source": [
    "pattern = 'T[aeiou]d'\n",
    "filt = title.str.contains(pattern)\n",
    "title[filt]"
   ]
  },
  {
   "cell_type": "markdown",
   "metadata": {},
   "source": [
    "### Entire character classes within the brackets\n",
    "Let's say you want to match all the lowercase letters 'a' through 'z'. You could write each letter within the brackets. Thankfully, there is a much easier way with **character classes**.\n",
    "\n",
    "Character classes are special notation within the brackets that can be used to denote entire subsets of characters. Take the following:\n",
    "* **`'[0-9]'`** represents all digits 0 through 9\n",
    "* **`'[a-z]'`** represents all lowercase letters\n",
    "* **`'[A-Z]'`** represents all uppercase letters\n",
    "* **`'[a-zA-Z]'`** represents all lowercase and uppercase letters\n",
    "\n",
    "Remember this notation only works within the brackets."
   ]
  },
  {
   "cell_type": "markdown",
   "metadata": {},
   "source": [
    "### Digits in movies\n",
    "Let's match all movies with a digit in them."
   ]
  },
  {
   "cell_type": "code",
   "execution_count": 13,
   "metadata": {},
   "outputs": [
    {
     "data": {
      "text/plain": [
       "6                 Spider-Man 3\n",
       "19              Men in Black 3\n",
       "31                Spider-Man 2\n",
       "32                  Iron Man 3\n",
       "39    The Amazing Spider-Man 2\n",
       "Name: title, dtype: object"
      ]
     },
     "execution_count": 13,
     "metadata": {},
     "output_type": "execute_result"
    }
   ],
   "source": [
    "pattern = '[0-9]'\n",
    "filt = title.str.contains(pattern)\n",
    "title[filt].head()"
   ]
  },
  {
   "cell_type": "markdown",
   "metadata": {},
   "source": [
    "### Matching movies with 2 digits in a row\n",
    "We can match movies with two digits in a row by using the digits character class twice."
   ]
  },
  {
   "cell_type": "code",
   "execution_count": 14,
   "metadata": {},
   "outputs": [
    {
     "data": {
      "text/plain": [
       "60                            2012\n",
       "85                        47 Ronin\n",
       "212               The 13th Warrior\n",
       "258         300: Rise of an Empire\n",
       "268    Around the World in 80 Days\n",
       "Name: title, dtype: object"
      ]
     },
     "execution_count": 14,
     "metadata": {},
     "output_type": "execute_result"
    }
   ],
   "source": [
    "pattern = '[0-9][0-9]'\n",
    "filt = title.str.contains(pattern)\n",
    "title[filt].head()"
   ]
  },
  {
   "cell_type": "markdown",
   "metadata": {},
   "source": [
    "## Combining Special Characters\n",
    "You are allowed to combine any number of literal and special characters together with your regex. For instance, matching movies with two or more digits in a row could have been done by using the curly braces for repeats like this:"
   ]
  },
  {
   "cell_type": "code",
   "execution_count": 15,
   "metadata": {},
   "outputs": [
    {
     "data": {
      "text/plain": [
       "60                            2012\n",
       "85                        47 Ronin\n",
       "212               The 13th Warrior\n",
       "258         300: Rise of an Empire\n",
       "268    Around the World in 80 Days\n",
       "Name: title, dtype: object"
      ]
     },
     "execution_count": 15,
     "metadata": {},
     "output_type": "execute_result"
    }
   ],
   "source": [
    "pattern = '[0-9]{2,}'\n",
    "filt = title.str.contains(pattern)\n",
    "title[filt].head()"
   ]
  },
  {
   "cell_type": "markdown",
   "metadata": {},
   "source": [
    "#### Find all movies that begin with exactly 4 digits in a row\n",
    "We can use the caret to anchor the digits to the start and the curly braces to match exactly 4 digits."
   ]
  },
  {
   "cell_type": "code",
   "execution_count": 16,
   "metadata": {},
   "outputs": [
    {
     "data": {
      "text/plain": [
       "60                         2012\n",
       "697     3000 Miles to Graceland\n",
       "1541                       1941\n",
       "1707                       1911\n",
       "2056                       1408\n",
       "Name: title, dtype: object"
      ]
     },
     "execution_count": 16,
     "metadata": {},
     "output_type": "execute_result"
    }
   ],
   "source": [
    "pattern = '^[0-9]{4}'\n",
    "filt = title.str.contains(pattern)\n",
    "title[filt].head()"
   ]
  },
  {
   "cell_type": "markdown",
   "metadata": {},
   "source": [
    "#### Find all movies that begin with 'The' and end with 'Movie'\n",
    "We anchor 'The' to the beginning with the caret and 'Movie' to the end with the dollar symbol. We use **`.*`** in the middle to represent any character repeated 0 or more times."
   ]
  },
  {
   "cell_type": "code",
   "execution_count": 17,
   "metadata": {},
   "outputs": [
    {
     "data": {
      "text/plain": [
       "319                   The Peanuts Movie\n",
       "561               The Angry Birds Movie\n",
       "569                  The Simpsons Movie\n",
       "759                      The Lego Movie\n",
       "1586    The SpongeBob SquarePants Movie\n",
       "Name: title, dtype: object"
      ]
     },
     "execution_count": 17,
     "metadata": {},
     "output_type": "execute_result"
    }
   ],
   "source": [
    "pattern = '^The .* Movie$'\n",
    "filt = title.str.contains(pattern)\n",
    "title[filt].head()"
   ]
  },
  {
   "cell_type": "markdown",
   "metadata": {},
   "source": [
    "#### Find all movies that are exactly 10 characters long\n",
    "**`.{10}`** matches exactly any 10 characters in a row. We must anchor it to the beginning and end to ensure that the string is exactly 10 characters in length."
   ]
  },
  {
   "cell_type": "code",
   "execution_count": 18,
   "metadata": {},
   "outputs": [
    {
     "data": {
      "text/plain": [
       "22    Robin Hood\n",
       "28    Battleship\n",
       "32    Iron Man 3\n",
       "76    Waterworld\n",
       "78    Inside Out\n",
       "Name: title, dtype: object"
      ]
     },
     "execution_count": 18,
     "metadata": {},
     "output_type": "execute_result"
    }
   ],
   "source": [
    "pattern = '^.{10}$'\n",
    "filt = title.str.contains(pattern)\n",
    "title[filt].head()"
   ]
  },
  {
   "cell_type": "markdown",
   "metadata": {},
   "source": [
    "# Exercises"
   ]
  },
  {
   "cell_type": "markdown",
   "metadata": {},
   "source": [
    "### Problem 1\n",
    "<span  style=\"color:green; font-size:16px\">Find all movies that begin with 'The' followed by the next word that begins with digits.</span>"
   ]
  },
  {
   "cell_type": "code",
   "execution_count": null,
   "metadata": {},
   "outputs": [],
   "source": [
    "# your code here"
   ]
  },
  {
   "cell_type": "markdown",
   "metadata": {},
   "source": [
    "### Problem 2\n",
    "<span  style=\"color:green; font-size:16px\">Find all movies that have three consecutive capital letters in them.</span>"
   ]
  },
  {
   "cell_type": "code",
   "execution_count": null,
   "metadata": {},
   "outputs": [],
   "source": [
    "# your code here"
   ]
  },
  {
   "cell_type": "markdown",
   "metadata": {},
   "source": [
    "### Problem 3\n",
    "<span  style=\"color:green; font-size:16px\">Find all movies that have begin and end with a capital letter.</span>"
   ]
  },
  {
   "cell_type": "code",
   "execution_count": null,
   "metadata": {},
   "outputs": [],
   "source": [
    "# your code here"
   ]
  },
  {
   "cell_type": "markdown",
   "metadata": {},
   "source": [
    "### Problem 4\n",
    "<span  style=\"color:green; font-size:16px\">Find all the movies that have a digit followed by a comma followed by a digit.</span>"
   ]
  },
  {
   "cell_type": "code",
   "execution_count": null,
   "metadata": {},
   "outputs": [],
   "source": [
    "# your code here"
   ]
  },
  {
   "cell_type": "markdown",
   "metadata": {},
   "source": [
    "### Problem 5\n",
    "<span  style=\"color:green; font-size:16px\">Find all the movies that have either an ampersand or a question mark in them.</span>"
   ]
  },
  {
   "cell_type": "code",
   "execution_count": null,
   "metadata": {},
   "outputs": [],
   "source": [
    "# your code here"
   ]
  },
  {
   "cell_type": "markdown",
   "metadata": {},
   "source": [
    "### Problem 6\n",
    "<span  style=\"color:green; font-size:16px\">Which movie has the most ampersands, question marks, and periods in it?</span>"
   ]
  },
  {
   "cell_type": "code",
   "execution_count": null,
   "metadata": {},
   "outputs": [],
   "source": [
    "# your code here"
   ]
  },
  {
   "cell_type": "markdown",
   "metadata": {},
   "source": [
    "# Continue using regexes to find movies\n",
    "\n",
    "# Many other str methods use regexes. Experiment with them"
   ]
  },
  {
   "cell_type": "code",
   "execution_count": null,
   "metadata": {},
   "outputs": [],
   "source": []
  }
 ],
 "metadata": {
  "kernelspec": {
   "display_name": "Python 3",
   "language": "python",
   "name": "python3"
  },
  "language_info": {
   "codemirror_mode": {
    "name": "ipython",
    "version": 3
   },
   "file_extension": ".py",
   "mimetype": "text/x-python",
   "name": "python",
   "nbconvert_exporter": "python",
   "pygments_lexer": "ipython3",
   "version": "3.6.4"
  }
 },
 "nbformat": 4,
 "nbformat_minor": 2
}
