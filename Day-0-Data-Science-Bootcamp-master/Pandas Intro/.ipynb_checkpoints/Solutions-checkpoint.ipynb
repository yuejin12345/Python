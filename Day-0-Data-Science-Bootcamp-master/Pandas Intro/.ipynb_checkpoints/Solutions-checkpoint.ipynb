{
 "cells": [
  {
   "cell_type": "markdown",
   "metadata": {
    "slideshow": {
     "slide_type": "notes"
    }
   },
   "source": [
    "# Course Solutions\n",
    "\n",
    "1. [Pandas Intro](#1.-Pandas-Intro)\n",
    "1. [Setting a meaningful index](#2.-Setting-a-meaningful-index)\n",
    "1. [Making the most of a Jupyter Notebook](#3.-Making-the-most-of-a-Jupyter-Notebook)\n",
    "1. [Selecting Subsets of Data from DataFrames with just the brackets](#4.-Selecting-Subsets-of-Data-from-DataFrames-with-just-the-brackets)\n",
    "1. [Selecting Subsets of Data from DataFrames with `.loc`](#5.-Selecting-Subsets-of-Data-from-DataFrames-with-.loc)\n",
    "1. [Selecting Subsets of Data from DataFrames with `.iloc`](#6.-Selecting-Subsets-of-Data-from-DataFrames-with-.iloc)\n",
    "1. [Selecting Subsets of Data - Series](#7.-Selecting-Subsets-of-Data---Series)"
   ]
  },
  {
   "cell_type": "markdown",
   "metadata": {},
   "source": [
    "# 1. Pandas Intro"
   ]
  },
  {
   "cell_type": "code",
   "execution_count": 1,
   "metadata": {},
   "outputs": [],
   "source": [
    "import pandas as pd\n",
    "import numpy as np\n",
    "\n",
    "pd.options.display.max_columns = 40\n",
    "bikes = pd.read_csv('../data/bikes.csv')"
   ]
  },
  {
   "cell_type": "markdown",
   "metadata": {},
   "source": [
    "### Problem 1\n",
    "<span  style=\"color:green; font-size:16px\">Select the column **`events`**, the type of weather that was recorded and assign it to a variable with the same name. Output the first 10 values of it.</span>"
   ]
  },
  {
   "cell_type": "code",
   "execution_count": 2,
   "metadata": {},
   "outputs": [
    {
     "data": {
      "text/plain": [
       "0    mostlycloudy\n",
       "1    partlycloudy\n",
       "2    mostlycloudy\n",
       "3    mostlycloudy\n",
       "4    partlycloudy\n",
       "5    mostlycloudy\n",
       "6          cloudy\n",
       "7          cloudy\n",
       "8          cloudy\n",
       "9    mostlycloudy\n",
       "Name: events, dtype: object"
      ]
     },
     "execution_count": 2,
     "metadata": {},
     "output_type": "execute_result"
    }
   ],
   "source": [
    "events = bikes['events']\n",
    "events.head(10)"
   ]
  },
  {
   "cell_type": "markdown",
   "metadata": {},
   "source": [
    "### Problem 2\n",
    "<span  style=\"color:green; font-size:16px\">What type of object is **`events`**?</span>"
   ]
  },
  {
   "cell_type": "code",
   "execution_count": 3,
   "metadata": {},
   "outputs": [
    {
     "data": {
      "text/plain": [
       "pandas.core.series.Series"
      ]
     },
     "execution_count": 3,
     "metadata": {},
     "output_type": "execute_result"
    }
   ],
   "source": [
    "# it's a Series\n",
    "type(events)"
   ]
  },
  {
   "cell_type": "markdown",
   "metadata": {},
   "source": [
    "### Problem 3\n",
    "<span  style=\"color:green; font-size:16px\">Select the last 2 rows of the **`bikes`** DataFrame and assign it to the variable **`bikes_last_2`**. What type of object is **`bikes_last_2`**?</span>"
   ]
  },
  {
   "cell_type": "code",
   "execution_count": 5,
   "metadata": {},
   "outputs": [
    {
     "data": {
      "text/plain": [
       "pandas.core.frame.DataFrame"
      ]
     },
     "execution_count": 5,
     "metadata": {},
     "output_type": "execute_result"
    }
   ],
   "source": [
    "# it's a DataFrame\n",
    "bikes_last_2 = bikes.tail(2)\n",
    "type(bikes_last_2)"
   ]
  },
  {
   "cell_type": "markdown",
   "metadata": {},
   "source": [
    "### Problem 4\n",
    "<span  style=\"color:green; font-size:16px\">What type of object is returned from the **`dtypes`** attribute?</span>"
   ]
  },
  {
   "cell_type": "code",
   "execution_count": 7,
   "metadata": {},
   "outputs": [
    {
     "data": {
      "text/plain": [
       "pandas.core.series.Series"
      ]
     },
     "execution_count": 7,
     "metadata": {},
     "output_type": "execute_result"
    }
   ],
   "source": [
    "# a Series\n",
    "type(bikes.dtypes)"
   ]
  },
  {
   "cell_type": "markdown",
   "metadata": {},
   "source": [
    "### Problem 5\n",
    "<span  style=\"color:green; font-size:16px\">What type of object is returned from the **`shape`** attribute?</span>"
   ]
  },
  {
   "cell_type": "code",
   "execution_count": 8,
   "metadata": {},
   "outputs": [
    {
     "data": {
      "text/plain": [
       "tuple"
      ]
     },
     "execution_count": 8,
     "metadata": {},
     "output_type": "execute_result"
    }
   ],
   "source": [
    "# a tuple of rows, columns\n",
    "type(bikes.shape)"
   ]
  },
  {
   "cell_type": "markdown",
   "metadata": {},
   "source": [
    "### Problem 6\n",
    "<span  style=\"color:green; font-size:16px\">What type of object is returned from the **`info`** method?</span>"
   ]
  },
  {
   "cell_type": "markdown",
   "metadata": {},
   "source": [
    "The object **`None`** is returned. What you see is just output printed to the screen."
   ]
  },
  {
   "cell_type": "code",
   "execution_count": 10,
   "metadata": {},
   "outputs": [
    {
     "name": "stdout",
     "output_type": "stream",
     "text": [
      "<class 'pandas.core.frame.DataFrame'>\n",
      "RangeIndex: 50089 entries, 0 to 50088\n",
      "Data columns (total 19 columns):\n",
      "trip_id              50089 non-null int64\n",
      "usertype             50089 non-null object\n",
      "gender               50089 non-null object\n",
      "starttime            50089 non-null object\n",
      "stoptime             50089 non-null object\n",
      "tripduration         50089 non-null int64\n",
      "from_station_name    50089 non-null object\n",
      "latitude_start       50083 non-null float64\n",
      "longitude_start      50083 non-null float64\n",
      "dpcapacity_start     50083 non-null float64\n",
      "to_station_name      50089 non-null object\n",
      "latitude_end         50077 non-null float64\n",
      "longitude_end        50077 non-null float64\n",
      "dpcapacity_end       50077 non-null float64\n",
      "temperature          50089 non-null float64\n",
      "visibility           50089 non-null float64\n",
      "wind_speed           50089 non-null float64\n",
      "precipitation        50089 non-null float64\n",
      "events               50089 non-null object\n",
      "dtypes: float64(10), int64(2), object(7)\n",
      "memory usage: 7.3+ MB\n"
     ]
    }
   ],
   "source": [
    "info_return = bikes.info()"
   ]
  },
  {
   "cell_type": "code",
   "execution_count": 11,
   "metadata": {},
   "outputs": [
    {
     "data": {
      "text/plain": [
       "NoneType"
      ]
     },
     "execution_count": 11,
     "metadata": {},
     "output_type": "execute_result"
    }
   ],
   "source": [
    "type(info_return)"
   ]
  },
  {
   "cell_type": "markdown",
   "metadata": {},
   "source": [
    "### Problem 7\n",
    "<span  style=\"color:green; font-size:16px\">The memory usage from the **`info`** method isn't correct when you have objects in your DataFrame. Read the docstrings from it and get the true memory usage.</span>"
   ]
  },
  {
   "cell_type": "code",
   "execution_count": 12,
   "metadata": {},
   "outputs": [
    {
     "name": "stdout",
     "output_type": "stream",
     "text": [
      "<class 'pandas.core.frame.DataFrame'>\n",
      "RangeIndex: 50089 entries, 0 to 50088\n",
      "Data columns (total 19 columns):\n",
      "trip_id              50089 non-null int64\n",
      "usertype             50089 non-null object\n",
      "gender               50089 non-null object\n",
      "starttime            50089 non-null object\n",
      "stoptime             50089 non-null object\n",
      "tripduration         50089 non-null int64\n",
      "from_station_name    50089 non-null object\n",
      "latitude_start       50083 non-null float64\n",
      "longitude_start      50083 non-null float64\n",
      "dpcapacity_start     50083 non-null float64\n",
      "to_station_name      50089 non-null object\n",
      "latitude_end         50077 non-null float64\n",
      "longitude_end        50077 non-null float64\n",
      "dpcapacity_end       50077 non-null float64\n",
      "temperature          50089 non-null float64\n",
      "visibility           50089 non-null float64\n",
      "wind_speed           50089 non-null float64\n",
      "precipitation        50089 non-null float64\n",
      "events               50089 non-null object\n",
      "dtypes: float64(10), int64(2), object(7)\n",
      "memory usage: 28.9 MB\n"
     ]
    }
   ],
   "source": [
    "bikes.info(memory_usage='deep')"
   ]
  },
  {
   "cell_type": "markdown",
   "metadata": {},
   "source": [
    "# 2. Setting a meaningful index"
   ]
  },
  {
   "cell_type": "markdown",
   "metadata": {},
   "source": [
    "# 3. Making the most of a Jupyter Notebook"
   ]
  },
  {
   "cell_type": "markdown",
   "metadata": {},
   "source": [
    "# 4. Selecting Subsets of Data from DataFrames with just the brackets"
   ]
  },
  {
   "cell_type": "code",
   "execution_count": 72,
   "metadata": {},
   "outputs": [],
   "source": [
    "movie = pd.read_csv('../data/movie.csv', index_col='title')"
   ]
  },
  {
   "cell_type": "markdown",
   "metadata": {},
   "source": [
    "### Problem 1\n",
    "<span  style=\"color:green; font-size:16px\">Select the column with the director's name as a Series</span>"
   ]
  },
  {
   "cell_type": "code",
   "execution_count": 73,
   "metadata": {},
   "outputs": [
    {
     "data": {
      "text/plain": [
       "title\n",
       "Avatar                                            James Cameron\n",
       "Pirates of the Caribbean: At World's End         Gore Verbinski\n",
       "Spectre                                              Sam Mendes\n",
       "The Dark Knight Rises                         Christopher Nolan\n",
       "Star Wars: Episode VII - The Force Awakens          Doug Walker\n",
       "Name: director_name, dtype: object"
      ]
     },
     "execution_count": 73,
     "metadata": {},
     "output_type": "execute_result"
    }
   ],
   "source": [
    "movie['director_name'].head()"
   ]
  },
  {
   "cell_type": "markdown",
   "metadata": {},
   "source": [
    "### Problem 2\n",
    "<span  style=\"color:green; font-size:16px\">Select the column with the director's name and number of Facebook likes.</span>"
   ]
  },
  {
   "cell_type": "code",
   "execution_count": 75,
   "metadata": {},
   "outputs": [
    {
     "data": {
      "text/html": [
       "<div>\n",
       "<style scoped>\n",
       "    .dataframe tbody tr th:only-of-type {\n",
       "        vertical-align: middle;\n",
       "    }\n",
       "\n",
       "    .dataframe tbody tr th {\n",
       "        vertical-align: top;\n",
       "    }\n",
       "\n",
       "    .dataframe thead th {\n",
       "        text-align: right;\n",
       "    }\n",
       "</style>\n",
       "<table border=\"1\" class=\"dataframe\">\n",
       "  <thead>\n",
       "    <tr style=\"text-align: right;\">\n",
       "      <th></th>\n",
       "      <th>director_name</th>\n",
       "      <th>director_fb</th>\n",
       "    </tr>\n",
       "    <tr>\n",
       "      <th>title</th>\n",
       "      <th></th>\n",
       "      <th></th>\n",
       "    </tr>\n",
       "  </thead>\n",
       "  <tbody>\n",
       "    <tr>\n",
       "      <th>Avatar</th>\n",
       "      <td>James Cameron</td>\n",
       "      <td>0.0</td>\n",
       "    </tr>\n",
       "    <tr>\n",
       "      <th>Pirates of the Caribbean: At World's End</th>\n",
       "      <td>Gore Verbinski</td>\n",
       "      <td>563.0</td>\n",
       "    </tr>\n",
       "    <tr>\n",
       "      <th>Spectre</th>\n",
       "      <td>Sam Mendes</td>\n",
       "      <td>0.0</td>\n",
       "    </tr>\n",
       "    <tr>\n",
       "      <th>The Dark Knight Rises</th>\n",
       "      <td>Christopher Nolan</td>\n",
       "      <td>22000.0</td>\n",
       "    </tr>\n",
       "    <tr>\n",
       "      <th>Star Wars: Episode VII - The Force Awakens</th>\n",
       "      <td>Doug Walker</td>\n",
       "      <td>131.0</td>\n",
       "    </tr>\n",
       "  </tbody>\n",
       "</table>\n",
       "</div>"
      ],
      "text/plain": [
       "                                                director_name  director_fb\n",
       "title                                                                     \n",
       "Avatar                                          James Cameron          0.0\n",
       "Pirates of the Caribbean: At World's End       Gore Verbinski        563.0\n",
       "Spectre                                            Sam Mendes          0.0\n",
       "The Dark Knight Rises                       Christopher Nolan      22000.0\n",
       "Star Wars: Episode VII - The Force Awakens        Doug Walker        131.0"
      ]
     },
     "execution_count": 75,
     "metadata": {},
     "output_type": "execute_result"
    }
   ],
   "source": [
    "movie[['director_name', 'director_fb']].head()"
   ]
  },
  {
   "cell_type": "markdown",
   "metadata": {},
   "source": [
    "# 5. Selecting Subsets of Data from DataFrames with `.loc`"
   ]
  },
  {
   "cell_type": "markdown",
   "metadata": {},
   "source": [
    "### Problem 1\n",
    "<span  style=\"color:green; font-size:16px\">Select all columns for the movie 'The Dark Knight Rises'.</span>"
   ]
  },
  {
   "cell_type": "code",
   "execution_count": 76,
   "metadata": {},
   "outputs": [
    {
     "data": {
      "text/plain": [
       "year                                                            2012\n",
       "color                                                          Color\n",
       "content_rating                                                 PG-13\n",
       "duration                                                         164\n",
       "director_name                                      Christopher Nolan\n",
       "director_fb                                                    22000\n",
       "actor1                                                     Tom Hardy\n",
       "actor1_fb                                                      27000\n",
       "actor2                                                Christian Bale\n",
       "actor2_fb                                                      23000\n",
       "actor3                                          Joseph Gordon-Levitt\n",
       "actor3_fb                                                      23000\n",
       "gross                                                    4.48131e+08\n",
       "genres                                               Action|Thriller\n",
       "num_reviews                                                      813\n",
       "num_voted_users                                              1144337\n",
       "plot_keywords      deception|imprisonment|lawlessness|police offi...\n",
       "language                                                     English\n",
       "country                                                          USA\n",
       "budget                                                       2.5e+08\n",
       "imdb_score                                                       8.5\n",
       "Name: The Dark Knight Rises, dtype: object"
      ]
     },
     "execution_count": 76,
     "metadata": {},
     "output_type": "execute_result"
    }
   ],
   "source": [
    "movie.loc['The Dark Knight Rises']"
   ]
  },
  {
   "cell_type": "markdown",
   "metadata": {},
   "source": [
    "### Problem 2\n",
    "<span  style=\"color:green; font-size:16px\">Select all columns for the movies 'Tangled' and 'Avatar'.</span>"
   ]
  },
  {
   "cell_type": "code",
   "execution_count": 77,
   "metadata": {},
   "outputs": [
    {
     "data": {
      "text/html": [
       "<div>\n",
       "<style scoped>\n",
       "    .dataframe tbody tr th:only-of-type {\n",
       "        vertical-align: middle;\n",
       "    }\n",
       "\n",
       "    .dataframe tbody tr th {\n",
       "        vertical-align: top;\n",
       "    }\n",
       "\n",
       "    .dataframe thead th {\n",
       "        text-align: right;\n",
       "    }\n",
       "</style>\n",
       "<table border=\"1\" class=\"dataframe\">\n",
       "  <thead>\n",
       "    <tr style=\"text-align: right;\">\n",
       "      <th></th>\n",
       "      <th>year</th>\n",
       "      <th>color</th>\n",
       "      <th>content_rating</th>\n",
       "      <th>duration</th>\n",
       "      <th>director_name</th>\n",
       "      <th>director_fb</th>\n",
       "      <th>actor1</th>\n",
       "      <th>actor1_fb</th>\n",
       "      <th>actor2</th>\n",
       "      <th>actor2_fb</th>\n",
       "      <th>actor3</th>\n",
       "      <th>actor3_fb</th>\n",
       "      <th>gross</th>\n",
       "      <th>genres</th>\n",
       "      <th>num_reviews</th>\n",
       "      <th>num_voted_users</th>\n",
       "      <th>plot_keywords</th>\n",
       "      <th>language</th>\n",
       "      <th>country</th>\n",
       "      <th>budget</th>\n",
       "      <th>imdb_score</th>\n",
       "    </tr>\n",
       "    <tr>\n",
       "      <th>title</th>\n",
       "      <th></th>\n",
       "      <th></th>\n",
       "      <th></th>\n",
       "      <th></th>\n",
       "      <th></th>\n",
       "      <th></th>\n",
       "      <th></th>\n",
       "      <th></th>\n",
       "      <th></th>\n",
       "      <th></th>\n",
       "      <th></th>\n",
       "      <th></th>\n",
       "      <th></th>\n",
       "      <th></th>\n",
       "      <th></th>\n",
       "      <th></th>\n",
       "      <th></th>\n",
       "      <th></th>\n",
       "      <th></th>\n",
       "      <th></th>\n",
       "      <th></th>\n",
       "    </tr>\n",
       "  </thead>\n",
       "  <tbody>\n",
       "    <tr>\n",
       "      <th>Tangled</th>\n",
       "      <td>2010.0</td>\n",
       "      <td>Color</td>\n",
       "      <td>PG</td>\n",
       "      <td>100.0</td>\n",
       "      <td>Nathan Greno</td>\n",
       "      <td>15.0</td>\n",
       "      <td>Brad Garrett</td>\n",
       "      <td>799.0</td>\n",
       "      <td>Donna Murphy</td>\n",
       "      <td>553.0</td>\n",
       "      <td>M.C. Gainey</td>\n",
       "      <td>284.0</td>\n",
       "      <td>200807262.0</td>\n",
       "      <td>Adventure|Animation|Comedy|Family|Fantasy|Musi...</td>\n",
       "      <td>324.0</td>\n",
       "      <td>294810</td>\n",
       "      <td>17th century|based on fairy tale|disney|flower...</td>\n",
       "      <td>English</td>\n",
       "      <td>USA</td>\n",
       "      <td>260000000.0</td>\n",
       "      <td>7.8</td>\n",
       "    </tr>\n",
       "    <tr>\n",
       "      <th>Avatar</th>\n",
       "      <td>2009.0</td>\n",
       "      <td>Color</td>\n",
       "      <td>PG-13</td>\n",
       "      <td>178.0</td>\n",
       "      <td>James Cameron</td>\n",
       "      <td>0.0</td>\n",
       "      <td>CCH Pounder</td>\n",
       "      <td>1000.0</td>\n",
       "      <td>Joel David Moore</td>\n",
       "      <td>936.0</td>\n",
       "      <td>Wes Studi</td>\n",
       "      <td>855.0</td>\n",
       "      <td>760505847.0</td>\n",
       "      <td>Action|Adventure|Fantasy|Sci-Fi</td>\n",
       "      <td>723.0</td>\n",
       "      <td>886204</td>\n",
       "      <td>avatar|future|marine|native|paraplegic</td>\n",
       "      <td>English</td>\n",
       "      <td>USA</td>\n",
       "      <td>237000000.0</td>\n",
       "      <td>7.9</td>\n",
       "    </tr>\n",
       "  </tbody>\n",
       "</table>\n",
       "</div>"
      ],
      "text/plain": [
       "           year  color content_rating  duration  director_name  director_fb  \\\n",
       "title                                                                         \n",
       "Tangled  2010.0  Color             PG     100.0   Nathan Greno         15.0   \n",
       "Avatar   2009.0  Color          PG-13     178.0  James Cameron          0.0   \n",
       "\n",
       "               actor1  actor1_fb            actor2  actor2_fb       actor3  \\\n",
       "title                                                                        \n",
       "Tangled  Brad Garrett      799.0      Donna Murphy      553.0  M.C. Gainey   \n",
       "Avatar    CCH Pounder     1000.0  Joel David Moore      936.0    Wes Studi   \n",
       "\n",
       "         actor3_fb        gross  \\\n",
       "title                             \n",
       "Tangled      284.0  200807262.0   \n",
       "Avatar       855.0  760505847.0   \n",
       "\n",
       "                                                    genres  num_reviews  \\\n",
       "title                                                                     \n",
       "Tangled  Adventure|Animation|Comedy|Family|Fantasy|Musi...        324.0   \n",
       "Avatar                     Action|Adventure|Fantasy|Sci-Fi        723.0   \n",
       "\n",
       "         num_voted_users                                      plot_keywords  \\\n",
       "title                                                                         \n",
       "Tangled           294810  17th century|based on fairy tale|disney|flower...   \n",
       "Avatar            886204             avatar|future|marine|native|paraplegic   \n",
       "\n",
       "        language country       budget  imdb_score  \n",
       "title                                              \n",
       "Tangled  English     USA  260000000.0         7.8  \n",
       "Avatar   English     USA  237000000.0         7.9  "
      ]
     },
     "execution_count": 77,
     "metadata": {},
     "output_type": "execute_result"
    }
   ],
   "source": [
    "movie.loc[['Tangled', 'Avatar']]"
   ]
  },
  {
   "cell_type": "markdown",
   "metadata": {},
   "source": [
    "### Problem 3\n",
    "<span  style=\"color:green; font-size:16px\">What year was 'Tangled' and 'Avatar' made and what was their IMBD scores?</span>"
   ]
  },
  {
   "cell_type": "code",
   "execution_count": 79,
   "metadata": {},
   "outputs": [
    {
     "data": {
      "text/html": [
       "<div>\n",
       "<style scoped>\n",
       "    .dataframe tbody tr th:only-of-type {\n",
       "        vertical-align: middle;\n",
       "    }\n",
       "\n",
       "    .dataframe tbody tr th {\n",
       "        vertical-align: top;\n",
       "    }\n",
       "\n",
       "    .dataframe thead th {\n",
       "        text-align: right;\n",
       "    }\n",
       "</style>\n",
       "<table border=\"1\" class=\"dataframe\">\n",
       "  <thead>\n",
       "    <tr style=\"text-align: right;\">\n",
       "      <th></th>\n",
       "      <th>year</th>\n",
       "      <th>imdb_score</th>\n",
       "    </tr>\n",
       "    <tr>\n",
       "      <th>title</th>\n",
       "      <th></th>\n",
       "      <th></th>\n",
       "    </tr>\n",
       "  </thead>\n",
       "  <tbody>\n",
       "    <tr>\n",
       "      <th>Tangled</th>\n",
       "      <td>2010.0</td>\n",
       "      <td>7.8</td>\n",
       "    </tr>\n",
       "    <tr>\n",
       "      <th>Avatar</th>\n",
       "      <td>2009.0</td>\n",
       "      <td>7.9</td>\n",
       "    </tr>\n",
       "  </tbody>\n",
       "</table>\n",
       "</div>"
      ],
      "text/plain": [
       "           year  imdb_score\n",
       "title                      \n",
       "Tangled  2010.0         7.8\n",
       "Avatar   2009.0         7.9"
      ]
     },
     "execution_count": 79,
     "metadata": {},
     "output_type": "execute_result"
    }
   ],
   "source": [
    "movie.loc[['Tangled', 'Avatar'], ['year', 'imdb_score']]"
   ]
  },
  {
   "cell_type": "markdown",
   "metadata": {},
   "source": [
    "### Problem 4\n",
    "<span  style=\"color:green; font-size:16px\">Can you tell what the data type of the `year` column is by just looking at its values?</span>"
   ]
  },
  {
   "cell_type": "markdown",
   "metadata": {},
   "source": [
    "Yes, because it has a decimal value it must be a float. Integers do not have decimals"
   ]
  },
  {
   "cell_type": "markdown",
   "metadata": {},
   "source": [
    "### Problem 5\n",
    "<span  style=\"color:green; font-size:16px\">Use a single method to output the data type and number of non-missing values of `year`. Is it missing any?</span>"
   ]
  },
  {
   "cell_type": "code",
   "execution_count": 80,
   "metadata": {},
   "outputs": [
    {
     "name": "stdout",
     "output_type": "stream",
     "text": [
      "<class 'pandas.core.frame.DataFrame'>\n",
      "Index: 4916 entries, Avatar to My Date with Drew\n",
      "Data columns (total 21 columns):\n",
      "year               4810 non-null float64\n",
      "color              4897 non-null object\n",
      "content_rating     4616 non-null object\n",
      "duration           4901 non-null float64\n",
      "director_name      4814 non-null object\n",
      "director_fb        4814 non-null float64\n",
      "actor1             4909 non-null object\n",
      "actor1_fb          4909 non-null float64\n",
      "actor2             4903 non-null object\n",
      "actor2_fb          4903 non-null float64\n",
      "actor3             4893 non-null object\n",
      "actor3_fb          4893 non-null float64\n",
      "gross              4054 non-null float64\n",
      "genres             4916 non-null object\n",
      "num_reviews        4867 non-null float64\n",
      "num_voted_users    4916 non-null int64\n",
      "plot_keywords      4764 non-null object\n",
      "language           4904 non-null object\n",
      "country            4911 non-null object\n",
      "budget             4432 non-null float64\n",
      "imdb_score         4916 non-null float64\n",
      "dtypes: float64(10), int64(1), object(10)\n",
      "memory usage: 1004.9+ KB\n"
     ]
    }
   ],
   "source": [
    "# yes, its missing many values. 4432 non-missing vs 4916 total\n",
    "movie.info()"
   ]
  },
  {
   "cell_type": "markdown",
   "metadata": {},
   "source": [
    "### Problem 6\n",
    "<span  style=\"color:green; font-size:16px\">Select every 100th movie between 'Tangled' and 'Forrest Gump'. Why doesn't 'Forrest Gump' appear in the results?</span>"
   ]
  },
  {
   "cell_type": "code",
   "execution_count": 81,
   "metadata": {},
   "outputs": [
    {
     "data": {
      "text/html": [
       "<div>\n",
       "<style scoped>\n",
       "    .dataframe tbody tr th:only-of-type {\n",
       "        vertical-align: middle;\n",
       "    }\n",
       "\n",
       "    .dataframe tbody tr th {\n",
       "        vertical-align: top;\n",
       "    }\n",
       "\n",
       "    .dataframe thead th {\n",
       "        text-align: right;\n",
       "    }\n",
       "</style>\n",
       "<table border=\"1\" class=\"dataframe\">\n",
       "  <thead>\n",
       "    <tr style=\"text-align: right;\">\n",
       "      <th></th>\n",
       "      <th>year</th>\n",
       "      <th>color</th>\n",
       "      <th>content_rating</th>\n",
       "      <th>duration</th>\n",
       "      <th>director_name</th>\n",
       "      <th>director_fb</th>\n",
       "      <th>actor1</th>\n",
       "      <th>actor1_fb</th>\n",
       "      <th>actor2</th>\n",
       "      <th>actor2_fb</th>\n",
       "      <th>actor3</th>\n",
       "      <th>actor3_fb</th>\n",
       "      <th>gross</th>\n",
       "      <th>genres</th>\n",
       "      <th>num_reviews</th>\n",
       "      <th>num_voted_users</th>\n",
       "      <th>plot_keywords</th>\n",
       "      <th>language</th>\n",
       "      <th>country</th>\n",
       "      <th>budget</th>\n",
       "      <th>imdb_score</th>\n",
       "    </tr>\n",
       "    <tr>\n",
       "      <th>title</th>\n",
       "      <th></th>\n",
       "      <th></th>\n",
       "      <th></th>\n",
       "      <th></th>\n",
       "      <th></th>\n",
       "      <th></th>\n",
       "      <th></th>\n",
       "      <th></th>\n",
       "      <th></th>\n",
       "      <th></th>\n",
       "      <th></th>\n",
       "      <th></th>\n",
       "      <th></th>\n",
       "      <th></th>\n",
       "      <th></th>\n",
       "      <th></th>\n",
       "      <th></th>\n",
       "      <th></th>\n",
       "      <th></th>\n",
       "      <th></th>\n",
       "      <th></th>\n",
       "    </tr>\n",
       "  </thead>\n",
       "  <tbody>\n",
       "    <tr>\n",
       "      <th>Tangled</th>\n",
       "      <td>2010.0</td>\n",
       "      <td>Color</td>\n",
       "      <td>PG</td>\n",
       "      <td>100.0</td>\n",
       "      <td>Nathan Greno</td>\n",
       "      <td>15.0</td>\n",
       "      <td>Brad Garrett</td>\n",
       "      <td>799.0</td>\n",
       "      <td>Donna Murphy</td>\n",
       "      <td>553.0</td>\n",
       "      <td>M.C. Gainey</td>\n",
       "      <td>284.0</td>\n",
       "      <td>200807262.0</td>\n",
       "      <td>Adventure|Animation|Comedy|Family|Fantasy|Musi...</td>\n",
       "      <td>324.0</td>\n",
       "      <td>294810</td>\n",
       "      <td>17th century|based on fairy tale|disney|flower...</td>\n",
       "      <td>English</td>\n",
       "      <td>USA</td>\n",
       "      <td>260000000.0</td>\n",
       "      <td>7.8</td>\n",
       "    </tr>\n",
       "    <tr>\n",
       "      <th>Shrek the Third</th>\n",
       "      <td>2007.0</td>\n",
       "      <td>Color</td>\n",
       "      <td>PG</td>\n",
       "      <td>93.0</td>\n",
       "      <td>Chris Miller</td>\n",
       "      <td>50.0</td>\n",
       "      <td>Justin Timberlake</td>\n",
       "      <td>3000.0</td>\n",
       "      <td>Eric Idle</td>\n",
       "      <td>795.0</td>\n",
       "      <td>Rupert Everett</td>\n",
       "      <td>692.0</td>\n",
       "      <td>320706665.0</td>\n",
       "      <td>Adventure|Animation|Comedy|Family|Fantasy</td>\n",
       "      <td>227.0</td>\n",
       "      <td>211971</td>\n",
       "      <td>disney spoof|fairy tale|prince|princess|tough guy</td>\n",
       "      <td>English</td>\n",
       "      <td>USA</td>\n",
       "      <td>160000000.0</td>\n",
       "      <td>6.1</td>\n",
       "    </tr>\n",
       "    <tr>\n",
       "      <th>X-Men 2</th>\n",
       "      <td>2003.0</td>\n",
       "      <td>Color</td>\n",
       "      <td>PG-13</td>\n",
       "      <td>134.0</td>\n",
       "      <td>Bryan Singer</td>\n",
       "      <td>0.0</td>\n",
       "      <td>Hugh Jackman</td>\n",
       "      <td>20000.0</td>\n",
       "      <td>Bruce Davison</td>\n",
       "      <td>505.0</td>\n",
       "      <td>Aaron Stanford</td>\n",
       "      <td>346.0</td>\n",
       "      <td>214948780.0</td>\n",
       "      <td>Action|Adventure|Fantasy|Sci-Fi|Thriller</td>\n",
       "      <td>289.0</td>\n",
       "      <td>405973</td>\n",
       "      <td>mutant|prison|professor|school|x men</td>\n",
       "      <td>English</td>\n",
       "      <td>Canada</td>\n",
       "      <td>110000000.0</td>\n",
       "      <td>7.5</td>\n",
       "    </tr>\n",
       "    <tr>\n",
       "      <th>Cloud Atlas</th>\n",
       "      <td>2012.0</td>\n",
       "      <td>Color</td>\n",
       "      <td>R</td>\n",
       "      <td>172.0</td>\n",
       "      <td>Tom Tykwer</td>\n",
       "      <td>670.0</td>\n",
       "      <td>Tom Hanks</td>\n",
       "      <td>15000.0</td>\n",
       "      <td>Jim Sturgess</td>\n",
       "      <td>5000.0</td>\n",
       "      <td>Jim Broadbent</td>\n",
       "      <td>1000.0</td>\n",
       "      <td>27098580.0</td>\n",
       "      <td>Drama|Sci-Fi</td>\n",
       "      <td>511.0</td>\n",
       "      <td>284825</td>\n",
       "      <td>composer|future|letter|nonlinear timeline|nurs...</td>\n",
       "      <td>English</td>\n",
       "      <td>Germany</td>\n",
       "      <td>102000000.0</td>\n",
       "      <td>7.5</td>\n",
       "    </tr>\n",
       "    <tr>\n",
       "      <th>Divergent</th>\n",
       "      <td>2014.0</td>\n",
       "      <td>Color</td>\n",
       "      <td>PG-13</td>\n",
       "      <td>139.0</td>\n",
       "      <td>Neil Burger</td>\n",
       "      <td>168.0</td>\n",
       "      <td>Kate Winslet</td>\n",
       "      <td>14000.0</td>\n",
       "      <td>Theo James</td>\n",
       "      <td>5000.0</td>\n",
       "      <td>Mekhi Phifer</td>\n",
       "      <td>1000.0</td>\n",
       "      <td>150832203.0</td>\n",
       "      <td>Adventure|Mystery|Sci-Fi</td>\n",
       "      <td>459.0</td>\n",
       "      <td>341058</td>\n",
       "      <td>army|brother sister relationship|dystopia|fath...</td>\n",
       "      <td>English</td>\n",
       "      <td>USA</td>\n",
       "      <td>85000000.0</td>\n",
       "      <td>6.7</td>\n",
       "    </tr>\n",
       "    <tr>\n",
       "      <th>Hidalgo</th>\n",
       "      <td>2004.0</td>\n",
       "      <td>Color</td>\n",
       "      <td>PG-13</td>\n",
       "      <td>136.0</td>\n",
       "      <td>Joe Johnston</td>\n",
       "      <td>394.0</td>\n",
       "      <td>J.K. Simmons</td>\n",
       "      <td>24000.0</td>\n",
       "      <td>Viggo Mortensen</td>\n",
       "      <td>10000.0</td>\n",
       "      <td>Peter Mensah</td>\n",
       "      <td>1000.0</td>\n",
       "      <td>67286731.0</td>\n",
       "      <td>Action|Adventure|Western</td>\n",
       "      <td>140.0</td>\n",
       "      <td>67856</td>\n",
       "      <td>arab|cowboy|horse|race|sheik</td>\n",
       "      <td>English</td>\n",
       "      <td>USA</td>\n",
       "      <td>100000000.0</td>\n",
       "      <td>6.7</td>\n",
       "    </tr>\n",
       "    <tr>\n",
       "      <th>Doom</th>\n",
       "      <td>2005.0</td>\n",
       "      <td>Color</td>\n",
       "      <td>R</td>\n",
       "      <td>113.0</td>\n",
       "      <td>Andrzej Bartkowiak</td>\n",
       "      <td>43.0</td>\n",
       "      <td>Dwayne Johnson</td>\n",
       "      <td>12000.0</td>\n",
       "      <td>Ben Daniels</td>\n",
       "      <td>585.0</td>\n",
       "      <td>Dexter Fletcher</td>\n",
       "      <td>452.0</td>\n",
       "      <td>28031250.0</td>\n",
       "      <td>Action|Adventure|Horror|Sci-Fi</td>\n",
       "      <td>237.0</td>\n",
       "      <td>88146</td>\n",
       "      <td>commando unit|extra chromosome|first person sh...</td>\n",
       "      <td>English</td>\n",
       "      <td>UK</td>\n",
       "      <td>60000000.0</td>\n",
       "      <td>5.2</td>\n",
       "    </tr>\n",
       "    <tr>\n",
       "      <th>Gone Girl</th>\n",
       "      <td>2014.0</td>\n",
       "      <td>Color</td>\n",
       "      <td>R</td>\n",
       "      <td>149.0</td>\n",
       "      <td>David Fincher</td>\n",
       "      <td>21000.0</td>\n",
       "      <td>Patrick Fugit</td>\n",
       "      <td>835.0</td>\n",
       "      <td>Sela Ward</td>\n",
       "      <td>812.0</td>\n",
       "      <td>Emily Ratajkowski</td>\n",
       "      <td>625.0</td>\n",
       "      <td>167735396.0</td>\n",
       "      <td>Crime|Drama|Mystery|Thriller</td>\n",
       "      <td>568.0</td>\n",
       "      <td>569841</td>\n",
       "      <td>based on novel|disappearance|missing person|mi...</td>\n",
       "      <td>English</td>\n",
       "      <td>USA</td>\n",
       "      <td>61000000.0</td>\n",
       "      <td>8.1</td>\n",
       "    </tr>\n",
       "    <tr>\n",
       "      <th>Sabrina, the Teenage Witch</th>\n",
       "      <td>NaN</td>\n",
       "      <td>Color</td>\n",
       "      <td>TV-G</td>\n",
       "      <td>22.0</td>\n",
       "      <td>NaN</td>\n",
       "      <td>NaN</td>\n",
       "      <td>Nate Richert</td>\n",
       "      <td>870.0</td>\n",
       "      <td>Soleil Moon Frye</td>\n",
       "      <td>558.0</td>\n",
       "      <td>Caroline Rhea</td>\n",
       "      <td>271.0</td>\n",
       "      <td>NaN</td>\n",
       "      <td>Comedy|Family|Fantasy</td>\n",
       "      <td>20.0</td>\n",
       "      <td>24420</td>\n",
       "      <td>female protagonist|hereditary gift of witchcra...</td>\n",
       "      <td>English</td>\n",
       "      <td>USA</td>\n",
       "      <td>3000000.0</td>\n",
       "      <td>6.6</td>\n",
       "    </tr>\n",
       "  </tbody>\n",
       "</table>\n",
       "</div>"
      ],
      "text/plain": [
       "                              year  color content_rating  duration  \\\n",
       "title                                                                \n",
       "Tangled                     2010.0  Color             PG     100.0   \n",
       "Shrek the Third             2007.0  Color             PG      93.0   \n",
       "X-Men 2                     2003.0  Color          PG-13     134.0   \n",
       "Cloud Atlas                 2012.0  Color              R     172.0   \n",
       "Divergent                   2014.0  Color          PG-13     139.0   \n",
       "Hidalgo                     2004.0  Color          PG-13     136.0   \n",
       "Doom                        2005.0  Color              R     113.0   \n",
       "Gone Girl                   2014.0  Color              R     149.0   \n",
       "Sabrina, the Teenage Witch     NaN  Color           TV-G      22.0   \n",
       "\n",
       "                                 director_name  director_fb  \\\n",
       "title                                                         \n",
       "Tangled                           Nathan Greno         15.0   \n",
       "Shrek the Third                   Chris Miller         50.0   \n",
       "X-Men 2                           Bryan Singer          0.0   \n",
       "Cloud Atlas                         Tom Tykwer        670.0   \n",
       "Divergent                          Neil Burger        168.0   \n",
       "Hidalgo                           Joe Johnston        394.0   \n",
       "Doom                        Andrzej Bartkowiak         43.0   \n",
       "Gone Girl                        David Fincher      21000.0   \n",
       "Sabrina, the Teenage Witch                 NaN          NaN   \n",
       "\n",
       "                                       actor1  actor1_fb            actor2  \\\n",
       "title                                                                        \n",
       "Tangled                          Brad Garrett      799.0      Donna Murphy   \n",
       "Shrek the Third             Justin Timberlake     3000.0         Eric Idle   \n",
       "X-Men 2                          Hugh Jackman    20000.0     Bruce Davison   \n",
       "Cloud Atlas                         Tom Hanks    15000.0      Jim Sturgess   \n",
       "Divergent                        Kate Winslet    14000.0        Theo James   \n",
       "Hidalgo                          J.K. Simmons    24000.0   Viggo Mortensen   \n",
       "Doom                           Dwayne Johnson    12000.0       Ben Daniels   \n",
       "Gone Girl                       Patrick Fugit      835.0         Sela Ward   \n",
       "Sabrina, the Teenage Witch       Nate Richert      870.0  Soleil Moon Frye   \n",
       "\n",
       "                            actor2_fb             actor3  actor3_fb  \\\n",
       "title                                                                 \n",
       "Tangled                         553.0        M.C. Gainey      284.0   \n",
       "Shrek the Third                 795.0     Rupert Everett      692.0   \n",
       "X-Men 2                         505.0     Aaron Stanford      346.0   \n",
       "Cloud Atlas                    5000.0      Jim Broadbent     1000.0   \n",
       "Divergent                      5000.0       Mekhi Phifer     1000.0   \n",
       "Hidalgo                       10000.0       Peter Mensah     1000.0   \n",
       "Doom                            585.0    Dexter Fletcher      452.0   \n",
       "Gone Girl                       812.0  Emily Ratajkowski      625.0   \n",
       "Sabrina, the Teenage Witch      558.0      Caroline Rhea      271.0   \n",
       "\n",
       "                                  gross  \\\n",
       "title                                     \n",
       "Tangled                     200807262.0   \n",
       "Shrek the Third             320706665.0   \n",
       "X-Men 2                     214948780.0   \n",
       "Cloud Atlas                  27098580.0   \n",
       "Divergent                   150832203.0   \n",
       "Hidalgo                      67286731.0   \n",
       "Doom                         28031250.0   \n",
       "Gone Girl                   167735396.0   \n",
       "Sabrina, the Teenage Witch          NaN   \n",
       "\n",
       "                                                                       genres  \\\n",
       "title                                                                           \n",
       "Tangled                     Adventure|Animation|Comedy|Family|Fantasy|Musi...   \n",
       "Shrek the Third                     Adventure|Animation|Comedy|Family|Fantasy   \n",
       "X-Men 2                              Action|Adventure|Fantasy|Sci-Fi|Thriller   \n",
       "Cloud Atlas                                                      Drama|Sci-Fi   \n",
       "Divergent                                            Adventure|Mystery|Sci-Fi   \n",
       "Hidalgo                                              Action|Adventure|Western   \n",
       "Doom                                           Action|Adventure|Horror|Sci-Fi   \n",
       "Gone Girl                                        Crime|Drama|Mystery|Thriller   \n",
       "Sabrina, the Teenage Witch                              Comedy|Family|Fantasy   \n",
       "\n",
       "                            num_reviews  num_voted_users  \\\n",
       "title                                                      \n",
       "Tangled                           324.0           294810   \n",
       "Shrek the Third                   227.0           211971   \n",
       "X-Men 2                           289.0           405973   \n",
       "Cloud Atlas                       511.0           284825   \n",
       "Divergent                         459.0           341058   \n",
       "Hidalgo                           140.0            67856   \n",
       "Doom                              237.0            88146   \n",
       "Gone Girl                         568.0           569841   \n",
       "Sabrina, the Teenage Witch         20.0            24420   \n",
       "\n",
       "                                                                plot_keywords  \\\n",
       "title                                                                           \n",
       "Tangled                     17th century|based on fairy tale|disney|flower...   \n",
       "Shrek the Third             disney spoof|fairy tale|prince|princess|tough guy   \n",
       "X-Men 2                                  mutant|prison|professor|school|x men   \n",
       "Cloud Atlas                 composer|future|letter|nonlinear timeline|nurs...   \n",
       "Divergent                   army|brother sister relationship|dystopia|fath...   \n",
       "Hidalgo                                          arab|cowboy|horse|race|sheik   \n",
       "Doom                        commando unit|extra chromosome|first person sh...   \n",
       "Gone Girl                   based on novel|disappearance|missing person|mi...   \n",
       "Sabrina, the Teenage Witch  female protagonist|hereditary gift of witchcra...   \n",
       "\n",
       "                           language  country       budget  imdb_score  \n",
       "title                                                                  \n",
       "Tangled                     English      USA  260000000.0         7.8  \n",
       "Shrek the Third             English      USA  160000000.0         6.1  \n",
       "X-Men 2                     English   Canada  110000000.0         7.5  \n",
       "Cloud Atlas                 English  Germany  102000000.0         7.5  \n",
       "Divergent                   English      USA   85000000.0         6.7  \n",
       "Hidalgo                     English      USA  100000000.0         6.7  \n",
       "Doom                        English       UK   60000000.0         5.2  \n",
       "Gone Girl                   English      USA   61000000.0         8.1  \n",
       "Sabrina, the Teenage Witch  English      USA    3000000.0         6.6  "
      ]
     },
     "execution_count": 81,
     "metadata": {},
     "output_type": "execute_result"
    }
   ],
   "source": [
    "# Forrest Gump is not a multiple of 100 away from Tangled\n",
    "movie.loc['Tangled':'Forrest Gump':100]"
   ]
  },
  {
   "cell_type": "markdown",
   "metadata": {},
   "source": [
    "# 6. Selecting Subsets of Data from DataFrames with `.iloc`"
   ]
  },
  {
   "cell_type": "markdown",
   "metadata": {},
   "source": [
    "### Problem 1\n",
    "<span  style=\"color:green; font-size:16px\">Select the rows with integer location 10, 5, and 1</span>"
   ]
  },
  {
   "cell_type": "code",
   "execution_count": 82,
   "metadata": {},
   "outputs": [
    {
     "data": {
      "text/html": [
       "<div>\n",
       "<style scoped>\n",
       "    .dataframe tbody tr th:only-of-type {\n",
       "        vertical-align: middle;\n",
       "    }\n",
       "\n",
       "    .dataframe tbody tr th {\n",
       "        vertical-align: top;\n",
       "    }\n",
       "\n",
       "    .dataframe thead th {\n",
       "        text-align: right;\n",
       "    }\n",
       "</style>\n",
       "<table border=\"1\" class=\"dataframe\">\n",
       "  <thead>\n",
       "    <tr style=\"text-align: right;\">\n",
       "      <th></th>\n",
       "      <th>year</th>\n",
       "      <th>color</th>\n",
       "      <th>content_rating</th>\n",
       "      <th>duration</th>\n",
       "      <th>director_name</th>\n",
       "      <th>director_fb</th>\n",
       "      <th>actor1</th>\n",
       "      <th>actor1_fb</th>\n",
       "      <th>actor2</th>\n",
       "      <th>actor2_fb</th>\n",
       "      <th>actor3</th>\n",
       "      <th>actor3_fb</th>\n",
       "      <th>gross</th>\n",
       "      <th>genres</th>\n",
       "      <th>num_reviews</th>\n",
       "      <th>num_voted_users</th>\n",
       "      <th>plot_keywords</th>\n",
       "      <th>language</th>\n",
       "      <th>country</th>\n",
       "      <th>budget</th>\n",
       "      <th>imdb_score</th>\n",
       "    </tr>\n",
       "    <tr>\n",
       "      <th>title</th>\n",
       "      <th></th>\n",
       "      <th></th>\n",
       "      <th></th>\n",
       "      <th></th>\n",
       "      <th></th>\n",
       "      <th></th>\n",
       "      <th></th>\n",
       "      <th></th>\n",
       "      <th></th>\n",
       "      <th></th>\n",
       "      <th></th>\n",
       "      <th></th>\n",
       "      <th></th>\n",
       "      <th></th>\n",
       "      <th></th>\n",
       "      <th></th>\n",
       "      <th></th>\n",
       "      <th></th>\n",
       "      <th></th>\n",
       "      <th></th>\n",
       "      <th></th>\n",
       "    </tr>\n",
       "  </thead>\n",
       "  <tbody>\n",
       "    <tr>\n",
       "      <th>Batman v Superman: Dawn of Justice</th>\n",
       "      <td>2016.0</td>\n",
       "      <td>Color</td>\n",
       "      <td>PG-13</td>\n",
       "      <td>183.0</td>\n",
       "      <td>Zack Snyder</td>\n",
       "      <td>0.0</td>\n",
       "      <td>Henry Cavill</td>\n",
       "      <td>15000.0</td>\n",
       "      <td>Lauren Cohan</td>\n",
       "      <td>4000.0</td>\n",
       "      <td>Alan D. Purwin</td>\n",
       "      <td>2000.0</td>\n",
       "      <td>330249062.0</td>\n",
       "      <td>Action|Adventure|Sci-Fi</td>\n",
       "      <td>673.0</td>\n",
       "      <td>371639</td>\n",
       "      <td>based on comic book|batman|sequel to a reboot|...</td>\n",
       "      <td>English</td>\n",
       "      <td>USA</td>\n",
       "      <td>250000000.0</td>\n",
       "      <td>6.9</td>\n",
       "    </tr>\n",
       "    <tr>\n",
       "      <th>John Carter</th>\n",
       "      <td>2012.0</td>\n",
       "      <td>Color</td>\n",
       "      <td>PG-13</td>\n",
       "      <td>132.0</td>\n",
       "      <td>Andrew Stanton</td>\n",
       "      <td>475.0</td>\n",
       "      <td>Daryl Sabara</td>\n",
       "      <td>640.0</td>\n",
       "      <td>Samantha Morton</td>\n",
       "      <td>632.0</td>\n",
       "      <td>Polly Walker</td>\n",
       "      <td>530.0</td>\n",
       "      <td>73058679.0</td>\n",
       "      <td>Action|Adventure|Sci-Fi</td>\n",
       "      <td>462.0</td>\n",
       "      <td>212204</td>\n",
       "      <td>alien|american civil war|male nipple|mars|prin...</td>\n",
       "      <td>English</td>\n",
       "      <td>USA</td>\n",
       "      <td>263700000.0</td>\n",
       "      <td>6.6</td>\n",
       "    </tr>\n",
       "    <tr>\n",
       "      <th>Pirates of the Caribbean: At World's End</th>\n",
       "      <td>2007.0</td>\n",
       "      <td>Color</td>\n",
       "      <td>PG-13</td>\n",
       "      <td>169.0</td>\n",
       "      <td>Gore Verbinski</td>\n",
       "      <td>563.0</td>\n",
       "      <td>Johnny Depp</td>\n",
       "      <td>40000.0</td>\n",
       "      <td>Orlando Bloom</td>\n",
       "      <td>5000.0</td>\n",
       "      <td>Jack Davenport</td>\n",
       "      <td>1000.0</td>\n",
       "      <td>309404152.0</td>\n",
       "      <td>Action|Adventure|Fantasy</td>\n",
       "      <td>302.0</td>\n",
       "      <td>471220</td>\n",
       "      <td>goddess|marriage ceremony|marriage proposal|pi...</td>\n",
       "      <td>English</td>\n",
       "      <td>USA</td>\n",
       "      <td>300000000.0</td>\n",
       "      <td>7.1</td>\n",
       "    </tr>\n",
       "  </tbody>\n",
       "</table>\n",
       "</div>"
      ],
      "text/plain": [
       "                                            year  color content_rating  \\\n",
       "title                                                                    \n",
       "Batman v Superman: Dawn of Justice        2016.0  Color          PG-13   \n",
       "John Carter                               2012.0  Color          PG-13   \n",
       "Pirates of the Caribbean: At World's End  2007.0  Color          PG-13   \n",
       "\n",
       "                                          duration   director_name  \\\n",
       "title                                                                \n",
       "Batman v Superman: Dawn of Justice           183.0     Zack Snyder   \n",
       "John Carter                                  132.0  Andrew Stanton   \n",
       "Pirates of the Caribbean: At World's End     169.0  Gore Verbinski   \n",
       "\n",
       "                                          director_fb        actor1  \\\n",
       "title                                                                 \n",
       "Batman v Superman: Dawn of Justice                0.0  Henry Cavill   \n",
       "John Carter                                     475.0  Daryl Sabara   \n",
       "Pirates of the Caribbean: At World's End        563.0   Johnny Depp   \n",
       "\n",
       "                                          actor1_fb           actor2  \\\n",
       "title                                                                  \n",
       "Batman v Superman: Dawn of Justice          15000.0     Lauren Cohan   \n",
       "John Carter                                   640.0  Samantha Morton   \n",
       "Pirates of the Caribbean: At World's End    40000.0    Orlando Bloom   \n",
       "\n",
       "                                          actor2_fb          actor3  \\\n",
       "title                                                                 \n",
       "Batman v Superman: Dawn of Justice           4000.0  Alan D. Purwin   \n",
       "John Carter                                   632.0    Polly Walker   \n",
       "Pirates of the Caribbean: At World's End     5000.0  Jack Davenport   \n",
       "\n",
       "                                          actor3_fb        gross  \\\n",
       "title                                                              \n",
       "Batman v Superman: Dawn of Justice           2000.0  330249062.0   \n",
       "John Carter                                   530.0   73058679.0   \n",
       "Pirates of the Caribbean: At World's End     1000.0  309404152.0   \n",
       "\n",
       "                                                            genres  \\\n",
       "title                                                                \n",
       "Batman v Superman: Dawn of Justice         Action|Adventure|Sci-Fi   \n",
       "John Carter                                Action|Adventure|Sci-Fi   \n",
       "Pirates of the Caribbean: At World's End  Action|Adventure|Fantasy   \n",
       "\n",
       "                                          num_reviews  num_voted_users  \\\n",
       "title                                                                    \n",
       "Batman v Superman: Dawn of Justice              673.0           371639   \n",
       "John Carter                                     462.0           212204   \n",
       "Pirates of the Caribbean: At World's End        302.0           471220   \n",
       "\n",
       "                                                                              plot_keywords  \\\n",
       "title                                                                                         \n",
       "Batman v Superman: Dawn of Justice        based on comic book|batman|sequel to a reboot|...   \n",
       "John Carter                               alien|american civil war|male nipple|mars|prin...   \n",
       "Pirates of the Caribbean: At World's End  goddess|marriage ceremony|marriage proposal|pi...   \n",
       "\n",
       "                                         language country       budget  \\\n",
       "title                                                                    \n",
       "Batman v Superman: Dawn of Justice        English     USA  250000000.0   \n",
       "John Carter                               English     USA  263700000.0   \n",
       "Pirates of the Caribbean: At World's End  English     USA  300000000.0   \n",
       "\n",
       "                                          imdb_score  \n",
       "title                                                 \n",
       "Batman v Superman: Dawn of Justice               6.9  \n",
       "John Carter                                      6.6  \n",
       "Pirates of the Caribbean: At World's End         7.1  "
      ]
     },
     "execution_count": 82,
     "metadata": {},
     "output_type": "execute_result"
    }
   ],
   "source": [
    "movie.iloc[[10, 5, 1]]"
   ]
  },
  {
   "cell_type": "markdown",
   "metadata": {},
   "source": [
    "### Problem 2\n",
    "<span  style=\"color:green; font-size:16px\">Select the columns with integer location 10, 5, and 1</span>"
   ]
  },
  {
   "cell_type": "code",
   "execution_count": 83,
   "metadata": {},
   "outputs": [
    {
     "data": {
      "text/html": [
       "<div>\n",
       "<style scoped>\n",
       "    .dataframe tbody tr th:only-of-type {\n",
       "        vertical-align: middle;\n",
       "    }\n",
       "\n",
       "    .dataframe tbody tr th {\n",
       "        vertical-align: top;\n",
       "    }\n",
       "\n",
       "    .dataframe thead th {\n",
       "        text-align: right;\n",
       "    }\n",
       "</style>\n",
       "<table border=\"1\" class=\"dataframe\">\n",
       "  <thead>\n",
       "    <tr style=\"text-align: right;\">\n",
       "      <th></th>\n",
       "      <th>actor3</th>\n",
       "      <th>director_fb</th>\n",
       "      <th>color</th>\n",
       "    </tr>\n",
       "    <tr>\n",
       "      <th>title</th>\n",
       "      <th></th>\n",
       "      <th></th>\n",
       "      <th></th>\n",
       "    </tr>\n",
       "  </thead>\n",
       "  <tbody>\n",
       "    <tr>\n",
       "      <th>Avatar</th>\n",
       "      <td>Wes Studi</td>\n",
       "      <td>0.0</td>\n",
       "      <td>Color</td>\n",
       "    </tr>\n",
       "    <tr>\n",
       "      <th>Pirates of the Caribbean: At World's End</th>\n",
       "      <td>Jack Davenport</td>\n",
       "      <td>563.0</td>\n",
       "      <td>Color</td>\n",
       "    </tr>\n",
       "    <tr>\n",
       "      <th>Spectre</th>\n",
       "      <td>Stephanie Sigman</td>\n",
       "      <td>0.0</td>\n",
       "      <td>Color</td>\n",
       "    </tr>\n",
       "    <tr>\n",
       "      <th>The Dark Knight Rises</th>\n",
       "      <td>Joseph Gordon-Levitt</td>\n",
       "      <td>22000.0</td>\n",
       "      <td>Color</td>\n",
       "    </tr>\n",
       "    <tr>\n",
       "      <th>Star Wars: Episode VII - The Force Awakens</th>\n",
       "      <td>NaN</td>\n",
       "      <td>131.0</td>\n",
       "      <td>NaN</td>\n",
       "    </tr>\n",
       "  </tbody>\n",
       "</table>\n",
       "</div>"
      ],
      "text/plain": [
       "                                                          actor3  director_fb  \\\n",
       "title                                                                           \n",
       "Avatar                                                 Wes Studi          0.0   \n",
       "Pirates of the Caribbean: At World's End          Jack Davenport        563.0   \n",
       "Spectre                                         Stephanie Sigman          0.0   \n",
       "The Dark Knight Rises                       Joseph Gordon-Levitt      22000.0   \n",
       "Star Wars: Episode VII - The Force Awakens                   NaN        131.0   \n",
       "\n",
       "                                            color  \n",
       "title                                              \n",
       "Avatar                                      Color  \n",
       "Pirates of the Caribbean: At World's End    Color  \n",
       "Spectre                                     Color  \n",
       "The Dark Knight Rises                       Color  \n",
       "Star Wars: Episode VII - The Force Awakens    NaN  "
      ]
     },
     "execution_count": 83,
     "metadata": {},
     "output_type": "execute_result"
    }
   ],
   "source": [
    "movie.iloc[:, [10, 5, 1]].head()"
   ]
  },
  {
   "cell_type": "markdown",
   "metadata": {},
   "source": [
    "### Problem 3\n",
    "<span  style=\"color:green; font-size:16px\">Select rows with integer location 100 to but not including 105 along with the column integer location 5.</span>"
   ]
  },
  {
   "cell_type": "code",
   "execution_count": 84,
   "metadata": {},
   "outputs": [
    {
     "data": {
      "text/plain": [
       "title\n",
       "The Fast and the Furious                   357.0\n",
       "The Curious Case of Benjamin Button      21000.0\n",
       "X-Men: First Class                         905.0\n",
       "The Hunger Games: Mockingjay - Part 2      508.0\n",
       "The Sorcerer's Apprentice                  226.0\n",
       "Name: director_fb, dtype: float64"
      ]
     },
     "execution_count": 84,
     "metadata": {},
     "output_type": "execute_result"
    }
   ],
   "source": [
    "movie.iloc[100:105, 5]"
   ]
  },
  {
   "cell_type": "markdown",
   "metadata": {},
   "source": [
    "# 7. Selecting Subsets of Data - Series"
   ]
  },
  {
   "cell_type": "markdown",
   "metadata": {},
   "source": [
    "### Problem 1\n",
    "<span  style=\"color:green; font-size:16px\">Read in the bikes dataset. We will be using it for the next few questions. Select the wind speed column as a Series and assign it to a variable and output the head. What kind of index does this Series have?</span>"
   ]
  },
  {
   "cell_type": "code",
   "execution_count": 36,
   "metadata": {},
   "outputs": [
    {
     "data": {
      "text/html": [
       "<div>\n",
       "<style scoped>\n",
       "    .dataframe tbody tr th:only-of-type {\n",
       "        vertical-align: middle;\n",
       "    }\n",
       "\n",
       "    .dataframe tbody tr th {\n",
       "        vertical-align: top;\n",
       "    }\n",
       "\n",
       "    .dataframe thead th {\n",
       "        text-align: right;\n",
       "    }\n",
       "</style>\n",
       "<table border=\"1\" class=\"dataframe\">\n",
       "  <thead>\n",
       "    <tr style=\"text-align: right;\">\n",
       "      <th></th>\n",
       "      <th>trip_id</th>\n",
       "      <th>usertype</th>\n",
       "      <th>gender</th>\n",
       "      <th>starttime</th>\n",
       "      <th>stoptime</th>\n",
       "      <th>tripduration</th>\n",
       "      <th>from_station_name</th>\n",
       "      <th>latitude_start</th>\n",
       "      <th>longitude_start</th>\n",
       "      <th>dpcapacity_start</th>\n",
       "      <th>to_station_name</th>\n",
       "      <th>latitude_end</th>\n",
       "      <th>longitude_end</th>\n",
       "      <th>dpcapacity_end</th>\n",
       "      <th>temperature</th>\n",
       "      <th>visibility</th>\n",
       "      <th>wind_speed</th>\n",
       "      <th>precipitation</th>\n",
       "      <th>events</th>\n",
       "    </tr>\n",
       "  </thead>\n",
       "  <tbody>\n",
       "    <tr>\n",
       "      <th>0</th>\n",
       "      <td>7147</td>\n",
       "      <td>Subscriber</td>\n",
       "      <td>Male</td>\n",
       "      <td>2013-06-28 19:01:00</td>\n",
       "      <td>2013-06-28 19:17:00</td>\n",
       "      <td>993</td>\n",
       "      <td>Lake Shore Dr &amp; Monroe St</td>\n",
       "      <td>41.881050</td>\n",
       "      <td>-87.616970</td>\n",
       "      <td>11.0</td>\n",
       "      <td>Michigan Ave &amp; Oak St</td>\n",
       "      <td>41.900960</td>\n",
       "      <td>-87.623777</td>\n",
       "      <td>15.0</td>\n",
       "      <td>73.9</td>\n",
       "      <td>10.0</td>\n",
       "      <td>12.7</td>\n",
       "      <td>-9999.0</td>\n",
       "      <td>mostlycloudy</td>\n",
       "    </tr>\n",
       "    <tr>\n",
       "      <th>1</th>\n",
       "      <td>7524</td>\n",
       "      <td>Subscriber</td>\n",
       "      <td>Male</td>\n",
       "      <td>2013-06-28 22:53:00</td>\n",
       "      <td>2013-06-28 23:03:00</td>\n",
       "      <td>623</td>\n",
       "      <td>Clinton St &amp; Washington Blvd</td>\n",
       "      <td>41.883380</td>\n",
       "      <td>-87.641170</td>\n",
       "      <td>31.0</td>\n",
       "      <td>Wells St &amp; Walton St</td>\n",
       "      <td>41.899930</td>\n",
       "      <td>-87.634430</td>\n",
       "      <td>19.0</td>\n",
       "      <td>69.1</td>\n",
       "      <td>10.0</td>\n",
       "      <td>6.9</td>\n",
       "      <td>-9999.0</td>\n",
       "      <td>partlycloudy</td>\n",
       "    </tr>\n",
       "    <tr>\n",
       "      <th>2</th>\n",
       "      <td>10927</td>\n",
       "      <td>Subscriber</td>\n",
       "      <td>Male</td>\n",
       "      <td>2013-06-30 14:43:00</td>\n",
       "      <td>2013-06-30 15:01:00</td>\n",
       "      <td>1040</td>\n",
       "      <td>Sheffield Ave &amp; Kingsbury St</td>\n",
       "      <td>41.909592</td>\n",
       "      <td>-87.653497</td>\n",
       "      <td>15.0</td>\n",
       "      <td>Dearborn St &amp; Monroe St</td>\n",
       "      <td>41.881320</td>\n",
       "      <td>-87.629521</td>\n",
       "      <td>23.0</td>\n",
       "      <td>73.0</td>\n",
       "      <td>10.0</td>\n",
       "      <td>16.1</td>\n",
       "      <td>-9999.0</td>\n",
       "      <td>mostlycloudy</td>\n",
       "    </tr>\n",
       "    <tr>\n",
       "      <th>3</th>\n",
       "      <td>12907</td>\n",
       "      <td>Subscriber</td>\n",
       "      <td>Male</td>\n",
       "      <td>2013-07-01 10:05:00</td>\n",
       "      <td>2013-07-01 10:16:00</td>\n",
       "      <td>667</td>\n",
       "      <td>Carpenter St &amp; Huron St</td>\n",
       "      <td>41.894556</td>\n",
       "      <td>-87.653449</td>\n",
       "      <td>19.0</td>\n",
       "      <td>Clark St &amp; Randolph St</td>\n",
       "      <td>41.884576</td>\n",
       "      <td>-87.631890</td>\n",
       "      <td>31.0</td>\n",
       "      <td>72.0</td>\n",
       "      <td>10.0</td>\n",
       "      <td>16.1</td>\n",
       "      <td>-9999.0</td>\n",
       "      <td>mostlycloudy</td>\n",
       "    </tr>\n",
       "    <tr>\n",
       "      <th>4</th>\n",
       "      <td>13168</td>\n",
       "      <td>Subscriber</td>\n",
       "      <td>Male</td>\n",
       "      <td>2013-07-01 11:16:00</td>\n",
       "      <td>2013-07-01 11:18:00</td>\n",
       "      <td>130</td>\n",
       "      <td>Damen Ave &amp; Pierce Ave</td>\n",
       "      <td>41.909396</td>\n",
       "      <td>-87.677692</td>\n",
       "      <td>19.0</td>\n",
       "      <td>Damen Ave &amp; Pierce Ave</td>\n",
       "      <td>41.909396</td>\n",
       "      <td>-87.677692</td>\n",
       "      <td>19.0</td>\n",
       "      <td>73.0</td>\n",
       "      <td>10.0</td>\n",
       "      <td>17.3</td>\n",
       "      <td>-9999.0</td>\n",
       "      <td>partlycloudy</td>\n",
       "    </tr>\n",
       "  </tbody>\n",
       "</table>\n",
       "</div>"
      ],
      "text/plain": [
       "   trip_id    usertype gender            starttime             stoptime  \\\n",
       "0     7147  Subscriber   Male  2013-06-28 19:01:00  2013-06-28 19:17:00   \n",
       "1     7524  Subscriber   Male  2013-06-28 22:53:00  2013-06-28 23:03:00   \n",
       "2    10927  Subscriber   Male  2013-06-30 14:43:00  2013-06-30 15:01:00   \n",
       "3    12907  Subscriber   Male  2013-07-01 10:05:00  2013-07-01 10:16:00   \n",
       "4    13168  Subscriber   Male  2013-07-01 11:16:00  2013-07-01 11:18:00   \n",
       "\n",
       "   tripduration             from_station_name  latitude_start  \\\n",
       "0           993     Lake Shore Dr & Monroe St       41.881050   \n",
       "1           623  Clinton St & Washington Blvd       41.883380   \n",
       "2          1040  Sheffield Ave & Kingsbury St       41.909592   \n",
       "3           667       Carpenter St & Huron St       41.894556   \n",
       "4           130        Damen Ave & Pierce Ave       41.909396   \n",
       "\n",
       "   longitude_start  dpcapacity_start          to_station_name  latitude_end  \\\n",
       "0       -87.616970              11.0    Michigan Ave & Oak St     41.900960   \n",
       "1       -87.641170              31.0     Wells St & Walton St     41.899930   \n",
       "2       -87.653497              15.0  Dearborn St & Monroe St     41.881320   \n",
       "3       -87.653449              19.0   Clark St & Randolph St     41.884576   \n",
       "4       -87.677692              19.0   Damen Ave & Pierce Ave     41.909396   \n",
       "\n",
       "   longitude_end  dpcapacity_end  temperature  visibility  wind_speed  \\\n",
       "0     -87.623777            15.0         73.9        10.0        12.7   \n",
       "1     -87.634430            19.0         69.1        10.0         6.9   \n",
       "2     -87.629521            23.0         73.0        10.0        16.1   \n",
       "3     -87.631890            31.0         72.0        10.0        16.1   \n",
       "4     -87.677692            19.0         73.0        10.0        17.3   \n",
       "\n",
       "   precipitation        events  \n",
       "0        -9999.0  mostlycloudy  \n",
       "1        -9999.0  partlycloudy  \n",
       "2        -9999.0  mostlycloudy  \n",
       "3        -9999.0  mostlycloudy  \n",
       "4        -9999.0  partlycloudy  "
      ]
     },
     "execution_count": 36,
     "metadata": {},
     "output_type": "execute_result"
    }
   ],
   "source": [
    "bikes = pd.read_csv('../data/bikes.csv')\n",
    "bikes.head()"
   ]
  },
  {
   "cell_type": "code",
   "execution_count": 38,
   "metadata": {},
   "outputs": [
    {
     "data": {
      "text/plain": [
       "0    12.7\n",
       "1     6.9\n",
       "2    16.1\n",
       "3    16.1\n",
       "4    17.3\n",
       "Name: wind_speed, dtype: float64"
      ]
     },
     "execution_count": 38,
     "metadata": {},
     "output_type": "execute_result"
    }
   ],
   "source": [
    "wind = bikes['wind_speed']\n",
    "wind.head()"
   ]
  },
  {
   "cell_type": "markdown",
   "metadata": {},
   "source": [
    "This index is a **`RangeIndex`**"
   ]
  },
  {
   "cell_type": "code",
   "execution_count": 39,
   "metadata": {},
   "outputs": [
    {
     "data": {
      "text/plain": [
       "RangeIndex(start=0, stop=50089, step=1)"
      ]
     },
     "execution_count": 39,
     "metadata": {},
     "output_type": "execute_result"
    }
   ],
   "source": [
    "wind.index"
   ]
  },
  {
   "cell_type": "code",
   "execution_count": 42,
   "metadata": {},
   "outputs": [
    {
     "data": {
      "text/plain": [
       "4     17.3\n",
       "5     17.3\n",
       "6     15.0\n",
       "7      5.8\n",
       "8      0.0\n",
       "9     12.7\n",
       "10     9.2\n",
       "Name: wind_speed, dtype: float64"
      ]
     },
     "execution_count": 42,
     "metadata": {},
     "output_type": "execute_result"
    }
   ],
   "source": [
    "wind.loc[4:10]"
   ]
  },
  {
   "cell_type": "markdown",
   "metadata": {},
   "source": [
    "### Problem 2\n",
    "<span  style=\"color:green; font-size:16px\">From the wind speed Series, select the integer locations 4 through, but not including 10</span>"
   ]
  },
  {
   "cell_type": "code",
   "execution_count": 43,
   "metadata": {},
   "outputs": [
    {
     "data": {
      "text/plain": [
       "4    17.3\n",
       "5    17.3\n",
       "6    15.0\n",
       "7     5.8\n",
       "8     0.0\n",
       "9    12.7\n",
       "Name: wind_speed, dtype: float64"
      ]
     },
     "execution_count": 43,
     "metadata": {},
     "output_type": "execute_result"
    }
   ],
   "source": [
    "wind.iloc[4:10]"
   ]
  },
  {
   "cell_type": "markdown",
   "metadata": {},
   "source": [
    "### Problem 3\n",
    "<span  style=\"color:green; font-size:16px\">Copy and paste your answer to problem 2 below but use `.loc` instead. Do you get the same result? Why not?</span>"
   ]
  },
  {
   "cell_type": "code",
   "execution_count": 44,
   "metadata": {},
   "outputs": [
    {
     "data": {
      "text/plain": [
       "4     17.3\n",
       "5     17.3\n",
       "6     15.0\n",
       "7      5.8\n",
       "8      0.0\n",
       "9     12.7\n",
       "10     9.2\n",
       "Name: wind_speed, dtype: float64"
      ]
     },
     "execution_count": 44,
     "metadata": {},
     "output_type": "execute_result"
    }
   ],
   "source": [
    "wind.loc[4:10]"
   ]
  },
  {
   "cell_type": "markdown",
   "metadata": {},
   "source": [
    "This is tricky - the index in this case contains integers and not strings. So the labels themselves are also integers and happen to be the same integers corresponding to integer location. The reason `.iloc` and `.loc` produce different results is that `.loc` always includes the last value when slicing."
   ]
  },
  {
   "cell_type": "markdown",
   "metadata": {},
   "source": [
    "### Problem 4\n",
    "<span  style=\"color:green; font-size:16px\">Read in the movie dataset and set the index to be the title. Select `actor1` as a Series. Who is the `actor1` for 'My Big Fat Greek Wedding'?</span>"
   ]
  },
  {
   "cell_type": "code",
   "execution_count": 88,
   "metadata": {},
   "outputs": [],
   "source": [
    "movie = pd.read_csv('../data/movie.csv', index_col='title')\n",
    "actor1 = movie['actor1']"
   ]
  },
  {
   "cell_type": "code",
   "execution_count": 89,
   "metadata": {},
   "outputs": [
    {
     "data": {
      "text/plain": [
       "'Nia Vardalos'"
      ]
     },
     "execution_count": 89,
     "metadata": {},
     "output_type": "execute_result"
    }
   ],
   "source": [
    "actor1.loc['My Big Fat Greek Wedding']"
   ]
  },
  {
   "cell_type": "markdown",
   "metadata": {},
   "source": [
    "### Problem 5\n",
    "<span  style=\"color:green; font-size:16px\">Find `actor1` for your favorite two movies?</span>"
   ]
  },
  {
   "cell_type": "code",
   "execution_count": 91,
   "metadata": {},
   "outputs": [
    {
     "data": {
      "text/plain": [
       "title\n",
       "Titanic          Leonardo DiCaprio\n",
       "Blood Diamond    Leonardo DiCaprio\n",
       "Name: actor1, dtype: object"
      ]
     },
     "execution_count": 91,
     "metadata": {},
     "output_type": "execute_result"
    }
   ],
   "source": [
    "actor1.loc[['Titanic', 'Blood Diamond']]"
   ]
  },
  {
   "cell_type": "markdown",
   "metadata": {},
   "source": [
    "### Problem 6\n",
    "<span  style=\"color:green; font-size:16px\">Select the last 10 values from `actor1` using two different ways?</span>"
   ]
  },
  {
   "cell_type": "code",
   "execution_count": 92,
   "metadata": {},
   "outputs": [
    {
     "data": {
      "text/plain": [
       "title\n",
       "Primer                       Shane Carruth\n",
       "Cavite                         Ian Gamazon\n",
       "El Mariachi                Carlos Gallardo\n",
       "The Mongol King             Richard Jewell\n",
       "Newlyweds                      Kerry Bishé\n",
       "Signed Sealed Delivered        Eric Mabius\n",
       "The Following                  Natalie Zea\n",
       "A Plague So Pleasant           Eva Boehnke\n",
       "Shanghai Calling                 Alan Ruck\n",
       "My Date with Drew              John August\n",
       "Name: actor1, dtype: object"
      ]
     },
     "execution_count": 92,
     "metadata": {},
     "output_type": "execute_result"
    }
   ],
   "source": [
    "actor1.iloc[-10:]"
   ]
  },
  {
   "cell_type": "code",
   "execution_count": 93,
   "metadata": {},
   "outputs": [
    {
     "data": {
      "text/plain": [
       "title\n",
       "Primer                       Shane Carruth\n",
       "Cavite                         Ian Gamazon\n",
       "El Mariachi                Carlos Gallardo\n",
       "The Mongol King             Richard Jewell\n",
       "Newlyweds                      Kerry Bishé\n",
       "Signed Sealed Delivered        Eric Mabius\n",
       "The Following                  Natalie Zea\n",
       "A Plague So Pleasant           Eva Boehnke\n",
       "Shanghai Calling                 Alan Ruck\n",
       "My Date with Drew              John August\n",
       "Name: actor1, dtype: object"
      ]
     },
     "execution_count": 93,
     "metadata": {},
     "output_type": "execute_result"
    }
   ],
   "source": [
    "actor1.tail(10)"
   ]
  }
 ],
 "metadata": {
  "anaconda-cloud": {},
  "kernelspec": {
   "display_name": "Python 3",
   "language": "python",
   "name": "python3"
  },
  "language_info": {
   "codemirror_mode": {
    "name": "ipython",
    "version": 3
   },
   "file_extension": ".py",
   "mimetype": "text/x-python",
   "name": "python",
   "nbconvert_exporter": "python",
   "pygments_lexer": "ipython3",
   "version": "3.6.4"
  },
  "varInspector": {
   "cols": {
    "lenName": 16,
    "lenType": 16,
    "lenVar": 40
   },
   "kernels_config": {
    "python": {
     "delete_cmd_postfix": "",
     "delete_cmd_prefix": "del ",
     "library": "var_list.py",
     "varRefreshCmd": "print(var_dic_list())"
    },
    "r": {
     "delete_cmd_postfix": ") ",
     "delete_cmd_prefix": "rm(",
     "library": "var_list.r",
     "varRefreshCmd": "cat(var_dic_list()) "
    }
   },
   "types_to_exclude": [
    "module",
    "function",
    "builtin_function_or_method",
    "instance",
    "_Feature"
   ],
   "window_display": false
  }
 },
 "nbformat": 4,
 "nbformat_minor": 2
}
